{
 "cells": [
  {
   "cell_type": "raw",
   "id": "43760f2b",
   "metadata": {},
   "source": [
    "---\n",
    "title: \"L05: Functions, packages\"\n",
    "---"
   ]
  },
  {
   "cell_type": "markdown",
   "id": "978e281b",
   "metadata": {},
   "source": [
    "# Lecture Overview\n",
    "\n",
    "In this lecture we introduce \"functions\" which give us a way to re-use a piece of code without having to type it all out every time we need to use it. We show how to construct functions (\"define\" them) and how to use them (\"call\" them). \n",
    "\n",
    "We then introduce \"packages\", which give us a way to bundle multiple functions under a single name. \n",
    "\n",
    "Finally, we show how functions and packages give us a way to chain together multiple Python commands on a single line of code."
   ]
  },
  {
   "cell_type": "markdown",
   "id": "07e8dd29",
   "metadata": {},
   "source": [
    "# Functions\n",
    "\n",
    "Functions are pieces of code with a name. The general syntax for creating a function is as follow:\n",
    "\n",
    "```python\n",
    "def <functionName>(<functionArguments>):\n",
    "    <statement(s)>\n",
    "    return <value>\n",
    "```\n",
    "Declared as above, functions take in some data (\\<functionArguments\\>), perform some calculation based on that data (\\<statement(s)\\>), and output the results of that calculation to be used later on in the program (return \\<\\value>).\n",
    "\n",
    "We will see below, that one can omit the function arguments, the statements in the body of the function, or the return statement at the end (though not all at once).\n",
    "\n",
    "Here is a very simple example of a function that calculates the sum of its arguments and outputs (returns) the value of that sum:"
   ]
  },
  {
   "cell_type": "code",
   "execution_count": 2,
   "id": "2a1c48f0",
   "metadata": {},
   "outputs": [],
   "source": [
    "def mysum(a,b):\n",
    "    c = a + b\n",
    "    return c"
   ]
  },
  {
   "cell_type": "markdown",
   "id": "4d94aedf",
   "metadata": {},
   "source": [
    "Note that the above code only \"**defines**\" what the function \"mysum\" does, but it does not actually \"do\" anything (no calculation is actually performed). To make the function do something, we need to use it in an expression (this is referred to as \"**calling**\" the function):"
   ]
  },
  {
   "cell_type": "code",
   "execution_count": 3,
   "id": "0d132c75",
   "metadata": {},
   "outputs": [
    {
     "name": "stdout",
     "output_type": "stream",
     "text": [
      "3\n"
     ]
    }
   ],
   "source": [
    "print(mysum(1,2))"
   ]
  },
  {
   "cell_type": "code",
   "execution_count": 4,
   "id": "cb59b8ba",
   "metadata": {},
   "outputs": [
    {
     "name": "stdout",
     "output_type": "stream",
     "text": [
      "7\n"
     ]
    }
   ],
   "source": [
    "d = mysum(2,5)\n",
    "print(d)"
   ]
  },
  {
   "cell_type": "markdown",
   "id": "79ec5ba9",
   "metadata": {},
   "source": [
    "Some functions have no arguments:"
   ]
  },
  {
   "cell_type": "code",
   "execution_count": 5,
   "id": "7e28cead",
   "metadata": {},
   "outputs": [],
   "source": [
    "def f():\n",
    "    print(\"abc\")\n",
    "    return 25"
   ]
  },
  {
   "cell_type": "code",
   "execution_count": 6,
   "id": "4de77541",
   "metadata": {},
   "outputs": [
    {
     "name": "stdout",
     "output_type": "stream",
     "text": [
      "abc\n"
     ]
    },
    {
     "data": {
      "text/plain": [
       "25"
      ]
     },
     "execution_count": 6,
     "metadata": {},
     "output_type": "execute_result"
    }
   ],
   "source": [
    "f()"
   ]
  },
  {
   "cell_type": "code",
   "execution_count": 7,
   "id": "910f93c0",
   "metadata": {},
   "outputs": [
    {
     "name": "stdout",
     "output_type": "stream",
     "text": [
      "abc\n"
     ]
    }
   ],
   "source": [
    "c = f()"
   ]
  },
  {
   "cell_type": "code",
   "execution_count": 8,
   "id": "b265982c",
   "metadata": {},
   "outputs": [
    {
     "name": "stdout",
     "output_type": "stream",
     "text": [
      "25\n"
     ]
    }
   ],
   "source": [
    "print(c)"
   ]
  },
  {
   "cell_type": "markdown",
   "id": "e788c8a2",
   "metadata": {},
   "source": [
    "Some functions have no statements in their body:"
   ]
  },
  {
   "cell_type": "code",
   "execution_count": 9,
   "id": "97c43ed0",
   "metadata": {},
   "outputs": [],
   "source": [
    "def mysum2(a,b):\n",
    "    return a+b"
   ]
  },
  {
   "cell_type": "code",
   "execution_count": 10,
   "id": "48175d34",
   "metadata": {},
   "outputs": [
    {
     "name": "stdout",
     "output_type": "stream",
     "text": [
      "8\n"
     ]
    }
   ],
   "source": [
    "print(mysum2(3,5))"
   ]
  },
  {
   "cell_type": "markdown",
   "id": "a3c6d52e",
   "metadata": {},
   "source": [
    "Some functions have no return statement:"
   ]
  },
  {
   "cell_type": "code",
   "execution_count": 11,
   "id": "5c91ce6c",
   "metadata": {},
   "outputs": [],
   "source": [
    "def myprint(a,b,c):\n",
    "    print(a+b+c)"
   ]
  },
  {
   "cell_type": "code",
   "execution_count": 12,
   "id": "0268bac0",
   "metadata": {},
   "outputs": [
    {
     "name": "stdout",
     "output_type": "stream",
     "text": [
      "6\n"
     ]
    }
   ],
   "source": [
    "myprint(1,2,3)"
   ]
  },
  {
   "cell_type": "code",
   "execution_count": 13,
   "id": "ca46dce3",
   "metadata": {},
   "outputs": [
    {
     "name": "stdout",
     "output_type": "stream",
     "text": [
      "abc\n"
     ]
    }
   ],
   "source": [
    "myprint('a','b','c')"
   ]
  },
  {
   "cell_type": "code",
   "execution_count": 14,
   "id": "b0d5b418",
   "metadata": {},
   "outputs": [
    {
     "name": "stdout",
     "output_type": "stream",
     "text": [
      "[1, 2, 'b']\n"
     ]
    }
   ],
   "source": [
    "myprint([1,2],['b'],[])"
   ]
  },
  {
   "cell_type": "markdown",
   "id": "5e3a4bae",
   "metadata": {},
   "source": [
    "Functions without a return statements, do actually return something: the Python value \"None\":"
   ]
  },
  {
   "cell_type": "code",
   "execution_count": 15,
   "id": "b35bd276",
   "metadata": {},
   "outputs": [
    {
     "name": "stdout",
     "output_type": "stream",
     "text": [
      "6\n",
      "None\n"
     ]
    }
   ],
   "source": [
    "c = myprint(1,2,3)\n",
    "print(c)"
   ]
  },
  {
   "cell_type": "markdown",
   "id": "08beb463",
   "metadata": {},
   "source": [
    "When a function executes a return statement, it does not execute any remaining code in the body of the function (i.e. it **exits**):"
   ]
  },
  {
   "cell_type": "code",
   "execution_count": 16,
   "id": "956c9d37",
   "metadata": {},
   "outputs": [],
   "source": [
    "def func():\n",
    "    return 2\n",
    "    print(\"123\")"
   ]
  },
  {
   "cell_type": "code",
   "execution_count": 17,
   "id": "905d591a",
   "metadata": {},
   "outputs": [
    {
     "data": {
      "text/plain": [
       "2"
      ]
     },
     "execution_count": 17,
     "metadata": {},
     "output_type": "execute_result"
    }
   ],
   "source": [
    "func()"
   ]
  },
  {
   "cell_type": "markdown",
   "id": "fa90b3af",
   "metadata": {},
   "source": [
    "## Positional vs keyword arguments"
   ]
  },
  {
   "cell_type": "markdown",
   "id": "8a15b8d7",
   "metadata": {},
   "source": [
    "When you call (use) a function, you can provide arguments based on their name (keyword arguments), or based on their position (positional arguments)"
   ]
  },
  {
   "cell_type": "code",
   "execution_count": 18,
   "id": "e03d1d7f",
   "metadata": {},
   "outputs": [],
   "source": [
    "def msg(name,age):\n",
    "    print(f\"{name} is {age} years old\")"
   ]
  },
  {
   "cell_type": "markdown",
   "id": "d051f853",
   "metadata": {},
   "source": [
    "Using positional arguments:"
   ]
  },
  {
   "cell_type": "code",
   "execution_count": 19,
   "id": "4930981c",
   "metadata": {},
   "outputs": [
    {
     "name": "stdout",
     "output_type": "stream",
     "text": [
      "Mihai is 104 years old\n"
     ]
    }
   ],
   "source": [
    "msg(\"Mihai\", 104)"
   ]
  },
  {
   "cell_type": "markdown",
   "id": "56d46e75",
   "metadata": {},
   "source": [
    "Using keyword arguments:"
   ]
  },
  {
   "cell_type": "code",
   "execution_count": 20,
   "id": "7d5ac35d",
   "metadata": {},
   "outputs": [
    {
     "name": "stdout",
     "output_type": "stream",
     "text": [
      "Mihai is 104 years old\n"
     ]
    }
   ],
   "source": [
    "msg(name = \"Mihai\", age = 104)"
   ]
  },
  {
   "cell_type": "markdown",
   "id": "9c589080",
   "metadata": {},
   "source": [
    "The benefit of using keyword arguments is that you don't have to remember their order in the function definition, and accidentally do something like this:"
   ]
  },
  {
   "cell_type": "code",
   "execution_count": 21,
   "id": "039e832b",
   "metadata": {},
   "outputs": [
    {
     "name": "stdout",
     "output_type": "stream",
     "text": [
      "104 is Mihai years old\n"
     ]
    }
   ],
   "source": [
    "msg(104,\"Mihai\")"
   ]
  },
  {
   "cell_type": "markdown",
   "id": "bd2cf02d",
   "metadata": {},
   "source": [
    "As long as you remember the keywords (\"age\" and \"name\" in our example), you don't have to worry about the order in which you supply them to the function call:"
   ]
  },
  {
   "cell_type": "code",
   "execution_count": 22,
   "id": "82aad87c",
   "metadata": {},
   "outputs": [
    {
     "name": "stdout",
     "output_type": "stream",
     "text": [
      "Mihai is 104 years old\n"
     ]
    }
   ],
   "source": [
    "msg(age = 104, name = \"Mihai\")"
   ]
  },
  {
   "cell_type": "markdown",
   "id": "e19172ba",
   "metadata": {},
   "source": [
    "The drawback of keyword arguments is that you have to remember the keywords:"
   ]
  },
  {
   "cell_type": "code",
   "execution_count": 23,
   "id": "cc7ae756",
   "metadata": {},
   "outputs": [
    {
     "ename": "TypeError",
     "evalue": "msg() got an unexpected keyword argument 'n'",
     "output_type": "error",
     "traceback": [
      "\u001b[1;31m---------------------------------------------------------------------------\u001b[0m",
      "\u001b[1;31mTypeError\u001b[0m                                 Traceback (most recent call last)",
      "\u001b[1;32m~\\AppData\\Local\\Temp/ipykernel_8624/2644771396.py\u001b[0m in \u001b[0;36m<module>\u001b[1;34m\u001b[0m\n\u001b[1;32m----> 1\u001b[1;33m \u001b[0mmsg\u001b[0m\u001b[1;33m(\u001b[0m\u001b[0mage\u001b[0m \u001b[1;33m=\u001b[0m \u001b[1;36m5\u001b[0m\u001b[1;33m,\u001b[0m \u001b[0mn\u001b[0m \u001b[1;33m=\u001b[0m \u001b[1;34m\"Mihai\"\u001b[0m\u001b[1;33m)\u001b[0m\u001b[1;33m\u001b[0m\u001b[1;33m\u001b[0m\u001b[0m\n\u001b[0m",
      "\u001b[1;31mTypeError\u001b[0m: msg() got an unexpected keyword argument 'n'"
     ]
    }
   ],
   "source": [
    "msg(age = 5, n = \"Mihai\")"
   ]
  },
  {
   "cell_type": "markdown",
   "id": "de6c1710",
   "metadata": {},
   "source": [
    "## Required vs optional parameters"
   ]
  },
  {
   "cell_type": "markdown",
   "id": "a36ee404",
   "metadata": {},
   "source": [
    "Regardless of whether we use positional or keyword arguments, in the examples above, we always had to supply the correct *number* of arguments:"
   ]
  },
  {
   "cell_type": "code",
   "execution_count": 24,
   "id": "ca264a69",
   "metadata": {},
   "outputs": [
    {
     "ename": "TypeError",
     "evalue": "msg() takes 2 positional arguments but 3 were given",
     "output_type": "error",
     "traceback": [
      "\u001b[1;31m---------------------------------------------------------------------------\u001b[0m",
      "\u001b[1;31mTypeError\u001b[0m                                 Traceback (most recent call last)",
      "\u001b[1;32m~\\AppData\\Local\\Temp/ipykernel_8624/2855629375.py\u001b[0m in \u001b[0;36m<module>\u001b[1;34m\u001b[0m\n\u001b[1;32m----> 1\u001b[1;33m \u001b[0mmsg\u001b[0m\u001b[1;33m(\u001b[0m\u001b[1;34m\"mihai\"\u001b[0m\u001b[1;33m,\u001b[0m\u001b[1;36m5\u001b[0m\u001b[1;33m,\u001b[0m \u001b[1;33m[\u001b[0m\u001b[1;36m123\u001b[0m\u001b[1;33m]\u001b[0m\u001b[1;33m)\u001b[0m\u001b[1;33m\u001b[0m\u001b[1;33m\u001b[0m\u001b[0m\n\u001b[0m",
      "\u001b[1;31mTypeError\u001b[0m: msg() takes 2 positional arguments but 3 were given"
     ]
    }
   ],
   "source": [
    "msg(\"mihai\",5, [123])"
   ]
  },
  {
   "cell_type": "code",
   "execution_count": 25,
   "id": "2a4f20cd",
   "metadata": {},
   "outputs": [
    {
     "ename": "TypeError",
     "evalue": "msg() missing 1 required positional argument: 'age'",
     "output_type": "error",
     "traceback": [
      "\u001b[1;31m---------------------------------------------------------------------------\u001b[0m",
      "\u001b[1;31mTypeError\u001b[0m                                 Traceback (most recent call last)",
      "\u001b[1;32m~\\AppData\\Local\\Temp/ipykernel_8624/3625664723.py\u001b[0m in \u001b[0;36m<module>\u001b[1;34m\u001b[0m\n\u001b[1;32m----> 1\u001b[1;33m \u001b[0mmsg\u001b[0m\u001b[1;33m(\u001b[0m\u001b[0mname\u001b[0m \u001b[1;33m=\u001b[0m \u001b[1;34m'mihai'\u001b[0m\u001b[1;33m)\u001b[0m\u001b[1;33m\u001b[0m\u001b[1;33m\u001b[0m\u001b[0m\n\u001b[0m",
      "\u001b[1;31mTypeError\u001b[0m: msg() missing 1 required positional argument: 'age'"
     ]
    }
   ],
   "source": [
    "msg(name = 'mihai')"
   ]
  },
  {
   "cell_type": "markdown",
   "id": "84f19334",
   "metadata": {},
   "source": [
    "To get around this issue, we can supply **default values** for some of the parameters **when we define the function**, even if these default values are \"empty\" (using the None value):"
   ]
  },
  {
   "cell_type": "code",
   "execution_count": 23,
   "id": "0f73ac02",
   "metadata": {},
   "outputs": [],
   "source": [
    "def msg2(name, age = 12):\n",
    "    print(f\"{name} is {age} years old\")"
   ]
  },
  {
   "cell_type": "code",
   "execution_count": 24,
   "id": "0a81e345",
   "metadata": {},
   "outputs": [
    {
     "name": "stdout",
     "output_type": "stream",
     "text": [
      "mihai is 12 years old\n"
     ]
    }
   ],
   "source": [
    "msg2(name = \"mihai\")"
   ]
  },
  {
   "cell_type": "markdown",
   "id": "84c79e17",
   "metadata": {},
   "source": [
    "If we don't have to give a meaningful default value to a parameter, we can use the \"None\" value:"
   ]
  },
  {
   "cell_type": "code",
   "execution_count": 25,
   "id": "71a32d3e",
   "metadata": {},
   "outputs": [],
   "source": [
    "def msg2(name, age = None):\n",
    "    print(f\"{name} is {age} years old\")"
   ]
  },
  {
   "cell_type": "code",
   "execution_count": 26,
   "id": "f37739cb",
   "metadata": {},
   "outputs": [
    {
     "name": "stdout",
     "output_type": "stream",
     "text": [
      "mihai is None years old\n"
     ]
    }
   ],
   "source": [
    "msg2('mihai')"
   ]
  },
  {
   "cell_type": "markdown",
   "id": "bbfdbc8d",
   "metadata": {},
   "source": [
    "The one rule you need to remember about optional parameters (ones with a default value) is that they need to be specified AFTER all the require parameters:"
   ]
  },
  {
   "cell_type": "code",
   "execution_count": 27,
   "id": "f3b0f144",
   "metadata": {},
   "outputs": [
    {
     "ename": "SyntaxError",
     "evalue": "non-default argument follows default argument (Temp/ipykernel_15972/4155387656.py, line 1)",
     "output_type": "error",
     "traceback": [
      "\u001b[1;36m  File \u001b[1;32m\"C:\\Users\\ionmi\\AppData\\Local\\Temp/ipykernel_15972/4155387656.py\"\u001b[1;36m, line \u001b[1;32m1\u001b[0m\n\u001b[1;33m    def msg3(name = '', age):\u001b[0m\n\u001b[1;37m             ^\u001b[0m\n\u001b[1;31mSyntaxError\u001b[0m\u001b[1;31m:\u001b[0m non-default argument follows default argument\n"
     ]
    }
   ],
   "source": [
    "def msg3(name = '', age):\n",
    "    print('this will not work')"
   ]
  },
  {
   "cell_type": "markdown",
   "id": "91c296f6",
   "metadata": {},
   "source": [
    "## Advanced properties of functions (OPTIONAL)"
   ]
  },
  {
   "cell_type": "markdown",
   "id": "59271af8",
   "metadata": {},
   "source": [
    "### Side-effects\n",
    "\n",
    "In some instances, functions can alter the value of the objects used as their parameters:"
   ]
  },
  {
   "cell_type": "code",
   "execution_count": 28,
   "id": "257ae479",
   "metadata": {},
   "outputs": [],
   "source": [
    "def changeme(x):\n",
    "    x[0] = \"weird\""
   ]
  },
  {
   "cell_type": "code",
   "execution_count": 29,
   "id": "2c358c65",
   "metadata": {},
   "outputs": [
    {
     "name": "stdout",
     "output_type": "stream",
     "text": [
      "['weird', 2, 3]\n"
     ]
    }
   ],
   "source": [
    "mylist = [1,2,3]\n",
    "changeme(mylist)\n",
    "print(mylist)"
   ]
  },
  {
   "cell_type": "markdown",
   "id": "c4f7dff7",
   "metadata": {},
   "source": [
    "In some instances, functions can NOT alter the value of their arguments:"
   ]
  },
  {
   "cell_type": "code",
   "execution_count": 30,
   "id": "17596c17",
   "metadata": {},
   "outputs": [],
   "source": [
    "def changeme2(x):\n",
    "    x = \"weird\""
   ]
  },
  {
   "cell_type": "code",
   "execution_count": 31,
   "id": "c5a7982f",
   "metadata": {},
   "outputs": [
    {
     "name": "stdout",
     "output_type": "stream",
     "text": [
      "12\n"
     ]
    }
   ],
   "source": [
    "mylist = 12\n",
    "changeme2(mylist)\n",
    "print(mylist)"
   ]
  },
  {
   "cell_type": "markdown",
   "id": "391f09fa",
   "metadata": {},
   "source": [
    "As a general rule, functions can modify the values of arguments of mutable type (e.g. list, dict) but not the values of arguments of immutable type (e.g. int, str, tuple). If you are interested in more details, a nice discussion is provided here:\n",
    "https://realpython.com/defining-your-own-python-function/#argument-passing"
   ]
  },
  {
   "cell_type": "markdown",
   "id": "bdf01b7f",
   "metadata": {},
   "source": [
    "### Variable-length argument lists\n",
    "\n",
    "You don't have to decide how many arguments your function should take when you define that function. For example, the function below can take in ANY number of arguments and prints them all out:"
   ]
  },
  {
   "cell_type": "code",
   "execution_count": 32,
   "id": "91e388d6",
   "metadata": {},
   "outputs": [],
   "source": [
    "def printme(*args):\n",
    "    print(args)"
   ]
  },
  {
   "cell_type": "code",
   "execution_count": 33,
   "id": "3ec21752",
   "metadata": {},
   "outputs": [
    {
     "name": "stdout",
     "output_type": "stream",
     "text": [
      "(1, 2, 3)\n"
     ]
    }
   ],
   "source": [
    "printme(1,2,3)"
   ]
  },
  {
   "cell_type": "code",
   "execution_count": 34,
   "id": "e2a1091e",
   "metadata": {},
   "outputs": [
    {
     "name": "stdout",
     "output_type": "stream",
     "text": [
      "(1, 2, 3, 4, 5)\n"
     ]
    }
   ],
   "source": [
    "printme(1,2,3,4,5)"
   ]
  },
  {
   "cell_type": "markdown",
   "id": "d859a07a",
   "metadata": {},
   "source": [
    "We will not be using this functionality in this course but you can read more about it here: https://realpython.com/defining-your-own-python-function/#variable-length-argument-lists"
   ]
  },
  {
   "cell_type": "markdown",
   "id": "554ce10a",
   "metadata": {},
   "source": [
    "# Packages\n",
    "\n",
    "Python allows us to use functions defined in a different location. As long as the function we want to use is in a \".py\" file somewhere on your computer, you should be able to \"import\" it in the current file so you can use it.\n",
    "\n",
    "For example, in the same folder as these lectures, you should have a file called \"MyPackage.py\" (though you may not see the \".py\"), which contains two functions: mylist(), and myprint(). We can use those functions here, by just importing \"MyPackage\":"
   ]
  },
  {
   "cell_type": "code",
   "execution_count": 35,
   "id": "ac48c24b",
   "metadata": {},
   "outputs": [],
   "source": [
    "import MyPackage"
   ]
  },
  {
   "cell_type": "markdown",
   "id": "32204a63",
   "metadata": {},
   "source": [
    "Now we can use the functions inside \"MyPackage\" using the dot notation (familiar from when we introduced object attributes):"
   ]
  },
  {
   "cell_type": "code",
   "execution_count": 36,
   "id": "df8c16ec",
   "metadata": {},
   "outputs": [
    {
     "name": "stdout",
     "output_type": "stream",
     "text": [
      "[2, 3, 4, 5]\n"
     ]
    }
   ],
   "source": [
    "p = MyPackage.mylist(2,5)\n",
    "print(p)"
   ]
  },
  {
   "cell_type": "code",
   "execution_count": 37,
   "id": "e377e791",
   "metadata": {},
   "outputs": [
    {
     "name": "stdout",
     "output_type": "stream",
     "text": [
      "abc\n"
     ]
    }
   ],
   "source": [
    "MyPackage.myprint()"
   ]
  },
  {
   "cell_type": "markdown",
   "id": "ba2d1302",
   "metadata": {},
   "source": [
    "Often times, we rename a package (right after we import it) to a shorter name (to reduce typing):"
   ]
  },
  {
   "cell_type": "code",
   "execution_count": 38,
   "id": "24994be0",
   "metadata": {},
   "outputs": [],
   "source": [
    "import MyPackage as mp"
   ]
  },
  {
   "cell_type": "code",
   "execution_count": 39,
   "id": "8dc86b9e",
   "metadata": {},
   "outputs": [
    {
     "name": "stdout",
     "output_type": "stream",
     "text": [
      "abc\n"
     ]
    }
   ],
   "source": [
    "mp.myprint()"
   ]
  },
  {
   "cell_type": "markdown",
   "id": "2bdda884",
   "metadata": {},
   "source": [
    "We can also import all the functions inside a package in such a way that we don't have to keep specifying the package name every time we use the function (though this approach is not recommended):"
   ]
  },
  {
   "cell_type": "code",
   "execution_count": 40,
   "id": "b4645cac",
   "metadata": {},
   "outputs": [],
   "source": [
    "from MyPackage import *"
   ]
  },
  {
   "cell_type": "code",
   "execution_count": 41,
   "id": "902bd2f1",
   "metadata": {},
   "outputs": [
    {
     "name": "stdout",
     "output_type": "stream",
     "text": [
      "abc\n"
     ]
    }
   ],
   "source": [
    "myprint()"
   ]
  },
  {
   "cell_type": "markdown",
   "id": "ae8c00df",
   "metadata": {},
   "source": [
    "## Packages vs modules vs scripts (OPTIONAL)\n",
    "\n",
    "Some terminology:\n",
    "\n",
    "Python **scripts** are \".py\" files that are primarily meant to be run.\n",
    "\n",
    "Python **modules** are \".py\" files that are primarily meant to be imported.\n",
    "\n",
    "Python **packages** are collections of Python modules.\n",
    "\n",
    "So, technically speaking, the \"MyPackage.py\" file is a module. \n",
    "\n",
    "You do not have to remember this terminology for the purpose of this class. We will USE packages that other people have written, but, to keep things simple, we will not write any scripts, modules, or packages of our own: we will execute all our code inside Jupyter Notebooks like this one. \n",
    "\n",
    "However, if you are serious about Python programming beyond the scope of this class, it is very important to understand exactly how packages, modules, and scripts work. A nice discussion can be found here: https://realpython.com/python-modules-packages/"
   ]
  },
  {
   "cell_type": "markdown",
   "id": "d5eb3387",
   "metadata": {},
   "source": [
    "# Chaining commands together\n",
    "\n",
    "Whenever a function in Python returns a value, we can operate on that value immediately (in the same line of code as the function call).\n",
    "\n",
    "For example the following code:"
   ]
  },
  {
   "cell_type": "code",
   "execution_count": 42,
   "id": "e821a645",
   "metadata": {},
   "outputs": [
    {
     "name": "stdout",
     "output_type": "stream",
     "text": [
      "2\n"
     ]
    }
   ],
   "source": [
    "ml = mp.mylist(1,2)\n",
    "print(ml[-1])"
   ]
  },
  {
   "cell_type": "markdown",
   "id": "8677a9ba",
   "metadata": {},
   "source": [
    "Is equivalent to this:"
   ]
  },
  {
   "cell_type": "code",
   "execution_count": 43,
   "id": "02fe4da6",
   "metadata": {},
   "outputs": [
    {
     "name": "stdout",
     "output_type": "stream",
     "text": [
      "2\n"
     ]
    }
   ],
   "source": [
    "print(mp.mylist(1,2)[-1])"
   ]
  },
  {
   "cell_type": "markdown",
   "id": "8bf56f1a",
   "metadata": {},
   "source": [
    "Python first runs the mylist function, which returns the list [1,2]:"
   ]
  },
  {
   "cell_type": "code",
   "execution_count": 44,
   "id": "6cd99664",
   "metadata": {},
   "outputs": [
    {
     "data": {
      "text/plain": [
       "[1, 2]"
      ]
     },
     "execution_count": 44,
     "metadata": {},
     "output_type": "execute_result"
    }
   ],
   "source": [
    "mp.mylist(1,2)"
   ]
  },
  {
   "cell_type": "markdown",
   "id": "35735947",
   "metadata": {},
   "source": [
    "And then applies the [-1] slice to that list, running something equivalent to:"
   ]
  },
  {
   "cell_type": "code",
   "execution_count": 45,
   "id": "2ab123a7",
   "metadata": {},
   "outputs": [
    {
     "name": "stdout",
     "output_type": "stream",
     "text": [
      "2\n"
     ]
    }
   ],
   "source": [
    "print([1,2][-1])"
   ]
  },
  {
   "cell_type": "markdown",
   "id": "80156cd4",
   "metadata": {},
   "source": [
    "We can also chain multiple function calls together:"
   ]
  },
  {
   "cell_type": "code",
   "execution_count": 46,
   "id": "5e42a33c",
   "metadata": {},
   "outputs": [
    {
     "data": {
      "text/plain": [
       "9"
      ]
     },
     "execution_count": 46,
     "metadata": {},
     "output_type": "execute_result"
    }
   ],
   "source": [
    "mp.mylist(5,13).__len__()"
   ]
  },
  {
   "cell_type": "markdown",
   "id": "a0f6a3c9",
   "metadata": {},
   "source": [
    "This works because the output of ``mp.mylist(5,13)`` is a list, and lists have an attribute called ``__len__()`` which returns the number of elements of a list. "
   ]
  },
  {
   "cell_type": "markdown",
   "id": "55604058",
   "metadata": {},
   "source": [
    "We can chain as many function/attribute calls as we want on a single line of code. **Python will execute function/attribute calls from left to right** on any given line of code. So we have to make sure that, whenever we use an attribute, all the code on its left produces output of a type that has the attribute we want to use.\n",
    "\n",
    "For example, in the line below:"
   ]
  },
  {
   "cell_type": "code",
   "execution_count": 47,
   "id": "63c2de53",
   "metadata": {},
   "outputs": [
    {
     "data": {
      "text/plain": [
       "28"
      ]
     },
     "execution_count": 47,
     "metadata": {},
     "output_type": "execute_result"
    }
   ],
   "source": [
    "mp.mylist(5,13).__len__().__sizeof__()"
   ]
  },
  {
   "cell_type": "markdown",
   "id": "42fe60cb",
   "metadata": {},
   "source": [
    "We saw that ``mp.mylist(5,13).__len__()`` produces an output of type int (the number 9):"
   ]
  },
  {
   "cell_type": "code",
   "execution_count": 48,
   "id": "7650b0ea",
   "metadata": {},
   "outputs": [
    {
     "name": "stdout",
     "output_type": "stream",
     "text": [
      "<class 'int'>\n"
     ]
    }
   ],
   "source": [
    "print(type(mp.mylist(5,13).__len__()))"
   ]
  },
  {
   "cell_type": "markdown",
   "id": "ddc6e76c",
   "metadata": {},
   "source": [
    "And objects of type int, have ``__sizeof__`` as an attribute (which gives us the amount of memory that int is using):"
   ]
  },
  {
   "cell_type": "code",
   "execution_count": 49,
   "id": "4f87b9b9",
   "metadata": {},
   "outputs": [
    {
     "name": "stdout",
     "output_type": "stream",
     "text": [
      "['__abs__', '__add__', '__and__', '__bool__', '__ceil__', '__class__', '__delattr__', '__dir__', '__divmod__', '__doc__', '__eq__', '__float__', '__floor__', '__floordiv__', '__format__', '__ge__', '__getattribute__', '__getnewargs__', '__gt__', '__hash__', '__index__', '__init__', '__init_subclass__', '__int__', '__invert__', '__le__', '__lshift__', '__lt__', '__mod__', '__mul__', '__ne__', '__neg__', '__new__', '__or__', '__pos__', '__pow__', '__radd__', '__rand__', '__rdivmod__', '__reduce__', '__reduce_ex__', '__repr__', '__rfloordiv__', '__rlshift__', '__rmod__', '__rmul__', '__ror__', '__round__', '__rpow__', '__rrshift__', '__rshift__', '__rsub__', '__rtruediv__', '__rxor__', '__setattr__', '__sizeof__', '__str__', '__sub__', '__subclasshook__', '__truediv__', '__trunc__', '__xor__', 'as_integer_ratio', 'bit_length', 'conjugate', 'denominator', 'from_bytes', 'imag', 'numerator', 'real', 'to_bytes']\n"
     ]
    }
   ],
   "source": [
    "print(dir(int))"
   ]
  },
  {
   "cell_type": "markdown",
   "id": "68ba3274",
   "metadata": {},
   "source": [
    "If ``__sizeof__`` was not in the list above, we could have not applied ``.__sizeof__()`` after ``mp.mylist(5,13).__len__()``"
   ]
  },
  {
   "cell_type": "markdown",
   "id": "c75b0125",
   "metadata": {},
   "source": [
    "Finally, ``mp.mylist(5,13).__len__().__sizeof__()`` shows us that the dot can be used to separate package names (mp), user-written functions (mylist) as well as built-in attributes (``__len__`` and ``__sizeof__``) "
   ]
  }
 ],
 "metadata": {
  "kernelspec": {
   "display_name": "Python 3 (ipykernel)",
   "language": "python",
   "name": "python3"
  },
  "language_info": {
   "codemirror_mode": {
    "name": "ipython",
    "version": 3
   },
   "file_extension": ".py",
   "mimetype": "text/x-python",
   "name": "python",
   "nbconvert_exporter": "python",
   "pygments_lexer": "ipython3",
   "version": "3.8.5"
  },
  "toc": {
   "base_numbering": 1,
   "nav_menu": {},
   "number_sections": true,
   "sideBar": true,
   "skip_h1_title": false,
   "title_cell": "Table of Contents",
   "title_sidebar": "Contents",
   "toc_cell": true,
   "toc_position": {},
   "toc_section_display": true,
   "toc_window_display": false
  }
 },
 "nbformat": 4,
 "nbformat_minor": 5
}
