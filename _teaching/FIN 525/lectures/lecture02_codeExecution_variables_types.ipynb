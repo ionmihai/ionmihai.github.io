{
 "cells": [
  {
   "cell_type": "raw",
   "id": "f41f6691",
   "metadata": {},
   "source": [
    "---\n",
    "title: \"L02: Variables, types, operators\"\n",
    "---"
   ]
  },
  {
   "cell_type": "markdown",
   "metadata": {},
   "source": [
    "# Lecture overview\n",
    "\n",
    "This lecture gives you a quick preview of some fundamental concepts in any programming language: \"variables\", \"types\", and \"operations\". \n",
    "\n",
    "We'll write some python code in each notebook cell below, and then we'll \"run\" or \"execute\" that code by hiting \"CTL+ENTER\" (or \"CMD+ENTER\" on Mac). You can also use \"SHIFT+ENTER\", which will execute the cell and move the cursor to the cell below. \n",
    "\n",
    "We finish by looking at several other ways in which you can get your computer to execute Python code (this is optional material). "
   ]
  },
  {
   "cell_type": "markdown",
   "id": "6b97ee23",
   "metadata": {},
   "source": [
    "Let's start with some very simple python code:"
   ]
  },
  {
   "cell_type": "code",
   "execution_count": null,
   "id": "a0a5c9e3",
   "metadata": {},
   "outputs": [],
   "source": [
    "# This is a comment (it is ignored by python)\n",
    "print('Hello world!') # This is also a comment"
   ]
  },
  {
   "cell_type": "markdown",
   "id": "6fffa5cf",
   "metadata": {},
   "source": [
    "Here's a more complicated example. We'll spend the next few lectures learning all the fundamentals needed to understand what this code is doing and how it works:"
   ]
  },
  {
   "cell_type": "code",
   "execution_count": null,
   "id": "99b365aa",
   "metadata": {},
   "outputs": [],
   "source": [
    "import yfinance\n",
    "yfinance.download(['TSLA','META'], interval='1mo')[['Adj Close']].dropna().plot()"
   ]
  },
  {
   "cell_type": "markdown",
   "metadata": {},
   "source": [
    "# Variables (and the print function)\n",
    "\n",
    "In programming, a variable is just a name for something. The \"something\" is usually referred to as data, and the variable is the name we give to that data. For example, in the code below, we create a new variable called myName, which is just a name for the piece of data \"Mihai Ion\":"
   ]
  },
  {
   "cell_type": "code",
   "execution_count": null,
   "id": "2d6899bd",
   "metadata": {},
   "outputs": [],
   "source": [
    "myName = \"Mihai Ion\""
   ]
  },
  {
   "cell_type": "markdown",
   "id": "ee764760",
   "metadata": {},
   "source": [
    "Now, every time I use myName in a price of Python code, Python will know that I actually mean \"Mihai Ion\". Below, I use the Python \"print\" function to display the data that myName refers to:"
   ]
  },
  {
   "cell_type": "code",
   "execution_count": null,
   "id": "a222ae46",
   "metadata": {},
   "outputs": [],
   "source": [
    "print(myName)"
   ]
  },
  {
   "cell_type": "markdown",
   "id": "864ee2d3",
   "metadata": {},
   "source": [
    "Note that the print function does not display \"myName\". If I wanted to do that, I would write:"
   ]
  },
  {
   "cell_type": "code",
   "execution_count": null,
   "id": "ccef5a10",
   "metadata": {},
   "outputs": [],
   "source": [
    "print(\"myName\")"
   ]
  },
  {
   "cell_type": "markdown",
   "id": "d5fda221",
   "metadata": {},
   "source": [
    "With the quotation marks, Python does not try to interpret what I mean by \"myName\". It just assumes that I want to print that piece of text on the screen. However, without the quotation marks, Python searches in the code that I have previously run, to see if at any point, I created a variable called myName. Since I had already run the myName = \"Mihai Ion\" line of code, it knows that, any time I use myName in a piece of code, I really mean \"Mihai Ion\". "
   ]
  },
  {
   "cell_type": "markdown",
   "id": "4044f042",
   "metadata": {},
   "source": [
    "**Note that a variable name can not start with a digit:**"
   ]
  },
  {
   "cell_type": "code",
   "execution_count": null,
   "id": "2caa9134",
   "metadata": {},
   "outputs": [],
   "source": [
    "1myName = \"Mihai Ion\""
   ]
  },
  {
   "cell_type": "markdown",
   "metadata": {},
   "source": [
    "# Types"
   ]
  },
  {
   "cell_type": "markdown",
   "id": "4034dc97",
   "metadata": {},
   "source": [
    "Note that the print function can also print numbers, with or without quotation marks:"
   ]
  },
  {
   "cell_type": "code",
   "execution_count": null,
   "id": "7786e0f4",
   "metadata": {},
   "outputs": [],
   "source": [
    "print(123)"
   ]
  },
  {
   "cell_type": "code",
   "execution_count": null,
   "id": "906ac0ac",
   "metadata": {},
   "outputs": [],
   "source": [
    "print(\"123\")"
   ]
  },
  {
   "cell_type": "markdown",
   "id": "e392f2fd",
   "metadata": {},
   "source": [
    "Above, it looks like 123 is the same thing as \"123\", but internally, Python treats these as very different types of data. 123 is a number (an integer to be more exact) and \"123\" is a piece of text (a string to be more exact). Formally, we say that 123 and \"123\" are of different **type**. I can check the type of a particular piece of data using the \"type\" function as below:"
   ]
  },
  {
   "cell_type": "code",
   "execution_count": null,
   "id": "369fca1d",
   "metadata": {},
   "outputs": [],
   "source": [
    "print(type(123))"
   ]
  },
  {
   "cell_type": "markdown",
   "id": "409589e6",
   "metadata": {},
   "source": [
    "The **int** above stands for \"integer\" (whole number)"
   ]
  },
  {
   "cell_type": "code",
   "execution_count": null,
   "id": "6f00e2ce",
   "metadata": {},
   "outputs": [],
   "source": [
    "print(type(\"123\"))"
   ]
  },
  {
   "cell_type": "markdown",
   "id": "41f5d3fd",
   "metadata": {},
   "source": [
    "The **str** above stands for \"string\" (a sequence of characters)."
   ]
  },
  {
   "cell_type": "markdown",
   "id": "8d6766e9",
   "metadata": {},
   "source": [
    "We can use the same function to see the type of a given variable we have created in a prior piece of code:"
   ]
  },
  {
   "cell_type": "code",
   "execution_count": null,
   "id": "f360d497",
   "metadata": {},
   "outputs": [],
   "source": [
    "print(type(myName))"
   ]
  },
  {
   "cell_type": "markdown",
   "id": "1dfc4bb8",
   "metadata": {},
   "source": [
    "Two other very important data types are:"
   ]
  },
  {
   "cell_type": "markdown",
   "id": "adccf773",
   "metadata": {},
   "source": [
    "- **float** (floating point number i.e. not whole number)"
   ]
  },
  {
   "cell_type": "code",
   "execution_count": null,
   "id": "3e6b4662",
   "metadata": {},
   "outputs": [],
   "source": [
    "print(type(12.4))"
   ]
  },
  {
   "cell_type": "markdown",
   "id": "93d1a4a1",
   "metadata": {},
   "source": [
    "- **bool** (boolean value i.e. True or False)"
   ]
  },
  {
   "cell_type": "code",
   "execution_count": null,
   "id": "d5a072e1",
   "metadata": {},
   "outputs": [],
   "source": [
    "print(type(False))"
   ]
  },
  {
   "cell_type": "markdown",
   "id": "70d754d7",
   "metadata": {},
   "source": [
    "Note that Python has several other data types that we will introduce later on, as we need them."
   ]
  },
  {
   "cell_type": "markdown",
   "metadata": {},
   "source": [
    "# Operators\n",
    "\n",
    "Understanding the difference between data types is important because what we can do with any particular piece of data depends critically on its type. "
   ]
  },
  {
   "cell_type": "markdown",
   "id": "00b0880b",
   "metadata": {},
   "source": [
    "For example, we can not add a number to a variable of type \"str\":"
   ]
  },
  {
   "cell_type": "code",
   "execution_count": null,
   "id": "81755ef2",
   "metadata": {},
   "outputs": [],
   "source": [
    "a = \"1\"\n",
    "print(a + 23)"
   ]
  },
  {
   "cell_type": "markdown",
   "id": "28c993f1",
   "metadata": {},
   "source": [
    "But we can add a number to a variable of type \"int\" (or \"float\"): "
   ]
  },
  {
   "cell_type": "code",
   "execution_count": null,
   "id": "8254e69f",
   "metadata": {},
   "outputs": [],
   "source": [
    "a = 1\n",
    "print(a + 23)"
   ]
  },
  {
   "cell_type": "markdown",
   "id": "b873c327",
   "metadata": {},
   "source": [
    "And we can not append a piece of text at the end of a variable of type \"int\": "
   ]
  },
  {
   "cell_type": "code",
   "execution_count": null,
   "id": "72a9a778",
   "metadata": {},
   "outputs": [],
   "source": [
    "print(a + \"23\")"
   ]
  },
  {
   "cell_type": "markdown",
   "id": "8f2853fb",
   "metadata": {},
   "source": [
    "In the above line, python looks for the last time we declared what we mean by a, which is in the line above it (i.e. a = 1).  "
   ]
  },
  {
   "cell_type": "markdown",
   "id": "34ccbaa0",
   "metadata": {},
   "source": [
    "But we can append a piece of text at the end of a variable of type \"str\":"
   ]
  },
  {
   "cell_type": "code",
   "execution_count": null,
   "id": "ec9f6207",
   "metadata": {},
   "outputs": [],
   "source": [
    "a = \"1\"\n",
    "print(a + \"23\")"
   ]
  },
  {
   "cell_type": "markdown",
   "id": "7fe11150",
   "metadata": {},
   "source": [
    "**Operators are special symbols which tell Python to perform particular tasks.**\n",
    "\n",
    "In the examples above, + is an operator and the variables on which it operates are called **operands** (e.g. a and \"23\" in the last example are operands). \n",
    "\n",
    "The examples show you that the + operator performs different tasks depending on the types of its operands: \n",
    "- addition, when the operands are numeric (e.g. int or float type)\n",
    "- concatenation (joining), when the operands are strings (str type)\n",
    "\n",
    "The examples also show us that Python gives us an error if we try to supply operands of incompatible types to the + operator (e.g. and int and a str).\n",
    "\n",
    "In the following three subsections, we cover some of the most commonly used operators in Python. The examples are pretty self explanatory so we only show the code. This is not an exhaustive list of all operators found in Python. We will introduce others as needed."
   ]
  },
  {
   "cell_type": "markdown",
   "metadata": {},
   "source": [
    "## Mathematical operators"
   ]
  },
  {
   "cell_type": "code",
   "execution_count": null,
   "id": "fc93fe18",
   "metadata": {},
   "outputs": [],
   "source": [
    "print(1 + 2.3)"
   ]
  },
  {
   "cell_type": "code",
   "execution_count": null,
   "id": "a682a9f5",
   "metadata": {},
   "outputs": [],
   "source": [
    "print(1 - 2.3)"
   ]
  },
  {
   "cell_type": "code",
   "execution_count": null,
   "id": "04eef559",
   "metadata": {},
   "outputs": [],
   "source": [
    "print(10*2)"
   ]
  },
  {
   "cell_type": "code",
   "execution_count": null,
   "id": "6be959a0",
   "metadata": {},
   "outputs": [],
   "source": [
    "print(10/2)"
   ]
  },
  {
   "cell_type": "code",
   "execution_count": null,
   "id": "aefee3a3",
   "metadata": {},
   "outputs": [],
   "source": [
    "#Exponentiation\n",
    "print(2**3)"
   ]
  },
  {
   "cell_type": "markdown",
   "metadata": {},
   "source": [
    "## Comparison operators"
   ]
  },
  {
   "cell_type": "markdown",
   "id": "734e2f72",
   "metadata": {},
   "source": [
    "**Checking for equality**\n",
    "\n",
    "We use the == (double equal) operator to check if two values are equal. Note that this is different from the = (i.e. \"assignment\") operator, which is used to create variables (see examples above."
   ]
  },
  {
   "cell_type": "code",
   "execution_count": null,
   "id": "c5e50bd8",
   "metadata": {},
   "outputs": [],
   "source": [
    "print(1==1)"
   ]
  },
  {
   "cell_type": "code",
   "execution_count": null,
   "id": "6ed7b369",
   "metadata": {},
   "outputs": [],
   "source": [
    "print(1==2)"
   ]
  },
  {
   "cell_type": "markdown",
   "id": "ff001a77",
   "metadata": {},
   "source": [
    "**Checking for inequality**"
   ]
  },
  {
   "cell_type": "code",
   "execution_count": null,
   "id": "27ee99c0",
   "metadata": {},
   "outputs": [],
   "source": [
    "# not equal\n",
    "print(1 != 2)"
   ]
  },
  {
   "cell_type": "code",
   "execution_count": null,
   "id": "25632482",
   "metadata": {},
   "outputs": [],
   "source": [
    "# strictly smaller than\n",
    "print(1 < 2)"
   ]
  },
  {
   "cell_type": "code",
   "execution_count": null,
   "id": "a57c70b5",
   "metadata": {},
   "outputs": [],
   "source": [
    "# strictly larger than\n",
    "print(1 > 2)"
   ]
  },
  {
   "cell_type": "code",
   "execution_count": null,
   "id": "b73e998e",
   "metadata": {},
   "outputs": [],
   "source": [
    "# smaller or equal\n",
    "print(1 <= 1)"
   ]
  },
  {
   "cell_type": "code",
   "execution_count": null,
   "id": "c8b70f36",
   "metadata": {},
   "outputs": [],
   "source": [
    "# larger or equal\n",
    "print(1 >= 1)"
   ]
  },
  {
   "cell_type": "markdown",
   "id": "5264078e",
   "metadata": {},
   "source": [
    "All these operators work on any variables of numeric type you have previously declared. "
   ]
  },
  {
   "cell_type": "code",
   "execution_count": null,
   "id": "75161948",
   "metadata": {},
   "outputs": [],
   "source": [
    "a = 10\n",
    "b = 20\n",
    "print(a != b)"
   ]
  },
  {
   "cell_type": "markdown",
   "id": "ccfff9fd",
   "metadata": {},
   "source": [
    "But be careful what you are comparing because these operators also work on variables that are not of numeric type (and the results may surprise you):"
   ]
  },
  {
   "cell_type": "code",
   "execution_count": null,
   "id": "b5787e0f",
   "metadata": {},
   "outputs": [],
   "source": [
    "a = \"A\"\n",
    "b = \"1\"\n",
    "print(a > b)"
   ]
  },
  {
   "cell_type": "markdown",
   "id": "aa71f8c6",
   "metadata": {},
   "source": [
    "The result of a comparison can be assigned a variable name:"
   ]
  },
  {
   "cell_type": "code",
   "execution_count": null,
   "id": "0db5d6e2",
   "metadata": {},
   "outputs": [],
   "source": [
    "a = 10\n",
    "b = 20\n",
    "c = a > b\n",
    "print(c)"
   ]
  },
  {
   "cell_type": "markdown",
   "metadata": {},
   "source": [
    "## Logical operators\n",
    "\n",
    "Python interprets 1 as True and 0 as False. We'll talk more about this when we introduce conditional statements. If you want to read ahead on this topic, take a look here: https://docs.python.org/3/library/stdtypes.html"
   ]
  },
  {
   "cell_type": "code",
   "execution_count": null,
   "id": "655cf951",
   "metadata": {},
   "outputs": [],
   "source": [
    "a = True\n",
    "b = False\n",
    "c = 1\n",
    "d = 0"
   ]
  },
  {
   "cell_type": "code",
   "execution_count": null,
   "id": "2b21dcb2",
   "metadata": {},
   "outputs": [],
   "source": [
    "#Logical \"and\"\n",
    "print(a and b)"
   ]
  },
  {
   "cell_type": "code",
   "execution_count": null,
   "id": "cf1b7895",
   "metadata": {},
   "outputs": [],
   "source": [
    "print(a and c)"
   ]
  },
  {
   "cell_type": "code",
   "execution_count": null,
   "id": "6cd03da5",
   "metadata": {},
   "outputs": [],
   "source": [
    "print(c and a)"
   ]
  },
  {
   "cell_type": "code",
   "execution_count": null,
   "id": "04ca78ab",
   "metadata": {},
   "outputs": [],
   "source": [
    "#Logical \"or\"\n",
    "print(a or b)"
   ]
  },
  {
   "cell_type": "code",
   "execution_count": null,
   "id": "2ecdc2bb",
   "metadata": {},
   "outputs": [],
   "source": [
    "#Logical \"not\"\n",
    "print(not a)"
   ]
  },
  {
   "cell_type": "markdown",
   "metadata": {},
   "source": [
    "## String operators\n",
    "\n",
    "In Python, a string is represented as a sequence of characters."
   ]
  },
  {
   "cell_type": "code",
   "execution_count": null,
   "id": "005ee00f",
   "metadata": {},
   "outputs": [],
   "source": [
    "# Concatenation (joining)\n",
    "a = 'fin'\n",
    "b = \"525\" #note that both single quotes and double quotes can be used\n",
    "c = a + b\n",
    "print(c)\n",
    "print('fin'+'525')"
   ]
  },
  {
   "cell_type": "code",
   "execution_count": null,
   "id": "243e6166",
   "metadata": {},
   "outputs": [],
   "source": [
    "# Repetition (with the * operator)\n",
    "d = a * 3\n",
    "print(d)"
   ]
  },
  {
   "cell_type": "code",
   "execution_count": null,
   "id": "d60635a4",
   "metadata": {},
   "outputs": [],
   "source": [
    "# Slicing a single character (with the [] operator)\n",
    "e = a[1] #PYTHON STARTS COUNTING FROM 0 (0 means first, 1 means second, etc)\n",
    "print(e)\n",
    "print('abcd'[-2]) #the - sign means \"starting from the back\""
   ]
  },
  {
   "cell_type": "code",
   "execution_count": null,
   "id": "1a8ef2a0",
   "metadata": {},
   "outputs": [],
   "source": [
    "# Slicing a range of characters (with the [:] operator)\n",
    "print('Mihai Ion'[0:5]) #print from the first to the fifth characters of 'Mihai Ion'\n",
    "print('Mihai Ion'[:5]) #same thing\n",
    "print('Mihai Ion'[:-2]) #print all but the last 2 characters"
   ]
  },
  {
   "cell_type": "code",
   "execution_count": null,
   "id": "b48747fa",
   "metadata": {},
   "outputs": [],
   "source": [
    "# Membership (with \"in\" operator)\n",
    "print('s' in 'Mihai')"
   ]
  },
  {
   "cell_type": "code",
   "execution_count": null,
   "id": "89ac2e84",
   "metadata": {},
   "outputs": [],
   "source": [
    "# Membership (with \"not in\" operator)\n",
    "print('s' not in 'Mihai')"
   ]
  },
  {
   "cell_type": "markdown",
   "id": "31423bc5",
   "metadata": {},
   "source": [
    "**String formatting with f-Strings**\n",
    "\n",
    "f-Strings are a relatively new addition to the Python language. They allow you insert the result of an expression inside another string."
   ]
  },
  {
   "cell_type": "code",
   "execution_count": null,
   "id": "f4ad6af0",
   "metadata": {},
   "outputs": [],
   "source": [
    "#Inserting the value of a variable inside another string\n",
    "name = 'Mihai'\n",
    "age = 104\n",
    "s = f'My name is {name}, and I am {age} years old' #the f at the beginning makes this an f-string. Note the {} inside.\n",
    "print(s)"
   ]
  },
  {
   "cell_type": "code",
   "execution_count": null,
   "id": "822bdb89",
   "metadata": {},
   "outputs": [],
   "source": [
    "#Insert the result of a computation inside another string\n",
    "print(f\"Two plus two equals {2*2}\")"
   ]
  },
  {
   "cell_type": "markdown",
   "id": "c7d92d79",
   "metadata": {},
   "source": [
    "We can also specify how the value that we want to insert inside the f-string needs to be formatted:"
   ]
  },
  {
   "cell_type": "code",
   "execution_count": null,
   "id": "aedce5e3",
   "metadata": {},
   "outputs": [],
   "source": [
    "age = 104.123\n",
    "print(f'My name is {name}, and I am {age: .2f} years old')"
   ]
  },
  {
   "cell_type": "markdown",
   "id": "98a76efe",
   "metadata": {},
   "source": [
    "The \".2f\" in the code above, tells Python we want \"age\" to be formatted as a float (hence the f in .2f) with only 2 digits after the decimal point (hence the .2 in .2f)."
   ]
  },
  {
   "cell_type": "markdown",
   "id": "9fa35575",
   "metadata": {},
   "source": [
    "**WARNING**\n",
    "\n",
    "f-strings may execute any piece of Python code you supply inside curly brackets. Never include in an f-string a piece of input you obtain from a third party (say a response someone puts into a form somewhere on your website). If they provide malicious code as their input, you may end up inadvertently running that code on your computer.\n",
    "\n",
    "For example:"
   ]
  },
  {
   "cell_type": "code",
   "execution_count": null,
   "id": "8fd8106f",
   "metadata": {},
   "outputs": [],
   "source": [
    "f\"{__import__('os').remove('./TEST.txt')}\""
   ]
  },
  {
   "cell_type": "markdown",
   "metadata": {},
   "source": [
    "# Alternative Methods of Running Python code (OPTIONAL)"
   ]
  },
  {
   "cell_type": "markdown",
   "id": "84979ad0",
   "metadata": {},
   "source": [
    "## Using Jupyter Notebook\n",
    "This is the method used in this course. You have to make sure that the code you want to run is in a \"code cell\" rather than a \"Markdown cell\". If you are not sure, you can convert a cell to a code cell by clicking on it, then pressing \"esc\" and then \"Y\" (or using the menu option, usually right below Navigate or Widgets).\n",
    "\n",
    "How to run it:\n",
    "- Press \"Shift + Enter\" (at the same time) or \"Ctrl + Enter\" to run the code in that cell."
   ]
  },
  {
   "cell_type": "markdown",
   "id": "c6fbeab7",
   "metadata": {},
   "source": [
    "## Using a REPL\n",
    "Not very useful when your program is large. It allows you to run code one instruction at a time, which is useful if you have some simple tasks that you want to quickly try out. However, if you want to execute hundreds of commands, executing them one at a time will not only be tedious, but also has the inconvenience that you can not save those commands so you can execute them at a later time.\n",
    "    \n",
    "How to run it:\n",
    "- Open a Anacond Prompt (or a terminal like PowerShell in Windows or Terminal in macOS and Bash in Linux)\n",
    "- Type \"python\"\n",
    "- Start typying your commands (you execute a command by pressing \"Enter\" after you type it)"
   ]
  },
  {
   "cell_type": "markdown",
   "id": "0537c0d9",
   "metadata": {},
   "source": [
    "## Running scripts in the terminal\n",
    "Involves writing your code in a text file (script) or multiple text files (saved with a \".py\" extension) and then running them from a terminal (e.g. PowerShell in Windows and Bash in Linux or macOS). Many programmers use a text editor like Virtual Studio Code or Sublime Text (or an IDE. see below) to help organize their project, get syntax highlighting and completion, etc.\n",
    "\n",
    "\n",
    "How to do it:\n",
    "- Write your code in a text file (using a text editor of your choice e.g. Notepad, TextEdit, gedit, SublimeText, VS Code)\n",
    "- Save the file with a \".py\" extension (let's call it \"XXX.py\" for this example). Note that, if you are using Notepad, when you save the file, you have to select \"All Files\" under the \"Save as type\" tab.\n",
    "- Open a Anaconda Prompt or any other terminal\n",
    "- Change directory to the folder where you saved your script, by typing \"cd\" followed by the path to that folder\n",
    "- Type \"python XXX.py\" and press \"Enter\"\n",
    "    "
   ]
  },
  {
   "cell_type": "markdown",
   "id": "730b3c00",
   "metadata": {},
   "source": [
    "## Using an IDE\n",
    "Free, third-party software that integrates all the different parts of the Python programming process: code writing, code execution, data/results visualization, project organization etc. The Spyder IDE is most similar to the interfaces used by SAS, Stata, and Matlab but most of its funtionality is available in VS Code too.\n",
    "\n",
    "How to do it:\n",
    "- Every IDE will be different, but most of them have a \"Run\" button that will just run the current script for you (so you'll have to navigate to your script first). \n",
    "- Some IDEs will have a terminal embedded in them, in which case you can run your script in that terminal (using the python command followed by your script's path and filename). \n",
    "- Other IDEs, like Spyder, will have something called an \"IPython\" console embedded in them. In these cases, you can use that console to run scripts as well. Just type %run followed by your script's path and filename. "
   ]
  }
 ],
 "metadata": {
  "kernelspec": {
   "display_name": "Python 3",
   "language": "python",
   "name": "python3"
  },
  "language_info": {
   "codemirror_mode": {
    "name": "ipython",
    "version": 3
   },
   "file_extension": ".py",
   "mimetype": "text/x-python",
   "name": "python",
   "nbconvert_exporter": "python",
   "pygments_lexer": "ipython3",
   "version": "3.9.16"
  },
  "toc": {
   "base_numbering": 1,
   "nav_menu": {},
   "number_sections": true,
   "sideBar": true,
   "skip_h1_title": false,
   "title_cell": "Table of Contents",
   "title_sidebar": "Contents",
   "toc_cell": true,
   "toc_position": {},
   "toc_section_display": true,
   "toc_window_display": false
  },
  "vscode": {
   "interpreter": {
    "hash": "5c65ce2fea2f0c67157032582cff07b1c9d083b283061c8d8524588d6f489174"
   }
  }
 },
 "nbformat": 4,
 "nbformat_minor": 5
}
