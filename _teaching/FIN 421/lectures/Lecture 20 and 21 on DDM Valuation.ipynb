{
 "cells": [
  {
   "cell_type": "raw",
   "metadata": {},
   "source": [
    "---\n",
    "title: \"L20_21: Dividend discount models\"\n",
    "---"
   ]
  },
  {
   "attachments": {},
   "cell_type": "markdown",
   "metadata": {},
   "source": [
    "# Dividend discount models (DDM)\n",
    "\n",
    "The intrinsic value of the firm's equity at time $t$ (call it $V_t$) is the discounted value of all (expected) future dividends:\n",
    "\n",
    "$$V_t = \\frac{D_{t+1}}{1+r} + \\frac{D_{t+2}}{(1+r)^2} + \\frac{D_{t+3}}{(1+r)^3} + ...$$        \n",
    "\n",
    "or, equivalently\n",
    "\n",
    "$$V_t = \\frac{D_{t+1}}{1+r} + \\frac{D_{t+2}}{(1+r)^2} + \\frac{D_{t+3}}{(1+r)^3} + ... + \\frac{D_{t+H} + P_{t+H}}{(1+r)^H}$$        \n",
    "\n",
    "where $P_{t+H}$ (the price $H$ periods from now) is often called the **\"terminal value\"** of the stock. \n",
    "\n",
    "The discount rate $r$ (sometimes called the **market capitalization rate**) is the expected return on the stock (or, equivalently, the firm's **cost of equity**). \n",
    "\n",
    "As we have seen, this is most commonly estimated using CAPM:\n",
    "\n",
    "$$r = R_f + \\beta \\cdot (E[R_m] - R_f)$$\n",
    "\n",
    "but other models may be used (e.g. the Fama-French Three-Factor model)."
   ]
  },
  {
   "attachments": {},
   "cell_type": "markdown",
   "metadata": {},
   "source": [
    "# Constant-growth model\n",
    "\n",
    "If we assume that dividends grow at a constat rate $g$ for ever, then the valuation formula above becomes:\n",
    "\n",
    "$$V_t = \\frac{D_{t+1}}{r-g} $$\n",
    "\n",
    "or, equivalently:\n",
    "\n",
    "$$V_t = \\frac{D_{t} \\cdot (1 + g)}{r-g} $$\n",
    "\n",
    "This is the present value of a growing perpetuity."
   ]
  },
  {
   "attachments": {},
   "cell_type": "markdown",
   "metadata": {},
   "source": [
    "**Example 1:**\n",
    "\n",
    "Assume the MSFT just paid a dividend of $2 per share, and that these dividends will grow at 6% per year in perpetuity. You have estimated that MSFT has a market beta of 1.1, and the market risk premium is 7% per year. The yield on a 1-year Tbill is 0.001.  What is the estimated intrinsic value of one share of MSFT?"
   ]
  },
  {
   "cell_type": "code",
   "execution_count": 1,
   "metadata": {},
   "outputs": [],
   "source": [
    "#\n",
    "#\n",
    "#\n",
    "#\n",
    "#\n",
    "#\n",
    "#\n",
    "#\n",
    "#\n",
    "#"
   ]
  },
  {
   "attachments": {},
   "cell_type": "markdown",
   "metadata": {},
   "source": [
    "# Multi-stage growth model\n",
    "\n",
    "Here we estimate individually some finite number ($H$) of future dividends, and assume that after that, dividends grow at a constant rate $g$ for ever. In this case, the valuation formula becomes:\n",
    "\n",
    "$$V_t = \\frac{D_{t+1}}{1+r} + \\frac{D_{t+2}}{(1+r)^2} + \\frac{D_{t+3}}{(1+r)^3} + ... + \\frac{D_{t+H}}{(1+r)^H} + \\frac{ D_{t+H} \\cdot (1 + g) / (r-g)}{(1+r)^H}$$ \n",
    "\n",
    "The first $H$ dividends can be estimated in a variety of ways. The most common methods include:"
   ]
  },
  {
   "cell_type": "markdown",
   "metadata": {},
   "source": [
    "\n",
    "1. Extrapolating the past dividend growth of the firm\n",
    "2. Applying the average dividend growth of comparable firms\n",
    "3. Applying the average dividend growth of the industry"
   ]
  },
  {
   "attachments": {},
   "cell_type": "markdown",
   "metadata": {},
   "source": [
    "## Estimating the terminal growth rate\n",
    "\n",
    "The terminal growth rate will have a significant influence on our results, so we have to be very careful when we estimate it. \n",
    "A common aproach is to use a \"fundamental growth rate\" (aka the \"sustainable growth rate\") estimate:\n",
    "\n",
    "$$g = ROE \\cdot b $$\n",
    "\n",
    "where b is the retention ratio (aka plowback ratio):\n",
    "\n",
    "$$b = Retention Ratio = 1 - Dividend Payout Ratio = 1 - Dividends/Net Income$$\n",
    "\n",
    "Once again, we can use either the fundamental growth rate of the firm itself, or an average of the fundamental growth rate of close competitors, or for the industry as a whole. \n",
    "\n",
    "Another common approach is to assess how you think the firm will grow relative to the economy as a whole, and base your estimate of $g$ on an estimate of the perpetual growth rate in GDP (e.g. the US GDP has grown by an average of 3.1% per year in the past 70 years). \n",
    "\n",
    "Finally, we can use an average of past dividend growth rates, either for the firm itself or for comparable firms."
   ]
  },
  {
   "attachments": {},
   "cell_type": "markdown",
   "metadata": {},
   "source": [
    "**Example 2:**\n",
    "\n",
    "Assume the MSFT just paid a dividend of $2 per share, and that these dividends will grow at 30% for the next 5 years, and after that, at 6% per year in perpetuity. You have estimated that MSFT has a market beta of 1.1, and the market risk premium is 7% per year. The yield on a 1-year Tbill is 0.001.  What is the estimated intrinsic value of on share of MSFT?"
   ]
  },
  {
   "cell_type": "code",
   "execution_count": 2,
   "metadata": {},
   "outputs": [],
   "source": [
    "#\n",
    "#\n",
    "#\n",
    "#\n",
    "#\n",
    "#\n",
    "#\n",
    "#\n",
    "#\n",
    "#"
   ]
  },
  {
   "attachments": {},
   "cell_type": "markdown",
   "metadata": {},
   "source": [
    "# Using real-world data"
   ]
  },
  {
   "attachments": {},
   "cell_type": "markdown",
   "metadata": {},
   "source": [
    "The first thing we have to do is to estimate the discount rate to use in the valuation model. This is the expected return on MSFT stock (aka the cost of equity). We use CAPM, for the purpose of this lecture, but you may use a different model (the most common alternative is the Fama-French three factor model). All the data you need for this purpose is in the \"msft_returns\" file. Use a risk free rate of 4% and a market risk premium of 6% (both annual).\n",
    "\n",
    "First, estimate the intrinsic value of a share of MSFT stock using a constant growth DDM. For the terminal growth rate, use either the industry fundamental growth rate or the historical GDP growth rate (3%).\n",
    "\n",
    "Next, repeat the exercise using a two-stage DDM where the first stage lasts 5 years. For that initial stage, use a dividend growth rate equal to MSFT's historical dividend growth rate."
   ]
  },
  {
   "cell_type": "code",
   "execution_count": 3,
   "metadata": {},
   "outputs": [],
   "source": [
    "#\n",
    "#\n",
    "#\n",
    "#\n",
    "#\n",
    "#\n",
    "#\n",
    "#\n",
    "#\n",
    "#\n",
    "#\n",
    "#\n",
    "#\n",
    "#\n",
    "#\n",
    "#\n",
    "#\n",
    "#\n",
    "#\n",
    "#"
   ]
  }
 ],
 "metadata": {
  "kernelspec": {
   "display_name": "Python 3",
   "language": "python",
   "name": "python3"
  },
  "language_info": {
   "codemirror_mode": {
    "name": "ipython",
    "version": 3
   },
   "file_extension": ".py",
   "mimetype": "text/x-python",
   "name": "python",
   "nbconvert_exporter": "python",
   "pygments_lexer": "ipython3",
   "version": "3.8.5"
  }
 },
 "nbformat": 4,
 "nbformat_minor": 4
}
