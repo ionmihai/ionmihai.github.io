{
 "cells": [
  {
   "cell_type": "raw",
   "metadata": {},
   "source": [
    "---\n",
    "title: \"L03: Modeling future returns\"\n",
    "---"
   ]
  },
  {
   "attachments": {},
   "cell_type": "markdown",
   "metadata": {},
   "source": [
    "# Lecture overview\n",
    "\n",
    "We start thinking about future returns. We model them as random variables and we are interested in estimating the expectation and volatility of the probability distribution associated with these random variables. We will use sample means to estimate the expectation (i.e. expected returns) and the sample standard deviation to estimate the volatility (i.e. total risk). We then introduce the concept of a risk premium and we show how investments should be assessed based on the risk - return tradeoff they offer.\n",
    "\n",
    "- Using sample means and standard deviations to estimate expected return and risk\n",
    "- Risk-free rate, excess returns, and risk premia\n",
    "- Mean variance analysis and the Sharpe Ratio"
   ]
  },
  {
   "attachments": {},
   "cell_type": "markdown",
   "metadata": {},
   "source": [
    "# Sample mean and standard deviation\n",
    "\n",
    "Investments are about **future** rewards. We hope that we have found an investment that will give us high rewards, but because we can never perfectly predict the future, there will always be some amount of uncertainty associated with any investment. Hence, to give ourselves a chance at some **expected return**, we must expose ourselves to some amount of **risk** that we may loose money from that investment. The goal is to find investments which we *believe* (we can not know) will provide us with a good risk-return tradeoff: a large expected return per unit of risk. We will see below that this is called the **Sharpe ratio** of that investment. \n",
    "\n",
    "So, to make good investment decisions, we must find a way to measure (estimate) the risk-return tradeoff they offer. As explained above, this entails estimating the risk and expected return of that investment. We do so by thinking about future returns on that investment as random variables: the future return is an unknown (random) quantity which takes possible values according to some probability distribution. The mean of that probability distribution is the expected return on the investment, and the standard deviation of that distribution is a good measure of the risk of the investment because it quantifies how uncertain we would be if we were to predict future returns. \n",
    "\n",
    "The mean and standard deviation of future returns are unknown quantities because future returns are unknown quantities. To estimate them, we must assume that *past* returns came from the same probability distribution as future returns. If that is a good assumption, then we can use data on past returns to estimate the mean and standard deviation of future returns.\n",
    "\n",
    "Specifically, if we have $N$ observations of past returns on a given investment (call these returns $R_{1}$, $R_{2}$, ... , $R_{N}$), then: \n",
    "\n",
    "- The **sample mean** is given by:\n",
    "\n",
    "$$\\mu = \\frac{R_1 + R_2 + ... + R_N}{N}$$\n",
    "\n",
    "- The **sample standard deviation** is given by:\n",
    "\n",
    "$$\\sigma = \\sqrt{\\frac{(R_1 - \\mu)^2 + (R_2 - \\mu)^2 + ... + (R_N - \\mu)^2}{N-1}}$$\n",
    "\n",
    "Another variable that we often encounter is the **sample variance** which is just the square of the sample standard deviation: $Variance = \\sigma^2$"
   ]
  },
  {
   "attachments": {},
   "cell_type": "markdown",
   "metadata": {},
   "source": [
    "## Example\n",
    "\n",
    "Suppose for the last 4 months, TLSA had returns of 10%, 5%, -5%, and 14% respectively. Using this data alone, what is your estimate for the expected return and risk associated with TSLA's next month's return?"
   ]
  },
  {
   "cell_type": "code",
   "execution_count": null,
   "metadata": {},
   "outputs": [],
   "source": [
    "#\n",
    "#\n",
    "#\n",
    "#\n",
    "#\n",
    "#\n",
    "#\n",
    "#\n",
    "#\n",
    "#\n",
    "#\n",
    "#\n",
    "#\n",
    "#\n",
    "#\n",
    "#\n",
    "#\n",
    "#\n",
    "#\n",
    "#\n",
    "#"
   ]
  },
  {
   "attachments": {},
   "cell_type": "markdown",
   "metadata": {},
   "source": [
    "# The risk-free rate, excess returns, and risk premia\n",
    "\n",
    "To quantify the reward we obtain from an investment in exchange for taking on the risk of that investment, we generally use not is expected return, but its expected return in excess of the return on a risk-free investment.\n",
    "\n",
    "The only **risk-free investment** is a short-term (1-3 month) U.S. Treasury bill (Tbill). It is assumed that the U.S. government will not default on its debt over the next 1-3 months. For this class we will use the 1-month Tbill as the risk free asset but the 3-month Tbill is also often used. \n",
    "- The risk-free rate is the yield on the 1-month Tbill\n",
    "- Because the asset is riskless (there is no uncertainty about its future payoff)\n",
    "    - Its expected return is also equal to its yield:  \n",
    "        $$E[R_f] = R_f$$\n",
    "    - Its risk (standard deviation of future returns) is zero: \n",
    "        $$\\sigma(R_f) = 0$$\n",
    "\n",
    "The **excess return** on any investment $i$ equals its return minus the risk-free rate:\n",
    "\n",
    "$$ExcessReturn_i = R_i - R_f$$\n",
    "\n",
    "The **risk-premium** on any investment $i$ equals its expected return minus the risk-free rate:\n",
    "\n",
    "$$RiskPremium_i = E[R_i] - R_f$$ "
   ]
  },
  {
   "attachments": {},
   "cell_type": "markdown",
   "metadata": {},
   "source": [
    "## Example\n",
    "\n",
    "Suppose returns on TSLA over the past 3 months were 10% (in the most recent month), 5%, and -3% respectively and that the yield on a 1-month Tbill were 0.1% (in the most recent month), 0.2%, and 0.3% respectively. What were the excess returns on TSLA over the past 3 months. What is your estimate for the risk premium on TSLA?"
   ]
  },
  {
   "cell_type": "code",
   "execution_count": 1,
   "metadata": {},
   "outputs": [],
   "source": [
    "#\n",
    "#\n",
    "#\n",
    "#\n",
    "#\n",
    "#\n",
    "#\n",
    "#\n",
    "#\n",
    "#\n",
    "#\n",
    "#\n",
    "#\n",
    "#\n",
    "#\n",
    "#\n",
    "#\n",
    "#\n",
    "#\n",
    "#\n"
   ]
  },
  {
   "attachments": {},
   "cell_type": "markdown",
   "metadata": {},
   "source": [
    "# Mean-variance analysis and the Sharpe ratio\n",
    "\n",
    "**Mean-variance analysis** is the process of assessing investments based on their expected returns and total risk. Investors are said to be mean-variance optimizers if they only care about these two aspects of their investments (one could imagine other potentially important aspects such as the environmental impact of the firm or treatment of its employees). In this course we will assume that the marginal investor is a mean-variance optimizer (loosely speaking, you can think of the marginal investor as the \"average\" investor in the market).\n",
    "\n",
    "If investors are mean-variance optimizers, they will prefer investments with the highest possible ratio of expected reward to potential risk. More specifically, they try to maximize the **Sharpe ratio** of their portfolios. The Sharpe ratio of an investment $i$ is the ratio of the investment's risk premium to its volatility:\n",
    "\n",
    "$$SharpeRatio_i = \\frac{E[R_i] - R_f}{\\sigma(R_i)}$$"
   ]
  },
  {
   "attachments": {},
   "cell_type": "markdown",
   "metadata": {},
   "source": [
    "## Example\n",
    "\n",
    "Assume that you are only allowed to invest in TSLA or AAPL. You estimate that TSLA has an expected return of 10% and a standard deviation of 12% and AAPL has an expected return of 7% and a standard deviation of 6%. The yield on a 1-month Tbill is 1%. If you are a mean-variance optimizer, which stock should you invest in?"
   ]
  },
  {
   "cell_type": "code",
   "execution_count": null,
   "metadata": {},
   "outputs": [],
   "source": [
    "#\n",
    "#\n",
    "#\n",
    "#\n",
    "#\n",
    "#\n",
    "#\n",
    "#\n",
    "#\n",
    "#\n",
    "#\n",
    "#\n",
    "#\n",
    "#\n",
    "#\n",
    "#\n",
    "#\n",
    "#\n",
    "#\n",
    "#\n"
   ]
  },
  {
   "attachments": {},
   "cell_type": "markdown",
   "metadata": {},
   "source": [
    "# Real-World Application\n",
    "\n",
    "Download monthy price data on TSLA and AAPL from Yahoo Finance over the 2016-2020 period. Estimate which one of them is a better investment from a mean-variance standpoint. Assume the risk-free rate is 0.1%."
   ]
  },
  {
   "cell_type": "code",
   "execution_count": null,
   "metadata": {},
   "outputs": [],
   "source": [
    "#\n",
    "#\n",
    "#\n",
    "#\n",
    "#\n",
    "#\n",
    "#\n",
    "#\n",
    "#\n",
    "#\n",
    "#\n",
    "#\n",
    "#\n",
    "#\n",
    "#\n",
    "#\n",
    "#\n",
    "#\n",
    "#\n",
    "#"
   ]
  }
 ],
 "metadata": {
  "kernelspec": {
   "display_name": "base",
   "language": "python",
   "name": "python3"
  },
  "language_info": {
   "codemirror_mode": {
    "name": "ipython",
    "version": 3
   },
   "file_extension": ".py",
   "mimetype": "text/x-python",
   "name": "python",
   "nbconvert_exporter": "python",
   "pygments_lexer": "ipython3",
   "version": "3.8.5 (default, Sep  3 2020, 21:29:08) [MSC v.1916 64 bit (AMD64)]"
  },
  "vscode": {
   "interpreter": {
    "hash": "c0d7515943f2d5e6ef3c63d1d45fe29892fe24bc9a1e3b83271f719b8681d46b"
   }
  }
 },
 "nbformat": 4,
 "nbformat_minor": 4
}
