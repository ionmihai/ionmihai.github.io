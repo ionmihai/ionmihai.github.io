{
 "cells": [
  {
   "cell_type": "raw",
   "metadata": {},
   "source": [
    "---\n",
    "title: \"L18_19: Multiples valuation\"\n",
    "---"
   ]
  },
  {
   "attachments": {},
   "cell_type": "markdown",
   "metadata": {},
   "source": [
    "# Valuation using multiples: The general approach\n",
    "\n",
    "The general idea behind using multiples to estimate the intrinsic value of a firm is that intrinsic value should have a stable relationship with some fundamental aspects of the firm (e.g. its profits or its book value). If this is the case, and we have a way to estimate this relation, then we can use it to back out the intrinsic value of the firm.\n",
    "\n",
    "As an example, suppose we have a way to estimate the firm's true value to earnings ratio. We can then multiply this estimate by the firm's earnings, and that would give us an estimate for the firm's value. \n",
    "\n",
    "The most common ways of estimating the true value of any given multiple for a firm:\n",
    "- Take an average of this multiple for a handful of close competitors of the firm you are valuing\n",
    "- Take an average of this multiple for the entire industry of the firm you are valuing\n",
    "- Take an average over the past values of this multiple for the firm you are valuing\n",
    "\n",
    "This is the reason why we say that multiples valuation is a form of *comparables* valuation, where comparables are firms that are similar in some fundamental way to the firm we are valuing.\n",
    "\n",
    "We will demonstrate this technique below, using three common multiples:\n",
    "- Price to earnings ratios (P/E)\n",
    "- Price to book ratios (P/B, aka market to book ratios or M/B)\n",
    "- (Total) Enterprise Value to EBITDA ratios (TEV/EBITDA)"
   ]
  },
  {
   "attachments": {},
   "cell_type": "markdown",
   "metadata": {},
   "source": [
    "# The price to earnings (P/E) ratio \n",
    "\n",
    "The P/E ratio is calculated as the current price of the stock divided by its earnings per share (EPS). This is equivalent to dividing total market capitalization by net income. \n",
    "\n",
    "$$\\frac{P}{E} = \\frac{Price}{EPS} = \\frac{Market Cap}{Net Income}$$\n",
    "\n",
    "The P/E ratio has different names depending on which EPS (or Net Income) number we use:\n",
    "- **Trailing P/E** ratios use EPS from the most recent 10-K filing\n",
    "- **Current P/E** ratios use the most recent EPS available (sometimes called the TTM (trailing twelve month) EPS)\n",
    "- **Forward P/E** ratios use a *forecasted* EPS"
   ]
  },
  {
   "attachments": {},
   "cell_type": "markdown",
   "metadata": {},
   "source": [
    "**Example 1:**\n",
    "\n",
    "Assume in the most recent fiscal year, MSFT had EPS of $5.7, and its main competitors had trailing P/E ratios of 35, 40, and 45 respectively. Estimate the intrinsic value of a share of MSFT using this data."
   ]
  },
  {
   "cell_type": "code",
   "execution_count": null,
   "metadata": {},
   "outputs": [],
   "source": [
    "#\n",
    "#\n",
    "#\n",
    "#\n",
    "#\n",
    "#\n",
    "#\n",
    "#"
   ]
  },
  {
   "attachments": {},
   "cell_type": "markdown",
   "metadata": {},
   "source": [
    "**Example 2:**\n",
    "\n",
    "Assume you estimated that MSFT will have EPS of $5.7 in the following fiscal year, and its main competitors have forward P/E ratios of 25, 30, and 35 respectively. Estimate the intrinsic value of a share of MSFT using this data."
   ]
  },
  {
   "cell_type": "code",
   "execution_count": 1,
   "metadata": {},
   "outputs": [],
   "source": [
    "#\n",
    "#\n",
    "#\n",
    "#\n",
    "#\n",
    "#\n",
    "#\n",
    "#"
   ]
  },
  {
   "attachments": {},
   "cell_type": "markdown",
   "metadata": {},
   "source": [
    "# The price to book (P/B, or M/B) ratio\n",
    "\n",
    "The P/B ratio is calculated as the market value of equity divided by the book value of equity:\n",
    "\n",
    "$$\\frac{P}{B} = \\frac{Market Cap}{Book Equity} = \\frac{Market Cap}{Assets - Liabilities}$$\n",
    "\n",
    "High P/B firms are often called **growth firms**.\n",
    "\n",
    "Low P/B firms are often called **value firms**."
   ]
  },
  {
   "attachments": {},
   "cell_type": "markdown",
   "metadata": {},
   "source": [
    "**Example 3:**\n",
    "\n",
    "Assume in the most recent fiscal year, MSFT had book value of equity of $118 (bil) and 7.6 bil shares outstanding. Its main competitors had P/B ratios of 15, 20, and 25 respectively. Estimate the intrinsic value of a share of MSFT using this data."
   ]
  },
  {
   "cell_type": "code",
   "execution_count": null,
   "metadata": {},
   "outputs": [],
   "source": [
    "#\n",
    "#\n",
    "#\n",
    "#\n",
    "#\n",
    "#\n",
    "#\n",
    "#"
   ]
  },
  {
   "attachments": {},
   "cell_type": "markdown",
   "metadata": {},
   "source": [
    "# (Total) Enterprise value to EBITDA (EV / EBITDA) ratio\n",
    "\n",
    "The EV/EBITDA (or TEV/EBITDA) ratio is calculated at the enterprise value of the firm divided by the firm's EBITDA, where enterprise value is defined as the market value of the firm's equity plus the market value of the firm's debt minus cash. Often, the firm's book value of total debt is used instead of the market value of debt:\n",
    "\n",
    "$$\\frac{EV}{EBITDA} = \\frac{Market Cap + Preferred Stock+ Long Term Debt - Cash}{EBITDA}$$\n",
    "\n",
    "For long term debt, that should include the portion due within a year. "
   ]
  },
  {
   "attachments": {},
   "cell_type": "markdown",
   "metadata": {},
   "source": [
    "**Example 4:**\n",
    "\n",
    "Assume in the most recent fiscal year, MSFT had EBITDA of $118 (bil) and 7.6 bil shares outstanding. It also had $98 bil in long term debt and $113 (bil) in cash holdings. Its main competitors had EV/EBITDA ratios of 15, 20, and 25 respectively. Estimate the intrinsic value of a share of MSFT using this data."
   ]
  },
  {
   "cell_type": "code",
   "execution_count": null,
   "metadata": {},
   "outputs": [],
   "source": [
    "#\n",
    "#\n",
    "#\n",
    "#\n",
    "#\n",
    "#\n",
    "#\n",
    "#"
   ]
  },
  {
   "attachments": {},
   "cell_type": "markdown",
   "metadata": {},
   "source": [
    "# Using real-world data\n",
    "\n",
    "We estimate the true P/E, P/B, and EV/EBITDA of MSFT in three different ways, using:\n",
    "1. Averages of MSFT's own ratios\n",
    "2. Averages of these ratios at the industry level (from Damodaran's files)\n",
    "3. Averages of these ratios for MSFT's competitors\n",
    "\n",
    "We then multiply each of these estimates with MSFT's most recent value for the denominator in each ratio."
   ]
  },
  {
   "cell_type": "code",
   "execution_count": 2,
   "metadata": {},
   "outputs": [],
   "source": [
    "#\n",
    "#\n",
    "#\n",
    "#\n",
    "#\n",
    "#\n",
    "#\n",
    "#\n",
    "#\n",
    "#\n",
    "#\n",
    "#\n",
    "#\n",
    "#\n",
    "#\n",
    "#\n",
    "#\n",
    "#\n",
    "#\n",
    "#"
   ]
  }
 ],
 "metadata": {
  "kernelspec": {
   "display_name": "Python 3",
   "language": "python",
   "name": "python3"
  },
  "language_info": {
   "codemirror_mode": {
    "name": "ipython",
    "version": 3
   },
   "file_extension": ".py",
   "mimetype": "text/x-python",
   "name": "python",
   "nbconvert_exporter": "python",
   "pygments_lexer": "ipython3",
   "version": "3.8.5"
  }
 },
 "nbformat": 4,
 "nbformat_minor": 4
}
