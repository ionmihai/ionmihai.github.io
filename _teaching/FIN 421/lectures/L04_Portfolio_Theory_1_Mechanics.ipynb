{
 "cells": [
  {
   "cell_type": "raw",
   "metadata": {},
   "source": [
    "---\n",
    "title: \"L04: Portfolio theory intro\"\n",
    "---"
   ]
  },
  {
   "attachments": {},
   "cell_type": "markdown",
   "metadata": {},
   "source": [
    "# Lecture overview\n",
    "\n",
    "Every portfolio is described by two pieces of information:\n",
    "\n",
    "- The identity of the assets in that portfolio\n",
    "- The weight that each asset has in the portfolio\n",
    "\n",
    "We learn how to describe the returns of a portfolio in terms of its weights and the returns of its assets:\n",
    "\n",
    "- Calculate portfolio realized returns\n",
    "- Calculate the correlation and covariance between the returns of two assets\n",
    "- Calculate portfolio expected returns\n",
    "- Calculate portfolio total risk"
   ]
  },
  {
   "attachments": {},
   "cell_type": "markdown",
   "metadata": {},
   "source": [
    "# Portfolio realized returns\n",
    "\n",
    "Suppose a portfolio P has N assets in it (call them assets 1, 2, ..., N). We want to calculate the returs of the portfolio over a given period. Let $M_1$, $M_2$, ... , $M_N$ be the market values of the assets in your portfolio **at the beginning** of this period (for each asset $i$, $M_i$ equals the price of $i$ at the beginning of the period times the number of shares you bought).\n",
    "\n",
    "For each asset $i$ in the portfolio, its **weight** is given by:\n",
    "\n",
    "$$w_i = \\frac{M_i}{M_1 + M_2 + ... + M_N}$$\n",
    "\n",
    "If during the period, the assets in the portfolio had returns $R_1$, $R_2$, ... , $R_N$ respectively, then the **return of the portfolio** during that period is:\n",
    "\n",
    "$$R_P = w_1 R_1 + w_2 R_2 + ... + w_N R_N$$\n",
    "\n",
    "Note that at the **end of the period**, unless all assets had a return of 0 during the period, some of the weights will have changed because the market values of the assets (the $M_i$'s) have changed. So if we want to calculate the returns of the portfolio over the *following* period, we will have the use the new weights that are calculated based on the new market values."
   ]
  },
  {
   "attachments": {},
   "cell_type": "markdown",
   "metadata": {},
   "source": [
    "## Example\n",
    "\n",
    "Suppose today Facebook (FB) is selling for $200 per share and Netflix (NFLX) is selling for $400 per share. You buy two shares of FB and one share of NFLX. Over the next month, FB has a return of 10% and NFLX has a return of 20%. The month after that, FB has a return of -10% and NFLX has a return of -20%. What will be the return of the portfolio over each month? What will the return of your portfolio be over this entire two-month period?"
   ]
  },
  {
   "cell_type": "code",
   "execution_count": 1,
   "metadata": {},
   "outputs": [],
   "source": [
    "#\n",
    "#\n",
    "#\n",
    "#\n",
    "#\n",
    "#\n",
    "#\n",
    "#\n",
    "#\n",
    "#\n",
    "#\n",
    "#\n",
    "#\n",
    "#\n",
    "#\n",
    "#\n",
    "#\n",
    "#\n",
    "#\n",
    "#\n",
    "#\n",
    "#\n",
    "#\n",
    "#\n",
    "#\n",
    "#"
   ]
  },
  {
   "attachments": {},
   "cell_type": "markdown",
   "metadata": {},
   "source": [
    "# Correlation and covariance between two return series\n",
    "\n",
    "Before we can understand portfolio-level risk, we must understand how to quantify the extent to which the future returns of different assets move together. We do so by calculating the covariance of their future returns. Because we do not observe future returns, we must estimate the covariance using past returns (we call this the sample covariance).\n",
    "\n",
    "Given two assets A and B with past returns $R_{1}^A$, $R_{2}^A$, ... , $R_{N}^A$ and $R_{1}^B$, $R_{2}^B$, ... , $R_{N}^B$, the **sample covariance** of these returns is given by:\n",
    "\n",
    "\n",
    "$$COV_{A,B} = \\frac{(R_{1}^A - \\mu^A)(R_{1}^B - \\mu^B)+(R_{2}^A - \\mu^A)(R_{2}^B - \\mu^B)+...+(R_{N}^A - \\mu^A)(R_{N}^B - \\mu^B)}{N-1}$$\n",
    "\n",
    "\n",
    "where $\\mu^A$ and $\\mu^B$ are the sample means of the returns on A and B (see previous lecture).\n",
    "\n",
    "The **sample correlation** between the returns of A and B is given by:\n",
    "\n",
    "$$CORR_{A,B} = \\frac{COV_{A,B}}{\\sigma^A \\sigma^B}$$\n",
    "\n",
    "where $\\sigma^A$ and $\\sigma^B$ are the sample standard deviations of the returns on A and B (see previous lecture).\n",
    "\n",
    "The correlation is just a normalization of the covariance, which is easier to interpret: correlations fall between -1 and 1."
   ]
  },
  {
   "attachments": {},
   "cell_type": "markdown",
   "metadata": {},
   "source": [
    "## Example\n",
    "\n",
    "Suppose over the past three months FB had returns of 10%, 10%, and -8%, and NFLX had returns of 20%, -10% and -1%. Calculate the sample covariance and correlation of the returns of FB and NFLX. "
   ]
  },
  {
   "cell_type": "code",
   "execution_count": 2,
   "metadata": {},
   "outputs": [],
   "source": [
    "#\n",
    "#\n",
    "#\n",
    "#\n",
    "#\n",
    "#\n",
    "#\n",
    "#\n",
    "#\n",
    "#\n",
    "#\n",
    "#\n",
    "#\n",
    "#\n",
    "#\n",
    "#\n",
    "#\n",
    "#\n",
    "#\n",
    "#\n",
    "#\n",
    "#\n",
    "#\n",
    "#\n",
    "#\n",
    "#\n"
   ]
  },
  {
   "attachments": {},
   "cell_type": "markdown",
   "metadata": {},
   "source": [
    "# Portfolio expected returns\n",
    "\n",
    "To estimate the expected return of a portfolio, we must first estimate the expected returns of the assets in that portfolio. Once we do that, the expected return of the portfolio is a market-value weighted average of the expected returns of the assets in the portfolio:\n",
    "\n",
    "$$E[R_P] = w_1 E[R_1] + w_2 E[R_2] + ... + w_N E[R_N]$$\n",
    "\n",
    "**Special case: portfolios with two assets:**\n",
    "\n",
    "$$E[R_P] = w_1 E[R_1] + w_2 E[R_2]$$\n",
    "\n",
    "**Special case: portfolios with three assets**\n",
    "\n",
    "$$E[R_P] = w_1 E[R_1] + w_2 E[R_2] + w_3 E[R_3]$$"
   ]
  },
  {
   "attachments": {},
   "cell_type": "markdown",
   "metadata": {},
   "source": [
    "## Example\n",
    "\n",
    "Suppose over the past three months FB had returns of 10%, 10%, and -8%, and NFLX had returns of 20%, -10% and -1%. Today, you invest $1000 in FB and $4000 in NFLX. What is the expected return of your portfolio?"
   ]
  },
  {
   "cell_type": "code",
   "execution_count": 3,
   "metadata": {},
   "outputs": [],
   "source": [
    "#\n",
    "#\n",
    "#\n",
    "#\n",
    "#\n",
    "#\n",
    "#\n",
    "#\n",
    "#\n",
    "#\n",
    "#\n",
    "#\n",
    "#\n",
    "#\n",
    "#\n",
    "#\n",
    "#\n",
    "#\n",
    "#"
   ]
  },
  {
   "attachments": {},
   "cell_type": "markdown",
   "metadata": {},
   "source": [
    "# Portfolio total risk\n",
    "\n",
    "To estimate to total risk of a portfolio (standard deviation of it future returns), we must first estimate not only the total risk of each asset in the portfolio but also the covariances between every two assets in the portfolio. That makes the formula for portfolio risk much more complicated than the formula for portfolio expected return:\n",
    "\n",
    "$$Var[R_P] = \\sum_{i = 1}^{N} w_{i}^2 Var[R_i] + \\sum_{i \\neq j} 2 w_i w_j Cov[R_i, R_j]$$\n",
    "\n",
    "\n",
    "**Special case: portfolios with two assets**\n",
    "\n",
    "$$Var[R_P] =  w_{1}^2 Var[R_1] + w_{2}^2 Var[R_2] + 2 w_1 w_2 Cov[R_1, R_2]$$\n",
    "\n",
    "\n",
    "**Special case: portfolios with three assets**\n",
    "\n",
    "$$Var[R_P] =  w_{1}^2 Var[R_1] + w_{2}^2 Var[R_2] + w_{3}^2 Var[R_3] + 2 w_1 w_2 Cov[R_1, R_2] + 2 w_2 w_3 Cov[R_2, R_3] + 2 w_1 w_3 Cov[R_1, R_3]$$\n",
    "\n",
    "In all cases, to calculate **portfolio standard deviations** we take the square root of the portfolio variance."
   ]
  },
  {
   "attachments": {},
   "cell_type": "markdown",
   "metadata": {},
   "source": [
    "## Example\n",
    "\n",
    "Suppose over the past three months FB had returns of 10%, 10%, and -8%, and NFLX had returns of 20%, -10% and -1%. Today, you invest $1000 in FB and $4000 in NFLX. What is the total risk of your portfolio?"
   ]
  },
  {
   "cell_type": "code",
   "execution_count": 4,
   "metadata": {},
   "outputs": [],
   "source": [
    "#\n",
    "#\n",
    "#\n",
    "#\n",
    "#\n",
    "#\n",
    "#\n",
    "#\n",
    "#\n",
    "#\n",
    "#\n",
    "#\n",
    "#\n",
    "#\n",
    "#\n",
    "#\n",
    "#\n",
    "#\n",
    "#\n",
    "#\n",
    "#\n",
    "#\n",
    "#\n",
    "#\n",
    "#\n",
    "#"
   ]
  },
  {
   "attachments": {},
   "cell_type": "markdown",
   "metadata": {},
   "source": [
    "# Real-World Example\n",
    "Go to Ken French's website (https://mba.tuck.dartmouth.edu/pages/faculty/ken.french/data_library.html) and download monthly data on the monthly Fama-French three factors (look for Fama/French 3 Factors and download the CSV version). Then:\n",
    "- Keep only monthly data on market excess returns (Mkt-RF column) and the risk-free rate (RF column). Divide both columns by 100.\n",
    "- Estimate the expected return and total risk of a portfolio that invests 60% in the market and 40% in the risk-free asset."
   ]
  },
  {
   "cell_type": "code",
   "execution_count": null,
   "metadata": {},
   "outputs": [],
   "source": [
    "#\n",
    "#\n",
    "#\n",
    "#\n",
    "#\n",
    "#\n",
    "#\n",
    "#\n",
    "#\n",
    "#\n",
    "#\n",
    "#\n",
    "#\n",
    "#\n",
    "#\n",
    "#\n",
    "#\n",
    "#\n",
    "#\n",
    "#\n",
    "#\n",
    "#\n",
    "#\n",
    "#\n",
    "#\n",
    "#"
   ]
  }
 ],
 "metadata": {
  "kernelspec": {
   "display_name": "base",
   "language": "python",
   "name": "python3"
  },
  "language_info": {
   "codemirror_mode": {
    "name": "ipython",
    "version": 3
   },
   "file_extension": ".py",
   "mimetype": "text/x-python",
   "name": "python",
   "nbconvert_exporter": "python",
   "pygments_lexer": "ipython3",
   "version": "3.8.5 (default, Sep  3 2020, 21:29:08) [MSC v.1916 64 bit (AMD64)]"
  },
  "vscode": {
   "interpreter": {
    "hash": "c0d7515943f2d5e6ef3c63d1d45fe29892fe24bc9a1e3b83271f719b8681d46b"
   }
  }
 },
 "nbformat": 4,
 "nbformat_minor": 4
}
