{
 "cells": [
  {
   "cell_type": "raw",
   "metadata": {},
   "source": [
    "---\n",
    "title: \"L26: Risk management with options\"\n",
    "---"
   ]
  },
  {
   "attachments": {},
   "cell_type": "markdown",
   "metadata": {},
   "source": [
    "# Risk management with options\n",
    "\n",
    "Options can be used to increase the risk of your portfolio (in hopes of a higher return) as well as to decrease the risk of your portfolio (at the expense of a lower return). Below, we work through a couple of examples that show how this can be achieved."
   ]
  },
  {
   "attachments": {},
   "cell_type": "markdown",
   "metadata": {},
   "source": [
    "**Example 1: Using options to increase risk**\n",
    "\n",
    "This usually involves buying option on stocks instead of buying/shorting the stocks themselves.\n",
    "\n",
    "To see the difference, consider the following two strategies:\n",
    "\n",
    "- Stategy A: invest $9000 in stock A by buying 100 shares at $90 each\n",
    "- Stategy B: Use the $9000 to buy 900 call options on stock A (trading at $10 an option). The strike price is $90 and the options expire in a year.\n",
    "\n",
    "Calculate what your (%) return would be for each strategy, if the price a year from now is:\n",
    "\n",
    "- $75\n",
    "- $90\n",
    "- $105"
   ]
  },
  {
   "cell_type": "code",
   "execution_count": 1,
   "metadata": {},
   "outputs": [],
   "source": [
    "#\n",
    "#\n",
    "#\n",
    "#\n",
    "#\n",
    "#\n",
    "#\n",
    "#\n",
    "#\n",
    "#\n",
    "#\n",
    "#\n",
    "#\n",
    "#\n",
    "#\n",
    "#\n",
    "#\n",
    "#"
   ]
  },
  {
   "attachments": {},
   "cell_type": "markdown",
   "metadata": {},
   "source": [
    "**Example 2: Using options to decrease risk**\n",
    "\n",
    "You can limit your losses from buying a particular stock by also purchasing put options on that stock. This is called the *protective put* strategy.\n",
    "\n",
    "To see how this works, consider the following two strategies:\n",
    "\n",
    "- Strategy A: buy one share of AMZN for $100\n",
    "- Strategy B: you buy one share of AMZN for $100 and a put option on AMZN that costs you an additional $5. The put option has a strike price of $95 and it expires in 3 months.\n",
    "\n",
    "Q1: What is your % return for each strategy, if the price of AMZN 3 months from now is:\n",
    "\n",
    "- $0\n",
    "- $95\n",
    "- $105\n",
    "- $150"
   ]
  },
  {
   "cell_type": "code",
   "execution_count": 2,
   "metadata": {},
   "outputs": [],
   "source": [
    "#\n",
    "#\n",
    "#\n",
    "#\n",
    "#\n",
    "#\n",
    "#\n",
    "#\n",
    "#\n",
    "#\n",
    "#\n",
    "#\n",
    "#\n",
    "#\n",
    "#\n",
    "#\n",
    "#\n",
    "#"
   ]
  },
  {
   "attachments": {},
   "cell_type": "markdown",
   "metadata": {},
   "source": [
    "Q2: Draw the payoff and profit for this protective put, as functions of the price of AMZN"
   ]
  },
  {
   "cell_type": "code",
   "execution_count": 3,
   "metadata": {},
   "outputs": [],
   "source": [
    "#\n",
    "#\n",
    "#\n",
    "#\n",
    "#\n",
    "#\n",
    "#\n",
    "#\n",
    "#\n",
    "#\n",
    "#\n",
    "#\n",
    "#\n",
    "#\n",
    "#\n",
    "#\n",
    "#\n",
    "#"
   ]
  },
  {
   "attachments": {},
   "cell_type": "markdown",
   "metadata": {},
   "source": [
    "# Volatility bets with options\n",
    "\n",
    "You can use options to trade based on your opinions about volatility. Below are two examples that show you how this would work."
   ]
  },
  {
   "attachments": {},
   "cell_type": "markdown",
   "metadata": {},
   "source": [
    "\n",
    "**Example 3: Betting on volatility**\n",
    "\n",
    "You buy a call option on stock X for $10 an option and you also buy a put option on stock X for $5 an option. Both options have strike price of $100. For what values of the price of the underlying asset X would you make a positive profit? Draw the payoff and profit of this strategy as a function of the underlying stock price."
   ]
  },
  {
   "cell_type": "code",
   "execution_count": 4,
   "metadata": {},
   "outputs": [],
   "source": [
    "#\n",
    "#\n",
    "#\n",
    "#\n",
    "#\n",
    "#\n",
    "#\n",
    "#\n",
    "#\n",
    "#\n",
    "#\n",
    "#\n",
    "#\n",
    "#\n",
    "#\n",
    "#\n",
    "#\n",
    "#"
   ]
  },
  {
   "attachments": {},
   "cell_type": "markdown",
   "metadata": {},
   "source": [
    "\n",
    "**Example 4: Betting against volatility**\n",
    "\n",
    "You sell a call option on stock X for $10 an option and you also sell a put option on stock X for $5 an option. Both options have strike price of $100. For what values of the price of the underlying asset X would you make a positive profit? Draw the payoff and profit of this strategy as a function of the underlying stock price."
   ]
  },
  {
   "cell_type": "code",
   "execution_count": 5,
   "metadata": {},
   "outputs": [],
   "source": [
    "#\n",
    "#\n",
    "#\n",
    "#\n",
    "#\n",
    "#\n",
    "#\n",
    "#\n",
    "#\n",
    "#\n",
    "#\n",
    "#\n",
    "#\n",
    "#\n",
    "#\n",
    "#\n",
    "#\n",
    "#"
   ]
  }
 ],
 "metadata": {
  "kernelspec": {
   "display_name": "base",
   "language": "python",
   "name": "python3"
  },
  "language_info": {
   "codemirror_mode": {
    "name": "ipython",
    "version": 3
   },
   "file_extension": ".py",
   "mimetype": "text/x-python",
   "name": "python",
   "nbconvert_exporter": "python",
   "pygments_lexer": "ipython3",
   "version": "3.8.5"
  },
  "orig_nbformat": 4
 },
 "nbformat": 4,
 "nbformat_minor": 2
}
