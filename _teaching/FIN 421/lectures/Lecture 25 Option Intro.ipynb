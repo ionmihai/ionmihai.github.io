{
 "cells": [
  {
   "cell_type": "raw",
   "metadata": {},
   "source": [
    "---\n",
    "title: \"L25: Options intro\"\n",
    "---"
   ]
  },
  {
   "attachments": {},
   "cell_type": "markdown",
   "metadata": {},
   "source": [
    "Options are a type of financial asset called **derivative securities**. The derivative means that the value of these assets depends on the value of a different asset (often called the \"underlying\" asset)."
   ]
  },
  {
   "attachments": {},
   "cell_type": "markdown",
   "metadata": {},
   "source": [
    "# Call options\n",
    "\n",
    "A call option is a financial asset (a contract really) that gives you the right (but not the obligation) to \n",
    "\n",
    "- **buy** a particular stock (called the *underlying* stock) \n",
    "- at a particular price (called the *strike* price)\n",
    "- on or before a particular date (called the *expiration* date)\n",
    "    - the \"or before\" only applies to *American* options\n",
    "    - for *European* options you are not allowed to exercise your option before the expiration date\n",
    "        - you can assume that all the options we talk about in this class are American options\n",
    "\n",
    "The price you have to pay to buy an option is called the *premium* of that option.\n",
    "\n",
    "When/if you choose to buy the underlying asset, we say that you are *exercising* your option. It only makes sense to do so when the stock is trading at a price higher than the strike price of the option."
   ]
  },
  {
   "attachments": {},
   "cell_type": "markdown",
   "metadata": {},
   "source": [
    "**Example 1:**\n",
    "\n",
    "On Oct 14, 2014, a call option on Facebook (FB), expiring on Nov 14, 2014 with strike price of $75 sold for $5. The price of FB on Oct 14 was $76.\n",
    "\n",
    "Q1: For this call option, what is the:\n",
    "\n",
    "- Underlying asset\n",
    "- Strike price\n",
    "- Expiration date\n",
    "- Premium"
   ]
  },
  {
   "attachments": {},
   "cell_type": "markdown",
   "metadata": {},
   "source": [
    "Q2: What is your profit if you exercise this option immediately after you buy it?"
   ]
  },
  {
   "cell_type": "code",
   "execution_count": 2,
   "metadata": {},
   "outputs": [],
   "source": [
    "#\n",
    "#\n",
    "#\n",
    "#\n",
    "#\n",
    "#"
   ]
  },
  {
   "attachments": {},
   "cell_type": "markdown",
   "metadata": {},
   "source": [
    "Q3: Suppose on Oct 21, 2014, FB is trading at $74 a share. Would you exercise the option? "
   ]
  },
  {
   "cell_type": "code",
   "execution_count": null,
   "metadata": {},
   "outputs": [],
   "source": [
    "#\n",
    "#\n",
    "#\n",
    "#\n",
    "#\n",
    "#"
   ]
  },
  {
   "attachments": {},
   "cell_type": "markdown",
   "metadata": {},
   "source": [
    "Q4: Suppose right before the call option expires (on Nov-14, 2014), FB is trading at $76 a share. Would you exercise the option?"
   ]
  },
  {
   "cell_type": "code",
   "execution_count": null,
   "metadata": {},
   "outputs": [],
   "source": [
    "#\n",
    "#\n",
    "#\n",
    "#\n",
    "#\n",
    "#"
   ]
  },
  {
   "attachments": {},
   "cell_type": "markdown",
   "metadata": {},
   "source": [
    "## Call option payoff and profit\n",
    "\n",
    "The **payoff** (revenue) of a call option that you own is the difference between the underlying stock price (let's call it S) and the option's strike price (let's call it X) *when $S > X$ and 0 otherwise* (since you wouldn't exercise it when $S < X$). \n",
    "\n",
    "$$Payoff = max(S - X, 0)$$\n",
    "\n",
    "The profit from the call option equals its payoff minus it premium (i.e. the price you paid to buy the option). \n",
    "\n",
    "$$Profit = max(S - X, 0) - Premium$$"
   ]
  },
  {
   "attachments": {},
   "cell_type": "markdown",
   "metadata": {},
   "source": [
    "**Example 2:**\n",
    "\n",
    "You buy a call option on stock A for a premium of $14. The strike price is $80 and the option expires in a month. \n",
    "\n",
    "Q1: What is the payoff from this call option if the price of stock A is $60? How about $70? $80? $90? $100?\n",
    "\n",
    "Q2: What is the profit from the call option in each of those scenarios?"
   ]
  },
  {
   "cell_type": "code",
   "execution_count": null,
   "metadata": {},
   "outputs": [],
   "source": [
    "#\n",
    "#\n",
    "#\n",
    "#\n",
    "#\n",
    "#"
   ]
  },
  {
   "attachments": {},
   "cell_type": "markdown",
   "metadata": {},
   "source": [
    "Q3: Draw a graph that shows your payoff (revenue) and your profit as a function of the price of stock A. "
   ]
  },
  {
   "cell_type": "code",
   "execution_count": null,
   "metadata": {},
   "outputs": [],
   "source": [
    "#\n",
    "#\n",
    "#\n",
    "#\n",
    "#\n",
    "#\n",
    "#\n",
    "#\n",
    "#\n",
    "#\n",
    "#\n",
    "#"
   ]
  },
  {
   "attachments": {},
   "cell_type": "markdown",
   "metadata": {},
   "source": [
    "## Selling (writing) call options\n",
    "\n",
    "If you sell (aka \"write\") a call option, you are in the opposite position from the person who buys it: you give them the option (but not the obligation) to buy the underlying asset from you at a given strike price. If they decide to exercise that option, you (as the seller of the option) are *obligated* to sell them the underlying stock at the strike price (even though it might be trading at a higher price on the market).\n",
    "\n",
    "The **payoff** (revenue) of a call option that you *sell* is the negative of the payoff to the person that bought it: \n",
    "\n",
    "$$Payoff = - max(S - X, 0)$$\n",
    "\n",
    "The profit from selling a call option equals the negative of the profit to the person that bought it:\n",
    "\n",
    "$$Profit = - max(S - X, 0) + Premium$$"
   ]
  },
  {
   "attachments": {},
   "cell_type": "markdown",
   "metadata": {},
   "source": [
    "**Example 3:**\n",
    "\n",
    "You sell a call option on stock A for a premium of $10. The strike price is $50 and the option expires in a month. \n",
    "\n",
    "Q1: What is your payoff from this call option if the price of stock A is $40? How about $50? $60? $70?\n",
    "\n",
    "Q2: What is your profit from the call option in each of those scenarios?"
   ]
  },
  {
   "cell_type": "code",
   "execution_count": 3,
   "metadata": {},
   "outputs": [],
   "source": [
    "#\n",
    "#\n",
    "#\n",
    "#\n",
    "#\n",
    "#"
   ]
  },
  {
   "cell_type": "markdown",
   "metadata": {},
   "source": [
    "Q3: Draw a graph that shows your payoff (revenue) and your profit as a function of the price of stock A. "
   ]
  },
  {
   "cell_type": "code",
   "execution_count": null,
   "metadata": {},
   "outputs": [],
   "source": [
    "#\n",
    "#\n",
    "#\n",
    "#\n",
    "#\n",
    "#\n",
    "#\n",
    "#\n",
    "#\n",
    "#\n",
    "#\n",
    "#"
   ]
  },
  {
   "attachments": {},
   "cell_type": "markdown",
   "metadata": {},
   "source": [
    "# Put options\n",
    "\n",
    "A put option is a financial asset that gives you the right (but not the obligation) to \n",
    "\n",
    "- **sell** a particular stock (called the *underlying* stock) \n",
    "- at a particular price (called the *strike* price)\n",
    "- on or before a particular date (called the *expiration* date)\n",
    "\n",
    "It only makes sense to exercise a put option when the stock is trading at a price *lower* than the strike price of the option."
   ]
  },
  {
   "attachments": {},
   "cell_type": "markdown",
   "metadata": {},
   "source": [
    "**Example 4:**\n",
    "\n",
    "On Oct 14, 2014, you buy a put option on Facebook (FB) for $5. The option expires on Nov 14, 2014 and has a strike price of $75. The price of FB on Oct 14 was $74.\n",
    "\n",
    "Q1: For this put option, what is the:\n",
    "\n",
    "- Underlying asset\n",
    "- Strike price\n",
    "- Expiration date\n",
    "- Premium"
   ]
  },
  {
   "cell_type": "markdown",
   "metadata": {},
   "source": [
    "Q2: What is your profit if you exercise this option immediately after you buy it?"
   ]
  },
  {
   "cell_type": "code",
   "execution_count": 4,
   "metadata": {},
   "outputs": [],
   "source": [
    "#\n",
    "#\n",
    "#\n",
    "#\n",
    "#\n",
    "#"
   ]
  },
  {
   "attachments": {},
   "cell_type": "markdown",
   "metadata": {},
   "source": [
    "Q3: Suppose on Oct 21, 2014, FB is trading at $76 a share. Would you exercise the option? "
   ]
  },
  {
   "cell_type": "code",
   "execution_count": 5,
   "metadata": {},
   "outputs": [],
   "source": [
    "#\n",
    "#\n",
    "#\n",
    "#\n",
    "#\n",
    "#"
   ]
  },
  {
   "attachments": {},
   "cell_type": "markdown",
   "metadata": {},
   "source": [
    "Q4: Suppose right before the put option expires (on Nov-14, 2014), FB is trading at $74 a share. Would you exercise the option?"
   ]
  },
  {
   "cell_type": "code",
   "execution_count": null,
   "metadata": {},
   "outputs": [],
   "source": [
    "#\n",
    "#\n",
    "#\n",
    "#\n",
    "#\n",
    "#"
   ]
  },
  {
   "attachments": {},
   "cell_type": "markdown",
   "metadata": {},
   "source": [
    "## Put option payoff and profit\n",
    "\n",
    "The **payoff** (revenue) of a put option that you own is the difference between the option's strike price (let's put it X) and the underlying stock price (let's put it S) *when $X > S$ and 0 otherwise* (since you wouldn't exercise it when $X < S$). \n",
    "\n",
    "$$Payoff = max(X - S, 0)$$\n",
    "\n",
    "The profit from the put option equals its payoff minus it premium (i.e. the price you paid to buy the option). \n",
    "\n",
    "$$Profit = max(X - S, 0) - Premium$$"
   ]
  },
  {
   "attachments": {},
   "cell_type": "markdown",
   "metadata": {},
   "source": [
    "**Example 5:**\n",
    "\n",
    "You buy a put option on stock A for a premium of $10. The strike price is $40 and the option expires in a month. \n",
    "\n",
    "Q1: What is the payoff from this put option if the price of stock A is $60? How about $40? $20? $0?\n",
    "\n",
    "Q2: What is the profit from the put option in each of those scenarios?"
   ]
  },
  {
   "cell_type": "code",
   "execution_count": 6,
   "metadata": {},
   "outputs": [],
   "source": [
    "#\n",
    "#\n",
    "#\n",
    "#\n",
    "#\n",
    "#"
   ]
  },
  {
   "cell_type": "markdown",
   "metadata": {},
   "source": [
    "Q3: Draw a graph that shows your payoff (revenue) and your profit as a function of the price of stock A. "
   ]
  },
  {
   "cell_type": "code",
   "execution_count": null,
   "metadata": {},
   "outputs": [],
   "source": [
    "#\n",
    "#\n",
    "#\n",
    "#\n",
    "#\n",
    "#\n",
    "#\n",
    "#\n",
    "#\n",
    "#\n",
    "#\n",
    "#"
   ]
  },
  {
   "attachments": {},
   "cell_type": "markdown",
   "metadata": {},
   "source": [
    "## Selling (writing) put options\n",
    "\n",
    "If you sell (aka \"write\") a put option, you are in the opposite position from the person who buys it: you give them the option (but not the obligation) to sell the underlying asset to you at a given strike price. If they decide to exercise that option, you (as the seller of the option) are *obligated* to buy the underlying stock from them at the strike price (even though it might be trading at a lower price on the market).\n",
    "\n",
    "The **payoff** (revenue) of a put option that you *sell* is the negative of the payoff to the person that bought it: \n",
    "\n",
    "$$Payoff = - max(X - S, 0)$$\n",
    "\n",
    "The profit from selling a put option equals the negative of the profit to the person that bought it:\n",
    "\n",
    "$$Profit = - max(X - S, 0) + Premium$$"
   ]
  },
  {
   "attachments": {},
   "cell_type": "markdown",
   "metadata": {},
   "source": [
    "**Example 6:**\n",
    "\n",
    "You sell a put option on stock A for a premium of $10. The strike price is $60 and the option expires in a month. \n",
    "\n",
    "Q1: What is your payoff from this put option if the price of stock A is $1? How about $50? $60? $70? 80?\n",
    "\n",
    "Q2: What is your profit from the put option in each of those scenarios?"
   ]
  },
  {
   "cell_type": "code",
   "execution_count": 7,
   "metadata": {},
   "outputs": [],
   "source": [
    "#\n",
    "#\n",
    "#\n",
    "#\n",
    "#\n",
    "#"
   ]
  },
  {
   "cell_type": "markdown",
   "metadata": {},
   "source": [
    "Q3: Draw a graph that shows your payoff (revenue) and your profit as a function of the price of stock A. "
   ]
  },
  {
   "cell_type": "code",
   "execution_count": null,
   "metadata": {},
   "outputs": [],
   "source": [
    "#\n",
    "#\n",
    "#\n",
    "#\n",
    "#\n",
    "#\n",
    "#\n",
    "#\n",
    "#\n",
    "#\n",
    "#\n",
    "#"
   ]
  }
 ],
 "metadata": {
  "kernelspec": {
   "display_name": "base",
   "language": "python",
   "name": "python3"
  },
  "language_info": {
   "codemirror_mode": {
    "name": "ipython",
    "version": 3
   },
   "file_extension": ".py",
   "mimetype": "text/x-python",
   "name": "python",
   "nbconvert_exporter": "python",
   "pygments_lexer": "ipython3",
   "version": "3.8.5"
  },
  "orig_nbformat": 4
 },
 "nbformat": 4,
 "nbformat_minor": 2
}
