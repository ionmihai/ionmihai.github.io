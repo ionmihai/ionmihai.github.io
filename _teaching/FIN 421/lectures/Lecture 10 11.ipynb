{
 "cells": [
  {
   "cell_type": "raw",
   "metadata": {},
   "source": [
    "---\n",
    "title: \"L10_11: Statistical models of returns\"\n",
    "---"
   ]
  },
  {
   "attachments": {},
   "cell_type": "markdown",
   "metadata": {},
   "source": [
    "# The single-factor model\n",
    "\n",
    "We have seem in previous lectures that some portion of a stock's total risk can be diversified away when the stock is part of a larger portfolio. This portion is often referred to as the stock's **idiosyncratic risk**. The remaining portion, which can not be diversified away is often called its **systematic risk**. \n",
    "\n",
    "The single-factor model is a statistical model which assumes that all sources of systematic risk (economic factors that affect all firms to some extent) are captured by the returns on the market portfolio. If this is the case, then firm excess returns can be written as a linear function of market excess returns (for every firm $i$ and time $t$):\n",
    "\n",
    "$$R_{i,t} - R_{f,t} = \\alpha_i + \\beta_i (R_{m,t} - R_{f,t}) + \\epsilon_{i,t}$$\n",
    "\n",
    "where:\n",
    "- $R_{i,t}$ is the return of firm $i$ at time $t$\n",
    "- $R_{m,t}$ is the return of the market $i$ at time $t$\n",
    "- $R_{f,t}$ is the risk-free rate at time $t$\n",
    "\n",
    "\n",
    "- $\\beta_i (R_{m,t} - R_{f,t})$ is the portion of the firm's return that is caused by systematic shocks\n",
    "- $\\epsilon_{i,t}$ is the portion of the firm's return that is caused by idiosyncratic (firm-specific) shocks \n",
    "\n",
    "\n",
    "- $\\beta_i$ tells us if the firm has more or less systematic risk than the average firm in the economy (average $\\beta$ = 1)\n",
    "- $\\alpha_i$ tells us if the firm has offered a higher or lower return (on average) than what was warranted by its exposure to the market (its $\\beta$)\n",
    "    - If markets are efficient and the market perfectly captures all systematic shocks, then $\\alpha$ should be zero for all firms at all times"
   ]
  },
  {
   "attachments": {},
   "cell_type": "markdown",
   "metadata": {},
   "source": [
    "# Application\n",
    "\n",
    "Use monthly data for TSLA from 2011 to 2020, to calculate its $\\alpha$, $\\beta$, and the percentage of its risk that can be diversified away. For data on market returns and the risk-free rate, use the data on Ken French's website and download the monthly factors file."
   ]
  },
  {
   "cell_type": "code",
   "execution_count": 1,
   "metadata": {},
   "outputs": [],
   "source": [
    "#\n",
    "#\n",
    "#\n",
    "#\n",
    "#\n",
    "#\n",
    "#\n",
    "#\n",
    "#\n",
    "#\n",
    "#\n",
    "#\n",
    "#\n",
    "#\n",
    "#\n",
    "#\n",
    "#\n",
    "#"
   ]
  },
  {
   "attachments": {},
   "cell_type": "markdown",
   "metadata": {},
   "source": [
    "## Interpreting the results: coefficients, t-statistics, and pvalues\n",
    "\n",
    "The \"Intercept\" row contains information about the firm's $\\alpha$ and the \"Mkt-RF\" row contains information about the firm's $\\beta$. The $\\alpha$ and $\\beta$ coefficient estimates themselves are in the \"Coefficients\" column. \n",
    "\n",
    "The t-statistics for the two coefficients are in the \"t Stat\" column. Loosely speaking a t-statistic that larger than 2 or smaller than -2 allows us to conclude that the corresponding coefficient is statistically different from 0 (i.e. reject the null hypothesis that the coefficient is 0). \n",
    "\n",
    "The p-values are in the \"P-value\" column. P-values lower than 0.05 allow us to conclude that the corresponding coefficient is statistically different from 0 with the 5% confidence level (i.e. reject the null hypothesis that the coefficient is 0). \n",
    "\n",
    "The next two columns after the p-value give us the 95% confidence interval for each coefficient.\n",
    "\n",
    "TSLA's alpha has a p-value of that is smaller than 5% so we can conclude that it's alpha is statistically significantly different from 0 at the 95% confidence level (but not at the 99% confidence level). The 5% is a common \"significance level\" used in hypothesis testing (also called the Type 1 error, or, confusingly for us, the alpha of the test). One minus the significance level is called the \"confidence level\" of the test. \n",
    "\n",
    "The fact that the alpha is positive (and statistically different from 0) means that, based on the single-index model, TSLA seems to be undervalued. A negative alpha would mean the stock in overvalued.\n",
    "\n",
    "If we can not reject the null hypothesis that alpha is 0, the conclusion is NOT that alpha = 0 and therefore the stock is correctly valued (since we can never \"accept\" a null hypothesis, we can only fail to reject). The conclusion is that we do not have enough evidence to claim that the stock is either undervalued or overvalued (which is not the same thing as saying that we have enough evidence to claim that the stock is correctly valued)."
   ]
  },
  {
   "attachments": {},
   "cell_type": "markdown",
   "metadata": {},
   "source": [
    "# Systematic vs idiosyncratic risk\n",
    "\n",
    "The regression R-squared coefficient tells us the percentage of the firm's total risk (variance) that is systematic (can not be diversified away).\n",
    "\n",
    "One minus the R-squared gives us the percentage of the firm's risk that is idiosyncratic (can be diversified away). \n",
    "\n",
    "The breakdown of the firm's total risk into systematic and idiosyncratic can also be easily calculated as below:\n",
    "\n",
    "The regression equation\n",
    "\n",
    "$$R_{i,t} - R_{f,t} = \\alpha_i + \\beta_i (R_{m,t} - R_{f,t}) + \\epsilon_{i,t}$$\n",
    "\n",
    "implies\n",
    "\n",
    "$$Var(R_{i,t} - R_{f,t}) = Var(\\alpha_i) + Var(\\beta_i (R_{m,t} - R_{f,t})) + Var(\\epsilon_{i,t})$$\n",
    "\n",
    "which reduces to\n",
    "\n",
    "$$Var(R_{i,t} - R_{f,t}) = \\beta_{i}^2 Var(R_{m,t} - R_{f,t}) + Var(\\epsilon_{i,t})$$\n",
    "\n",
    "Which says total risk equals systematic risk plus idiosyncratic risk."
   ]
  },
  {
   "cell_type": "code",
   "execution_count": 2,
   "metadata": {},
   "outputs": [],
   "source": [
    "#\n",
    "#\n",
    "#\n",
    "#\n",
    "#\n",
    "#\n",
    "#\n",
    "#\n",
    "#\n",
    "#\n",
    "#\n",
    "#\n",
    "#\n",
    "#\n",
    "#\n",
    "#\n",
    "#\n",
    "#"
   ]
  },
  {
   "attachments": {},
   "cell_type": "markdown",
   "metadata": {},
   "source": [
    "# Multi-factor models\n",
    "\n",
    "Regress excess returns of TSLA on excess returns on the market as well as the SMB and HML factors:\n",
    "\n",
    "$$R_{i,t} - R_{f,t} = \\alpha_i + \\beta_{mkt} (R_{m,t} - R_{f,t}) + \\beta_{smb}  R_{smb,t}  + \\beta_{hml}  R_{hml,t}  + \\eta_{i,t}$$\n",
    "\n",
    "1. What are the alpha and the beta(s) of TSLA in this regression?\n",
    "2. What percentage of the firm's total risk can be diversified away?"
   ]
  },
  {
   "cell_type": "code",
   "execution_count": null,
   "metadata": {},
   "outputs": [],
   "source": [
    "#\n",
    "#\n",
    "#\n",
    "#\n",
    "#\n",
    "#\n",
    "#\n",
    "#\n",
    "#\n",
    "#\n",
    "#\n",
    "#\n",
    "#\n",
    "#\n",
    "#\n",
    "#\n",
    "#\n",
    "#"
   ]
  }
 ],
 "metadata": {
  "kernelspec": {
   "display_name": "base",
   "language": "python",
   "name": "python3"
  },
  "language_info": {
   "codemirror_mode": {
    "name": "ipython",
    "version": 3
   },
   "file_extension": ".py",
   "mimetype": "text/x-python",
   "name": "python",
   "nbconvert_exporter": "python",
   "pygments_lexer": "ipython3",
   "version": "3.8.5"
  },
  "vscode": {
   "interpreter": {
    "hash": "c0d7515943f2d5e6ef3c63d1d45fe29892fe24bc9a1e3b83271f719b8681d46b"
   }
  }
 },
 "nbformat": 4,
 "nbformat_minor": 4
}
