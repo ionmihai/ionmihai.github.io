{
 "cells": [
  {
   "cell_type": "raw",
   "metadata": {},
   "source": [
    "---\n",
    "title: \"L07_08: Optimal asset allocation\"\n",
    "---"
   ]
  },
  {
   "cell_type": "markdown",
   "metadata": {},
   "source": [
    "# Lecture overview\n",
    "\n",
    "Optimal asset allocation has three parts:"
   ]
  },
  {
   "cell_type": "markdown",
   "metadata": {},
   "source": [
    "\n",
    "1. Finding the **tangency portfolio** (combining risky assets optimally)\n",
    "\n",
    "    - Covered in the previous lecture (Lecture 6).\n",
    "    - Also called the optimal risky portfolio.\n",
    "    - Does not depend on risk aversion. Only on the expected returns, standard deviations and covariances of the risky assets you want to invest in.\n",
    "    - Amounts to finding the weights in those risky assets that give us the portfolio with the highest Sharpe ratio (best expected return per unit of risk)\n",
    "   "
   ]
  },
  {
   "cell_type": "markdown",
   "metadata": {},
   "source": [
    " \n",
    "    \n",
    "2. Finding the optimal **capital allocation**\n",
    "\n",
    "    - Covered two lectures ago (Lecture 5)\n",
    "    - Involves finding the proportion of our funds we should invest in the tangency portfolio found above (with the remaining funds to be invested in a risk-free asset)\n",
    "    - Depends on the level of risk aversion of the investor\n",
    "    - The resulting combination of the risky portfolio and the risk-free asset is called the complete portfolio\n",
    "    \n"
   ]
  },
  {
   "cell_type": "markdown",
   "metadata": {},
   "source": [
    "    \n",
    "3. Combining the results in the previous two steps\n",
    "\n",
    "    - Covered in this class\n",
    "    - Amounts to multiplying the weight of each risky asset inside the tangency portfolio with the weight of the tangency portfolio inside the complete portfolio "
   ]
  },
  {
   "cell_type": "markdown",
   "metadata": {},
   "source": [
    "# Optimal asset allocation\n",
    "\n",
    "Suppose you have decided on a set of N risky assets that you are willing to invest in. Call these assets 1, 2, ..., N. The goal of optimal asset allocation is to tell you what weight you should put in each of these risky assets, and what weight you should put in a risk-free asset. \n"
   ]
  },
  {
   "cell_type": "markdown",
   "metadata": {},
   "source": [
    "## Step 1: Find the tangency portfolio\n",
    "\n",
    "We saw in the previous lecture that, given your N risky assets, the weights that give us the portfolio with the highest Sharpe ratio are given by:\n",
    "\n",
    "\n",
    "$$W_{tan} = \\frac{ \\Sigma^{-1}\\mu^e }{ \\mathbf{1^{T}}\\Sigma^{-1}\\mu^e }$$\n",
    "\n",
    "where $\\Sigma^{-1}$ is the inverse of the variance-covariance matrix of the N assets, and $\\mu^e$ is the vector of risk premia on your N assets.\n",
    "\n",
    "Remember that $W_{tan}$ is a vector of numbers, not a single number:\n",
    "\n",
    "$$W_{tan} = \\begin{pmatrix} w_{1,tan} \\\\ w_{2,tan} \\\\ ... \\\\ w_{N,tan} \\end{pmatrix}$$\n",
    "\n",
    "where each element $w_{i,tan}$ gives us the weight of risky asset $i$ inside the tangency portfolio."
   ]
  },
  {
   "cell_type": "markdown",
   "metadata": {},
   "source": [
    "## Step 2: Find the optimal capital allocation\n",
    "\n",
    "We saw two lectures ago that, if we have decided to invest in some risky portfolio P and the risk-free asset, the optimal weight in the risky asset is given by:\n",
    "\n",
    "$$w_{oca} = \\frac{E[R_P] - R_f}{A \\sigma_{P}^2}$$\n",
    "\n",
    "where $A$ is the investor's risk aversion coefficient."
   ]
  },
  {
   "cell_type": "markdown",
   "metadata": {},
   "source": [
    "## Step 3: Combine the first two steps to obtain the optimal asset allocation\n",
    "\n",
    "The risky portfolio $P$ in the above formula is our tangency portfolio from Step 1. So, in order to apply the above formula, we need to know not only the risk aversion of the investor ($A$), but also the expected return and variance of the tangency portfolio ($E[R_P]$ and $\\sigma_{P}^2$). This is straightforward, since we already know the weights of each asset inside the tangency portfolio from Step 1 ($W_{tan}$). Using the matrix notation above, we have:\n",
    "\n",
    "$$E[R_P] - R_f = W_{tan}^{T} \\cdot \\mu^e$$\n",
    "\n",
    "and \n",
    "\n",
    "$$\\sigma_{P}^2 = W_{tan}^{T} \\cdot  \\Sigma \\cdot  W_{tan}$$\n",
    "\n",
    "Remember the $T$ superscript in $W_{tan}^{T}$ stands for \"transpose\" which means reshaping the N x 1 vector $W_{tan}$ into a 1 x N vector: \n",
    "\n",
    "$$W_{tan}^{T} = \\begin{pmatrix} w_{1,tan} & w_{2,tan} & ...& w_{N,tan} \\end{pmatrix}$$\n",
    "\n",
    "\n",
    "Given the optimal capital allocation weight $w_{oca}$ and the tangency portfolio weights $W_{tan}$, the optimal asset allocation involves:\n",
    "\n",
    "- Investing $1 - w_{oca}$ of your funds in the risk-free asset\n",
    "- Investing $w_{oca} \\cdot w_{i,tan}$ of your finds in each risky asset $i$\n",
    "    - Where, as mentioned above, $w_{i,tan}$ is the weight of asset $i$ inside the tangency portfolio (the $i^{th}$ element of the $W_{tan}$ vector) "
   ]
  },
  {
   "cell_type": "markdown",
   "metadata": {},
   "source": [
    "# Special case: two risky assets\n",
    "\n",
    "The above formulas apply for any arbitrary number of risky assets N. However, to build intuition, here, we provide the formulas for the special case when we have only N = 2 risky assets. This special case is actually very important because your risky assets don't have to be individual assets (e.g. FB or TSLA). They can be portfolios. For example, one of your risky assets may be the S\\&P500 (e.g. an ETF like SPY which tracks the S\\&P500) and the other risky asset may be a diversified bond portfolio (e.g. an ETF like BND from Vanguard). In this case, solving for the optimal asset allocation decision is equivalent to deciding the optimal proportion of your funds to invest in stocks, bonds, and cash (or cash-equivalent assets). This is a very important investment decision, one that you will have to make very soon, for example, when you set up your 401(K). \n",
    "\n",
    "So let's rewrite the general formulas above, for the special case then you only have two risky assets, A and B:"
   ]
  },
  {
   "cell_type": "markdown",
   "metadata": {},
   "source": [
    "## N = 2: Step 1 (tangency portfolio)\n",
    "\n",
    "The tangency portfolio has weights: \n",
    "\n",
    "$$W_{tan} = \\begin{pmatrix} w_{A,tan} \\\\ w_{B,tan} \\end{pmatrix}$$\n",
    "\n",
    "where \n",
    "\n",
    "\n",
    "$$w_{A,tan} = \\frac{(E[R_A] - R_f) \\sigma_{B}^2 - (E[R_B] - R_f)Cov[R_A, R_B]}{(E[R_A] - R_f) \\sigma_{B}^2 + (E[R_B] - R_f) \\sigma_{A}^2 - (E[R_A] - R_f + E[R_B] - R_f)Cov[R_A, R_B]}$$\n",
    "\n",
    "and $w_{B,tan} = 1 - w_{A,tan}$."
   ]
  },
  {
   "cell_type": "markdown",
   "metadata": {},
   "source": [
    "## N = 2: Step 2 (capital allocation)\n",
    "\n",
    "Here the formula looks the same as for the general case. The optimal capital allocation involves placing a weight\n",
    "\n",
    "$$w_{oca} = \\frac{E[R_P] - R_f}{A \\sigma_{P}^2}$$\n",
    "\n",
    "of your total funds in the tangency portfolio P. As calculated at Step 1, this tangency portfolio has weights $(w_{A,tan}, w_{B,tan})$ invested A and B respectively. This means that, to use the formula above, we must first calculate:\n",
    "\n",
    "$$E[R_P] = w_{A,tan} E[R_A] + w_{B,tan} E[R_B]$$\n",
    "\n",
    "and\n",
    "\n",
    "$$\\sigma_{P}^2 = Var[R_P] =  w_{A,tan}^2 Var[R_A] + w_{B,tan}^2 Var[R_B] + 2 w_{A,tan} w_{B,tan} Cov[R_A, R_B]$$"
   ]
  },
  {
   "cell_type": "markdown",
   "metadata": {},
   "source": [
    "## N = 3: Step 3 (asset allocation)\n",
    "\n",
    "Step 2 says that we should put $w_{oca}$ of our funds in the tangency portfolio and $1 - w_{oca}$ in the risk-free asset. Step 1, says that, of the $w_{oca}$ proportion we put in the tangency portfolio, $w_{A,tan}$ should be invested in A and $w_{B,tan}$ should be invested in B.\n",
    "\n",
    "So the final, optimal asset allocation says we should put:\n",
    "\n",
    "- A proportion $1 - w_{oca}$ of the funds in the risk-free asset\n",
    "- A proportion $w_{oca} \\cdot w_{A,tan}$ of the funds in the risky asset A\n",
    "- A proportion $w_{oca} \\cdot w_{B,tan}$ of the funds in the risky asset B"
   ]
  },
  {
   "cell_type": "markdown",
   "metadata": {},
   "source": [
    "## Example\n",
    "\n",
    "You want to invest in Facebook (FB) and Netflix (NFLX) and the risk-free asset but are not sure how much to invest in each. You have estimated that the expected returns of FB and NFLX are 10% and 15% respectively, their standard deviations are 20% and 25% respectively and their covariance is 0.02. The risk-free rate is 0.1%. Find the optimal asset allocation between the three assets assuming that your risk-aversion coefficient is 5. "
   ]
  },
  {
   "cell_type": "code",
   "execution_count": null,
   "metadata": {},
   "outputs": [],
   "source": [
    "#\n",
    "#\n",
    "#\n",
    "#\n",
    "#\n",
    "#\n",
    "#\n",
    "#\n",
    "#\n",
    "#\n",
    "#\n",
    "#\n",
    "#\n",
    "#\n",
    "#\n",
    "#\n",
    "#\n",
    "#\n",
    "#\n",
    "#\n",
    "#\n",
    "#\n",
    "#\n",
    "#\n",
    "#\n",
    "#\n",
    "#\n",
    "#\n",
    "#\n",
    "#\n",
    "#\n",
    "#\n",
    "#\n",
    "#\n",
    "#\n",
    "#\n",
    "#\n",
    "#\n",
    "#\n",
    "#\n",
    "#\n",
    "#\n",
    "#\n",
    "#\n",
    "#\n",
    "    "
   ]
  },
  {
   "cell_type": "markdown",
   "metadata": {},
   "source": [
    "# Application with N risky assets\n",
    "\n",
    "You want to invest in the FANG stocks (Facebook, Aaple, Netflix, and Google) and in the risk-free asset but you are not sure how much to invest in each. Download monthly price data on the FANG stocks over the past 5 years (January 2018 to December 2022) and calculate monthly returns. Use these data to estimate the optimal weights you should use for the four stocks and in the risk-free asset. Assume that the risk-free rate is 0.1% and your risk aversion coefficient is 4."
   ]
  },
  {
   "cell_type": "code",
   "execution_count": null,
   "metadata": {},
   "outputs": [],
   "source": [
    "#\n",
    "#\n",
    "#\n",
    "#\n",
    "#\n",
    "#\n",
    "#\n",
    "#\n",
    "#\n",
    "#\n",
    "#\n",
    "#\n",
    "#\n",
    "#\n",
    "#\n",
    "#\n",
    "#\n",
    "#\n",
    "#\n",
    "#\n",
    "#\n",
    "#\n",
    "#\n",
    "#\n",
    "#\n",
    "#\n",
    "#\n",
    "#\n",
    "#\n",
    "#\n"
   ]
  }
 ],
 "metadata": {
  "kernelspec": {
   "display_name": "base",
   "language": "python",
   "name": "python3"
  },
  "language_info": {
   "codemirror_mode": {
    "name": "ipython",
    "version": 3
   },
   "file_extension": ".py",
   "mimetype": "text/x-python",
   "name": "python",
   "nbconvert_exporter": "python",
   "pygments_lexer": "ipython3",
   "version": "3.8.5"
  },
  "vscode": {
   "interpreter": {
    "hash": "c0d7515943f2d5e6ef3c63d1d45fe29892fe24bc9a1e3b83271f719b8681d46b"
   }
  }
 },
 "nbformat": 4,
 "nbformat_minor": 4
}
