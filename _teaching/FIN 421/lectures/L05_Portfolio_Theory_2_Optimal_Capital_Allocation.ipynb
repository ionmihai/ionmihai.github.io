{
 "cells": [
  {
   "cell_type": "raw",
   "metadata": {},
   "source": [
    "---\n",
    "title: \"L05: Optimal capital allocation\"\n",
    "---"
   ]
  },
  {
   "cell_type": "markdown",
   "metadata": {},
   "source": [
    "# Lecture overview\n",
    "\n",
    "- The capital allocation line\n",
    "    - All portfolios containing a risky asset and a risk-free asset lie on the same line in the mean-volatility space\n",
    "- Optimal capital allocation\n",
    "    - For a given level of risk aversion, what is the optimal proportion of your funds that you should invest in risky assets?"
   ]
  },
  {
   "cell_type": "markdown",
   "metadata": {},
   "source": [
    "# The capital allocation line (CAL)\n",
    "\n",
    "Let P be a risky asset (or portfolio) with return $R_P$ and let $R_f$ be the return on the risk-free asset. Then, a capital allocation is a proportion $w_{c}$ of funds you invest in the risky asset P (the proportion invested in the risk-free asset will be $1 - w_{c}$). Different choices of $w_{c}$ will result in different capital allocations. \n",
    "\n",
    "The **return of the complete portfolio** C (containing P and the risk-free asset) given by a given capital allocation $w_{c}$ is:\n",
    "\n",
    "$$R_C = w_{c} R_P + (1 - w_{c}) R_f$$\n",
    "\n",
    "The **expected return of the complete portfolio** is\n",
    "\n",
    "$$E[R_C] = w_{c} E[R_P] + (1 - w_{c}) R_f$$\n",
    "\n",
    "Because the future return on the risk-free asset is known ahead of time (guaranteed by the U.S. government), we have $E[R_f] = R_f$, which is why we can use $R_f$ in the equation above.\n",
    "\n",
    "The **variance of the complete portfolio** is\n",
    "\n",
    "$$Var[R_C] =  w_{c}^2 Var[R_P] + (1 - w_{c})^2 Var[R_f] + 2 w_{c} (1 - w_{c}) Cov[R_P, R_f]$$\n",
    "\n",
    "Because, as explained above, $R_f$ is a constant, not a random variable, its variance is 0 and it's covariance with any other random variable is 0. So, in the above equation $Var[R_f] = 0$ and $Cov[R_P, R_f] = 0$. Substituting these in the above equation we obtain\n",
    "\n",
    "$$Var[R_C] =w_{c}^2 Var[R_P]$$\n",
    "\n",
    "By taking square roots on both sides we obtain the **standard deviation of the complete portfolio**:\n",
    "\n",
    "$$\\sigma_{C} = w_{c} \\sigma_{P}$$\n",
    "\n",
    "where $\\sigma_{P}$ is the standard deviation of returns of the risky asset P.\n"
   ]
  },
  {
   "cell_type": "markdown",
   "metadata": {},
   "source": [
    "## Example\n",
    "\n",
    "Assume you have estimated that the expected return on TSLA is 10% and the standard deviation of its future returns is 12%. The risk-free rate is 1%. In this example, we will create 21 different capital allocations containing TSLA and the risk-free asset: the first will have a weight of 0% in TSLA, the next will have a weight of 10% in TSLA and so on (in increments of 10%) until the 21st capital allocation, which has 200% in TSLA. Calculate the expected returns and standard deviations of the 21 complete portfolios obtained from these capital allocations. Plot these portfolios in mean-volatility space. "
   ]
  },
  {
   "cell_type": "code",
   "execution_count": 2,
   "metadata": {},
   "outputs": [],
   "source": [
    "#\n",
    "#\n",
    "#\n",
    "#\n",
    "#\n",
    "#\n",
    "#\n",
    "#\n",
    "#\n",
    "#\n",
    "#\n",
    "#\n",
    "#\n",
    "#\n",
    "#\n",
    "#\n",
    "#\n",
    "#\n",
    "#"
   ]
  },
  {
   "cell_type": "markdown",
   "metadata": {},
   "source": [
    "# Characteristics of the CAL\n",
    "\n",
    "Every risky asset has its own capital allocation line (CAL). \n",
    "\n",
    "That CAL intersects the Y axis at the risk-free rate. \n",
    "\n",
    "The slope of a risky asset's CAL equals that asset's Sharpe ratio:\n",
    "\n",
    "$$SlopeCAL = \\frac{E[R_P] - R_f}{\\sigma_{P}} $$\n",
    "\n",
    "So the analytical equation for the CAL is:\n",
    "\n",
    "$$E[R_C] = R_f + \\sigma_{C} \\frac{E[R_P] - R_f}{\\sigma_{P}}$$\n",
    "\n",
    "This tells us the relation between the risk and expected return of our complete portfolio, given the Sharpe ratio of the risky part of the portfolio."
   ]
  },
  {
   "cell_type": "markdown",
   "metadata": {},
   "source": [
    "# Optimal Capital Allocation\n",
    "\n",
    "The above formulas describe our complete portfolio once we have decided on a given capital allocation $w_c$. But how should we decide on what $w_c$ should be? It turns out that this depends on the risk aversion of the investor (that may be you, if you are investing your own money, but it need not be).\n",
    "\n",
    "For an investor with risk aversion coefficient A, the optimal capital allocation (call it $w_{oca}$) is:\n",
    "\n",
    "$$w_{oca} = \\frac{E[R_P] - R_f}{A \\sigma_{P}^2}$$\n",
    "\n",
    "An investor's risk aversion A is calculated by asking them: \"If you were to invest all your wealth in an investment with with variance $\\sigma^2$, what is the minimal expected return you would require to make the investment?\". Call that expected return $E[R]$. The coefficient of risk aversion A is given by:\n",
    "\n",
    "$$A = \\frac{E[R]}{\\sigma^2}$$"
   ]
  },
  {
   "cell_type": "markdown",
   "metadata": {},
   "source": [
    "## Example\n",
    "\n",
    "Assume you have estimated that the expected return on TSLA is 5.6% and the standard deviation of its future returns is 18.6%. The risk-free rate is 0.1%. Your coefficient of risk aversion if 4. What is your optimal capital allocation?"
   ]
  },
  {
   "cell_type": "code",
   "execution_count": 3,
   "metadata": {},
   "outputs": [],
   "source": [
    "#\n",
    "#\n",
    "#\n",
    "#\n",
    "#\n",
    "#\n",
    "#\n",
    "#\n",
    "#\n",
    "#\n",
    "#\n",
    "#\n",
    "#\n",
    "#"
   ]
  },
  {
   "cell_type": "markdown",
   "metadata": {},
   "source": [
    "## Discussion\n",
    "\n",
    "The optimal capital allocation tells you the right proportion of your funds to invest in a given risky asset P. By \"given\" we mean you (or your client) have already decided what that asset (or portfolio) P is. We will soon talk more about optimal ways to find P as well. But for now, we assume we have already done that and we know what P is. \n",
    "\n",
    "However, it is important to point out that the optimal capital allocation formula \n",
    "\n",
    "$$w_{oca} = \\frac{E[R_P] - R_f}{A \\sigma_{P}^2}$$\n",
    "\n",
    "is only valid if $\\sigma_{P}$ is the right measure of the risk we would be exposed to if we invested in P. If P is the only investment we make, then this is correct. But if we own other assets, and P becomes part of our larger, overall portfolio, then this is no longer correct. That's because a large part of P's total risk ($\\sigma_{P}$) will be diversified away as part of our overall portfolio. \n",
    "\n",
    "So, in general, the optimal capital allocation formula above, should not be applied if P is an individual security  (such as TSLA in our previous example). Instead **it should be applied if P is a very well diversified portfolio of risky assets**, so that its total risk is very close to its systematic risk. \n"
   ]
  },
  {
   "cell_type": "markdown",
   "metadata": {},
   "source": [
    "# Real-World Application\n",
    "\n",
    "Download annual data on the S\\&P500 index from Yahoo Finance over the past 50 years (ticker = GSPC). Assume the risk-free rate is 0.1% and your risk aversion coefficient is 4. What is your optimal capital allocation? "
   ]
  },
  {
   "cell_type": "code",
   "execution_count": null,
   "metadata": {},
   "outputs": [],
   "source": [
    "#\n",
    "#\n",
    "#\n",
    "#\n",
    "#\n",
    "#\n",
    "#\n",
    "#\n",
    "#\n",
    "#\n",
    "#\n",
    "#\n",
    "#\n",
    "#\n",
    "#"
   ]
  }
 ],
 "metadata": {
  "kernelspec": {
   "display_name": "base",
   "language": "python",
   "name": "python3"
  },
  "language_info": {
   "codemirror_mode": {
    "name": "ipython",
    "version": 3
   },
   "file_extension": ".py",
   "mimetype": "text/x-python",
   "name": "python",
   "nbconvert_exporter": "python",
   "pygments_lexer": "ipython3",
   "version": "3.8.5 (default, Sep  3 2020, 21:29:08) [MSC v.1916 64 bit (AMD64)]"
  },
  "vscode": {
   "interpreter": {
    "hash": "c0d7515943f2d5e6ef3c63d1d45fe29892fe24bc9a1e3b83271f719b8681d46b"
   }
  }
 },
 "nbformat": 4,
 "nbformat_minor": 4
}
