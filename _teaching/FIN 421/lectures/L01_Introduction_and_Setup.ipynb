{
 "cells": [
  {
   "cell_type": "raw",
   "metadata": {},
   "source": [
    "---\n",
    "title: \"L01: Introduction\"\n",
    "---"
   ]
  },
  {
   "cell_type": "markdown",
   "metadata": {},
   "source": [
    "# Course overview\n",
    "\n",
    "Topics covered (in reverse order):"
   ]
  },
  {
   "cell_type": "markdown",
   "metadata": {},
   "source": [
    "## Pricing of individual assets\n",
    "\n",
    "- All asset prices are determined by supply and demand for them in the market\n",
    "- If investors are rational, these prices will equal the discounted value of their expected cash flows:\n",
    "\n",
    "    - Pricing formula for stocks\n",
    "\n",
    "        $$P_t = \\frac{D_{t+1}}{1+d} + \\frac{D_{t+2}}{(1+d)^2} + \\frac{D_{t+3}}{(1+d)^3} + ...$$\n",
    "\n",
    "\n",
    "    - Pricing formula for bonds\n",
    "\n",
    "        $$P_t = \\frac{C_{t+1}}{1+YTM} + \\frac{C_{t+2}}{(1+YTM)^2} + ... + \\frac{C_T + P}{(1+YTM)^T} $$\n",
    "                    \n",
    "- If investors are rational and markets are efficient, then all assets are priced correctly (current market price = intrinsic value of the asset). The only way to obtain a higher return is to incur a higher risk. You do this by investing more or less of your money in the market portfolio and the rest in the risk-free asset (e.g. Tbills). There is an optimal way of doing this, depending on your level of risk aversion. This process is called the **capital allocation** process and we will cover it in the second part of our course (more on this below).\n",
    "- If investors are not rational and markets are inefficient (they make systematic mistakes) we can take advantage of this by:\n",
    "    - Buying assets that are undervalued (current market price < correct price)\n",
    "    - Selling (or shorting) assets that are overvalued (current market price > correct price)\n",
    "    \n",
    "- To do this, we need to figure out what is the \"correct price\" of an asset. This part of finance is generally referred to as **valuation**. We will focus on valuing equities (stocks) and we will cover this in the third part of our course. There are several approaches to valuing a company. The most commonly used ones are:\n",
    "    - **Dividend discount models (DDM)**: uses simplified versions of the above stock pricing formula. For this, we need to come up with estimates for:\n",
    "        - The future dividends associated with the assets: mostly covered in corporate finance (pro-forma statements etc)\n",
    "        - The appropriate discount rate for those assets: mostly covered in investments class (portfolio theory, CAPM etc)        \n",
    "    - **Discounted cash flow analysis (DCF)**: similar to DDM, except instead of dividends, we use free cash flows\n",
    "    - **Multiples valuation**: find comparable firms, estimate multiples like P/E ratios for them, and assume they apply to the firm you are valuing. Then use these ratios to back out the price for your firm. "
   ]
  },
  {
   "cell_type": "markdown",
   "metadata": {},
   "source": [
    "## Portfolio theory\n",
    "\n",
    "- Before we get to valuation (pricing individual assets), we need to understand what happens when you invest in more than one asset (i.e. when you own a portfolio of assets). This is very important because\n",
    "    - It shows us how **diversification** works, which in turn\n",
    "    - Shows us the difference between **systematic** (diversifiable) risk and **indiosyncratic** (non-diversifiable) risk, which in turn\n",
    "    - Shows us how we should be calculating the appropriate discount rate for an asset (we will see that this is the same as the **expected return** of the asset)\n",
    "- Understanding how to analize portfolios is also crucial for developing optimal asset allocation decisions: \n",
    "    - As mentioned above, if you believe investors are rational and markets are efficient, then the optimal **capital allocation** decision tells you how much to invest in the risk free asset and how much to invest in the market portfolio and your investment process ends here.\n",
    "    - If you believe investors are not rational and markets are inefficient, it may be optimal for you to invest in something other than the market portfolio (e.g. any mispriced assets that you may have found). In this case, we can use portfolio theory to find the optimal weights you should be putting in each of these risky assets. This is called the **optimal risky portfolio**. Once this is done, we can use our optimal asset allocation process to find the optimal percent of our funds to invest in this optimal risky portfolio, so as to obtain a **complete portfolio** that matches our level of risk aversion."
   ]
  },
  {
   "cell_type": "markdown",
   "metadata": {},
   "source": [
    "## Foundations of investments\n",
    "\n",
    "- Before we get to portfolio theory or valuation, we need to have a firm grasp on some of they key quantities we will use to describe asset prices and returns. We will cover this in the first part of the course:\n",
    "    - Returns\n",
    "        - Calculating holding period returns (HPR)\n",
    "        - Compounding returns over multiple periods\n",
    "        - Annualizing returns (APR vs EAR)\n",
    "        - Adjusting for inflation (real vs nominal rates of return)\n",
    "        - Average returns:\n",
    "            - Arithmetic average\n",
    "            - Geometric average\n",
    "        - Volatility of returns:\n",
    "            - Variance\n",
    "            - Standard deviation\n",
    "    - Excess returns and risk premia\n",
    "    - Risk aversion\n",
    "    - Sharpe ratios\n",
    "    "
   ]
  }
 ],
 "metadata": {
  "kernelspec": {
   "display_name": "base",
   "language": "python",
   "name": "python3"
  },
  "language_info": {
   "codemirror_mode": {
    "name": "ipython",
    "version": 3
   },
   "file_extension": ".py",
   "mimetype": "text/x-python",
   "name": "python",
   "nbconvert_exporter": "python",
   "pygments_lexer": "ipython3",
   "version": "3.8.5 (default, Sep  3 2020, 21:29:08) [MSC v.1916 64 bit (AMD64)]"
  },
  "vscode": {
   "interpreter": {
    "hash": "c0d7515943f2d5e6ef3c63d1d45fe29892fe24bc9a1e3b83271f719b8681d46b"
   }
  }
 },
 "nbformat": 4,
 "nbformat_minor": 4
}
