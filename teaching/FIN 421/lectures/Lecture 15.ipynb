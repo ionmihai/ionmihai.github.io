{
 "cells": [
  {
   "cell_type": "raw",
   "metadata": {},
   "source": [
    "---\n",
    "title: \"L15: Bond yields\"\n",
    "---"
   ]
  },
  {
   "attachments": {},
   "cell_type": "markdown",
   "metadata": {},
   "source": [
    "# Yield to maturity and current yield\n",
    "\n",
    "A bond's yield to maturity (YTM) is the rate that makes the present value of the bond's future cash flows equal to its current price. In other words, if you know the price of the bond, the yield is obtained by solving for YTM in the pricing equation:\n",
    "\n",
    "\n",
    "$$P_t = \\frac{C}{1+YTM} + \\frac{C}{(1+YTM)^2} + ... + \\frac{C + Par}{(1+YTM)^T} $$                    \n"
   ]
  },
  {
   "attachments": {},
   "cell_type": "markdown",
   "metadata": {},
   "source": [
    "There is an **inverse relationship** between bond prices and their YTM: if a bond has a higher YTM, that means its cash flows are discounted at a higher rate, which means its price is lower. The implication is that bond prices go up when interest rates go down and they go down when interest rates go up."
   ]
  },
  {
   "cell_type": "markdown",
   "metadata": {},
   "source": [
    "\n",
    "A bond's **current yield** equals its annual coupon payment divided by the current bond price."
   ]
  },
  {
   "attachments": {},
   "cell_type": "markdown",
   "metadata": {},
   "source": [
    "To calculate YTM using Excel, we use the **YIELD** function, which has the following parameters:"
   ]
  },
  {
   "attachments": {},
   "cell_type": "markdown",
   "metadata": {},
   "source": [
    "- Settlement date = Date as of which you are pricing the bond\n",
    "- Maturity date \n",
    "- Annual coupon rate (decimal, e.g. 6% should be put in as 0.06)\n",
    "- Price of the bond = The clean (flat) price of the bond, expresses as a percentage of par (face) value\n",
    "- Redemption value (% of face value, usually 100)\n",
    "- Coupon payments per year"
   ]
  },
  {
   "attachments": {},
   "cell_type": "markdown",
   "metadata": {},
   "source": [
    "**Example 1:**\n",
    "\n",
    "Assume today is July 31, 2012. Bond A matures on July 31, 2018, has par value of $1000, pays coupons semiannually, and has a coupon rate of 6%. The flat price of the bond is $1225.102. What is the YTM of the bond today? What is its current yield?"
   ]
  },
  {
   "cell_type": "code",
   "execution_count": 1,
   "metadata": {},
   "outputs": [],
   "source": [
    "# \n",
    "#\n",
    "#\n",
    "#\n",
    "#\n",
    "#\n",
    "#\n",
    "#"
   ]
  },
  {
   "attachments": {},
   "cell_type": "markdown",
   "metadata": {},
   "source": [
    "**Example 2:**\n",
    "\n",
    "Bond A matures in 30 years, and pays coupons annually. It has a coupon rate of 8%, and a par value of $100. The quoted clean price of the bond is 81.14617. What is the YTM of the bond today? What is its current yield?"
   ]
  },
  {
   "cell_type": "code",
   "execution_count": null,
   "metadata": {},
   "outputs": [],
   "source": [
    "# \n",
    "#\n",
    "#\n",
    "#\n",
    "#\n",
    "#\n",
    "#\n",
    "#"
   ]
  },
  {
   "attachments": {},
   "cell_type": "markdown",
   "metadata": {},
   "source": [
    "**Example 3:**\n",
    "\n",
    "Bond A was issued on May 15, 2000 and it matures in May 15, 2030. Coupons are paid semi-annualy, the coupon rate is 6%, and the par value is $100. July 31, 2012 the flat price is 159.6281 and the invoice price is 160.8835. What is the YTM of the bond on July 31, 2012? What is its current yield."
   ]
  },
  {
   "cell_type": "code",
   "execution_count": null,
   "metadata": {},
   "outputs": [],
   "source": [
    "# \n",
    "#\n",
    "#\n",
    "#\n",
    "#\n",
    "#\n",
    "#\n",
    "#"
   ]
  },
  {
   "attachments": {},
   "cell_type": "markdown",
   "metadata": {},
   "source": [
    "# Reinvesting coupons\n",
    "\n",
    "Your return from a bond investment will depend on how you (re)invest the coupons. If you are able to reinvest your coupons at a higher rate, the total return from the bond will be higher. \n",
    "\n",
    "Below, we work through an example where we assume you are able to reinvest the coupons at a particular, constant, interest rate. This makes the coupons a fixed-rate annuity. The total proceeds from the coupons will therefore be the future value of that annuity. "
   ]
  },
  {
   "attachments": {},
   "cell_type": "markdown",
   "metadata": {},
   "source": [
    "We can calculate future values of annuities with the \"FV\" function in Excel, which has the following parameters:\n",
    "\n",
    "- rate = interest rate per compounding period (YTM divided by number of\n",
    " coupons per year)\n",
    "- nper = number of compounding periods left (years to maturity times number of coupons per year) \n",
    "- pmt = coupon per compounding period (par value times annual coupon rate divided by number of coupons per year). Put a negative sign in front of it to express that it is an outflow.\n"
   ]
  },
  {
   "attachments": {},
   "cell_type": "markdown",
   "metadata": {},
   "source": [
    "**Example 4:**\n",
    "\n",
    "Bond A matures in 10 years and it pays interest quarterly. It has a coupon rate of 5% and a YTM of 10%. Calculate the total proceeds from the coupons of the bond if you reinvest all coupons at a 10% rate and you hold the bond until maturity.\n"
   ]
  },
  {
   "cell_type": "code",
   "execution_count": 1,
   "metadata": {},
   "outputs": [],
   "source": [
    "# \n",
    "#\n",
    "#\n",
    "#\n",
    "#\n",
    "#\n",
    "#\n",
    "#"
   ]
  },
  {
   "attachments": {},
   "cell_type": "markdown",
   "metadata": {},
   "source": [
    "**Example 5:**\n",
    "\n",
    "Same question as in Example 4, only now, assume you don't reinvest the coupons at all.\n"
   ]
  },
  {
   "cell_type": "code",
   "execution_count": null,
   "metadata": {},
   "outputs": [],
   "source": [
    "# \n",
    "#\n",
    "#\n",
    "#\n",
    "#\n",
    "#\n",
    "#\n",
    "#"
   ]
  },
  {
   "attachments": {},
   "cell_type": "markdown",
   "metadata": {},
   "source": [
    "**Example 6:**\n",
    "\n",
    "Same question as in Example 4, only now, assume you reinvest the coupons at a rate of 20% per year.\n"
   ]
  },
  {
   "cell_type": "code",
   "execution_count": null,
   "metadata": {},
   "outputs": [],
   "source": [
    "# \n",
    "#\n",
    "#\n",
    "#\n",
    "#\n",
    "#\n",
    "#\n",
    "#"
   ]
  },
  {
   "attachments": {},
   "cell_type": "markdown",
   "metadata": {},
   "source": [
    "# Bond compounded realized yield (realized return)\n",
    "\n",
    "The realized yield (or realized return) of a bond is your total return from investing in the bond. It equals the proceeds from the coupons (possibly reinvested) plus the price you obtain from selling the bond (or par value if you hold it until maturity), all divided by the price you paid for the bond initially.\n",
    "\n",
    "Note that this give us a total, gross, compounded return on the bond. To convert it to an APR, we use the familiar conversion formula:\n",
    "\n",
    "$$APR = F \\cdot (Gross Compounded Return^{\\frac{1}{T \\cdot F}} - 1) $$\n",
    "\n",
    "where\n",
    "\n",
    "- Gross Compounded Return = bond total proceeds (including reinvested coupons) divided by price paid for bond\n",
    "- T is number of years the bond was held, and F is the number of coupons (or compounding periods) per year"
   ]
  },
  {
   "attachments": {},
   "cell_type": "markdown",
   "metadata": {},
   "source": [
    "**Examples 4,5,6:**\n",
    "\n",
    "Go back to examples 4, 5, and 6, and calculate the realized return of the bond (expressed as an APR) in each example."
   ]
  },
  {
   "cell_type": "code",
   "execution_count": 2,
   "metadata": {},
   "outputs": [],
   "source": [
    "# \n",
    "#\n",
    "#\n",
    "#\n",
    "#\n",
    "#\n",
    "#\n",
    "#\n",
    "# \n",
    "#\n",
    "#\n",
    "#\n",
    "#\n",
    "#\n",
    "#\n",
    "#"
   ]
  },
  {
   "attachments": {},
   "cell_type": "markdown",
   "metadata": {},
   "source": [
    "The examples above illustrate a very important point: **the YTM of a bond tells you the return you will actually get from the bond ONLY if you reinvest the coupons at a rate equal to the YTM**"
   ]
  }
 ],
 "metadata": {
  "kernelspec": {
   "display_name": "Python 3",
   "language": "python",
   "name": "python3"
  },
  "language_info": {
   "codemirror_mode": {
    "name": "ipython",
    "version": 3
   },
   "file_extension": ".py",
   "mimetype": "text/x-python",
   "name": "python",
   "nbconvert_exporter": "python",
   "pygments_lexer": "ipython3",
   "version": "3.8.5"
  }
 },
 "nbformat": 4,
 "nbformat_minor": 4
}
