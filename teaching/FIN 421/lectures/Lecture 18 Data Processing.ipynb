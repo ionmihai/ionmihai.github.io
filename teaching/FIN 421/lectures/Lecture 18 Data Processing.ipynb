{
 "cells": [
  {
   "attachments": {},
   "cell_type": "markdown",
   "metadata": {},
   "source": [
    "# Valuation overview\n",
    "\n",
    "We will learn how to value a firm (MSFT in our examples) using three different methods:\n",
    "\n",
    "1. Multiples\n",
    "2. Dividend Discount Model (DDM)\n",
    "3. Discounted Cash Flow (DCF) analysis\n",
    "\n",
    "Before we start, we need to gather some data (instructions on how to get it below). All the files we download will go into a \"Data\" folder that you should create in the same folder where you saved these lecture notes."
   ]
  },
  {
   "attachments": {},
   "cell_type": "markdown",
   "metadata": {},
   "source": [
    "# Downloading financial statements\n",
    "\n",
    "We will download financial statements from\n",
    "\n",
    "https://www.morningstar.com/\n",
    "\n",
    "For this purpose, you must create a free account with Morningstar first. Then: \n",
    "\n",
    "- Input the ticker of your firm in \"Search Quotes and Site\" at the top-left of the page. \n",
    "- Click \"Financials\"\n",
    "- Click \"Expand Detail View\"\n",
    "- Click \"Export Data\" (towards the right of the screen). This will download the Income Statement. \n",
    "- To download the balance sheet, select \"Balance Sheet\" and then hit \"Export Data\". \n",
    "- Follow the same process for the Cash Flow statement.\n",
    "\n",
    "We will create a \"Valuation\" excel file, and store each of these financial statements into a separate sheet in that file."
   ]
  },
  {
   "attachments": {},
   "cell_type": "markdown",
   "metadata": {},
   "source": [
    "# Industry-level data\n",
    "\n",
    "These data come from Aswath Damodaran at NYU. If you want to download these data yourself, go to \n",
    "\n",
    "http://pages.stern.nyu.edu/~adamodar/\n",
    "\n",
    "Then, get the following files:"
   ]
  },
  {
   "attachments": {},
   "cell_type": "markdown",
   "metadata": {},
   "source": [
    "- For \"multiples\" valuation, we will use data from the following files\n",
    "    - The file that starts with \"PE Ratios, ...\" (once downloaded, it will be called \"pedata\")\n",
    "    - The file that starts with \"Price and Enterprise Value to Book Ratios ...\" (once downloaded, it will be called \"pbdata\")\n",
    "    - The file that starts with \"Enterprise Value/EBIT ...\" (once downloaded, it will be called \"vebitda\")"
   ]
  },
  {
   "attachments": {},
   "cell_type": "markdown",
   "metadata": {},
   "source": [
    "- For DDM valuation, we will use data from the following files:\n",
    "    - The file that starts with \"Historical growth rate in EPS, ...\" (once downloaded, it will be called \"histgr\")    \n",
    "    - The file that starts with \"Fundamental growth rate in EPS, ...\" (once downloaded, it will be called \"fundgr\") "
   ]
  },
  {
   "cell_type": "markdown",
   "metadata": {},
   "source": [
    "\n",
    "- For DCF valuation, we will use data from:\n",
    "    - The \"Cost of capital by industry\" file (once downloaded, it will be called \"wacc\")"
   ]
  },
  {
   "attachments": {},
   "cell_type": "markdown",
   "metadata": {},
   "source": [
    "# Competitor data"
   ]
  },
  {
   "attachments": {},
   "cell_type": "markdown",
   "metadata": {},
   "source": [
    "\n",
    "To find a firm's competitors (according to Morningstar), go to the firm's Morningstar page (as explained above) and hit the \"Quote\" tab. Then hit \"Competitors\" (towards the middle of the page).\n",
    "\n",
    "For MSFT, this should show GOOG (Alphabet), ORCL (Oracle), and CRM (Salesforce) as the competitors. \n",
    "\n",
    "Hit \"More Competitors Data\" and you will see their Price/Earnings (P/E) and Price/Book (P/B) ratios.\n",
    "\n",
    "To obtain more ratios (in particular, we will need Enterprise Value / EBITDA), we need to go to each competitor's Morningstar page and hit the \"Valuation\" tab.\n",
    "\n",
    "We will store each of these competitor ratios into a \"Comps\" sheet in the \"Valuation\" file we created above."
   ]
  },
  {
   "attachments": {},
   "cell_type": "markdown",
   "metadata": {},
   "source": [
    "# Returns data\n",
    "\n",
    "We will need to estimate MSTF's cost of equity. For this purpose, we need data on MSFT returns, and the returns to the Fama-French factors. We have gathered data like this several times in class, so I will not make you do it again. The \"Data\" subforder found together with these lecture notes on D2L contains a file named \"msft_returns\" that has all the data you need to estimate MSFTs cost of equity."
   ]
  }
 ],
 "metadata": {
  "kernelspec": {
   "display_name": "Python 3",
   "language": "python",
   "name": "python3"
  },
  "language_info": {
   "codemirror_mode": {
    "name": "ipython",
    "version": 3
   },
   "file_extension": ".py",
   "mimetype": "text/x-python",
   "name": "python",
   "nbconvert_exporter": "python",
   "pygments_lexer": "ipython3",
   "version": "3.9.12"
  }
 },
 "nbformat": 4,
 "nbformat_minor": 4
}
