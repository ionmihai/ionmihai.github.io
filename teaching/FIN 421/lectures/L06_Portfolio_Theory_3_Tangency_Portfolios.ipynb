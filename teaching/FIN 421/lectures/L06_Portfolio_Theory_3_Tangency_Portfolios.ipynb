{
 "cells": [
  {
   "cell_type": "raw",
   "metadata": {},
   "source": [
    "---\n",
    "title: \"L06: Tangency portfolios\"\n",
    "---"
   ]
  },
  {
   "cell_type": "markdown",
   "metadata": {},
   "source": [
    "# Lecture overview\n",
    "\n",
    "Given a set of risky assets, what is the best portfolio we can construct with them? Assuming we are mean-variance optimizers, this amounts to finding the set of weights that gives us the portfolio with the **maximum Sharpe ratio** (i.e. the portfolio that gives us the best expected return per unit of risk). We start by learning how to do this for the special case when we only have two risky assets and then move on to the general case with an arbitrary (\"N\") number of assets. These maximum Sharpe ratio portfolios are also called **optimal risky portfolios** or **tangency portfolios**."
   ]
  },
  {
   "cell_type": "markdown",
   "metadata": {},
   "source": [
    "- The special case: Portfolio optimization with two risky assets\n",
    "    - The investment opportunity set\n",
    "    - Tangency portfolio "
   ]
  },
  {
   "cell_type": "markdown",
   "metadata": {},
   "source": [
    "\n",
    "- The general case: Portfolio optimization with an arbitrary number risky assets\n",
    "    - Matrix representation\n",
    "    - Tangency portfolio"
   ]
  },
  {
   "cell_type": "markdown",
   "metadata": {},
   "source": [
    "\n",
    "Besides learning the mechanics of building optimal risky portfolios, another key lesson from this lecture is that the optimal risky portfolio does not depend on who the investor is (i.e. it does not depend on their risk aversion). What depends on their risk aversion is the proportion of their funds they should invest in this optimal risky portfolio. We touched on this in the previous lecture, and we will talk about it in much more detail in the following lecture."
   ]
  },
  {
   "cell_type": "markdown",
   "metadata": {},
   "source": [
    "# Portfolio optimization with two risky assets\n",
    "\n",
    "We start with the simples possible case, when we have only two risky assets that we want to combine in an optimal portfolio. Call those assets A and B, and assume we have already estimated their expected returns ($E[R_A]$ and $E[R_B]$), their standard deviations ($\\sigma_A$ and $\\sigma_B$) and their covariance ($COV[R_A, R_B]$ sometimes denoted $\\rho_{AB}$).\n",
    "\n",
    "The only thing we have to decide is what proportion of the portfolio consists of asset A (call this $w_A$), because this will give us the proportion in asset B: $w_B = 1 - w_A$. As mentioned above, this amounts to finding the $w_A$ that gives us the portfolio with the highers possible Sharpe ratio. Before we do this (in Section 2.2.) we first construct a large number of portfolios for different values of $w_A$ to get a better sense of how these portfolios look like from a mean-variance perspective. \n"
   ]
  },
  {
   "cell_type": "markdown",
   "metadata": {},
   "source": [
    "## The investment opportunity set \n",
    "\n",
    "The investment opportunity set for a given collection of assets is the set of ALL the possible portfolios you can construct with those assets. This is an infinite set but we can get a good idea of what the investment opportunity set looks like by just building a small subset of portfolios and plotting them in mean-volatility space.\n",
    "\n",
    "In the special case with only two risky assets A and B, using the notation above, for any choice of weights ($w_A$, $w_B$) we obtain a different portfolio P. Recall that the expected return and variance of the resulting portfolio P are given by:\n",
    "\n",
    "$$E[R_P] = w_A E[R_A] + w_B E[R_B]$$\n",
    "\n",
    "\n",
    "$$Var[R_P] =  w_{A}^2 Var[R_A] + w_{B}^2 Var[R_B] + 2 w_A w_B Cov[R_A, R_B]$$\n",
    "\n",
    "where $w_B = 1 - w_A$ and the portfolio standard deviation is $\\sigma_P = \\sqrt{Var[R_P]}$\n",
    "\n"
   ]
  },
  {
   "cell_type": "markdown",
   "metadata": {},
   "source": [
    "### Example\n",
    "\n",
    "You want to invest in Facebook (FB) and Netflix (NFLX) but are not sure how much to invest in each. You have estimated that the expected returns of FB and NFLX are 10% and 15% respectively, their standard deviations are 20% and 25% respectively and their covariance is 0.02. Construct 21 different portfolios of FB and NFLX by starting out with a weight of 0% in FB and progressively increasing it by 5% until you reach a portfolio with 100% in FB. For each portfolio, estimate its expected return and standard deviation of future returns and plot it in mean-volatility space.   "
   ]
  },
  {
   "cell_type": "code",
   "execution_count": 1,
   "metadata": {},
   "outputs": [],
   "source": [
    "#\n",
    "#\n",
    "#\n",
    "#\n",
    "#\n",
    "#\n",
    "#\n",
    "#\n",
    "#\n",
    "#\n",
    "#\n",
    "#\n",
    "#\n",
    "#\n",
    "#\n",
    "#\n",
    "#\n",
    "#\n",
    "#\n",
    "#\n",
    "#\n",
    "#\n",
    "#\n",
    "#\n",
    "#\n",
    "#\n",
    "#\n",
    "#\n",
    "#\n",
    "#"
   ]
  },
  {
   "cell_type": "markdown",
   "metadata": {},
   "source": [
    "## Optimal risky portfolio (tangency portfolio)\n",
    "\n",
    "The combination between two risky assets A and B that gives us the maximum Sharpe ratio is obtained by setting\n",
    "\n",
    "$$w_A = \\frac{(E[R_A] - R_f) \\sigma_{B}^2 - (E[R_B] - R_f)Cov[R_A, R_B]}{(E[R_A] - R_f) \\sigma_{B}^2 + (E[R_B] - R_f) \\sigma_{A}^2 - (E[R_A] - R_f + E[R_B] - R_f)Cov[R_A, R_B]}$$\n",
    "\n",
    "and $w_B = 1 - w_A$.\n",
    "\n",
    "The reason why we also call this optimal risky portfolio the \"tangency portfolio\" is because its capital allocation line (CAL) intersects the investment opportunity set of A and B (see the curve we plotted in the previous example) at only one point (i.e. the CAL is tangent to the investment opportunity set). "
   ]
  },
  {
   "cell_type": "markdown",
   "metadata": {},
   "source": [
    "### Example\n",
    "\n",
    "Using the data from the previous example, find the optimal combination of FB and NFLX. Assume that the risk-free rate is 0.1%."
   ]
  },
  {
   "cell_type": "code",
   "execution_count": 4,
   "metadata": {},
   "outputs": [],
   "source": [
    "#\n",
    "#\n",
    "#\n",
    "#\n",
    "#\n",
    "#\n",
    "#\n",
    "#\n",
    "#\n",
    "#\n",
    "#\n",
    "#\n",
    "#\n",
    "#\n",
    "#\n",
    "#\n",
    "#\n",
    "#\n",
    "#\n",
    "#"
   ]
  },
  {
   "cell_type": "markdown",
   "metadata": {},
   "source": [
    "# Portfolio optimization with an arbitrary number of risky assets\n",
    "\n",
    "We now move on the general case where we have an arbitrary number of assets N, and we want to find the combination (set of weights) that gives us the portfolio with the highest Sharpe ratio. Call these assets 1, 2, ..., N and assume we have already estimated their expected returns, standard deviations, and covariances between any two assets. "
   ]
  },
  {
   "cell_type": "markdown",
   "metadata": {},
   "source": [
    "## Matrix notation\n",
    "\n",
    "To make the formulas more manageable, we assemble our inputs (expected returns, variances and covariances) into matrices.\n",
    "\n",
    "Let $\\mu$ be the Nx1 vector of expected returns:\n",
    "\n",
    "$$\\mu = \\begin{pmatrix} E[R_1] \\\\ E[R_2] \\\\ ... \\\\ E[R_N] \\end{pmatrix}$$\n",
    "\n",
    "And $\\Sigma$ the variance-covariance matrix of future returns. In row $i$ and column $j$ this matrix contains the covariance between the returns of assets $i$ and $j$. Note that when $i = j$ (on the diagonal) this equals the variance of asset $i$.\n",
    "\n",
    "$$\\Sigma = \\begin{pmatrix} Var[R_1] & Cov[R_1, R_2] & ... & Cov[R_1, R_N] \\\\ Cov[R_2, R_1] & Var[R_2] & ... & Cov[R_2, R_N] \\\\ ... & ... & ... & ... \\\\ Cov[R_N, R_1] & Cov[R_N, R_2] & ... & Var[R_N] \\end{pmatrix}$$\n"
   ]
  },
  {
   "cell_type": "markdown",
   "metadata": {},
   "source": [
    "## Tangency portfolio with N risky assets\n",
    "\n",
    "Let $\\mu^e$ be the vector of risk premia on our N assets:\n",
    "\n",
    "\n",
    "$$\\mu^e = \\begin{pmatrix} E[R_1] - R_f \\\\ E[R_2] - R_f \\\\ ... \\\\ E[R_N] - R_f \\end{pmatrix}$$\n",
    "\n",
    "and $\\mathbf{1^{T}}$ be the transpose of a vector of N ones: $\\mathbf{1^{T}} = (1, 1, ..., 1)$.\n",
    "\n",
    "Then the vector $W_{tan}$ of weights that gives us the tangency portfolio (i.e. portfolio with the maximum Sharpe ratio) is given by:\n",
    "\n",
    "$$W_{tan} = \\frac{\\Sigma^{-1}\\mu^e }{ \\mathbf{1^{T}}\\Sigma^{-1}\\mu^e }$$\n",
    "\n",
    "where $\\Sigma^{-1}$ is the inverse of the variance-covariance matrix $\\Sigma$"
   ]
  },
  {
   "cell_type": "markdown",
   "metadata": {},
   "source": [
    "## Real-World Application\n",
    "\n",
    "You want to invest in the FANG stocks (Facebook, Apple, Netflix, and Google) but you are not sure how much to invest in each. Download monthly price data on the FANG stocks over the past 5 years (January 2018 to December 2022) and calculate monthly returns. Use these data to estimate the optimal weights you should use for the four stocks. Assume that the risk-free rate is 0.1%."
   ]
  },
  {
   "cell_type": "code",
   "execution_count": 3,
   "metadata": {},
   "outputs": [],
   "source": [
    "#\n",
    "#\n",
    "#\n",
    "#\n",
    "#\n",
    "#\n",
    "#\n",
    "#\n",
    "#\n",
    "#\n",
    "#\n",
    "#\n",
    "#\n",
    "#\n",
    "#\n",
    "#\n",
    "#\n",
    "#\n",
    "#\n",
    "#\n",
    "#\n",
    "#\n",
    "#\n",
    "#\n",
    "#\n",
    "#\n",
    "#\n",
    "#\n",
    "#\n",
    "#"
   ]
  }
 ],
 "metadata": {
  "kernelspec": {
   "display_name": "base",
   "language": "python",
   "name": "python3"
  },
  "language_info": {
   "codemirror_mode": {
    "name": "ipython",
    "version": 3
   },
   "file_extension": ".py",
   "mimetype": "text/x-python",
   "name": "python",
   "nbconvert_exporter": "python",
   "pygments_lexer": "ipython3",
   "version": "3.8.5 (default, Sep  3 2020, 21:29:08) [MSC v.1916 64 bit (AMD64)]"
  },
  "vscode": {
   "interpreter": {
    "hash": "c0d7515943f2d5e6ef3c63d1d45fe29892fe24bc9a1e3b83271f719b8681d46b"
   }
  }
 },
 "nbformat": 4,
 "nbformat_minor": 4
}
