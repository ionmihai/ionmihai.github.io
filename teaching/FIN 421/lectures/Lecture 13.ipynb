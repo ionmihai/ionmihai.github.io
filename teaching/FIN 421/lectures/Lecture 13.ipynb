{
 "cells": [
  {
   "cell_type": "raw",
   "metadata": {},
   "source": [
    "---\n",
    "title: \"L13: Cost of equity\"\n",
    "---"
   ]
  },
  {
   "attachments": {},
   "cell_type": "markdown",
   "metadata": {},
   "source": [
    "# Cost of equity using CAPM\n",
    "\n",
    "Under the CAPM assumptions, we have: \n",
    "\n",
    "\n",
    "$$E[R_{i}] = R_{f} +  \\beta_i (E[R_{m}] - R_{f}) $$\n",
    "\n",
    "\n",
    "Therefore, to estimate the cost of equity for any firm $i$, using the CAPM we need:\n",
    "\n",
    "\n",
    "- The current risk free rate\n",
    "    - It is best to try to match the horizon of the risk-free rate with the horizon over which the cost of equity applies \n",
    "        - Example: if you want to calculate the cost of equity over the next year, use the yield on a 1-year T-bill as the risk-free rate\n",
    "        - Example: if you want to calculate the cost of equity over the next 10 years, use the yield on a 10-year T-bill as the risk-free rate\n"
   ]
  },
  {
   "attachments": {},
   "cell_type": "markdown",
   "metadata": {},
   "source": [
    "- The firm's market beta\n",
    "    - Regress past excess returns of the firm on past excess returns on the market"
   ]
  },
  {
   "cell_type": "markdown",
   "metadata": {},
   "source": [
    " \n",
    "- An estimate for the market risk premium\n",
    "    - Take an average of excess returns on the market (use at least 20 years of data)\n"
   ]
  },
  {
   "attachments": {},
   "cell_type": "markdown",
   "metadata": {},
   "source": [
    "# The Fama-French three factor model\n",
    "\n",
    "The Fama-French three factor model adds two more systematic risk factors in addition to the market return from the single-factor model: \n",
    "\n",
    "$$R_{i,t} - R_{f,t} = \\alpha_i + \\beta_{i,m} (R_{m,t} - R_{f,t}) + \\beta_{i,smb} R_{smb} + \\beta_{i,hml} R_{hml} + \\epsilon_{i,t}$$\n",
    "\n",
    "where:\n",
    "- $R_{smb}$ is the return on a portfolio that is long on the smallest firms in the economy and short on the largest firms\n",
    "- $R_{hml}$ is the return on a portfolio that is long on the firms with highest B/M ratios and short on the firms with the lowest B/M ratios\n",
    "    - B/M = book value of equity divided by market value of equity\n",
    "    - High B/M firms are called \"value\" firms\n",
    "    - Low B/M firms are called \"growth\" firms\n"
   ]
  },
  {
   "attachments": {},
   "cell_type": "markdown",
   "metadata": {},
   "source": [
    "# Cost of equity using the Fama-French three factor model\n",
    "\n",
    "Under the Fama-French model, we have: \n",
    "\n",
    "\n",
    "$$E[R_{i}] = R_{f} +  \\beta_{i,m} (E[R_{m}] - R_{f}) + \\beta_{i,smb} E[R_{smb}] + \\beta_{i,hml} E[R_{hml}] $$\n",
    "\n",
    "\n",
    "Therefore, to estimate the cost of equity for any firm $i$, using the Fama-French factor we also need\n",
    "\n",
    "- The firm's market, SMB, and HML betas\n",
    "    - Regress past excess returns of the firm on past excess returns on the market and the returns on the SMB and HML factors\n"
   ]
  },
  {
   "cell_type": "markdown",
   "metadata": {},
   "source": [
    "- An estimate for the SMB and HML risk premia\n",
    "    - Take an average of the returns of the SMB and HML factors (use at least 20 years of data)\n"
   ]
  },
  {
   "attachments": {},
   "cell_type": "markdown",
   "metadata": {},
   "source": [
    "# Application\n",
    "\n",
    "Calculate the cost of equity for AAPL using both the CAPM and the Fama-French three factor model. Use use monthly data since 2010 for AAPL."
   ]
  },
  {
   "cell_type": "code",
   "execution_count": 1,
   "metadata": {},
   "outputs": [],
   "source": [
    "#\n",
    "#\n",
    "#\n",
    "#\n",
    "#\n",
    "#\n",
    "#\n",
    "#\n",
    "#\n",
    "#\n",
    "#\n",
    "#\n",
    "#\n",
    "#\n",
    "#\n",
    "#\n",
    "#\n",
    "#\n",
    "#\n",
    "#\n",
    "#\n",
    "#\n",
    "#\n",
    "#"
   ]
  },
  {
   "attachments": {},
   "cell_type": "markdown",
   "metadata": {},
   "source": [
    "# Application\n",
    "\n",
    "Recalculate the risk premia of all three risk factors using only data since 1990. \n",
    "Now recalculate the cost of equity of AAPL using these new risk-premia estimates."
   ]
  },
  {
   "cell_type": "code",
   "execution_count": null,
   "metadata": {},
   "outputs": [],
   "source": [
    "#\n",
    "#\n",
    "#\n",
    "#\n",
    "#\n",
    "#\n",
    "#\n",
    "#\n",
    "#\n",
    "#\n",
    "#\n",
    "#\n",
    "#\n",
    "#\n",
    "#\n",
    "#\n",
    "#\n",
    "#\n",
    "#\n",
    "#\n",
    "#\n",
    "#\n",
    "#\n",
    "#"
   ]
  }
 ],
 "metadata": {
  "kernelspec": {
   "display_name": "base",
   "language": "python",
   "name": "python3"
  },
  "language_info": {
   "codemirror_mode": {
    "name": "ipython",
    "version": 3
   },
   "file_extension": ".py",
   "mimetype": "text/x-python",
   "name": "python",
   "nbconvert_exporter": "python",
   "pygments_lexer": "ipython3",
   "version": "3.9.12"
  },
  "vscode": {
   "interpreter": {
    "hash": "5c65ce2fea2f0c67157032582cff07b1c9d083b283061c8d8524588d6f489174"
   }
  }
 },
 "nbformat": 4,
 "nbformat_minor": 4
}
