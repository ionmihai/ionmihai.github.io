{
 "cells": [
  {
   "cell_type": "raw",
   "metadata": {},
   "source": [
    "---\n",
    "title: \"L12: CAPM\"\n",
    "---"
   ]
  },
  {
   "attachments": {},
   "cell_type": "markdown",
   "metadata": {},
   "source": [
    "# The capital asset pricing model (CAPM)"
   ]
  },
  {
   "attachments": {},
   "cell_type": "markdown",
   "metadata": {},
   "source": [
    "## CAPM assumptions\n",
    "\n",
    "- Markets are perfectly competitive\n",
    "\n",
    "    - No investor is wealthy enough to individually affect prices\n",
    "    - All information is publicly available; all securities are public\n",
    "    - No taxes on returns, no transaction costs\n",
    "    - Unlimited borrowing/lending at risk-free rate\n",
    "    \n",
    "    \n",
    "- Investors are all alike except for initial wealth and risk aversion\n",
    "\n",
    "    - Investors plan for a single-period horizon; they are rational, mean-variance optimizers\n",
    "    - Investors use the same inputs, consider identical portfolio opportunity sets"
   ]
  },
  {
   "attachments": {},
   "cell_type": "markdown",
   "metadata": {},
   "source": [
    "## CAPM predictions\n",
    "\n",
    "- The risk premium on individual assets is proportional to the risk premium on the market:\n",
    "\n",
    "$$E[R_{i}] = R_{f} +  \\beta_i (E[R_{m}] - R_{f}) $$\n",
    "\n",
    "\n",
    "- The market portfolio is the optimal risky portfolio (the tangency portfolio) in the economy\n",
    "\n",
    "\n",
    "- All investors choose to hold a combination of the risk-free asset and the market portfolio (in different proportions, given by the investor's risk aversion)"
   ]
  },
  {
   "attachments": {},
   "cell_type": "markdown",
   "metadata": {},
   "source": [
    "## The Security Market Line (SML)\n",
    "\n",
    "If the CAPM assumptions hold, plotting all securities' risk premia ($E[R_{i}] - R_{f}$) against their betas ($\\beta_i$) results in a single line called the Security Market Line (SML). "
   ]
  },
  {
   "attachments": {},
   "cell_type": "markdown",
   "metadata": {},
   "source": [
    "## Application\n",
    "\n",
    "The \"data.xlsx\" file from D2L contains  adjusted close prices for the past 10 years for the following tickers: 'AAPL', 'GE', 'F', 'GM', 'NFLX', 'MSFT', 'GS', 'JPM', 'AMD', 'NVDA'.\n",
    "\n",
    "For all stocks:\n",
    "\n",
    "- Calculate monthly returns\n",
    "- Calculate market betas (use the SLOPE function in Excel)\n",
    "- Calculate average returns\n",
    "- Plot average returns (y axis) against betas (x axis)"
   ]
  },
  {
   "cell_type": "code",
   "execution_count": 1,
   "metadata": {},
   "outputs": [],
   "source": [
    "#\n",
    "#\n",
    "#\n",
    "#\n",
    "#\n",
    "#\n",
    "#\n",
    "#\n",
    "#\n",
    "#\n",
    "#\n",
    "#\n",
    "#\n",
    "#\n",
    "#\n",
    "#\n",
    "#\n",
    "#\n",
    "#\n",
    "#\n",
    "#\n",
    "#\n",
    "#\n",
    "#\n",
    "#\n",
    "#\n",
    "#\n",
    "#\n",
    "#\n",
    "#"
   ]
  },
  {
   "attachments": {},
   "cell_type": "markdown",
   "metadata": {},
   "source": [
    "# Portfolio betas \n",
    "\n",
    "The beta of portfolio of assets is a weighted average of the betas of the individual assets in the portfolio:\n",
    "\n",
    "$$\\beta_p = w_i \\beta_1 + w_2 \\beta_2 + ... + w_N \\beta_N$$\n",
    "\n",
    "*Remember, the market portfolio has a beta of 1 and the risk free asset has a beta of 0.*"
   ]
  },
  {
   "attachments": {},
   "cell_type": "markdown",
   "metadata": {},
   "source": [
    "# Adjusted betas\n",
    "\n",
    "Betas tend to revert to the mean (high betas tend to go down and low betas tend to go up). When predicting betas, we take this tendency into account by calculating **adjusted betas**. These are weighted averages of the estimated beta and the mean (which is 1):\n",
    "\n",
    "$$\\beta_i^{adj} = \\beta_i \\times 2/3 + 1/3$$\n",
    "\n",
    "Other weights can be used but 2/3 is a very common one."
   ]
  },
  {
   "attachments": {},
   "cell_type": "markdown",
   "metadata": {},
   "source": [
    "# Application\n",
    "Using the same data as in the previous application:\n",
    "\n",
    "- Calculate the beta of a portfolio that invests 8% in each of the 10 stocks in your portfolio, 10% in the market portfolio and 10% in the risk-free asset.\n",
    "- Calculate adjusted betas for all 10 stocks"
   ]
  },
  {
   "cell_type": "code",
   "execution_count": 2,
   "metadata": {},
   "outputs": [],
   "source": [
    "#\n",
    "#\n",
    "#\n",
    "#\n",
    "#\n",
    "#\n",
    "#\n",
    "#\n",
    "#\n",
    "#\n",
    "#\n",
    "#\n",
    "#\n",
    "#\n",
    "#\n",
    "#\n",
    "#\n",
    "#\n",
    "#\n",
    "#\n",
    "#\n",
    "#\n",
    "#\n",
    "#\n",
    "#\n",
    "#\n",
    "#\n",
    "#\n",
    "#\n",
    "#"
   ]
  },
  {
   "attachments": {},
   "cell_type": "markdown",
   "metadata": {},
   "source": [
    "# Stability of alphas and betas over time\n",
    "\n",
    "In this section we investigate the extent to which alpha and beta coefficients change over time. \n",
    "\n",
    "Using the same data as in the previous applications, for each stock:\n",
    "\n",
    "1. Calculate the beta coefficient using the first half of the sample \n",
    "2. Calculate the beta coefficient using the second half of the sample \n",
    "3. Calculate the correlation between the betas in the first half and the betas in the second half\n",
    "3. Repeat the entire exercise for alpha coefficients (use the INTERCEPT function in Excel to calculate alphas)"
   ]
  },
  {
   "cell_type": "code",
   "execution_count": 3,
   "metadata": {},
   "outputs": [],
   "source": [
    "#\n",
    "#\n",
    "#\n",
    "#\n",
    "#\n",
    "#\n",
    "#\n",
    "#\n",
    "#\n",
    "#\n",
    "#\n",
    "#\n",
    "#\n",
    "#\n",
    "#\n",
    "#\n",
    "#\n",
    "#\n",
    "#\n",
    "#\n",
    "#\n",
    "#\n",
    "#\n",
    "#\n",
    "#\n",
    "#\n",
    "#\n",
    "#\n",
    "#\n",
    "#"
   ]
  }
 ],
 "metadata": {
  "kernelspec": {
   "display_name": "base",
   "language": "python",
   "name": "python3"
  },
  "language_info": {
   "codemirror_mode": {
    "name": "ipython",
    "version": 3
   },
   "file_extension": ".py",
   "mimetype": "text/x-python",
   "name": "python",
   "nbconvert_exporter": "python",
   "pygments_lexer": "ipython3",
   "version": "3.8.5"
  },
  "vscode": {
   "interpreter": {
    "hash": "c0d7515943f2d5e6ef3c63d1d45fe29892fe24bc9a1e3b83271f719b8681d46b"
   }
  }
 },
 "nbformat": 4,
 "nbformat_minor": 4
}
