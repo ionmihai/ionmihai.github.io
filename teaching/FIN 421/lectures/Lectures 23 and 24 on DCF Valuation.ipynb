{
 "cells": [
  {
   "attachments": {},
   "cell_type": "markdown",
   "metadata": {},
   "source": [
    "# The free cash flow to the firm (FCFF) approach\n",
    "\n",
    "In this approach, we estimate the value of the firm's **assets** by discounting the firm's free cash flow to the firm (FCFF) at the firm's weighted average cost of capital (WACC): \n",
    "\n",
    "$$FirmValue_t = \\frac{FCFF_{t+1}}{1+WACC} + \\frac{FCFF_{t+2}}{(1+WACC)^2} + \\frac{FCFF_{t+3}}{(1+WACC)^3} + ...$$        \n",
    "\n",
    "To obtain the intrinsic value of of the firm's **equity**, we subtract the book value of debt (as an approximation of its market value of debt) from the $FirmValue$ estimate obtained as above. \n",
    "\n",
    "As we have seen in the DDM lecture, since we can not calculate infinite sums, in practice we often assume that, after some horizon $H$, the firm's FCFF grows at a constant rate $g$ for ever. That allow us to estimate the terminal value of the FCFFs at time $t+H$ as:\n",
    "\n",
    "$$P_{t+H} = \\frac{FCFF_{t+H}(1+g)}{(WACC - g)}$$\n",
    "\n",
    "Alternatively, this terminal value can also be estimated using multiples (e.g. EV/EBITDA).\n",
    "\n",
    "Once the terminal value is estimated, the valuation formula above becomes:\n",
    "\n",
    "$$FirmValue_t = \\frac{FCFF_{t+1}}{1+WACC} + \\frac{FCFF_{t+2}}{(1+WACC)^2} + ... + \\frac{FCFF_{t+H}}{(1+WACC)^{t+H}} + \\frac{P_{t+H}}{(1+WACC)^{t+H}}$$        \n",
    "\n",
    "The intermediate FCFFs (i.e. $FCFF_{t+1}$ up to $FCFF_{t+H}$) can be estimated either using pro-forma statements (as you learned in FIN 421) or (the approach taken here) by applying particular growth rates (which we estimate below) to the latest FCFF (i.e. $FCFF_{t}$)."
   ]
  },
  {
   "attachments": {},
   "cell_type": "markdown",
   "metadata": {},
   "source": [
    "## Free cash flow to the firm (FCFF)\n",
    "\n",
    "There are several definitions for FCFF, but the textbook one is:\n",
    "\n",
    "$$FCFF = EBIT(1 - T_c) + Depreciation - Capital Expenditures - ChangeNWC$$\n",
    "\n",
    "and $T_c$ is the firm's marginal tax rate, and $ChangeNWC$ is the change in the firm's net working capital.\n",
    "\n",
    "In practice, we often don't have data on the firm's marginal tax rate and have to use its average tax rate instead (tax expense divided by taxable income). \n",
    "\n",
    "When we calculate net working capital, we commonly ignore cash and interest-bearing debt (i.e. NWC = (Current assets - Cash) - (Current Liabilities - Current debt) or NWC = Inventory + Accounts Receivable - Accounts Payable) but some analysts also use current assets minus current liabilities."
   ]
  },
  {
   "attachments": {},
   "cell_type": "markdown",
   "metadata": {},
   "source": [
    "## Weighted average cost of capital (WACC)\n",
    "\n",
    "Denote by D and E the total debt and total equity of the firm respectively. Let $r_d$ denote the firm's cost of debt and $r_e$ its cost of equity. Then the firm's WACC is calculated as:\n",
    "\n",
    "$$WACC = \\frac{D}{D+E} r_d (1 - T_c) + \\frac{E}{D+E} r_e$$\n",
    "\n",
    "Above, D is usually measured as the book value of long-term debt (but we should use market value of debt if possible), and E is the market value of common equity. \n",
    "\n",
    "For the cost of debt $r_d$, we can use interest expense divided by long-term debt but a better approach is to find out if the firm has issued bonds and use the yield on those bonds as the firm's cost of debt. \n",
    "\n",
    "The cost of equity $r_e$ (i.e. the expected return on the stock), we usually use either CAPM or the Fama-French three factor model. "
   ]
  },
  {
   "attachments": {},
   "cell_type": "markdown",
   "metadata": {},
   "source": [
    "**Example 1:**\n",
    "\n",
    "Suppose in the latest fiscal year, MSFT had EBIT of $100 (all values are in billions), depreciation of $10, capital expenditures of $20, a change in net working capital (NWC) of $5, total debt of $70 and 2 billion shares outstanding . Assume the tax rate is 30\\%. You believe the firm's FCFFs will grow at 10\\% per year for the next 5 years, and at 4\\% per year thereafter. The firm has a cost of debt of 3\\% and a CAPM beta of 1.2. The current price of a share of MSFT is $200, and the current risk free rate is 0.001. Assume the market risk-premium is 6\\%. What is the intrinsic value of one share of MSFT as of the end of the latest fiscal year?   "
   ]
  },
  {
   "cell_type": "code",
   "execution_count": 1,
   "metadata": {},
   "outputs": [],
   "source": [
    "#\n",
    "#\n",
    "#\n",
    "#\n",
    "#\n",
    "#\n",
    "#\n",
    "#\n",
    "#\n",
    "#\n",
    "#\n",
    "#\n",
    "#\n",
    "#\n",
    "#\n",
    "#\n",
    "#\n",
    "#\n",
    "#\n",
    "#"
   ]
  },
  {
   "attachments": {},
   "cell_type": "markdown",
   "metadata": {},
   "source": [
    "# The free cash flow to equity (FCFE) approach\n",
    "\n",
    "In this approach, we estimate the value of the firm's **equity** directly by discounting the firm's free cash flow to equity (FCFE) at the firm's cost of equity ($r_e$): \n",
    "\n",
    "$$EquityValue_t = \\frac{FCFE_{t+1}}{1+r_e} + \\frac{FCFE_{t+2}}{(1+r_e)^2} + \\frac{FCFE_{t+3}}{(1+r_e)^3} + ...$$        \n",
    "\n",
    "To obtain the intrinsic value of one share, we divide to total value of equity by the number of shares outstanding. \n",
    "\n",
    "As we have seen in the DDM lecture, since we can not calculate infinite sums, in practice we often assume that, after some horizon $H$, the firm's FCFE grows at a constant rate $g$ for ever. That allow us to estimate the terminal value of the FCFEs at time $t+H$ as:\n",
    "\n",
    "$$V_{t+H} = \\frac{FCFE_{t+H}(1+g)}{(r_e - g)}$$\n",
    "\n",
    "Alternatively, this terminal value can also be estimated using multiples (e.g. P/E or P/B).\n",
    "\n",
    "Once the terminal value is estimated, the valuation formula above becomes:\n",
    "\n",
    "$$EquityValue_t = \\frac{FCFE_{t+1}}{1+r_e} + \\frac{FCFE_{t+2}}{(1+r_e)^2} + ... + \\frac{FCFE_{t+H}}{(1+r_e)^{t+H}} + \\frac{V_{t+H}}{(1+r_e)^{t+H}}$$        \n"
   ]
  },
  {
   "attachments": {},
   "cell_type": "markdown",
   "metadata": {},
   "source": [
    "## Free cash flow to equity (FCFE)\n",
    "\n",
    "There are several definitions for FCFE, but the textbook one is:\n",
    "\n",
    "$$FCFE = FCFF - Interest (1 - T_c) + Debt Issuance$$\n",
    "\n",
    "where Debt Issuance is positive if long-term debt increased from last year, and negative if it decreased. "
   ]
  },
  {
   "attachments": {},
   "cell_type": "markdown",
   "metadata": {},
   "source": [
    "**Example 2:**\n",
    "\n",
    "Suppose in the latest fiscal year, MSFT had EBIT of $100 (all values are in billions), depreciation of $10, capital expenditures of $20, a change in net working capital (NWC) of $5, total debt of $70 and 2 billion shares outstanding. In the latest fiscal year, the firm paid $10 in interest expense and in the year prior, it had total debt of $50. Assume the tax rate is 30\\%. You believe the firm's FCFEs will grow at 10\\% per year for the next 5 years, and at 4\\% per year thereafter. The firm has a CAPM beta of 1.2 and the current risk free rate is 0.001. Assume the market risk-premium is 6\\%. What is the intrinsic value of one share of MSFT as of the end of the latest fiscal year?   "
   ]
  },
  {
   "cell_type": "code",
   "execution_count": null,
   "metadata": {},
   "outputs": [],
   "source": [
    "#\n",
    "#\n",
    "#\n",
    "#\n",
    "#\n",
    "#\n",
    "#\n",
    "#\n",
    "#\n",
    "#\n",
    "#\n",
    "#\n",
    "#\n",
    "#\n",
    "#\n",
    "#\n",
    "#\n",
    "#\n",
    "#\n",
    "#"
   ]
  },
  {
   "cell_type": "markdown",
   "metadata": {},
   "source": [
    "# Using real-world data"
   ]
  },
  {
   "attachments": {},
   "cell_type": "markdown",
   "metadata": {},
   "source": [
    "First, estimate the WACC of MSFT. \n",
    "\n",
    "Then value MSFT using both the FCFF and FCFE aproaches. \n",
    "\n",
    "For each aproach, use both a constant growth models as well as a two-stage model (where the first stage lasts 5 years), just like we did with the DDM approach."
   ]
  },
  {
   "cell_type": "code",
   "execution_count": null,
   "metadata": {},
   "outputs": [],
   "source": [
    "#\n",
    "#\n",
    "#\n",
    "#\n",
    "#\n",
    "#\n",
    "#\n",
    "#\n",
    "#\n",
    "#\n",
    "#\n",
    "#\n",
    "#\n",
    "#\n",
    "#\n",
    "#\n",
    "#\n",
    "#\n",
    "#\n",
    "#"
   ]
  }
 ],
 "metadata": {
  "kernelspec": {
   "display_name": "Python 3",
   "language": "python",
   "name": "python3"
  },
  "language_info": {
   "codemirror_mode": {
    "name": "ipython",
    "version": 3
   },
   "file_extension": ".py",
   "mimetype": "text/x-python",
   "name": "python",
   "nbconvert_exporter": "python",
   "pygments_lexer": "ipython3",
   "version": "3.8.5"
  }
 },
 "nbformat": 4,
 "nbformat_minor": 4
}
