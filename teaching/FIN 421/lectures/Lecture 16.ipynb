{
 "cells": [
  {
   "cell_type": "raw",
   "metadata": {},
   "source": [
    "---\n",
    "title: \"L16: Bond risk\"\n",
    "---"
   ]
  },
  {
   "attachments": {},
   "cell_type": "markdown",
   "metadata": {},
   "source": [
    "# Main sources of bond risk\n",
    "\n",
    "Anything that may affect the realized return on your bond investment is considered a source of risk.\n",
    "\n",
    "Two major sources of risk for bonds:"
   ]
  },
  {
   "attachments": {},
   "cell_type": "markdown",
   "metadata": {},
   "source": [
    "- **Default risk**: \n",
    "    - Risk that you will not get paid the coupons and/or par value of the bond"
   ]
  },
  {
   "attachments": {},
   "cell_type": "markdown",
   "metadata": {},
   "source": [
    "- **Interest rate risk**: \n",
    "    - **Price risk**: \n",
    "        - Risk that an interest rate increase will decrease the price you will be able to sell the bond at.\n",
    "    - **Reinvestment rate risk**: \n",
    "        - Risk that an interest rate decrease will decrease the future value of your reinvested coupons"
   ]
  },
  {
   "cell_type": "markdown",
   "metadata": {},
   "source": [
    "\n",
    "Offsetting forces:\n",
    "- When interest rates increase, bond prices decrease, but coupons can be reinvested at a higher rate (i.e. price risk and reinvestment risk offset each other to some degree)\n",
    "\n",
    "\n",
    "- These two forces perfectly offset if the bond has a **duration** equal to the horizon of the investor\n",
    "    - The process of setting the duration of your bond portfolio equal to your horizon is called **immunization**\n"
   ]
  },
  {
   "attachments": {},
   "cell_type": "markdown",
   "metadata": {},
   "source": [
    "# Bond duration\n",
    "\n",
    "A bond's **Macaulay's duration** (aka duration) is a weighted average of the amount of time it takes to receive the payments of the bond. The weights in this weighted average are proportional to the present value of the payments of the bond.\n",
    "\n",
    "$$ Duration_0 = \\frac{1}{F} \\frac{C/F}{P_0 (1+Y/F)} + \\frac{2}{F} \\frac{C/F}{P_0 (1+Y/F)^2} + ... + \\frac{T \\cdot F}{F} \\frac{C/F + Par}{P_0 (1+Y/F)^{T \\cdot F}} $$\n",
    "\n",
    "where\n",
    "\n",
    "- time 0 is the time when duration is calculated\n",
    "- $P_0$ is the price of the bond at time 0\n",
    "- $Y$ is YTM, $C$ is the annual coupon, $T$ is time to maturity (in years), and $F$ is coupon frequency (e.g. 2 for semi-annual) "
   ]
  },
  {
   "attachments": {},
   "cell_type": "markdown",
   "metadata": {},
   "source": [
    "A bond's **modified duration** equals its Macaulay's duration divided by its gross YTM:\n",
    "\n",
    "$$Modified Duration = \\frac{Macaulay Duration}{1 + Y/F}$$\n",
    "\n",
    "**Firms with longer duration have more price risk**. \n",
    "\n",
    "So what kind of bonds have longer duration? Below we show that, all else equal, bonds will have higher duration (and hence more price risk) if they have a:\n",
    "\n",
    "- Longer maturity or\n",
    "- Lower yield to maturity (YTM) or\n",
    "- Lower coupon rate\n",
    "\n",
    "To calculate Macaulay's duration use the **DURATION** function in Excel, with the ususal parameters (settlement date, maturity date, etc). To calculate modified duration, use the **MDURATION** function, with the same parameters."
   ]
  },
  {
   "attachments": {},
   "cell_type": "markdown",
   "metadata": {},
   "source": [
    "## Example 1:  Duration is higher for bonds with longer maturity\n",
    "\n",
    "Bonds A, B and C all have coupon rate and YTM of 6% (semiannual, par=1000). They were all issued today and mature in 1 year (bond A), 10 years (bond B) and 30 years (bond C). Calculate their duration.\n"
   ]
  },
  {
   "cell_type": "code",
   "execution_count": 1,
   "metadata": {},
   "outputs": [],
   "source": [
    "# \n",
    "#\n",
    "#\n",
    "#\n",
    "#\n",
    "#\n",
    "#\n",
    "#"
   ]
  },
  {
   "attachments": {},
   "cell_type": "markdown",
   "metadata": {},
   "source": [
    "## Example 2:  Duration is higher for bonds with lower YTM\n",
    "\n",
    "Bonds A, B and C all have a coupon rate of 4% (semiannual, par=1000) and mature in 10 years. They were all issued today and have a YTM of 2% (bond A), 4% (bond B) and 6% (bond C). Calculate their duration."
   ]
  },
  {
   "cell_type": "code",
   "execution_count": 2,
   "metadata": {},
   "outputs": [],
   "source": [
    "# \n",
    "#\n",
    "#\n",
    "#\n",
    "#\n",
    "#\n",
    "#\n",
    "#"
   ]
  },
  {
   "attachments": {},
   "cell_type": "markdown",
   "metadata": {},
   "source": [
    "## Example 3:  Duration is higher for bonds with lower coupon rates\n",
    "\n",
    "Bonds A, B and C all have a YTM of 6% (semiannual, par=1000) and mature in 10 years. They were all issued today and have a coupon rate of 3% (bond A), 6% (bond B) and 9% (bond C). Calculate their duration."
   ]
  },
  {
   "cell_type": "code",
   "execution_count": 3,
   "metadata": {},
   "outputs": [],
   "source": [
    "# \n",
    "#\n",
    "#\n",
    "#\n",
    "#\n",
    "#\n",
    "#\n",
    "#"
   ]
  },
  {
   "attachments": {},
   "cell_type": "markdown",
   "metadata": {},
   "source": [
    "# Using duration to estimate the price impact of interest rate changes"
   ]
  },
  {
   "attachments": {},
   "cell_type": "markdown",
   "metadata": {},
   "source": [
    "## Using duration\n",
    "\n",
    "For a bond with price $P_0$, duration D, YTM $Y$, and frequency F, the percentage change in price caused by a change $x$ in YTM is approximated by:\n",
    "\n",
    "$$\\frac{P_1 - P_0}{P_0} = - D \\cdot \\frac{x}{1 + Y/F}$$"
   ]
  },
  {
   "attachments": {},
   "cell_type": "markdown",
   "metadata": {},
   "source": [
    "## Using modified duration\n",
    "\n",
    "For a bond with price $P_0$, modified duration D*, YTM $Y$, and frequency F, the percentage change in price caused by a change $x$ in YTM is approximated by:\n",
    "\n",
    "$$\\frac{P_1 - P_0}{P_0} = - D^{*} \\cdot x$$"
   ]
  },
  {
   "attachments": {},
   "cell_type": "markdown",
   "metadata": {},
   "source": [
    "**Examples 1,2,3:**\n",
    "\n",
    "Go back to each of the bonds in Examples 1, 2, and 3, above, and for each of them:"
   ]
  },
  {
   "attachments": {},
   "cell_type": "markdown",
   "metadata": {},
   "source": [
    "1. Use their **duration** to estimate the price impact (in %) of an **increase** in YTM of 0.5%.\n",
    "2. Use their **modified duration** to estimate the price impact (in %) of a **decrease** in YTM of 0.75%."
   ]
  },
  {
   "cell_type": "code",
   "execution_count": 4,
   "metadata": {},
   "outputs": [],
   "source": [
    "# \n",
    "#\n",
    "#\n",
    "#\n",
    "#\n",
    "#\n",
    "#\n",
    "#\n",
    "# \n",
    "#\n",
    "#\n",
    "#\n",
    "#\n",
    "#\n",
    "#\n",
    "#"
   ]
  }
 ],
 "metadata": {
  "kernelspec": {
   "display_name": "Python 3",
   "language": "python",
   "name": "python3"
  },
  "language_info": {
   "codemirror_mode": {
    "name": "ipython",
    "version": 3
   },
   "file_extension": ".py",
   "mimetype": "text/x-python",
   "name": "python",
   "nbconvert_exporter": "python",
   "pygments_lexer": "ipython3",
   "version": "3.9.12"
  }
 },
 "nbformat": 4,
 "nbformat_minor": 4
}
