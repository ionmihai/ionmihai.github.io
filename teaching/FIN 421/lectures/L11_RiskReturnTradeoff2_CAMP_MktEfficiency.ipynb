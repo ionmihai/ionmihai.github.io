{
 "cells": [
  {
   "cell_type": "markdown",
   "metadata": {},
   "source": [
    "# 1. Lecture Overview\n",
    "\n",
    "- Assumptions behind CAPM \n",
    "- CAPM predictions\n",
    "- Adjusted betas and portfolio betas\n",
    "- Application\n",
    "    - Download prices for 10 stocks and calculate their betas\n",
    "    - Plot their expected returns against their betas"
   ]
  },
  {
   "cell_type": "markdown",
   "metadata": {},
   "source": [
    "# 2. The capital asset pricing model (CAPM)\n",
    "\n",
    "**CAPM assumptions:**\n",
    "\n",
    "\n",
    "- Markets are perfectly competitive\n",
    "    - No investor is wealthy enough to individually affect prices\n",
    "    - All information is publicly available; all securities are public\n",
    "    - No taxes on returns, no transaction costs\n",
    "    - Unlimited borrowing/lending at risk-free rate\n",
    "    \n",
    "    \n",
    "- Investors are all alike except for initial wealth and risk aversion\n",
    "    - Investors plan for a single-period horizon; they are rational, mean-variance optimizers\n",
    "    - Investors use the same inputs, consider identical portfolio opportunity sets\n",
    "    \n",
    "\n",
    "**CAPM predictions:**\n",
    "\n",
    "- The risk premium on individual assets is proportional to the risk premium on the market:\n",
    "\n",
    "$$E[R_{i}] = R_{f} +  \\beta_i (E[R_{m}] - R_{f}) $$\n",
    "\n",
    "\n",
    "- The market portfolio is the optimal risky portfolio (the tangency portfolio) in the economy\n",
    "\n",
    "\n",
    "- All investors choose to hold a combination of the risk-free asset and the market portfolio (in different proportions, given by the investor's risk aversion)\n",
    "\n",
    "\n",
    "**The Security Market Line (SML):**\n",
    "\n",
    "If the CAPM assumptions hold, plotting all securities' risk premia ($E[R_{i}] - R_{f}$) against their betas ($\\beta_i$) results in a single line called the Security Market Line (SML). "
   ]
  },
  {
   "cell_type": "markdown",
   "metadata": {},
   "source": [
    "# 3. Adjusted betas and portfolio betas\n",
    "\n",
    "Betas tend to revert to the mean (high betas tend to go down and low betas tend to go up). When predicting betas, we take this tendency into account by calculating **adjusted betas**. These are weighted averages of the estimated beta and the mean (which is 1):\n",
    "\n",
    "$$\\beta_i^{adj} = \\beta_i \\times 2/3 + 1/3$$\n",
    "\n",
    "Other weights can be used but 2/3 is a very common one.\n",
    "\n",
    "**Portfolio betas** are weighted averages of the betas of the individual assets in the portfolio:\n",
    "\n",
    "$$\\beta_p = w_i \\beta_1 + w_2 \\beta_2 + ... + w_N \\beta_N$$"
   ]
  },
  {
   "cell_type": "markdown",
   "metadata": {},
   "source": [
    "# 4. Application\n",
    "\n",
    "From Yahoo Finance, download data on adjusted close prices for the past 10 years for the following tickers: 'AAPL', 'GE', 'F', 'GM', 'NFLX', 'MSFT', 'GS', 'JPM', 'AMD', 'NVDA'.\n",
    "\n",
    "For all stocks:\n",
    "- Calculate monthly returns\n",
    "- Calculate market betas and store them in the same dataframe\n",
    "- Calculate average returns and store them in the same dataframe\n",
    "- Plot average returns against betas\n",
    "- Calculate the beta of a portfolio that invests 60% in AAPL and 40% in GM\n",
    "- Calculate adjusted betas for all stocks"
   ]
  },
  {
   "cell_type": "code",
   "execution_count": null,
   "metadata": {},
   "outputs": [],
   "source": [
    "# Import packages\n"
   ]
  },
  {
   "cell_type": "code",
   "execution_count": null,
   "metadata": {},
   "outputs": [],
   "source": [
    "# Download adj price data and drop missing values\n",
    "\n",
    "# Calculate returns\n",
    "\n",
    "# Convert the index to \"period('M')\" (monthly)\n"
   ]
  },
  {
   "cell_type": "code",
   "execution_count": null,
   "metadata": {},
   "outputs": [],
   "source": [
    "# Download the monthly Fama French factors\n",
    "\n",
    "# Combine the datasets\n"
   ]
  },
  {
   "cell_type": "code",
   "execution_count": null,
   "metadata": {},
   "outputs": [],
   "source": [
    "# Create empty dataframe to store results\n",
    "\n",
    "# Set the independent variables for the regression\n",
    "\n",
    "# Loop through tickers and calculate their betas\n",
    "\n",
    "# Which stocks are mispriced (with respect to CAPM) at the 10% level? How about the 5% level? 1%?"
   ]
  },
  {
   "cell_type": "code",
   "execution_count": null,
   "metadata": {},
   "outputs": [],
   "source": [
    "# Plot average returns against betas (do they line up?)\n"
   ]
  },
  {
   "cell_type": "code",
   "execution_count": null,
   "metadata": {},
   "outputs": [],
   "source": [
    "# Portfolio beta\n"
   ]
  },
  {
   "cell_type": "code",
   "execution_count": null,
   "metadata": {},
   "outputs": [],
   "source": [
    "# Adjusted betas\n"
   ]
  }
 ],
 "metadata": {
  "kernelspec": {
   "display_name": "Python 3",
   "language": "python",
   "name": "python3"
  },
  "language_info": {
   "codemirror_mode": {
    "name": "ipython",
    "version": 3
   },
   "file_extension": ".py",
   "mimetype": "text/x-python",
   "name": "python",
   "nbconvert_exporter": "python",
   "pygments_lexer": "ipython3",
   "version": "3.8.5"
  }
 },
 "nbformat": 4,
 "nbformat_minor": 4
}
