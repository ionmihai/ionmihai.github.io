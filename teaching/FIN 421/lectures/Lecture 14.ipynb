{
 "cells": [
  {
   "cell_type": "raw",
   "metadata": {},
   "source": [
    "---\n",
    "title: \"L14: Bond pricing\"\n",
    "---"
   ]
  },
  {
   "cell_type": "markdown",
   "metadata": {},
   "source": [
    "# <a id='toc1_'></a>[Bond pricing review](#toc0_)"
   ]
  },
  {
   "attachments": {},
   "cell_type": "markdown",
   "metadata": {},
   "source": [
    "\n",
    "Bond prices are calculated using the same general approach as the prices of any financial asset: they equal the discounted value of their future cash flows. \n",
    "\n",
    "$$P_t = \\frac{C}{1+YTM} + \\frac{C}{(1+YTM)^2} + ... + \\frac{C + Par}{(1+YTM)^T} $$                    \n",
    "\n",
    "\n",
    "where\n",
    "- $P_t$ is the price of the bond at time $t$\n",
    "- $C$ is the coupon payment of the bond\n",
    "- $Par$ is the par value of the bond (also known as it face value)\n",
    "- $T$ is the number of years left until maturity of the bond \n",
    "- $YTM$ is the yield to maturity of the bond (often simply called the yield of the bond)\n",
    "\n",
    "\n",
    "For bonds that do not pay coupons (also known as **zero-coupon bonds** or \"zeros\"), the formula becomes\n",
    "\n",
    "\n",
    "$$P_t = \\frac{Par}{(1+YTM)^T} $$                    "
   ]
  },
  {
   "cell_type": "markdown",
   "metadata": {},
   "source": [
    "## <a id='toc1_1_'></a>[When bond pays coupons more than once a year](#toc0_)\n",
    "\n",
    "The formula above is only correct if the bond has a single coupon payment per year. If the bond pays \"F\" coupons per year (e.g. F = 2 for bond with semi-annual coupon payments) then the formula above becomes:\n",
    "\n",
    "$$P_t = \\frac{C/F}{1+YTM/F} + \\frac{C/F}{(1+YTM/F)^2} + ... + \\frac{C/F + Par}{(1+YTM/F)^{T \\cdot F}} $$                    "
   ]
  },
  {
   "cell_type": "markdown",
   "metadata": {},
   "source": [
    "## <a id='toc1_2_'></a>[Non coupon-paying days](#toc0_)\n",
    "\n",
    "The formula above is only valid on coupon-paying days (i.e. $t$ is immediately after a coupon is paid) or when the bond is issued. On any other day, we need to adjust the price for something called \"accrued interest\". We cover this at the end of this lecture.\n"
   ]
  },
  {
   "cell_type": "markdown",
   "metadata": {},
   "source": [
    "# <a id='toc2_'></a>[Pricing bonds on coupon days](#toc0_)"
   ]
  },
  {
   "attachments": {},
   "cell_type": "markdown",
   "metadata": {},
   "source": [
    "The \"PRICE\" function in Excel allows us to calculate bond prices. It has the following parameters:\n",
    "\n",
    "- Settlement date = Date as of which you are pricing the bond\n",
    "- Maturity date \n",
    "- Annual coupon rate (decimal, e.g. 6% should be put in as 0.06)\n",
    "- Yield to maturity\n",
    "- Redemption value (% of face value, usually 100)\n",
    "- Coupon payments per year (frequency)"
   ]
  },
  {
   "cell_type": "markdown",
   "metadata": {},
   "source": [
    "\n",
    "To price bonds on coupon-paying days, use an arbitrary settlement day if none is given (Jan 1st 2000 is convenient) and add the bond's maturity to the settlement date to get the \"Maturity date\""
   ]
  },
  {
   "attachments": {},
   "cell_type": "markdown",
   "metadata": {},
   "source": [
    "**Example 1:**\n",
    "\n",
    "Assume today is July 31, 2012. Bond A matures on July 31, 2018, has par value of $1000, pays coupons semiannually, and has a coupon rate of 6%. You know that it has a yield to maturity of 2%. What is the price of Bond A today?"
   ]
  },
  {
   "cell_type": "code",
   "execution_count": 1,
   "metadata": {},
   "outputs": [],
   "source": [
    "# \n",
    "#\n",
    "#\n",
    "#\n",
    "#\n",
    "#\n",
    "#\n",
    "#"
   ]
  },
  {
   "attachments": {},
   "cell_type": "markdown",
   "metadata": {},
   "source": [
    "**Example 2:**\n",
    "\n",
    "Bond A matures in 30 years, and pays coupons annually. It has a coupon rate of 8%, a yield of 10%, and a par value of $100. What is the price of the bond today?"
   ]
  },
  {
   "cell_type": "code",
   "execution_count": 2,
   "metadata": {},
   "outputs": [],
   "source": [
    "# \n",
    "#\n",
    "#\n",
    "#\n",
    "#\n",
    "#\n",
    "#\n",
    "#"
   ]
  },
  {
   "cell_type": "markdown",
   "metadata": {},
   "source": [
    "# <a id='toc3_'></a>[Pricing bonds on non-coupon days](#toc0_)\n",
    "\n",
    "On non-coupon paying days, the bond pricing formula above fails because the distance to future payments can not be represented as a whole number anymore. The price is still the discounted value of future payments. For example, for a bond paying coupons annually, the price on any given day $t_0$ would be given by:\n",
    "\n",
    "\n",
    "$$P_{t_0} = \\frac{C}{(1+YTM)^{t_1}} + \\frac{C}{(1+YTM)^{t_2}} + ... + \\frac{C + Par}{(1+YTM)^{t_N}} $$                    \n",
    "\n",
    "where:"
   ]
  },
  {
   "cell_type": "markdown",
   "metadata": {},
   "source": [
    "\n",
    "- $t_0$ is the time when the bond is being priced\n",
    "- $t_1$ is the amount of time between $t_0$ and the first coupon payment\n",
    "- $t_2$ is the amount of time between $t_0$ and the second coupon payment\n",
    "\n",
    "...\n",
    "- $t_N$ is the amount of time between $t_0$ and the last coupon payment"
   ]
  },
  {
   "cell_type": "markdown",
   "metadata": {},
   "source": [
    "## <a id='toc3_1_'></a>[Day-counting conventions](#toc0_)\n",
    "\n",
    "A crucial question is: how should $t_1$, $t_2$,...,$t_N$ be calculated. The answer to this question can be different from bond to bond, depending on the day-counting convention used for that type of bond. The most common conventions are:"
   ]
  },
  {
   "attachments": {},
   "cell_type": "markdown",
   "metadata": {},
   "source": [
    "- 30/360 (assumes all months have 30 days and all years have 360 days)\n",
    "    - most common for corporate bonds, municipal bonds and mortgage-backed securities\n",
    "- Actual/Actual (uses the actual number of days between dates, and the actual number of days in the year)\n",
    "    - most common for Treasury Bonds\n",
    "- Actual/360 (uses the actual number of days between dates, but assumes all years have 360 days)\n",
    "    - most common for short-term securities like commercial paper and T-bills"
   ]
  },
  {
   "cell_type": "markdown",
   "metadata": {},
   "source": [
    "## <a id='toc3_2_'></a>[Clean (flat) vs dirty (invoice) prices](#toc0_)\n",
    "\n",
    "The price given by the formula above is called the **dirty price** or **invoice price** of the bond. This is the price you actually have to pay if you buy the bond at $t_0$. \n",
    "\n",
    "The price that is quoted for the bond is called the **clean price** or **flat price** of the bond. This price differs from the dirty price by the amount of **accrued interest** of the bond since the last coupon payment.\n",
    "\n",
    "$$Dirty Price = Clean Price + Accrued Interest$$"
   ]
  },
  {
   "attachments": {},
   "cell_type": "markdown",
   "metadata": {},
   "source": [
    "Where\n",
    "$$AccruedInterest = \\frac{\\text{Days since last coupon was paid}}{\\text{Total days in the current coupon period}} Coupon Payment$$"
   ]
  },
  {
   "attachments": {},
   "cell_type": "markdown",
   "metadata": {},
   "source": [
    "It is also important to remember that, bond prices are quoted as percentage of par. So a bond with par value of $1000 and a price of 103, actually has a clean price of $1030. *When I do not specify the par value, assume that it is $1000*."
   ]
  },
  {
   "attachments": {},
   "cell_type": "markdown",
   "metadata": {},
   "source": [
    "**Example 3:**\n",
    "\n",
    "Bond A was issued on May 15, 2000 and it matures in May 15, 2030. Coupons are paid semi-annualy, the coupon rate is 6%, and the yield to maturity is 2%. What was the invoice (dirty) price on July 31, 2012? Assume days are counted using the \"Actual/Actual\" convention."
   ]
  },
  {
   "cell_type": "code",
   "execution_count": 3,
   "metadata": {},
   "outputs": [],
   "source": [
    "# \n",
    "#\n",
    "#\n",
    "#\n",
    "#\n",
    "#\n",
    "#\n",
    "#"
   ]
  },
  {
   "attachments": {},
   "cell_type": "markdown",
   "metadata": {},
   "source": [
    "**Example 4:**\n",
    "\n",
    "It is January 1st, 2000. Bond A matures on March 1st, 2000. Coupons are paid quarterly, the coupon rate is 4%, and the yield to maturity is 4%. What was the invoice (dirty) price today in dollars? Assume the days are counted using the \"30/360\" convention."
   ]
  },
  {
   "cell_type": "code",
   "execution_count": 4,
   "metadata": {},
   "outputs": [],
   "source": [
    "# \n",
    "#\n",
    "#\n",
    "#\n",
    "#\n",
    "#\n",
    "#\n",
    "#"
   ]
  },
  {
   "cell_type": "markdown",
   "metadata": {},
   "source": [
    "# <a id='toc4_'></a>[Evolution of bond prices over time](#toc0_)"
   ]
  },
  {
   "attachments": {},
   "cell_type": "markdown",
   "metadata": {},
   "source": [
    "\n",
    "**Discount bonds** are bonds with a price lower than their par value. These are bonds where the yield to maturity is higher than the coupon rate (example 5 below). The price of these bonds increases over the lifetime of the bond until they reach par value at maturity (this process is called **\"pull to par\"**). This assumes that the YTM does not change during this time.\n",
    "\n",
    "**Premium bonds** are bonds with a price higher than their par value. These are bonds where the YTM is lower than the coupon rate (example 6 below). Again, due to \"pull to par\", the price of these bonds decreases over time until it reaches par value at maturity.\n",
    "\n",
    "**Par bonds** are bonds that trade at a price equal to their par value. The YTM of par bonds is equal to their coupon rate (example 7 below).\n",
    "\n",
    "It is important to remember that the increase and decrease in bond prices caused by pull to par does not mean that these bonds have become more or less attractive over time. Nothing about these bonds changes other than time to maturity."
   ]
  },
  {
   "attachments": {},
   "cell_type": "markdown",
   "metadata": {},
   "source": [
    "The **PV** function in Excel also lets you price bonds on coupon paying days. It has the following parameters:\n",
    "\n",
    "- rate = interest rate per compounding period (YTM divided by number of\n",
    " coupons per year)\n",
    "- nper = number of compounding periods left (years to maturity times number of coupons per year) \n",
    "- pmt = coupon per compounding period (par value times annual coupon rate divided by number of coupons per year). Put a negative sign in front of it to express that it is an outflow."
   ]
  },
  {
   "attachments": {},
   "cell_type": "markdown",
   "metadata": {},
   "source": [
    "**Example 5:**\n",
    "\n",
    "Bond A matures in 10 years and pays coupons semi-annually. It has a coupon rate of 8%, a yield of 10%, a face value of $100.\n",
    "Calculate the price of the bond today, and on each coupon paying day until the bond matures (the PV function will be easier to use for this purpose). Plot these prices over time."
   ]
  },
  {
   "cell_type": "code",
   "execution_count": 5,
   "metadata": {},
   "outputs": [],
   "source": [
    "# \n",
    "#\n",
    "#\n",
    "#\n",
    "#\n",
    "#\n",
    "#\n",
    "#"
   ]
  },
  {
   "attachments": {},
   "cell_type": "markdown",
   "metadata": {},
   "source": [
    "**Example 6:**\n",
    "\n",
    "Same data as in Example 5, only this time, assume YTM is 6%. "
   ]
  },
  {
   "cell_type": "code",
   "execution_count": 6,
   "metadata": {},
   "outputs": [],
   "source": [
    "# \n",
    "#\n",
    "#\n",
    "#\n",
    "#\n",
    "#\n",
    "#\n",
    "#"
   ]
  },
  {
   "attachments": {},
   "cell_type": "markdown",
   "metadata": {},
   "source": [
    "**Example 7:**\n",
    "\n",
    "Same data as in Example 5, only this time, assume YTM is 8%. "
   ]
  },
  {
   "cell_type": "code",
   "execution_count": 7,
   "metadata": {},
   "outputs": [],
   "source": [
    "# \n",
    "#\n",
    "#\n",
    "#\n",
    "#\n",
    "#\n",
    "#\n",
    "#"
   ]
  }
 ],
 "metadata": {
  "kernelspec": {
   "display_name": "Python 3",
   "language": "python",
   "name": "python3"
  },
  "language_info": {
   "codemirror_mode": {
    "name": "ipython",
    "version": 3
   },
   "file_extension": ".py",
   "mimetype": "text/x-python",
   "name": "python",
   "nbconvert_exporter": "python",
   "pygments_lexer": "ipython3",
   "version": "3.9.12"
  }
 },
 "nbformat": 4,
 "nbformat_minor": 4
}
