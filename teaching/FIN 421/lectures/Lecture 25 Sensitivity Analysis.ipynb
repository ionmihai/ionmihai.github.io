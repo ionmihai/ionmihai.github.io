{
 "cells": [
  {
   "attachments": {},
   "cell_type": "markdown",
   "metadata": {},
   "source": [
    "# The need for sensitivity analysis\n",
    "\n",
    "Our valuation results suggest that there is quite a bit of variance in our estimates of the value of MSFT. We have to remember that, even though we obtained many different estimates for this value, each of those estimates relies on some pretty strict assumptions that could easily not hold in the future.\n",
    "\n",
    "The purpose of a sensitivity analysis is to obtain an idea of just how much our estimates vary when we change some of the crucial assumptions behind our valuation methods.\n",
    "\n",
    "The showcase a sensitivity analysis, we use one of the valuation methods above: the DCF based on FCFE approach, and we rerun the valuation changing two crucial parameters we used for it: \n",
    "\n",
    "- The perpetual growth rate (g) and \n",
    "- The cost of capital (r_e)\n",
    "\n",
    "These parameters: the perpetual growth rate and the discount rate, have the highest impact on any DCF and DDM valuation."
   ]
  },
  {
   "attachments": {},
   "cell_type": "markdown",
   "metadata": {},
   "source": [
    "**To perform the sensitivity analysis in Excel:**\n",
    "\n",
    "- We create a table where \n",
    "    - the columns are the different cost of capital values we want to use\n",
    "    - the rows are the different growth rates we want to use\n",
    "- In the top left corner of the table, we link to the valuation cell from the original analysis\n",
    "- Select the entire table\n",
    "- Go to Data -> What-if analysis -> Data Table\n",
    "    - for \"Row Cell\" select the cost of equity cell in the original analysis\n",
    "    - for \"Column Cell\" select the terminal growth rate cell in the original analysis"
   ]
  },
  {
   "cell_type": "code",
   "execution_count": null,
   "metadata": {},
   "outputs": [],
   "source": [
    "#\n",
    "#\n",
    "#\n",
    "#\n",
    "#\n",
    "#\n",
    "#\n",
    "#\n",
    "#\n",
    "#"
   ]
  }
 ],
 "metadata": {
  "kernelspec": {
   "display_name": "Python 3",
   "language": "python",
   "name": "python3"
  },
  "language_info": {
   "codemirror_mode": {
    "name": "ipython",
    "version": 3
   },
   "file_extension": ".py",
   "mimetype": "text/x-python",
   "name": "python",
   "nbconvert_exporter": "python",
   "pygments_lexer": "ipython3",
   "version": "3.8.5"
  }
 },
 "nbformat": 4,
 "nbformat_minor": 4
}
