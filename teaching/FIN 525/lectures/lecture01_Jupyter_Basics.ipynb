{
 "cells": [
  {
   "cell_type": "markdown",
   "metadata": {},
   "source": [
    "# CELLS\n",
    "Jupyter notebooks are split into \"cells\". \n",
    "\n",
    "If you click anywhere inside a notebook, it will enclose the cell that you clicked on in a rectangle, to show you the exact contents of that cell (the cell may be empty). \n",
    "- You can then press \"Enter\" to edit the contents of that cell (the enclosing rectangle will change colors - from blue to green). \n",
    "- When you are done editing a cell, you can press \"Shift+Enter\" to run it. \n",
    "\n",
    "The two types of cells that you will be using most often are: \n",
    "- Markdown cells\n",
    "    - Contain text in \"Markdown\" language (more on this below)\n",
    "    - Convert a cell to Markdown by clicking on it, and the pressing \"Esc\" and \"M\"\n",
    "- Code cells\n",
    "    - Contain code in language you specified by the notebook's \"kernel\" (more on this below)\n",
    "    - Convert a cell to Markdown by clicking on it, and the pressing \"Esc\" and \"Y\"\n",
    "\n"
   ]
  },
  {
   "cell_type": "markdown",
   "metadata": {},
   "source": [
    "## Markdown cells\n",
    "These are cells where you write text. This cell is a Markdown cell. \n",
    "Think of Markdown as a lightweight version of Microsoft Word. \n",
    "It allows you to format your text (indentation, bullet points, italics, etc) using pre-specified syntax (code) rather than clicking through menu items like in Work.\n"
   ]
  },
  {
   "cell_type": "markdown",
   "metadata": {},
   "source": [
    "## Markdown formatting\n",
    "The following markdown cell shows you how to do basic formatting in Markdown "
   ]
  },
  {
   "cell_type": "markdown",
   "metadata": {},
   "source": [
    "Headers:\n",
    "\n",
    "# Largest header\n",
    "## Second largest header\n",
    "### Third largers header\n",
    "\n",
    "Lists (bullet points):\n",
    "\n",
    "- item \n",
    "    - subitem \n",
    "        - subsubitem\n",
    "        \n",
    "* item \n",
    "    * subitem \n",
    "        * subsubitem \n",
    "\n",
    "Lists (numbered):\n",
    "\n",
    "1. item \n",
    "2. item \n",
    "\n",
    "Lists (mixed):\n",
    "\n",
    "1. item\n",
    "    - subitem\n",
    "        - subsubitem\n",
    "            - subsubsubitem\n",
    "2. item\n",
    "    - subitem\n",
    "        - subsubitem\n",
    "            - subsubsubitem\n",
    "\n",
    "This is how you do *italics* and this is how you do **bold**."
   ]
  },
  {
   "cell_type": "markdown",
   "metadata": {},
   "source": [
    "### LaTex\n",
    "Markdown also allows you to write mathematical formulas using LaTex syntax. \n",
    "\n",
    "For example:\n",
    "\n",
    "$Y_{i,t} = \\alpha + \\beta X_{i,t} + \\epsilon_{i,t}$\n",
    "         \n",
    "Which was written as \n",
    "\n",
    "         $Y_{i,t} = \\alpha + \\beta X_{i,t} + \\epsilon_{i,t}$\n",
    "\n",
    "        \n",
    "Note that the LaTex syntax for the symbols in your equation are different from Markdown syntax."
   ]
  },
  {
   "cell_type": "markdown",
   "metadata": {},
   "source": [
    "## Code cells\n",
    "By default, any new cell you create in a notebook will be a code cell.\n",
    "\n",
    "In a code cell, you write code written in the language of the kernel you chose for your notebook. This is the language you selected when you created your notebook. It is usually displayed in the top right corner of the screen (under the \"Logout\" icon. If you write code written in any other language in a code cell, you will get errors when you try to run that cell.\n",
    "\n",
    "For example, this is a Python 3 notebook, so the following code will work because it is written in the Python 3 language:"
   ]
  },
  {
   "cell_type": "code",
   "execution_count": null,
   "metadata": {},
   "outputs": [],
   "source": [
    "print(\"This will work\")"
   ]
  },
  {
   "cell_type": "markdown",
   "metadata": {},
   "source": [
    "But the following code will not work, because it is written in the Stata language:"
   ]
  },
  {
   "cell_type": "code",
   "execution_count": null,
   "metadata": {},
   "outputs": [],
   "source": [
    "display \"This will not work\""
   ]
  },
  {
   "cell_type": "markdown",
   "metadata": {},
   "source": [
    "There are some kernels that will allow you to create notebooks that support multiple programming languages, but that is a more advanced topic and we will not cover it here."
   ]
  },
  {
   "cell_type": "markdown",
   "metadata": {},
   "source": [
    "Each code cell can contain multiple lines of code."
   ]
  },
  {
   "cell_type": "code",
   "execution_count": null,
   "metadata": {},
   "outputs": [],
   "source": [
    "print(\"Line 1\")\n",
    "print(\"Line 2\")\n",
    "a = 2"
   ]
  },
  {
   "cell_type": "markdown",
   "metadata": {},
   "source": [
    "And the code in a particular code cell will recognize variables that were created in a different code cell (from above or below), as long as that cell has already been run. For example the following line of code knows what the variable \"a\" is (from the previous cell)"
   ]
  },
  {
   "cell_type": "code",
   "execution_count": null,
   "metadata": {},
   "outputs": [],
   "source": [
    "print(a)"
   ]
  },
  {
   "cell_type": "markdown",
   "metadata": {},
   "source": [
    "To the left of every code cell, you will see the order in which you **ran** them in the current session. For example, \"In [4]\" means this is the fourth code cell you ran in this session. Because at any time, you can run any code cell you want, the order in which you run them may not match the order in which they appear in the notebook. I highly recommend you NEVER use in a code cell variables that you define in a cell that appears lower in the notebook. Another way of saying that is to always assume that the code cells will be run in the order in which they appear in the notebook (even though that need not be the case).  \n",
    "\n",
    "For example, don't run the following cell AFTER you run the one after it:"
   ]
  },
  {
   "cell_type": "code",
   "execution_count": 3,
   "metadata": {},
   "outputs": [
    {
     "name": "stdout",
     "output_type": "stream",
     "text": [
      "3\n"
     ]
    }
   ],
   "source": [
    "print(b)"
   ]
  },
  {
   "cell_type": "markdown",
   "metadata": {},
   "source": [
    "Note that code cells don't always have an output. For example the line below does not seem to do anything when you run it, but it does assign the value 3 to variable b (we'll talk more about variables next class)."
   ]
  },
  {
   "cell_type": "code",
   "execution_count": 4,
   "metadata": {},
   "outputs": [],
   "source": [
    "b = 3"
   ]
  },
  {
   "cell_type": "markdown",
   "metadata": {},
   "source": [
    "# Important notebook commands"
   ]
  },
  {
   "cell_type": "markdown",
   "metadata": {},
   "source": [
    "As mentioned above, after clicking on any command, you can press \"Enter\" to enter \"Edit mode\" (to be able to edit the contents of that cell) or \"Esc\" to enter \"Command mode\" which allows you to use keyboard shortcuts to ask Jupyter to do specific things.\n",
    "\n",
    "Here are some of the most common such commands (remember, these will not work unless you pressed \"Esc\" right before, to enter command mode):\n",
    "\n",
    "- press \"M\" to convert the current cell to a Markdown cell\n",
    "- press \"Y\" to convert the current cell to a Code cell\n",
    "- press \"A\" to insert a new cells right above the current cell\n",
    "- press \"B\" to insert a new cells below above the current cell\n",
    "- press \"C\" to copy the selected cells\n",
    "- press \"X\" to cut the selected cells\n",
    "- press \"V\" to past the selected cells\n",
    "- press \"D\" + \"D\" to delete selected cells\n",
    "- press \"Z\" to undo cell deletion\n",
    "- press \"Ctrl\" + \"Enter\" to run the selected cells\n",
    "- press \"0\" (zero, not the letter O) to restart your kernel (this \"forgets\" all the code you ran in the current session)"
   ]
  },
  {
   "cell_type": "markdown",
   "metadata": {},
   "source": [
    "To see all the available commands, press \"Ctrl\" + \"Shift\" + \"P\""
   ]
  }
 ],
 "metadata": {
  "kernelspec": {
   "display_name": "base",
   "language": "python",
   "name": "python3"
  },
  "language_info": {
   "codemirror_mode": {
    "name": "ipython",
    "version": 3
   },
   "file_extension": ".py",
   "mimetype": "text/x-python",
   "name": "python",
   "nbconvert_exporter": "python",
   "pygments_lexer": "ipython3",
   "version": "3.9.12 (main, Apr  5 2022, 06:56:58) \n[GCC 7.5.0]"
  },
  "toc": {
   "base_numbering": 1,
   "nav_menu": {},
   "number_sections": true,
   "sideBar": true,
   "skip_h1_title": false,
   "title_cell": "Table of Contents",
   "title_sidebar": "Contents",
   "toc_cell": false,
   "toc_position": {},
   "toc_section_display": true,
   "toc_window_display": false
  },
  "vscode": {
   "interpreter": {
    "hash": "5c65ce2fea2f0c67157032582cff07b1c9d083b283061c8d8524588d6f489174"
   }
  }
 },
 "nbformat": 4,
 "nbformat_minor": 4
}
