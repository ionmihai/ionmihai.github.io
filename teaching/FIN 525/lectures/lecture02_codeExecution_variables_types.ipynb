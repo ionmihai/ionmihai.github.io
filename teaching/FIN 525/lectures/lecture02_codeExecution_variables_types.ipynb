{
 "cells": [
  {
   "cell_type": "raw",
   "id": "55d8269e",
   "metadata": {},
   "source": [
    "---\n",
    "title: \"L02: Variables, types, operators\"\n",
    "---"
   ]
  },
  {
   "cell_type": "markdown",
   "id": "d2b3df79",
   "metadata": {},
   "source": [
    "# Lecture overview\n",
    "\n",
    "Programming involves two general tasks: (1) writing code and (2) getting your computer to execute that code (often referred to as 'running' the code). This lecture gives you a quick preview of both tasks: we start by writing some Python code that explains the fundamental programming concepts of \"variables\", \"types\", and \"operations\", and then we look at all the different ways in which you can get your computer to execute that. "
   ]
  },
  {
   "cell_type": "markdown",
   "id": "37c6af7c",
   "metadata": {},
   "source": [
    "# Variables (and the print function)\n",
    "\n",
    "In programming, a variable is just a name for something. The \"something\" is usually referred to as data, and the variable is the name we give to that data. For example, in the code below, we create a new variable called myName, which is just a name for the piece of data \"Mihai Ion\":"
   ]
  },
  {
   "cell_type": "code",
   "execution_count": 1,
   "id": "28527ea2",
   "metadata": {},
   "outputs": [],
   "source": [
    "myName = \"Mihai Ion\"\n",
    "# This is a \"comment\". The # symbol at the beginning tells Python to ignore what comes after it on this line."
   ]
  },
  {
   "cell_type": "markdown",
   "id": "ee764760",
   "metadata": {},
   "source": [
    "Now, every time I use myName in a price of Python code, Python will know that I actually mean \"Mihai Ion\". Below, I use the Python \"print\" function to display the data that myName refers to:"
   ]
  },
  {
   "cell_type": "code",
   "execution_count": 2,
   "id": "a222ae46",
   "metadata": {},
   "outputs": [
    {
     "name": "stdout",
     "output_type": "stream",
     "text": [
      "Mihai Ion\n"
     ]
    }
   ],
   "source": [
    "print(myName)"
   ]
  },
  {
   "cell_type": "markdown",
   "id": "864ee2d3",
   "metadata": {},
   "source": [
    "Note that the print function does not display \"myName\". If I wanted to do that, I would write:"
   ]
  },
  {
   "cell_type": "code",
   "execution_count": 3,
   "id": "ccef5a10",
   "metadata": {},
   "outputs": [
    {
     "name": "stdout",
     "output_type": "stream",
     "text": [
      "myName\n"
     ]
    }
   ],
   "source": [
    "print(\"myName\")"
   ]
  },
  {
   "cell_type": "markdown",
   "id": "d5fda221",
   "metadata": {},
   "source": [
    "With the quotation marks, Python does not try to interpret what I mean by \"myName\". It just assumes that I want to print that piece of text on the screen. However, without the quotation marks, Python searches in the code that I have previously run, to see if at any point, I created a variable called myName. Since I had already run the myName = \"Mihai Ion\" line of code, it knows that, any time I use myName in a piece of code, I really mean \"Mihai Ion\". "
   ]
  },
  {
   "cell_type": "markdown",
   "id": "4044f042",
   "metadata": {},
   "source": [
    "**Note that a variable name can not start with a digit:**"
   ]
  },
  {
   "cell_type": "code",
   "execution_count": 4,
   "id": "c0aa916d",
   "metadata": {},
   "outputs": [
    {
     "ename": "SyntaxError",
     "evalue": "invalid syntax (1243378856.py, line 1)",
     "output_type": "error",
     "traceback": [
      "\u001b[0;36m  Cell \u001b[0;32mIn[4], line 1\u001b[0;36m\u001b[0m\n\u001b[0;31m    1myName = \"Mihai Ion\"\u001b[0m\n\u001b[0m     ^\u001b[0m\n\u001b[0;31mSyntaxError\u001b[0m\u001b[0;31m:\u001b[0m invalid syntax\n"
     ]
    }
   ],
   "source": [
    "1myName = \"Mihai Ion\""
   ]
  },
  {
   "cell_type": "markdown",
   "id": "1b291cca",
   "metadata": {},
   "source": [
    "# Types"
   ]
  },
  {
   "cell_type": "markdown",
   "id": "b7b00f13",
   "metadata": {},
   "source": [
    "Note that the print function can also print numbers, with or without quotation marks:"
   ]
  },
  {
   "cell_type": "code",
   "execution_count": 5,
   "id": "7786e0f4",
   "metadata": {},
   "outputs": [
    {
     "name": "stdout",
     "output_type": "stream",
     "text": [
      "123\n"
     ]
    }
   ],
   "source": [
    "print(123)"
   ]
  },
  {
   "cell_type": "code",
   "execution_count": 6,
   "id": "906ac0ac",
   "metadata": {},
   "outputs": [
    {
     "name": "stdout",
     "output_type": "stream",
     "text": [
      "123\n"
     ]
    }
   ],
   "source": [
    "print(\"123\")"
   ]
  },
  {
   "cell_type": "markdown",
   "id": "e392f2fd",
   "metadata": {},
   "source": [
    "Above, it looks like 123 is the same thing as \"123\", but internally, Python treats these as very different types of data. 123 is a number (an integer to be more exact) and \"123\" is a piece of text (a string to be more exact). Formally, we say that 123 and \"123\" are of different **type**. I can check the type of a particular piece of data using the \"type\" function as below:"
   ]
  },
  {
   "cell_type": "code",
   "execution_count": 7,
   "id": "369fca1d",
   "metadata": {},
   "outputs": [
    {
     "name": "stdout",
     "output_type": "stream",
     "text": [
      "<class 'int'>\n"
     ]
    }
   ],
   "source": [
    "print(type(123))"
   ]
  },
  {
   "cell_type": "markdown",
   "id": "409589e6",
   "metadata": {},
   "source": [
    "The **int** above stands for \"integer\" (whole number)"
   ]
  },
  {
   "cell_type": "code",
   "execution_count": 8,
   "id": "6f00e2ce",
   "metadata": {},
   "outputs": [
    {
     "name": "stdout",
     "output_type": "stream",
     "text": [
      "<class 'str'>\n"
     ]
    }
   ],
   "source": [
    "print(type(\"123\"))"
   ]
  },
  {
   "cell_type": "markdown",
   "id": "41f5d3fd",
   "metadata": {},
   "source": [
    "The **str** above stands for \"string\" (a sequence of characters)."
   ]
  },
  {
   "cell_type": "markdown",
   "id": "8d6766e9",
   "metadata": {},
   "source": [
    "We can use the same function to see the type of a given variable we have created in a prior piece of code:"
   ]
  },
  {
   "cell_type": "code",
   "execution_count": 9,
   "id": "f360d497",
   "metadata": {},
   "outputs": [
    {
     "name": "stdout",
     "output_type": "stream",
     "text": [
      "<class 'str'>\n"
     ]
    }
   ],
   "source": [
    "print(type(myName))"
   ]
  },
  {
   "cell_type": "markdown",
   "id": "1dfc4bb8",
   "metadata": {},
   "source": [
    "Two other very important data types are:"
   ]
  },
  {
   "cell_type": "markdown",
   "id": "adccf773",
   "metadata": {},
   "source": [
    "- **float** (floating point number i.e. not whole number)"
   ]
  },
  {
   "cell_type": "code",
   "execution_count": 10,
   "id": "3e6b4662",
   "metadata": {},
   "outputs": [
    {
     "name": "stdout",
     "output_type": "stream",
     "text": [
      "<class 'float'>\n"
     ]
    }
   ],
   "source": [
    "print(type(12.4))"
   ]
  },
  {
   "cell_type": "markdown",
   "id": "93d1a4a1",
   "metadata": {},
   "source": [
    "- **bool** (boolean value i.e. True or False)"
   ]
  },
  {
   "cell_type": "code",
   "execution_count": 11,
   "id": "d5a072e1",
   "metadata": {},
   "outputs": [
    {
     "name": "stdout",
     "output_type": "stream",
     "text": [
      "<class 'bool'>\n"
     ]
    }
   ],
   "source": [
    "print(type(False))"
   ]
  },
  {
   "cell_type": "markdown",
   "id": "eddb3c2f",
   "metadata": {},
   "source": [
    "Note that Python has several other data types that we will introduce later on, as we need them."
   ]
  },
  {
   "cell_type": "markdown",
   "id": "b02fc672",
   "metadata": {},
   "source": [
    "# Operators\n",
    "\n",
    "Understanding the difference between data types is important because what we can do with any particular piece of data depends critically on its type. "
   ]
  },
  {
   "cell_type": "markdown",
   "id": "057ae1e6",
   "metadata": {},
   "source": [
    "For example, we can not add a number to a variable of type \"str\":"
   ]
  },
  {
   "cell_type": "code",
   "execution_count": 12,
   "id": "81755ef2",
   "metadata": {},
   "outputs": [
    {
     "ename": "TypeError",
     "evalue": "can only concatenate str (not \"int\") to str",
     "output_type": "error",
     "traceback": [
      "\u001b[0;31m---------------------------------------------------------------------------\u001b[0m",
      "\u001b[0;31mTypeError\u001b[0m                                 Traceback (most recent call last)",
      "\u001b[1;32m/data/imb/Dropbox/0teaching/UA_2023_Spring_525/lectures/lecture02_python_variables_types/lecture02_codeExecution_variables_types.ipynb Cell 30\u001b[0m in \u001b[0;36m<cell line: 2>\u001b[0;34m()\u001b[0m\n\u001b[1;32m      <a href='vscode-notebook-cell:/data/imb/Dropbox/0teaching/UA_2023_Spring_525/lectures/lecture02_python_variables_types/lecture02_codeExecution_variables_types.ipynb#X41sZmlsZQ%3D%3D?line=0'>1</a>\u001b[0m a \u001b[39m=\u001b[39m \u001b[39m\"\u001b[39m\u001b[39m1\u001b[39m\u001b[39m\"\u001b[39m\n\u001b[0;32m----> <a href='vscode-notebook-cell:/data/imb/Dropbox/0teaching/UA_2023_Spring_525/lectures/lecture02_python_variables_types/lecture02_codeExecution_variables_types.ipynb#X41sZmlsZQ%3D%3D?line=1'>2</a>\u001b[0m \u001b[39mprint\u001b[39m(a \u001b[39m+\u001b[39;49m \u001b[39m23\u001b[39;49m)\n",
      "\u001b[0;31mTypeError\u001b[0m: can only concatenate str (not \"int\") to str"
     ]
    }
   ],
   "source": [
    "a = \"1\"\n",
    "print(a + 23)"
   ]
  },
  {
   "cell_type": "markdown",
   "id": "28c993f1",
   "metadata": {},
   "source": [
    "But we can add a number to a variable of type \"int\" (or \"float\"): "
   ]
  },
  {
   "cell_type": "code",
   "execution_count": 13,
   "id": "8254e69f",
   "metadata": {},
   "outputs": [
    {
     "name": "stdout",
     "output_type": "stream",
     "text": [
      "24\n"
     ]
    }
   ],
   "source": [
    "a = 1\n",
    "print(a + 23)"
   ]
  },
  {
   "cell_type": "markdown",
   "id": "b873c327",
   "metadata": {},
   "source": [
    "And we can not append a piece of text at the end of a variable of type \"int\": "
   ]
  },
  {
   "cell_type": "code",
   "execution_count": 14,
   "id": "72a9a778",
   "metadata": {},
   "outputs": [
    {
     "ename": "TypeError",
     "evalue": "unsupported operand type(s) for +: 'int' and 'str'",
     "output_type": "error",
     "traceback": [
      "\u001b[0;31m---------------------------------------------------------------------------\u001b[0m",
      "\u001b[0;31mTypeError\u001b[0m                                 Traceback (most recent call last)",
      "\u001b[1;32m/data/imb/Dropbox/0teaching/UA_2023_Spring_525/lectures/lecture02_python_variables_types/lecture02_codeExecution_variables_types.ipynb Cell 34\u001b[0m in \u001b[0;36m<cell line: 1>\u001b[0;34m()\u001b[0m\n\u001b[0;32m----> <a href='vscode-notebook-cell:/data/imb/Dropbox/0teaching/UA_2023_Spring_525/lectures/lecture02_python_variables_types/lecture02_codeExecution_variables_types.ipynb#X45sZmlsZQ%3D%3D?line=0'>1</a>\u001b[0m \u001b[39mprint\u001b[39m(a \u001b[39m+\u001b[39;49m \u001b[39m\"\u001b[39;49m\u001b[39m23\u001b[39;49m\u001b[39m\"\u001b[39;49m)\n",
      "\u001b[0;31mTypeError\u001b[0m: unsupported operand type(s) for +: 'int' and 'str'"
     ]
    }
   ],
   "source": [
    "print(a + \"23\")"
   ]
  },
  {
   "cell_type": "markdown",
   "id": "8f2853fb",
   "metadata": {},
   "source": [
    "In the above line, python looks for the last time we declared what we mean by a, which is in the line above it (i.e. a = 1).  "
   ]
  },
  {
   "cell_type": "markdown",
   "id": "34ccbaa0",
   "metadata": {},
   "source": [
    "But we can append a piece of text at the end of a variable of type \"str\":"
   ]
  },
  {
   "cell_type": "code",
   "execution_count": 15,
   "id": "ec9f6207",
   "metadata": {},
   "outputs": [
    {
     "name": "stdout",
     "output_type": "stream",
     "text": [
      "123\n"
     ]
    }
   ],
   "source": [
    "a = \"1\"\n",
    "print(a + \"23\")"
   ]
  },
  {
   "cell_type": "markdown",
   "id": "b9d05f49",
   "metadata": {},
   "source": [
    "**Operators are special symbols which tell Python to perform particular tasks.**\n",
    "\n",
    "In the examples above, + is an operator and the variables on which it operates are called **operands** (e.g. a and \"23\" in the last example are operands). \n",
    "\n",
    "The examples show you that the + operator performs different tasks depending on the types of its operands: \n",
    "- addition, when the operands are numeric (e.g. int or float type)\n",
    "- concatenation (joining), when the operands are strings (str type)\n",
    "\n",
    "The examples also show us that Python gives us an error if we try to supply operands of incompatible types to the + operator (e.g. and int and a str).\n",
    "\n",
    "In the following three subsections, we cover some of the most commonly used operators in Python. The examples are pretty self explanatory so we only show the code. This is not an exhaustive list of all operators found in Python. We will introduce others as needed."
   ]
  },
  {
   "cell_type": "markdown",
   "id": "23d10bd1",
   "metadata": {},
   "source": [
    "## Mathematical operators"
   ]
  },
  {
   "cell_type": "code",
   "execution_count": 16,
   "id": "762957e9",
   "metadata": {},
   "outputs": [
    {
     "name": "stdout",
     "output_type": "stream",
     "text": [
      "3.3\n"
     ]
    }
   ],
   "source": [
    "print(1 + 2.3)"
   ]
  },
  {
   "cell_type": "code",
   "execution_count": 17,
   "id": "a682a9f5",
   "metadata": {},
   "outputs": [
    {
     "name": "stdout",
     "output_type": "stream",
     "text": [
      "-1.2999999999999998\n"
     ]
    }
   ],
   "source": [
    "print(1 - 2.3)"
   ]
  },
  {
   "cell_type": "code",
   "execution_count": 18,
   "id": "04eef559",
   "metadata": {},
   "outputs": [
    {
     "name": "stdout",
     "output_type": "stream",
     "text": [
      "20\n"
     ]
    }
   ],
   "source": [
    "print(10*2)"
   ]
  },
  {
   "cell_type": "code",
   "execution_count": 19,
   "id": "6be959a0",
   "metadata": {},
   "outputs": [
    {
     "name": "stdout",
     "output_type": "stream",
     "text": [
      "5.0\n"
     ]
    }
   ],
   "source": [
    "print(10/2)"
   ]
  },
  {
   "cell_type": "code",
   "execution_count": 20,
   "id": "5633099c",
   "metadata": {},
   "outputs": [
    {
     "name": "stdout",
     "output_type": "stream",
     "text": [
      "8\n"
     ]
    }
   ],
   "source": [
    "#Exponentiation\n",
    "print(2**3)"
   ]
  },
  {
   "cell_type": "markdown",
   "id": "727ad91b",
   "metadata": {},
   "source": [
    "## Comparison operators"
   ]
  },
  {
   "cell_type": "markdown",
   "id": "52ab4f42",
   "metadata": {},
   "source": [
    "**Checking for equality**\n",
    "\n",
    "We use the == (double equal) operator to check if two values are equal. Note that this is different from the = (i.e. \"assignment\") operator, which is used to create variables (see examples above."
   ]
  },
  {
   "cell_type": "code",
   "execution_count": 21,
   "id": "c5e50bd8",
   "metadata": {},
   "outputs": [
    {
     "name": "stdout",
     "output_type": "stream",
     "text": [
      "True\n"
     ]
    }
   ],
   "source": [
    "print(1==1)"
   ]
  },
  {
   "cell_type": "code",
   "execution_count": 22,
   "id": "6ed7b369",
   "metadata": {},
   "outputs": [
    {
     "name": "stdout",
     "output_type": "stream",
     "text": [
      "False\n"
     ]
    }
   ],
   "source": [
    "print(1==2)"
   ]
  },
  {
   "cell_type": "markdown",
   "id": "ff001a77",
   "metadata": {},
   "source": [
    "**Checking for inequality**"
   ]
  },
  {
   "cell_type": "code",
   "execution_count": 23,
   "id": "27ee99c0",
   "metadata": {},
   "outputs": [
    {
     "name": "stdout",
     "output_type": "stream",
     "text": [
      "True\n"
     ]
    }
   ],
   "source": [
    "# not equal\n",
    "print(1 != 2)"
   ]
  },
  {
   "cell_type": "code",
   "execution_count": 24,
   "id": "25632482",
   "metadata": {},
   "outputs": [
    {
     "name": "stdout",
     "output_type": "stream",
     "text": [
      "True\n"
     ]
    }
   ],
   "source": [
    "# strictly smaller than\n",
    "print(1 < 2)"
   ]
  },
  {
   "cell_type": "code",
   "execution_count": 25,
   "id": "a57c70b5",
   "metadata": {},
   "outputs": [
    {
     "name": "stdout",
     "output_type": "stream",
     "text": [
      "False\n"
     ]
    }
   ],
   "source": [
    "# strictly larger than\n",
    "print(1 > 2)"
   ]
  },
  {
   "cell_type": "code",
   "execution_count": 26,
   "id": "b73e998e",
   "metadata": {},
   "outputs": [
    {
     "name": "stdout",
     "output_type": "stream",
     "text": [
      "True\n"
     ]
    }
   ],
   "source": [
    "# smaller or equal\n",
    "print(1 <= 1)"
   ]
  },
  {
   "cell_type": "code",
   "execution_count": 27,
   "id": "c8b70f36",
   "metadata": {},
   "outputs": [
    {
     "name": "stdout",
     "output_type": "stream",
     "text": [
      "True\n"
     ]
    }
   ],
   "source": [
    "# larger or equal\n",
    "print(1 >= 1)"
   ]
  },
  {
   "cell_type": "markdown",
   "id": "5264078e",
   "metadata": {},
   "source": [
    "All these operators work on any variables of numeric type you have previously declared. "
   ]
  },
  {
   "cell_type": "code",
   "execution_count": 28,
   "id": "75161948",
   "metadata": {},
   "outputs": [
    {
     "name": "stdout",
     "output_type": "stream",
     "text": [
      "True\n"
     ]
    }
   ],
   "source": [
    "a = 10\n",
    "b = 20\n",
    "print(a != b)"
   ]
  },
  {
   "cell_type": "markdown",
   "id": "ccfff9fd",
   "metadata": {},
   "source": [
    "But be careful what you are comparing because these operators also work on variables that are not of numeric type (and the results may surprise you):"
   ]
  },
  {
   "cell_type": "code",
   "execution_count": 29,
   "id": "b5787e0f",
   "metadata": {},
   "outputs": [
    {
     "name": "stdout",
     "output_type": "stream",
     "text": [
      "True\n"
     ]
    }
   ],
   "source": [
    "a = \"A\"\n",
    "b = \"1\"\n",
    "print(a > b)"
   ]
  },
  {
   "cell_type": "markdown",
   "id": "aa71f8c6",
   "metadata": {},
   "source": [
    "The result of a comparison can be assigned a variable name:"
   ]
  },
  {
   "cell_type": "code",
   "execution_count": 30,
   "id": "fbbc958a",
   "metadata": {},
   "outputs": [
    {
     "name": "stdout",
     "output_type": "stream",
     "text": [
      "False\n"
     ]
    }
   ],
   "source": [
    "a = 10\n",
    "b = 20\n",
    "c = a > b\n",
    "print(c)"
   ]
  },
  {
   "cell_type": "markdown",
   "id": "569c8331",
   "metadata": {},
   "source": [
    "## Logical operators\n",
    "\n",
    "Python interprets 1 as True and 0 as False. We'll talk more about this when we introduce conditional statements. If you want to read ahead on this topic, take a look here: https://docs.python.org/3/library/stdtypes.html"
   ]
  },
  {
   "cell_type": "code",
   "execution_count": 31,
   "id": "5baa2c5d",
   "metadata": {},
   "outputs": [],
   "source": [
    "a = True\n",
    "b = False\n",
    "c = 1\n",
    "d = 0"
   ]
  },
  {
   "cell_type": "code",
   "execution_count": 32,
   "id": "2b21dcb2",
   "metadata": {},
   "outputs": [
    {
     "name": "stdout",
     "output_type": "stream",
     "text": [
      "False\n"
     ]
    }
   ],
   "source": [
    "#Logical \"and\"\n",
    "print(a and b)"
   ]
  },
  {
   "cell_type": "code",
   "execution_count": 33,
   "id": "cf1b7895",
   "metadata": {},
   "outputs": [
    {
     "name": "stdout",
     "output_type": "stream",
     "text": [
      "1\n"
     ]
    }
   ],
   "source": [
    "print(a and c)"
   ]
  },
  {
   "cell_type": "code",
   "execution_count": 34,
   "id": "6cd03da5",
   "metadata": {},
   "outputs": [
    {
     "name": "stdout",
     "output_type": "stream",
     "text": [
      "True\n"
     ]
    }
   ],
   "source": [
    "print(c and a)"
   ]
  },
  {
   "cell_type": "code",
   "execution_count": 35,
   "id": "04ca78ab",
   "metadata": {},
   "outputs": [
    {
     "name": "stdout",
     "output_type": "stream",
     "text": [
      "True\n"
     ]
    }
   ],
   "source": [
    "#Logical \"or\"\n",
    "print(a or b)"
   ]
  },
  {
   "cell_type": "code",
   "execution_count": 36,
   "id": "82cce4df",
   "metadata": {},
   "outputs": [
    {
     "name": "stdout",
     "output_type": "stream",
     "text": [
      "False\n"
     ]
    }
   ],
   "source": [
    "#Logical \"not\"\n",
    "print(not a)"
   ]
  },
  {
   "cell_type": "markdown",
   "id": "9ce365a9",
   "metadata": {},
   "source": [
    "## String operators\n",
    "\n",
    "In Python, a string is represented as a sequence of characters."
   ]
  },
  {
   "cell_type": "code",
   "execution_count": 37,
   "id": "f0fdbbdf",
   "metadata": {},
   "outputs": [
    {
     "name": "stdout",
     "output_type": "stream",
     "text": [
      "fin525\n",
      "fin525\n"
     ]
    }
   ],
   "source": [
    "# Concatenation (joining)\n",
    "a = 'fin'\n",
    "b = \"525\" #note that both single quotes and double quotes can be used\n",
    "c = a + b\n",
    "print(c)\n",
    "print('fin'+'525')"
   ]
  },
  {
   "cell_type": "code",
   "execution_count": 38,
   "id": "243e6166",
   "metadata": {},
   "outputs": [
    {
     "name": "stdout",
     "output_type": "stream",
     "text": [
      "finfinfin\n"
     ]
    }
   ],
   "source": [
    "# Repetition (with the * operator)\n",
    "d = a * 3\n",
    "print(d)"
   ]
  },
  {
   "cell_type": "code",
   "execution_count": 39,
   "id": "d60635a4",
   "metadata": {},
   "outputs": [
    {
     "name": "stdout",
     "output_type": "stream",
     "text": [
      "i\n",
      "c\n"
     ]
    }
   ],
   "source": [
    "# Slicing a single character (with the [] operator)\n",
    "e = a[1] #PYTHON STARTS COUNTING FROM 0 (0 means first, 1 means second, etc)\n",
    "print(e)\n",
    "print('abcd'[-2]) #the - sign means \"starting from the back\""
   ]
  },
  {
   "cell_type": "code",
   "execution_count": 40,
   "id": "1a8ef2a0",
   "metadata": {},
   "outputs": [
    {
     "name": "stdout",
     "output_type": "stream",
     "text": [
      "Mihai\n",
      "Mihai\n",
      "Mihai I\n"
     ]
    }
   ],
   "source": [
    "# Slicing a range of characters (with the [:] operator)\n",
    "print('Mihai Ion'[0:5]) #print from the first to the fifth characters of 'Mihai Ion'\n",
    "print('Mihai Ion'[:5]) #same thing\n",
    "print('Mihai Ion'[:-2]) #print all but the last 2 characters"
   ]
  },
  {
   "cell_type": "code",
   "execution_count": 41,
   "id": "b48747fa",
   "metadata": {},
   "outputs": [
    {
     "name": "stdout",
     "output_type": "stream",
     "text": [
      "False\n"
     ]
    }
   ],
   "source": [
    "# Membership (with \"in\" operator)\n",
    "print('s' in 'Mihai')"
   ]
  },
  {
   "cell_type": "code",
   "execution_count": 42,
   "id": "89ac2e84",
   "metadata": {},
   "outputs": [
    {
     "name": "stdout",
     "output_type": "stream",
     "text": [
      "True\n"
     ]
    }
   ],
   "source": [
    "# Membership (with \"not in\" operator)\n",
    "print('s' not in 'Mihai')"
   ]
  },
  {
   "cell_type": "markdown",
   "id": "31423bc5",
   "metadata": {},
   "source": [
    "**String formatting with f-Strings**\n",
    "\n",
    "f-Strings are a relatively new addition to the Python language. They allow you insert the result of an expression inside another string."
   ]
  },
  {
   "cell_type": "code",
   "execution_count": 43,
   "id": "f4ad6af0",
   "metadata": {},
   "outputs": [
    {
     "name": "stdout",
     "output_type": "stream",
     "text": [
      "My name is Mihai, and I am 104 years old\n"
     ]
    }
   ],
   "source": [
    "#Inserting the value of a variable inside another string\n",
    "name = 'Mihai'\n",
    "age = 104\n",
    "s = f'My name is {name}, and I am {age} years old' #the f at the beginning makes this an f-string. Note the {} inside.\n",
    "print(s)"
   ]
  },
  {
   "cell_type": "code",
   "execution_count": 44,
   "id": "822bdb89",
   "metadata": {},
   "outputs": [
    {
     "name": "stdout",
     "output_type": "stream",
     "text": [
      "Two plus two equals 4\n"
     ]
    }
   ],
   "source": [
    "#Insert the result of a computation inside another string\n",
    "print(f\"Two plus two equals {2*2}\")"
   ]
  },
  {
   "cell_type": "markdown",
   "id": "c7d92d79",
   "metadata": {},
   "source": [
    "We can also specify how the value that we want to insert inside the f-string needs to be formatted:"
   ]
  },
  {
   "cell_type": "code",
   "execution_count": 45,
   "id": "aedce5e3",
   "metadata": {},
   "outputs": [
    {
     "name": "stdout",
     "output_type": "stream",
     "text": [
      "My name is Mihai, and I am  104.12 years old\n"
     ]
    }
   ],
   "source": [
    "age = 104.123\n",
    "print(f'My name is {name}, and I am {age: .2f} years old')"
   ]
  },
  {
   "cell_type": "markdown",
   "id": "98a76efe",
   "metadata": {},
   "source": [
    "The \".2f\" in the code above, tells Python we want \"age\" to be formatted as a float (hence the f in .2f) with only 2 digits after the decimal point (hence the .2 in .2f)."
   ]
  },
  {
   "cell_type": "markdown",
   "id": "9fa35575",
   "metadata": {},
   "source": [
    "**WARNING**\n",
    "\n",
    "f-strings may execute any piece of Python code you supply inside curly brackets. Never include in an f-string a piece of input you obtain from a third party (say a response someone puts into a form somewhere on your website). If they provide malicious code as their input, you may end up inadvertently running that code on your computer.\n",
    "\n",
    "For example:"
   ]
  },
  {
   "cell_type": "code",
   "execution_count": 48,
   "id": "874ca6d1",
   "metadata": {},
   "outputs": [
    {
     "data": {
      "text/plain": [
       "'None'"
      ]
     },
     "execution_count": 48,
     "metadata": {},
     "output_type": "execute_result"
    }
   ],
   "source": [
    "f\"{__import__('os').remove('./TEST.txt')}\""
   ]
  },
  {
   "cell_type": "markdown",
   "id": "fe0a03b1",
   "metadata": {},
   "source": [
    "# Alternative Methods of Running Python code (OPTIONAL)"
   ]
  },
  {
   "cell_type": "markdown",
   "id": "12cedbcd",
   "metadata": {},
   "source": [
    "## Using Jupyter Notebook\n",
    "This is the method used in this course. You have to make sure that the code you want to run is in a \"code cell\" rather than a \"Markdown cell\". If you are not sure, you can convert a cell to a code cell by clicking on it, then pressing \"esc\" and then \"Y\" (or using the menu option, usually right below Navigate or Widgets).\n",
    "\n",
    "How to run it:\n",
    "- Press \"Shift + Enter\" (at the same time) or \"Ctrl + Enter\" to run the code in that cell."
   ]
  },
  {
   "cell_type": "markdown",
   "id": "a2d93732",
   "metadata": {},
   "source": [
    "## Using a REPL\n",
    "Not very useful when your program is large. It allows you to run code one instruction at a time, which is useful if you have some simple tasks that you want to quickly try out. However, if you want to execute hundreds of commands, executing them one at a time will not only be tedious, but also has the inconvenience that you can not save those commands so you can execute them at a later time.\n",
    "    \n",
    "How to run it:\n",
    "- Open a Anacond Prompt (or a terminal like PowerShell in Windows or Terminal in macOS and Bash in Linux)\n",
    "- Type \"python\"\n",
    "- Start typying your commands (you execute a command by pressing \"Enter\" after you type it)"
   ]
  },
  {
   "cell_type": "markdown",
   "id": "d5314026",
   "metadata": {},
   "source": [
    "## Running scripts in the terminal\n",
    "Involves writing your code in a text file (script) or multiple text files (saved with a \".py\" extension) and then running them from a terminal (e.g. PowerShell in Windows and Bash in Linux or macOS). Many programmers use a text editor like Virtual Studio Code or Sublime Text (or an IDE. see below) to help organize their project, get syntax highlighting and completion, etc.\n",
    "\n",
    "\n",
    "How to do it:\n",
    "- Write your code in a text file (using a text editor of your choice e.g. Notepad, TextEdit, gedit, SublimeText, VS Code)\n",
    "- Save the file with a \".py\" extension (let's call it \"XXX.py\" for this example). Note that, if you are using Notepad, when you save the file, you have to select \"All Files\" under the \"Save as type\" tab.\n",
    "- Open a Anaconda Prompt or any other terminal\n",
    "- Change directory to the folder where you saved your script, by typing \"cd\" followed by the path to that folder\n",
    "- Type \"python XXX.py\" and press \"Enter\"\n",
    "    "
   ]
  },
  {
   "cell_type": "markdown",
   "id": "f5f411d7",
   "metadata": {},
   "source": [
    "## Using an IDE\n",
    "Free, third-party software that integrates all the different parts of the Python programming process: code writing, code execution, data/results visualization, project organization etc. The Spyder IDE is most similar to the interfaces used by SAS, Stata, and Matlab but most of its funtionality is available in VS Code too.\n",
    "\n",
    "How to do it:\n",
    "- Every IDE will be different, but most of them have a \"Run\" button that will just run the current script for you (so you'll have to navigate to your script first). \n",
    "- Some IDEs will have a terminal embedded in them, in which case you can run your script in that terminal (using the python command followed by your script's path and filename). \n",
    "- Other IDEs, like Spyder, will have something called an \"IPython\" console embedded in them. In these cases, you can use that console to run scripts as well. Just type %run followed by your script's path and filename. "
   ]
  }
 ],
 "metadata": {
  "kernelspec": {
   "display_name": "Python 3",
   "language": "python",
   "name": "python3"
  },
  "language_info": {
   "codemirror_mode": {
    "name": "ipython",
    "version": 3
   },
   "file_extension": ".py",
   "mimetype": "text/x-python",
   "name": "python",
   "nbconvert_exporter": "python",
   "pygments_lexer": "ipython3",
   "version": "3.9.16"
  },
  "toc": {
   "base_numbering": 1,
   "nav_menu": {},
   "number_sections": true,
   "sideBar": true,
   "skip_h1_title": false,
   "title_cell": "Table of Contents",
   "title_sidebar": "Contents",
   "toc_cell": true,
   "toc_position": {},
   "toc_section_display": true,
   "toc_window_display": false
  },
  "vscode": {
   "interpreter": {
    "hash": "5c65ce2fea2f0c67157032582cff07b1c9d083b283061c8d8524588d6f489174"
   }
  }
 },
 "nbformat": 4,
 "nbformat_minor": 5
}
