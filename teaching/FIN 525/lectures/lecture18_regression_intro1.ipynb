{
 "cells": [
  {
   "cell_type": "markdown",
   "metadata": {
    "toc": true
   },
   "source": [
    "<h1>Table of Contents<span class=\"tocSkip\"></span></h1>\n",
    "<div class=\"toc\"><ul class=\"toc-item\"><li><span><a href=\"#Preliminaries\" data-toc-modified-id=\"Preliminaries-1\"><span class=\"toc-item-num\">1&nbsp;&nbsp;</span>Preliminaries</a></span></li><li><span><a href=\"#Linear-regression-basics\" data-toc-modified-id=\"Linear-regression-basics-2\"><span class=\"toc-item-num\">2&nbsp;&nbsp;</span>Linear regression basics</a></span><ul class=\"toc-item\"><li><span><a href=\"#A1.-Linearity\" data-toc-modified-id=\"A1.-Linearity-2.1\"><span class=\"toc-item-num\">2.1&nbsp;&nbsp;</span>A1. Linearity</a></span></li><li><span><a href=\"#A2.-Mean-independence\" data-toc-modified-id=\"A2.-Mean-independence-2.2\"><span class=\"toc-item-num\">2.2&nbsp;&nbsp;</span>A2. Mean independence</a></span></li><li><span><a href=\"#A3.-Homoskedastic-and-uncorrelated-disturbances\" data-toc-modified-id=\"A3.-Homoskedastic-and-uncorrelated-disturbances-2.3\"><span class=\"toc-item-num\">2.3&nbsp;&nbsp;</span>A3. Homoskedastic and uncorrelated disturbances</a></span></li><li><span><a href=\"#A4.-Full-rank\" data-toc-modified-id=\"A4.-Full-rank-2.4\"><span class=\"toc-item-num\">2.4&nbsp;&nbsp;</span>A4. Full rank</a></span></li></ul></li><li><span><a href=\"#Regression-fitting:-ordinary-least-squares-(OLS)\" data-toc-modified-id=\"Regression-fitting:-ordinary-least-squares-(OLS)-3\"><span class=\"toc-item-num\">3&nbsp;&nbsp;</span>Regression fitting: ordinary least squares (OLS)</a></span><ul class=\"toc-item\"><li><span><a href=\"#Example-1:-estimating-a-stock's-alpha-and-beta-using-the-market-model\" data-toc-modified-id=\"Example-1:-estimating-a-stock's-alpha-and-beta-using-the-market-model-3.1\"><span class=\"toc-item-num\">3.1&nbsp;&nbsp;</span>Example 1: estimating a stock's alpha and beta using the market model</a></span></li><li><span><a href=\"#Example-2:-estimating-a-stock's-alpha-and-beta(s)-using-the-Fama-French-three-factor-model\" data-toc-modified-id=\"Example-2:-estimating-a-stock's-alpha-and-beta(s)-using-the-Fama-French-three-factor-model-3.2\"><span class=\"toc-item-num\">3.2&nbsp;&nbsp;</span>Example 2: estimating a stock's alpha and beta(s) using the Fama-French three-factor model</a></span></li></ul></li><li><span><a href=\"#Interpreting-regression-results\" data-toc-modified-id=\"Interpreting-regression-results-4\"><span class=\"toc-item-num\">4&nbsp;&nbsp;</span>Interpreting regression results</a></span><ul class=\"toc-item\"><li><span><a href=\"#Coefficients\" data-toc-modified-id=\"Coefficients-4.1\"><span class=\"toc-item-num\">4.1&nbsp;&nbsp;</span>Coefficients</a></span></li><li><span><a href=\"#Statistical-significance\" data-toc-modified-id=\"Statistical-significance-4.2\"><span class=\"toc-item-num\">4.2&nbsp;&nbsp;</span>Statistical significance</a></span></li><li><span><a href=\"#The-R-squared-coefficient\" data-toc-modified-id=\"The-R-squared-coefficient-4.3\"><span class=\"toc-item-num\">4.3&nbsp;&nbsp;</span>The R-squared coefficient</a></span></li><li><span><a href=\"#Diagnostics-(bottom-of-the-table):\" data-toc-modified-id=\"Diagnostics-(bottom-of-the-table):-4.4\"><span class=\"toc-item-num\">4.4&nbsp;&nbsp;</span>Diagnostics (bottom of the table):</a></span></li></ul></li></ul></div>"
   ]
  },
  {
   "cell_type": "markdown",
   "metadata": {},
   "source": [
    "# Preliminaries\n"
   ]
  },
  {
   "cell_type": "code",
   "execution_count": 27,
   "metadata": {},
   "outputs": [],
   "source": [
    "# Import packages\n",
    "import pandas as pd\n",
    "import yfinance as yf\n",
    "import pandas_datareader as pdr"
   ]
  },
  {
   "cell_type": "markdown",
   "metadata": {},
   "source": [
    "Load Fama-French factor data:"
   ]
  },
  {
   "cell_type": "code",
   "execution_count": 28,
   "metadata": {},
   "outputs": [
    {
     "data": {
      "text/html": [
       "<div>\n",
       "<style scoped>\n",
       "    .dataframe tbody tr th:only-of-type {\n",
       "        vertical-align: middle;\n",
       "    }\n",
       "\n",
       "    .dataframe tbody tr th {\n",
       "        vertical-align: top;\n",
       "    }\n",
       "\n",
       "    .dataframe thead th {\n",
       "        text-align: right;\n",
       "    }\n",
       "</style>\n",
       "<table border=\"1\" class=\"dataframe\">\n",
       "  <thead>\n",
       "    <tr style=\"text-align: right;\">\n",
       "      <th></th>\n",
       "      <th>Mkt-RF</th>\n",
       "      <th>SMB</th>\n",
       "      <th>HML</th>\n",
       "      <th>RF</th>\n",
       "    </tr>\n",
       "    <tr>\n",
       "      <th>Date</th>\n",
       "      <th></th>\n",
       "      <th></th>\n",
       "      <th></th>\n",
       "      <th></th>\n",
       "    </tr>\n",
       "  </thead>\n",
       "  <tbody>\n",
       "    <tr>\n",
       "      <th>2012-01</th>\n",
       "      <td>0.0505</td>\n",
       "      <td>0.0203</td>\n",
       "      <td>-0.0097</td>\n",
       "      <td>0.0</td>\n",
       "    </tr>\n",
       "    <tr>\n",
       "      <th>2012-02</th>\n",
       "      <td>0.0442</td>\n",
       "      <td>-0.0185</td>\n",
       "      <td>0.0043</td>\n",
       "      <td>0.0</td>\n",
       "    </tr>\n",
       "  </tbody>\n",
       "</table>\n",
       "</div>"
      ],
      "text/plain": [
       "         Mkt-RF     SMB     HML   RF\n",
       "Date                                \n",
       "2012-01  0.0505  0.0203 -0.0097  0.0\n",
       "2012-02  0.0442 -0.0185  0.0043  0.0"
      ]
     },
     "execution_count": 28,
     "metadata": {},
     "output_type": "execute_result"
    }
   ],
   "source": [
    "ff3f = pdr.DataReader('F-F_Research_Data_Factors', 'famafrench', '2012-01-01')[0]/100\n",
    "ff3f.head(2)"
   ]
  },
  {
   "cell_type": "markdown",
   "metadata": {},
   "source": [
    "Download monthly prices (keep only Adjusted Close prices):"
   ]
  },
  {
   "cell_type": "code",
   "execution_count": 29,
   "metadata": {},
   "outputs": [
    {
     "name": "stdout",
     "output_type": "stream",
     "text": [
      "[*********************100%***********************]  1 of 1 completed\n"
     ]
    },
    {
     "data": {
      "text/html": [
       "<div>\n",
       "<style scoped>\n",
       "    .dataframe tbody tr th:only-of-type {\n",
       "        vertical-align: middle;\n",
       "    }\n",
       "\n",
       "    .dataframe tbody tr th {\n",
       "        vertical-align: top;\n",
       "    }\n",
       "\n",
       "    .dataframe thead th {\n",
       "        text-align: right;\n",
       "    }\n",
       "</style>\n",
       "<table border=\"1\" class=\"dataframe\">\n",
       "  <thead>\n",
       "    <tr style=\"text-align: right;\">\n",
       "      <th></th>\n",
       "      <th>Adj Close</th>\n",
       "    </tr>\n",
       "    <tr>\n",
       "      <th>Date</th>\n",
       "      <th></th>\n",
       "    </tr>\n",
       "  </thead>\n",
       "  <tbody>\n",
       "    <tr>\n",
       "      <th>2012-12-01</th>\n",
       "      <td>2.258000</td>\n",
       "    </tr>\n",
       "    <tr>\n",
       "      <th>2013-01-01</th>\n",
       "      <td>2.500667</td>\n",
       "    </tr>\n",
       "  </tbody>\n",
       "</table>\n",
       "</div>"
      ],
      "text/plain": [
       "            Adj Close\n",
       "Date                 \n",
       "2012-12-01   2.258000\n",
       "2013-01-01   2.500667"
      ]
     },
     "execution_count": 29,
     "metadata": {},
     "output_type": "execute_result"
    }
   ],
   "source": [
    "firm_prices = yf.download('TSLA', '2012-12-01', '2020-12-31', interval = '1mo')['Adj Close'].dropna().to_frame()\n",
    "firm_prices.head(2)"
   ]
  },
  {
   "cell_type": "markdown",
   "metadata": {},
   "source": [
    "Calculate monthly returns, drop missing and rename \"Adj Close\" to \"TSLA\":"
   ]
  },
  {
   "cell_type": "code",
   "execution_count": 30,
   "metadata": {},
   "outputs": [
    {
     "data": {
      "text/html": [
       "<div>\n",
       "<style scoped>\n",
       "    .dataframe tbody tr th:only-of-type {\n",
       "        vertical-align: middle;\n",
       "    }\n",
       "\n",
       "    .dataframe tbody tr th {\n",
       "        vertical-align: top;\n",
       "    }\n",
       "\n",
       "    .dataframe thead th {\n",
       "        text-align: right;\n",
       "    }\n",
       "</style>\n",
       "<table border=\"1\" class=\"dataframe\">\n",
       "  <thead>\n",
       "    <tr style=\"text-align: right;\">\n",
       "      <th></th>\n",
       "      <th>TSLA</th>\n",
       "    </tr>\n",
       "    <tr>\n",
       "      <th>Date</th>\n",
       "      <th></th>\n",
       "    </tr>\n",
       "  </thead>\n",
       "  <tbody>\n",
       "    <tr>\n",
       "      <th>2013-01-01</th>\n",
       "      <td>0.107470</td>\n",
       "    </tr>\n",
       "    <tr>\n",
       "      <th>2013-02-01</th>\n",
       "      <td>-0.071448</td>\n",
       "    </tr>\n",
       "  </tbody>\n",
       "</table>\n",
       "</div>"
      ],
      "text/plain": [
       "                TSLA\n",
       "Date                \n",
       "2013-01-01  0.107470\n",
       "2013-02-01 -0.071448"
      ]
     },
     "execution_count": 30,
     "metadata": {},
     "output_type": "execute_result"
    }
   ],
   "source": [
    "firm_ret = firm_prices.pct_change().dropna().rename(columns = {'Adj Close': 'TSLA'})\n",
    "firm_ret.head(2)"
   ]
  },
  {
   "cell_type": "markdown",
   "metadata": {},
   "source": [
    "We need to merge ``firm_ret`` with ``ff3f`` but note that their dates look different. Check their format first:"
   ]
  },
  {
   "cell_type": "code",
   "execution_count": 31,
   "metadata": {},
   "outputs": [
    {
     "data": {
      "text/plain": [
       "dtype('<M8[ns]')"
      ]
     },
     "execution_count": 31,
     "metadata": {},
     "output_type": "execute_result"
    }
   ],
   "source": [
    "firm_ret.index.dtype"
   ]
  },
  {
   "cell_type": "code",
   "execution_count": 32,
   "metadata": {},
   "outputs": [
    {
     "data": {
      "text/plain": [
       "period[M]"
      ]
     },
     "execution_count": 32,
     "metadata": {},
     "output_type": "execute_result"
    }
   ],
   "source": [
    "ff3f.index.dtype"
   ]
  },
  {
   "cell_type": "markdown",
   "metadata": {},
   "source": [
    "Convert index of ``firm_ret`` to monthly period, to match the date format un ``ff3f``:"
   ]
  },
  {
   "cell_type": "code",
   "execution_count": 33,
   "metadata": {},
   "outputs": [
    {
     "data": {
      "text/html": [
       "<div>\n",
       "<style scoped>\n",
       "    .dataframe tbody tr th:only-of-type {\n",
       "        vertical-align: middle;\n",
       "    }\n",
       "\n",
       "    .dataframe tbody tr th {\n",
       "        vertical-align: top;\n",
       "    }\n",
       "\n",
       "    .dataframe thead th {\n",
       "        text-align: right;\n",
       "    }\n",
       "</style>\n",
       "<table border=\"1\" class=\"dataframe\">\n",
       "  <thead>\n",
       "    <tr style=\"text-align: right;\">\n",
       "      <th></th>\n",
       "      <th>TSLA</th>\n",
       "    </tr>\n",
       "    <tr>\n",
       "      <th>Date</th>\n",
       "      <th></th>\n",
       "    </tr>\n",
       "  </thead>\n",
       "  <tbody>\n",
       "    <tr>\n",
       "      <th>2013-01</th>\n",
       "      <td>0.107470</td>\n",
       "    </tr>\n",
       "    <tr>\n",
       "      <th>2013-02</th>\n",
       "      <td>-0.071448</td>\n",
       "    </tr>\n",
       "  </tbody>\n",
       "</table>\n",
       "</div>"
      ],
      "text/plain": [
       "             TSLA\n",
       "Date             \n",
       "2013-01  0.107470\n",
       "2013-02 -0.071448"
      ]
     },
     "execution_count": 33,
     "metadata": {},
     "output_type": "execute_result"
    }
   ],
   "source": [
    "firm_ret.index = firm_ret.index.to_period('M')\n",
    "firm_ret.head(2)"
   ]
  },
  {
   "cell_type": "markdown",
   "metadata": {},
   "source": [
    "Merge the two datasets:"
   ]
  },
  {
   "cell_type": "code",
   "execution_count": 34,
   "metadata": {},
   "outputs": [
    {
     "data": {
      "text/html": [
       "<div>\n",
       "<style scoped>\n",
       "    .dataframe tbody tr th:only-of-type {\n",
       "        vertical-align: middle;\n",
       "    }\n",
       "\n",
       "    .dataframe tbody tr th {\n",
       "        vertical-align: top;\n",
       "    }\n",
       "\n",
       "    .dataframe thead th {\n",
       "        text-align: right;\n",
       "    }\n",
       "</style>\n",
       "<table border=\"1\" class=\"dataframe\">\n",
       "  <thead>\n",
       "    <tr style=\"text-align: right;\">\n",
       "      <th></th>\n",
       "      <th>TSLA</th>\n",
       "      <th>Mkt-RF</th>\n",
       "      <th>SMB</th>\n",
       "      <th>HML</th>\n",
       "      <th>RF</th>\n",
       "    </tr>\n",
       "    <tr>\n",
       "      <th>Date</th>\n",
       "      <th></th>\n",
       "      <th></th>\n",
       "      <th></th>\n",
       "      <th></th>\n",
       "      <th></th>\n",
       "    </tr>\n",
       "  </thead>\n",
       "  <tbody>\n",
       "    <tr>\n",
       "      <th>2013-01</th>\n",
       "      <td>0.107470</td>\n",
       "      <td>0.0557</td>\n",
       "      <td>0.0033</td>\n",
       "      <td>0.0096</td>\n",
       "      <td>0.0</td>\n",
       "    </tr>\n",
       "    <tr>\n",
       "      <th>2013-02</th>\n",
       "      <td>-0.071448</td>\n",
       "      <td>0.0129</td>\n",
       "      <td>-0.0028</td>\n",
       "      <td>0.0011</td>\n",
       "      <td>0.0</td>\n",
       "    </tr>\n",
       "  </tbody>\n",
       "</table>\n",
       "</div>"
      ],
      "text/plain": [
       "             TSLA  Mkt-RF     SMB     HML   RF\n",
       "Date                                          \n",
       "2013-01  0.107470  0.0557  0.0033  0.0096  0.0\n",
       "2013-02 -0.071448  0.0129 -0.0028  0.0011  0.0"
      ]
     },
     "execution_count": 34,
     "metadata": {},
     "output_type": "execute_result"
    }
   ],
   "source": [
    "data = firm_ret.join(ff3f)\n",
    "data.head(2)"
   ]
  },
  {
   "cell_type": "code",
   "execution_count": 35,
   "metadata": {},
   "outputs": [
    {
     "data": {
      "text/html": [
       "<div>\n",
       "<style scoped>\n",
       "    .dataframe tbody tr th:only-of-type {\n",
       "        vertical-align: middle;\n",
       "    }\n",
       "\n",
       "    .dataframe tbody tr th {\n",
       "        vertical-align: top;\n",
       "    }\n",
       "\n",
       "    .dataframe thead th {\n",
       "        text-align: right;\n",
       "    }\n",
       "</style>\n",
       "<table border=\"1\" class=\"dataframe\">\n",
       "  <thead>\n",
       "    <tr style=\"text-align: right;\">\n",
       "      <th></th>\n",
       "      <th>TSLA</th>\n",
       "      <th>Mkt-RF</th>\n",
       "      <th>SMB</th>\n",
       "      <th>HML</th>\n",
       "      <th>RF</th>\n",
       "      <th>const</th>\n",
       "    </tr>\n",
       "    <tr>\n",
       "      <th>Date</th>\n",
       "      <th></th>\n",
       "      <th></th>\n",
       "      <th></th>\n",
       "      <th></th>\n",
       "      <th></th>\n",
       "      <th></th>\n",
       "    </tr>\n",
       "  </thead>\n",
       "  <tbody>\n",
       "    <tr>\n",
       "      <th>2013-01</th>\n",
       "      <td>0.107470</td>\n",
       "      <td>0.0557</td>\n",
       "      <td>0.0033</td>\n",
       "      <td>0.0096</td>\n",
       "      <td>0.0000</td>\n",
       "      <td>1</td>\n",
       "    </tr>\n",
       "    <tr>\n",
       "      <th>2013-02</th>\n",
       "      <td>-0.071448</td>\n",
       "      <td>0.0129</td>\n",
       "      <td>-0.0028</td>\n",
       "      <td>0.0011</td>\n",
       "      <td>0.0000</td>\n",
       "      <td>1</td>\n",
       "    </tr>\n",
       "    <tr>\n",
       "      <th>2013-03</th>\n",
       "      <td>0.087855</td>\n",
       "      <td>0.0403</td>\n",
       "      <td>0.0081</td>\n",
       "      <td>-0.0019</td>\n",
       "      <td>0.0000</td>\n",
       "      <td>1</td>\n",
       "    </tr>\n",
       "    <tr>\n",
       "      <th>2013-04</th>\n",
       "      <td>0.424914</td>\n",
       "      <td>0.0155</td>\n",
       "      <td>-0.0236</td>\n",
       "      <td>0.0045</td>\n",
       "      <td>0.0000</td>\n",
       "      <td>1</td>\n",
       "    </tr>\n",
       "    <tr>\n",
       "      <th>2013-05</th>\n",
       "      <td>0.810706</td>\n",
       "      <td>0.0280</td>\n",
       "      <td>0.0173</td>\n",
       "      <td>0.0263</td>\n",
       "      <td>0.0000</td>\n",
       "      <td>1</td>\n",
       "    </tr>\n",
       "    <tr>\n",
       "      <th>...</th>\n",
       "      <td>...</td>\n",
       "      <td>...</td>\n",
       "      <td>...</td>\n",
       "      <td>...</td>\n",
       "      <td>...</td>\n",
       "      <td>...</td>\n",
       "    </tr>\n",
       "    <tr>\n",
       "      <th>2020-08</th>\n",
       "      <td>0.741452</td>\n",
       "      <td>0.0763</td>\n",
       "      <td>-0.0022</td>\n",
       "      <td>-0.0296</td>\n",
       "      <td>0.0001</td>\n",
       "      <td>1</td>\n",
       "    </tr>\n",
       "    <tr>\n",
       "      <th>2020-09</th>\n",
       "      <td>-0.139087</td>\n",
       "      <td>-0.0363</td>\n",
       "      <td>0.0004</td>\n",
       "      <td>-0.0268</td>\n",
       "      <td>0.0001</td>\n",
       "      <td>1</td>\n",
       "    </tr>\n",
       "    <tr>\n",
       "      <th>2020-10</th>\n",
       "      <td>-0.095499</td>\n",
       "      <td>-0.0210</td>\n",
       "      <td>0.0437</td>\n",
       "      <td>0.0422</td>\n",
       "      <td>0.0001</td>\n",
       "      <td>1</td>\n",
       "    </tr>\n",
       "    <tr>\n",
       "      <th>2020-11</th>\n",
       "      <td>0.462736</td>\n",
       "      <td>0.1247</td>\n",
       "      <td>0.0581</td>\n",
       "      <td>0.0213</td>\n",
       "      <td>0.0001</td>\n",
       "      <td>1</td>\n",
       "    </tr>\n",
       "    <tr>\n",
       "      <th>2020-12</th>\n",
       "      <td>0.243252</td>\n",
       "      <td>0.0463</td>\n",
       "      <td>0.0489</td>\n",
       "      <td>-0.0150</td>\n",
       "      <td>0.0001</td>\n",
       "      <td>1</td>\n",
       "    </tr>\n",
       "  </tbody>\n",
       "</table>\n",
       "<p>96 rows × 6 columns</p>\n",
       "</div>"
      ],
      "text/plain": [
       "             TSLA  Mkt-RF     SMB     HML      RF  const\n",
       "Date                                                    \n",
       "2013-01  0.107470  0.0557  0.0033  0.0096  0.0000      1\n",
       "2013-02 -0.071448  0.0129 -0.0028  0.0011  0.0000      1\n",
       "2013-03  0.087855  0.0403  0.0081 -0.0019  0.0000      1\n",
       "2013-04  0.424914  0.0155 -0.0236  0.0045  0.0000      1\n",
       "2013-05  0.810706  0.0280  0.0173  0.0263  0.0000      1\n",
       "...           ...     ...     ...     ...     ...    ...\n",
       "2020-08  0.741452  0.0763 -0.0022 -0.0296  0.0001      1\n",
       "2020-09 -0.139087 -0.0363  0.0004 -0.0268  0.0001      1\n",
       "2020-10 -0.095499 -0.0210  0.0437  0.0422  0.0001      1\n",
       "2020-11  0.462736  0.1247  0.0581  0.0213  0.0001      1\n",
       "2020-12  0.243252  0.0463  0.0489 -0.0150  0.0001      1\n",
       "\n",
       "[96 rows x 6 columns]"
      ]
     },
     "execution_count": 35,
     "metadata": {},
     "output_type": "execute_result"
    }
   ],
   "source": [
    "data['const'] = 1\n",
    "data"
   ]
  },
  {
   "cell_type": "markdown",
   "metadata": {},
   "source": [
    "# Linear regression basics\n",
    "\n",
    "A linear regression is a statistical model, which means it is a set of assumptions about the relation between two or more variables. In particular, the standard linear regression assumptions are (we restrict ourselves to two variables X and Y for now):"
   ]
  },
  {
   "cell_type": "markdown",
   "metadata": {},
   "source": [
    "## A1. Linearity \n",
    "\n",
    "The relation between the variables is assumed to be linear in parameters:\n",
    "\n",
    "$$Y_t = \\alpha + \\beta \\cdot X_t + \\epsilon_t $$\n",
    "\n",
    "Note that \"linear in parameters\" means the function that describes the relation between X and Y (the equation above) is linear with respect to $\\alpha$ and $\\beta$ (e.g. $Y = \\alpha \\cdot X^{\\beta} + \\epsilon$ is not linear in parameters). It does not mean that the relation needs to be linear with respect to X (e.g. $Y = \\alpha + \\beta \\cdot X^2 + \\epsilon$ is still linear in parameters).\n",
    "\n",
    "Before we cover the remaining assumptions, a bit of terminology:\n",
    "\n",
    "\n",
    "- Y is commonly referred to as the \"dependent\", or \"explained\" or \"endogenous\" variable\n",
    "\n",
    "\n",
    "- X is commonly referred to as the \"independent\", or \"explanatory\", or \"exogenous\" variable (though, remember, that X can stand for more than one variables)\n",
    "\n",
    "\n",
    "- $\\epsilon$ is commonly referred to as the \"residual\" of the regression, or the \"error\" term, or the \"disturbance\" term\n",
    "\n",
    "\n",
    "- $\\alpha$ (alpha) and $\\beta$ (beta) are the \"coefficients\" or \"parameters\" of the regression. **The outcome of \"running a regression\" is to calculate estimates for these alpha and beta coefficients.** \n",
    "\n",
    "\n",
    "- the t subscript is meant to represent the fact that we observe multiple realizations of the X and Y variables, and the linear relation is assumed to hold for each set of realizations (different t's can represent different points in time, or different firms, different countries, etc). Going forward in this section, we will assume that t stands for time, to make the interpretation clearer."
   ]
  },
  {
   "cell_type": "markdown",
   "metadata": {},
   "source": [
    "## A2. Mean independence\n",
    "\n",
    "This assumption states that the independent variable(s) X convey no information about the disturbance terms ($\\epsilon$'s). Technically, we write this assumption as:\n",
    "\n",
    "$$E[\\epsilon_t | X] = 0$$\n",
    "\n",
    "This is also called the \"strict exogeneity\" assumption. When this condition is not satisfied, we say that our regression model has an **endogeneity problem**.\n"
   ]
  },
  {
   "attachments": {},
   "cell_type": "markdown",
   "metadata": {},
   "source": [
    "## A3. Homoskedastic and uncorrelated disturbances\n",
    "\n",
    "This assumption states that all disturbance terms have the same variance (i.e. they are \"homoskedastic\"): \n",
    "\n",
    "$$ Var[\\epsilon_t | X] = \\sigma^2                 \\text{  , for all observations $t$} $$\n",
    "\n",
    "When this assumption is not satisfied, we say we have a **heteroskedasticity problem**.\n",
    "\n",
    "The standard linear regression model also assumes that any two disturbance terms are uncorrelated with each other:\n",
    "\n",
    "$$ Cov [\\epsilon_{t_1}, \\epsilon_{t_2}] = 0 \\text{ , for all $t_1 \\neq t_2$}$$ \n",
    "\n"
   ]
  },
  {
   "cell_type": "markdown",
   "metadata": {},
   "source": [
    "## A4. Full rank\n",
    "\n",
    "This assumption states that there are no exact linear relationships between the explanatory variables X (when there are two or more such variables). When this assumption is not satisfied, we say we have a **multicollinearity problem**. "
   ]
  },
  {
   "cell_type": "markdown",
   "metadata": {},
   "source": [
    "In the next few lectures, we will cover strategies that we can use when some of the above assumptions are not satisfied."
   ]
  },
  {
   "cell_type": "markdown",
   "metadata": {},
   "source": [
    "# Regression fitting: ordinary least squares (OLS) \n",
    "\n",
    "By far the most common method for estimating linear regression coefficients is by minimizing the sum of the squares of the error terms (hence \"least squares\"). \n",
    "\n",
    "The package we will use for linear regression fitting is called \"**statsmodels**\". Install this package by typing the following in a terminal (or Anaconda Prompt):\n",
    "\n",
    "**pip install statsmodels**\n",
    "\n",
    "In fact, for the most part, we will only use the \"api\" subpackage of \"statsmodels\" as below. Here is the official documentation for the package if you want to learn more about it:\n",
    "\n",
    "https://www.statsmodels.org/stable/index.html"
   ]
  },
  {
   "cell_type": "code",
   "execution_count": 36,
   "metadata": {},
   "outputs": [],
   "source": [
    "import statsmodels.api as sm"
   ]
  },
  {
   "cell_type": "markdown",
   "metadata": {},
   "source": [
    "As mentioned above, we will estimate our regression coefficients using OLS (ordinary least squares). This can be done with the ``OLS`` function of ``statsmodels``:\n",
    "\n",
    "Syntax:\n",
    "```python\n",
    "class statsmodels.regression.linear_model.OLS(endog, exog=None, missing='none', hasconst=None, **kwargs)\n",
    "```\n",
    "\n",
    "When we use this function, we can replace ``statsmodels.regression.lineal_model`` with ``sm`` (as imported above).\n",
    "The ``endog`` parameter is where we specify where the data for our dependent variable is, and the ``exog`` parameter is where we specify where our independent variables are. We usually set ``missing=True`` to tell Python that we want to get rid of all the rows in our regression data that have any missing values."
   ]
  },
  {
   "cell_type": "markdown",
   "metadata": {},
   "source": [
    "## Example 1: estimating a stock's alpha and beta using the market model\n",
    "\n",
    "The market model (aka the \"single-factor model\" or the \"single-index model\") is a linear regression model that relates the excess return on a stock to the excess returns on the market portfolio: \n",
    "\n",
    "$$R_{i,t} - R_{f,t} = \\alpha_i + \\beta_i (R_{m,t} - R_{f,t}) + \\epsilon_{i,t}$$\n",
    "\n",
    "where:\n",
    "- $R_{i,t}$ is the return of firm $i$ at time $t$\n",
    "- $R_{m,t}$ is the return of the market at time $t$ (we generally use the S&P500 index as the market portfolio)\n",
    "- $R_{f,t}$ is the risk-free rate at time $t$ (most commonly the yield on the 1-month Tbill)\n",
    "\n",
    "Below, we estimate this model for TSLA, using the data we gathered at the top of these lecture notes:"
   ]
  },
  {
   "cell_type": "markdown",
   "metadata": {},
   "source": [
    "To \"run\" (i.e. \"fit\" or \"estimate\") the regression, we use the ``.fit()`` function which can be applied after the ``sm.OLS()`` function. We store results in \"res\":"
   ]
  },
  {
   "cell_type": "code",
   "execution_count": 37,
   "metadata": {},
   "outputs": [
    {
     "data": {
      "text/plain": [
       "<statsmodels.regression.linear_model.RegressionResultsWrapper at 0x7fb7bb37f310>"
      ]
     },
     "execution_count": 37,
     "metadata": {},
     "output_type": "execute_result"
    }
   ],
   "source": [
    "res = sm.OLS(endog = data['TSLA']-data['RF'], \n",
    "             exog = data[['const','Mkt-RF']], \n",
    "             missing='drop'\n",
    "            ).fit()\n",
    "res"
   ]
  },
  {
   "cell_type": "markdown",
   "metadata": {},
   "source": [
    "The above shows that ``res`` is a \"RegressionResultsWrapper\". We have not seen this kind of an object before. Check all the attributes of the results (``res``) object:"
   ]
  },
  {
   "cell_type": "code",
   "execution_count": 38,
   "metadata": {},
   "outputs": [
    {
     "name": "stdout",
     "output_type": "stream",
     "text": [
      "['HC0_se', 'HC1_se', 'HC2_se', 'HC3_se', '_HCCM', '__class__', '__delattr__', '__dict__', '__dir__', '__doc__', '__eq__', '__format__', '__ge__', '__getattribute__', '__gt__', '__hash__', '__init__', '__init_subclass__', '__le__', '__lt__', '__module__', '__ne__', '__new__', '__reduce__', '__reduce_ex__', '__repr__', '__setattr__', '__sizeof__', '__str__', '__subclasshook__', '__weakref__', '_abat_diagonal', '_cache', '_data_attr', '_data_in_cache', '_get_robustcov_results', '_is_nested', '_use_t', '_wexog_singular_values', 'aic', 'bic', 'bse', 'centered_tss', 'compare_f_test', 'compare_lm_test', 'compare_lr_test', 'condition_number', 'conf_int', 'conf_int_el', 'cov_HC0', 'cov_HC1', 'cov_HC2', 'cov_HC3', 'cov_kwds', 'cov_params', 'cov_type', 'df_model', 'df_resid', 'eigenvals', 'el_test', 'ess', 'f_pvalue', 'f_test', 'fittedvalues', 'fvalue', 'get_influence', 'get_prediction', 'get_robustcov_results', 'info_criteria', 'initialize', 'k_constant', 'llf', 'load', 'model', 'mse_model', 'mse_resid', 'mse_total', 'nobs', 'normalized_cov_params', 'outlier_test', 'params', 'predict', 'pvalues', 'remove_data', 'resid', 'resid_pearson', 'rsquared', 'rsquared_adj', 'save', 'scale', 'ssr', 'summary', 'summary2', 't_test', 't_test_pairwise', 'tvalues', 'uncentered_tss', 'use_t', 'wald_test', 'wald_test_terms', 'wresid']\n"
     ]
    }
   ],
   "source": [
    "print(dir(res))"
   ]
  },
  {
   "cell_type": "markdown",
   "metadata": {},
   "source": [
    "Particularly important results are stored in ``summary()``, ``params``, ``pvalues``, ``tvalues``, ``rsquared``. We'll cover all of these below. As the name suggests, the ``summary()`` attribute contains a summary of the regression results:"
   ]
  },
  {
   "cell_type": "code",
   "execution_count": 39,
   "metadata": {},
   "outputs": [
    {
     "name": "stdout",
     "output_type": "stream",
     "text": [
      "                            OLS Regression Results                            \n",
      "==============================================================================\n",
      "Dep. Variable:                      y   R-squared:                       0.155\n",
      "Model:                            OLS   Adj. R-squared:                  0.146\n",
      "Method:                 Least Squares   F-statistic:                     17.26\n",
      "Date:                Wed, 22 Mar 2023   Prob (F-statistic):           7.18e-05\n",
      "Time:                        07:32:31   Log-Likelihood:                 30.144\n",
      "No. Observations:                  96   AIC:                            -56.29\n",
      "Df Residuals:                      94   BIC:                            -51.16\n",
      "Df Model:                           1                                         \n",
      "Covariance Type:            nonrobust                                         \n",
      "==============================================================================\n",
      "                 coef    std err          t      P>|t|      [0.025      0.975]\n",
      "------------------------------------------------------------------------------\n",
      "const          0.0416      0.019      2.186      0.031       0.004       0.079\n",
      "Mkt-RF         1.8297      0.440      4.154      0.000       0.955       2.704\n",
      "==============================================================================\n",
      "Omnibus:                       29.750   Durbin-Watson:                   1.561\n",
      "Prob(Omnibus):                  0.000   Jarque-Bera (JB):               56.488\n",
      "Skew:                           1.227   Prob(JB):                     5.42e-13\n",
      "Kurtosis:                       5.846   Cond. No.                         24.2\n",
      "==============================================================================\n",
      "\n",
      "Notes:\n",
      "[1] Standard Errors assume that the covariance matrix of the errors is correctly specified.\n"
     ]
    }
   ],
   "source": [
    "print(res.summary())"
   ]
  },
  {
   "cell_type": "markdown",
   "metadata": {},
   "source": [
    "## Example 2: estimating a stock's alpha and beta(s) using the Fama-French three-factor model\n",
    "\n",
    "The Fama-French three factor model is a linear regression model that relates the excess return on a stock to the excess returns on the market portfolio and the returns on the SMB (small minus big) and HML (high minus low book-to-market) factors: \n",
    "\n",
    "$$R_{i,t} - R_{f,t} = \\alpha_i + \\beta_{i,m} (R_{m,t} - R_{f,t}) + \\beta_{i,smb}  R_{smb} + \\beta_{i,hml} R_{hml} + \\epsilon_{i,t}$$\n",
    "\n",
    "**Challenge**:\n",
    "\n",
    "Estimate this regression for TSLA using the data we gathered at the top of these lecture notes."
   ]
  },
  {
   "cell_type": "code",
   "execution_count": 40,
   "metadata": {},
   "outputs": [
    {
     "name": "stdout",
     "output_type": "stream",
     "text": [
      "                            OLS Regression Results                            \n",
      "==============================================================================\n",
      "Dep. Variable:                      y   R-squared:                       0.164\n",
      "Model:                            OLS   Adj. R-squared:                  0.137\n",
      "Method:                 Least Squares   F-statistic:                     6.036\n",
      "Date:                Wed, 22 Mar 2023   Prob (F-statistic):           0.000847\n",
      "Time:                        07:32:31   Log-Likelihood:                 30.677\n",
      "No. Observations:                  96   AIC:                            -53.35\n",
      "Df Residuals:                      92   BIC:                            -43.10\n",
      "Df Model:                           3                                         \n",
      "Covariance Type:            nonrobust                                         \n",
      "==============================================================================\n",
      "                 coef    std err          t      P>|t|      [0.025      0.975]\n",
      "------------------------------------------------------------------------------\n",
      "const          0.0371      0.020      1.872      0.064      -0.002       0.076\n",
      "Mkt-RF         1.8810      0.480      3.915      0.000       0.927       2.835\n",
      "SMB            0.1931      0.794      0.243      0.808      -1.384       1.770\n",
      "HML           -0.6717      0.667     -1.007      0.317      -1.997       0.653\n",
      "==============================================================================\n",
      "Omnibus:                       31.346   Durbin-Watson:                   1.587\n",
      "Prob(Omnibus):                  0.000   Jarque-Bera (JB):               62.467\n",
      "Skew:                           1.268   Prob(JB):                     2.73e-14\n",
      "Kurtosis:                       6.030   Cond. No.                         45.0\n",
      "==============================================================================\n",
      "\n",
      "Notes:\n",
      "[1] Standard Errors assume that the covariance matrix of the errors is correctly specified.\n"
     ]
    }
   ],
   "source": [
    "# Run the regression and print the results\n",
    "res3 = sm.OLS(endog = data['TSLA']-data['RF'], \n",
    "             exog = data[['const','Mkt-RF','SMB','HML']], \n",
    "             missing='drop'\n",
    "            ).fit()\n",
    "res3\n",
    "print(res3.summary())"
   ]
  },
  {
   "cell_type": "markdown",
   "metadata": {},
   "source": [
    "# Interpreting regression results"
   ]
  },
  {
   "cell_type": "markdown",
   "metadata": {},
   "source": [
    "## Coefficients\n",
    "\n",
    "The \"const\" row contains information about the firm's $\\alpha$ and the \"Mkt-RF\" row contains information about the firm's $\\beta$. The $\\alpha$ and $\\beta$ coefficient estimates themselves are in the \"coef\" column ($\\alpha = 0.0416$, and $\\beta = 1.83$ in the single-factor model).\n",
    "\n",
    "The \"const\" coefficient tells us what we should expect the return on TSLA to be on a day with no systematic shocks (i.e. a day with market return of 0).\n",
    "\n",
    "The 'Mkt-RF' coefficient tells us how we should expect the return on TSLA to react to a given shock to the market portfolio (e.g. the 1.83 coefficient tells us that, on average, if the market goes up by 1%, TSLA goes up by 1.83%, and when the market goes down by 1%, TSLA goes down by 1.83%)"
   ]
  },
  {
   "cell_type": "markdown",
   "metadata": {},
   "source": [
    "The results object (``res``) stores the regression coefficients in its ``params`` attribute:"
   ]
  },
  {
   "cell_type": "code",
   "execution_count": 41,
   "metadata": {},
   "outputs": [
    {
     "data": {
      "text/plain": [
       "const     0.041642\n",
       "Mkt-RF    1.829738\n",
       "dtype: float64"
      ]
     },
     "execution_count": 41,
     "metadata": {},
     "output_type": "execute_result"
    }
   ],
   "source": [
    "res.params"
   ]
  },
  {
   "cell_type": "markdown",
   "metadata": {},
   "source": [
    "Note that ``res.params`` is a Pandas Series, so we can access its individual elements using the index labels:"
   ]
  },
  {
   "cell_type": "code",
   "execution_count": 42,
   "metadata": {},
   "outputs": [
    {
     "name": "stdout",
     "output_type": "stream",
     "text": [
      "Alpha =  0.041642456171143115\n",
      "Market Beta =  1.8297380496913744\n"
     ]
    }
   ],
   "source": [
    "print('Alpha = ', res.params['const'])\n",
    "print('Market Beta = ', res.params['Mkt-RF'])"
   ]
  },
  {
   "cell_type": "markdown",
   "metadata": {},
   "source": [
    "**Challenge**: \n",
    "\n",
    "Print out (separately) the alpha and each of the betas from the three-factor model"
   ]
  },
  {
   "cell_type": "code",
   "execution_count": 43,
   "metadata": {},
   "outputs": [
    {
     "name": "stdout",
     "output_type": "stream",
     "text": [
      "three-factor alpha: 0.037089953287553816\n",
      "three-factor market beta: 1.881000087482544\n",
      "SMB beta: 0.19308158602997738\n",
      "HML beta: -0.6717493189696122\n"
     ]
    }
   ],
   "source": [
    "print(\"three-factor alpha:\", res3.params['const'])\n",
    "print(\"three-factor market beta:\", res3.params['Mkt-RF'])\n",
    "print(\"SMB beta:\", res3.params['SMB'])\n",
    "print(\"HML beta:\", res3.params['HML'])"
   ]
  },
  {
   "cell_type": "markdown",
   "metadata": {},
   "source": [
    "## Statistical significance\n",
    "\n",
    "**The p-values** are in the \"P > |t|\" column. P-values lower than 0.05 allow us to conclude that the corresponding coefficient is statistically different from 0 at the 95% confidence level (i.e. reject the null hypothesis that the coefficient is 0). At the 99% confidence level, we would need the p-value to be smaller than 1% (1 minus the confidence level) to reject the null hypothesis that alpha = 0.\n",
    "\n",
    "**The t-statistics** for the two coefficients are in the \"t\" column. Loosely speaking a t-statistic that larger than 2 or smaller than -2 allows us to conclude that the corresponding coefficient is statistically different from 0 at the 95% confidence level (i.e. reject the null hypothesis that the coefficient is 0). In terms of statistical significance, the t-statistic does not provide any new information over the p-value.\n",
    "\n",
    "The last two columns give us the 95% confidence interval for each coefficient.\n",
    "\n",
    "For the market model, TSLA's alpha has a p-value of 0.031 so we can conclude that it's alpha is statistically significantly different from 0 at the 95% confidence level (but not at the 99% confidence level).\n",
    "\n",
    "The fact that the alpha is positive and statistically different from 0 (at 95% level) means that, based on the single-factor model, TSLA seems to be **undervalued**. A negative alpha would mean the stock in **overvalued**.\n",
    "\n",
    "If we can not reject the null hypothesis that alpha is 0, the conclusion is NOT that alpha = 0 and therefore the stock is correctly valued (since we can never \"accept\" a null hypothesis, we can only fail to reject). The conclusion is that we do not have enough evidence to claim that the stock is either undervalued or overvalued (which is not the same thing as saying that we have enough evidence to claim that the stock is correctly valued)."
   ]
  },
  {
   "cell_type": "markdown",
   "metadata": {},
   "source": [
    "The results object (``res``) stores the regression p-values in its ``pvalues`` attribute:"
   ]
  },
  {
   "cell_type": "code",
   "execution_count": 44,
   "metadata": {},
   "outputs": [
    {
     "data": {
      "text/plain": [
       "const     0.031312\n",
       "Mkt-RF    0.000072\n",
       "dtype: float64"
      ]
     },
     "execution_count": 44,
     "metadata": {},
     "output_type": "execute_result"
    }
   ],
   "source": [
    "res.pvalues"
   ]
  },
  {
   "cell_type": "markdown",
   "metadata": {},
   "source": [
    "The p-values can be accessed individually:"
   ]
  },
  {
   "cell_type": "code",
   "execution_count": 45,
   "metadata": {},
   "outputs": [
    {
     "name": "stdout",
     "output_type": "stream",
     "text": [
      "Alpha p-value =  0.031311923663591416\n",
      "Beta p-value =  7.182372372221883e-05\n"
     ]
    }
   ],
   "source": [
    "print(\"Alpha p-value = \", res.pvalues['const'])\n",
    "print(\"Beta p-value = \", res.pvalues['Mkt-RF'])"
   ]
  },
  {
   "cell_type": "markdown",
   "metadata": {},
   "source": [
    "T-statistics are stored in the ``tvalues`` attribute:"
   ]
  },
  {
   "cell_type": "code",
   "execution_count": 46,
   "metadata": {},
   "outputs": [
    {
     "data": {
      "text/plain": [
       "const     2.185832\n",
       "Mkt-RF    4.154374\n",
       "dtype: float64"
      ]
     },
     "execution_count": 46,
     "metadata": {},
     "output_type": "execute_result"
    }
   ],
   "source": [
    "res.tvalues"
   ]
  },
  {
   "cell_type": "markdown",
   "metadata": {},
   "source": [
    "T-statistics of individual coefficients:"
   ]
  },
  {
   "cell_type": "code",
   "execution_count": 47,
   "metadata": {},
   "outputs": [
    {
     "name": "stdout",
     "output_type": "stream",
     "text": [
      "Alpha t-stat =  2.1858319462947398\n",
      "Beta t-stat =  4.154374466130978\n"
     ]
    }
   ],
   "source": [
    "print(\"Alpha t-stat = \", res.tvalues['const'])\n",
    "print(\"Beta t-stat = \", res.tvalues['Mkt-RF'])"
   ]
  },
  {
   "cell_type": "markdown",
   "metadata": {},
   "source": [
    "**Challenge**: \n",
    "\n",
    "Is TSLA mispriced (undervalued OR overvalued) at the 5% significance level with respect to the Fama-French 3-factor model?"
   ]
  },
  {
   "cell_type": "code",
   "execution_count": 48,
   "metadata": {},
   "outputs": [
    {
     "name": "stdout",
     "output_type": "stream",
     "text": [
      "TSLA mispriced? \n",
      " False\n"
     ]
    }
   ],
   "source": [
    "print(\"TSLA mispriced? \\n\", res3.pvalues['const'] < 0.05)"
   ]
  },
  {
   "cell_type": "markdown",
   "metadata": {},
   "source": [
    "**Challenge**: \n",
    "\n",
    "Does TSLA have a significant exposure (at 5% level) to either of the 3 factors in the Fama-French model?"
   ]
  },
  {
   "cell_type": "code",
   "execution_count": 49,
   "metadata": {},
   "outputs": [
    {
     "name": "stdout",
     "output_type": "stream",
     "text": [
      "Significant market exposure?\n",
      " True\n",
      "Significant exposure to SMB?\n",
      " False\n",
      "Significant exposure to HML?\n",
      " False\n"
     ]
    }
   ],
   "source": [
    "print('Significant market exposure?\\n', res3.pvalues['Mkt-RF'] < 0.05)\n",
    "print('Significant exposure to SMB?\\n', res3.pvalues['SMB'] < 0.05)\n",
    "print('Significant exposure to HML?\\n', res3.pvalues['HML'] < 0.05)"
   ]
  },
  {
   "cell_type": "markdown",
   "metadata": {},
   "source": [
    "## The R-squared coefficient \n",
    "\n",
    "The R-squared coefficient (top-right of the table, also referred to as the \"coefficient of determination\") estimates the percentage of the total variance in the dependent variable (Y) that can be explained by the variance in the explanatory variable(s) (X). \n",
    "\n",
    "In the context of our market-model example, the R-squared tells us the percentage of the firm's total variance that is systematic in nature (i.e. non-diversifiable). The percentage of total variance that is idiosyncratic (diversifiable) equals 1 minus the R-squared."
   ]
  },
  {
   "cell_type": "markdown",
   "metadata": {},
   "source": [
    "The R-squared is stored in the ``rsquared`` attribute of the regression results object:"
   ]
  },
  {
   "cell_type": "code",
   "execution_count": 50,
   "metadata": {},
   "outputs": [
    {
     "data": {
      "text/plain": [
       "0.1551232170825012"
      ]
     },
     "execution_count": 50,
     "metadata": {},
     "output_type": "execute_result"
    }
   ],
   "source": [
    "res.rsquared"
   ]
  },
  {
   "cell_type": "markdown",
   "metadata": {},
   "source": [
    "Using the market model, our estimates of the percentage or total TSLA variance that is systematic vs idiosyncratic are:"
   ]
  },
  {
   "cell_type": "code",
   "execution_count": 51,
   "metadata": {},
   "outputs": [
    {
     "name": "stdout",
     "output_type": "stream",
     "text": [
      "Percent of total variance that is systematic:  0.1551232170825012\n",
      "Percent of total variance that is idiosyncratic:  0.8448767829174988\n"
     ]
    }
   ],
   "source": [
    "print(\"Percent of total variance that is systematic: \", res.rsquared)\n",
    "print(\"Percent of total variance that is idiosyncratic: \", 1 - res.rsquared)"
   ]
  },
  {
   "cell_type": "markdown",
   "metadata": {},
   "source": [
    "**Challenge**: \n",
    "\n",
    "What percentage of TSLA total variance can be diversified away under the Fama-French 3-factor model?"
   ]
  },
  {
   "cell_type": "code",
   "execution_count": 52,
   "metadata": {},
   "outputs": [
    {
     "name": "stdout",
     "output_type": "stream",
     "text": [
      "Percent of total variance that is systematic:  0.16445635788368973\n",
      "Percent of total variance that is idiosyncratic:  0.8355436421163103\n"
     ]
    }
   ],
   "source": [
    "print(\"Percent of total variance that is systematic: \", res3.rsquared)\n",
    "print(\"Percent of total variance that is idiosyncratic: \", 1 - res3.rsquared)"
   ]
  },
  {
   "cell_type": "markdown",
   "metadata": {},
   "source": [
    "## Diagnostics (bottom of the table):\n",
    "\n",
    "The regression table reports (at the bottom) a few statistics that help us understand if some of the assumption of the linear regression model are not satisfied.\n",
    "\n",
    "- Durbin-Watson: tests for residual autocorrelation. Takes values in [0,4]. Below 2 means positive autocorr. Above 2 means negative aoutocorr. A value of 2 is perfect (means no autocorrelation).\n",
    "\n",
    "\n",
    "- Omnibus: tests normality of residuals. Prob(Omnibus) close to 0 means reject normality\n",
    "\n",
    "\n",
    "- JB: another normality test (null is skew=0, kurt=3). Prob(JB) close to 0 means rejection of normality\n",
    "\n",
    "\n",
    "- Cond. No: tests for multicollinearity. Over 100 is worrisome, but we still have to look at correlations between variables to determine if any of them need to be dropped."
   ]
  }
 ],
 "metadata": {
  "kernelspec": {
   "display_name": "Python 3 (ipykernel)",
   "language": "python",
   "name": "python3"
  },
  "language_info": {
   "codemirror_mode": {
    "name": "ipython",
    "version": 3
   },
   "file_extension": ".py",
   "mimetype": "text/x-python",
   "name": "python",
   "nbconvert_exporter": "python",
   "pygments_lexer": "ipython3",
   "version": "3.9.12"
  },
  "toc": {
   "base_numbering": 1,
   "nav_menu": {},
   "number_sections": true,
   "sideBar": true,
   "skip_h1_title": false,
   "title_cell": "Table of Contents",
   "title_sidebar": "Contents",
   "toc_cell": true,
   "toc_position": {},
   "toc_section_display": true,
   "toc_window_display": false
  }
 },
 "nbformat": 4,
 "nbformat_minor": 4
}
