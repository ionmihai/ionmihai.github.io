{
 "cells": [
  {
   "cell_type": "markdown",
   "metadata": {
    "toc": true
   },
   "source": [
    "<h1>Table of Contents<span class=\"tocSkip\"></span></h1>\n",
    "<div class=\"toc\"><ul class=\"toc-item\"><li><span><a href=\"#Lecture-overview\" data-toc-modified-id=\"Lecture-overview-1\"><span class=\"toc-item-num\">1&nbsp;&nbsp;</span>Lecture overview</a></span></li><li><span><a href=\"#Preliminaries\" data-toc-modified-id=\"Preliminaries-2\"><span class=\"toc-item-num\">2&nbsp;&nbsp;</span>Preliminaries</a></span></li><li><span><a href=\"#Endogeneity\" data-toc-modified-id=\"Endogeneity-3\"><span class=\"toc-item-num\">3&nbsp;&nbsp;</span>Endogeneity</a></span><ul class=\"toc-item\"><li><span><a href=\"#Firm-fixed-effects\" data-toc-modified-id=\"Firm-fixed-effects-3.1\"><span class=\"toc-item-num\">3.1&nbsp;&nbsp;</span>Firm fixed effects</a></span></li><li><span><a href=\"#Time-fixed-effects\" data-toc-modified-id=\"Time-fixed-effects-3.2\"><span class=\"toc-item-num\">3.2&nbsp;&nbsp;</span>Time fixed effects</a></span></li><li><span><a href=\"#Both-time-and-year-fixed-effects:\" data-toc-modified-id=\"Both-time-and-year-fixed-effects:-3.3\"><span class=\"toc-item-num\">3.3&nbsp;&nbsp;</span>Both time and year fixed effects:</a></span></li><li><span><a href=\"#Sector-fixed-effects\" data-toc-modified-id=\"Sector-fixed-effects-3.4\"><span class=\"toc-item-num\">3.4&nbsp;&nbsp;</span>Sector fixed effects</a></span></li></ul></li><li><span><a href=\"#Heteroskedasticity-and-correlated-errors\" data-toc-modified-id=\"Heteroskedasticity-and-correlated-errors-4\"><span class=\"toc-item-num\">4&nbsp;&nbsp;</span>Heteroskedasticity and correlated errors</a></span><ul class=\"toc-item\"><li><span><a href=\"#White-standard-errors\" data-toc-modified-id=\"White-standard-errors-4.1\"><span class=\"toc-item-num\">4.1&nbsp;&nbsp;</span>White standard errors</a></span></li><li><span><a href=\"#Clustering-standard-errors-at-the-firm-level\" data-toc-modified-id=\"Clustering-standard-errors-at-the-firm-level-4.2\"><span class=\"toc-item-num\">4.2&nbsp;&nbsp;</span>Clustering standard errors at the firm level</a></span></li><li><span><a href=\"#Clustering-standard-errors-at-the-year-level\" data-toc-modified-id=\"Clustering-standard-errors-at-the-year-level-4.3\"><span class=\"toc-item-num\">4.3&nbsp;&nbsp;</span>Clustering standard errors at the year level</a></span></li><li><span><a href=\"#Cluster-at-both-the-firm-and-year-level\" data-toc-modified-id=\"Cluster-at-both-the-firm-and-year-level-4.4\"><span class=\"toc-item-num\">4.4&nbsp;&nbsp;</span>Cluster at both the firm and year level</a></span></li><li><span><a href=\"#Clustering-standard-errors-at-the-sector-level\" data-toc-modified-id=\"Clustering-standard-errors-at-the-sector-level-4.5\"><span class=\"toc-item-num\">4.5&nbsp;&nbsp;</span>Clustering standard errors at the sector level</a></span></li></ul></li></ul></div>"
   ]
  },
  {
   "cell_type": "markdown",
   "metadata": {},
   "source": [
    "# Lecture overview\n",
    "\n",
    "Remember from last lecture that we are using the following empirical question to showcase the statistical tools needed to run robust regression analysis: \n",
    "\n",
    "**Which of the following firm characteristics (if any) have statistically significant predictive power over firms' profitability: the firm's cash holdings, its book leverage or its capital investments?**\n",
    "\n",
    "In the previous lecture, we collected the data we needed for this analysis, produced some summary statistics and ran a basic linear regression where firm future profitability is the dependent variable, and firm cash holdings, book leverage, and investment are the explanatory variables. In this lecture, we continue this analysis by tackling two very common issues with linear regression analysis:\n",
    "\n",
    "1. The potential presence of \"fixed-effects\" in the data\n",
    "2. The issue of correlated error terms in the regression"
   ]
  },
  {
   "cell_type": "markdown",
   "metadata": {},
   "source": [
    "The ``statsmodels`` package we used for the introductory regression materials does not implement some of the tools we will discuss in this lecture. So in these lecture notes, we will be using the ``linearmodels`` package, which can be installed by typing:\n",
    "\n",
    "```pip install linearmodels```\n",
    "\n",
    "in a Terminal or Anaconda Prompt. Once you install the package, import the ``PanelOLS`` subpackage as below:"
   ]
  },
  {
   "cell_type": "markdown",
   "metadata": {},
   "source": [
    "# Preliminaries"
   ]
  },
  {
   "cell_type": "code",
   "execution_count": 1,
   "metadata": {},
   "outputs": [],
   "source": [
    "# Import packages\n",
    "import pandas as pd\n",
    "import numpy as np\n",
    "import matplotlib.pyplot as plt\n",
    "import statsmodels.api as sm\n",
    "from linearmodels import PanelOLS"
   ]
  },
  {
   "cell_type": "code",
   "execution_count": 2,
   "metadata": {},
   "outputs": [
    {
     "data": {
      "text/plain": [
       "permno          float64\n",
       "datadate         object\n",
       "ib              float64\n",
       "at              float64\n",
       "che             float64\n",
       "dltt            float64\n",
       "ppent           float64\n",
       "sich            float64\n",
       "year              int64\n",
       "roa             float64\n",
       "future_roa      float64\n",
       "cash            float64\n",
       "leverage        float64\n",
       "investment      float64\n",
       "w_future_roa    float64\n",
       "w_cash          float64\n",
       "w_leverage      float64\n",
       "w_investment    float64\n",
       "const             int64\n",
       "dtype: object"
      ]
     },
     "execution_count": 2,
     "metadata": {},
     "output_type": "execute_result"
    }
   ],
   "source": [
    "# Load data from last time\n",
    "raw = pd.read_pickle('../data/comp_clean.zip')\n",
    "raw.dtypes"
   ]
  },
  {
   "cell_type": "code",
   "execution_count": 3,
   "metadata": {},
   "outputs": [],
   "source": [
    "# Make lists of variable names for convenience\n",
    "yvar = 'w_future_roa'\n",
    "xvars = ['const','w_cash', 'w_leverage','w_investment'] \n",
    "main_vars = [yvar] + xvars"
   ]
  },
  {
   "cell_type": "code",
   "execution_count": 4,
   "metadata": {},
   "outputs": [
    {
     "data": {
      "text/html": [
       "<div>\n",
       "<style scoped>\n",
       "    .dataframe tbody tr th:only-of-type {\n",
       "        vertical-align: middle;\n",
       "    }\n",
       "\n",
       "    .dataframe tbody tr th {\n",
       "        vertical-align: top;\n",
       "    }\n",
       "\n",
       "    .dataframe thead th {\n",
       "        text-align: right;\n",
       "    }\n",
       "</style>\n",
       "<table border=\"1\" class=\"dataframe\">\n",
       "  <thead>\n",
       "    <tr style=\"text-align: right;\">\n",
       "      <th></th>\n",
       "      <th></th>\n",
       "      <th>sich</th>\n",
       "      <th>w_future_roa</th>\n",
       "      <th>const</th>\n",
       "      <th>w_cash</th>\n",
       "      <th>w_leverage</th>\n",
       "      <th>w_investment</th>\n",
       "    </tr>\n",
       "    <tr>\n",
       "      <th>permno</th>\n",
       "      <th>year</th>\n",
       "      <th></th>\n",
       "      <th></th>\n",
       "      <th></th>\n",
       "      <th></th>\n",
       "      <th></th>\n",
       "      <th></th>\n",
       "    </tr>\n",
       "  </thead>\n",
       "  <tbody>\n",
       "    <tr>\n",
       "      <th>10000.0</th>\n",
       "      <th>1986</th>\n",
       "      <td>NaN</td>\n",
       "      <td>NaN</td>\n",
       "      <td>1</td>\n",
       "      <td>0.164539</td>\n",
       "      <td>0.027423</td>\n",
       "      <td>NaN</td>\n",
       "    </tr>\n",
       "    <tr>\n",
       "      <th rowspan=\"4\" valign=\"top\">10001.0</th>\n",
       "      <th>1986</th>\n",
       "      <td>NaN</td>\n",
       "      <td>0.026506</td>\n",
       "      <td>1</td>\n",
       "      <td>0.060938</td>\n",
       "      <td>0.240647</td>\n",
       "      <td>NaN</td>\n",
       "    </tr>\n",
       "    <tr>\n",
       "      <th>1987</th>\n",
       "      <td>4924.0</td>\n",
       "      <td>0.046187</td>\n",
       "      <td>1</td>\n",
       "      <td>0.061932</td>\n",
       "      <td>0.233625</td>\n",
       "      <td>-0.000170</td>\n",
       "    </tr>\n",
       "    <tr>\n",
       "      <th>1988</th>\n",
       "      <td>4924.0</td>\n",
       "      <td>0.065069</td>\n",
       "      <td>1</td>\n",
       "      <td>0.063400</td>\n",
       "      <td>0.217725</td>\n",
       "      <td>-0.019599</td>\n",
       "    </tr>\n",
       "    <tr>\n",
       "      <th>1989</th>\n",
       "      <td>4924.0</td>\n",
       "      <td>0.059901</td>\n",
       "      <td>1</td>\n",
       "      <td>0.063399</td>\n",
       "      <td>0.396984</td>\n",
       "      <td>0.332669</td>\n",
       "    </tr>\n",
       "    <tr>\n",
       "      <th>...</th>\n",
       "      <th>...</th>\n",
       "      <td>...</td>\n",
       "      <td>...</td>\n",
       "      <td>...</td>\n",
       "      <td>...</td>\n",
       "      <td>...</td>\n",
       "      <td>...</td>\n",
       "    </tr>\n",
       "    <tr>\n",
       "      <th rowspan=\"5\" valign=\"top\">93436.0</th>\n",
       "      <th>2016</th>\n",
       "      <td>3711.0</td>\n",
       "      <td>-0.068448</td>\n",
       "      <td>1</td>\n",
       "      <td>0.154374</td>\n",
       "      <td>0.267113</td>\n",
       "      <td>0.361891</td>\n",
       "    </tr>\n",
       "    <tr>\n",
       "      <th>2017</th>\n",
       "      <td>3711.0</td>\n",
       "      <td>-0.032821</td>\n",
       "      <td>1</td>\n",
       "      <td>0.122952</td>\n",
       "      <td>0.331046</td>\n",
       "      <td>0.190355</td>\n",
       "    </tr>\n",
       "    <tr>\n",
       "      <th>2018</th>\n",
       "      <td>3711.0</td>\n",
       "      <td>-0.025125</td>\n",
       "      <td>1</td>\n",
       "      <td>0.130404</td>\n",
       "      <td>0.317894</td>\n",
       "      <td>-0.026913</td>\n",
       "    </tr>\n",
       "    <tr>\n",
       "      <th>2019</th>\n",
       "      <td>3711.0</td>\n",
       "      <td>0.013826</td>\n",
       "      <td>1</td>\n",
       "      <td>0.189863</td>\n",
       "      <td>0.368038</td>\n",
       "      <td>0.014800</td>\n",
       "    </tr>\n",
       "    <tr>\n",
       "      <th>2020</th>\n",
       "      <td>3711.0</td>\n",
       "      <td>NaN</td>\n",
       "      <td>1</td>\n",
       "      <td>0.376275</td>\n",
       "      <td>0.208790</td>\n",
       "      <td>0.060904</td>\n",
       "    </tr>\n",
       "  </tbody>\n",
       "</table>\n",
       "<p>237017 rows × 6 columns</p>\n",
       "</div>"
      ],
      "text/plain": [
       "                sich  w_future_roa  const    w_cash  w_leverage  w_investment\n",
       "permno  year                                                                 \n",
       "10000.0 1986     NaN           NaN      1  0.164539    0.027423           NaN\n",
       "10001.0 1986     NaN      0.026506      1  0.060938    0.240647           NaN\n",
       "        1987  4924.0      0.046187      1  0.061932    0.233625     -0.000170\n",
       "        1988  4924.0      0.065069      1  0.063400    0.217725     -0.019599\n",
       "        1989  4924.0      0.059901      1  0.063399    0.396984      0.332669\n",
       "...              ...           ...    ...       ...         ...           ...\n",
       "93436.0 2016  3711.0     -0.068448      1  0.154374    0.267113      0.361891\n",
       "        2017  3711.0     -0.032821      1  0.122952    0.331046      0.190355\n",
       "        2018  3711.0     -0.025125      1  0.130404    0.317894     -0.026913\n",
       "        2019  3711.0      0.013826      1  0.189863    0.368038      0.014800\n",
       "        2020  3711.0           NaN      1  0.376275    0.208790      0.060904\n",
       "\n",
       "[237017 rows x 6 columns]"
      ]
     },
     "execution_count": 4,
     "metadata": {},
     "output_type": "execute_result"
    }
   ],
   "source": [
    "# Keep only the data we need and set the index\n",
    "comp = raw[['permno','year','sich'] + main_vars].copy()\n",
    "comp['const'] = 1\n",
    "comp = comp.set_index(['permno','year'])\n",
    "comp"
   ]
  },
  {
   "cell_type": "markdown",
   "metadata": {},
   "source": [
    "# Endogeneity\n",
    "\n",
    "We say that your regression may suffer from an endogeneity problem (or an endogeneity bias) if you suspect that the mean independence assumption (see assumption A2 in the regression intro lecture) is not satisfied, i.e. if you think that:\n",
    "\n",
    "$$E[\\epsilon_t | X] \\neq0$$\n",
    "\n",
    "There are many reasons why this issue might arise (look up \"omitted variable bias\", \"reverse causality bias\", and \"measurement error bias\" if you are interested in a deeper analysis). We will not go into each of these possible sources of endogeneity. Here, we only describe the two common ways to address endogeneity issues, and we implement only the latter."
   ]
  },
  {
   "cell_type": "markdown",
   "metadata": {},
   "source": [
    "- **Instrumental Variables (IV) estimation** \n",
    "    - The main idea behind this approach is to find, for every endogenous variable X, another variable Z (called an \"instrument\") which is correlated with X (aka the \"relevance\" condition), but does not affect the dependent variable in any way other than through its relation with X (aka the \"validity\" condition). The Z instrument is then used to extract the exogenous variation in X, which in turn is used in our main regression instead of X.\n",
    "    - This is a very general approach (it can be used regardless of what is causing the endogeneity issue) but it's a bit too advanced to cover in this course. I will simply mention that the \"linearmodels\" package we use in this lecture can also run IV estimation using the \"IV2SLS\" subpackage and I'll leave this for you to study at your own pace."
   ]
  },
  {
   "cell_type": "markdown",
   "metadata": {},
   "source": [
    "- **Fixed effects estimation**    \n",
    "    - This approach deals with the situation in which the endogeneity problem is caused by some unobservable, omitted variable, that is constant either in the cross section or over time\n",
    "        - Example 1: firm fixed effects\n",
    "            - It may be possible that the firm's ROA is also determined by management quality (which we can not measure easily). If high-quality managers, say, also like to hold a lot of cash, then the cash holdings variable in endogenous (in the equation above, cash holdings is part of X and management quality would be part of $\\epsilon$ since it affects ROA but is not part of our explanatory variables X). However, if management quality is relatively constant over time, we can control for its effects on ROA by demeaning the data at the firm level. This is what a firm fixed effects estimator does. \n",
    "        - Example 2: time fixed effects\n",
    "            - It may be the case that, in any given year, some macroeconomic shock affects both ROAs and, cash holdings for all firms (e.g. a recession will decrease ROAs and increase cash holdings almost across the board). If this is the case, then cash holdings is again endogenous. But if the macroeconomic shock is the (approximately) the same for all firms, then we can control for its effects (and fix our endogeneity problem) by demeaning the data at the year level. This is what a time fixed effect estimator does.\n",
    "    - Below, we show how control for both firm and year fixed effects in our example application\n",
    "        "
   ]
  },
  {
   "cell_type": "markdown",
   "metadata": {},
   "source": [
    "We will estimate fixed-effects regressions using the ``PanelOLS`` function that we imported above:\n",
    "\n",
    "Abbreviated syntax:\n",
    "```python\n",
    "PanelOLS(dependent, exog, ,entity_effects=False, time_effects=False, other_effects=None)\n",
    "```\n",
    "The first two arguments is where you tell the function what to use for the dependent variable and independent variables respectively. For firm fixed effects, you set ``entity_effects = True``, for time fixed-effects, you set ``time_effects = True`` and for fixed effects at any other level (e.g. industry), you have to specify the name of the variable that determines which observation is in what group (e.g. an industry identifier for industry fixed-effects). For ``entity_effects`` and ``time_effects``, PanelOLS assumes that the first dimension of the index contains the firm identifier, and the second dimension contains the time identifier (which is why we used ``set_index(['permno','year'])`` above)."
   ]
  },
  {
   "cell_type": "code",
   "execution_count": 5,
   "metadata": {},
   "outputs": [
    {
     "name": "stderr",
     "output_type": "stream",
     "text": [
      "C:\\Users\\ionmi\\anaconda3\\lib\\site-packages\\linearmodels\\panel\\data.py:98: FutureWarning: is_categorical is deprecated and will be removed in a future version.  Use is_categorical_dtype instead\n",
      "  if is_categorical(s):\n",
      "C:\\Users\\ionmi\\anaconda3\\lib\\site-packages\\linearmodels\\utility.py:549: MissingValueWarning: \n",
      "Inputs contain missing values. Dropping rows with missing observations.\n",
      "  warnings.warn(missing_value_warning_msg, MissingValueWarning)\n"
     ]
    },
    {
     "name": "stdout",
     "output_type": "stream",
     "text": [
      "                          PanelOLS Estimation Summary                           \n",
      "================================================================================\n",
      "Dep. Variable:           w_future_roa   R-squared:                        0.0955\n",
      "Estimator:                   PanelOLS   R-squared (Between):              0.1031\n",
      "No. Observations:              185315   R-squared (Within):              -0.0642\n",
      "Date:                Fri, Feb 25 2022   R-squared (Overall):              0.0955\n",
      "Time:                        14:36:53   Log-likelihood                    5498.7\n",
      "Cov. Estimator:            Unadjusted                                           \n",
      "                                        F-statistic:                      6524.2\n",
      "Entities:                       19139   P-value                           0.0000\n",
      "Avg Obs:                       9.6826   Distribution:                F(3,185311)\n",
      "Min Obs:                       1.0000                                           \n",
      "Max Obs:                       80.000   F-statistic (robust):             6524.2\n",
      "                                        P-value                           0.0000\n",
      "Time periods:                      41   Distribution:                F(3,185311)\n",
      "Avg Obs:                       4519.9                                           \n",
      "Min Obs:                       4.0000                                           \n",
      "Max Obs:                       6276.0                                           \n",
      "                                                                                \n",
      "                              Parameter Estimates                               \n",
      "================================================================================\n",
      "              Parameter  Std. Err.     T-stat    P-value    Lower CI    Upper CI\n",
      "--------------------------------------------------------------------------------\n",
      "const            0.0314     0.0010     32.312     0.0000      0.0295      0.0334\n",
      "w_cash          -0.3712     0.0028    -134.43     0.0000     -0.3766     -0.3658\n",
      "w_leverage      -0.0727     0.0030    -23.971     0.0000     -0.0787     -0.0668\n",
      "w_investment     0.1634     0.0064     25.736     0.0000      0.1510      0.1759\n",
      "================================================================================\n",
      "\n",
      "\n"
     ]
    }
   ],
   "source": [
    "# Run basic regression again, for comparison (ignore warning about missing values if you get one)\n",
    "results = PanelOLS(dependent = comp[yvar], \n",
    "                          exog = comp[xvars], \n",
    "                         ).fit();\n",
    "print(results.summary)"
   ]
  },
  {
   "cell_type": "markdown",
   "metadata": {},
   "source": [
    "You can check that the above results are the identical to the ones we obtained in the last lecture, using ``statsmodels.api.OLS``.\n",
    "The ``PanelOLS`` function also tells us that we have 19,139 different entities (firms) in our sample, and 41 different time periods (years)."
   ]
  },
  {
   "cell_type": "markdown",
   "metadata": {},
   "source": [
    "## Firm fixed effects"
   ]
  },
  {
   "cell_type": "code",
   "execution_count": 6,
   "metadata": {},
   "outputs": [
    {
     "name": "stdout",
     "output_type": "stream",
     "text": [
      "                          PanelOLS Estimation Summary                           \n",
      "================================================================================\n",
      "Dep. Variable:           w_future_roa   R-squared:                        0.0035\n",
      "Estimator:                   PanelOLS   R-squared (Between):             -0.0776\n",
      "No. Observations:              185315   R-squared (Within):               0.0035\n",
      "Date:                Fri, Feb 25 2022   R-squared (Overall):             -0.0129\n",
      "Time:                        14:36:53   Log-likelihood                 8.094e+04\n",
      "Cov. Estimator:            Unadjusted                                           \n",
      "                                        F-statistic:                      196.81\n",
      "Entities:                       19139   P-value                           0.0000\n",
      "Avg Obs:                       9.6826   Distribution:                F(3,166173)\n",
      "Min Obs:                       1.0000                                           \n",
      "Max Obs:                       80.000   F-statistic (robust):             196.81\n",
      "                                        P-value                           0.0000\n",
      "Time periods:                      41   Distribution:                F(3,166173)\n",
      "Avg Obs:                       4519.9                                           \n",
      "Min Obs:                       4.0000                                           \n",
      "Max Obs:                       6276.0                                           \n",
      "                                                                                \n",
      "                              Parameter Estimates                               \n",
      "================================================================================\n",
      "              Parameter  Std. Err.     T-stat    P-value    Lower CI    Upper CI\n",
      "--------------------------------------------------------------------------------\n",
      "const           -0.0357     0.0010    -34.112     0.0000     -0.0377     -0.0336\n",
      "w_cash           0.0208     0.0038     5.4863     0.0000      0.0134      0.0283\n",
      "w_leverage      -0.0557     0.0036    -15.452     0.0000     -0.0628     -0.0487\n",
      "w_investment     0.0862     0.0050     17.261     0.0000      0.0764      0.0960\n",
      "================================================================================\n",
      "\n",
      "F-test for Poolability: 10.917\n",
      "P-value: 0.0000\n",
      "Distribution: F(19138,166173)\n",
      "\n",
      "Included effects: Entity\n"
     ]
    }
   ],
   "source": [
    "results_firmfe = PanelOLS(dependent = comp[yvar], \n",
    "                          exog = comp[xvars], \n",
    "                          entity_effects = True\n",
    "                         ).fit();\n",
    "print(results_firmfe.summary)"
   ]
  },
  {
   "cell_type": "markdown",
   "metadata": {},
   "source": [
    "The P-value under ``F-test for Poolability`` is very low, which tells us that the firm fixed effects are jointly statistically significant in our regression (i.e. we should keep them in our regression).\n",
    "\n",
    "Note how the coefficients have changed now that we have included firm fixed effects in our regression. In particular, note that the coefficient on ``w_cash`` has changed sign."
   ]
  },
  {
   "cell_type": "markdown",
   "metadata": {},
   "source": [
    "## Time fixed effects"
   ]
  },
  {
   "cell_type": "code",
   "execution_count": 7,
   "metadata": {},
   "outputs": [
    {
     "name": "stdout",
     "output_type": "stream",
     "text": [
      "                          PanelOLS Estimation Summary                           \n",
      "================================================================================\n",
      "Dep. Variable:           w_future_roa   R-squared:                        0.0944\n",
      "Estimator:                   PanelOLS   R-squared (Between):              0.1033\n",
      "No. Observations:              185315   R-squared (Within):              -0.0645\n",
      "Date:                Fri, Feb 25 2022   R-squared (Overall):              0.0955\n",
      "Time:                        14:36:54   Log-likelihood                    6386.9\n",
      "Cov. Estimator:            Unadjusted                                           \n",
      "                                        F-statistic:                      6436.1\n",
      "Entities:                       19139   P-value                           0.0000\n",
      "Avg Obs:                       9.6826   Distribution:                F(3,185271)\n",
      "Min Obs:                       1.0000                                           \n",
      "Max Obs:                       80.000   F-statistic (robust):             6436.1\n",
      "                                        P-value                           0.0000\n",
      "Time periods:                      41   Distribution:                F(3,185271)\n",
      "Avg Obs:                       4519.9                                           \n",
      "Min Obs:                       4.0000                                           \n",
      "Max Obs:                       6276.0                                           \n",
      "                                                                                \n",
      "                              Parameter Estimates                               \n",
      "================================================================================\n",
      "              Parameter  Std. Err.     T-stat    P-value    Lower CI    Upper CI\n",
      "--------------------------------------------------------------------------------\n",
      "const            0.0308     0.0010     31.563     0.0000      0.0289      0.0327\n",
      "w_cash          -0.3710     0.0028    -133.37     0.0000     -0.3765     -0.3656\n",
      "w_leverage      -0.0694     0.0030    -22.855     0.0000     -0.0754     -0.0634\n",
      "w_investment     0.1677     0.0064     26.382     0.0000      0.1553      0.1802\n",
      "================================================================================\n",
      "\n",
      "F-test for Poolability: 44.613\n",
      "P-value: 0.0000\n",
      "Distribution: F(40,185271)\n",
      "\n",
      "Included effects: Time\n"
     ]
    }
   ],
   "source": [
    "results_timefe = PanelOLS(dependent = comp[yvar], \n",
    "                          exog = comp[xvars], \n",
    "                          time_effects = True\n",
    "                         ).fit();\n",
    "print(results_timefe.summary)"
   ]
  },
  {
   "cell_type": "markdown",
   "metadata": {},
   "source": [
    "Once again, the P-value for the ``F-test for Poolability`` is very small, which means we should also keep the time fixed effects in our regression. Combined with the previous result, this means we should be including both firm and time fixed effects, which is what we do below.\n",
    "\n",
    "Note also how the coefficient on ``w_cash`` has changed sign again."
   ]
  },
  {
   "cell_type": "markdown",
   "metadata": {},
   "source": [
    "## Both time and year fixed effects:"
   ]
  },
  {
   "cell_type": "code",
   "execution_count": 8,
   "metadata": {},
   "outputs": [
    {
     "name": "stdout",
     "output_type": "stream",
     "text": [
      "                          PanelOLS Estimation Summary                           \n",
      "================================================================================\n",
      "Dep. Variable:           w_future_roa   R-squared:                        0.0029\n",
      "Estimator:                   PanelOLS   R-squared (Between):             -0.0734\n",
      "No. Observations:              185315   R-squared (Within):               0.0035\n",
      "Date:                Fri, Feb 25 2022   R-squared (Overall):             -0.0097\n",
      "Time:                        14:36:55   Log-likelihood                 8.184e+04\n",
      "Cov. Estimator:            Unadjusted                                           \n",
      "                                        F-statistic:                      160.89\n",
      "Entities:                       19139   P-value                           0.0000\n",
      "Avg Obs:                       9.6826   Distribution:                F(3,166133)\n",
      "Min Obs:                       1.0000                                           \n",
      "Max Obs:                       80.000   F-statistic (robust):             160.89\n",
      "                                        P-value                           0.0000\n",
      "Time periods:                      41   Distribution:                F(3,166133)\n",
      "Avg Obs:                       4519.9                                           \n",
      "Min Obs:                       4.0000                                           \n",
      "Max Obs:                       6276.0                                           \n",
      "                                                                                \n",
      "                              Parameter Estimates                               \n",
      "================================================================================\n",
      "              Parameter  Std. Err.     T-stat    P-value    Lower CI    Upper CI\n",
      "--------------------------------------------------------------------------------\n",
      "const           -0.0358     0.0010    -34.326     0.0000     -0.0379     -0.0338\n",
      "w_cash           0.0162     0.0038     4.2602     0.0000      0.0087      0.0236\n",
      "w_leverage      -0.0499     0.0036    -13.775     0.0000     -0.0570     -0.0428\n",
      "w_investment     0.0813     0.0050     16.210     0.0000      0.0715      0.0912\n",
      "================================================================================\n",
      "\n",
      "F-test for Poolability: 11.083\n",
      "P-value: 0.0000\n",
      "Distribution: F(19178,166133)\n",
      "\n",
      "Included effects: Entity, Time\n"
     ]
    }
   ],
   "source": [
    "results_bothfe = PanelOLS(dependent = comp[yvar], \n",
    "                          exog = comp[xvars], \n",
    "                          entity_effects = True, time_effects = True,\n",
    "                         ).fit();\n",
    "print(results_bothfe.summary)"
   ]
  },
  {
   "cell_type": "markdown",
   "metadata": {},
   "source": [
    "In this final specification, it seems like cash holdings are positively associated with future profitability."
   ]
  },
  {
   "cell_type": "markdown",
   "metadata": {},
   "source": [
    "## Sector fixed effects"
   ]
  },
  {
   "cell_type": "code",
   "execution_count": 9,
   "metadata": {},
   "outputs": [
    {
     "data": {
      "text/plain": [
       "73    18965\n",
       "28    16678\n",
       "36    13361\n",
       "60    11046\n",
       "38    10881\n",
       "      ...  \n",
       "76       86\n",
       "81       34\n",
       "86       11\n",
       "90       11\n",
       "89        8\n",
       "Name: sic2d, Length: 69, dtype: Int64"
      ]
     },
     "execution_count": 9,
     "metadata": {},
     "output_type": "execute_result"
    }
   ],
   "source": [
    "comp['sic2d'] = comp['sich'].astype('string').str[0:2]\n",
    "comp['sic2d'].value_counts()"
   ]
  },
  {
   "cell_type": "markdown",
   "metadata": {},
   "source": [
    "Note that 'sic2d' contains missing values, which will give us an error if we try to use them as fixed-effects. So we get rid of all missing values in our regression data, and store this in a new dataframe first:"
   ]
  },
  {
   "cell_type": "code",
   "execution_count": 10,
   "metadata": {},
   "outputs": [],
   "source": [
    "df = comp[main_vars + ['sic2d']].dropna()"
   ]
  },
  {
   "cell_type": "markdown",
   "metadata": {},
   "source": [
    "Now we can run our industry fixed-effects regression:"
   ]
  },
  {
   "cell_type": "code",
   "execution_count": 11,
   "metadata": {},
   "outputs": [
    {
     "name": "stdout",
     "output_type": "stream",
     "text": [
      "                          PanelOLS Estimation Summary                           \n",
      "================================================================================\n",
      "Dep. Variable:           w_future_roa   R-squared:                        0.0571\n",
      "Estimator:                   PanelOLS   R-squared (Between):              0.0906\n",
      "No. Observations:              153676   R-squared (Within):              -0.0440\n",
      "Date:                Fri, Feb 25 2022   R-squared (Overall):              0.1012\n",
      "Time:                        14:36:56   Log-likelihood                    1745.7\n",
      "Cov. Estimator:            Unadjusted                                           \n",
      "                                        F-statistic:                      3102.9\n",
      "Entities:                       23812   P-value                           0.0000\n",
      "Avg Obs:                       6.4537   Distribution:                F(3,153604)\n",
      "Min Obs:                       0.0000                                           \n",
      "Max Obs:                       67.000   F-statistic (robust):             3102.9\n",
      "                                        P-value                           0.0000\n",
      "Time periods:                      41   Distribution:                F(3,153604)\n",
      "Avg Obs:                       3748.2                                           \n",
      "Min Obs:                       0.0000                                           \n",
      "Max Obs:                       5811.0                                           \n",
      "                                                                                \n",
      "                              Parameter Estimates                               \n",
      "================================================================================\n",
      "              Parameter  Std. Err.     T-stat    P-value    Lower CI    Upper CI\n",
      "--------------------------------------------------------------------------------\n",
      "const            0.0158     0.0012     13.445     0.0000      0.0135      0.0181\n",
      "w_cash          -0.3090     0.0034    -91.633     0.0000     -0.3156     -0.3024\n",
      "w_leverage      -0.0573     0.0036    -15.832     0.0000     -0.0644     -0.0502\n",
      "w_investment     0.1727     0.0074     23.452     0.0000      0.1583      0.1871\n",
      "================================================================================\n",
      "\n",
      "F-test for Poolability: 85.603\n",
      "P-value: 0.0000\n",
      "Distribution: F(68,153604)\n",
      "\n",
      "Included effects: Other Effect (sic2d)\n",
      "Model includes 5 other effects\n",
      "Other Effect Observations per group (sic2d):\n",
      "Avg Obs: 2227.2, Min Obs: 4.0000, Max Obs: 1.44e+04, Groups: 69\n"
     ]
    }
   ],
   "source": [
    "results_indfe = PanelOLS(dependent = df[yvar], \n",
    "                          exog = df[xvars], \n",
    "                          other_effects = df['sic2d']\n",
    "                         ).fit();\n",
    "print(results_indfe.summary)"
   ]
  },
  {
   "cell_type": "markdown",
   "metadata": {},
   "source": [
    "# Heteroskedasticity and correlated errors\n",
    "\n",
    "We say that our regression may have a heteroskedasticity problem if we believe not all the residual terms in the regression ($\\epsilon$'s) have the same variance, i.e. assumption A3 (see regression intro lecture) is not satisfied.\n",
    "As long as these error terms are not correlated with each other, then we can fix the heteroskedasticity problem by calculating \"White\" standard errors (as in the section below).\n",
    "\n",
    "However, if the believe the residual terms may be correlated with each other (which again violates assumption A3), to address this issue, we have to be more explicit about the dimension in which these correlations occur. The most common are:\n",
    "\n",
    "   - Residuals correlated within firm (i.e. the residuals of a single firm are correlated over time)\n",
    "        - We address this issue by specifying that our standard errors are \"clustered\" at the firm level        \n",
    "        \n",
    "   - Residuals correlated within time (i.e. the residuals of all firms are correlated within a year)\n",
    "        - We address this issue by specifying that our standard errors are clustered at the year level (or month level for monthly frequency data, etc.)"
   ]
  },
  {
   "cell_type": "markdown",
   "metadata": {},
   "source": [
    "To address the problems we highlighted above, we specify how we want our standard errors to be calculated by providing different parameters to the ``.fit()`` function:\n",
    "\n",
    "Abbreviated syntax:\n",
    "```python\n",
    "PanelOLS.fit(cov_type='unadjusted', debiased=True, auto_df=True, count_effects=True, **cov_config)\n",
    "```\n",
    "In articular, we will use ``cov_type = 'robust'`` if we are just worried about heteroskedasticity and we want \"White\" standard errors. We will use ``cov_type = 'clustered'`` if are worried about correlated residuals. In this case, we need to specify ``cluster_entity = True`` if we think residuals are autocorrelated within firm, and/or ``cluster_time = True`` if we thing residuals might be correlated within each time period. "
   ]
  },
  {
   "cell_type": "markdown",
   "metadata": {},
   "source": [
    "We will use the model with firm- and time- fixed effects for the rest of this lecture. So we will just specify the regression model below, and use this model over and over again, each time, specifying a different way to fix standard errors with the ``.fit()`` function. Note than none of these \"fixed\" will change the regression coefficients themselves. Only their statistical significance."
   ]
  },
  {
   "cell_type": "code",
   "execution_count": 12,
   "metadata": {},
   "outputs": [
    {
     "data": {
      "text/plain": [
       "PanelOLS \n",
       "Num exog: 4, Constant: True\n",
       "Entity Effects: True, Time Effects: True, Num Other Effects: 0\n",
       "id: 0x1f22fc75df0"
      ]
     },
     "execution_count": 12,
     "metadata": {},
     "output_type": "execute_result"
    }
   ],
   "source": [
    "model = PanelOLS(comp[yvar], comp[xvars], entity_effects = True, time_effects = True)\n",
    "model"
   ]
  },
  {
   "cell_type": "markdown",
   "metadata": {},
   "source": [
    "## White standard errors"
   ]
  },
  {
   "cell_type": "code",
   "execution_count": 13,
   "metadata": {},
   "outputs": [
    {
     "name": "stdout",
     "output_type": "stream",
     "text": [
      "                          PanelOLS Estimation Summary                           \n",
      "================================================================================\n",
      "Dep. Variable:           w_future_roa   R-squared:                        0.0029\n",
      "Estimator:                   PanelOLS   R-squared (Between):             -0.0734\n",
      "No. Observations:              185315   R-squared (Within):               0.0035\n",
      "Date:                Fri, Feb 25 2022   R-squared (Overall):             -0.0097\n",
      "Time:                        14:36:58   Log-likelihood                 8.184e+04\n",
      "Cov. Estimator:                Robust                                           \n",
      "                                        F-statistic:                      160.89\n",
      "Entities:                       19139   P-value                           0.0000\n",
      "Avg Obs:                       9.6826   Distribution:                F(3,166133)\n",
      "Min Obs:                       1.0000                                           \n",
      "Max Obs:                       80.000   F-statistic (robust):             73.502\n",
      "                                        P-value                           0.0000\n",
      "Time periods:                      41   Distribution:                F(3,166133)\n",
      "Avg Obs:                       4519.9                                           \n",
      "Min Obs:                       4.0000                                           \n",
      "Max Obs:                       6276.0                                           \n",
      "                                                                                \n",
      "                              Parameter Estimates                               \n",
      "================================================================================\n",
      "              Parameter  Std. Err.     T-stat    P-value    Lower CI    Upper CI\n",
      "--------------------------------------------------------------------------------\n",
      "const           -0.0358     0.0016    -22.864     0.0000     -0.0389     -0.0328\n",
      "w_cash           0.0162     0.0062     2.5922     0.0095      0.0039      0.0284\n",
      "w_leverage      -0.0499     0.0051    -9.7033     0.0000     -0.0599     -0.0398\n",
      "w_investment     0.0813     0.0074     11.032     0.0000      0.0669      0.0958\n",
      "================================================================================\n",
      "\n",
      "F-test for Poolability: 11.083\n",
      "P-value: 0.0000\n",
      "Distribution: F(19178,166133)\n",
      "\n",
      "Included effects: Entity, Time\n"
     ]
    }
   ],
   "source": [
    "results_white = model.fit(cov_type = 'robust');\n",
    "print(results_white.summary)"
   ]
  },
  {
   "cell_type": "markdown",
   "metadata": {},
   "source": [
    "## Clustering standard errors at the firm level"
   ]
  },
  {
   "cell_type": "code",
   "execution_count": 14,
   "metadata": {},
   "outputs": [
    {
     "name": "stdout",
     "output_type": "stream",
     "text": [
      "                          PanelOLS Estimation Summary                           \n",
      "================================================================================\n",
      "Dep. Variable:           w_future_roa   R-squared:                        0.0029\n",
      "Estimator:                   PanelOLS   R-squared (Between):             -0.0734\n",
      "No. Observations:              185315   R-squared (Within):               0.0035\n",
      "Date:                Fri, Feb 25 2022   R-squared (Overall):             -0.0097\n",
      "Time:                        14:37:00   Log-likelihood                 8.184e+04\n",
      "Cov. Estimator:             Clustered                                           \n",
      "                                        F-statistic:                      160.89\n",
      "Entities:                       19139   P-value                           0.0000\n",
      "Avg Obs:                       9.6826   Distribution:                F(3,166133)\n",
      "Min Obs:                       1.0000                                           \n",
      "Max Obs:                       80.000   F-statistic (robust):             47.063\n",
      "                                        P-value                           0.0000\n",
      "Time periods:                      41   Distribution:                F(3,166133)\n",
      "Avg Obs:                       4519.9                                           \n",
      "Min Obs:                       4.0000                                           \n",
      "Max Obs:                       6276.0                                           \n",
      "                                                                                \n",
      "                              Parameter Estimates                               \n",
      "================================================================================\n",
      "              Parameter  Std. Err.     T-stat    P-value    Lower CI    Upper CI\n",
      "--------------------------------------------------------------------------------\n",
      "const           -0.0358     0.0021    -17.288     0.0000     -0.0399     -0.0318\n",
      "w_cash           0.0162     0.0089     1.8152     0.0695     -0.0013      0.0336\n",
      "w_leverage      -0.0499     0.0070    -7.1564     0.0000     -0.0635     -0.0362\n",
      "w_investment     0.0813     0.0083     9.8217     0.0000      0.0651      0.0976\n",
      "================================================================================\n",
      "\n",
      "F-test for Poolability: 11.083\n",
      "P-value: 0.0000\n",
      "Distribution: F(19178,166133)\n",
      "\n",
      "Included effects: Entity, Time\n"
     ]
    }
   ],
   "source": [
    "results_firm_cluster = model.fit(cov_type = 'clustered', cluster_entity = True);\n",
    "print(results_firm_cluster.summary)"
   ]
  },
  {
   "cell_type": "markdown",
   "metadata": {},
   "source": [
    "Note how the cash holding variable (which, last lecture, we thought has the highest predictive power over future profitability), is no longer statistically significant at the 95\\% confidence level."
   ]
  },
  {
   "cell_type": "markdown",
   "metadata": {},
   "source": [
    "## Clustering standard errors at the year level"
   ]
  },
  {
   "cell_type": "code",
   "execution_count": 15,
   "metadata": {},
   "outputs": [
    {
     "name": "stdout",
     "output_type": "stream",
     "text": [
      "                          PanelOLS Estimation Summary                           \n",
      "================================================================================\n",
      "Dep. Variable:           w_future_roa   R-squared:                        0.0029\n",
      "Estimator:                   PanelOLS   R-squared (Between):             -0.0734\n",
      "No. Observations:              185315   R-squared (Within):               0.0035\n",
      "Date:                Fri, Feb 25 2022   R-squared (Overall):             -0.0097\n",
      "Time:                        14:37:01   Log-likelihood                 8.184e+04\n",
      "Cov. Estimator:             Clustered                                           \n",
      "                                        F-statistic:                      160.89\n",
      "Entities:                       19139   P-value                           0.0000\n",
      "Avg Obs:                       9.6826   Distribution:                F(3,166133)\n",
      "Min Obs:                       1.0000                                           \n",
      "Max Obs:                       80.000   F-statistic (robust):             33.385\n",
      "                                        P-value                           0.0000\n",
      "Time periods:                      41   Distribution:                F(3,166133)\n",
      "Avg Obs:                       4519.9                                           \n",
      "Min Obs:                       4.0000                                           \n",
      "Max Obs:                       6276.0                                           \n",
      "                                                                                \n",
      "                              Parameter Estimates                               \n",
      "================================================================================\n",
      "              Parameter  Std. Err.     T-stat    P-value    Lower CI    Upper CI\n",
      "--------------------------------------------------------------------------------\n",
      "const           -0.0358     0.0023    -15.705     0.0000     -0.0403     -0.0314\n",
      "w_cash           0.0162     0.0093     1.7413     0.0816     -0.0020      0.0343\n",
      "w_leverage      -0.0499     0.0070    -7.1542     0.0000     -0.0635     -0.0362\n",
      "w_investment     0.0813     0.0112     7.2616     0.0000      0.0594      0.1033\n",
      "================================================================================\n",
      "\n",
      "F-test for Poolability: 11.083\n",
      "P-value: 0.0000\n",
      "Distribution: F(19178,166133)\n",
      "\n",
      "Included effects: Entity, Time\n"
     ]
    }
   ],
   "source": [
    "results_time_cluster = model.fit(cov_type = 'clustered', cluster_time = True);\n",
    "print(results_time_cluster.summary)"
   ]
  },
  {
   "cell_type": "markdown",
   "metadata": {},
   "source": [
    "## Cluster at both the firm and year level"
   ]
  },
  {
   "cell_type": "code",
   "execution_count": 16,
   "metadata": {},
   "outputs": [
    {
     "name": "stdout",
     "output_type": "stream",
     "text": [
      "                          PanelOLS Estimation Summary                           \n",
      "================================================================================\n",
      "Dep. Variable:           w_future_roa   R-squared:                        0.0029\n",
      "Estimator:                   PanelOLS   R-squared (Between):             -0.0734\n",
      "No. Observations:              185315   R-squared (Within):               0.0035\n",
      "Date:                Fri, Feb 25 2022   R-squared (Overall):             -0.0097\n",
      "Time:                        14:37:03   Log-likelihood                 8.184e+04\n",
      "Cov. Estimator:             Clustered                                           \n",
      "                                        F-statistic:                      160.89\n",
      "Entities:                       19139   P-value                           0.0000\n",
      "Avg Obs:                       9.6826   Distribution:                F(3,166133)\n",
      "Min Obs:                       1.0000                                           \n",
      "Max Obs:                       80.000   F-statistic (robust):             25.269\n",
      "                                        P-value                           0.0000\n",
      "Time periods:                      41   Distribution:                F(3,166133)\n",
      "Avg Obs:                       4519.9                                           \n",
      "Min Obs:                       4.0000                                           \n",
      "Max Obs:                       6276.0                                           \n",
      "                                                                                \n",
      "                              Parameter Estimates                               \n",
      "================================================================================\n",
      "              Parameter  Std. Err.     T-stat    P-value    Lower CI    Upper CI\n",
      "--------------------------------------------------------------------------------\n",
      "const           -0.0358     0.0027    -13.498     0.0000     -0.0410     -0.0306\n",
      "w_cash           0.0162     0.0112     1.4367     0.1508     -0.0059      0.0382\n",
      "w_leverage      -0.0499     0.0084    -5.9289     0.0000     -0.0663     -0.0334\n",
      "w_investment     0.0813     0.0118     6.8815     0.0000      0.0582      0.1045\n",
      "================================================================================\n",
      "\n",
      "F-test for Poolability: 11.083\n",
      "P-value: 0.0000\n",
      "Distribution: F(19178,166133)\n",
      "\n",
      "Included effects: Entity, Time\n"
     ]
    }
   ],
   "source": [
    "results_both_cluster = model.fit(cov_type = 'clustered', cluster_entity = True, cluster_time = True);\n",
    "print(results_both_cluster.summary)"
   ]
  },
  {
   "cell_type": "markdown",
   "metadata": {},
   "source": [
    "This is probably the specification that I would choose going forward since it accounts for both firm and time fixed effects and then adjusts for any remaining correlation in residuals along both of those dimensions."
   ]
  },
  {
   "cell_type": "markdown",
   "metadata": {},
   "source": [
    "## Clustering standard errors at the sector level\n",
    "\n",
    "We can cluster standard errors along other dimensions of correlation as well. Below we cluster at the industry level."
   ]
  },
  {
   "cell_type": "code",
   "execution_count": 17,
   "metadata": {},
   "outputs": [
    {
     "name": "stdout",
     "output_type": "stream",
     "text": [
      "                          PanelOLS Estimation Summary                           \n",
      "================================================================================\n",
      "Dep. Variable:           w_future_roa   R-squared:                        0.0029\n",
      "Estimator:                   PanelOLS   R-squared (Between):             -0.0734\n",
      "No. Observations:              185315   R-squared (Within):               0.0035\n",
      "Date:                Fri, Feb 25 2022   R-squared (Overall):             -0.0097\n",
      "Time:                        14:37:06   Log-likelihood                 8.184e+04\n",
      "Cov. Estimator:             Clustered                                           \n",
      "                                        F-statistic:                      160.89\n",
      "Entities:                       19139   P-value                           0.0000\n",
      "Avg Obs:                       9.6826   Distribution:                F(3,166133)\n",
      "Min Obs:                       1.0000                                           \n",
      "Max Obs:                       80.000   F-statistic (robust):             41.229\n",
      "                                        P-value                           0.0000\n",
      "Time periods:                      41   Distribution:                F(3,166133)\n",
      "Avg Obs:                       4519.9                                           \n",
      "Min Obs:                       4.0000                                           \n",
      "Max Obs:                       6276.0                                           \n",
      "                                                                                \n",
      "                              Parameter Estimates                               \n",
      "================================================================================\n",
      "              Parameter  Std. Err.     T-stat    P-value    Lower CI    Upper CI\n",
      "--------------------------------------------------------------------------------\n",
      "const           -0.0358     0.0065    -5.4738     0.0000     -0.0487     -0.0230\n",
      "w_cash           0.0162     0.0277     0.5834     0.5596     -0.0381      0.0704\n",
      "w_leverage      -0.0499     0.0114    -4.3621     0.0000     -0.0723     -0.0275\n",
      "w_investment     0.0813     0.0089     9.1502     0.0000      0.0639      0.0987\n",
      "================================================================================\n",
      "\n",
      "F-test for Poolability: 11.083\n",
      "P-value: 0.0000\n",
      "Distribution: F(19178,166133)\n",
      "\n",
      "Included effects: Entity, Time\n"
     ]
    }
   ],
   "source": [
    "results_ind_cluster = model.fit(cov_type = 'clustered', clusters = comp['sic2d']);\n",
    "print(results_ind_cluster.summary)"
   ]
  },
  {
   "cell_type": "markdown",
   "metadata": {},
   "source": [
    "Now the cash holdings variable is not even significant at the 45\\% confidence level. The different steps we went through in this lecture to make sure our results are trustworthy, show that the results of our analysis can change quite drastically once we take those steps: using a simple regression specification in the last lecture, it seemed like the cash holdings variable was the strongest predictor of future profitability (with a negative coefficient). Now, we see that in reality, the cash holdings variable is the only one that is NOT statistically significant in our regression."
   ]
  }
 ],
 "metadata": {
  "kernelspec": {
   "display_name": "Python 3",
   "language": "python",
   "name": "python3"
  },
  "language_info": {
   "codemirror_mode": {
    "name": "ipython",
    "version": 3
   },
   "file_extension": ".py",
   "mimetype": "text/x-python",
   "name": "python",
   "nbconvert_exporter": "python",
   "pygments_lexer": "ipython3",
   "version": "3.9.7"
  },
  "toc": {
   "base_numbering": 1,
   "nav_menu": {},
   "number_sections": true,
   "sideBar": true,
   "skip_h1_title": false,
   "title_cell": "Table of Contents",
   "title_sidebar": "Contents",
   "toc_cell": true,
   "toc_position": {
    "height": "calc(100% - 180px)",
    "left": "10px",
    "top": "150px",
    "width": "480px"
   },
   "toc_section_display": true,
   "toc_window_display": false
  }
 },
 "nbformat": 4,
 "nbformat_minor": 4
}
