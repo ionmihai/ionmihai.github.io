{
 "cells": [
  {
   "cell_type": "markdown",
   "id": "8a9c1c64",
   "metadata": {
    "toc": true
   },
   "source": [
    "<h1>Table of Contents<span class=\"tocSkip\"></span></h1>\n",
    "<div class=\"toc\"><ul class=\"toc-item\"><li><span><a href=\"#Preliminaries\" data-toc-modified-id=\"Preliminaries-1\"><span class=\"toc-item-num\">1&nbsp;&nbsp;</span>Preliminaries</a></span></li><li><span><a href=\"#Merging-datasets\" data-toc-modified-id=\"Merging-datasets-2\"><span class=\"toc-item-num\">2&nbsp;&nbsp;</span>Merging datasets</a></span><ul class=\"toc-item\"><li><span><a href=\"#Merging-by-columns-with-.merge()\" data-toc-modified-id=\"Merging-by-columns-with-.merge()-2.1\"><span class=\"toc-item-num\">2.1&nbsp;&nbsp;</span>Merging by columns with <code>.merge()</code></a></span><ul class=\"toc-item\"><li><span><a href=\"#Inner-join\" data-toc-modified-id=\"Inner-join-2.1.1\"><span class=\"toc-item-num\">2.1.1&nbsp;&nbsp;</span>Inner join</a></span></li></ul></li><li><span><a href=\"#\" data-toc-modified-id=\"-2.2\"><span class=\"toc-item-num\">2.2&nbsp;&nbsp;</span></a></span><ul class=\"toc-item\"><li><span><a href=\"#Outer-join\" data-toc-modified-id=\"Outer-join-2.2.1\"><span class=\"toc-item-num\">2.2.1&nbsp;&nbsp;</span>Outer join</a></span></li><li><span><a href=\"#Left-join\" data-toc-modified-id=\"Left-join-2.2.2\"><span class=\"toc-item-num\">2.2.2&nbsp;&nbsp;</span>Left join</a></span></li><li><span><a href=\"#Right-join\" data-toc-modified-id=\"Right-join-2.2.3\"><span class=\"toc-item-num\">2.2.3&nbsp;&nbsp;</span>Right join</a></span></li></ul></li><li><span><a href=\"#Merging-on-index-using-.join()-(and-.merge())\" data-toc-modified-id=\"Merging-on-index-using-.join()-(and-.merge())-2.3\"><span class=\"toc-item-num\">2.3&nbsp;&nbsp;</span>Merging on index using <code>.join()</code> (and <code>.merge()</code>)</a></span></li></ul></li><li><span><a href=\"#Concatenating--datasets-with-.concat()\" data-toc-modified-id=\"Concatenating--datasets-with-.concat()-3\"><span class=\"toc-item-num\">3&nbsp;&nbsp;</span>Concatenating  datasets with <code>.concat()</code></a></span></li><li><span><a href=\"#Reshaping-datasets\" data-toc-modified-id=\"Reshaping-datasets-4\"><span class=\"toc-item-num\">4&nbsp;&nbsp;</span>Reshaping datasets</a></span><ul class=\"toc-item\"><li><span><a href=\"#From-long-to-wide-(unstacking)-with-.pivot()\" data-toc-modified-id=\"From-long-to-wide-(unstacking)-with-.pivot()-4.1\"><span class=\"toc-item-num\">4.1&nbsp;&nbsp;</span>From long to wide (unstacking) with <code>.pivot()</code></a></span></li><li><span><a href=\"#From-wide-to-long-(stacking)-with-.stack()\" data-toc-modified-id=\"From-wide-to-long-(stacking)-with-.stack()-4.2\"><span class=\"toc-item-num\">4.2&nbsp;&nbsp;</span>From wide to long (stacking) with <code>.stack()</code></a></span></li></ul></li></ul></div>"
   ]
  },
  {
   "cell_type": "markdown",
   "id": "b4034eb6",
   "metadata": {},
   "source": [
    "# Preliminaries\n",
    "\n",
    "The data we need for our projects is rarely all in one place (in a single dataframe) or organized the way we need it. This means that we very often have to combine two or more datasets into a single dataset and/or change the organization of the dataset (what appears in the rows and what appears in the columns) to better suit our needs. Here we cover some of the main tools we can use to perform these operations using the Pandas package."
   ]
  },
  {
   "cell_type": "code",
   "execution_count": 32,
   "id": "00f79b20",
   "metadata": {},
   "outputs": [],
   "source": [
    "import pandas as pd\n",
    "from IPython.display import display #allows us to ``pretty print`` multiple objects in the same cell"
   ]
  },
  {
   "cell_type": "markdown",
   "id": "de7e6891",
   "metadata": {},
   "source": [
    "Let's create some example datasets:"
   ]
  },
  {
   "cell_type": "code",
   "execution_count": 33,
   "id": "e9775447",
   "metadata": {},
   "outputs": [
    {
     "data": {
      "text/html": [
       "<div>\n",
       "<style scoped>\n",
       "    .dataframe tbody tr th:only-of-type {\n",
       "        vertical-align: middle;\n",
       "    }\n",
       "\n",
       "    .dataframe tbody tr th {\n",
       "        vertical-align: top;\n",
       "    }\n",
       "\n",
       "    .dataframe thead th {\n",
       "        text-align: right;\n",
       "    }\n",
       "</style>\n",
       "<table border=\"1\" class=\"dataframe\">\n",
       "  <thead>\n",
       "    <tr style=\"text-align: right;\">\n",
       "      <th></th>\n",
       "      <th>year</th>\n",
       "      <th>tic</th>\n",
       "      <th>fy</th>\n",
       "    </tr>\n",
       "  </thead>\n",
       "  <tbody>\n",
       "    <tr>\n",
       "      <th>0</th>\n",
       "      <td>2001</td>\n",
       "      <td>MSFT</td>\n",
       "      <td>2002</td>\n",
       "    </tr>\n",
       "    <tr>\n",
       "      <th>1</th>\n",
       "      <td>2002</td>\n",
       "      <td>TSLA</td>\n",
       "      <td>2003</td>\n",
       "    </tr>\n",
       "    <tr>\n",
       "      <th>2</th>\n",
       "      <td>2003</td>\n",
       "      <td>AAPL</td>\n",
       "      <td>2004</td>\n",
       "    </tr>\n",
       "  </tbody>\n",
       "</table>\n",
       "</div>"
      ],
      "text/plain": [
       "   year   tic    fy\n",
       "0  2001  MSFT  2002\n",
       "1  2002  TSLA  2003\n",
       "2  2003  AAPL  2004"
      ]
     },
     "execution_count": 33,
     "metadata": {},
     "output_type": "execute_result"
    }
   ],
   "source": [
    "df1 = pd.DataFrame({'year': [2001, 2002, 2003], \n",
    "                    'tic': ['MSFT','TSLA','AAPL'], \n",
    "                    'fy':[2002,2003,2004]})\n",
    "df1"
   ]
  },
  {
   "cell_type": "code",
   "execution_count": 34,
   "id": "fd62be8a",
   "metadata": {},
   "outputs": [
    {
     "data": {
      "text/html": [
       "<div>\n",
       "<style scoped>\n",
       "    .dataframe tbody tr th:only-of-type {\n",
       "        vertical-align: middle;\n",
       "    }\n",
       "\n",
       "    .dataframe tbody tr th {\n",
       "        vertical-align: top;\n",
       "    }\n",
       "\n",
       "    .dataframe thead th {\n",
       "        text-align: right;\n",
       "    }\n",
       "</style>\n",
       "<table border=\"1\" class=\"dataframe\">\n",
       "  <thead>\n",
       "    <tr style=\"text-align: right;\">\n",
       "      <th></th>\n",
       "      <th>year</th>\n",
       "      <th>ticker</th>\n",
       "      <th>fy</th>\n",
       "    </tr>\n",
       "  </thead>\n",
       "  <tbody>\n",
       "    <tr>\n",
       "      <th>0</th>\n",
       "      <td>2001</td>\n",
       "      <td>MSFT</td>\n",
       "      <td>12</td>\n",
       "    </tr>\n",
       "    <tr>\n",
       "      <th>1</th>\n",
       "      <td>2002</td>\n",
       "      <td>NFLX</td>\n",
       "      <td>12</td>\n",
       "    </tr>\n",
       "    <tr>\n",
       "      <th>2</th>\n",
       "      <td>2004</td>\n",
       "      <td>AAPL</td>\n",
       "      <td>12</td>\n",
       "    </tr>\n",
       "  </tbody>\n",
       "</table>\n",
       "</div>"
      ],
      "text/plain": [
       "   year ticker  fy\n",
       "0  2001   MSFT  12\n",
       "1  2002   NFLX  12\n",
       "2  2004   AAPL  12"
      ]
     },
     "execution_count": 34,
     "metadata": {},
     "output_type": "execute_result"
    }
   ],
   "source": [
    "df2 = pd.DataFrame({'year': [2001, 2002, 2004], \n",
    "                    'ticker': ['MSFT','NFLX','AAPL'], \n",
    "                    'fy':[12,12,12]})\n",
    "df2"
   ]
  },
  {
   "cell_type": "code",
   "execution_count": 35,
   "id": "65b97b17",
   "metadata": {},
   "outputs": [
    {
     "data": {
      "text/html": [
       "<div>\n",
       "<style scoped>\n",
       "    .dataframe tbody tr th:only-of-type {\n",
       "        vertical-align: middle;\n",
       "    }\n",
       "\n",
       "    .dataframe tbody tr th {\n",
       "        vertical-align: top;\n",
       "    }\n",
       "\n",
       "    .dataframe thead th {\n",
       "        text-align: right;\n",
       "    }\n",
       "</style>\n",
       "<table border=\"1\" class=\"dataframe\">\n",
       "  <thead>\n",
       "    <tr style=\"text-align: right;\">\n",
       "      <th></th>\n",
       "      <th>year</th>\n",
       "      <th>tic</th>\n",
       "      <th>fy</th>\n",
       "    </tr>\n",
       "  </thead>\n",
       "  <tbody>\n",
       "    <tr>\n",
       "      <th>0</th>\n",
       "      <td>2001</td>\n",
       "      <td>MSFT</td>\n",
       "      <td>2002</td>\n",
       "    </tr>\n",
       "    <tr>\n",
       "      <th>1</th>\n",
       "      <td>2002</td>\n",
       "      <td>TSLA</td>\n",
       "      <td>2003</td>\n",
       "    </tr>\n",
       "    <tr>\n",
       "      <th>2</th>\n",
       "      <td>2003</td>\n",
       "      <td>AAPL</td>\n",
       "      <td>2004</td>\n",
       "    </tr>\n",
       "  </tbody>\n",
       "</table>\n",
       "</div>"
      ],
      "text/plain": [
       "   year   tic    fy\n",
       "0  2001  MSFT  2002\n",
       "1  2002  TSLA  2003\n",
       "2  2003  AAPL  2004"
      ]
     },
     "metadata": {},
     "output_type": "display_data"
    },
    {
     "data": {
      "text/html": [
       "<div>\n",
       "<style scoped>\n",
       "    .dataframe tbody tr th:only-of-type {\n",
       "        vertical-align: middle;\n",
       "    }\n",
       "\n",
       "    .dataframe tbody tr th {\n",
       "        vertical-align: top;\n",
       "    }\n",
       "\n",
       "    .dataframe thead th {\n",
       "        text-align: right;\n",
       "    }\n",
       "</style>\n",
       "<table border=\"1\" class=\"dataframe\">\n",
       "  <thead>\n",
       "    <tr style=\"text-align: right;\">\n",
       "      <th></th>\n",
       "      <th>year</th>\n",
       "      <th>ticker</th>\n",
       "      <th>fy</th>\n",
       "    </tr>\n",
       "  </thead>\n",
       "  <tbody>\n",
       "    <tr>\n",
       "      <th>0</th>\n",
       "      <td>2001</td>\n",
       "      <td>MSFT</td>\n",
       "      <td>12</td>\n",
       "    </tr>\n",
       "    <tr>\n",
       "      <th>1</th>\n",
       "      <td>2002</td>\n",
       "      <td>NFLX</td>\n",
       "      <td>12</td>\n",
       "    </tr>\n",
       "    <tr>\n",
       "      <th>2</th>\n",
       "      <td>2004</td>\n",
       "      <td>AAPL</td>\n",
       "      <td>12</td>\n",
       "    </tr>\n",
       "  </tbody>\n",
       "</table>\n",
       "</div>"
      ],
      "text/plain": [
       "   year ticker  fy\n",
       "0  2001   MSFT  12\n",
       "1  2002   NFLX  12\n",
       "2  2004   AAPL  12"
      ]
     },
     "execution_count": 35,
     "metadata": {},
     "output_type": "execute_result"
    }
   ],
   "source": [
    "#example of display\n",
    "display(df1)\n",
    "df2"
   ]
  },
  {
   "cell_type": "markdown",
   "id": "900d6fbf",
   "metadata": {},
   "source": [
    "# Merging datasets\n",
    "\n",
    "When we say we want to \"merge\" two datasets, we generally mean that we want the columns of the two datasets to appear side by side in one final dataset. The important question is: How should the ROWS of the two datasets be matched? To perform this match, we need to have one or more columns that contain the same information in each of the two datasets. These common columns are usually referred to as the \"keys\" on which the rows are matched. \n",
    "\n",
    "The second thing we have to decide is what to do with the rows that do NOT match after the merge. This is where we have to decide if we want an \"inner\", \"outer\", \"left\", or \"right\" merge (aka join), as specified below."
   ]
  },
  {
   "cell_type": "markdown",
   "id": "2ae8d63d",
   "metadata": {},
   "source": [
    "Most commonly, we use the ``.merge()`` function when the keys on which we want to merge the datasets are columns, and the ``.join()`` function when they are indexes (even though ``.merge()`` can also merge on index). We cover these two functions separately in the two subsections below:"
   ]
  },
  {
   "cell_type": "markdown",
   "id": "4bbaa6f3",
   "metadata": {},
   "source": [
    "## Merging by columns with ``.merge()``\n",
    "\n",
    "If the keys we want to merge on are columns in our dataframes (as opposed to indexes) we have to use the ``.merge()`` (``.join()`` will not work for this purpose):\n",
    "\n",
    "Abbreviated syntax:\n",
    "```python\n",
    "DataFrame.merge(right, how='inner', on=None, \n",
    "                left_on=None, right_on=None, \n",
    "                left_index=False, right_index=False, \n",
    "                sort=False, suffixes=('_x', '_y'))\n",
    "```\n",
    "\n",
    "We'll replace ``DataFrame`` and ``right`` with the names of the two dataframes we want to merge (respectively). In the subsections below, we explain what the different choices for ``how`` mean. When the key(s) on which we want to merge have the same name(s) in the two datasets, we use the ``on`` parameter to specify the names of the keys (see the example immediately below), otherwise we need to specify them using the ``left_on`` and ``right_on`` parameters.\n",
    "\n",
    "The documentation at https://pandas.pydata.org/docs/reference/api/pandas.DataFrame.merge.html has some additional examples that you may find useful."
   ]
  },
  {
   "cell_type": "markdown",
   "id": "84606e94",
   "metadata": {},
   "source": [
    "### Inner join\n",
    "\n",
    "The inner join combines the datasets based on the INTERSECTION of the values in the \"key\" columns."
   ]
  },
  {
   "cell_type": "markdown",
   "id": "bde25068",
   "metadata": {},
   "source": [
    "For example, if we want to inner merge the two dataframes using the ``year`` column as a key:"
   ]
  },
  {
   "cell_type": "code",
   "execution_count": 36,
   "id": "6ac74c01",
   "metadata": {},
   "outputs": [
    {
     "data": {
      "text/html": [
       "<div>\n",
       "<style scoped>\n",
       "    .dataframe tbody tr th:only-of-type {\n",
       "        vertical-align: middle;\n",
       "    }\n",
       "\n",
       "    .dataframe tbody tr th {\n",
       "        vertical-align: top;\n",
       "    }\n",
       "\n",
       "    .dataframe thead th {\n",
       "        text-align: right;\n",
       "    }\n",
       "</style>\n",
       "<table border=\"1\" class=\"dataframe\">\n",
       "  <thead>\n",
       "    <tr style=\"text-align: right;\">\n",
       "      <th></th>\n",
       "      <th>year</th>\n",
       "      <th>tic</th>\n",
       "      <th>fy_x</th>\n",
       "      <th>ticker</th>\n",
       "      <th>fy_y</th>\n",
       "    </tr>\n",
       "  </thead>\n",
       "  <tbody>\n",
       "    <tr>\n",
       "      <th>0</th>\n",
       "      <td>2001</td>\n",
       "      <td>MSFT</td>\n",
       "      <td>2002</td>\n",
       "      <td>MSFT</td>\n",
       "      <td>12</td>\n",
       "    </tr>\n",
       "    <tr>\n",
       "      <th>1</th>\n",
       "      <td>2002</td>\n",
       "      <td>TSLA</td>\n",
       "      <td>2003</td>\n",
       "      <td>NFLX</td>\n",
       "      <td>12</td>\n",
       "    </tr>\n",
       "  </tbody>\n",
       "</table>\n",
       "</div>"
      ],
      "text/plain": [
       "   year   tic  fy_x ticker  fy_y\n",
       "0  2001  MSFT  2002   MSFT    12\n",
       "1  2002  TSLA  2003   NFLX    12"
      ]
     },
     "execution_count": 36,
     "metadata": {},
     "output_type": "execute_result"
    }
   ],
   "source": [
    "inner1 = df1.merge(df2, how='inner', on='year')\n",
    "inner1"
   ]
  },
  {
   "cell_type": "markdown",
   "id": "74270e8a",
   "metadata": {},
   "source": [
    "But if we want to merge on both ``year`` and ticker information, we can not use ``on`` because the ticker information has different names in the different dataframes:"
   ]
  },
  {
   "cell_type": "code",
   "execution_count": 37,
   "id": "d40a7c2a",
   "metadata": {},
   "outputs": [
    {
     "data": {
      "text/html": [
       "<div>\n",
       "<style scoped>\n",
       "    .dataframe tbody tr th:only-of-type {\n",
       "        vertical-align: middle;\n",
       "    }\n",
       "\n",
       "    .dataframe tbody tr th {\n",
       "        vertical-align: top;\n",
       "    }\n",
       "\n",
       "    .dataframe thead th {\n",
       "        text-align: right;\n",
       "    }\n",
       "</style>\n",
       "<table border=\"1\" class=\"dataframe\">\n",
       "  <thead>\n",
       "    <tr style=\"text-align: right;\">\n",
       "      <th></th>\n",
       "      <th>year</th>\n",
       "      <th>tic</th>\n",
       "      <th>fy_x</th>\n",
       "      <th>ticker</th>\n",
       "      <th>fy_y</th>\n",
       "    </tr>\n",
       "  </thead>\n",
       "  <tbody>\n",
       "    <tr>\n",
       "      <th>0</th>\n",
       "      <td>2001</td>\n",
       "      <td>MSFT</td>\n",
       "      <td>2002</td>\n",
       "      <td>MSFT</td>\n",
       "      <td>12</td>\n",
       "    </tr>\n",
       "  </tbody>\n",
       "</table>\n",
       "</div>"
      ],
      "text/plain": [
       "   year   tic  fy_x ticker  fy_y\n",
       "0  2001  MSFT  2002   MSFT    12"
      ]
     },
     "execution_count": 37,
     "metadata": {},
     "output_type": "execute_result"
    }
   ],
   "source": [
    "inner2 = df1.merge(df2, how='inner', \n",
    "                   left_on = ['year','tic'], right_on = ['year','ticker'])\n",
    "inner2"
   ]
  },
  {
   "cell_type": "markdown",
   "id": "32de2dcf",
   "metadata": {},
   "source": [
    "Note how the name of the ``fy`` column in each of the two datasets has been changed. To control that process ourselves, we can use the ``suffixes`` parameter to specify suffixes that should be appended at the end of common column names:"
   ]
  },
  {
   "cell_type": "code",
   "execution_count": 38,
   "id": "f55dd962",
   "metadata": {},
   "outputs": [
    {
     "data": {
      "text/html": [
       "<div>\n",
       "<style scoped>\n",
       "    .dataframe tbody tr th:only-of-type {\n",
       "        vertical-align: middle;\n",
       "    }\n",
       "\n",
       "    .dataframe tbody tr th {\n",
       "        vertical-align: top;\n",
       "    }\n",
       "\n",
       "    .dataframe thead th {\n",
       "        text-align: right;\n",
       "    }\n",
       "</style>\n",
       "<table border=\"1\" class=\"dataframe\">\n",
       "  <thead>\n",
       "    <tr style=\"text-align: right;\">\n",
       "      <th></th>\n",
       "      <th>year</th>\n",
       "      <th>tic</th>\n",
       "      <th>fy_df1</th>\n",
       "      <th>ticker</th>\n",
       "      <th>fy_df2</th>\n",
       "    </tr>\n",
       "  </thead>\n",
       "  <tbody>\n",
       "    <tr>\n",
       "      <th>0</th>\n",
       "      <td>2001</td>\n",
       "      <td>MSFT</td>\n",
       "      <td>2002</td>\n",
       "      <td>MSFT</td>\n",
       "      <td>12</td>\n",
       "    </tr>\n",
       "  </tbody>\n",
       "</table>\n",
       "</div>"
      ],
      "text/plain": [
       "   year   tic  fy_df1 ticker  fy_df2\n",
       "0  2001  MSFT    2002   MSFT      12"
      ]
     },
     "execution_count": 38,
     "metadata": {},
     "output_type": "execute_result"
    }
   ],
   "source": [
    "inner2 = df1.merge(df2, how='inner', \n",
    "                   left_on = ['year','tic'], right_on = ['year','ticker'],\n",
    "                  suffixes = ('_df1', '_df2'))\n",
    "inner2"
   ]
  },
  {
   "cell_type": "markdown",
   "id": "a2b6069f",
   "metadata": {},
   "source": [
    "### Outer join\n",
    "\n",
    "The outer join combines the datasets based on the UNION of the values in the \"key\" columns. For example:"
   ]
  },
  {
   "cell_type": "code",
   "execution_count": 39,
   "id": "ff745ac1",
   "metadata": {},
   "outputs": [
    {
     "data": {
      "text/html": [
       "<div>\n",
       "<style scoped>\n",
       "    .dataframe tbody tr th:only-of-type {\n",
       "        vertical-align: middle;\n",
       "    }\n",
       "\n",
       "    .dataframe tbody tr th {\n",
       "        vertical-align: top;\n",
       "    }\n",
       "\n",
       "    .dataframe thead th {\n",
       "        text-align: right;\n",
       "    }\n",
       "</style>\n",
       "<table border=\"1\" class=\"dataframe\">\n",
       "  <thead>\n",
       "    <tr style=\"text-align: right;\">\n",
       "      <th></th>\n",
       "      <th>year</th>\n",
       "      <th>tic</th>\n",
       "      <th>fy_x</th>\n",
       "      <th>ticker</th>\n",
       "      <th>fy_y</th>\n",
       "    </tr>\n",
       "  </thead>\n",
       "  <tbody>\n",
       "    <tr>\n",
       "      <th>0</th>\n",
       "      <td>2001</td>\n",
       "      <td>MSFT</td>\n",
       "      <td>2002.0</td>\n",
       "      <td>MSFT</td>\n",
       "      <td>12.0</td>\n",
       "    </tr>\n",
       "    <tr>\n",
       "      <th>1</th>\n",
       "      <td>2002</td>\n",
       "      <td>TSLA</td>\n",
       "      <td>2003.0</td>\n",
       "      <td>NaN</td>\n",
       "      <td>NaN</td>\n",
       "    </tr>\n",
       "    <tr>\n",
       "      <th>2</th>\n",
       "      <td>2003</td>\n",
       "      <td>AAPL</td>\n",
       "      <td>2004.0</td>\n",
       "      <td>NaN</td>\n",
       "      <td>NaN</td>\n",
       "    </tr>\n",
       "    <tr>\n",
       "      <th>3</th>\n",
       "      <td>2002</td>\n",
       "      <td>NaN</td>\n",
       "      <td>NaN</td>\n",
       "      <td>NFLX</td>\n",
       "      <td>12.0</td>\n",
       "    </tr>\n",
       "    <tr>\n",
       "      <th>4</th>\n",
       "      <td>2004</td>\n",
       "      <td>NaN</td>\n",
       "      <td>NaN</td>\n",
       "      <td>AAPL</td>\n",
       "      <td>12.0</td>\n",
       "    </tr>\n",
       "  </tbody>\n",
       "</table>\n",
       "</div>"
      ],
      "text/plain": [
       "   year   tic    fy_x ticker  fy_y\n",
       "0  2001  MSFT  2002.0   MSFT  12.0\n",
       "1  2002  TSLA  2003.0    NaN   NaN\n",
       "2  2003  AAPL  2004.0    NaN   NaN\n",
       "3  2002   NaN     NaN   NFLX  12.0\n",
       "4  2004   NaN     NaN   AAPL  12.0"
      ]
     },
     "execution_count": 39,
     "metadata": {},
     "output_type": "execute_result"
    }
   ],
   "source": [
    "outer = df1.merge(df2, how='outer', \n",
    "                 left_on = ['year','tic'], right_on = ['year','ticker'])\n",
    "outer"
   ]
  },
  {
   "cell_type": "markdown",
   "id": "db3bd94b",
   "metadata": {},
   "source": [
    "### Left join\n",
    "\n",
    "In a left join, the unmatched keys from the left dataset are kept, but the unmatched keys from the right dataset are discarded."
   ]
  },
  {
   "cell_type": "code",
   "execution_count": 40,
   "id": "246aa41e",
   "metadata": {},
   "outputs": [
    {
     "data": {
      "text/html": [
       "<div>\n",
       "<style scoped>\n",
       "    .dataframe tbody tr th:only-of-type {\n",
       "        vertical-align: middle;\n",
       "    }\n",
       "\n",
       "    .dataframe tbody tr th {\n",
       "        vertical-align: top;\n",
       "    }\n",
       "\n",
       "    .dataframe thead th {\n",
       "        text-align: right;\n",
       "    }\n",
       "</style>\n",
       "<table border=\"1\" class=\"dataframe\">\n",
       "  <thead>\n",
       "    <tr style=\"text-align: right;\">\n",
       "      <th></th>\n",
       "      <th>year</th>\n",
       "      <th>tic</th>\n",
       "      <th>fy_x</th>\n",
       "      <th>ticker</th>\n",
       "      <th>fy_y</th>\n",
       "    </tr>\n",
       "  </thead>\n",
       "  <tbody>\n",
       "    <tr>\n",
       "      <th>0</th>\n",
       "      <td>2001</td>\n",
       "      <td>MSFT</td>\n",
       "      <td>2002</td>\n",
       "      <td>MSFT</td>\n",
       "      <td>12.0</td>\n",
       "    </tr>\n",
       "    <tr>\n",
       "      <th>1</th>\n",
       "      <td>2002</td>\n",
       "      <td>TSLA</td>\n",
       "      <td>2003</td>\n",
       "      <td>NaN</td>\n",
       "      <td>NaN</td>\n",
       "    </tr>\n",
       "    <tr>\n",
       "      <th>2</th>\n",
       "      <td>2003</td>\n",
       "      <td>AAPL</td>\n",
       "      <td>2004</td>\n",
       "      <td>NaN</td>\n",
       "      <td>NaN</td>\n",
       "    </tr>\n",
       "  </tbody>\n",
       "</table>\n",
       "</div>"
      ],
      "text/plain": [
       "   year   tic  fy_x ticker  fy_y\n",
       "0  2001  MSFT  2002   MSFT  12.0\n",
       "1  2002  TSLA  2003    NaN   NaN\n",
       "2  2003  AAPL  2004    NaN   NaN"
      ]
     },
     "execution_count": 40,
     "metadata": {},
     "output_type": "execute_result"
    }
   ],
   "source": [
    "left = df1.merge(df2, how='left', \n",
    "                 left_on = ['year','tic'], right_on = ['year','ticker'])\n",
    "left"
   ]
  },
  {
   "cell_type": "markdown",
   "id": "b14e0ece",
   "metadata": {},
   "source": [
    "### Right join\n",
    "\n",
    "In a right join, the unmatched keys from the right dataset are kept, but the unmatched keys from the left dataset are discarded."
   ]
  },
  {
   "cell_type": "code",
   "execution_count": 41,
   "id": "d61229bd",
   "metadata": {},
   "outputs": [
    {
     "data": {
      "text/html": [
       "<div>\n",
       "<style scoped>\n",
       "    .dataframe tbody tr th:only-of-type {\n",
       "        vertical-align: middle;\n",
       "    }\n",
       "\n",
       "    .dataframe tbody tr th {\n",
       "        vertical-align: top;\n",
       "    }\n",
       "\n",
       "    .dataframe thead th {\n",
       "        text-align: right;\n",
       "    }\n",
       "</style>\n",
       "<table border=\"1\" class=\"dataframe\">\n",
       "  <thead>\n",
       "    <tr style=\"text-align: right;\">\n",
       "      <th></th>\n",
       "      <th>year</th>\n",
       "      <th>tic</th>\n",
       "      <th>fy_x</th>\n",
       "      <th>ticker</th>\n",
       "      <th>fy_y</th>\n",
       "    </tr>\n",
       "  </thead>\n",
       "  <tbody>\n",
       "    <tr>\n",
       "      <th>0</th>\n",
       "      <td>2001</td>\n",
       "      <td>MSFT</td>\n",
       "      <td>2002.0</td>\n",
       "      <td>MSFT</td>\n",
       "      <td>12</td>\n",
       "    </tr>\n",
       "    <tr>\n",
       "      <th>1</th>\n",
       "      <td>2002</td>\n",
       "      <td>NaN</td>\n",
       "      <td>NaN</td>\n",
       "      <td>NFLX</td>\n",
       "      <td>12</td>\n",
       "    </tr>\n",
       "    <tr>\n",
       "      <th>2</th>\n",
       "      <td>2004</td>\n",
       "      <td>NaN</td>\n",
       "      <td>NaN</td>\n",
       "      <td>AAPL</td>\n",
       "      <td>12</td>\n",
       "    </tr>\n",
       "  </tbody>\n",
       "</table>\n",
       "</div>"
      ],
      "text/plain": [
       "   year   tic    fy_x ticker  fy_y\n",
       "0  2001  MSFT  2002.0   MSFT    12\n",
       "1  2002   NaN     NaN   NFLX    12\n",
       "2  2004   NaN     NaN   AAPL    12"
      ]
     },
     "execution_count": 41,
     "metadata": {},
     "output_type": "execute_result"
    }
   ],
   "source": [
    "right = df1.merge(df2, how='right', \n",
    "                 left_on = ['year','tic'], right_on = ['year','ticker'])\n",
    "right"
   ]
  },
  {
   "cell_type": "markdown",
   "id": "8810e6b4",
   "metadata": {},
   "source": [
    "## Merging on index using ``.join()`` (and ``.merge()``)\n",
    "\n",
    "As mentioned above, this covers the situation when the keys on which we want to perform the merge are indexes in the dataframes we want to merge. In this case, we can either use the ``.merge()`` function and specify ``left_index=True, right_index=True``, or we can use the ``.join()`` funciton without specifying any keys at all (because ``.join()`` assumes that you are using the index):"
   ]
  },
  {
   "cell_type": "markdown",
   "id": "1bc8a4d5",
   "metadata": {},
   "source": [
    "First, let's add an index (MultiIndex) to the two dataframes: "
   ]
  },
  {
   "cell_type": "code",
   "execution_count": 42,
   "id": "4ea00275",
   "metadata": {},
   "outputs": [
    {
     "data": {
      "text/html": [
       "<div>\n",
       "<style scoped>\n",
       "    .dataframe tbody tr th:only-of-type {\n",
       "        vertical-align: middle;\n",
       "    }\n",
       "\n",
       "    .dataframe tbody tr th {\n",
       "        vertical-align: top;\n",
       "    }\n",
       "\n",
       "    .dataframe thead th {\n",
       "        text-align: right;\n",
       "    }\n",
       "</style>\n",
       "<table border=\"1\" class=\"dataframe\">\n",
       "  <thead>\n",
       "    <tr style=\"text-align: right;\">\n",
       "      <th></th>\n",
       "      <th></th>\n",
       "      <th>fy</th>\n",
       "    </tr>\n",
       "    <tr>\n",
       "      <th>year</th>\n",
       "      <th>tic</th>\n",
       "      <th></th>\n",
       "    </tr>\n",
       "  </thead>\n",
       "  <tbody>\n",
       "    <tr>\n",
       "      <th>2001</th>\n",
       "      <th>MSFT</th>\n",
       "      <td>2002</td>\n",
       "    </tr>\n",
       "    <tr>\n",
       "      <th>2002</th>\n",
       "      <th>TSLA</th>\n",
       "      <td>2003</td>\n",
       "    </tr>\n",
       "    <tr>\n",
       "      <th>2003</th>\n",
       "      <th>AAPL</th>\n",
       "      <td>2004</td>\n",
       "    </tr>\n",
       "  </tbody>\n",
       "</table>\n",
       "</div>"
      ],
      "text/plain": [
       "             fy\n",
       "year tic       \n",
       "2001 MSFT  2002\n",
       "2002 TSLA  2003\n",
       "2003 AAPL  2004"
      ]
     },
     "execution_count": 42,
     "metadata": {},
     "output_type": "execute_result"
    }
   ],
   "source": [
    "df3 = df1.set_index(['year','tic'])\n",
    "df3"
   ]
  },
  {
   "cell_type": "code",
   "execution_count": 43,
   "id": "6b803582",
   "metadata": {},
   "outputs": [
    {
     "data": {
      "text/html": [
       "<div>\n",
       "<style scoped>\n",
       "    .dataframe tbody tr th:only-of-type {\n",
       "        vertical-align: middle;\n",
       "    }\n",
       "\n",
       "    .dataframe tbody tr th {\n",
       "        vertical-align: top;\n",
       "    }\n",
       "\n",
       "    .dataframe thead th {\n",
       "        text-align: right;\n",
       "    }\n",
       "</style>\n",
       "<table border=\"1\" class=\"dataframe\">\n",
       "  <thead>\n",
       "    <tr style=\"text-align: right;\">\n",
       "      <th></th>\n",
       "      <th></th>\n",
       "      <th>fy</th>\n",
       "    </tr>\n",
       "    <tr>\n",
       "      <th>year</th>\n",
       "      <th>ticker</th>\n",
       "      <th></th>\n",
       "    </tr>\n",
       "  </thead>\n",
       "  <tbody>\n",
       "    <tr>\n",
       "      <th>2001</th>\n",
       "      <th>MSFT</th>\n",
       "      <td>12</td>\n",
       "    </tr>\n",
       "    <tr>\n",
       "      <th>2002</th>\n",
       "      <th>NFLX</th>\n",
       "      <td>12</td>\n",
       "    </tr>\n",
       "    <tr>\n",
       "      <th>2004</th>\n",
       "      <th>AAPL</th>\n",
       "      <td>12</td>\n",
       "    </tr>\n",
       "  </tbody>\n",
       "</table>\n",
       "</div>"
      ],
      "text/plain": [
       "             fy\n",
       "year ticker    \n",
       "2001 MSFT    12\n",
       "2002 NFLX    12\n",
       "2004 AAPL    12"
      ]
     },
     "execution_count": 43,
     "metadata": {},
     "output_type": "execute_result"
    }
   ],
   "source": [
    "df4 = df2.set_index(['year','ticker'])\n",
    "df4"
   ]
  },
  {
   "cell_type": "markdown",
   "id": "51fcea8e",
   "metadata": {},
   "source": [
    "Before we can use ``.merge()``, we have to make the index names match (``tic`` does not match ``ticker``):"
   ]
  },
  {
   "cell_type": "code",
   "execution_count": 44,
   "id": "11786394",
   "metadata": {},
   "outputs": [
    {
     "data": {
      "text/html": [
       "<div>\n",
       "<style scoped>\n",
       "    .dataframe tbody tr th:only-of-type {\n",
       "        vertical-align: middle;\n",
       "    }\n",
       "\n",
       "    .dataframe tbody tr th {\n",
       "        vertical-align: top;\n",
       "    }\n",
       "\n",
       "    .dataframe thead th {\n",
       "        text-align: right;\n",
       "    }\n",
       "</style>\n",
       "<table border=\"1\" class=\"dataframe\">\n",
       "  <thead>\n",
       "    <tr style=\"text-align: right;\">\n",
       "      <th></th>\n",
       "      <th></th>\n",
       "      <th>fy</th>\n",
       "    </tr>\n",
       "    <tr>\n",
       "      <th>year</th>\n",
       "      <th>tic</th>\n",
       "      <th></th>\n",
       "    </tr>\n",
       "  </thead>\n",
       "  <tbody>\n",
       "    <tr>\n",
       "      <th>2001</th>\n",
       "      <th>MSFT</th>\n",
       "      <td>2002</td>\n",
       "    </tr>\n",
       "    <tr>\n",
       "      <th>2002</th>\n",
       "      <th>TSLA</th>\n",
       "      <td>2003</td>\n",
       "    </tr>\n",
       "    <tr>\n",
       "      <th>2003</th>\n",
       "      <th>AAPL</th>\n",
       "      <td>2004</td>\n",
       "    </tr>\n",
       "  </tbody>\n",
       "</table>\n",
       "</div>"
      ],
      "text/plain": [
       "             fy\n",
       "year tic       \n",
       "2001 MSFT  2002\n",
       "2002 TSLA  2003\n",
       "2003 AAPL  2004"
      ]
     },
     "metadata": {},
     "output_type": "display_data"
    },
    {
     "data": {
      "text/html": [
       "<div>\n",
       "<style scoped>\n",
       "    .dataframe tbody tr th:only-of-type {\n",
       "        vertical-align: middle;\n",
       "    }\n",
       "\n",
       "    .dataframe tbody tr th {\n",
       "        vertical-align: top;\n",
       "    }\n",
       "\n",
       "    .dataframe thead th {\n",
       "        text-align: right;\n",
       "    }\n",
       "</style>\n",
       "<table border=\"1\" class=\"dataframe\">\n",
       "  <thead>\n",
       "    <tr style=\"text-align: right;\">\n",
       "      <th></th>\n",
       "      <th></th>\n",
       "      <th>fy</th>\n",
       "    </tr>\n",
       "    <tr>\n",
       "      <th>year</th>\n",
       "      <th>tic</th>\n",
       "      <th></th>\n",
       "    </tr>\n",
       "  </thead>\n",
       "  <tbody>\n",
       "    <tr>\n",
       "      <th>2001</th>\n",
       "      <th>MSFT</th>\n",
       "      <td>12</td>\n",
       "    </tr>\n",
       "    <tr>\n",
       "      <th>2002</th>\n",
       "      <th>NFLX</th>\n",
       "      <td>12</td>\n",
       "    </tr>\n",
       "    <tr>\n",
       "      <th>2004</th>\n",
       "      <th>AAPL</th>\n",
       "      <td>12</td>\n",
       "    </tr>\n",
       "  </tbody>\n",
       "</table>\n",
       "</div>"
      ],
      "text/plain": [
       "           fy\n",
       "year tic     \n",
       "2001 MSFT  12\n",
       "2002 NFLX  12\n",
       "2004 AAPL  12"
      ]
     },
     "execution_count": 44,
     "metadata": {},
     "output_type": "execute_result"
    }
   ],
   "source": [
    "df4.index.names = ['year','tic']\n",
    "display(df3)\n",
    "df4"
   ]
  },
  {
   "cell_type": "markdown",
   "id": "4a614306",
   "metadata": {},
   "source": [
    "Now, say we want to perform an outer merge on the index:"
   ]
  },
  {
   "cell_type": "code",
   "execution_count": 45,
   "id": "6520db73",
   "metadata": {},
   "outputs": [
    {
     "data": {
      "text/html": [
       "<div>\n",
       "<style scoped>\n",
       "    .dataframe tbody tr th:only-of-type {\n",
       "        vertical-align: middle;\n",
       "    }\n",
       "\n",
       "    .dataframe tbody tr th {\n",
       "        vertical-align: top;\n",
       "    }\n",
       "\n",
       "    .dataframe thead th {\n",
       "        text-align: right;\n",
       "    }\n",
       "</style>\n",
       "<table border=\"1\" class=\"dataframe\">\n",
       "  <thead>\n",
       "    <tr style=\"text-align: right;\">\n",
       "      <th></th>\n",
       "      <th></th>\n",
       "      <th>fy_df3</th>\n",
       "      <th>fy_df4</th>\n",
       "    </tr>\n",
       "    <tr>\n",
       "      <th>year</th>\n",
       "      <th>tic</th>\n",
       "      <th></th>\n",
       "      <th></th>\n",
       "    </tr>\n",
       "  </thead>\n",
       "  <tbody>\n",
       "    <tr>\n",
       "      <th>2001</th>\n",
       "      <th>MSFT</th>\n",
       "      <td>2002.0</td>\n",
       "      <td>12.0</td>\n",
       "    </tr>\n",
       "    <tr>\n",
       "      <th rowspan=\"2\" valign=\"top\">2002</th>\n",
       "      <th>NFLX</th>\n",
       "      <td>NaN</td>\n",
       "      <td>12.0</td>\n",
       "    </tr>\n",
       "    <tr>\n",
       "      <th>TSLA</th>\n",
       "      <td>2003.0</td>\n",
       "      <td>NaN</td>\n",
       "    </tr>\n",
       "    <tr>\n",
       "      <th>2003</th>\n",
       "      <th>AAPL</th>\n",
       "      <td>2004.0</td>\n",
       "      <td>NaN</td>\n",
       "    </tr>\n",
       "    <tr>\n",
       "      <th>2004</th>\n",
       "      <th>AAPL</th>\n",
       "      <td>NaN</td>\n",
       "      <td>12.0</td>\n",
       "    </tr>\n",
       "  </tbody>\n",
       "</table>\n",
       "</div>"
      ],
      "text/plain": [
       "           fy_df3  fy_df4\n",
       "year tic                 \n",
       "2001 MSFT  2002.0    12.0\n",
       "2002 NFLX     NaN    12.0\n",
       "     TSLA  2003.0     NaN\n",
       "2003 AAPL  2004.0     NaN\n",
       "2004 AAPL     NaN    12.0"
      ]
     },
     "execution_count": 45,
     "metadata": {},
     "output_type": "execute_result"
    }
   ],
   "source": [
    "outerm = df3.merge(df4, how='outer', \n",
    "                  left_index = True, right_index = True,\n",
    "                  suffixes = ('_df3', '_df4'))\n",
    "outerm"
   ]
  },
  {
   "cell_type": "markdown",
   "id": "efc40b90",
   "metadata": {},
   "source": [
    "Using the ``.join()`` function will not work unless we specify how the ``fy`` columns need to be renamed. We use the ``lsuffix`` and ``rsuffix`` parameters for this purpose.\n",
    "\n",
    "Syntax:\n",
    "```python\n",
    "DataFrame.join(other, on=None, how='left', lsuffix='', rsuffix='', sort=False)\n",
    "```"
   ]
  },
  {
   "cell_type": "markdown",
   "id": "cb91e1a1",
   "metadata": {},
   "source": [
    "For example, we can perform the same outer merge as above using:"
   ]
  },
  {
   "cell_type": "code",
   "execution_count": 46,
   "id": "1a2cff73",
   "metadata": {},
   "outputs": [
    {
     "data": {
      "text/html": [
       "<div>\n",
       "<style scoped>\n",
       "    .dataframe tbody tr th:only-of-type {\n",
       "        vertical-align: middle;\n",
       "    }\n",
       "\n",
       "    .dataframe tbody tr th {\n",
       "        vertical-align: top;\n",
       "    }\n",
       "\n",
       "    .dataframe thead th {\n",
       "        text-align: right;\n",
       "    }\n",
       "</style>\n",
       "<table border=\"1\" class=\"dataframe\">\n",
       "  <thead>\n",
       "    <tr style=\"text-align: right;\">\n",
       "      <th></th>\n",
       "      <th></th>\n",
       "      <th>fy_df3</th>\n",
       "      <th>fy_df4</th>\n",
       "    </tr>\n",
       "    <tr>\n",
       "      <th>year</th>\n",
       "      <th>tic</th>\n",
       "      <th></th>\n",
       "      <th></th>\n",
       "    </tr>\n",
       "  </thead>\n",
       "  <tbody>\n",
       "    <tr>\n",
       "      <th>2001</th>\n",
       "      <th>MSFT</th>\n",
       "      <td>2002.0</td>\n",
       "      <td>12.0</td>\n",
       "    </tr>\n",
       "    <tr>\n",
       "      <th rowspan=\"2\" valign=\"top\">2002</th>\n",
       "      <th>NFLX</th>\n",
       "      <td>NaN</td>\n",
       "      <td>12.0</td>\n",
       "    </tr>\n",
       "    <tr>\n",
       "      <th>TSLA</th>\n",
       "      <td>2003.0</td>\n",
       "      <td>NaN</td>\n",
       "    </tr>\n",
       "    <tr>\n",
       "      <th>2003</th>\n",
       "      <th>AAPL</th>\n",
       "      <td>2004.0</td>\n",
       "      <td>NaN</td>\n",
       "    </tr>\n",
       "    <tr>\n",
       "      <th>2004</th>\n",
       "      <th>AAPL</th>\n",
       "      <td>NaN</td>\n",
       "      <td>12.0</td>\n",
       "    </tr>\n",
       "  </tbody>\n",
       "</table>\n",
       "</div>"
      ],
      "text/plain": [
       "           fy_df3  fy_df4\n",
       "year tic                 \n",
       "2001 MSFT  2002.0    12.0\n",
       "2002 NFLX     NaN    12.0\n",
       "     TSLA  2003.0     NaN\n",
       "2003 AAPL  2004.0     NaN\n",
       "2004 AAPL     NaN    12.0"
      ]
     },
     "execution_count": 46,
     "metadata": {},
     "output_type": "execute_result"
    }
   ],
   "source": [
    "outerj = df3.join(df4, how = 'outer', \n",
    "                  lsuffix = '_df3', rsuffix = '_df4')\n",
    "outerj"
   ]
  },
  {
   "cell_type": "markdown",
   "id": "24439c98",
   "metadata": {},
   "source": [
    "# Concatenating  datasets with ``.concat()``\n",
    "\n",
    "When we say that we want to \"concatenate\" two datasets, we generally mean that we want the columns of the two datasets to be stacked on top of each other (vertically) or side by side (horizontally). We usually want to concatenate vertically (aka \"appending\") when we obtain more data on a given set of variables, and we just want to add it at the bottom of a dataset already containing those variables (columns).\n",
    "\n",
    "Unlike merging, concatenating horizontally means that we want to combine two datasets side by side, but \"as they are\", without concern for matching rows in any meaningful way (like merge). This is usually done when we want to combine different pieces of information (columns) from the two datasets, and we are certain that existing datasets are already organized in such a way that the rows will match meaningfully.\n",
    "\n",
    "The ``.concat()`` function can perform both types of concatenation (it can also perform a merge but we will not use it for that purpose in this course):\n",
    "\n",
    "Syntax:\n",
    "```python\n",
    "pandas.concat(objs, axis=0, join='outer', ignore_index=False, keys=None, levels=None, names=None, sort=False, copy=True)\n",
    "```\n",
    "\n",
    "We specify ``axis=0`` for vertical concatenation and ``axis=1`` for horizontal concatenation:"
   ]
  },
  {
   "cell_type": "code",
   "execution_count": 47,
   "id": "f4145185",
   "metadata": {},
   "outputs": [
    {
     "data": {
      "text/html": [
       "<div>\n",
       "<style scoped>\n",
       "    .dataframe tbody tr th:only-of-type {\n",
       "        vertical-align: middle;\n",
       "    }\n",
       "\n",
       "    .dataframe tbody tr th {\n",
       "        vertical-align: top;\n",
       "    }\n",
       "\n",
       "    .dataframe thead th {\n",
       "        text-align: right;\n",
       "    }\n",
       "</style>\n",
       "<table border=\"1\" class=\"dataframe\">\n",
       "  <thead>\n",
       "    <tr style=\"text-align: right;\">\n",
       "      <th></th>\n",
       "      <th>year</th>\n",
       "      <th>tic</th>\n",
       "      <th>fy</th>\n",
       "    </tr>\n",
       "  </thead>\n",
       "  <tbody>\n",
       "    <tr>\n",
       "      <th>0</th>\n",
       "      <td>2001</td>\n",
       "      <td>MSFT</td>\n",
       "      <td>2002</td>\n",
       "    </tr>\n",
       "    <tr>\n",
       "      <th>1</th>\n",
       "      <td>2002</td>\n",
       "      <td>TSLA</td>\n",
       "      <td>2003</td>\n",
       "    </tr>\n",
       "    <tr>\n",
       "      <th>2</th>\n",
       "      <td>2003</td>\n",
       "      <td>AAPL</td>\n",
       "      <td>2004</td>\n",
       "    </tr>\n",
       "  </tbody>\n",
       "</table>\n",
       "</div>"
      ],
      "text/plain": [
       "   year   tic    fy\n",
       "0  2001  MSFT  2002\n",
       "1  2002  TSLA  2003\n",
       "2  2003  AAPL  2004"
      ]
     },
     "execution_count": 47,
     "metadata": {},
     "output_type": "execute_result"
    }
   ],
   "source": [
    "df1"
   ]
  },
  {
   "cell_type": "code",
   "execution_count": 48,
   "id": "be38cfcb",
   "metadata": {},
   "outputs": [
    {
     "data": {
      "text/html": [
       "<div>\n",
       "<style scoped>\n",
       "    .dataframe tbody tr th:only-of-type {\n",
       "        vertical-align: middle;\n",
       "    }\n",
       "\n",
       "    .dataframe tbody tr th {\n",
       "        vertical-align: top;\n",
       "    }\n",
       "\n",
       "    .dataframe thead th {\n",
       "        text-align: right;\n",
       "    }\n",
       "</style>\n",
       "<table border=\"1\" class=\"dataframe\">\n",
       "  <thead>\n",
       "    <tr style=\"text-align: right;\">\n",
       "      <th></th>\n",
       "      <th>year</th>\n",
       "      <th>ticker</th>\n",
       "      <th>fy</th>\n",
       "    </tr>\n",
       "  </thead>\n",
       "  <tbody>\n",
       "    <tr>\n",
       "      <th>0</th>\n",
       "      <td>2001</td>\n",
       "      <td>MSFT</td>\n",
       "      <td>12</td>\n",
       "    </tr>\n",
       "    <tr>\n",
       "      <th>1</th>\n",
       "      <td>2002</td>\n",
       "      <td>NFLX</td>\n",
       "      <td>12</td>\n",
       "    </tr>\n",
       "    <tr>\n",
       "      <th>2</th>\n",
       "      <td>2004</td>\n",
       "      <td>AAPL</td>\n",
       "      <td>12</td>\n",
       "    </tr>\n",
       "  </tbody>\n",
       "</table>\n",
       "</div>"
      ],
      "text/plain": [
       "   year ticker  fy\n",
       "0  2001   MSFT  12\n",
       "1  2002   NFLX  12\n",
       "2  2004   AAPL  12"
      ]
     },
     "execution_count": 48,
     "metadata": {},
     "output_type": "execute_result"
    }
   ],
   "source": [
    "df2"
   ]
  },
  {
   "cell_type": "code",
   "execution_count": 49,
   "id": "9d4f15f0",
   "metadata": {},
   "outputs": [
    {
     "data": {
      "text/html": [
       "<div>\n",
       "<style scoped>\n",
       "    .dataframe tbody tr th:only-of-type {\n",
       "        vertical-align: middle;\n",
       "    }\n",
       "\n",
       "    .dataframe tbody tr th {\n",
       "        vertical-align: top;\n",
       "    }\n",
       "\n",
       "    .dataframe thead th {\n",
       "        text-align: right;\n",
       "    }\n",
       "</style>\n",
       "<table border=\"1\" class=\"dataframe\">\n",
       "  <thead>\n",
       "    <tr style=\"text-align: right;\">\n",
       "      <th></th>\n",
       "      <th>year</th>\n",
       "      <th>tic</th>\n",
       "      <th>fy</th>\n",
       "      <th>ticker</th>\n",
       "    </tr>\n",
       "  </thead>\n",
       "  <tbody>\n",
       "    <tr>\n",
       "      <th>0</th>\n",
       "      <td>2001</td>\n",
       "      <td>MSFT</td>\n",
       "      <td>2002</td>\n",
       "      <td>NaN</td>\n",
       "    </tr>\n",
       "    <tr>\n",
       "      <th>1</th>\n",
       "      <td>2002</td>\n",
       "      <td>TSLA</td>\n",
       "      <td>2003</td>\n",
       "      <td>NaN</td>\n",
       "    </tr>\n",
       "    <tr>\n",
       "      <th>2</th>\n",
       "      <td>2003</td>\n",
       "      <td>AAPL</td>\n",
       "      <td>2004</td>\n",
       "      <td>NaN</td>\n",
       "    </tr>\n",
       "    <tr>\n",
       "      <th>0</th>\n",
       "      <td>2001</td>\n",
       "      <td>NaN</td>\n",
       "      <td>12</td>\n",
       "      <td>MSFT</td>\n",
       "    </tr>\n",
       "    <tr>\n",
       "      <th>1</th>\n",
       "      <td>2002</td>\n",
       "      <td>NaN</td>\n",
       "      <td>12</td>\n",
       "      <td>NFLX</td>\n",
       "    </tr>\n",
       "    <tr>\n",
       "      <th>2</th>\n",
       "      <td>2004</td>\n",
       "      <td>NaN</td>\n",
       "      <td>12</td>\n",
       "      <td>AAPL</td>\n",
       "    </tr>\n",
       "  </tbody>\n",
       "</table>\n",
       "</div>"
      ],
      "text/plain": [
       "   year   tic    fy ticker\n",
       "0  2001  MSFT  2002    NaN\n",
       "1  2002  TSLA  2003    NaN\n",
       "2  2003  AAPL  2004    NaN\n",
       "0  2001   NaN    12   MSFT\n",
       "1  2002   NaN    12   NFLX\n",
       "2  2004   NaN    12   AAPL"
      ]
     },
     "execution_count": 49,
     "metadata": {},
     "output_type": "execute_result"
    }
   ],
   "source": [
    "vertical = pd.concat([df1,df2], axis = 0)\n",
    "vertical"
   ]
  },
  {
   "cell_type": "code",
   "execution_count": 50,
   "id": "66fc9aee",
   "metadata": {},
   "outputs": [
    {
     "data": {
      "text/html": [
       "<div>\n",
       "<style scoped>\n",
       "    .dataframe tbody tr th:only-of-type {\n",
       "        vertical-align: middle;\n",
       "    }\n",
       "\n",
       "    .dataframe tbody tr th {\n",
       "        vertical-align: top;\n",
       "    }\n",
       "\n",
       "    .dataframe thead th {\n",
       "        text-align: right;\n",
       "    }\n",
       "</style>\n",
       "<table border=\"1\" class=\"dataframe\">\n",
       "  <thead>\n",
       "    <tr style=\"text-align: right;\">\n",
       "      <th></th>\n",
       "      <th>year</th>\n",
       "      <th>tic</th>\n",
       "      <th>fy</th>\n",
       "      <th>year</th>\n",
       "      <th>ticker</th>\n",
       "      <th>fy</th>\n",
       "    </tr>\n",
       "  </thead>\n",
       "  <tbody>\n",
       "    <tr>\n",
       "      <th>0</th>\n",
       "      <td>2001</td>\n",
       "      <td>MSFT</td>\n",
       "      <td>2002</td>\n",
       "      <td>2001</td>\n",
       "      <td>MSFT</td>\n",
       "      <td>12</td>\n",
       "    </tr>\n",
       "    <tr>\n",
       "      <th>1</th>\n",
       "      <td>2002</td>\n",
       "      <td>TSLA</td>\n",
       "      <td>2003</td>\n",
       "      <td>2002</td>\n",
       "      <td>NFLX</td>\n",
       "      <td>12</td>\n",
       "    </tr>\n",
       "    <tr>\n",
       "      <th>2</th>\n",
       "      <td>2003</td>\n",
       "      <td>AAPL</td>\n",
       "      <td>2004</td>\n",
       "      <td>2004</td>\n",
       "      <td>AAPL</td>\n",
       "      <td>12</td>\n",
       "    </tr>\n",
       "  </tbody>\n",
       "</table>\n",
       "</div>"
      ],
      "text/plain": [
       "   year   tic    fy  year ticker  fy\n",
       "0  2001  MSFT  2002  2001   MSFT  12\n",
       "1  2002  TSLA  2003  2002   NFLX  12\n",
       "2  2003  AAPL  2004  2004   AAPL  12"
      ]
     },
     "execution_count": 50,
     "metadata": {},
     "output_type": "execute_result"
    }
   ],
   "source": [
    "horizontal = pd.concat([df1,df2], axis=1)\n",
    "horizontal"
   ]
  },
  {
   "cell_type": "markdown",
   "id": "44bd6d8a",
   "metadata": {},
   "source": [
    "Note that, ``.concat()`` with ``axis=1`` is equivalent to ``.join()`` with ``how='outer'``. In other words, ``.concat()`` performs a merge on index. Its default ``join`` argument is set to ``outer`` but you can change that to perform any kind of join you want."
   ]
  },
  {
   "cell_type": "markdown",
   "id": "1835a382",
   "metadata": {},
   "source": [
    "# Reshaping datasets\n",
    "\n",
    "By reshaping a dataset we generally mean that we want to change the structure of the dataset so that either\n",
    "\n",
    "1. Some data stored in one column is converted to multiple columns (but the same row)\n",
    "    - In pandas, this is called \"unstacking\"\n",
    "    - Informally, we say that we are converting the dataset from long to wide\n",
    "    \n",
    "or\n",
    "\n",
    "2. Some data stored in multiple columns (but the same row) is converted to a single column\n",
    "    - In pandas, this is called \"stacking\"\n",
    "    - Informally, we say that we are converting the dataset from wide to long\n",
    "      \n",
    "See the official user guide page for more details on reshaping: https://pandas.pydata.org/pandas-docs/stable/user_guide/reshaping.html "
   ]
  },
  {
   "cell_type": "markdown",
   "id": "81770c17",
   "metadata": {},
   "source": [
    "## From long to wide (unstacking) with ``.pivot()``\n",
    "\n",
    "Syntax:\n",
    "```python\n",
    "DataFrame.pivot(index=None, columns=None, values=None)\n",
    "```"
   ]
  },
  {
   "cell_type": "markdown",
   "id": "c3515c80",
   "metadata": {},
   "source": [
    "Let's create an example dataset:"
   ]
  },
  {
   "cell_type": "code",
   "execution_count": 51,
   "id": "4b33192a",
   "metadata": {},
   "outputs": [
    {
     "data": {
      "text/html": [
       "<div>\n",
       "<style scoped>\n",
       "    .dataframe tbody tr th:only-of-type {\n",
       "        vertical-align: middle;\n",
       "    }\n",
       "\n",
       "    .dataframe tbody tr th {\n",
       "        vertical-align: top;\n",
       "    }\n",
       "\n",
       "    .dataframe thead th {\n",
       "        text-align: right;\n",
       "    }\n",
       "</style>\n",
       "<table border=\"1\" class=\"dataframe\">\n",
       "  <thead>\n",
       "    <tr style=\"text-align: right;\">\n",
       "      <th></th>\n",
       "      <th>portfolio</th>\n",
       "      <th>year</th>\n",
       "      <th>return</th>\n",
       "      <th>nfirms</th>\n",
       "    </tr>\n",
       "  </thead>\n",
       "  <tbody>\n",
       "    <tr>\n",
       "      <th>0</th>\n",
       "      <td>1</td>\n",
       "      <td>2005</td>\n",
       "      <td>0.10</td>\n",
       "      <td>5</td>\n",
       "    </tr>\n",
       "    <tr>\n",
       "      <th>1</th>\n",
       "      <td>1</td>\n",
       "      <td>2006</td>\n",
       "      <td>0.15</td>\n",
       "      <td>3</td>\n",
       "    </tr>\n",
       "    <tr>\n",
       "      <th>2</th>\n",
       "      <td>2</td>\n",
       "      <td>2005</td>\n",
       "      <td>0.05</td>\n",
       "      <td>4</td>\n",
       "    </tr>\n",
       "    <tr>\n",
       "      <th>3</th>\n",
       "      <td>2</td>\n",
       "      <td>2006</td>\n",
       "      <td>0.01</td>\n",
       "      <td>10</td>\n",
       "    </tr>\n",
       "  </tbody>\n",
       "</table>\n",
       "</div>"
      ],
      "text/plain": [
       "   portfolio  year  return  nfirms\n",
       "0          1  2005    0.10       5\n",
       "1          1  2006    0.15       3\n",
       "2          2  2005    0.05       4\n",
       "3          2  2006    0.01      10"
      ]
     },
     "execution_count": 51,
     "metadata": {},
     "output_type": "execute_result"
    }
   ],
   "source": [
    "long1 = pd.DataFrame({'portfolio':[1,1,2,2], \n",
    "                      'year': ['2005','2006','2005','2006'], \n",
    "                      'return': [0.1,0.15,0.05,0.01],\n",
    "                      'nfirms':[5,3,4,10]})\n",
    "long1"
   ]
  },
  {
   "cell_type": "markdown",
   "id": "4655c64c",
   "metadata": {},
   "source": [
    "For example, if we want to reshape the ``return`` data so that each ``year`` gets its own row (index value), and each ``portfolio`` gets its own column, we would use:"
   ]
  },
  {
   "cell_type": "code",
   "execution_count": 52,
   "id": "37df95cf",
   "metadata": {},
   "outputs": [
    {
     "data": {
      "text/html": [
       "<div>\n",
       "<style scoped>\n",
       "    .dataframe tbody tr th:only-of-type {\n",
       "        vertical-align: middle;\n",
       "    }\n",
       "\n",
       "    .dataframe tbody tr th {\n",
       "        vertical-align: top;\n",
       "    }\n",
       "\n",
       "    .dataframe thead th {\n",
       "        text-align: right;\n",
       "    }\n",
       "</style>\n",
       "<table border=\"1\" class=\"dataframe\">\n",
       "  <thead>\n",
       "    <tr style=\"text-align: right;\">\n",
       "      <th>portfolio</th>\n",
       "      <th>1</th>\n",
       "      <th>2</th>\n",
       "    </tr>\n",
       "    <tr>\n",
       "      <th>year</th>\n",
       "      <th></th>\n",
       "      <th></th>\n",
       "    </tr>\n",
       "  </thead>\n",
       "  <tbody>\n",
       "    <tr>\n",
       "      <th>2005</th>\n",
       "      <td>0.10</td>\n",
       "      <td>0.05</td>\n",
       "    </tr>\n",
       "    <tr>\n",
       "      <th>2006</th>\n",
       "      <td>0.15</td>\n",
       "      <td>0.01</td>\n",
       "    </tr>\n",
       "  </tbody>\n",
       "</table>\n",
       "</div>"
      ],
      "text/plain": [
       "portfolio     1     2\n",
       "year                 \n",
       "2005       0.10  0.05\n",
       "2006       0.15  0.01"
      ]
     },
     "execution_count": 52,
     "metadata": {},
     "output_type": "execute_result"
    }
   ],
   "source": [
    "wide = long1.pivot(index='year', columns = 'portfolio', values = 'return')\n",
    "wide"
   ]
  },
  {
   "cell_type": "code",
   "execution_count": 53,
   "id": "6ec528b2",
   "metadata": {},
   "outputs": [
    {
     "data": {
      "text/plain": [
       "Int64Index([1, 2], dtype='int64', name='portfolio')"
      ]
     },
     "execution_count": 53,
     "metadata": {},
     "output_type": "execute_result"
    }
   ],
   "source": [
    "wide.columns"
   ]
  },
  {
   "cell_type": "code",
   "execution_count": 54,
   "id": "91f8920e",
   "metadata": {},
   "outputs": [
    {
     "data": {
      "text/plain": [
       "Index(['2005', '2006'], dtype='object', name='year')"
      ]
     },
     "execution_count": 54,
     "metadata": {},
     "output_type": "execute_result"
    }
   ],
   "source": [
    "wide.index"
   ]
  },
  {
   "cell_type": "markdown",
   "id": "76f2d4e5",
   "metadata": {},
   "source": [
    "If we want to reshape both the ``return`` data and the ``nfirms`` data in the same way, at the same time:"
   ]
  },
  {
   "cell_type": "code",
   "execution_count": 55,
   "id": "64503dae",
   "metadata": {},
   "outputs": [
    {
     "data": {
      "text/html": [
       "<div>\n",
       "<style scoped>\n",
       "    .dataframe tbody tr th:only-of-type {\n",
       "        vertical-align: middle;\n",
       "    }\n",
       "\n",
       "    .dataframe tbody tr th {\n",
       "        vertical-align: top;\n",
       "    }\n",
       "\n",
       "    .dataframe thead tr th {\n",
       "        text-align: left;\n",
       "    }\n",
       "\n",
       "    .dataframe thead tr:last-of-type th {\n",
       "        text-align: right;\n",
       "    }\n",
       "</style>\n",
       "<table border=\"1\" class=\"dataframe\">\n",
       "  <thead>\n",
       "    <tr>\n",
       "      <th></th>\n",
       "      <th colspan=\"2\" halign=\"left\">return</th>\n",
       "      <th colspan=\"2\" halign=\"left\">nfirms</th>\n",
       "    </tr>\n",
       "    <tr>\n",
       "      <th>portfolio</th>\n",
       "      <th>1</th>\n",
       "      <th>2</th>\n",
       "      <th>1</th>\n",
       "      <th>2</th>\n",
       "    </tr>\n",
       "    <tr>\n",
       "      <th>year</th>\n",
       "      <th></th>\n",
       "      <th></th>\n",
       "      <th></th>\n",
       "      <th></th>\n",
       "    </tr>\n",
       "  </thead>\n",
       "  <tbody>\n",
       "    <tr>\n",
       "      <th>2005</th>\n",
       "      <td>0.10</td>\n",
       "      <td>0.05</td>\n",
       "      <td>5.0</td>\n",
       "      <td>4.0</td>\n",
       "    </tr>\n",
       "    <tr>\n",
       "      <th>2006</th>\n",
       "      <td>0.15</td>\n",
       "      <td>0.01</td>\n",
       "      <td>3.0</td>\n",
       "      <td>10.0</td>\n",
       "    </tr>\n",
       "  </tbody>\n",
       "</table>\n",
       "</div>"
      ],
      "text/plain": [
       "          return       nfirms      \n",
       "portfolio      1     2      1     2\n",
       "year                               \n",
       "2005        0.10  0.05    5.0   4.0\n",
       "2006        0.15  0.01    3.0  10.0"
      ]
     },
     "execution_count": 55,
     "metadata": {},
     "output_type": "execute_result"
    }
   ],
   "source": [
    "wide2 = long1.pivot(index='year', columns='portfolio', values=['return','nfirms'])\n",
    "wide2"
   ]
  },
  {
   "cell_type": "markdown",
   "id": "21dfdeec",
   "metadata": {},
   "source": [
    "Note that now the column labels are two-dimensional:"
   ]
  },
  {
   "cell_type": "code",
   "execution_count": 56,
   "id": "f17f4a2d",
   "metadata": {},
   "outputs": [
    {
     "data": {
      "text/plain": [
       "MultiIndex([('return', 1),\n",
       "            ('return', 2),\n",
       "            ('nfirms', 1),\n",
       "            ('nfirms', 2)],\n",
       "           names=[None, 'portfolio'])"
      ]
     },
     "execution_count": 56,
     "metadata": {},
     "output_type": "execute_result"
    }
   ],
   "source": [
    "wide2.columns"
   ]
  },
  {
   "cell_type": "code",
   "execution_count": 57,
   "id": "7f646149",
   "metadata": {},
   "outputs": [
    {
     "data": {
      "text/plain": [
       "Index(['2005', '2006'], dtype='object', name='year')"
      ]
     },
     "execution_count": 57,
     "metadata": {},
     "output_type": "execute_result"
    }
   ],
   "source": [
    "wide2.index"
   ]
  },
  {
   "cell_type": "markdown",
   "id": "f6c2e564",
   "metadata": {},
   "source": [
    "Unstacking based on values in the index can be done using the ``.unstack()`` function (usually for datasets with a MultiIndex)."
   ]
  },
  {
   "cell_type": "markdown",
   "id": "65a49d3b",
   "metadata": {},
   "source": [
    "## From wide to long (stacking) with ``.stack()``\n",
    "\n",
    "We can stack the data back up to a \"long\" shape, based on information in the index of that dataframe.\n",
    "\n",
    "Syntax:\n",
    "```python\n",
    "DataFrame.stack(level=-1, dropna=True)\n",
    "```\n",
    "\n",
    "The ``level`` parameter is used in case the dataframe we want to reshape has a MultiIndex in the columns i.e. multi-dimensional column names (like ``wide2`` above). The default ``level=-1`` works for dataframes that were reshaped from a different dataframe (like ``wide2`` above). In that case ``level=-1`` tells Python to just undo that reshaping:"
   ]
  },
  {
   "cell_type": "code",
   "execution_count": 58,
   "id": "9b12f3c9",
   "metadata": {},
   "outputs": [
    {
     "data": {
      "text/html": [
       "<div>\n",
       "<style scoped>\n",
       "    .dataframe tbody tr th:only-of-type {\n",
       "        vertical-align: middle;\n",
       "    }\n",
       "\n",
       "    .dataframe tbody tr th {\n",
       "        vertical-align: top;\n",
       "    }\n",
       "\n",
       "    .dataframe thead th {\n",
       "        text-align: right;\n",
       "    }\n",
       "</style>\n",
       "<table border=\"1\" class=\"dataframe\">\n",
       "  <thead>\n",
       "    <tr style=\"text-align: right;\">\n",
       "      <th></th>\n",
       "      <th></th>\n",
       "      <th>return</th>\n",
       "      <th>nfirms</th>\n",
       "    </tr>\n",
       "    <tr>\n",
       "      <th>year</th>\n",
       "      <th>portfolio</th>\n",
       "      <th></th>\n",
       "      <th></th>\n",
       "    </tr>\n",
       "  </thead>\n",
       "  <tbody>\n",
       "    <tr>\n",
       "      <th rowspan=\"2\" valign=\"top\">2005</th>\n",
       "      <th>1</th>\n",
       "      <td>0.10</td>\n",
       "      <td>5.0</td>\n",
       "    </tr>\n",
       "    <tr>\n",
       "      <th>2</th>\n",
       "      <td>0.05</td>\n",
       "      <td>4.0</td>\n",
       "    </tr>\n",
       "    <tr>\n",
       "      <th rowspan=\"2\" valign=\"top\">2006</th>\n",
       "      <th>1</th>\n",
       "      <td>0.15</td>\n",
       "      <td>3.0</td>\n",
       "    </tr>\n",
       "    <tr>\n",
       "      <th>2</th>\n",
       "      <td>0.01</td>\n",
       "      <td>10.0</td>\n",
       "    </tr>\n",
       "  </tbody>\n",
       "</table>\n",
       "</div>"
      ],
      "text/plain": [
       "                return  nfirms\n",
       "year portfolio                \n",
       "2005 1            0.10     5.0\n",
       "     2            0.05     4.0\n",
       "2006 1            0.15     3.0\n",
       "     2            0.01    10.0"
      ]
     },
     "execution_count": 58,
     "metadata": {},
     "output_type": "execute_result"
    }
   ],
   "source": [
    "long3 = wide2.stack()\n",
    "long3"
   ]
  },
  {
   "cell_type": "markdown",
   "id": "9ffc2b1a",
   "metadata": {},
   "source": [
    "If we want to stack the information in the first dimension of the column MultiIndex (i.e. the part that contains \"return\" and \"nfirms\"), then we use ``level=0``:"
   ]
  },
  {
   "cell_type": "code",
   "execution_count": 59,
   "id": "867ad45d",
   "metadata": {},
   "outputs": [
    {
     "data": {
      "text/html": [
       "<div>\n",
       "<style scoped>\n",
       "    .dataframe tbody tr th:only-of-type {\n",
       "        vertical-align: middle;\n",
       "    }\n",
       "\n",
       "    .dataframe tbody tr th {\n",
       "        vertical-align: top;\n",
       "    }\n",
       "\n",
       "    .dataframe thead th {\n",
       "        text-align: right;\n",
       "    }\n",
       "</style>\n",
       "<table border=\"1\" class=\"dataframe\">\n",
       "  <thead>\n",
       "    <tr style=\"text-align: right;\">\n",
       "      <th></th>\n",
       "      <th>portfolio</th>\n",
       "      <th>1</th>\n",
       "      <th>2</th>\n",
       "    </tr>\n",
       "    <tr>\n",
       "      <th>year</th>\n",
       "      <th></th>\n",
       "      <th></th>\n",
       "      <th></th>\n",
       "    </tr>\n",
       "  </thead>\n",
       "  <tbody>\n",
       "    <tr>\n",
       "      <th rowspan=\"2\" valign=\"top\">2005</th>\n",
       "      <th>nfirms</th>\n",
       "      <td>5.00</td>\n",
       "      <td>4.00</td>\n",
       "    </tr>\n",
       "    <tr>\n",
       "      <th>return</th>\n",
       "      <td>0.10</td>\n",
       "      <td>0.05</td>\n",
       "    </tr>\n",
       "    <tr>\n",
       "      <th rowspan=\"2\" valign=\"top\">2006</th>\n",
       "      <th>nfirms</th>\n",
       "      <td>3.00</td>\n",
       "      <td>10.00</td>\n",
       "    </tr>\n",
       "    <tr>\n",
       "      <th>return</th>\n",
       "      <td>0.15</td>\n",
       "      <td>0.01</td>\n",
       "    </tr>\n",
       "  </tbody>\n",
       "</table>\n",
       "</div>"
      ],
      "text/plain": [
       "portfolio       1      2\n",
       "year                    \n",
       "2005 nfirms  5.00   4.00\n",
       "     return  0.10   0.05\n",
       "2006 nfirms  3.00  10.00\n",
       "     return  0.15   0.01"
      ]
     },
     "execution_count": 59,
     "metadata": {},
     "output_type": "execute_result"
    }
   ],
   "source": [
    "wide2.stack(level=0)"
   ]
  },
  {
   "cell_type": "code",
   "execution_count": 60,
   "id": "984cb84d",
   "metadata": {},
   "outputs": [
    {
     "data": {
      "text/html": [
       "<div>\n",
       "<style scoped>\n",
       "    .dataframe tbody tr th:only-of-type {\n",
       "        vertical-align: middle;\n",
       "    }\n",
       "\n",
       "    .dataframe tbody tr th {\n",
       "        vertical-align: top;\n",
       "    }\n",
       "\n",
       "    .dataframe thead tr th {\n",
       "        text-align: left;\n",
       "    }\n",
       "\n",
       "    .dataframe thead tr:last-of-type th {\n",
       "        text-align: right;\n",
       "    }\n",
       "</style>\n",
       "<table border=\"1\" class=\"dataframe\">\n",
       "  <thead>\n",
       "    <tr>\n",
       "      <th></th>\n",
       "      <th colspan=\"2\" halign=\"left\">return</th>\n",
       "      <th colspan=\"2\" halign=\"left\">nfirms</th>\n",
       "    </tr>\n",
       "    <tr>\n",
       "      <th>portfolio</th>\n",
       "      <th>1</th>\n",
       "      <th>2</th>\n",
       "      <th>1</th>\n",
       "      <th>2</th>\n",
       "    </tr>\n",
       "    <tr>\n",
       "      <th>year</th>\n",
       "      <th></th>\n",
       "      <th></th>\n",
       "      <th></th>\n",
       "      <th></th>\n",
       "    </tr>\n",
       "  </thead>\n",
       "  <tbody>\n",
       "    <tr>\n",
       "      <th>2005</th>\n",
       "      <td>0.10</td>\n",
       "      <td>0.05</td>\n",
       "      <td>5.0</td>\n",
       "      <td>4.0</td>\n",
       "    </tr>\n",
       "    <tr>\n",
       "      <th>2006</th>\n",
       "      <td>0.15</td>\n",
       "      <td>0.01</td>\n",
       "      <td>3.0</td>\n",
       "      <td>10.0</td>\n",
       "    </tr>\n",
       "  </tbody>\n",
       "</table>\n",
       "</div>"
      ],
      "text/plain": [
       "          return       nfirms      \n",
       "portfolio      1     2      1     2\n",
       "year                               \n",
       "2005        0.10  0.05    5.0   4.0\n",
       "2006        0.15  0.01    3.0  10.0"
      ]
     },
     "execution_count": 60,
     "metadata": {},
     "output_type": "execute_result"
    }
   ],
   "source": [
    "wide2"
   ]
  },
  {
   "cell_type": "markdown",
   "id": "9ffc2b1a",
   "metadata": {},
   "source": [
    "If we want to stack the information in the second dimension of the column MultiIndex (i.e. the part that contains 1's and 2's), then we use ``level=1``:"
   ]
  },
  {
   "cell_type": "code",
   "execution_count": 61,
   "id": "58145457",
   "metadata": {},
   "outputs": [
    {
     "data": {
      "text/html": [
       "<div>\n",
       "<style scoped>\n",
       "    .dataframe tbody tr th:only-of-type {\n",
       "        vertical-align: middle;\n",
       "    }\n",
       "\n",
       "    .dataframe tbody tr th {\n",
       "        vertical-align: top;\n",
       "    }\n",
       "\n",
       "    .dataframe thead th {\n",
       "        text-align: right;\n",
       "    }\n",
       "</style>\n",
       "<table border=\"1\" class=\"dataframe\">\n",
       "  <thead>\n",
       "    <tr style=\"text-align: right;\">\n",
       "      <th></th>\n",
       "      <th></th>\n",
       "      <th>return</th>\n",
       "      <th>nfirms</th>\n",
       "    </tr>\n",
       "    <tr>\n",
       "      <th>year</th>\n",
       "      <th>portfolio</th>\n",
       "      <th></th>\n",
       "      <th></th>\n",
       "    </tr>\n",
       "  </thead>\n",
       "  <tbody>\n",
       "    <tr>\n",
       "      <th rowspan=\"2\" valign=\"top\">2005</th>\n",
       "      <th>1</th>\n",
       "      <td>0.10</td>\n",
       "      <td>5.0</td>\n",
       "    </tr>\n",
       "    <tr>\n",
       "      <th>2</th>\n",
       "      <td>0.05</td>\n",
       "      <td>4.0</td>\n",
       "    </tr>\n",
       "    <tr>\n",
       "      <th rowspan=\"2\" valign=\"top\">2006</th>\n",
       "      <th>1</th>\n",
       "      <td>0.15</td>\n",
       "      <td>3.0</td>\n",
       "    </tr>\n",
       "    <tr>\n",
       "      <th>2</th>\n",
       "      <td>0.01</td>\n",
       "      <td>10.0</td>\n",
       "    </tr>\n",
       "  </tbody>\n",
       "</table>\n",
       "</div>"
      ],
      "text/plain": [
       "                return  nfirms\n",
       "year portfolio                \n",
       "2005 1            0.10     5.0\n",
       "     2            0.05     4.0\n",
       "2006 1            0.15     3.0\n",
       "     2            0.01    10.0"
      ]
     },
     "execution_count": 61,
     "metadata": {},
     "output_type": "execute_result"
    }
   ],
   "source": [
    "wide2.stack(level=1)"
   ]
  }
 ],
 "metadata": {
  "interpreter": {
   "hash": "5c65ce2fea2f0c67157032582cff07b1c9d083b283061c8d8524588d6f489174"
  },
  "kernelspec": {
   "display_name": "Python 3.9.12 ('base')",
   "language": "python",
   "name": "python3"
  },
  "language_info": {
   "codemirror_mode": {
    "name": "ipython",
    "version": 3
   },
   "file_extension": ".py",
   "mimetype": "text/x-python",
   "name": "python",
   "nbconvert_exporter": "python",
   "pygments_lexer": "ipython3",
   "version": "3.9.12"
  },
  "toc": {
   "base_numbering": 1,
   "nav_menu": {},
   "number_sections": true,
   "sideBar": true,
   "skip_h1_title": false,
   "title_cell": "Table of Contents",
   "title_sidebar": "Contents",
   "toc_cell": true,
   "toc_position": {},
   "toc_section_display": true,
   "toc_window_display": false
  }
 },
 "nbformat": 4,
 "nbformat_minor": 5
}
