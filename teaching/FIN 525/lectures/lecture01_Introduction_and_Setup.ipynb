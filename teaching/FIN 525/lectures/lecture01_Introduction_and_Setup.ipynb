{
 "cells": [
  {
   "cell_type": "raw",
   "metadata": {},
   "source": [
    "---\n",
    "title: \"L01: Introduction\"\n",
    "---"
   ]
  },
  {
   "cell_type": "markdown",
   "metadata": {},
   "source": [
    "# Topics covered in this course\n",
    "        \n",
    "- The fundamentals of programming in Python\n",
    "    - Variables and basic data types (int, float, str, bool)\n",
    "    - Data structures (lists, tuples, dictionaries)\n",
    "    - Conditional statements (\"if/else\" else)\n",
    "    - Iteration (\"for\" loops)\n",
    "    - Functions (\"def\" statement)\n",
    "    - The \"dot\" notation (everything in Python is an \"object\")\n",
    "    - Interpreting error messages (almost everything in an error message is useless)\n",
    "    - Finding answers online (documentation files, Google is your friend, stackoverflow)\n"
   ]
  },
  {
   "cell_type": "markdown",
   "metadata": {},
   "source": [
    "- Data processing\n",
    "    - Data Input/Output (IO)\n",
    "    - Data cleaning\n",
    "    - Dates and lags\n",
    "    - Merging datasets"
   ]
  },
  {
   "cell_type": "markdown",
   "metadata": {},
   "source": [
    "- Descriptive statistics and data visualization\n",
    "    - Unconditional (full-sample) statistics and visualization\n",
    "    - Conditional (subsample) statistics and visualization"
   ]
  },
  {
   "cell_type": "markdown",
   "metadata": {},
   "source": [
    "- Linear Regression\n",
    "    - Fundamentals of linear regression\n",
    "    - Robust linear regression in panel and time-series datasets"
   ]
  },
  {
   "cell_type": "markdown",
   "metadata": {},
   "source": [
    "    \n",
    "- Backtesting investment strategies (academic paper replication)\n",
    "    - Collecting and cleaning the data\n",
    "    - Calculating portfolio returns\n",
    "    - Analyzing portfolio performance\n",
    "\n",
    "    \n",
    "Note that these topics are subject to change, based on how the tempo of the class is going. You will be notified when changes are made."
   ]
  },
  {
   "cell_type": "markdown",
   "metadata": {},
   "source": [
    "# Anaconda, Jupyter, and VS Code installation\n",
    "\n",
    "To install Python, we will actually install a different program, called Anaconda, which comes with Python and many other tools frequently used in Data Science. Anaconda takes a lot more space than Python itself, but the benefit is that it comes with everything you need for this course (and likely any other course you will ever take on Machine Learning or Data Science). Once you install Anaconda, install Jupyter Notebook and VS Code following the instructions below.\n",
    "\n",
    "### Installing Anaconda\n",
    "\n",
    "1. Go to https://www.anaconda.com/products/individual\n",
    "2. Click \"Download\" and then select the \"64-Bit Graphical Installer\" for your operating system\n",
    "    - I am assuming you all have 64-bit systems\n",
    "    - If you have a 32-bit Windows system, you also have the option to download a 32-bit Anaconda installer\n",
    "3. Follow the instructions on the screen\n",
    "    - For additional instructions on installation, see the \"Resources\" section below\n",
    "    - When in doubt, use the default settings suggested by the Anaconda installer\n",
    "    \n",
    "To open Anaconda:\n",
    "\n",
    "- Windows\n",
    "    - From the Start menu, click the Anaconda Navigator desktop app\n",
    "- macOS\n",
    "    - Open Launchpad, then click the Anaconda Navigator icon\n",
    " \n",
    "For all of our classes, we will use Jupyter Notebooks, which you can install from inside Anaconda like this:\n",
    "\n",
    "### Installing Jupyter Notebook\n",
    "\n",
    "- On Anaconda Navigator’s Home tab, in the Applications pane on the right, scroll to the Jupyter Notebook (not JupyterLab) tile and click the Install button to install Jupyter Notebook\n",
    "\n",
    "### Installing VS Code\n",
    "This is an IDE (integrated development environment) that can run Jupyter notebooks too. I will be using it during class, but you do not have to (as explained in the following section). I strongly recommend you install it though, since it comes with some very useful functionality when writing code (e.g. autocompletion, integrated terminal etc). \n",
    "\n",
    "To install VS Code:"
   ]
  },
  {
   "cell_type": "markdown",
   "metadata": {},
   "source": [
    "- Go to https://code.visualstudio.com/download \n",
    "    - On Windows, click on the \"User Installer\" \"x64\" tile under \"Windows\"\n",
    "    - On Mac, click on \".zip\" \"Apple Silicon\" if you have an M1 or M2 Mac, or \"Intel Chip\" if you have an older Mac.\n",
    "- Follow the installer's instructions after the download is complete\n"
   ]
  },
  {
   "cell_type": "markdown",
   "metadata": {},
   "source": [
    "# How to open the lecture notes\n",
    "\n",
    "In D2L, click on the \"Lectures and Data\" tab. You will see a set of subfolders inside that tab. Please replicate that exact subfolder structure somewhere on your computer (say inside a folder called FIN525). Save all the contents of the \"data\" folder in your \"data\" folder. Before each class, save the contents of the \"lectureXX\" folder for that class into the \"lectureXX\" folder on your computer where XX stands the lecture number corresponding to that class.\n",
    "\n",
    "There are (at least) three ways you can open a particular lecture (a Jupyter notebook) on your computer:"
   ]
  },
  {
   "cell_type": "markdown",
   "metadata": {},
   "source": [
    "- METHOD 1 (recommended):\n",
    "    - Open VS Code\n",
    "    - Click \"Open Folder\" one the welcome page or under the \"File\" menu\n",
    "    - Navigate to the folder that contains your lecture notes and hit \"Enter\"\n",
    "    - This folder should show up on the right side of the screen. Find the lecture notes you want to open and double click them."
   ]
  },
  {
   "cell_type": "markdown",
   "metadata": {},
   "source": [
    "- METHOD 2:\n",
    "    - Open Anaconda Navigator, find the Jupyter Notebook tile in the pane on the right, and hit \"Launch\". This will open a web browser showing a directory structure on your computer. Use that to navigate to the lecture you want to open and click on it."
   ]
  },
  {
   "cell_type": "markdown",
   "metadata": {},
   "source": [
    " - METHOD 3:\n",
    "    - Navigate to the folder containing the lecture you want to open on your computer. Copy the full path to that folder: \n",
    "        - on Windows: double-click your folder and then click the navigation bar at the top of the window\n",
    "        - on macOS: see \"Resources\" below\n",
    "    - Open a terminal like this: \n",
    "        - on Windows: from the Start menu, search for and open “Anaconda Prompt”\n",
    "        - on macOS: open Launchpad, then click the Terminal icon\n",
    "    - In the terminal, type \"cd\" (without the quotes) and then paste the path to your lectures folder you copied above. Hit enter.\n",
    "    - In the same terminal, type \"jupyter notebook\" (without the quotes) and hit enter.\n",
    "    - This process should have opened a browser showing all the file in your lectures folder. Open a lecture by just clicking on it in this web browser.    "
   ]
  },
  {
   "cell_type": "markdown",
   "metadata": {},
   "source": [
    "# Installing Python packages\n",
    "\n",
    "Anaconda will allow you to easily install new Python packages (pieces of code written by someone else). There are two methods to do this (though depending on the package, only one of them might work):\n",
    "\n",
    "- METHOD 1: using \"conda\"\n",
    "    - Open a new terminal as described above\n",
    "    - Type \"conda install\" (without quotes) followed by the name(s) of the Python package(s) you want to install. Hit enter.\n",
    "- METHOD 2: using \"pip\"\n",
    "    - Open a new terminal as described above\n",
    "    - Type \"pip install\" (without quotes) followed by the name(s) of the Python package(s) you want to install. Hit enter.\n",
    "I recommend using \"pip\" only if \"conda\" gives you an error.\n",
    "    \n",
    "**Example:** \n",
    "\n",
    "A package that we will use almost daily in class, is called \"yfinance\" and it allows us to download data from Yahoo Finance with just one Python command.\n",
    "\n",
    "To install \"yfinance\", open a new terminal and type:\n",
    "    \n",
    "    pip install yfinance\n",
    "\n",
    "The reason why we use \"pip install\" here, rather than \"conda install\" is because the latter results in some errors for some users and it seems like the pip installation is more stable. \n",
    "\n",
    "Other packages we will use frequently in class:\n",
    "\n",
    "- pandas\n",
    "- numpy\n",
    "- matplotlib\n",
    "\n",
    "They all come pre-installed with Anaconda. "
   ]
  },
  {
   "cell_type": "markdown",
   "metadata": {},
   "source": [
    "# Downloading data from WRDS (OPTIONAL)\n",
    "\n",
    "Wharton Research Data Services (WRDS) is one of the the most widely used database service in academic finance research. It provides access to many different kinds of data, but for this class, we will only use CRSP and Compustat data:\n",
    "\n",
    "- CRSP contains stock market data (stock prices, returns, volume, etc.). This is the \"crspm.zip\" file in the \"data\" folder on D2L.\n",
    "- Compustat contains accounting data (all data from the three main financial statements). This is the \"crspa.zip\" file in the \"data\" folder on D2L.\n",
    "\n",
    "I have created a class account for you with WRDS. Please use the information in the Syllabus to log in. \n",
    "\n",
    "The download instructions below are only here for your reference in case you need to download these datasets later on (e.g. for your summer projects). However, for the purpose of this class, I wanted to make sure everyone will work with the same data (and get the same results) so I downloaded the two datasets mentioned above and uploaded them on D2L. They are under the \"Lectures and Data\" tab, in the \"data\" folder. The CRSP monthly file is called \"crspm\" and the Compustat annual file is called \"compa\". I also downloaded the Fama-French risk factor file and called it \"ff\" on D2L. Please download that as well."
   ]
  },
  {
   "cell_type": "markdown",
   "metadata": {},
   "source": [
    "### Downloading monthly stock-market data from CRSP:\n",
    "- Home &rarr; CRSP &rarr; Stock/Security File &rarr; Monthly Stock File\n",
    "- STEP 1: Select start & end dates for your dataset\n",
    "- STEP 2: Select PERMNO and \"Search the entire database” \n",
    "- STEP 3: Click \"Select all\" to request all variables, or click on just the ones you want\n",
    "- STEP 4: Leave everything as is, though, I would choose \"gzip\" for compression to speed things along (you can extract gzip files on Windows with the \"7zip\" software available for free on the internet)"
   ]
  },
  {
   "cell_type": "markdown",
   "metadata": {},
   "source": [
    "### Downloading annual accounting data from Compustat:\n",
    "- Home &rarr; CRSP &rarr; CRSP/Compustat Merged &rarr; Fundamentals Annual \n",
    "- STEP 1: Select start & end dates for your dataset\n",
    "- STEP 2: Select PERMNO and \"Search the entire database”. Leave \"Screening Variables\" unchanged\n",
    "- STEP 3: Leave unchanged\n",
    "- STEP 4: Click \"Select all\" to request all variables, or click on just the ones you want. Leave \"Conditional Statements\" unchanged.\n",
    "- STEP 5: Again, leave unchanged if you don't mind waiting. Use gzip if you know how to extract compressed files.\n",
    "    \n"
   ]
  },
  {
   "cell_type": "markdown",
   "metadata": {},
   "source": [
    "# For next class\n",
    "\n",
    "1. Make sure you have Anaconda, Jupyter Notebook, and VS Code installed and running on your computer before class. \n",
    "\n",
    "2. Create a folder on your computer which contains the same subfolder structure you see in D2L under \"Lectures and Data\" (as explained in the \"How to open the lecture notes\" section above.)\n",
    "\n",
    "3. Open a Terminal, type the following command and hit enter:\n",
    "    - pip install yfinance pandas-datareader statsmodels linearmodels\n",
    "       \n",
    "4. Open a Terminal, type the following command and hit enter:\n",
    "    - conda install -y openpyxl xlrd"
   ]
  },
  {
   "cell_type": "markdown",
   "metadata": {},
   "source": [
    "# Resources\n",
    "\n",
    "- Anaconda installation instructions:\n",
    "    - https://docs.anaconda.com/anaconda/install/\n",
    "\n",
    "\n",
    "- Getting started with Anaconda:\n",
    "    - https://docs.anaconda.com/anaconda/user-guide/getting-started/\n",
    "\n",
    "\n",
    "- Installing packages:\n",
    "    - https://docs.anaconda.com/anaconda/user-guide/tasks/install-packages/\n",
    "    \n",
    "    \n",
    "- Copy folder path on macOS:\n",
    "    - https://www.switchingtomac.com/tutorials/osx/5-ways-to-reveal-the-path-of-a-file-on-macos/\n",
    "\n",
    "\n",
    "- WRDS login page\n",
    "    - https://wrds-www.wharton.upenn.edu/"
   ]
  }
 ],
 "metadata": {
  "hide_input": false,
  "kernelspec": {
   "display_name": "base",
   "language": "python",
   "name": "python3"
  },
  "language_info": {
   "codemirror_mode": {
    "name": "ipython",
    "version": 3
   },
   "file_extension": ".py",
   "mimetype": "text/x-python",
   "name": "python",
   "nbconvert_exporter": "python",
   "pygments_lexer": "ipython3",
   "version": "3.9.12"
  },
  "nteract": {
   "version": "0.28.0"
  },
  "toc": {
   "base_numbering": 1,
   "nav_menu": {},
   "number_sections": true,
   "sideBar": true,
   "skip_h1_title": false,
   "title_cell": "Table of Contents",
   "title_sidebar": "Contents",
   "toc_cell": true,
   "toc_position": {
    "height": "47.71px",
    "left": "766px",
    "top": "199.14px",
    "width": "165px"
   },
   "toc_section_display": true,
   "toc_window_display": false
  },
  "toc-autonumbering": true,
  "toc-showmarkdowntxt": false,
  "varInspector": {
   "cols": {
    "lenName": 16,
    "lenType": 16,
    "lenVar": 40
   },
   "kernels_config": {
    "python": {
     "delete_cmd_postfix": "",
     "delete_cmd_prefix": "del ",
     "library": "var_list.py",
     "varRefreshCmd": "print(var_dic_list())"
    },
    "r": {
     "delete_cmd_postfix": ") ",
     "delete_cmd_prefix": "rm(",
     "library": "var_list.r",
     "varRefreshCmd": "cat(var_dic_list()) "
    }
   },
   "types_to_exclude": [
    "module",
    "function",
    "builtin_function_or_method",
    "instance",
    "_Feature"
   ],
   "window_display": false
  },
  "vscode": {
   "interpreter": {
    "hash": "5c65ce2fea2f0c67157032582cff07b1c9d083b283061c8d8524588d6f489174"
   }
  }
 },
 "nbformat": 4,
 "nbformat_minor": 4
}
