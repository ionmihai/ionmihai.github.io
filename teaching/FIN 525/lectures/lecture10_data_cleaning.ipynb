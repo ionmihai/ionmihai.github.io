{
 "cells": [
  {
   "cell_type": "markdown",
   "id": "3d1fa3cb",
   "metadata": {
    "toc": true
   },
   "source": [
    "<h1>Table of Contents<span class=\"tocSkip\"></span></h1>\n",
    "<div class=\"toc\"><ul class=\"toc-item\"><li><span><a href=\"#Preliminaries\" data-toc-modified-id=\"Preliminaries-1\"><span class=\"toc-item-num\">1&nbsp;&nbsp;</span>Preliminaries</a></span></li><li><span><a href=\"#Missing-values\" data-toc-modified-id=\"Missing-values-2\"><span class=\"toc-item-num\">2&nbsp;&nbsp;</span>Missing values</a></span></li><li><span><a href=\"#Changing-data-types\" data-toc-modified-id=\"Changing-data-types-3\"><span class=\"toc-item-num\">3&nbsp;&nbsp;</span>Changing data types</a></span><ul class=\"toc-item\"><li><span><a href=\"#The-&quot;.astype&quot;-attribute\" data-toc-modified-id=\"The-&quot;.astype&quot;-attribute-3.1\"><span class=\"toc-item-num\">3.1&nbsp;&nbsp;</span>The \".astype\" attribute</a></span></li><li><span><a href=\"#The-&quot;.to_numeric&quot;-attribute\" data-toc-modified-id=\"The-&quot;.to_numeric&quot;-attribute-3.2\"><span class=\"toc-item-num\">3.2&nbsp;&nbsp;</span>The \".to_numeric\" attribute</a></span></li></ul></li><li><span><a href=\"#Duplicates-and-counts\" data-toc-modified-id=\"Duplicates-and-counts-4\"><span class=\"toc-item-num\">4&nbsp;&nbsp;</span>Duplicates and counts</a></span><ul class=\"toc-item\"><li><span><a href=\"#.duplicated\" data-toc-modified-id=\".duplicated-4.1\"><span class=\"toc-item-num\">4.1&nbsp;&nbsp;</span>.duplicated</a></span></li><li><span><a href=\"#.value_counts()\" data-toc-modified-id=\".value_counts()-4.2\"><span class=\"toc-item-num\">4.2&nbsp;&nbsp;</span>.value_counts()</a></span></li></ul></li><li><span><a href=\"#Operating-on-text-data-(strings)\" data-toc-modified-id=\"Operating-on-text-data-(strings)-5\"><span class=\"toc-item-num\">5&nbsp;&nbsp;</span>Operating on text data (strings)</a></span><ul class=\"toc-item\"><li><span><a href=\"#Slicing-into-string-data\" data-toc-modified-id=\"Slicing-into-string-data-5.1\"><span class=\"toc-item-num\">5.1&nbsp;&nbsp;</span>Slicing into string data</a></span></li><li><span><a href=\"#Converting-to-lower-case-or-upper-case\" data-toc-modified-id=\"Converting-to-lower-case-or-upper-case-5.2\"><span class=\"toc-item-num\">5.2&nbsp;&nbsp;</span>Converting to lower case or upper case</a></span></li><li><span><a href=\"#Substrings\" data-toc-modified-id=\"Substrings-5.3\"><span class=\"toc-item-num\">5.3&nbsp;&nbsp;</span>Substrings</a></span></li><li><span><a href=\"#Splitting\" data-toc-modified-id=\"Splitting-5.4\"><span class=\"toc-item-num\">5.4&nbsp;&nbsp;</span>Splitting</a></span></li><li><span><a href=\"#Stripping-white-spaces\" data-toc-modified-id=\"Stripping-white-spaces-5.5\"><span class=\"toc-item-num\">5.5&nbsp;&nbsp;</span>Stripping white spaces</a></span></li><li><span><a href=\"#Chaining-.str-methods\" data-toc-modified-id=\"Chaining-.str-methods-5.6\"><span class=\"toc-item-num\">5.6&nbsp;&nbsp;</span>Chaining .str methods</a></span></li></ul></li></ul></div>"
   ]
  },
  {
   "cell_type": "markdown",
   "id": "a6fcab21",
   "metadata": {},
   "source": [
    "# Preliminaries"
   ]
  },
  {
   "cell_type": "code",
   "execution_count": 48,
   "id": "0a962525",
   "metadata": {},
   "outputs": [],
   "source": [
    "import pandas as pd\n",
    "import numpy as np"
   ]
  },
  {
   "cell_type": "code",
   "execution_count": 49,
   "id": "697bd979",
   "metadata": {},
   "outputs": [
    {
     "data": {
      "text/html": [
       "<div>\n",
       "<style scoped>\n",
       "    .dataframe tbody tr th:only-of-type {\n",
       "        vertical-align: middle;\n",
       "    }\n",
       "\n",
       "    .dataframe tbody tr th {\n",
       "        vertical-align: top;\n",
       "    }\n",
       "\n",
       "    .dataframe thead th {\n",
       "        text-align: right;\n",
       "    }\n",
       "</style>\n",
       "<table border=\"1\" class=\"dataframe\">\n",
       "  <thead>\n",
       "    <tr style=\"text-align: right;\">\n",
       "      <th></th>\n",
       "      <th>firmid</th>\n",
       "      <th>date</th>\n",
       "      <th>return</th>\n",
       "      <th>industry</th>\n",
       "      <th>ind_code</th>\n",
       "    </tr>\n",
       "  </thead>\n",
       "  <tbody>\n",
       "    <tr>\n",
       "      <th>0</th>\n",
       "      <td>1</td>\n",
       "      <td>12/31/2008</td>\n",
       "      <td>0.05</td>\n",
       "      <td>Finance</td>\n",
       "      <td>1</td>\n",
       "    </tr>\n",
       "    <tr>\n",
       "      <th>1</th>\n",
       "      <td>2</td>\n",
       "      <td>NaN</td>\n",
       "      <td>0.45</td>\n",
       "      <td>Construction</td>\n",
       "      <td>2</td>\n",
       "    </tr>\n",
       "    <tr>\n",
       "      <th>2</th>\n",
       "      <td>3</td>\n",
       "      <td>12/31/2008</td>\n",
       "      <td>23.00</td>\n",
       "      <td>NaN</td>\n",
       "      <td>M</td>\n",
       "    </tr>\n",
       "    <tr>\n",
       "      <th>3</th>\n",
       "      <td>1</td>\n",
       "      <td>12/31/2009</td>\n",
       "      <td>0.87</td>\n",
       "      <td>Finance</td>\n",
       "      <td>1</td>\n",
       "    </tr>\n",
       "    <tr>\n",
       "      <th>4</th>\n",
       "      <td>2</td>\n",
       "      <td>12/31/2009</td>\n",
       "      <td>NaN</td>\n",
       "      <td>Construct</td>\n",
       "      <td>2</td>\n",
       "    </tr>\n",
       "    <tr>\n",
       "      <th>5</th>\n",
       "      <td>2</td>\n",
       "      <td>12/31/2009</td>\n",
       "      <td>0.34</td>\n",
       "      <td>Construction</td>\n",
       "      <td>2</td>\n",
       "    </tr>\n",
       "  </tbody>\n",
       "</table>\n",
       "</div>"
      ],
      "text/plain": [
       "   firmid        date  return      industry ind_code\n",
       "0       1  12/31/2008    0.05       Finance        1\n",
       "1       2         NaN    0.45  Construction        2\n",
       "2       3  12/31/2008   23.00           NaN        M\n",
       "3       1  12/31/2009    0.87       Finance        1\n",
       "4       2  12/31/2009     NaN     Construct        2\n",
       "5       2  12/31/2009    0.34  Construction        2"
      ]
     },
     "execution_count": 49,
     "metadata": {},
     "output_type": "execute_result"
    }
   ],
   "source": [
    "df = pd.read_excel('./rawdata.xlsx')\n",
    "df"
   ]
  },
  {
   "cell_type": "code",
   "execution_count": 50,
   "id": "d582eaa4",
   "metadata": {},
   "outputs": [
    {
     "data": {
      "text/plain": [
       "firmid        int64\n",
       "date         object\n",
       "return      float64\n",
       "industry     object\n",
       "ind_code     object\n",
       "dtype: object"
      ]
     },
     "execution_count": 50,
     "metadata": {},
     "output_type": "execute_result"
    }
   ],
   "source": [
    "df.dtypes"
   ]
  },
  {
   "cell_type": "code",
   "execution_count": 51,
   "id": "d6a0d37b",
   "metadata": {},
   "outputs": [
    {
     "name": "stdout",
     "output_type": "stream",
     "text": [
      "<class 'pandas.core.frame.DataFrame'>\n",
      "RangeIndex: 6 entries, 0 to 5\n",
      "Data columns (total 5 columns):\n",
      " #   Column    Non-Null Count  Dtype  \n",
      "---  ------    --------------  -----  \n",
      " 0   firmid    6 non-null      int64  \n",
      " 1   date      5 non-null      object \n",
      " 2   return    5 non-null      float64\n",
      " 3   industry  5 non-null      object \n",
      " 4   ind_code  6 non-null      object \n",
      "dtypes: float64(1), int64(1), object(3)\n",
      "memory usage: 368.0+ bytes\n"
     ]
    }
   ],
   "source": [
    "df.info()"
   ]
  },
  {
   "cell_type": "markdown",
   "id": "77c79259",
   "metadata": {},
   "source": [
    "The \"object\" data type (for the ``industry`` and ``ind_code`` columns) is a catch-all term for when Pandas can not determine the exact data type of that column (e.g. int, float, str, etc). Many times, columns containing strings will have this data type."
   ]
  },
  {
   "cell_type": "code",
   "execution_count": 52,
   "id": "3bc0feb7",
   "metadata": {},
   "outputs": [
    {
     "data": {
      "text/html": [
       "<div>\n",
       "<style scoped>\n",
       "    .dataframe tbody tr th:only-of-type {\n",
       "        vertical-align: middle;\n",
       "    }\n",
       "\n",
       "    .dataframe tbody tr th {\n",
       "        vertical-align: top;\n",
       "    }\n",
       "\n",
       "    .dataframe thead th {\n",
       "        text-align: right;\n",
       "    }\n",
       "</style>\n",
       "<table border=\"1\" class=\"dataframe\">\n",
       "  <thead>\n",
       "    <tr style=\"text-align: right;\">\n",
       "      <th></th>\n",
       "      <th>firmid</th>\n",
       "      <th>return</th>\n",
       "    </tr>\n",
       "  </thead>\n",
       "  <tbody>\n",
       "    <tr>\n",
       "      <th>count</th>\n",
       "      <td>6.000000</td>\n",
       "      <td>5.000000</td>\n",
       "    </tr>\n",
       "    <tr>\n",
       "      <th>mean</th>\n",
       "      <td>1.833333</td>\n",
       "      <td>4.942000</td>\n",
       "    </tr>\n",
       "    <tr>\n",
       "      <th>std</th>\n",
       "      <td>0.752773</td>\n",
       "      <td>10.099018</td>\n",
       "    </tr>\n",
       "    <tr>\n",
       "      <th>min</th>\n",
       "      <td>1.000000</td>\n",
       "      <td>0.050000</td>\n",
       "    </tr>\n",
       "    <tr>\n",
       "      <th>25%</th>\n",
       "      <td>1.250000</td>\n",
       "      <td>0.340000</td>\n",
       "    </tr>\n",
       "    <tr>\n",
       "      <th>50%</th>\n",
       "      <td>2.000000</td>\n",
       "      <td>0.450000</td>\n",
       "    </tr>\n",
       "    <tr>\n",
       "      <th>75%</th>\n",
       "      <td>2.000000</td>\n",
       "      <td>0.870000</td>\n",
       "    </tr>\n",
       "    <tr>\n",
       "      <th>max</th>\n",
       "      <td>3.000000</td>\n",
       "      <td>23.000000</td>\n",
       "    </tr>\n",
       "  </tbody>\n",
       "</table>\n",
       "</div>"
      ],
      "text/plain": [
       "         firmid     return\n",
       "count  6.000000   5.000000\n",
       "mean   1.833333   4.942000\n",
       "std    0.752773  10.099018\n",
       "min    1.000000   0.050000\n",
       "25%    1.250000   0.340000\n",
       "50%    2.000000   0.450000\n",
       "75%    2.000000   0.870000\n",
       "max    3.000000  23.000000"
      ]
     },
     "execution_count": 52,
     "metadata": {},
     "output_type": "execute_result"
    }
   ],
   "source": [
    "df.describe()"
   ]
  },
  {
   "cell_type": "markdown",
   "id": "f4dca013",
   "metadata": {},
   "source": [
    "# Missing values"
   ]
  },
  {
   "cell_type": "markdown",
   "id": "25618063",
   "metadata": {},
   "source": [
    "Missing values appear as a special code depending on the datatype of the column in which they appear: ``NaN`` (which stands for \"not a number\") for numeric data types, ``None`` or ``NaN`` for object data type, ``NaT`` for \"datetime\" columns (more on this data type later). "
   ]
  },
  {
   "cell_type": "markdown",
   "id": "3bd41644",
   "metadata": {},
   "source": [
    "To find the missing values in the data, we can use the ``.isnull`` (or its equivalent: ``.isna()``):"
   ]
  },
  {
   "cell_type": "code",
   "execution_count": 53,
   "id": "457bdba5",
   "metadata": {},
   "outputs": [
    {
     "data": {
      "text/plain": [
       "0    False\n",
       "1    False\n",
       "2    False\n",
       "3    False\n",
       "4     True\n",
       "5    False\n",
       "Name: return, dtype: bool"
      ]
     },
     "execution_count": 53,
     "metadata": {},
     "output_type": "execute_result"
    }
   ],
   "source": [
    "df['return'].isnull()"
   ]
  },
  {
   "cell_type": "code",
   "execution_count": 54,
   "id": "268c69f5",
   "metadata": {},
   "outputs": [
    {
     "data": {
      "text/html": [
       "<div>\n",
       "<style scoped>\n",
       "    .dataframe tbody tr th:only-of-type {\n",
       "        vertical-align: middle;\n",
       "    }\n",
       "\n",
       "    .dataframe tbody tr th {\n",
       "        vertical-align: top;\n",
       "    }\n",
       "\n",
       "    .dataframe thead th {\n",
       "        text-align: right;\n",
       "    }\n",
       "</style>\n",
       "<table border=\"1\" class=\"dataframe\">\n",
       "  <thead>\n",
       "    <tr style=\"text-align: right;\">\n",
       "      <th></th>\n",
       "      <th>firmid</th>\n",
       "      <th>date</th>\n",
       "      <th>return</th>\n",
       "      <th>industry</th>\n",
       "      <th>ind_code</th>\n",
       "    </tr>\n",
       "  </thead>\n",
       "  <tbody>\n",
       "    <tr>\n",
       "      <th>4</th>\n",
       "      <td>2</td>\n",
       "      <td>12/31/2009</td>\n",
       "      <td>NaN</td>\n",
       "      <td>Construct</td>\n",
       "      <td>2</td>\n",
       "    </tr>\n",
       "  </tbody>\n",
       "</table>\n",
       "</div>"
      ],
      "text/plain": [
       "   firmid        date  return   industry ind_code\n",
       "4       2  12/31/2009     NaN  Construct        2"
      ]
     },
     "execution_count": 54,
     "metadata": {},
     "output_type": "execute_result"
    }
   ],
   "source": [
    "df.loc[df['return'].isnull(), :]"
   ]
  },
  {
   "cell_type": "markdown",
   "id": "d3876d76",
   "metadata": {},
   "source": [
    "We can drop all the rows that have any missing values using the ``.dropna()`` function:"
   ]
  },
  {
   "cell_type": "code",
   "execution_count": 55,
   "id": "7488638b",
   "metadata": {},
   "outputs": [
    {
     "data": {
      "text/html": [
       "<div>\n",
       "<style scoped>\n",
       "    .dataframe tbody tr th:only-of-type {\n",
       "        vertical-align: middle;\n",
       "    }\n",
       "\n",
       "    .dataframe tbody tr th {\n",
       "        vertical-align: top;\n",
       "    }\n",
       "\n",
       "    .dataframe thead th {\n",
       "        text-align: right;\n",
       "    }\n",
       "</style>\n",
       "<table border=\"1\" class=\"dataframe\">\n",
       "  <thead>\n",
       "    <tr style=\"text-align: right;\">\n",
       "      <th></th>\n",
       "      <th>firmid</th>\n",
       "      <th>date</th>\n",
       "      <th>return</th>\n",
       "      <th>industry</th>\n",
       "      <th>ind_code</th>\n",
       "    </tr>\n",
       "  </thead>\n",
       "  <tbody>\n",
       "    <tr>\n",
       "      <th>0</th>\n",
       "      <td>1</td>\n",
       "      <td>12/31/2008</td>\n",
       "      <td>0.05</td>\n",
       "      <td>Finance</td>\n",
       "      <td>1</td>\n",
       "    </tr>\n",
       "    <tr>\n",
       "      <th>3</th>\n",
       "      <td>1</td>\n",
       "      <td>12/31/2009</td>\n",
       "      <td>0.87</td>\n",
       "      <td>Finance</td>\n",
       "      <td>1</td>\n",
       "    </tr>\n",
       "    <tr>\n",
       "      <th>5</th>\n",
       "      <td>2</td>\n",
       "      <td>12/31/2009</td>\n",
       "      <td>0.34</td>\n",
       "      <td>Construction</td>\n",
       "      <td>2</td>\n",
       "    </tr>\n",
       "  </tbody>\n",
       "</table>\n",
       "</div>"
      ],
      "text/plain": [
       "   firmid        date  return      industry ind_code\n",
       "0       1  12/31/2008    0.05       Finance        1\n",
       "3       1  12/31/2009    0.87       Finance        1\n",
       "5       2  12/31/2009    0.34  Construction        2"
      ]
     },
     "execution_count": 55,
     "metadata": {},
     "output_type": "execute_result"
    }
   ],
   "source": [
    "df2 = df.dropna()\n",
    "df2"
   ]
  },
  {
   "cell_type": "markdown",
   "id": "2b6ef0a8",
   "metadata": {},
   "source": [
    "If we want to drop the rows that have **only** missing values, we have the use ``how = 'all'`` as a parameter:"
   ]
  },
  {
   "cell_type": "code",
   "execution_count": 56,
   "id": "9a5fc03a",
   "metadata": {},
   "outputs": [
    {
     "data": {
      "text/html": [
       "<div>\n",
       "<style scoped>\n",
       "    .dataframe tbody tr th:only-of-type {\n",
       "        vertical-align: middle;\n",
       "    }\n",
       "\n",
       "    .dataframe tbody tr th {\n",
       "        vertical-align: top;\n",
       "    }\n",
       "\n",
       "    .dataframe thead th {\n",
       "        text-align: right;\n",
       "    }\n",
       "</style>\n",
       "<table border=\"1\" class=\"dataframe\">\n",
       "  <thead>\n",
       "    <tr style=\"text-align: right;\">\n",
       "      <th></th>\n",
       "      <th>firmid</th>\n",
       "      <th>date</th>\n",
       "      <th>return</th>\n",
       "      <th>industry</th>\n",
       "      <th>ind_code</th>\n",
       "    </tr>\n",
       "  </thead>\n",
       "  <tbody>\n",
       "    <tr>\n",
       "      <th>0</th>\n",
       "      <td>1</td>\n",
       "      <td>12/31/2008</td>\n",
       "      <td>0.05</td>\n",
       "      <td>Finance</td>\n",
       "      <td>1</td>\n",
       "    </tr>\n",
       "    <tr>\n",
       "      <th>1</th>\n",
       "      <td>2</td>\n",
       "      <td>NaN</td>\n",
       "      <td>0.45</td>\n",
       "      <td>Construction</td>\n",
       "      <td>2</td>\n",
       "    </tr>\n",
       "    <tr>\n",
       "      <th>2</th>\n",
       "      <td>3</td>\n",
       "      <td>12/31/2008</td>\n",
       "      <td>23.00</td>\n",
       "      <td>NaN</td>\n",
       "      <td>M</td>\n",
       "    </tr>\n",
       "    <tr>\n",
       "      <th>3</th>\n",
       "      <td>1</td>\n",
       "      <td>12/31/2009</td>\n",
       "      <td>0.87</td>\n",
       "      <td>Finance</td>\n",
       "      <td>1</td>\n",
       "    </tr>\n",
       "    <tr>\n",
       "      <th>4</th>\n",
       "      <td>2</td>\n",
       "      <td>12/31/2009</td>\n",
       "      <td>NaN</td>\n",
       "      <td>Construct</td>\n",
       "      <td>2</td>\n",
       "    </tr>\n",
       "    <tr>\n",
       "      <th>5</th>\n",
       "      <td>2</td>\n",
       "      <td>12/31/2009</td>\n",
       "      <td>0.34</td>\n",
       "      <td>Construction</td>\n",
       "      <td>2</td>\n",
       "    </tr>\n",
       "  </tbody>\n",
       "</table>\n",
       "</div>"
      ],
      "text/plain": [
       "   firmid        date  return      industry ind_code\n",
       "0       1  12/31/2008    0.05       Finance        1\n",
       "1       2         NaN    0.45  Construction        2\n",
       "2       3  12/31/2008   23.00           NaN        M\n",
       "3       1  12/31/2009    0.87       Finance        1\n",
       "4       2  12/31/2009     NaN     Construct        2\n",
       "5       2  12/31/2009    0.34  Construction        2"
      ]
     },
     "execution_count": 56,
     "metadata": {},
     "output_type": "execute_result"
    }
   ],
   "source": [
    "df2 = df.dropna(how = 'all')\n",
    "df2"
   ]
  },
  {
   "cell_type": "markdown",
   "id": "4a76a409",
   "metadata": {},
   "source": [
    "If we want to remove all raws that contain missing values in a given column, we have to use ``.loc[]`` and the ``.notnull()`` function:"
   ]
  },
  {
   "cell_type": "code",
   "execution_count": 57,
   "id": "5ad15fb3",
   "metadata": {},
   "outputs": [
    {
     "data": {
      "text/html": [
       "<div>\n",
       "<style scoped>\n",
       "    .dataframe tbody tr th:only-of-type {\n",
       "        vertical-align: middle;\n",
       "    }\n",
       "\n",
       "    .dataframe tbody tr th {\n",
       "        vertical-align: top;\n",
       "    }\n",
       "\n",
       "    .dataframe thead th {\n",
       "        text-align: right;\n",
       "    }\n",
       "</style>\n",
       "<table border=\"1\" class=\"dataframe\">\n",
       "  <thead>\n",
       "    <tr style=\"text-align: right;\">\n",
       "      <th></th>\n",
       "      <th>firmid</th>\n",
       "      <th>date</th>\n",
       "      <th>return</th>\n",
       "      <th>industry</th>\n",
       "      <th>ind_code</th>\n",
       "    </tr>\n",
       "  </thead>\n",
       "  <tbody>\n",
       "    <tr>\n",
       "      <th>0</th>\n",
       "      <td>1</td>\n",
       "      <td>12/31/2008</td>\n",
       "      <td>0.05</td>\n",
       "      <td>Finance</td>\n",
       "      <td>1</td>\n",
       "    </tr>\n",
       "    <tr>\n",
       "      <th>1</th>\n",
       "      <td>2</td>\n",
       "      <td>NaN</td>\n",
       "      <td>0.45</td>\n",
       "      <td>Construction</td>\n",
       "      <td>2</td>\n",
       "    </tr>\n",
       "    <tr>\n",
       "      <th>2</th>\n",
       "      <td>3</td>\n",
       "      <td>12/31/2008</td>\n",
       "      <td>23.00</td>\n",
       "      <td>NaN</td>\n",
       "      <td>M</td>\n",
       "    </tr>\n",
       "    <tr>\n",
       "      <th>3</th>\n",
       "      <td>1</td>\n",
       "      <td>12/31/2009</td>\n",
       "      <td>0.87</td>\n",
       "      <td>Finance</td>\n",
       "      <td>1</td>\n",
       "    </tr>\n",
       "    <tr>\n",
       "      <th>5</th>\n",
       "      <td>2</td>\n",
       "      <td>12/31/2009</td>\n",
       "      <td>0.34</td>\n",
       "      <td>Construction</td>\n",
       "      <td>2</td>\n",
       "    </tr>\n",
       "  </tbody>\n",
       "</table>\n",
       "</div>"
      ],
      "text/plain": [
       "   firmid        date  return      industry ind_code\n",
       "0       1  12/31/2008    0.05       Finance        1\n",
       "1       2         NaN    0.45  Construction        2\n",
       "2       3  12/31/2008   23.00           NaN        M\n",
       "3       1  12/31/2009    0.87       Finance        1\n",
       "5       2  12/31/2009    0.34  Construction        2"
      ]
     },
     "execution_count": 57,
     "metadata": {},
     "output_type": "execute_result"
    }
   ],
   "source": [
    "df2 = df.loc[df['return'].notnull(), :]\n",
    "df2"
   ]
  },
  {
   "attachments": {},
   "cell_type": "markdown",
   "id": "15db197d",
   "metadata": {},
   "source": [
    "or we can use the ``subset`` parameter of the ``dropna`` function, which tells the function to look for missing values only in a subset of the columns: "
   ]
  },
  {
   "cell_type": "code",
   "execution_count": 58,
   "id": "774c838f",
   "metadata": {},
   "outputs": [
    {
     "data": {
      "text/html": [
       "<div>\n",
       "<style scoped>\n",
       "    .dataframe tbody tr th:only-of-type {\n",
       "        vertical-align: middle;\n",
       "    }\n",
       "\n",
       "    .dataframe tbody tr th {\n",
       "        vertical-align: top;\n",
       "    }\n",
       "\n",
       "    .dataframe thead th {\n",
       "        text-align: right;\n",
       "    }\n",
       "</style>\n",
       "<table border=\"1\" class=\"dataframe\">\n",
       "  <thead>\n",
       "    <tr style=\"text-align: right;\">\n",
       "      <th></th>\n",
       "      <th>firmid</th>\n",
       "      <th>date</th>\n",
       "      <th>return</th>\n",
       "      <th>industry</th>\n",
       "      <th>ind_code</th>\n",
       "    </tr>\n",
       "  </thead>\n",
       "  <tbody>\n",
       "    <tr>\n",
       "      <th>0</th>\n",
       "      <td>1</td>\n",
       "      <td>12/31/2008</td>\n",
       "      <td>0.05</td>\n",
       "      <td>Finance</td>\n",
       "      <td>1</td>\n",
       "    </tr>\n",
       "    <tr>\n",
       "      <th>1</th>\n",
       "      <td>2</td>\n",
       "      <td>NaN</td>\n",
       "      <td>0.45</td>\n",
       "      <td>Construction</td>\n",
       "      <td>2</td>\n",
       "    </tr>\n",
       "    <tr>\n",
       "      <th>2</th>\n",
       "      <td>3</td>\n",
       "      <td>12/31/2008</td>\n",
       "      <td>23.00</td>\n",
       "      <td>NaN</td>\n",
       "      <td>M</td>\n",
       "    </tr>\n",
       "    <tr>\n",
       "      <th>3</th>\n",
       "      <td>1</td>\n",
       "      <td>12/31/2009</td>\n",
       "      <td>0.87</td>\n",
       "      <td>Finance</td>\n",
       "      <td>1</td>\n",
       "    </tr>\n",
       "    <tr>\n",
       "      <th>5</th>\n",
       "      <td>2</td>\n",
       "      <td>12/31/2009</td>\n",
       "      <td>0.34</td>\n",
       "      <td>Construction</td>\n",
       "      <td>2</td>\n",
       "    </tr>\n",
       "  </tbody>\n",
       "</table>\n",
       "</div>"
      ],
      "text/plain": [
       "   firmid        date  return      industry ind_code\n",
       "0       1  12/31/2008    0.05       Finance        1\n",
       "1       2         NaN    0.45  Construction        2\n",
       "2       3  12/31/2008   23.00           NaN        M\n",
       "3       1  12/31/2009    0.87       Finance        1\n",
       "5       2  12/31/2009    0.34  Construction        2"
      ]
     },
     "execution_count": 58,
     "metadata": {},
     "output_type": "execute_result"
    }
   ],
   "source": [
    "df2 = df.dropna(subset=['return'])\n",
    "df2"
   ]
  },
  {
   "cell_type": "markdown",
   "id": "617a9a7a",
   "metadata": {},
   "source": [
    "# Changing data types\n",
    "\n",
    "Many times, a particular column in our dataframe does not have the datatype we want. There are several functions that can allow us to convert one datatype to another. Below, we cover the most commonly used ones:"
   ]
  },
  {
   "cell_type": "markdown",
   "id": "40b4377d",
   "metadata": {},
   "source": [
    "## The \".astype\" attribute\n",
    "\n",
    "Specify the new datatype that you want to convert to as an argument to ``.astype()``:"
   ]
  },
  {
   "cell_type": "code",
   "execution_count": 59,
   "id": "9c9cb6bc",
   "metadata": {},
   "outputs": [
    {
     "data": {
      "text/plain": [
       "firmid        int64\n",
       "date         object\n",
       "return      float64\n",
       "industry     object\n",
       "ind_code     object\n",
       "dtype: object"
      ]
     },
     "execution_count": 59,
     "metadata": {},
     "output_type": "execute_result"
    }
   ],
   "source": [
    "df2 = df.copy()\n",
    "df2.dtypes"
   ]
  },
  {
   "cell_type": "code",
   "execution_count": 60,
   "id": "19be661a",
   "metadata": {},
   "outputs": [
    {
     "data": {
      "text/plain": [
       "firmid      float64\n",
       "date         object\n",
       "return      float64\n",
       "industry     object\n",
       "ind_code     object\n",
       "dtype: object"
      ]
     },
     "execution_count": 60,
     "metadata": {},
     "output_type": "execute_result"
    }
   ],
   "source": [
    "df2['firmid'] = df2['firmid'].astype('float64')\n",
    "df2.dtypes"
   ]
  },
  {
   "cell_type": "code",
   "execution_count": 61,
   "id": "230a7327",
   "metadata": {},
   "outputs": [
    {
     "data": {
      "text/html": [
       "<div>\n",
       "<style scoped>\n",
       "    .dataframe tbody tr th:only-of-type {\n",
       "        vertical-align: middle;\n",
       "    }\n",
       "\n",
       "    .dataframe tbody tr th {\n",
       "        vertical-align: top;\n",
       "    }\n",
       "\n",
       "    .dataframe thead th {\n",
       "        text-align: right;\n",
       "    }\n",
       "</style>\n",
       "<table border=\"1\" class=\"dataframe\">\n",
       "  <thead>\n",
       "    <tr style=\"text-align: right;\">\n",
       "      <th></th>\n",
       "      <th>firmid</th>\n",
       "      <th>date</th>\n",
       "      <th>return</th>\n",
       "      <th>industry</th>\n",
       "      <th>ind_code</th>\n",
       "    </tr>\n",
       "  </thead>\n",
       "  <tbody>\n",
       "    <tr>\n",
       "      <th>0</th>\n",
       "      <td>1.0</td>\n",
       "      <td>12/31/2008</td>\n",
       "      <td>0.05</td>\n",
       "      <td>Finance</td>\n",
       "      <td>1</td>\n",
       "    </tr>\n",
       "    <tr>\n",
       "      <th>1</th>\n",
       "      <td>2.0</td>\n",
       "      <td>NaN</td>\n",
       "      <td>0.45</td>\n",
       "      <td>Construction</td>\n",
       "      <td>2</td>\n",
       "    </tr>\n",
       "    <tr>\n",
       "      <th>2</th>\n",
       "      <td>3.0</td>\n",
       "      <td>12/31/2008</td>\n",
       "      <td>23.00</td>\n",
       "      <td>NaN</td>\n",
       "      <td>M</td>\n",
       "    </tr>\n",
       "    <tr>\n",
       "      <th>3</th>\n",
       "      <td>1.0</td>\n",
       "      <td>12/31/2009</td>\n",
       "      <td>0.87</td>\n",
       "      <td>Finance</td>\n",
       "      <td>1</td>\n",
       "    </tr>\n",
       "    <tr>\n",
       "      <th>4</th>\n",
       "      <td>2.0</td>\n",
       "      <td>12/31/2009</td>\n",
       "      <td>NaN</td>\n",
       "      <td>Construct</td>\n",
       "      <td>2</td>\n",
       "    </tr>\n",
       "    <tr>\n",
       "      <th>5</th>\n",
       "      <td>2.0</td>\n",
       "      <td>12/31/2009</td>\n",
       "      <td>0.34</td>\n",
       "      <td>Construction</td>\n",
       "      <td>2</td>\n",
       "    </tr>\n",
       "  </tbody>\n",
       "</table>\n",
       "</div>"
      ],
      "text/plain": [
       "   firmid        date  return      industry ind_code\n",
       "0     1.0  12/31/2008    0.05       Finance        1\n",
       "1     2.0         NaN    0.45  Construction        2\n",
       "2     3.0  12/31/2008   23.00           NaN        M\n",
       "3     1.0  12/31/2009    0.87       Finance        1\n",
       "4     2.0  12/31/2009     NaN     Construct        2\n",
       "5     2.0  12/31/2009    0.34  Construction        2"
      ]
     },
     "execution_count": 61,
     "metadata": {},
     "output_type": "execute_result"
    }
   ],
   "source": [
    "df2"
   ]
  },
  {
   "cell_type": "code",
   "execution_count": 62,
   "id": "2d453ff6",
   "metadata": {},
   "outputs": [
    {
     "data": {
      "text/plain": [
       "firmid       string\n",
       "date         object\n",
       "return      float64\n",
       "industry     object\n",
       "ind_code     object\n",
       "dtype: object"
      ]
     },
     "execution_count": 62,
     "metadata": {},
     "output_type": "execute_result"
    }
   ],
   "source": [
    "df2['firmid'] = df2['firmid'].astype('string')\n",
    "df2.dtypes"
   ]
  },
  {
   "cell_type": "code",
   "execution_count": 63,
   "id": "5c480d59",
   "metadata": {},
   "outputs": [
    {
     "data": {
      "text/html": [
       "<div>\n",
       "<style scoped>\n",
       "    .dataframe tbody tr th:only-of-type {\n",
       "        vertical-align: middle;\n",
       "    }\n",
       "\n",
       "    .dataframe tbody tr th {\n",
       "        vertical-align: top;\n",
       "    }\n",
       "\n",
       "    .dataframe thead th {\n",
       "        text-align: right;\n",
       "    }\n",
       "</style>\n",
       "<table border=\"1\" class=\"dataframe\">\n",
       "  <thead>\n",
       "    <tr style=\"text-align: right;\">\n",
       "      <th></th>\n",
       "      <th>firmid</th>\n",
       "      <th>date</th>\n",
       "      <th>return</th>\n",
       "      <th>industry</th>\n",
       "      <th>ind_code</th>\n",
       "    </tr>\n",
       "  </thead>\n",
       "  <tbody>\n",
       "    <tr>\n",
       "      <th>0</th>\n",
       "      <td>1.0</td>\n",
       "      <td>12/31/2008</td>\n",
       "      <td>0.05</td>\n",
       "      <td>Finance</td>\n",
       "      <td>1</td>\n",
       "    </tr>\n",
       "    <tr>\n",
       "      <th>1</th>\n",
       "      <td>2.0</td>\n",
       "      <td>NaN</td>\n",
       "      <td>0.45</td>\n",
       "      <td>Construction</td>\n",
       "      <td>2</td>\n",
       "    </tr>\n",
       "    <tr>\n",
       "      <th>2</th>\n",
       "      <td>3.0</td>\n",
       "      <td>12/31/2008</td>\n",
       "      <td>23.00</td>\n",
       "      <td>NaN</td>\n",
       "      <td>M</td>\n",
       "    </tr>\n",
       "    <tr>\n",
       "      <th>3</th>\n",
       "      <td>1.0</td>\n",
       "      <td>12/31/2009</td>\n",
       "      <td>0.87</td>\n",
       "      <td>Finance</td>\n",
       "      <td>1</td>\n",
       "    </tr>\n",
       "    <tr>\n",
       "      <th>4</th>\n",
       "      <td>2.0</td>\n",
       "      <td>12/31/2009</td>\n",
       "      <td>NaN</td>\n",
       "      <td>Construct</td>\n",
       "      <td>2</td>\n",
       "    </tr>\n",
       "    <tr>\n",
       "      <th>5</th>\n",
       "      <td>2.0</td>\n",
       "      <td>12/31/2009</td>\n",
       "      <td>0.34</td>\n",
       "      <td>Construction</td>\n",
       "      <td>2</td>\n",
       "    </tr>\n",
       "  </tbody>\n",
       "</table>\n",
       "</div>"
      ],
      "text/plain": [
       "  firmid        date  return      industry ind_code\n",
       "0    1.0  12/31/2008    0.05       Finance        1\n",
       "1    2.0         NaN    0.45  Construction        2\n",
       "2    3.0  12/31/2008   23.00           NaN        M\n",
       "3    1.0  12/31/2009    0.87       Finance        1\n",
       "4    2.0  12/31/2009     NaN     Construct        2\n",
       "5    2.0  12/31/2009    0.34  Construction        2"
      ]
     },
     "execution_count": 63,
     "metadata": {},
     "output_type": "execute_result"
    }
   ],
   "source": [
    "df2"
   ]
  },
  {
   "cell_type": "markdown",
   "id": "bf0be78d",
   "metadata": {},
   "source": [
    "It may not look like ``firmid`` is a string data type now but it is. For example, the below command would not work if ``firmid`` was still numeric:"
   ]
  },
  {
   "cell_type": "code",
   "execution_count": 64,
   "id": "5d1421d8",
   "metadata": {},
   "outputs": [
    {
     "data": {
      "text/html": [
       "<div>\n",
       "<style scoped>\n",
       "    .dataframe tbody tr th:only-of-type {\n",
       "        vertical-align: middle;\n",
       "    }\n",
       "\n",
       "    .dataframe tbody tr th {\n",
       "        vertical-align: top;\n",
       "    }\n",
       "\n",
       "    .dataframe thead th {\n",
       "        text-align: right;\n",
       "    }\n",
       "</style>\n",
       "<table border=\"1\" class=\"dataframe\">\n",
       "  <thead>\n",
       "    <tr style=\"text-align: right;\">\n",
       "      <th></th>\n",
       "      <th>firmid</th>\n",
       "      <th>date</th>\n",
       "      <th>return</th>\n",
       "      <th>industry</th>\n",
       "      <th>ind_code</th>\n",
       "      <th>newid</th>\n",
       "    </tr>\n",
       "  </thead>\n",
       "  <tbody>\n",
       "    <tr>\n",
       "      <th>0</th>\n",
       "      <td>1.0</td>\n",
       "      <td>12/31/2008</td>\n",
       "      <td>0.05</td>\n",
       "      <td>Finance</td>\n",
       "      <td>1</td>\n",
       "      <td>1.0abc</td>\n",
       "    </tr>\n",
       "    <tr>\n",
       "      <th>1</th>\n",
       "      <td>2.0</td>\n",
       "      <td>NaN</td>\n",
       "      <td>0.45</td>\n",
       "      <td>Construction</td>\n",
       "      <td>2</td>\n",
       "      <td>2.0abc</td>\n",
       "    </tr>\n",
       "    <tr>\n",
       "      <th>2</th>\n",
       "      <td>3.0</td>\n",
       "      <td>12/31/2008</td>\n",
       "      <td>23.00</td>\n",
       "      <td>NaN</td>\n",
       "      <td>M</td>\n",
       "      <td>3.0abc</td>\n",
       "    </tr>\n",
       "    <tr>\n",
       "      <th>3</th>\n",
       "      <td>1.0</td>\n",
       "      <td>12/31/2009</td>\n",
       "      <td>0.87</td>\n",
       "      <td>Finance</td>\n",
       "      <td>1</td>\n",
       "      <td>1.0abc</td>\n",
       "    </tr>\n",
       "    <tr>\n",
       "      <th>4</th>\n",
       "      <td>2.0</td>\n",
       "      <td>12/31/2009</td>\n",
       "      <td>NaN</td>\n",
       "      <td>Construct</td>\n",
       "      <td>2</td>\n",
       "      <td>2.0abc</td>\n",
       "    </tr>\n",
       "    <tr>\n",
       "      <th>5</th>\n",
       "      <td>2.0</td>\n",
       "      <td>12/31/2009</td>\n",
       "      <td>0.34</td>\n",
       "      <td>Construction</td>\n",
       "      <td>2</td>\n",
       "      <td>2.0abc</td>\n",
       "    </tr>\n",
       "  </tbody>\n",
       "</table>\n",
       "</div>"
      ],
      "text/plain": [
       "  firmid        date  return      industry ind_code   newid\n",
       "0    1.0  12/31/2008    0.05       Finance        1  1.0abc\n",
       "1    2.0         NaN    0.45  Construction        2  2.0abc\n",
       "2    3.0  12/31/2008   23.00           NaN        M  3.0abc\n",
       "3    1.0  12/31/2009    0.87       Finance        1  1.0abc\n",
       "4    2.0  12/31/2009     NaN     Construct        2  2.0abc\n",
       "5    2.0  12/31/2009    0.34  Construction        2  2.0abc"
      ]
     },
     "execution_count": 64,
     "metadata": {},
     "output_type": "execute_result"
    }
   ],
   "source": [
    "df2['newid'] = df2['firmid'] + \"abc\"\n",
    "df2"
   ]
  },
  {
   "cell_type": "markdown",
   "id": "8868f2c9",
   "metadata": {},
   "source": [
    "## The \".to_numeric\" attribute\n",
    "\n",
    "This is generally used to convert string (or object) data types to a numeric data type. Unlike ``.astype()`` which can be applied after the name of the dataframe we want to convert, with ``.to_numeric()``, you have to supply that dataframe as an argument:"
   ]
  },
  {
   "cell_type": "code",
   "execution_count": 65,
   "id": "9e28e150",
   "metadata": {},
   "outputs": [
    {
     "data": {
      "text/plain": [
       "firmid       string\n",
       "date         object\n",
       "return      float64\n",
       "industry     object\n",
       "ind_code     object\n",
       "newid        string\n",
       "dtype: object"
      ]
     },
     "execution_count": 65,
     "metadata": {},
     "output_type": "execute_result"
    }
   ],
   "source": [
    "df2.dtypes"
   ]
  },
  {
   "cell_type": "code",
   "execution_count": 66,
   "id": "e9b12066",
   "metadata": {},
   "outputs": [
    {
     "data": {
      "text/plain": [
       "firmid      float64\n",
       "date         object\n",
       "return      float64\n",
       "industry     object\n",
       "ind_code     object\n",
       "newid        string\n",
       "dtype: object"
      ]
     },
     "execution_count": 66,
     "metadata": {},
     "output_type": "execute_result"
    }
   ],
   "source": [
    "df2['firmid'] = pd.to_numeric(df2['firmid'])\n",
    "df2.dtypes"
   ]
  },
  {
   "cell_type": "markdown",
   "id": "930909e8",
   "metadata": {},
   "source": [
    "In some situations, the ``.to_numeric()`` function will not be successful unless you specify the parameter ``errors = `coerce'``. For example, the code below would not work without that parameter (which is why I always specify it):"
   ]
  },
  {
   "cell_type": "code",
   "execution_count": 67,
   "id": "5c7a73fa",
   "metadata": {},
   "outputs": [
    {
     "data": {
      "text/plain": [
       "firmid      float64\n",
       "date         object\n",
       "return      float64\n",
       "industry     object\n",
       "ind_code    float64\n",
       "newid        string\n",
       "dtype: object"
      ]
     },
     "execution_count": 67,
     "metadata": {},
     "output_type": "execute_result"
    }
   ],
   "source": [
    "df2['ind_code'] = pd.to_numeric(df2['ind_code'], errors = 'coerce')\n",
    "df2.dtypes"
   ]
  },
  {
   "cell_type": "markdown",
   "id": "479ce90b",
   "metadata": {},
   "source": [
    "Note that this converted the non-numeric values in the ``ind_code`` column to ``NaN``:"
   ]
  },
  {
   "cell_type": "code",
   "execution_count": 68,
   "id": "b6614f63",
   "metadata": {},
   "outputs": [
    {
     "data": {
      "text/html": [
       "<div>\n",
       "<style scoped>\n",
       "    .dataframe tbody tr th:only-of-type {\n",
       "        vertical-align: middle;\n",
       "    }\n",
       "\n",
       "    .dataframe tbody tr th {\n",
       "        vertical-align: top;\n",
       "    }\n",
       "\n",
       "    .dataframe thead th {\n",
       "        text-align: right;\n",
       "    }\n",
       "</style>\n",
       "<table border=\"1\" class=\"dataframe\">\n",
       "  <thead>\n",
       "    <tr style=\"text-align: right;\">\n",
       "      <th></th>\n",
       "      <th>firmid</th>\n",
       "      <th>date</th>\n",
       "      <th>return</th>\n",
       "      <th>industry</th>\n",
       "      <th>ind_code</th>\n",
       "      <th>newid</th>\n",
       "    </tr>\n",
       "  </thead>\n",
       "  <tbody>\n",
       "    <tr>\n",
       "      <th>0</th>\n",
       "      <td>1.0</td>\n",
       "      <td>12/31/2008</td>\n",
       "      <td>0.05</td>\n",
       "      <td>Finance</td>\n",
       "      <td>1.0</td>\n",
       "      <td>1.0abc</td>\n",
       "    </tr>\n",
       "    <tr>\n",
       "      <th>1</th>\n",
       "      <td>2.0</td>\n",
       "      <td>NaN</td>\n",
       "      <td>0.45</td>\n",
       "      <td>Construction</td>\n",
       "      <td>2.0</td>\n",
       "      <td>2.0abc</td>\n",
       "    </tr>\n",
       "    <tr>\n",
       "      <th>2</th>\n",
       "      <td>3.0</td>\n",
       "      <td>12/31/2008</td>\n",
       "      <td>23.00</td>\n",
       "      <td>NaN</td>\n",
       "      <td>NaN</td>\n",
       "      <td>3.0abc</td>\n",
       "    </tr>\n",
       "    <tr>\n",
       "      <th>3</th>\n",
       "      <td>1.0</td>\n",
       "      <td>12/31/2009</td>\n",
       "      <td>0.87</td>\n",
       "      <td>Finance</td>\n",
       "      <td>1.0</td>\n",
       "      <td>1.0abc</td>\n",
       "    </tr>\n",
       "    <tr>\n",
       "      <th>4</th>\n",
       "      <td>2.0</td>\n",
       "      <td>12/31/2009</td>\n",
       "      <td>NaN</td>\n",
       "      <td>Construct</td>\n",
       "      <td>2.0</td>\n",
       "      <td>2.0abc</td>\n",
       "    </tr>\n",
       "    <tr>\n",
       "      <th>5</th>\n",
       "      <td>2.0</td>\n",
       "      <td>12/31/2009</td>\n",
       "      <td>0.34</td>\n",
       "      <td>Construction</td>\n",
       "      <td>2.0</td>\n",
       "      <td>2.0abc</td>\n",
       "    </tr>\n",
       "  </tbody>\n",
       "</table>\n",
       "</div>"
      ],
      "text/plain": [
       "   firmid        date  return      industry  ind_code   newid\n",
       "0     1.0  12/31/2008    0.05       Finance       1.0  1.0abc\n",
       "1     2.0         NaN    0.45  Construction       2.0  2.0abc\n",
       "2     3.0  12/31/2008   23.00           NaN       NaN  3.0abc\n",
       "3     1.0  12/31/2009    0.87       Finance       1.0  1.0abc\n",
       "4     2.0  12/31/2009     NaN     Construct       2.0  2.0abc\n",
       "5     2.0  12/31/2009    0.34  Construction       2.0  2.0abc"
      ]
     },
     "execution_count": 68,
     "metadata": {},
     "output_type": "execute_result"
    }
   ],
   "source": [
    "df2"
   ]
  },
  {
   "cell_type": "markdown",
   "id": "30ce1b16",
   "metadata": {},
   "source": [
    "# Duplicates and counts\n",
    "\n",
    "In many situations, it is important to know if our data contains any duplicate entries (most of the time we want to eliminate those) as well as explicitly count duplicate entries in any particular column or set of columns in our data. We can do these operations with the ``.duplicated()`` and ``.value_counts()`` functions:"
   ]
  },
  {
   "cell_type": "markdown",
   "id": "8d17a6a0",
   "metadata": {},
   "source": [
    "## .duplicated\n",
    "\n",
    "Syntax:\n",
    "```python\n",
    "DataFrame.duplicated(subset=None, keep='first')\n",
    "```\n",
    "\n",
    "where the ``subset`` parameter allows us to specifies where in the dataset (which columns) we are looking for duplicated rows (if unspecified, Pandas will look for instances where an entire row is duplicated). The ``keep`` parameter allows us to specify,  "
   ]
  },
  {
   "cell_type": "code",
   "execution_count": 69,
   "id": "32dedc54",
   "metadata": {},
   "outputs": [
    {
     "data": {
      "text/plain": [
       "0    False\n",
       "1    False\n",
       "2    False\n",
       "3    False\n",
       "4    False\n",
       "5    False\n",
       "dtype: bool"
      ]
     },
     "execution_count": 69,
     "metadata": {},
     "output_type": "execute_result"
    }
   ],
   "source": [
    "df.duplicated()"
   ]
  },
  {
   "cell_type": "code",
   "execution_count": 70,
   "id": "fa75460a",
   "metadata": {},
   "outputs": [
    {
     "data": {
      "text/plain": [
       "0    False\n",
       "1    False\n",
       "2    False\n",
       "3    False\n",
       "4    False\n",
       "5     True\n",
       "dtype: bool"
      ]
     },
     "execution_count": 70,
     "metadata": {},
     "output_type": "execute_result"
    }
   ],
   "source": [
    "df.duplicated(subset = ['firmid','date'])"
   ]
  },
  {
   "cell_type": "code",
   "execution_count": 71,
   "id": "d280549e",
   "metadata": {},
   "outputs": [
    {
     "data": {
      "text/plain": [
       "0    False\n",
       "1    False\n",
       "2    False\n",
       "3    False\n",
       "4     True\n",
       "5    False\n",
       "dtype: bool"
      ]
     },
     "execution_count": 71,
     "metadata": {},
     "output_type": "execute_result"
    }
   ],
   "source": [
    "df.duplicated(subset = ['firmid','date'], keep='last')"
   ]
  },
  {
   "cell_type": "code",
   "execution_count": 72,
   "id": "a3c12ca8",
   "metadata": {},
   "outputs": [
    {
     "data": {
      "text/plain": [
       "0    False\n",
       "1    False\n",
       "2    False\n",
       "3    False\n",
       "4     True\n",
       "5     True\n",
       "dtype: bool"
      ]
     },
     "execution_count": 72,
     "metadata": {},
     "output_type": "execute_result"
    }
   ],
   "source": [
    "df.duplicated(subset = ['firmid','date'], keep=False)"
   ]
  },
  {
   "cell_type": "markdown",
   "id": "83ed32f7",
   "metadata": {},
   "source": [
    "To drop duplicated data, we can use the ``.duplicated()`` function inside a ``.loc[]``:"
   ]
  },
  {
   "cell_type": "code",
   "execution_count": 73,
   "id": "8c281e54",
   "metadata": {},
   "outputs": [
    {
     "data": {
      "text/html": [
       "<div>\n",
       "<style scoped>\n",
       "    .dataframe tbody tr th:only-of-type {\n",
       "        vertical-align: middle;\n",
       "    }\n",
       "\n",
       "    .dataframe tbody tr th {\n",
       "        vertical-align: top;\n",
       "    }\n",
       "\n",
       "    .dataframe thead th {\n",
       "        text-align: right;\n",
       "    }\n",
       "</style>\n",
       "<table border=\"1\" class=\"dataframe\">\n",
       "  <thead>\n",
       "    <tr style=\"text-align: right;\">\n",
       "      <th></th>\n",
       "      <th>firmid</th>\n",
       "      <th>date</th>\n",
       "      <th>return</th>\n",
       "      <th>industry</th>\n",
       "      <th>ind_code</th>\n",
       "    </tr>\n",
       "  </thead>\n",
       "  <tbody>\n",
       "    <tr>\n",
       "      <th>0</th>\n",
       "      <td>1</td>\n",
       "      <td>12/31/2008</td>\n",
       "      <td>0.05</td>\n",
       "      <td>Finance</td>\n",
       "      <td>1</td>\n",
       "    </tr>\n",
       "    <tr>\n",
       "      <th>1</th>\n",
       "      <td>2</td>\n",
       "      <td>NaN</td>\n",
       "      <td>0.45</td>\n",
       "      <td>Construction</td>\n",
       "      <td>2</td>\n",
       "    </tr>\n",
       "    <tr>\n",
       "      <th>2</th>\n",
       "      <td>3</td>\n",
       "      <td>12/31/2008</td>\n",
       "      <td>23.00</td>\n",
       "      <td>NaN</td>\n",
       "      <td>M</td>\n",
       "    </tr>\n",
       "    <tr>\n",
       "      <th>3</th>\n",
       "      <td>1</td>\n",
       "      <td>12/31/2009</td>\n",
       "      <td>0.87</td>\n",
       "      <td>Finance</td>\n",
       "      <td>1</td>\n",
       "    </tr>\n",
       "    <tr>\n",
       "      <th>4</th>\n",
       "      <td>2</td>\n",
       "      <td>12/31/2009</td>\n",
       "      <td>NaN</td>\n",
       "      <td>Construct</td>\n",
       "      <td>2</td>\n",
       "    </tr>\n",
       "  </tbody>\n",
       "</table>\n",
       "</div>"
      ],
      "text/plain": [
       "   firmid        date  return      industry ind_code\n",
       "0       1  12/31/2008    0.05       Finance        1\n",
       "1       2         NaN    0.45  Construction        2\n",
       "2       3  12/31/2008   23.00           NaN        M\n",
       "3       1  12/31/2009    0.87       Finance        1\n",
       "4       2  12/31/2009     NaN     Construct        2"
      ]
     },
     "execution_count": 73,
     "metadata": {},
     "output_type": "execute_result"
    }
   ],
   "source": [
    "df2 = df.loc[~df.duplicated(['firmid','date'])]\n",
    "df2"
   ]
  },
  {
   "cell_type": "markdown",
   "id": "d6937b90",
   "metadata": {},
   "source": [
    "or, more commonly, using the ``.drop_duplicates()`` function:"
   ]
  },
  {
   "cell_type": "code",
   "execution_count": 74,
   "id": "6d02fec5",
   "metadata": {},
   "outputs": [
    {
     "data": {
      "text/html": [
       "<div>\n",
       "<style scoped>\n",
       "    .dataframe tbody tr th:only-of-type {\n",
       "        vertical-align: middle;\n",
       "    }\n",
       "\n",
       "    .dataframe tbody tr th {\n",
       "        vertical-align: top;\n",
       "    }\n",
       "\n",
       "    .dataframe thead th {\n",
       "        text-align: right;\n",
       "    }\n",
       "</style>\n",
       "<table border=\"1\" class=\"dataframe\">\n",
       "  <thead>\n",
       "    <tr style=\"text-align: right;\">\n",
       "      <th></th>\n",
       "      <th>firmid</th>\n",
       "      <th>date</th>\n",
       "      <th>return</th>\n",
       "      <th>industry</th>\n",
       "      <th>ind_code</th>\n",
       "    </tr>\n",
       "  </thead>\n",
       "  <tbody>\n",
       "    <tr>\n",
       "      <th>0</th>\n",
       "      <td>1</td>\n",
       "      <td>12/31/2008</td>\n",
       "      <td>0.05</td>\n",
       "      <td>Finance</td>\n",
       "      <td>1</td>\n",
       "    </tr>\n",
       "    <tr>\n",
       "      <th>1</th>\n",
       "      <td>2</td>\n",
       "      <td>NaN</td>\n",
       "      <td>0.45</td>\n",
       "      <td>Construction</td>\n",
       "      <td>2</td>\n",
       "    </tr>\n",
       "    <tr>\n",
       "      <th>2</th>\n",
       "      <td>3</td>\n",
       "      <td>12/31/2008</td>\n",
       "      <td>23.00</td>\n",
       "      <td>NaN</td>\n",
       "      <td>M</td>\n",
       "    </tr>\n",
       "    <tr>\n",
       "      <th>3</th>\n",
       "      <td>1</td>\n",
       "      <td>12/31/2009</td>\n",
       "      <td>0.87</td>\n",
       "      <td>Finance</td>\n",
       "      <td>1</td>\n",
       "    </tr>\n",
       "    <tr>\n",
       "      <th>4</th>\n",
       "      <td>2</td>\n",
       "      <td>12/31/2009</td>\n",
       "      <td>NaN</td>\n",
       "      <td>Construct</td>\n",
       "      <td>2</td>\n",
       "    </tr>\n",
       "  </tbody>\n",
       "</table>\n",
       "</div>"
      ],
      "text/plain": [
       "   firmid        date  return      industry ind_code\n",
       "0       1  12/31/2008    0.05       Finance        1\n",
       "1       2         NaN    0.45  Construction        2\n",
       "2       3  12/31/2008   23.00           NaN        M\n",
       "3       1  12/31/2009    0.87       Finance        1\n",
       "4       2  12/31/2009     NaN     Construct        2"
      ]
     },
     "execution_count": 74,
     "metadata": {},
     "output_type": "execute_result"
    }
   ],
   "source": [
    "df2 = df.drop_duplicates(['firmid','date'])\n",
    "df2"
   ]
  },
  {
   "cell_type": "markdown",
   "id": "fe405fcf",
   "metadata": {},
   "source": [
    "Note that the above still keeps the 4th row, and drops the 5th (a duplicate of the 4th). This is because ``keep='first'`` by default for the ``.drop_duplicates()`` function. To eliminate both duplicated rows, we would have to set ``keep=False``:"
   ]
  },
  {
   "cell_type": "code",
   "execution_count": 75,
   "id": "b2513adc",
   "metadata": {},
   "outputs": [
    {
     "data": {
      "text/html": [
       "<div>\n",
       "<style scoped>\n",
       "    .dataframe tbody tr th:only-of-type {\n",
       "        vertical-align: middle;\n",
       "    }\n",
       "\n",
       "    .dataframe tbody tr th {\n",
       "        vertical-align: top;\n",
       "    }\n",
       "\n",
       "    .dataframe thead th {\n",
       "        text-align: right;\n",
       "    }\n",
       "</style>\n",
       "<table border=\"1\" class=\"dataframe\">\n",
       "  <thead>\n",
       "    <tr style=\"text-align: right;\">\n",
       "      <th></th>\n",
       "      <th>firmid</th>\n",
       "      <th>date</th>\n",
       "      <th>return</th>\n",
       "      <th>industry</th>\n",
       "      <th>ind_code</th>\n",
       "    </tr>\n",
       "  </thead>\n",
       "  <tbody>\n",
       "    <tr>\n",
       "      <th>0</th>\n",
       "      <td>1</td>\n",
       "      <td>12/31/2008</td>\n",
       "      <td>0.05</td>\n",
       "      <td>Finance</td>\n",
       "      <td>1</td>\n",
       "    </tr>\n",
       "    <tr>\n",
       "      <th>1</th>\n",
       "      <td>2</td>\n",
       "      <td>NaN</td>\n",
       "      <td>0.45</td>\n",
       "      <td>Construction</td>\n",
       "      <td>2</td>\n",
       "    </tr>\n",
       "    <tr>\n",
       "      <th>2</th>\n",
       "      <td>3</td>\n",
       "      <td>12/31/2008</td>\n",
       "      <td>23.00</td>\n",
       "      <td>NaN</td>\n",
       "      <td>M</td>\n",
       "    </tr>\n",
       "    <tr>\n",
       "      <th>3</th>\n",
       "      <td>1</td>\n",
       "      <td>12/31/2009</td>\n",
       "      <td>0.87</td>\n",
       "      <td>Finance</td>\n",
       "      <td>1</td>\n",
       "    </tr>\n",
       "  </tbody>\n",
       "</table>\n",
       "</div>"
      ],
      "text/plain": [
       "   firmid        date  return      industry ind_code\n",
       "0       1  12/31/2008    0.05       Finance        1\n",
       "1       2         NaN    0.45  Construction        2\n",
       "2       3  12/31/2008   23.00           NaN        M\n",
       "3       1  12/31/2009    0.87       Finance        1"
      ]
     },
     "execution_count": 75,
     "metadata": {},
     "output_type": "execute_result"
    }
   ],
   "source": [
    "df2 = df.drop_duplicates(['firmid','date'], keep = False)\n",
    "df2"
   ]
  },
  {
   "cell_type": "markdown",
   "id": "4f32b982",
   "metadata": {},
   "source": [
    "Note also that the meaning of \"first\" and \"last\" for the ``keep`` parameter depends on how your dataframe happens to be sorted at the time you drop the duplicates."
   ]
  },
  {
   "cell_type": "markdown",
   "id": "b62e326d",
   "metadata": {},
   "source": [
    "## .value_counts()\n",
    "\n",
    "Syntax:\n",
    "```python\n",
    "DataFrame.value_counts(subset=None, normalize=False, sort=True, ascending=False, dropna=True)\n",
    "```"
   ]
  },
  {
   "cell_type": "code",
   "execution_count": 76,
   "id": "84fc84cf",
   "metadata": {},
   "outputs": [
    {
     "data": {
      "text/plain": [
       "Finance         2\n",
       "Construction    2\n",
       "Construct       1\n",
       "Name: industry, dtype: int64"
      ]
     },
     "execution_count": 76,
     "metadata": {},
     "output_type": "execute_result"
    }
   ],
   "source": [
    "df['industry'].value_counts()"
   ]
  },
  {
   "cell_type": "code",
   "execution_count": 77,
   "id": "f9e105b1",
   "metadata": {},
   "outputs": [
    {
     "data": {
      "text/plain": [
       "industry\n",
       "Construction    2\n",
       "Finance         2\n",
       "Construct       1\n",
       "dtype: int64"
      ]
     },
     "execution_count": 77,
     "metadata": {},
     "output_type": "execute_result"
    }
   ],
   "source": [
    "df.value_counts('industry')"
   ]
  },
  {
   "cell_type": "markdown",
   "id": "5c69dfbe",
   "metadata": {},
   "source": [
    "# Operating on text data (strings)\n",
    "\n",
    "Working with text data is a huge topic in data analysis. The Pandas user guide offers a detailed discussion on the way the Pandas package can be used to operate on text data: https://pandas.pydata.org/pandas-docs/stable/user_guide/text.html#. For the most part, all of this is done with the ``.str`` subpackage and its methods. \n",
    "\n",
    "Here, we cover a very small subset of the functions that are commonly used for string manipulation inside a dataframe.\n",
    "\n",
    "We'll work on the ``df`` dataframe:"
   ]
  },
  {
   "cell_type": "code",
   "execution_count": 78,
   "id": "5cef2d53",
   "metadata": {},
   "outputs": [
    {
     "data": {
      "text/html": [
       "<div>\n",
       "<style scoped>\n",
       "    .dataframe tbody tr th:only-of-type {\n",
       "        vertical-align: middle;\n",
       "    }\n",
       "\n",
       "    .dataframe tbody tr th {\n",
       "        vertical-align: top;\n",
       "    }\n",
       "\n",
       "    .dataframe thead th {\n",
       "        text-align: right;\n",
       "    }\n",
       "</style>\n",
       "<table border=\"1\" class=\"dataframe\">\n",
       "  <thead>\n",
       "    <tr style=\"text-align: right;\">\n",
       "      <th></th>\n",
       "      <th>firmid</th>\n",
       "      <th>date</th>\n",
       "      <th>return</th>\n",
       "      <th>industry</th>\n",
       "      <th>ind_code</th>\n",
       "    </tr>\n",
       "  </thead>\n",
       "  <tbody>\n",
       "    <tr>\n",
       "      <th>0</th>\n",
       "      <td>1</td>\n",
       "      <td>12/31/2008</td>\n",
       "      <td>0.05</td>\n",
       "      <td>Finance</td>\n",
       "      <td>1</td>\n",
       "    </tr>\n",
       "    <tr>\n",
       "      <th>1</th>\n",
       "      <td>2</td>\n",
       "      <td>NaN</td>\n",
       "      <td>0.45</td>\n",
       "      <td>Construction</td>\n",
       "      <td>2</td>\n",
       "    </tr>\n",
       "    <tr>\n",
       "      <th>2</th>\n",
       "      <td>3</td>\n",
       "      <td>12/31/2008</td>\n",
       "      <td>23.00</td>\n",
       "      <td>NaN</td>\n",
       "      <td>M</td>\n",
       "    </tr>\n",
       "    <tr>\n",
       "      <th>3</th>\n",
       "      <td>1</td>\n",
       "      <td>12/31/2009</td>\n",
       "      <td>0.87</td>\n",
       "      <td>Finance</td>\n",
       "      <td>1</td>\n",
       "    </tr>\n",
       "    <tr>\n",
       "      <th>4</th>\n",
       "      <td>2</td>\n",
       "      <td>12/31/2009</td>\n",
       "      <td>NaN</td>\n",
       "      <td>Construct</td>\n",
       "      <td>2</td>\n",
       "    </tr>\n",
       "    <tr>\n",
       "      <th>5</th>\n",
       "      <td>2</td>\n",
       "      <td>12/31/2009</td>\n",
       "      <td>0.34</td>\n",
       "      <td>Construction</td>\n",
       "      <td>2</td>\n",
       "    </tr>\n",
       "  </tbody>\n",
       "</table>\n",
       "</div>"
      ],
      "text/plain": [
       "   firmid        date  return      industry ind_code\n",
       "0       1  12/31/2008    0.05       Finance        1\n",
       "1       2         NaN    0.45  Construction        2\n",
       "2       3  12/31/2008   23.00           NaN        M\n",
       "3       1  12/31/2009    0.87       Finance        1\n",
       "4       2  12/31/2009     NaN     Construct        2\n",
       "5       2  12/31/2009    0.34  Construction        2"
      ]
     },
     "execution_count": 78,
     "metadata": {},
     "output_type": "execute_result"
    }
   ],
   "source": [
    "df"
   ]
  },
  {
   "cell_type": "markdown",
   "id": "9d785a7c",
   "metadata": {},
   "source": [
    "It is important to convert a text column to ``string`` format before we manipulate it with ``.str`` functions. For example, the ``industry`` column is currently of type ``object`` so we will convert it to ``string``:"
   ]
  },
  {
   "cell_type": "code",
   "execution_count": 79,
   "id": "ed718a3a",
   "metadata": {},
   "outputs": [
    {
     "data": {
      "text/html": [
       "<div>\n",
       "<style scoped>\n",
       "    .dataframe tbody tr th:only-of-type {\n",
       "        vertical-align: middle;\n",
       "    }\n",
       "\n",
       "    .dataframe tbody tr th {\n",
       "        vertical-align: top;\n",
       "    }\n",
       "\n",
       "    .dataframe thead th {\n",
       "        text-align: right;\n",
       "    }\n",
       "</style>\n",
       "<table border=\"1\" class=\"dataframe\">\n",
       "  <thead>\n",
       "    <tr style=\"text-align: right;\">\n",
       "      <th></th>\n",
       "      <th>firmid</th>\n",
       "      <th>date</th>\n",
       "      <th>return</th>\n",
       "      <th>industry</th>\n",
       "      <th>ind_code</th>\n",
       "    </tr>\n",
       "  </thead>\n",
       "  <tbody>\n",
       "    <tr>\n",
       "      <th>0</th>\n",
       "      <td>1</td>\n",
       "      <td>12/31/2008</td>\n",
       "      <td>0.05</td>\n",
       "      <td>Finance</td>\n",
       "      <td>1</td>\n",
       "    </tr>\n",
       "    <tr>\n",
       "      <th>1</th>\n",
       "      <td>2</td>\n",
       "      <td>NaN</td>\n",
       "      <td>0.45</td>\n",
       "      <td>Construction</td>\n",
       "      <td>2</td>\n",
       "    </tr>\n",
       "    <tr>\n",
       "      <th>2</th>\n",
       "      <td>3</td>\n",
       "      <td>12/31/2008</td>\n",
       "      <td>23.00</td>\n",
       "      <td>&lt;NA&gt;</td>\n",
       "      <td>M</td>\n",
       "    </tr>\n",
       "    <tr>\n",
       "      <th>3</th>\n",
       "      <td>1</td>\n",
       "      <td>12/31/2009</td>\n",
       "      <td>0.87</td>\n",
       "      <td>Finance</td>\n",
       "      <td>1</td>\n",
       "    </tr>\n",
       "    <tr>\n",
       "      <th>4</th>\n",
       "      <td>2</td>\n",
       "      <td>12/31/2009</td>\n",
       "      <td>NaN</td>\n",
       "      <td>Construct</td>\n",
       "      <td>2</td>\n",
       "    </tr>\n",
       "    <tr>\n",
       "      <th>5</th>\n",
       "      <td>2</td>\n",
       "      <td>12/31/2009</td>\n",
       "      <td>0.34</td>\n",
       "      <td>Construction</td>\n",
       "      <td>2</td>\n",
       "    </tr>\n",
       "  </tbody>\n",
       "</table>\n",
       "</div>"
      ],
      "text/plain": [
       "   firmid        date  return      industry ind_code\n",
       "0       1  12/31/2008    0.05       Finance        1\n",
       "1       2         NaN    0.45  Construction        2\n",
       "2       3  12/31/2008   23.00          <NA>        M\n",
       "3       1  12/31/2009    0.87       Finance        1\n",
       "4       2  12/31/2009     NaN     Construct        2\n",
       "5       2  12/31/2009    0.34  Construction        2"
      ]
     },
     "execution_count": 79,
     "metadata": {},
     "output_type": "execute_result"
    }
   ],
   "source": [
    "df['industry'] = df['industry'].astype('string')\n",
    "df"
   ]
  },
  {
   "cell_type": "markdown",
   "id": "d4a576b8",
   "metadata": {},
   "source": [
    "## Slicing into string data"
   ]
  },
  {
   "cell_type": "code",
   "execution_count": 80,
   "id": "4f59ae14",
   "metadata": {},
   "outputs": [
    {
     "data": {
      "text/plain": [
       "0     Fin\n",
       "1     Con\n",
       "2    <NA>\n",
       "3     Fin\n",
       "4     Con\n",
       "5     Con\n",
       "Name: industry, dtype: string"
      ]
     },
     "execution_count": 80,
     "metadata": {},
     "output_type": "execute_result"
    }
   ],
   "source": [
    "df['industry'].str[0:3]"
   ]
  },
  {
   "cell_type": "markdown",
   "id": "cc8ad870",
   "metadata": {},
   "source": [
    "## Converting to lower case or upper case"
   ]
  },
  {
   "cell_type": "code",
   "execution_count": 81,
   "id": "5a535918",
   "metadata": {},
   "outputs": [
    {
     "data": {
      "text/plain": [
       "0         finance\n",
       "1    construction\n",
       "2            <NA>\n",
       "3         finance\n",
       "4       construct\n",
       "5    construction\n",
       "Name: industry, dtype: string"
      ]
     },
     "execution_count": 81,
     "metadata": {},
     "output_type": "execute_result"
    }
   ],
   "source": [
    "df['industry'].str.lower()"
   ]
  },
  {
   "cell_type": "code",
   "execution_count": 82,
   "id": "97cfc872",
   "metadata": {},
   "outputs": [
    {
     "data": {
      "text/plain": [
       "Index(['FIRMID', 'DATE', 'RETURN', 'INDUSTRY', 'IND_CODE'], dtype='object')"
      ]
     },
     "execution_count": 82,
     "metadata": {},
     "output_type": "execute_result"
    }
   ],
   "source": [
    "df.columns.str.upper()"
   ]
  },
  {
   "cell_type": "markdown",
   "id": "1cf26583",
   "metadata": {},
   "source": [
    "## Substrings"
   ]
  },
  {
   "cell_type": "code",
   "execution_count": 83,
   "id": "848c25cf",
   "metadata": {},
   "outputs": [
    {
     "data": {
      "text/html": [
       "<div>\n",
       "<style scoped>\n",
       "    .dataframe tbody tr th:only-of-type {\n",
       "        vertical-align: middle;\n",
       "    }\n",
       "\n",
       "    .dataframe tbody tr th {\n",
       "        vertical-align: top;\n",
       "    }\n",
       "\n",
       "    .dataframe thead th {\n",
       "        text-align: right;\n",
       "    }\n",
       "</style>\n",
       "<table border=\"1\" class=\"dataframe\">\n",
       "  <thead>\n",
       "    <tr style=\"text-align: right;\">\n",
       "      <th></th>\n",
       "      <th>firmid</th>\n",
       "      <th>date</th>\n",
       "      <th>return</th>\n",
       "      <th>industry</th>\n",
       "      <th>ind_code</th>\n",
       "    </tr>\n",
       "  </thead>\n",
       "  <tbody>\n",
       "    <tr>\n",
       "      <th>1</th>\n",
       "      <td>2</td>\n",
       "      <td>NaN</td>\n",
       "      <td>0.45</td>\n",
       "      <td>Construction</td>\n",
       "      <td>2</td>\n",
       "    </tr>\n",
       "    <tr>\n",
       "      <th>4</th>\n",
       "      <td>2</td>\n",
       "      <td>12/31/2009</td>\n",
       "      <td>NaN</td>\n",
       "      <td>Construct</td>\n",
       "      <td>2</td>\n",
       "    </tr>\n",
       "    <tr>\n",
       "      <th>5</th>\n",
       "      <td>2</td>\n",
       "      <td>12/31/2009</td>\n",
       "      <td>0.34</td>\n",
       "      <td>Construction</td>\n",
       "      <td>2</td>\n",
       "    </tr>\n",
       "  </tbody>\n",
       "</table>\n",
       "</div>"
      ],
      "text/plain": [
       "   firmid        date  return      industry ind_code\n",
       "1       2         NaN    0.45  Construction        2\n",
       "4       2  12/31/2009     NaN     Construct        2\n",
       "5       2  12/31/2009    0.34  Construction        2"
      ]
     },
     "execution_count": 83,
     "metadata": {},
     "output_type": "execute_result"
    }
   ],
   "source": [
    "df.loc[df['industry'].str.contains(\"Cons\"),:]"
   ]
  },
  {
   "cell_type": "code",
   "execution_count": 84,
   "id": "5dd695b2",
   "metadata": {},
   "outputs": [
    {
     "data": {
      "text/html": [
       "<div>\n",
       "<style scoped>\n",
       "    .dataframe tbody tr th:only-of-type {\n",
       "        vertical-align: middle;\n",
       "    }\n",
       "\n",
       "    .dataframe tbody tr th {\n",
       "        vertical-align: top;\n",
       "    }\n",
       "\n",
       "    .dataframe thead th {\n",
       "        text-align: right;\n",
       "    }\n",
       "</style>\n",
       "<table border=\"1\" class=\"dataframe\">\n",
       "  <thead>\n",
       "    <tr style=\"text-align: right;\">\n",
       "      <th></th>\n",
       "      <th>firmid</th>\n",
       "      <th>date</th>\n",
       "      <th>return</th>\n",
       "      <th>industry</th>\n",
       "      <th>ind_code</th>\n",
       "    </tr>\n",
       "  </thead>\n",
       "  <tbody>\n",
       "    <tr>\n",
       "      <th>0</th>\n",
       "      <td>1</td>\n",
       "      <td>12/31/2008</td>\n",
       "      <td>0.05</td>\n",
       "      <td>Finance</td>\n",
       "      <td>1</td>\n",
       "    </tr>\n",
       "    <tr>\n",
       "      <th>1</th>\n",
       "      <td>2</td>\n",
       "      <td>NaN</td>\n",
       "      <td>0.45</td>\n",
       "      <td>Constructionion</td>\n",
       "      <td>2</td>\n",
       "    </tr>\n",
       "    <tr>\n",
       "      <th>2</th>\n",
       "      <td>3</td>\n",
       "      <td>12/31/2008</td>\n",
       "      <td>23.00</td>\n",
       "      <td>&lt;NA&gt;</td>\n",
       "      <td>M</td>\n",
       "    </tr>\n",
       "    <tr>\n",
       "      <th>3</th>\n",
       "      <td>1</td>\n",
       "      <td>12/31/2009</td>\n",
       "      <td>0.87</td>\n",
       "      <td>Finance</td>\n",
       "      <td>1</td>\n",
       "    </tr>\n",
       "    <tr>\n",
       "      <th>4</th>\n",
       "      <td>2</td>\n",
       "      <td>12/31/2009</td>\n",
       "      <td>NaN</td>\n",
       "      <td>Construction</td>\n",
       "      <td>2</td>\n",
       "    </tr>\n",
       "    <tr>\n",
       "      <th>5</th>\n",
       "      <td>2</td>\n",
       "      <td>12/31/2009</td>\n",
       "      <td>0.34</td>\n",
       "      <td>Constructionion</td>\n",
       "      <td>2</td>\n",
       "    </tr>\n",
       "  </tbody>\n",
       "</table>\n",
       "</div>"
      ],
      "text/plain": [
       "   firmid        date  return         industry ind_code\n",
       "0       1  12/31/2008    0.05          Finance        1\n",
       "1       2         NaN    0.45  Constructionion        2\n",
       "2       3  12/31/2008   23.00             <NA>        M\n",
       "3       1  12/31/2009    0.87          Finance        1\n",
       "4       2  12/31/2009     NaN     Construction        2\n",
       "5       2  12/31/2009    0.34  Constructionion        2"
      ]
     },
     "execution_count": 84,
     "metadata": {},
     "output_type": "execute_result"
    }
   ],
   "source": [
    "df['industry'] = df['industry'].str.replace(\"Construct\",\"Construction\")\n",
    "df"
   ]
  },
  {
   "cell_type": "code",
   "execution_count": 85,
   "id": "c9ca8011",
   "metadata": {},
   "outputs": [
    {
     "data": {
      "text/html": [
       "<div>\n",
       "<style scoped>\n",
       "    .dataframe tbody tr th:only-of-type {\n",
       "        vertical-align: middle;\n",
       "    }\n",
       "\n",
       "    .dataframe tbody tr th {\n",
       "        vertical-align: top;\n",
       "    }\n",
       "\n",
       "    .dataframe thead th {\n",
       "        text-align: right;\n",
       "    }\n",
       "</style>\n",
       "<table border=\"1\" class=\"dataframe\">\n",
       "  <thead>\n",
       "    <tr style=\"text-align: right;\">\n",
       "      <th></th>\n",
       "      <th>firmid</th>\n",
       "      <th>date</th>\n",
       "      <th>return</th>\n",
       "      <th>industry</th>\n",
       "      <th>ind_code</th>\n",
       "    </tr>\n",
       "  </thead>\n",
       "  <tbody>\n",
       "    <tr>\n",
       "      <th>0</th>\n",
       "      <td>1</td>\n",
       "      <td>12/31/2008</td>\n",
       "      <td>0.05</td>\n",
       "      <td>Finance</td>\n",
       "      <td>1</td>\n",
       "    </tr>\n",
       "    <tr>\n",
       "      <th>1</th>\n",
       "      <td>2</td>\n",
       "      <td>NaN</td>\n",
       "      <td>0.45</td>\n",
       "      <td>Construction</td>\n",
       "      <td>2</td>\n",
       "    </tr>\n",
       "    <tr>\n",
       "      <th>2</th>\n",
       "      <td>3</td>\n",
       "      <td>12/31/2008</td>\n",
       "      <td>23.00</td>\n",
       "      <td>&lt;NA&gt;</td>\n",
       "      <td>M</td>\n",
       "    </tr>\n",
       "    <tr>\n",
       "      <th>3</th>\n",
       "      <td>1</td>\n",
       "      <td>12/31/2009</td>\n",
       "      <td>0.87</td>\n",
       "      <td>Finance</td>\n",
       "      <td>1</td>\n",
       "    </tr>\n",
       "    <tr>\n",
       "      <th>4</th>\n",
       "      <td>2</td>\n",
       "      <td>12/31/2009</td>\n",
       "      <td>NaN</td>\n",
       "      <td>Construction</td>\n",
       "      <td>2</td>\n",
       "    </tr>\n",
       "    <tr>\n",
       "      <th>5</th>\n",
       "      <td>2</td>\n",
       "      <td>12/31/2009</td>\n",
       "      <td>0.34</td>\n",
       "      <td>Construction</td>\n",
       "      <td>2</td>\n",
       "    </tr>\n",
       "  </tbody>\n",
       "</table>\n",
       "</div>"
      ],
      "text/plain": [
       "   firmid        date  return      industry ind_code\n",
       "0       1  12/31/2008    0.05       Finance        1\n",
       "1       2         NaN    0.45  Construction        2\n",
       "2       3  12/31/2008   23.00          <NA>        M\n",
       "3       1  12/31/2009    0.87       Finance        1\n",
       "4       2  12/31/2009     NaN  Construction        2\n",
       "5       2  12/31/2009    0.34  Construction        2"
      ]
     },
     "execution_count": 85,
     "metadata": {},
     "output_type": "execute_result"
    }
   ],
   "source": [
    "df.loc[df['industry'].str.contains('Cons'), 'industry'] = 'Construction'\n",
    "df"
   ]
  },
  {
   "cell_type": "markdown",
   "id": "e2b011fb",
   "metadata": {},
   "source": [
    "## Splitting"
   ]
  },
  {
   "cell_type": "code",
   "execution_count": 86,
   "id": "342d7378",
   "metadata": {},
   "outputs": [
    {
     "data": {
      "text/html": [
       "<div>\n",
       "<style scoped>\n",
       "    .dataframe tbody tr th:only-of-type {\n",
       "        vertical-align: middle;\n",
       "    }\n",
       "\n",
       "    .dataframe tbody tr th {\n",
       "        vertical-align: top;\n",
       "    }\n",
       "\n",
       "    .dataframe thead th {\n",
       "        text-align: right;\n",
       "    }\n",
       "</style>\n",
       "<table border=\"1\" class=\"dataframe\">\n",
       "  <thead>\n",
       "    <tr style=\"text-align: right;\">\n",
       "      <th></th>\n",
       "      <th>firmid</th>\n",
       "      <th>date</th>\n",
       "      <th>return</th>\n",
       "      <th>industry</th>\n",
       "      <th>ind_code</th>\n",
       "      <th>month</th>\n",
       "      <th>day</th>\n",
       "      <th>year</th>\n",
       "    </tr>\n",
       "  </thead>\n",
       "  <tbody>\n",
       "    <tr>\n",
       "      <th>0</th>\n",
       "      <td>1</td>\n",
       "      <td>12/31/2008</td>\n",
       "      <td>0.05</td>\n",
       "      <td>Finance</td>\n",
       "      <td>1</td>\n",
       "      <td>12</td>\n",
       "      <td>31</td>\n",
       "      <td>2008</td>\n",
       "    </tr>\n",
       "    <tr>\n",
       "      <th>1</th>\n",
       "      <td>2</td>\n",
       "      <td>NaN</td>\n",
       "      <td>0.45</td>\n",
       "      <td>Construction</td>\n",
       "      <td>2</td>\n",
       "      <td>NaN</td>\n",
       "      <td>NaN</td>\n",
       "      <td>NaN</td>\n",
       "    </tr>\n",
       "    <tr>\n",
       "      <th>2</th>\n",
       "      <td>3</td>\n",
       "      <td>12/31/2008</td>\n",
       "      <td>23.00</td>\n",
       "      <td>&lt;NA&gt;</td>\n",
       "      <td>M</td>\n",
       "      <td>12</td>\n",
       "      <td>31</td>\n",
       "      <td>2008</td>\n",
       "    </tr>\n",
       "    <tr>\n",
       "      <th>3</th>\n",
       "      <td>1</td>\n",
       "      <td>12/31/2009</td>\n",
       "      <td>0.87</td>\n",
       "      <td>Finance</td>\n",
       "      <td>1</td>\n",
       "      <td>12</td>\n",
       "      <td>31</td>\n",
       "      <td>2009</td>\n",
       "    </tr>\n",
       "    <tr>\n",
       "      <th>4</th>\n",
       "      <td>2</td>\n",
       "      <td>12/31/2009</td>\n",
       "      <td>NaN</td>\n",
       "      <td>Construction</td>\n",
       "      <td>2</td>\n",
       "      <td>12</td>\n",
       "      <td>31</td>\n",
       "      <td>2009</td>\n",
       "    </tr>\n",
       "    <tr>\n",
       "      <th>5</th>\n",
       "      <td>2</td>\n",
       "      <td>12/31/2009</td>\n",
       "      <td>0.34</td>\n",
       "      <td>Construction</td>\n",
       "      <td>2</td>\n",
       "      <td>12</td>\n",
       "      <td>31</td>\n",
       "      <td>2009</td>\n",
       "    </tr>\n",
       "  </tbody>\n",
       "</table>\n",
       "</div>"
      ],
      "text/plain": [
       "   firmid        date  return      industry ind_code month  day  year\n",
       "0       1  12/31/2008    0.05       Finance        1    12   31  2008\n",
       "1       2         NaN    0.45  Construction        2   NaN  NaN   NaN\n",
       "2       3  12/31/2008   23.00          <NA>        M    12   31  2008\n",
       "3       1  12/31/2009    0.87       Finance        1    12   31  2009\n",
       "4       2  12/31/2009     NaN  Construction        2    12   31  2009\n",
       "5       2  12/31/2009    0.34  Construction        2    12   31  2009"
      ]
     },
     "execution_count": 86,
     "metadata": {},
     "output_type": "execute_result"
    }
   ],
   "source": [
    "df[['month','day','year']] = df['date'].str.split(pat = \"/\", expand = True)\n",
    "df"
   ]
  },
  {
   "cell_type": "markdown",
   "id": "781a9755",
   "metadata": {},
   "source": [
    "## Stripping white spaces"
   ]
  },
  {
   "cell_type": "code",
   "execution_count": 87,
   "id": "3d2ed25b",
   "metadata": {},
   "outputs": [
    {
     "data": {
      "text/html": [
       "<div>\n",
       "<style scoped>\n",
       "    .dataframe tbody tr th:only-of-type {\n",
       "        vertical-align: middle;\n",
       "    }\n",
       "\n",
       "    .dataframe tbody tr th {\n",
       "        vertical-align: top;\n",
       "    }\n",
       "\n",
       "    .dataframe thead th {\n",
       "        text-align: right;\n",
       "    }\n",
       "</style>\n",
       "<table border=\"1\" class=\"dataframe\">\n",
       "  <thead>\n",
       "    <tr style=\"text-align: right;\">\n",
       "      <th></th>\n",
       "      <th>Column A</th>\n",
       "      <th>Column B</th>\n",
       "    </tr>\n",
       "  </thead>\n",
       "  <tbody>\n",
       "    <tr>\n",
       "      <th>0</th>\n",
       "      <td>1.764450</td>\n",
       "      <td>0.697717</td>\n",
       "    </tr>\n",
       "    <tr>\n",
       "      <th>1</th>\n",
       "      <td>-0.865316</td>\n",
       "      <td>-0.428507</td>\n",
       "    </tr>\n",
       "    <tr>\n",
       "      <th>2</th>\n",
       "      <td>0.165881</td>\n",
       "      <td>0.089415</td>\n",
       "    </tr>\n",
       "  </tbody>\n",
       "</table>\n",
       "</div>"
      ],
      "text/plain": [
       "    Column A    Column B \n",
       "0    1.764450    0.697717\n",
       "1   -0.865316   -0.428507\n",
       "2    0.165881    0.089415"
      ]
     },
     "execution_count": 87,
     "metadata": {},
     "output_type": "execute_result"
    }
   ],
   "source": [
    "newdf = pd.DataFrame(np.random.randn(3, 2), columns=[\" Column A \", \" Column B \"])\n",
    "newdf"
   ]
  },
  {
   "cell_type": "code",
   "execution_count": 88,
   "id": "d205bc9e",
   "metadata": {},
   "outputs": [],
   "source": [
    "#newdf['Column A'] #this will not work"
   ]
  },
  {
   "cell_type": "code",
   "execution_count": 89,
   "id": "317eff10",
   "metadata": {},
   "outputs": [
    {
     "data": {
      "text/html": [
       "<div>\n",
       "<style scoped>\n",
       "    .dataframe tbody tr th:only-of-type {\n",
       "        vertical-align: middle;\n",
       "    }\n",
       "\n",
       "    .dataframe tbody tr th {\n",
       "        vertical-align: top;\n",
       "    }\n",
       "\n",
       "    .dataframe thead th {\n",
       "        text-align: right;\n",
       "    }\n",
       "</style>\n",
       "<table border=\"1\" class=\"dataframe\">\n",
       "  <thead>\n",
       "    <tr style=\"text-align: right;\">\n",
       "      <th></th>\n",
       "      <th>Column A</th>\n",
       "      <th>Column B</th>\n",
       "    </tr>\n",
       "  </thead>\n",
       "  <tbody>\n",
       "    <tr>\n",
       "      <th>0</th>\n",
       "      <td>1.764450</td>\n",
       "      <td>0.697717</td>\n",
       "    </tr>\n",
       "    <tr>\n",
       "      <th>1</th>\n",
       "      <td>-0.865316</td>\n",
       "      <td>-0.428507</td>\n",
       "    </tr>\n",
       "    <tr>\n",
       "      <th>2</th>\n",
       "      <td>0.165881</td>\n",
       "      <td>0.089415</td>\n",
       "    </tr>\n",
       "  </tbody>\n",
       "</table>\n",
       "</div>"
      ],
      "text/plain": [
       "   Column A  Column B\n",
       "0  1.764450  0.697717\n",
       "1 -0.865316 -0.428507\n",
       "2  0.165881  0.089415"
      ]
     },
     "execution_count": 89,
     "metadata": {},
     "output_type": "execute_result"
    }
   ],
   "source": [
    "newdf.columns = newdf.columns.str.strip()\n",
    "newdf"
   ]
  },
  {
   "cell_type": "code",
   "execution_count": 90,
   "id": "af062e35",
   "metadata": {},
   "outputs": [
    {
     "data": {
      "text/plain": [
       "0    1.764450\n",
       "1   -0.865316\n",
       "2    0.165881\n",
       "Name: Column A, dtype: float64"
      ]
     },
     "execution_count": 90,
     "metadata": {},
     "output_type": "execute_result"
    }
   ],
   "source": [
    "newdf['Column A'] #this will work"
   ]
  },
  {
   "cell_type": "markdown",
   "id": "359cc0ab",
   "metadata": {},
   "source": [
    "## Chaining .str methods"
   ]
  },
  {
   "cell_type": "code",
   "execution_count": 91,
   "id": "83853ed6",
   "metadata": {},
   "outputs": [
    {
     "data": {
      "text/html": [
       "<div>\n",
       "<style scoped>\n",
       "    .dataframe tbody tr th:only-of-type {\n",
       "        vertical-align: middle;\n",
       "    }\n",
       "\n",
       "    .dataframe tbody tr th {\n",
       "        vertical-align: top;\n",
       "    }\n",
       "\n",
       "    .dataframe thead th {\n",
       "        text-align: right;\n",
       "    }\n",
       "</style>\n",
       "<table border=\"1\" class=\"dataframe\">\n",
       "  <thead>\n",
       "    <tr style=\"text-align: right;\">\n",
       "      <th></th>\n",
       "      <th>column_a</th>\n",
       "      <th>column_b</th>\n",
       "    </tr>\n",
       "  </thead>\n",
       "  <tbody>\n",
       "    <tr>\n",
       "      <th>0</th>\n",
       "      <td>1.764450</td>\n",
       "      <td>0.697717</td>\n",
       "    </tr>\n",
       "    <tr>\n",
       "      <th>1</th>\n",
       "      <td>-0.865316</td>\n",
       "      <td>-0.428507</td>\n",
       "    </tr>\n",
       "    <tr>\n",
       "      <th>2</th>\n",
       "      <td>0.165881</td>\n",
       "      <td>0.089415</td>\n",
       "    </tr>\n",
       "  </tbody>\n",
       "</table>\n",
       "</div>"
      ],
      "text/plain": [
       "   column_a  column_b\n",
       "0  1.764450  0.697717\n",
       "1 -0.865316 -0.428507\n",
       "2  0.165881  0.089415"
      ]
     },
     "execution_count": 91,
     "metadata": {},
     "output_type": "execute_result"
    }
   ],
   "source": [
    "newdf.columns = newdf.columns.str.strip().str.replace(\" \",\"_\").str.lower()\n",
    "newdf"
   ]
  }
 ],
 "metadata": {
  "kernelspec": {
   "display_name": "base",
   "language": "python",
   "name": "python3"
  },
  "language_info": {
   "codemirror_mode": {
    "name": "ipython",
    "version": 3
   },
   "file_extension": ".py",
   "mimetype": "text/x-python",
   "name": "python",
   "nbconvert_exporter": "python",
   "pygments_lexer": "ipython3",
   "version": "3.8.5"
  },
  "toc": {
   "base_numbering": 1,
   "nav_menu": {},
   "number_sections": true,
   "sideBar": true,
   "skip_h1_title": false,
   "title_cell": "Table of Contents",
   "title_sidebar": "Contents",
   "toc_cell": true,
   "toc_position": {},
   "toc_section_display": true,
   "toc_window_display": false
  },
  "vscode": {
   "interpreter": {
    "hash": "c0d7515943f2d5e6ef3c63d1d45fe29892fe24bc9a1e3b83271f719b8681d46b"
   }
  }
 },
 "nbformat": 4,
 "nbformat_minor": 5
}
