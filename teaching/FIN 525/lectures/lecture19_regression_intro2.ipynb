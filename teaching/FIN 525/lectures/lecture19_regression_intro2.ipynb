{
 "cells": [
  {
   "cell_type": "markdown",
   "metadata": {
    "toc": true
   },
   "source": [
    "<h1>Table of Contents<span class=\"tocSkip\"></span></h1>\n",
    "<div class=\"toc\"><ul class=\"toc-item\"><li><span><a href=\"#Preliminaries\" data-toc-modified-id=\"Preliminaries-1\"><span class=\"toc-item-num\">1&nbsp;&nbsp;</span>Preliminaries</a></span></li><li><span><a href=\"#Common-uses-for-regression-results\" data-toc-modified-id=\"Common-uses-for-regression-results-2\"><span class=\"toc-item-num\">2&nbsp;&nbsp;</span>Common uses for regression results</a></span><ul class=\"toc-item\"><li><span><a href=\"#Conditional-predictions\" data-toc-modified-id=\"Conditional-predictions-2.1\"><span class=\"toc-item-num\">2.1&nbsp;&nbsp;</span>Conditional predictions</a></span></li><li><span><a href=\"#Unconditional-predictions\" data-toc-modified-id=\"Unconditional-predictions-2.2\"><span class=\"toc-item-num\">2.2&nbsp;&nbsp;</span>Unconditional predictions</a></span></li><li><span><a href=\"#Variance-decomposition\" data-toc-modified-id=\"Variance-decomposition-2.3\"><span class=\"toc-item-num\">2.3&nbsp;&nbsp;</span>Variance decomposition</a></span></li></ul></li><li><span><a href=\"#Interaction-effects-between-explanatory-variables\" data-toc-modified-id=\"Interaction-effects-between-explanatory-variables-3\"><span class=\"toc-item-num\">3&nbsp;&nbsp;</span>Interaction effects between explanatory variables</a></span></li><li><span><a href=\"#Non-linear-explanatory-variables\" data-toc-modified-id=\"Non-linear-explanatory-variables-4\"><span class=\"toc-item-num\">4&nbsp;&nbsp;</span>Non-linear explanatory variables</a></span></li></ul></div>"
   ]
  },
  {
   "cell_type": "markdown",
   "metadata": {},
   "source": [
    "# Preliminaries"
   ]
  },
  {
   "cell_type": "code",
   "execution_count": 1,
   "metadata": {},
   "outputs": [],
   "source": [
    "# Import packages\n",
    "import pandas as pd\n",
    "import numpy as np\n",
    "import yfinance as yf\n",
    "import pandas_datareader as pdr\n",
    "import statsmodels.api as sm"
   ]
  },
  {
   "cell_type": "code",
   "execution_count": 2,
   "metadata": {},
   "outputs": [
    {
     "data": {
      "text/html": [
       "<div>\n",
       "<style scoped>\n",
       "    .dataframe tbody tr th:only-of-type {\n",
       "        vertical-align: middle;\n",
       "    }\n",
       "\n",
       "    .dataframe tbody tr th {\n",
       "        vertical-align: top;\n",
       "    }\n",
       "\n",
       "    .dataframe thead th {\n",
       "        text-align: right;\n",
       "    }\n",
       "</style>\n",
       "<table border=\"1\" class=\"dataframe\">\n",
       "  <thead>\n",
       "    <tr style=\"text-align: right;\">\n",
       "      <th></th>\n",
       "      <th>Mkt-RF</th>\n",
       "      <th>SMB</th>\n",
       "      <th>HML</th>\n",
       "      <th>RF</th>\n",
       "    </tr>\n",
       "    <tr>\n",
       "      <th>Date</th>\n",
       "      <th></th>\n",
       "      <th></th>\n",
       "      <th></th>\n",
       "      <th></th>\n",
       "    </tr>\n",
       "  </thead>\n",
       "  <tbody>\n",
       "    <tr>\n",
       "      <th>2012-01</th>\n",
       "      <td>0.0505</td>\n",
       "      <td>0.0206</td>\n",
       "      <td>-0.0094</td>\n",
       "      <td>0.0</td>\n",
       "    </tr>\n",
       "    <tr>\n",
       "      <th>2012-02</th>\n",
       "      <td>0.0442</td>\n",
       "      <td>-0.0186</td>\n",
       "      <td>0.0043</td>\n",
       "      <td>0.0</td>\n",
       "    </tr>\n",
       "  </tbody>\n",
       "</table>\n",
       "</div>"
      ],
      "text/plain": [
       "         Mkt-RF     SMB     HML   RF\n",
       "Date                                \n",
       "2012-01  0.0505  0.0206 -0.0094  0.0\n",
       "2012-02  0.0442 -0.0186  0.0043  0.0"
      ]
     },
     "execution_count": 2,
     "metadata": {},
     "output_type": "execute_result"
    }
   ],
   "source": [
    "# Load Fama-French factor data\n",
    "ff3f = pdr.DataReader('F-F_Research_Data_Factors', 'famafrench', '2012-01-01')[0]/100\n",
    "ff3f.head(2)"
   ]
  },
  {
   "cell_type": "markdown",
   "metadata": {},
   "source": [
    "Load data on TSLA and clean it:"
   ]
  },
  {
   "cell_type": "code",
   "execution_count": 3,
   "metadata": {},
   "outputs": [
    {
     "name": "stdout",
     "output_type": "stream",
     "text": [
      "[*********************100%***********************]  1 of 1 completed\n"
     ]
    },
    {
     "data": {
      "text/html": [
       "<div>\n",
       "<style scoped>\n",
       "    .dataframe tbody tr th:only-of-type {\n",
       "        vertical-align: middle;\n",
       "    }\n",
       "\n",
       "    .dataframe tbody tr th {\n",
       "        vertical-align: top;\n",
       "    }\n",
       "\n",
       "    .dataframe thead th {\n",
       "        text-align: right;\n",
       "    }\n",
       "</style>\n",
       "<table border=\"1\" class=\"dataframe\">\n",
       "  <thead>\n",
       "    <tr style=\"text-align: right;\">\n",
       "      <th></th>\n",
       "      <th>TSLA</th>\n",
       "    </tr>\n",
       "    <tr>\n",
       "      <th>Date</th>\n",
       "      <th></th>\n",
       "    </tr>\n",
       "  </thead>\n",
       "  <tbody>\n",
       "    <tr>\n",
       "      <th>2013-01</th>\n",
       "      <td>0.107470</td>\n",
       "    </tr>\n",
       "    <tr>\n",
       "      <th>2013-02</th>\n",
       "      <td>-0.071448</td>\n",
       "    </tr>\n",
       "  </tbody>\n",
       "</table>\n",
       "</div>"
      ],
      "text/plain": [
       "             TSLA\n",
       "Date             \n",
       "2013-01  0.107470\n",
       "2013-02 -0.071448"
      ]
     },
     "execution_count": 3,
     "metadata": {},
     "output_type": "execute_result"
    }
   ],
   "source": [
    "    # Download monthly prices (keep only Adjusted Close prices)\n",
    "firm_prices = yf.download('TSLA', '2012-12-01', '2020-12-31', interval = '1mo')['Adj Close'].dropna().to_frame()\n",
    "\n",
    "    # Calculate monthly returns, drop missing, convert from Series to DataFrame\n",
    "firm_ret = firm_prices.pct_change().dropna()\n",
    "\n",
    "    # Rename \"Adj Close\" to \"TSLA\"\n",
    "firm_ret.rename(columns = {'Adj Close': 'TSLA'}, inplace = True)\n",
    "\n",
    "    # Convert index to monthly period date\n",
    "firm_ret.index = firm_ret.index.to_period('M')\n",
    "firm_ret.head(2)"
   ]
  },
  {
   "cell_type": "code",
   "execution_count": 4,
   "metadata": {},
   "outputs": [
    {
     "data": {
      "text/html": [
       "<div>\n",
       "<style scoped>\n",
       "    .dataframe tbody tr th:only-of-type {\n",
       "        vertical-align: middle;\n",
       "    }\n",
       "\n",
       "    .dataframe tbody tr th {\n",
       "        vertical-align: top;\n",
       "    }\n",
       "\n",
       "    .dataframe thead th {\n",
       "        text-align: right;\n",
       "    }\n",
       "</style>\n",
       "<table border=\"1\" class=\"dataframe\">\n",
       "  <thead>\n",
       "    <tr style=\"text-align: right;\">\n",
       "      <th></th>\n",
       "      <th>TSLA</th>\n",
       "      <th>Mkt-RF</th>\n",
       "      <th>SMB</th>\n",
       "      <th>HML</th>\n",
       "      <th>RF</th>\n",
       "      <th>const</th>\n",
       "    </tr>\n",
       "    <tr>\n",
       "      <th>Date</th>\n",
       "      <th></th>\n",
       "      <th></th>\n",
       "      <th></th>\n",
       "      <th></th>\n",
       "      <th></th>\n",
       "      <th></th>\n",
       "    </tr>\n",
       "  </thead>\n",
       "  <tbody>\n",
       "    <tr>\n",
       "      <th>2013-01</th>\n",
       "      <td>0.107470</td>\n",
       "      <td>0.0557</td>\n",
       "      <td>0.0031</td>\n",
       "      <td>0.0095</td>\n",
       "      <td>0.0</td>\n",
       "      <td>1</td>\n",
       "    </tr>\n",
       "    <tr>\n",
       "      <th>2013-02</th>\n",
       "      <td>-0.071448</td>\n",
       "      <td>0.0129</td>\n",
       "      <td>-0.0033</td>\n",
       "      <td>0.0010</td>\n",
       "      <td>0.0</td>\n",
       "      <td>1</td>\n",
       "    </tr>\n",
       "  </tbody>\n",
       "</table>\n",
       "</div>"
      ],
      "text/plain": [
       "             TSLA  Mkt-RF     SMB     HML   RF  const\n",
       "Date                                                 \n",
       "2013-01  0.107470  0.0557  0.0031  0.0095  0.0      1\n",
       "2013-02 -0.071448  0.0129 -0.0033  0.0010  0.0      1"
      ]
     },
     "execution_count": 4,
     "metadata": {},
     "output_type": "execute_result"
    }
   ],
   "source": [
    "# Merge the two datasets\n",
    "data = firm_ret.join(ff3f)\n",
    "data['const'] = 1\n",
    "data.head(2)"
   ]
  },
  {
   "cell_type": "code",
   "execution_count": 5,
   "metadata": {},
   "outputs": [
    {
     "data": {
      "text/plain": [
       "Date\n",
       "2013-01    0.107470\n",
       "2013-02   -0.071448\n",
       "Freq: M, dtype: float64"
      ]
     },
     "execution_count": 5,
     "metadata": {},
     "output_type": "execute_result"
    }
   ],
   "source": [
    "# Set up the data\n",
    "    # Dependent variable (left side of the equal sign)\n",
    "y = data['TSLA'] - data['RF']\n",
    "y.head(2)"
   ]
  },
  {
   "cell_type": "code",
   "execution_count": 6,
   "metadata": {},
   "outputs": [
    {
     "data": {
      "text/html": [
       "<div>\n",
       "<style scoped>\n",
       "    .dataframe tbody tr th:only-of-type {\n",
       "        vertical-align: middle;\n",
       "    }\n",
       "\n",
       "    .dataframe tbody tr th {\n",
       "        vertical-align: top;\n",
       "    }\n",
       "\n",
       "    .dataframe thead th {\n",
       "        text-align: right;\n",
       "    }\n",
       "</style>\n",
       "<table border=\"1\" class=\"dataframe\">\n",
       "  <thead>\n",
       "    <tr style=\"text-align: right;\">\n",
       "      <th></th>\n",
       "      <th>const</th>\n",
       "      <th>Mkt-RF</th>\n",
       "    </tr>\n",
       "    <tr>\n",
       "      <th>Date</th>\n",
       "      <th></th>\n",
       "      <th></th>\n",
       "    </tr>\n",
       "  </thead>\n",
       "  <tbody>\n",
       "    <tr>\n",
       "      <th>2013-01</th>\n",
       "      <td>1</td>\n",
       "      <td>0.0557</td>\n",
       "    </tr>\n",
       "    <tr>\n",
       "      <th>2013-02</th>\n",
       "      <td>1</td>\n",
       "      <td>0.0129</td>\n",
       "    </tr>\n",
       "  </tbody>\n",
       "</table>\n",
       "</div>"
      ],
      "text/plain": [
       "         const  Mkt-RF\n",
       "Date                  \n",
       "2013-01      1  0.0557\n",
       "2013-02      1  0.0129"
      ]
     },
     "execution_count": 6,
     "metadata": {},
     "output_type": "execute_result"
    }
   ],
   "source": [
    "    # Independent variable(s) (right side of the equal sign)\n",
    "X = data[['const','Mkt-RF']]\n",
    "X.head(2)"
   ]
  },
  {
   "cell_type": "code",
   "execution_count": 7,
   "metadata": {},
   "outputs": [
    {
     "name": "stdout",
     "output_type": "stream",
     "text": [
      "                            OLS Regression Results                            \n",
      "==============================================================================\n",
      "Dep. Variable:                      y   R-squared:                       0.155\n",
      "Model:                            OLS   Adj. R-squared:                  0.146\n",
      "Method:                 Least Squares   F-statistic:                     17.26\n",
      "Date:                Mon, 28 Mar 2022   Prob (F-statistic):           7.19e-05\n",
      "Time:                        08:49:43   Log-Likelihood:                 30.143\n",
      "No. Observations:                  96   AIC:                            -56.29\n",
      "Df Residuals:                      94   BIC:                            -51.16\n",
      "Df Model:                           1                                         \n",
      "Covariance Type:            nonrobust                                         \n",
      "==============================================================================\n",
      "                 coef    std err          t      P>|t|      [0.025      0.975]\n",
      "------------------------------------------------------------------------------\n",
      "const          0.0416      0.019      2.185      0.031       0.004       0.079\n",
      "Mkt-RF         1.8300      0.441      4.154      0.000       0.955       2.705\n",
      "==============================================================================\n",
      "Omnibus:                       29.750   Durbin-Watson:                   1.561\n",
      "Prob(Omnibus):                  0.000   Jarque-Bera (JB):               56.488\n",
      "Skew:                           1.227   Prob(JB):                     5.42e-13\n",
      "Kurtosis:                       5.846   Cond. No.                         24.2\n",
      "==============================================================================\n",
      "\n",
      "Notes:\n",
      "[1] Standard Errors assume that the covariance matrix of the errors is correctly specified.\n"
     ]
    }
   ],
   "source": [
    "# Run regression and store results in \"res\" object\n",
    "res = sm.OLS(y,X).fit()\n",
    "print(res.summary())"
   ]
  },
  {
   "cell_type": "markdown",
   "metadata": {},
   "source": [
    "**Challenge**:\n",
    "\n",
    "Estimate the Fama-French three factor model using the data gathered above"
   ]
  },
  {
   "cell_type": "code",
   "execution_count": 8,
   "metadata": {},
   "outputs": [
    {
     "name": "stdout",
     "output_type": "stream",
     "text": [
      "                            OLS Regression Results                            \n",
      "==============================================================================\n",
      "Dep. Variable:                      y   R-squared:                       0.164\n",
      "Model:                            OLS   Adj. R-squared:                  0.137\n",
      "Method:                 Least Squares   F-statistic:                     6.021\n",
      "Date:                Mon, 28 Mar 2022   Prob (F-statistic):           0.000862\n",
      "Time:                        08:49:43   Log-Likelihood:                 30.657\n",
      "No. Observations:                  96   AIC:                            -53.31\n",
      "Df Residuals:                      92   BIC:                            -43.06\n",
      "Df Model:                           3                                         \n",
      "Covariance Type:            nonrobust                                         \n",
      "==============================================================================\n",
      "                 coef    std err          t      P>|t|      [0.025      0.975]\n",
      "------------------------------------------------------------------------------\n",
      "const          0.0371      0.020      1.873      0.064      -0.002       0.076\n",
      "Mkt-RF         1.8838      0.481      3.919      0.000       0.929       2.838\n",
      "SMB            0.1771      0.794      0.223      0.824      -1.400       1.755\n",
      "HML           -0.6607      0.667     -0.991      0.324      -1.985       0.664\n",
      "==============================================================================\n",
      "Omnibus:                       31.331   Durbin-Watson:                   1.586\n",
      "Prob(Omnibus):                  0.000   Jarque-Bera (JB):               62.428\n",
      "Skew:                           1.268   Prob(JB):                     2.78e-14\n",
      "Kurtosis:                       6.029   Cond. No.                         45.0\n",
      "==============================================================================\n",
      "\n",
      "Notes:\n",
      "[1] Standard Errors assume that the covariance matrix of the errors is correctly specified.\n"
     ]
    }
   ],
   "source": [
    "# Set up X variables\n",
    "X3 = data[['const','Mkt-RF','SMB','HML']]\n",
    "# Run regression\n",
    "res3 = sm.OLS(y,X3).fit()\n",
    "print(res3.summary())"
   ]
  },
  {
   "cell_type": "markdown",
   "metadata": {},
   "source": [
    "# Common uses for regression results\n",
    "\n",
    "Assume that we ran a regression of the form:\n",
    "\n",
    "\n",
    "$$y_t = \\alpha + \\beta \\cdot x_t + \\epsilon_t $$\n",
    "\n",
    "In the CAPM regression we ran above, $y_t$ is the excess return on TSLA and $x_t$ is the excess return on the market:\n",
    "\n",
    "$$R_{i,t} - R_{f,t} = \\alpha_i + \\beta_i (R_{m,t} - R_{f,t}) + \\epsilon_{i,t}$$\n"
   ]
  },
  {
   "cell_type": "markdown",
   "metadata": {},
   "source": [
    "## Conditional predictions\n",
    "\n",
    "We can use the results of our regression to estimate what we should expect the value of the dependent variable to be, if we knew the value of the independent variable(s). Mathematically, this is given by:\n",
    "\n",
    "$$ E[y_t | x_t] = \\alpha + \\beta \\cdot x_t $$"
   ]
  },
  {
   "cell_type": "markdown",
   "metadata": {},
   "source": [
    "**Example**:\n",
    "\n",
    "Using the results from the single-factor regression above, what is the expected excess return of TSLA if the market excess return is 2%? "
   ]
  },
  {
   "cell_type": "code",
   "execution_count": 9,
   "metadata": {},
   "outputs": [
    {
     "name": "stdout",
     "output_type": "stream",
     "text": [
      "alpha= 0.041630987538345834 \n",
      " beta= 1.829989418169259\n"
     ]
    }
   ],
   "source": [
    "# Extract coefficients from the results object\n",
    "alpha = res.params['const']\n",
    "beta = res.params['Mkt-RF']\n",
    "print(\"alpha=\",alpha,'\\n','beta=',beta)"
   ]
  },
  {
   "cell_type": "code",
   "execution_count": 10,
   "metadata": {},
   "outputs": [
    {
     "name": "stdout",
     "output_type": "stream",
     "text": [
      "Expected excess return of TSLA if market excess return is 2%:  0.07823077590173103\n"
     ]
    }
   ],
   "source": [
    "# Conditional prediction\n",
    "tsla_cond_prediction = alpha + beta * 0.02\n",
    "print(\"Expected excess return of TSLA if market excess return is 2%: \", tsla_cond_prediction)"
   ]
  },
  {
   "cell_type": "markdown",
   "metadata": {},
   "source": [
    "**Challenge**:\n",
    "\n",
    "Using the results from the three-factor regression above, what is the expected excess return of TSLA if the market excess return is 2%, the SMB return -1% and the HML return is 0.5%? "
   ]
  },
  {
   "cell_type": "code",
   "execution_count": 11,
   "metadata": {},
   "outputs": [],
   "source": [
    "# Extract params\n",
    "alpha3 = res3.params['const']\n",
    "beta_mkt = res3.params['Mkt-RF']\n",
    "beta_smb = res3.params['SMB']\n",
    "beta_hml = res3.params['HML']"
   ]
  },
  {
   "cell_type": "code",
   "execution_count": 12,
   "metadata": {},
   "outputs": [
    {
     "data": {
      "text/plain": [
       "0.06971839299927778"
      ]
     },
     "execution_count": 12,
     "metadata": {},
     "output_type": "execute_result"
    }
   ],
   "source": [
    "# Prediction\n",
    "tsla_uncond_pred3 = alpha3 + beta_mkt * 0.02 + beta_smb * (-0.01) + beta_hml * 0.005\n",
    "tsla_uncond_pred3"
   ]
  },
  {
   "cell_type": "code",
   "execution_count": 36,
   "metadata": {},
   "outputs": [
    {
     "data": {
      "text/plain": [
       "0.06971839299927778"
      ]
     },
     "execution_count": 36,
     "metadata": {},
     "output_type": "execute_result"
    }
   ],
   "source": [
    "[1, 0.02, -0.01, 0.005] @ res3.params"
   ]
  },
  {
   "cell_type": "markdown",
   "metadata": {},
   "source": [
    "## Unconditional predictions\n",
    "\n",
    "We can use the results of our regression to estimate what we should expect the value of the dependent variable to be, using our best guess for the value of the independent variable(s). Mathematically, this is given by:\n",
    "\n",
    "$$ E[y_t] = \\alpha + \\beta \\cdot E[x_t] $$"
   ]
  },
  {
   "cell_type": "markdown",
   "metadata": {},
   "source": [
    "**Example**:\n",
    "\n",
    "Using the results from the regression above, what is the expected excess return of TSLA (i.e the risk premium on TSLA)? To answer this question, we must first estimate $E[R_m - R_f]$ (i.e. the market risk premium). We do so by taking an average of the excess returns on the market over a very long time (below we use the last 90 years). "
   ]
  },
  {
   "cell_type": "code",
   "execution_count": 13,
   "metadata": {},
   "outputs": [
    {
     "data": {
      "text/html": [
       "<div>\n",
       "<style scoped>\n",
       "    .dataframe tbody tr th:only-of-type {\n",
       "        vertical-align: middle;\n",
       "    }\n",
       "\n",
       "    .dataframe tbody tr th {\n",
       "        vertical-align: top;\n",
       "    }\n",
       "\n",
       "    .dataframe thead th {\n",
       "        text-align: right;\n",
       "    }\n",
       "</style>\n",
       "<table border=\"1\" class=\"dataframe\">\n",
       "  <thead>\n",
       "    <tr style=\"text-align: right;\">\n",
       "      <th></th>\n",
       "      <th>Mkt-RF</th>\n",
       "      <th>SMB</th>\n",
       "      <th>HML</th>\n",
       "      <th>RF</th>\n",
       "    </tr>\n",
       "    <tr>\n",
       "      <th>Date</th>\n",
       "      <th></th>\n",
       "      <th></th>\n",
       "      <th></th>\n",
       "      <th></th>\n",
       "    </tr>\n",
       "  </thead>\n",
       "  <tbody>\n",
       "    <tr>\n",
       "      <th>1930-01</th>\n",
       "      <td>0.0561</td>\n",
       "      <td>0.0353</td>\n",
       "      <td>-0.0092</td>\n",
       "      <td>0.0014</td>\n",
       "    </tr>\n",
       "    <tr>\n",
       "      <th>1930-02</th>\n",
       "      <td>0.0250</td>\n",
       "      <td>0.0019</td>\n",
       "      <td>0.0020</td>\n",
       "      <td>0.0030</td>\n",
       "    </tr>\n",
       "  </tbody>\n",
       "</table>\n",
       "</div>"
      ],
      "text/plain": [
       "         Mkt-RF     SMB     HML      RF\n",
       "Date                                   \n",
       "1930-01  0.0561  0.0353 -0.0092  0.0014\n",
       "1930-02  0.0250  0.0019  0.0020  0.0030"
      ]
     },
     "execution_count": 13,
     "metadata": {},
     "output_type": "execute_result"
    }
   ],
   "source": [
    "# Download 100 years of data on market excess returns\n",
    "ff3f_long = pdr.DataReader('F-F_Research_Data_Factors', 'famafrench', '1930-01-01','2020-12-31')[0]/100\n",
    "ff3f_long.head(2)"
   ]
  },
  {
   "cell_type": "code",
   "execution_count": 14,
   "metadata": {},
   "outputs": [
    {
     "data": {
      "text/plain": [
       "0.0066291208791208825"
      ]
     },
     "execution_count": 14,
     "metadata": {},
     "output_type": "execute_result"
    }
   ],
   "source": [
    "# Estimate (monthly) market risk premium\n",
    "mkt_risk_premium = ff3f_long['Mkt-RF'].mean()\n",
    "mkt_risk_premium"
   ]
  },
  {
   "cell_type": "code",
   "execution_count": 15,
   "metadata": {},
   "outputs": [
    {
     "name": "stdout",
     "output_type": "stream",
     "text": [
      "TSLA risk premium =  0.05376220859890195\n"
     ]
    }
   ],
   "source": [
    "# Estimate TSLA risk premium\n",
    "tsla_uncond_prediction = alpha + beta * mkt_risk_premium\n",
    "print(\"TSLA risk premium = \", tsla_uncond_prediction)"
   ]
  },
  {
   "cell_type": "markdown",
   "metadata": {},
   "source": [
    "**Challenge**:\n",
    "\n",
    "Estimate the risk-premium of TSLA using the three-factor model, and risk-premia estimated using the last 90 years of data."
   ]
  },
  {
   "cell_type": "code",
   "execution_count": 16,
   "metadata": {},
   "outputs": [
    {
     "data": {
      "text/plain": [
       "Mkt-RF    0.006629\n",
       "SMB       0.002504\n",
       "HML       0.003253\n",
       "RF        0.002693\n",
       "dtype: float64"
      ]
     },
     "execution_count": 16,
     "metadata": {},
     "output_type": "execute_result"
    }
   ],
   "source": [
    "# Estimate risk-premia\n",
    "premia = ff3f_long.mean()\n",
    "premia"
   ]
  },
  {
   "cell_type": "code",
   "execution_count": 17,
   "metadata": {},
   "outputs": [
    {
     "data": {
      "text/plain": [
       "0.047898710808046654"
      ]
     },
     "execution_count": 17,
     "metadata": {},
     "output_type": "execute_result"
    }
   ],
   "source": [
    "# Estimate TSLA risk premium\n",
    "tsla_premium_3f = alpha3 + beta_mkt * premia['Mkt-RF'] + beta_smb * premia['SMB'] + beta_hml * premia['HML']\n",
    "tsla_premium_3f"
   ]
  },
  {
   "cell_type": "markdown",
   "metadata": {},
   "source": [
    "## Variance decomposition\n",
    "\n",
    "The regression results can allow us to decompose the total variance of the dependent variable into the portion that can be explained by the variance in the explanatory variables and the portion that can not be explained by these variables. Mathematically, the regression equation implies:\n",
    "\n",
    "$$ Var[Y] = \\beta^2 \\cdot Var[X] + Var[\\epsilon] $$"
   ]
  },
  {
   "cell_type": "markdown",
   "metadata": {},
   "source": [
    "**Example**:\n",
    "\n",
    "Using the results from the regression above, calculate the total variance of TSLA, as well as its systematic variance and its idiosyncratic variance."
   ]
  },
  {
   "cell_type": "code",
   "execution_count": 18,
   "metadata": {},
   "outputs": [
    {
     "data": {
      "text/plain": [
       "0.037372232872271184"
      ]
     },
     "execution_count": 18,
     "metadata": {},
     "output_type": "execute_result"
    }
   ],
   "source": [
    "# Total risk of tesla (variance)\n",
    "tot_risk  = y.var()\n",
    "tot_risk"
   ]
  },
  {
   "cell_type": "code",
   "execution_count": 19,
   "metadata": {},
   "outputs": [
    {
     "data": {
      "text/plain": [
       "0.005796835794247544"
      ]
     },
     "execution_count": 19,
     "metadata": {},
     "output_type": "execute_result"
    }
   ],
   "source": [
    "# Systematic risk\n",
    "sys_risk  = (beta**2) * data['Mkt-RF'].var() \n",
    "sys_risk"
   ]
  },
  {
   "cell_type": "code",
   "execution_count": 20,
   "metadata": {},
   "outputs": [
    {
     "data": {
      "text/plain": [
       "0.03157539707802364"
      ]
     },
     "execution_count": 20,
     "metadata": {},
     "output_type": "execute_result"
    }
   ],
   "source": [
    "# Idiosyncratic risk\n",
    "idio_risk = tot_risk - sys_risk\n",
    "idio_risk"
   ]
  },
  {
   "cell_type": "code",
   "execution_count": 21,
   "metadata": {},
   "outputs": [
    {
     "data": {
      "text/plain": [
       "0.03157539707802364"
      ]
     },
     "execution_count": 21,
     "metadata": {},
     "output_type": "execute_result"
    }
   ],
   "source": [
    "# Another way of calculating idiosyncratic risk (=variance of residuals (epsilon) from the regression )\n",
    "idio_risk2 = res.resid.var() # res.resid gives us the residuals from the regression (the epsilons)\n",
    "idio_risk2"
   ]
  },
  {
   "cell_type": "code",
   "execution_count": 22,
   "metadata": {},
   "outputs": [
    {
     "name": "stdout",
     "output_type": "stream",
     "text": [
      "TSLA risk: \n",
      " total =  0.0374 \n",
      " systematic =  0.0058 \n",
      " idiosyncratic =  0.0316\n"
     ]
    }
   ],
   "source": [
    "# Print all three of them out\n",
    "print(f'TSLA risk: \\n total = {tot_risk: .4f} \\n systematic = {sys_risk: .4f} \\n idiosyncratic = {idio_risk: .4f}')"
   ]
  },
  {
   "cell_type": "code",
   "execution_count": 23,
   "metadata": {
    "scrolled": false
   },
   "outputs": [
    {
     "name": "stdout",
     "output_type": "stream",
     "text": [
      "\n",
      " percent systematic risk =  0.1551 \n",
      " percent idiosyncratic risk =  0.8449\n"
     ]
    }
   ],
   "source": [
    "# Print as percentages of total risk\n",
    "pct_sys_risk = sys_risk / tot_risk\n",
    "pct_idio_risk = idio_risk / tot_risk\n",
    "print(f'\\n percent systematic risk = {pct_sys_risk: .4f} \\n percent idiosyncratic risk = {pct_idio_risk: .4f}')"
   ]
  },
  {
   "cell_type": "markdown",
   "metadata": {},
   "source": [
    "**Challenge**:\n",
    "\n",
    "Using the Fama-French three factor model, what percentage of TSLA total risk is diversifiable and what percentage is undiversifiable?"
   ]
  },
  {
   "cell_type": "code",
   "execution_count": 24,
   "metadata": {},
   "outputs": [
    {
     "name": "stdout",
     "output_type": "stream",
     "text": [
      "TSLA pct diversifiable / idio risk =  0.8358803520627377\n",
      "TSLA pct non-diversifiable / sys risk =  0.1641196479372623\n"
     ]
    }
   ],
   "source": [
    "print(\"TSLA pct diversifiable / idio risk = \", 1 - res3.rsquared)\n",
    "print(\"TSLA pct non-diversifiable / sys risk = \", res3.rsquared)"
   ]
  },
  {
   "cell_type": "markdown",
   "metadata": {},
   "source": [
    "# Interaction effects between explanatory variables\n",
    "\n",
    "In some circumstances, we might want our linear regression model to allow the relation between two variables to depend on a third variable:\n",
    "\n",
    "$$ Y_t = \\alpha + (\\beta + \\gamma \\cdot Z_t) \\cdot X_t + \\delta \\cdot Z_t + \\epsilon_t $$\n",
    "\n",
    "Note that the effect of X on Y (i.e. $\\beta + \\gamma \\cdot Z_t$) depends on the value of a third variable ($Z_t$).\n",
    "\n",
    "The regression above is often written (equivalently) as:\n",
    "\n",
    "\n",
    "$$ Y_t = \\alpha + \\beta  \\cdot X_t + \\gamma \\cdot Z_t \\cdot X_t + \\delta \\cdot Z_t + \\epsilon_t $$\n",
    "\n",
    "where the $Z_t \\cdot X_t$ term is called the **interaction** between the X and Z variables. This interaction term needs to be constructed in the data before we run our regression (by taking the product of X and Z). "
   ]
  },
  {
   "cell_type": "markdown",
   "metadata": {},
   "source": [
    "**Dummy variables** (or \"indicator\" variables) are variables that take only the values 0 or 1. They are often used in interaction terms (as the $Z$ variable above) to test if the relation between the main variables of interest (Y and X) is significantly different when some particular condition is satisfied (i.e. Z will equal 1 when the condition is satisfied and 0 when it is not)."
   ]
  },
  {
   "cell_type": "markdown",
   "metadata": {},
   "source": [
    "**Example**:\n",
    "\n",
    "Using the same data as in the regressions above, test if: \n",
    "1. TSLA's alpha is significantly different before 2015 than after 2015. \n",
    "2. TSLA's beta is significantly different before 2015 than after 2015. \n",
    "\n",
    "In this example, the $Z_t$ variable will have a value of 0 before 2015 and a value of 1 after 2015. So, before 2015, the equation above becomes \n",
    "\n",
    "$$ Y_t = \\alpha + \\beta  \\cdot X_t  + \\epsilon_t $$\n",
    "\n",
    "and after 2015, it becomes \n",
    "\n",
    "$$ Y_t = \\alpha + \\delta +  (\\beta + \\gamma) X_t +  \\epsilon_t $$\n",
    "\n",
    "Hence, $\\delta$ tells us the difference between the firm's alpha after 2015 and its alpha before 2015. And $\\gamma$ tells us the difference between the firm's beta after 2015 and its beta before 2015."
   ]
  },
  {
   "cell_type": "code",
   "execution_count": 25,
   "metadata": {},
   "outputs": [
    {
     "data": {
      "text/html": [
       "<div>\n",
       "<style scoped>\n",
       "    .dataframe tbody tr th:only-of-type {\n",
       "        vertical-align: middle;\n",
       "    }\n",
       "\n",
       "    .dataframe tbody tr th {\n",
       "        vertical-align: top;\n",
       "    }\n",
       "\n",
       "    .dataframe thead th {\n",
       "        text-align: right;\n",
       "    }\n",
       "</style>\n",
       "<table border=\"1\" class=\"dataframe\">\n",
       "  <thead>\n",
       "    <tr style=\"text-align: right;\">\n",
       "      <th></th>\n",
       "      <th>TSLA</th>\n",
       "      <th>Mkt-RF</th>\n",
       "      <th>SMB</th>\n",
       "      <th>HML</th>\n",
       "      <th>RF</th>\n",
       "      <th>const</th>\n",
       "      <th>post2015</th>\n",
       "    </tr>\n",
       "    <tr>\n",
       "      <th>Date</th>\n",
       "      <th></th>\n",
       "      <th></th>\n",
       "      <th></th>\n",
       "      <th></th>\n",
       "      <th></th>\n",
       "      <th></th>\n",
       "      <th></th>\n",
       "    </tr>\n",
       "  </thead>\n",
       "  <tbody>\n",
       "    <tr>\n",
       "      <th>2013-01</th>\n",
       "      <td>0.107470</td>\n",
       "      <td>0.0557</td>\n",
       "      <td>0.0031</td>\n",
       "      <td>0.0095</td>\n",
       "      <td>0.0000</td>\n",
       "      <td>1</td>\n",
       "      <td>0</td>\n",
       "    </tr>\n",
       "    <tr>\n",
       "      <th>2013-02</th>\n",
       "      <td>-0.071448</td>\n",
       "      <td>0.0129</td>\n",
       "      <td>-0.0033</td>\n",
       "      <td>0.0010</td>\n",
       "      <td>0.0000</td>\n",
       "      <td>1</td>\n",
       "      <td>0</td>\n",
       "    </tr>\n",
       "    <tr>\n",
       "      <th>2013-03</th>\n",
       "      <td>0.087855</td>\n",
       "      <td>0.0403</td>\n",
       "      <td>0.0083</td>\n",
       "      <td>-0.0023</td>\n",
       "      <td>0.0000</td>\n",
       "      <td>1</td>\n",
       "      <td>0</td>\n",
       "    </tr>\n",
       "    <tr>\n",
       "      <th>2013-04</th>\n",
       "      <td>0.424914</td>\n",
       "      <td>0.0155</td>\n",
       "      <td>-0.0236</td>\n",
       "      <td>0.0050</td>\n",
       "      <td>0.0000</td>\n",
       "      <td>1</td>\n",
       "      <td>0</td>\n",
       "    </tr>\n",
       "    <tr>\n",
       "      <th>2013-05</th>\n",
       "      <td>0.810706</td>\n",
       "      <td>0.0280</td>\n",
       "      <td>0.0172</td>\n",
       "      <td>0.0267</td>\n",
       "      <td>0.0000</td>\n",
       "      <td>1</td>\n",
       "      <td>0</td>\n",
       "    </tr>\n",
       "    <tr>\n",
       "      <th>...</th>\n",
       "      <td>...</td>\n",
       "      <td>...</td>\n",
       "      <td>...</td>\n",
       "      <td>...</td>\n",
       "      <td>...</td>\n",
       "      <td>...</td>\n",
       "      <td>...</td>\n",
       "    </tr>\n",
       "    <tr>\n",
       "      <th>2020-08</th>\n",
       "      <td>0.741452</td>\n",
       "      <td>0.0763</td>\n",
       "      <td>-0.0022</td>\n",
       "      <td>-0.0293</td>\n",
       "      <td>0.0001</td>\n",
       "      <td>1</td>\n",
       "      <td>1</td>\n",
       "    </tr>\n",
       "    <tr>\n",
       "      <th>2020-09</th>\n",
       "      <td>-0.139087</td>\n",
       "      <td>-0.0363</td>\n",
       "      <td>-0.0004</td>\n",
       "      <td>-0.0266</td>\n",
       "      <td>0.0001</td>\n",
       "      <td>1</td>\n",
       "      <td>1</td>\n",
       "    </tr>\n",
       "    <tr>\n",
       "      <th>2020-10</th>\n",
       "      <td>-0.095499</td>\n",
       "      <td>-0.0210</td>\n",
       "      <td>0.0439</td>\n",
       "      <td>0.0419</td>\n",
       "      <td>0.0001</td>\n",
       "      <td>1</td>\n",
       "      <td>1</td>\n",
       "    </tr>\n",
       "    <tr>\n",
       "      <th>2020-11</th>\n",
       "      <td>0.462736</td>\n",
       "      <td>0.1247</td>\n",
       "      <td>0.0574</td>\n",
       "      <td>0.0199</td>\n",
       "      <td>0.0001</td>\n",
       "      <td>1</td>\n",
       "      <td>1</td>\n",
       "    </tr>\n",
       "    <tr>\n",
       "      <th>2020-12</th>\n",
       "      <td>0.243252</td>\n",
       "      <td>0.0463</td>\n",
       "      <td>0.0483</td>\n",
       "      <td>-0.0156</td>\n",
       "      <td>0.0001</td>\n",
       "      <td>1</td>\n",
       "      <td>1</td>\n",
       "    </tr>\n",
       "  </tbody>\n",
       "</table>\n",
       "<p>96 rows × 7 columns</p>\n",
       "</div>"
      ],
      "text/plain": [
       "             TSLA  Mkt-RF     SMB     HML      RF  const  post2015\n",
       "Date                                                              \n",
       "2013-01  0.107470  0.0557  0.0031  0.0095  0.0000      1         0\n",
       "2013-02 -0.071448  0.0129 -0.0033  0.0010  0.0000      1         0\n",
       "2013-03  0.087855  0.0403  0.0083 -0.0023  0.0000      1         0\n",
       "2013-04  0.424914  0.0155 -0.0236  0.0050  0.0000      1         0\n",
       "2013-05  0.810706  0.0280  0.0172  0.0267  0.0000      1         0\n",
       "...           ...     ...     ...     ...     ...    ...       ...\n",
       "2020-08  0.741452  0.0763 -0.0022 -0.0293  0.0001      1         1\n",
       "2020-09 -0.139087 -0.0363 -0.0004 -0.0266  0.0001      1         1\n",
       "2020-10 -0.095499 -0.0210  0.0439  0.0419  0.0001      1         1\n",
       "2020-11  0.462736  0.1247  0.0574  0.0199  0.0001      1         1\n",
       "2020-12  0.243252  0.0463  0.0483 -0.0156  0.0001      1         1\n",
       "\n",
       "[96 rows x 7 columns]"
      ]
     },
     "execution_count": 25,
     "metadata": {},
     "output_type": "execute_result"
    }
   ],
   "source": [
    "# Create dummy variable that = 1 after 2015 and 0 before\n",
    "data['post2015'] = np.where(data.index.year>2015,1,0)\n",
    "data"
   ]
  },
  {
   "cell_type": "code",
   "execution_count": 26,
   "metadata": {},
   "outputs": [
    {
     "data": {
      "text/html": [
       "<div>\n",
       "<style scoped>\n",
       "    .dataframe tbody tr th:only-of-type {\n",
       "        vertical-align: middle;\n",
       "    }\n",
       "\n",
       "    .dataframe tbody tr th {\n",
       "        vertical-align: top;\n",
       "    }\n",
       "\n",
       "    .dataframe thead th {\n",
       "        text-align: right;\n",
       "    }\n",
       "</style>\n",
       "<table border=\"1\" class=\"dataframe\">\n",
       "  <thead>\n",
       "    <tr style=\"text-align: right;\">\n",
       "      <th></th>\n",
       "      <th>TSLA</th>\n",
       "      <th>Mkt-RF</th>\n",
       "      <th>SMB</th>\n",
       "      <th>HML</th>\n",
       "      <th>RF</th>\n",
       "      <th>const</th>\n",
       "      <th>post2015</th>\n",
       "      <th>mkt_x_post2015</th>\n",
       "    </tr>\n",
       "    <tr>\n",
       "      <th>Date</th>\n",
       "      <th></th>\n",
       "      <th></th>\n",
       "      <th></th>\n",
       "      <th></th>\n",
       "      <th></th>\n",
       "      <th></th>\n",
       "      <th></th>\n",
       "      <th></th>\n",
       "    </tr>\n",
       "  </thead>\n",
       "  <tbody>\n",
       "    <tr>\n",
       "      <th>2013-01</th>\n",
       "      <td>0.107470</td>\n",
       "      <td>0.0557</td>\n",
       "      <td>0.0031</td>\n",
       "      <td>0.0095</td>\n",
       "      <td>0.0000</td>\n",
       "      <td>1</td>\n",
       "      <td>0</td>\n",
       "      <td>0.0000</td>\n",
       "    </tr>\n",
       "    <tr>\n",
       "      <th>2013-02</th>\n",
       "      <td>-0.071448</td>\n",
       "      <td>0.0129</td>\n",
       "      <td>-0.0033</td>\n",
       "      <td>0.0010</td>\n",
       "      <td>0.0000</td>\n",
       "      <td>1</td>\n",
       "      <td>0</td>\n",
       "      <td>0.0000</td>\n",
       "    </tr>\n",
       "    <tr>\n",
       "      <th>2013-03</th>\n",
       "      <td>0.087855</td>\n",
       "      <td>0.0403</td>\n",
       "      <td>0.0083</td>\n",
       "      <td>-0.0023</td>\n",
       "      <td>0.0000</td>\n",
       "      <td>1</td>\n",
       "      <td>0</td>\n",
       "      <td>0.0000</td>\n",
       "    </tr>\n",
       "    <tr>\n",
       "      <th>2013-04</th>\n",
       "      <td>0.424914</td>\n",
       "      <td>0.0155</td>\n",
       "      <td>-0.0236</td>\n",
       "      <td>0.0050</td>\n",
       "      <td>0.0000</td>\n",
       "      <td>1</td>\n",
       "      <td>0</td>\n",
       "      <td>0.0000</td>\n",
       "    </tr>\n",
       "    <tr>\n",
       "      <th>2013-05</th>\n",
       "      <td>0.810706</td>\n",
       "      <td>0.0280</td>\n",
       "      <td>0.0172</td>\n",
       "      <td>0.0267</td>\n",
       "      <td>0.0000</td>\n",
       "      <td>1</td>\n",
       "      <td>0</td>\n",
       "      <td>0.0000</td>\n",
       "    </tr>\n",
       "    <tr>\n",
       "      <th>...</th>\n",
       "      <td>...</td>\n",
       "      <td>...</td>\n",
       "      <td>...</td>\n",
       "      <td>...</td>\n",
       "      <td>...</td>\n",
       "      <td>...</td>\n",
       "      <td>...</td>\n",
       "      <td>...</td>\n",
       "    </tr>\n",
       "    <tr>\n",
       "      <th>2020-08</th>\n",
       "      <td>0.741452</td>\n",
       "      <td>0.0763</td>\n",
       "      <td>-0.0022</td>\n",
       "      <td>-0.0293</td>\n",
       "      <td>0.0001</td>\n",
       "      <td>1</td>\n",
       "      <td>1</td>\n",
       "      <td>0.0763</td>\n",
       "    </tr>\n",
       "    <tr>\n",
       "      <th>2020-09</th>\n",
       "      <td>-0.139087</td>\n",
       "      <td>-0.0363</td>\n",
       "      <td>-0.0004</td>\n",
       "      <td>-0.0266</td>\n",
       "      <td>0.0001</td>\n",
       "      <td>1</td>\n",
       "      <td>1</td>\n",
       "      <td>-0.0363</td>\n",
       "    </tr>\n",
       "    <tr>\n",
       "      <th>2020-10</th>\n",
       "      <td>-0.095499</td>\n",
       "      <td>-0.0210</td>\n",
       "      <td>0.0439</td>\n",
       "      <td>0.0419</td>\n",
       "      <td>0.0001</td>\n",
       "      <td>1</td>\n",
       "      <td>1</td>\n",
       "      <td>-0.0210</td>\n",
       "    </tr>\n",
       "    <tr>\n",
       "      <th>2020-11</th>\n",
       "      <td>0.462736</td>\n",
       "      <td>0.1247</td>\n",
       "      <td>0.0574</td>\n",
       "      <td>0.0199</td>\n",
       "      <td>0.0001</td>\n",
       "      <td>1</td>\n",
       "      <td>1</td>\n",
       "      <td>0.1247</td>\n",
       "    </tr>\n",
       "    <tr>\n",
       "      <th>2020-12</th>\n",
       "      <td>0.243252</td>\n",
       "      <td>0.0463</td>\n",
       "      <td>0.0483</td>\n",
       "      <td>-0.0156</td>\n",
       "      <td>0.0001</td>\n",
       "      <td>1</td>\n",
       "      <td>1</td>\n",
       "      <td>0.0463</td>\n",
       "    </tr>\n",
       "  </tbody>\n",
       "</table>\n",
       "<p>96 rows × 8 columns</p>\n",
       "</div>"
      ],
      "text/plain": [
       "             TSLA  Mkt-RF     SMB     HML      RF  const  post2015  \\\n",
       "Date                                                                 \n",
       "2013-01  0.107470  0.0557  0.0031  0.0095  0.0000      1         0   \n",
       "2013-02 -0.071448  0.0129 -0.0033  0.0010  0.0000      1         0   \n",
       "2013-03  0.087855  0.0403  0.0083 -0.0023  0.0000      1         0   \n",
       "2013-04  0.424914  0.0155 -0.0236  0.0050  0.0000      1         0   \n",
       "2013-05  0.810706  0.0280  0.0172  0.0267  0.0000      1         0   \n",
       "...           ...     ...     ...     ...     ...    ...       ...   \n",
       "2020-08  0.741452  0.0763 -0.0022 -0.0293  0.0001      1         1   \n",
       "2020-09 -0.139087 -0.0363 -0.0004 -0.0266  0.0001      1         1   \n",
       "2020-10 -0.095499 -0.0210  0.0439  0.0419  0.0001      1         1   \n",
       "2020-11  0.462736  0.1247  0.0574  0.0199  0.0001      1         1   \n",
       "2020-12  0.243252  0.0463  0.0483 -0.0156  0.0001      1         1   \n",
       "\n",
       "         mkt_x_post2015  \n",
       "Date                     \n",
       "2013-01          0.0000  \n",
       "2013-02          0.0000  \n",
       "2013-03          0.0000  \n",
       "2013-04          0.0000  \n",
       "2013-05          0.0000  \n",
       "...                 ...  \n",
       "2020-08          0.0763  \n",
       "2020-09         -0.0363  \n",
       "2020-10         -0.0210  \n",
       "2020-11          0.1247  \n",
       "2020-12          0.0463  \n",
       "\n",
       "[96 rows x 8 columns]"
      ]
     },
     "execution_count": 26,
     "metadata": {},
     "output_type": "execute_result"
    }
   ],
   "source": [
    "# Create interaction term\n",
    "data['mkt_x_post2015'] = data['Mkt-RF'] * data['post2015']\n",
    "data"
   ]
  },
  {
   "cell_type": "code",
   "execution_count": 27,
   "metadata": {},
   "outputs": [
    {
     "name": "stdout",
     "output_type": "stream",
     "text": [
      "                            OLS Regression Results                            \n",
      "==============================================================================\n",
      "Dep. Variable:                      y   R-squared:                       0.167\n",
      "Model:                            OLS   Adj. R-squared:                  0.140\n",
      "Method:                 Least Squares   F-statistic:                     6.147\n",
      "Date:                Mon, 28 Mar 2022   Prob (F-statistic):           0.000742\n",
      "Time:                        08:49:43   Log-Likelihood:                 30.822\n",
      "No. Observations:                  96   AIC:                            -53.64\n",
      "Df Residuals:                      92   BIC:                            -43.39\n",
      "Df Model:                           3                                         \n",
      "Covariance Type:            nonrobust                                         \n",
      "==================================================================================\n",
      "                     coef    std err          t      P>|t|      [0.025      0.975]\n",
      "----------------------------------------------------------------------------------\n",
      "const              0.0605      0.032      1.887      0.062      -0.003       0.124\n",
      "post2015          -0.0266      0.040     -0.665      0.507      -0.106       0.053\n",
      "Mkt-RF             0.8907      0.963      0.925      0.358      -1.022       2.804\n",
      "mkt_x_post2015     1.1919      1.084      1.099      0.274      -0.961       3.345\n",
      "==============================================================================\n",
      "Omnibus:                       32.215   Durbin-Watson:                   1.569\n",
      "Prob(Omnibus):                  0.000   Jarque-Bera (JB):               63.959\n",
      "Skew:                           1.309   Prob(JB):                     1.29e-14\n",
      "Kurtosis:                       6.022   Cond. No.                         93.3\n",
      "==============================================================================\n",
      "\n",
      "Notes:\n",
      "[1] Standard Errors assume that the covariance matrix of the errors is correctly specified.\n"
     ]
    }
   ],
   "source": [
    "# Get new independent variables\n",
    "newX = data[['const', 'post2015', 'Mkt-RF', 'mkt_x_post2015']]\n",
    "# Run regression and print results\n",
    "res_interact = sm.OLS(y, newX).fit()\n",
    "print(res_interact.summary())"
   ]
  },
  {
   "cell_type": "code",
   "execution_count": 28,
   "metadata": {},
   "outputs": [
    {
     "name": "stdout",
     "output_type": "stream",
     "text": [
      "Is beta sig different after 2015?\n",
      " False\n"
     ]
    }
   ],
   "source": [
    "# Is the beta of the firm significantly different (at the 5% level) after 2015?\n",
    "print(\"Is beta sig different after 2015?\\n\", res_interact.pvalues['mkt_x_post2015'] < 0.05)"
   ]
  },
  {
   "cell_type": "code",
   "execution_count": 29,
   "metadata": {},
   "outputs": [
    {
     "name": "stdout",
     "output_type": "stream",
     "text": [
      "Is alpha sig different after 2015?\n",
      " False\n"
     ]
    }
   ],
   "source": [
    "# Is the alpha of the firm significantly different (at the 5% level) after 2015?\n",
    "print(\"Is alpha sig different after 2015?\\n\", res_interact.pvalues['post2015'] < 0.05)"
   ]
  },
  {
   "cell_type": "markdown",
   "metadata": {},
   "source": [
    "# Non-linear explanatory variables\n",
    "\n",
    "In some circumstances we might want to test if there is a significant non-linear relationship between two variables of interest. For example, to test for a quadratic relation between Y and X, we can run the following regression:\n",
    "\n",
    "$$ Y_t = \\alpha + \\beta \\cdot X_t + \\gamma \\cdot X_t^2 + \\epsilon_t$$\n",
    "\n",
    "The $X^2$ variable needs to be created ahead of time in the data, before we run the regression. \n",
    "\n",
    "**Example**:\n",
    "\n",
    "Using the market model above, test if there is a significant quadratic relation between TSLA excess returns and market excess returns."
   ]
  },
  {
   "cell_type": "code",
   "execution_count": 30,
   "metadata": {},
   "outputs": [
    {
     "data": {
      "text/html": [
       "<div>\n",
       "<style scoped>\n",
       "    .dataframe tbody tr th:only-of-type {\n",
       "        vertical-align: middle;\n",
       "    }\n",
       "\n",
       "    .dataframe tbody tr th {\n",
       "        vertical-align: top;\n",
       "    }\n",
       "\n",
       "    .dataframe thead th {\n",
       "        text-align: right;\n",
       "    }\n",
       "</style>\n",
       "<table border=\"1\" class=\"dataframe\">\n",
       "  <thead>\n",
       "    <tr style=\"text-align: right;\">\n",
       "      <th></th>\n",
       "      <th>TSLA</th>\n",
       "      <th>Mkt-RF</th>\n",
       "      <th>SMB</th>\n",
       "      <th>HML</th>\n",
       "      <th>RF</th>\n",
       "      <th>const</th>\n",
       "      <th>post2015</th>\n",
       "      <th>mkt_x_post2015</th>\n",
       "      <th>mkt_squared</th>\n",
       "    </tr>\n",
       "    <tr>\n",
       "      <th>Date</th>\n",
       "      <th></th>\n",
       "      <th></th>\n",
       "      <th></th>\n",
       "      <th></th>\n",
       "      <th></th>\n",
       "      <th></th>\n",
       "      <th></th>\n",
       "      <th></th>\n",
       "      <th></th>\n",
       "    </tr>\n",
       "  </thead>\n",
       "  <tbody>\n",
       "    <tr>\n",
       "      <th>2013-01</th>\n",
       "      <td>0.107470</td>\n",
       "      <td>0.0557</td>\n",
       "      <td>0.0031</td>\n",
       "      <td>0.0095</td>\n",
       "      <td>0.0</td>\n",
       "      <td>1</td>\n",
       "      <td>0</td>\n",
       "      <td>0.0</td>\n",
       "      <td>0.003102</td>\n",
       "    </tr>\n",
       "    <tr>\n",
       "      <th>2013-02</th>\n",
       "      <td>-0.071448</td>\n",
       "      <td>0.0129</td>\n",
       "      <td>-0.0033</td>\n",
       "      <td>0.0010</td>\n",
       "      <td>0.0</td>\n",
       "      <td>1</td>\n",
       "      <td>0</td>\n",
       "      <td>0.0</td>\n",
       "      <td>0.000166</td>\n",
       "    </tr>\n",
       "    <tr>\n",
       "      <th>2013-03</th>\n",
       "      <td>0.087855</td>\n",
       "      <td>0.0403</td>\n",
       "      <td>0.0083</td>\n",
       "      <td>-0.0023</td>\n",
       "      <td>0.0</td>\n",
       "      <td>1</td>\n",
       "      <td>0</td>\n",
       "      <td>0.0</td>\n",
       "      <td>0.001624</td>\n",
       "    </tr>\n",
       "    <tr>\n",
       "      <th>2013-04</th>\n",
       "      <td>0.424914</td>\n",
       "      <td>0.0155</td>\n",
       "      <td>-0.0236</td>\n",
       "      <td>0.0050</td>\n",
       "      <td>0.0</td>\n",
       "      <td>1</td>\n",
       "      <td>0</td>\n",
       "      <td>0.0</td>\n",
       "      <td>0.000240</td>\n",
       "    </tr>\n",
       "    <tr>\n",
       "      <th>2013-05</th>\n",
       "      <td>0.810706</td>\n",
       "      <td>0.0280</td>\n",
       "      <td>0.0172</td>\n",
       "      <td>0.0267</td>\n",
       "      <td>0.0</td>\n",
       "      <td>1</td>\n",
       "      <td>0</td>\n",
       "      <td>0.0</td>\n",
       "      <td>0.000784</td>\n",
       "    </tr>\n",
       "  </tbody>\n",
       "</table>\n",
       "</div>"
      ],
      "text/plain": [
       "             TSLA  Mkt-RF     SMB     HML   RF  const  post2015  \\\n",
       "Date                                                              \n",
       "2013-01  0.107470  0.0557  0.0031  0.0095  0.0      1         0   \n",
       "2013-02 -0.071448  0.0129 -0.0033  0.0010  0.0      1         0   \n",
       "2013-03  0.087855  0.0403  0.0083 -0.0023  0.0      1         0   \n",
       "2013-04  0.424914  0.0155 -0.0236  0.0050  0.0      1         0   \n",
       "2013-05  0.810706  0.0280  0.0172  0.0267  0.0      1         0   \n",
       "\n",
       "         mkt_x_post2015  mkt_squared  \n",
       "Date                                  \n",
       "2013-01             0.0     0.003102  \n",
       "2013-02             0.0     0.000166  \n",
       "2013-03             0.0     0.001624  \n",
       "2013-04             0.0     0.000240  \n",
       "2013-05             0.0     0.000784  "
      ]
     },
     "execution_count": 30,
     "metadata": {},
     "output_type": "execute_result"
    }
   ],
   "source": [
    "# Create quadratic market excess returns\n",
    "data['mkt_squared'] = data['Mkt-RF']**2\n",
    "data.head()"
   ]
  },
  {
   "cell_type": "code",
   "execution_count": 31,
   "metadata": {},
   "outputs": [
    {
     "name": "stdout",
     "output_type": "stream",
     "text": [
      "                            OLS Regression Results                            \n",
      "==============================================================================\n",
      "Dep. Variable:                      y   R-squared:                       0.171\n",
      "Model:                            OLS   Adj. R-squared:                  0.153\n",
      "Method:                 Least Squares   F-statistic:                     9.586\n",
      "Date:                Mon, 28 Mar 2022   Prob (F-statistic):           0.000164\n",
      "Time:                        08:49:43   Log-Likelihood:                 31.049\n",
      "No. Observations:                  96   AIC:                            -56.10\n",
      "Df Residuals:                      93   BIC:                            -48.41\n",
      "Df Model:                           2                                         \n",
      "Covariance Type:            nonrobust                                         \n",
      "===============================================================================\n",
      "                  coef    std err          t      P>|t|      [0.025      0.975]\n",
      "-------------------------------------------------------------------------------\n",
      "const           0.0288      0.021      1.354      0.179      -0.013       0.071\n",
      "Mkt-RF          1.7652      0.441      3.999      0.000       0.889       2.642\n",
      "mkt_squared     7.2917      5.476      1.332      0.186      -3.582      18.165\n",
      "==============================================================================\n",
      "Omnibus:                       30.680   Durbin-Watson:                   1.567\n",
      "Prob(Omnibus):                  0.000   Jarque-Bera (JB):               62.921\n",
      "Skew:                           1.222   Prob(JB):                     2.17e-14\n",
      "Kurtosis:                       6.123   Cond. No.                         302.\n",
      "==============================================================================\n",
      "\n",
      "Notes:\n",
      "[1] Standard Errors assume that the covariance matrix of the errors is correctly specified.\n"
     ]
    }
   ],
   "source": [
    "# Get new independent variables\n",
    "sqX = data[['const', 'Mkt-RF', 'mkt_squared']]\n",
    "# Run regression and print results\n",
    "res_squared = sm.OLS(y, sqX).fit()\n",
    "print(res_squared.summary())"
   ]
  }
 ],
 "metadata": {
  "kernelspec": {
   "display_name": "Python 3",
   "language": "python",
   "name": "python3"
  },
  "language_info": {
   "codemirror_mode": {
    "name": "ipython",
    "version": 3
   },
   "file_extension": ".py",
   "mimetype": "text/x-python",
   "name": "python",
   "nbconvert_exporter": "python",
   "pygments_lexer": "ipython3",
   "version": "3.9.7"
  },
  "toc": {
   "base_numbering": 1,
   "nav_menu": {},
   "number_sections": true,
   "sideBar": true,
   "skip_h1_title": false,
   "title_cell": "Table of Contents",
   "title_sidebar": "Contents",
   "toc_cell": true,
   "toc_position": {},
   "toc_section_display": true,
   "toc_window_display": false
  }
 },
 "nbformat": 4,
 "nbformat_minor": 4
}
