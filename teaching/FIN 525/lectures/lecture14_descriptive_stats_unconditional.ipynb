{
 "cells": [
  {
   "cell_type": "markdown",
   "id": "8270a893",
   "metadata": {
    "toc": true
   },
   "source": [
    "<h1>Table of Contents<span class=\"tocSkip\"></span></h1>\n",
    "<div class=\"toc\"><ul class=\"toc-item\"><li><span><a href=\"#Preliminaries\" data-toc-modified-id=\"Preliminaries-1\"><span class=\"toc-item-num\">1&nbsp;&nbsp;</span>Preliminaries</a></span></li><li><span><a href=\"#Vizualization-tools-(the-.plot()-function)\" data-toc-modified-id=\"Vizualization-tools-(the-.plot()-function)-2\"><span class=\"toc-item-num\">2&nbsp;&nbsp;</span>Vizualization tools (the <code>.plot()</code> function)</a></span><ul class=\"toc-item\"><li><span><a href=\"#Line-plots\" data-toc-modified-id=\"Line-plots-2.1\"><span class=\"toc-item-num\">2.1&nbsp;&nbsp;</span>Line plots</a></span></li><li><span><a href=\"#Scatter-plots\" data-toc-modified-id=\"Scatter-plots-2.2\"><span class=\"toc-item-num\">2.2&nbsp;&nbsp;</span>Scatter plots</a></span></li><li><span><a href=\"#Histograms\" data-toc-modified-id=\"Histograms-2.3\"><span class=\"toc-item-num\">2.3&nbsp;&nbsp;</span>Histograms</a></span></li><li><span><a href=\"#Box-plots\" data-toc-modified-id=\"Box-plots-2.4\"><span class=\"toc-item-num\">2.4&nbsp;&nbsp;</span>Box plots</a></span></li></ul></li><li><span><a href=\"#Single-variable-statistics\" data-toc-modified-id=\"Single-variable-statistics-3\"><span class=\"toc-item-num\">3&nbsp;&nbsp;</span>Single-variable statistics</a></span><ul class=\"toc-item\"><li><span><a href=\"#The-.describe()-function\" data-toc-modified-id=\"The-.describe()-function-3.1\"><span class=\"toc-item-num\">3.1&nbsp;&nbsp;</span>The <code>.describe()</code> function</a></span></li><li><span><a href=\"#Calculating-individual-statistics\" data-toc-modified-id=\"Calculating-individual-statistics-3.2\"><span class=\"toc-item-num\">3.2&nbsp;&nbsp;</span>Calculating individual statistics</a></span><ul class=\"toc-item\"><li><span><a href=\"#.mean()\" data-toc-modified-id=\".mean()-3.2.1\"><span class=\"toc-item-num\">3.2.1&nbsp;&nbsp;</span><code>.mean()</code></a></span></li><li><span><a href=\"#.var()\" data-toc-modified-id=\".var()-3.2.2\"><span class=\"toc-item-num\">3.2.2&nbsp;&nbsp;</span><code>.var()</code></a></span></li><li><span><a href=\"#.std()\" data-toc-modified-id=\".std()-3.2.3\"><span class=\"toc-item-num\">3.2.3&nbsp;&nbsp;</span><code>.std()</code></a></span></li><li><span><a href=\"#.median()\" data-toc-modified-id=\".median()-3.2.4\"><span class=\"toc-item-num\">3.2.4&nbsp;&nbsp;</span><code>.median()</code></a></span></li></ul></li><li><span><a href=\"#Calculating-row-level-statistics\" data-toc-modified-id=\"Calculating-row-level-statistics-3.3\"><span class=\"toc-item-num\">3.3&nbsp;&nbsp;</span>Calculating row-level statistics</a></span></li><li><span><a href=\"#Creating-your-own-list-of-summary-statistics-with-the-.agg()-function\" data-toc-modified-id=\"Creating-your-own-list-of-summary-statistics-with-the-.agg()-function-3.4\"><span class=\"toc-item-num\">3.4&nbsp;&nbsp;</span>Creating your own list of summary statistics with the <code>.agg()</code> function</a></span></li></ul></li><li><span><a href=\"#Two-variable-statistics\" data-toc-modified-id=\"Two-variable-statistics-4\"><span class=\"toc-item-num\">4&nbsp;&nbsp;</span>Two-variable statistics</a></span><ul class=\"toc-item\"><li><span><a href=\"#Covariance:-.cov()\" data-toc-modified-id=\"Covariance:-.cov()-4.1\"><span class=\"toc-item-num\">4.1&nbsp;&nbsp;</span>Covariance: <code>.cov()</code></a></span></li><li><span><a href=\"#Correlation:-.corr()\" data-toc-modified-id=\"Correlation:-.corr()-4.2\"><span class=\"toc-item-num\">4.2&nbsp;&nbsp;</span>Correlation: <code>.corr()</code></a></span></li><li><span><a href=\"#Autocorrelation:-.autocorr()\" data-toc-modified-id=\"Autocorrelation:-.autocorr()-4.3\"><span class=\"toc-item-num\">4.3&nbsp;&nbsp;</span>Autocorrelation: <code>.autocorr()</code></a></span></li></ul></li><li><span><a href=\"#Rolling-statistics\" data-toc-modified-id=\"Rolling-statistics-5\"><span class=\"toc-item-num\">5&nbsp;&nbsp;</span>Rolling statistics</a></span><ul class=\"toc-item\"><li><span><a href=\"#Fixed-window-rolling-statistics\" data-toc-modified-id=\"Fixed-window-rolling-statistics-5.1\"><span class=\"toc-item-num\">5.1&nbsp;&nbsp;</span>Fixed-window rolling statistics</a></span></li><li><span><a href=\"#Expanding-window-rolling-statistics\" data-toc-modified-id=\"Expanding-window-rolling-statistics-5.2\"><span class=\"toc-item-num\">5.2&nbsp;&nbsp;</span>Expanding-window rolling statistics</a></span></li></ul></li></ul></div>"
   ]
  },
  {
   "cell_type": "markdown",
   "id": "a7192ed6",
   "metadata": {},
   "source": [
    "# Preliminaries"
   ]
  },
  {
   "cell_type": "code",
   "execution_count": 1,
   "id": "169dc1ed",
   "metadata": {},
   "outputs": [],
   "source": [
    "import pandas as pd\n",
    "import pandas_datareader as pdr"
   ]
  },
  {
   "cell_type": "code",
   "execution_count": 2,
   "id": "9afb4920",
   "metadata": {},
   "outputs": [
    {
     "data": {
      "text/html": [
       "<div>\n",
       "<style scoped>\n",
       "    .dataframe tbody tr th:only-of-type {\n",
       "        vertical-align: middle;\n",
       "    }\n",
       "\n",
       "    .dataframe tbody tr th {\n",
       "        vertical-align: top;\n",
       "    }\n",
       "\n",
       "    .dataframe thead th {\n",
       "        text-align: right;\n",
       "    }\n",
       "</style>\n",
       "<table border=\"1\" class=\"dataframe\">\n",
       "  <thead>\n",
       "    <tr style=\"text-align: right;\">\n",
       "      <th></th>\n",
       "      <th>Mkt-RF</th>\n",
       "      <th>SMB</th>\n",
       "      <th>HML</th>\n",
       "      <th>RF</th>\n",
       "    </tr>\n",
       "    <tr>\n",
       "      <th>Date</th>\n",
       "      <th></th>\n",
       "      <th></th>\n",
       "      <th></th>\n",
       "      <th></th>\n",
       "    </tr>\n",
       "  </thead>\n",
       "  <tbody>\n",
       "    <tr>\n",
       "      <th>1970-01</th>\n",
       "      <td>-0.0810</td>\n",
       "      <td>0.0295</td>\n",
       "      <td>0.0312</td>\n",
       "      <td>0.0060</td>\n",
       "    </tr>\n",
       "    <tr>\n",
       "      <th>1970-02</th>\n",
       "      <td>0.0513</td>\n",
       "      <td>-0.0256</td>\n",
       "      <td>0.0393</td>\n",
       "      <td>0.0062</td>\n",
       "    </tr>\n",
       "    <tr>\n",
       "      <th>1970-03</th>\n",
       "      <td>-0.0106</td>\n",
       "      <td>-0.0230</td>\n",
       "      <td>0.0399</td>\n",
       "      <td>0.0057</td>\n",
       "    </tr>\n",
       "    <tr>\n",
       "      <th>1970-04</th>\n",
       "      <td>-0.1100</td>\n",
       "      <td>-0.0612</td>\n",
       "      <td>0.0617</td>\n",
       "      <td>0.0050</td>\n",
       "    </tr>\n",
       "    <tr>\n",
       "      <th>1970-05</th>\n",
       "      <td>-0.0692</td>\n",
       "      <td>-0.0456</td>\n",
       "      <td>0.0332</td>\n",
       "      <td>0.0053</td>\n",
       "    </tr>\n",
       "    <tr>\n",
       "      <th>...</th>\n",
       "      <td>...</td>\n",
       "      <td>...</td>\n",
       "      <td>...</td>\n",
       "      <td>...</td>\n",
       "    </tr>\n",
       "    <tr>\n",
       "      <th>2020-08</th>\n",
       "      <td>0.0763</td>\n",
       "      <td>-0.0022</td>\n",
       "      <td>-0.0293</td>\n",
       "      <td>0.0001</td>\n",
       "    </tr>\n",
       "    <tr>\n",
       "      <th>2020-09</th>\n",
       "      <td>-0.0363</td>\n",
       "      <td>-0.0004</td>\n",
       "      <td>-0.0266</td>\n",
       "      <td>0.0001</td>\n",
       "    </tr>\n",
       "    <tr>\n",
       "      <th>2020-10</th>\n",
       "      <td>-0.0210</td>\n",
       "      <td>0.0439</td>\n",
       "      <td>0.0419</td>\n",
       "      <td>0.0001</td>\n",
       "    </tr>\n",
       "    <tr>\n",
       "      <th>2020-11</th>\n",
       "      <td>0.1247</td>\n",
       "      <td>0.0574</td>\n",
       "      <td>0.0199</td>\n",
       "      <td>0.0001</td>\n",
       "    </tr>\n",
       "    <tr>\n",
       "      <th>2020-12</th>\n",
       "      <td>0.0463</td>\n",
       "      <td>0.0483</td>\n",
       "      <td>-0.0156</td>\n",
       "      <td>0.0001</td>\n",
       "    </tr>\n",
       "  </tbody>\n",
       "</table>\n",
       "<p>612 rows × 4 columns</p>\n",
       "</div>"
      ],
      "text/plain": [
       "         Mkt-RF     SMB     HML      RF\n",
       "Date                                   \n",
       "1970-01 -0.0810  0.0295  0.0312  0.0060\n",
       "1970-02  0.0513 -0.0256  0.0393  0.0062\n",
       "1970-03 -0.0106 -0.0230  0.0399  0.0057\n",
       "1970-04 -0.1100 -0.0612  0.0617  0.0050\n",
       "1970-05 -0.0692 -0.0456  0.0332  0.0053\n",
       "...         ...     ...     ...     ...\n",
       "2020-08  0.0763 -0.0022 -0.0293  0.0001\n",
       "2020-09 -0.0363 -0.0004 -0.0266  0.0001\n",
       "2020-10 -0.0210  0.0439  0.0419  0.0001\n",
       "2020-11  0.1247  0.0574  0.0199  0.0001\n",
       "2020-12  0.0463  0.0483 -0.0156  0.0001\n",
       "\n",
       "[612 rows x 4 columns]"
      ]
     },
     "execution_count": 2,
     "metadata": {},
     "output_type": "execute_result"
    }
   ],
   "source": [
    "# Download data on Fama-French three factors (we will use this data in all our examples)\n",
    "ff3 = pdr.DataReader('F-F_Research_Data_Factors', 'famafrench', \n",
    "                     '1970-01-01','2020-12-31'\n",
    "                    )[0]/100\n",
    "ff3"
   ]
  },
  {
   "cell_type": "code",
   "execution_count": 3,
   "id": "98310ace",
   "metadata": {
    "scrolled": true
   },
   "outputs": [
    {
     "data": {
      "text/html": [
       "<div>\n",
       "<style scoped>\n",
       "    .dataframe tbody tr th:only-of-type {\n",
       "        vertical-align: middle;\n",
       "    }\n",
       "\n",
       "    .dataframe tbody tr th {\n",
       "        vertical-align: top;\n",
       "    }\n",
       "\n",
       "    .dataframe thead th {\n",
       "        text-align: right;\n",
       "    }\n",
       "</style>\n",
       "<table border=\"1\" class=\"dataframe\">\n",
       "  <thead>\n",
       "    <tr style=\"text-align: right;\">\n",
       "      <th></th>\n",
       "      <th>MKT</th>\n",
       "      <th>SMB</th>\n",
       "      <th>HML</th>\n",
       "      <th>RF</th>\n",
       "    </tr>\n",
       "    <tr>\n",
       "      <th>Date</th>\n",
       "      <th></th>\n",
       "      <th></th>\n",
       "      <th></th>\n",
       "      <th></th>\n",
       "    </tr>\n",
       "  </thead>\n",
       "  <tbody>\n",
       "    <tr>\n",
       "      <th>1970-01</th>\n",
       "      <td>-0.0810</td>\n",
       "      <td>0.0295</td>\n",
       "      <td>0.0312</td>\n",
       "      <td>0.0060</td>\n",
       "    </tr>\n",
       "    <tr>\n",
       "      <th>1970-02</th>\n",
       "      <td>0.0513</td>\n",
       "      <td>-0.0256</td>\n",
       "      <td>0.0393</td>\n",
       "      <td>0.0062</td>\n",
       "    </tr>\n",
       "  </tbody>\n",
       "</table>\n",
       "</div>"
      ],
      "text/plain": [
       "            MKT     SMB     HML      RF\n",
       "Date                                   \n",
       "1970-01 -0.0810  0.0295  0.0312  0.0060\n",
       "1970-02  0.0513 -0.0256  0.0393  0.0062"
      ]
     },
     "execution_count": 3,
     "metadata": {},
     "output_type": "execute_result"
    }
   ],
   "source": [
    "# Rename for convenience\n",
    "ff3.rename(columns = {'Mkt-RF': 'MKT'}, inplace = True)\n",
    "ff3.head(2)"
   ]
  },
  {
   "cell_type": "markdown",
   "id": "744da116",
   "metadata": {},
   "source": [
    "# Vizualization tools (the ``.plot()`` function)\n",
    "\n",
    "There are many different ways to visualize the data from a Pandas dataframe (e.g. the ``matplotlib`` and ``seaborn`` packages are very popular). However, for the purpose of this class, the ``.plot()`` function that comes with the Pandas package will be sufficient.\n",
    "\n",
    "Below we work through some examples of the most common types of plots used for financial data: line plots, scatter plots, histograms, and box plots.\n",
    "\n",
    "Abbreviated syntax:\n",
    "```python\n",
    "DataFrame.plot(kind = 'line', x = None, y = None, \n",
    "               title = None, xlabel = None, ylabel = None,\n",
    "               legend = True, grid = False, layout = None, \n",
    "               sharex = True, sharey = False, figsize = None)\n",
    "```\n",
    "\n",
    "More detail on the ``.plot()`` function can be found here:\n",
    "https://pandas.pydata.org/docs/reference/api/pandas.DataFrame.plot.html"
   ]
  },
  {
   "cell_type": "markdown",
   "id": "01e722d3",
   "metadata": {},
   "source": [
    "## Line plots\n",
    "\n",
    "Note that, by default, ``plot()`` creates a \"line\" plot, using the index of the dataframe for the x axis (in our case, the Date):"
   ]
  },
  {
   "cell_type": "code",
   "execution_count": 4,
   "id": "8b11de07",
   "metadata": {},
   "outputs": [
    {
     "data": {
      "image/png": "[encoded data removed]",
      "text/plain": [
       "<Figure size 432x288 with 1 Axes>"
      ]
     },
     "metadata": {
      "needs_background": "light"
     },
     "output_type": "display_data"
    }
   ],
   "source": [
    "ff3.plot();"
   ]
  },
  {
   "cell_type": "markdown",
   "id": "e7236476",
   "metadata": {},
   "source": [
    "You can specify which variables you want plotted by subsetting the overall dataframe first:"
   ]
  },
  {
   "cell_type": "code",
   "execution_count": 5,
   "id": "47a69805",
   "metadata": {},
   "outputs": [
    {
     "data": {
      "image/png": "[encoded data removed]",
      "text/plain": [
       "<Figure size 432x288 with 1 Axes>"
      ]
     },
     "metadata": {
      "needs_background": "light"
     },
     "output_type": "display_data"
    }
   ],
   "source": [
    "ff3[['MKT','RF']].plot();"
   ]
  },
  {
   "cell_type": "markdown",
   "id": "109b23bf",
   "metadata": {},
   "source": [
    "Below, we show more of the functionality of ``.plot()`` through a more involved example:"
   ]
  },
  {
   "cell_type": "code",
   "execution_count": 6,
   "id": "6aa83634",
   "metadata": {},
   "outputs": [
    {
     "data": {
      "image/png": "[encoded data removed]",
      "text/plain": [
       "<Figure size 720x216 with 1 Axes>"
      ]
     },
     "metadata": {
      "needs_background": "light"
     },
     "output_type": "display_data"
    }
   ],
   "source": [
    "ff3[['MKT','RF']].plot(kind = 'line', \n",
    "                       title = 'Market and risk-free returns',\n",
    "                       xlabel = 'Year', ylabel = 'Return(%)',\n",
    "                       legend = True,\n",
    "                       grid = True,\n",
    "                      figsize = (10,3));"
   ]
  },
  {
   "cell_type": "markdown",
   "id": "c5a1356c",
   "metadata": {},
   "source": [
    "## Scatter plots\n",
    "To create a scatter plot, we need to change the ``kind`` parameter to \"scatter\" and also specify what is on the x axis and what is on the y axis:"
   ]
  },
  {
   "cell_type": "code",
   "execution_count": 7,
   "id": "b53ef029",
   "metadata": {},
   "outputs": [
    {
     "data": {
      "image/png": "[encoded data removed]",
      "text/plain": [
       "<Figure size 432x288 with 1 Axes>"
      ]
     },
     "metadata": {
      "needs_background": "light"
     },
     "output_type": "display_data"
    }
   ],
   "source": [
    "ff3.plot(x = 'RF', y = 'MKT', \n",
    "         kind = 'scatter', \n",
    "         xlabel = 'Risk-free returns', ylabel = 'Market returns',\n",
    "         grid = True);"
   ]
  },
  {
   "cell_type": "markdown",
   "id": "a1079120",
   "metadata": {},
   "source": [
    "## Histograms\n",
    "For a histogram, we use ``kind='hist'`` and then use ``subplots=True`` to specify that we want each variable to have its own histogram, in a separate subplot:"
   ]
  },
  {
   "cell_type": "code",
   "execution_count": 8,
   "id": "f7013d76",
   "metadata": {},
   "outputs": [
    {
     "data": {
      "image/png": "[encoded data removed]",
      "text/plain": [
       "<Figure size 432x288 with 2 Axes>"
      ]
     },
     "metadata": {
      "needs_background": "light"
     },
     "output_type": "display_data"
    }
   ],
   "source": [
    "ff3[['MKT','RF']].plot(kind = 'hist', subplots = True, bins = 20);"
   ]
  },
  {
   "cell_type": "markdown",
   "id": "eb1b34f3",
   "metadata": {},
   "source": [
    "We can change the position of the subplots relative to each other using the ``layout`` parameter:"
   ]
  },
  {
   "cell_type": "code",
   "execution_count": 9,
   "id": "5acc935e",
   "metadata": {},
   "outputs": [
    {
     "data": {
      "image/png": "[encoded data removed]",
      "text/plain": [
       "<Figure size 432x288 with 2 Axes>"
      ]
     },
     "metadata": {
      "needs_background": "light"
     },
     "output_type": "display_data"
    }
   ],
   "source": [
    "ff3[['MKT','RF']].plot(kind = 'hist', subplots = True, bins = 20, \n",
    "                       layout = (1,2));"
   ]
  },
  {
   "cell_type": "markdown",
   "id": "b297da40",
   "metadata": {},
   "source": [
    "We can create a continuous approximation of the histogram using ``kind='density'``:"
   ]
  },
  {
   "cell_type": "code",
   "execution_count": 10,
   "id": "2b3d9385",
   "metadata": {},
   "outputs": [
    {
     "data": {
      "image/png": "[encoded data removed]",
      "text/plain": [
       "<Figure size 432x288 with 2 Axes>"
      ]
     },
     "metadata": {
      "needs_background": "light"
     },
     "output_type": "display_data"
    }
   ],
   "source": [
    "ff3[['MKT','RF']].plot(kind = 'density', subplots = True);"
   ]
  },
  {
   "cell_type": "markdown",
   "id": "58a0be87",
   "metadata": {},
   "source": [
    "## Box plots\n",
    "\n",
    "For box plots, we use ``kind='box'``:"
   ]
  },
  {
   "cell_type": "code",
   "execution_count": 11,
   "id": "1b08ff77",
   "metadata": {},
   "outputs": [
    {
     "data": {
      "image/png": "[encoded data removed]",
      "text/plain": [
       "<Figure size 720x288 with 2 Axes>"
      ]
     },
     "metadata": {
      "needs_background": "light"
     },
     "output_type": "display_data"
    }
   ],
   "source": [
    "ff3[['MKT','RF']].plot(kind = 'box', subplots = True, \n",
    "                       figsize = (10,4), sharey = False);"
   ]
  },
  {
   "cell_type": "markdown",
   "id": "d497c028",
   "metadata": {},
   "source": [
    "# Single-variable statistics\n",
    "\n",
    "We start by looking at statistics that describe a single variable (as opposed to the relationship between two variables). \n",
    "\n",
    "Since our data will almost always be in a Pandas dataframe, we will use pandas functions (attributes) to calculate sample statistics, but many other packages can be used to calculate summary statistics for your data (e.g. the ``numpy`` package allows you to calculate descriptive statistics if your data is in a Numpy array)."
   ]
  },
  {
   "cell_type": "markdown",
   "id": "f9130e61",
   "metadata": {},
   "source": [
    "## The ``.describe()`` function\n",
    "\n",
    "We can use the  ``.describe()`` function to get some standard descriptive statistics for the entire dataset. \n",
    "\n",
    "Syntax:\n",
    "```python\n",
    "DataFrame.describe(percentiles=None, include=None, exclude=None, datetime_is_numeric=False)\n",
    "```\n",
    "\n",
    "The default is for ``.describe()`` to produce summary statistics only for numerical data types in the dataframe. You can change this with the ``include`` and ``exclude`` parameters. "
   ]
  },
  {
   "cell_type": "code",
   "execution_count": 12,
   "id": "63ddb5dc",
   "metadata": {},
   "outputs": [
    {
     "data": {
      "text/html": [
       "<div>\n",
       "<style scoped>\n",
       "    .dataframe tbody tr th:only-of-type {\n",
       "        vertical-align: middle;\n",
       "    }\n",
       "\n",
       "    .dataframe tbody tr th {\n",
       "        vertical-align: top;\n",
       "    }\n",
       "\n",
       "    .dataframe thead th {\n",
       "        text-align: right;\n",
       "    }\n",
       "</style>\n",
       "<table border=\"1\" class=\"dataframe\">\n",
       "  <thead>\n",
       "    <tr style=\"text-align: right;\">\n",
       "      <th></th>\n",
       "      <th>MKT</th>\n",
       "      <th>SMB</th>\n",
       "      <th>HML</th>\n",
       "      <th>RF</th>\n",
       "    </tr>\n",
       "  </thead>\n",
       "  <tbody>\n",
       "    <tr>\n",
       "      <th>count</th>\n",
       "      <td>612.000000</td>\n",
       "      <td>612.000000</td>\n",
       "      <td>612.00000</td>\n",
       "      <td>612.000000</td>\n",
       "    </tr>\n",
       "    <tr>\n",
       "      <th>mean</th>\n",
       "      <td>0.005926</td>\n",
       "      <td>0.001404</td>\n",
       "      <td>0.00253</td>\n",
       "      <td>0.003723</td>\n",
       "    </tr>\n",
       "    <tr>\n",
       "      <th>std</th>\n",
       "      <td>0.045952</td>\n",
       "      <td>0.030765</td>\n",
       "      <td>0.02963</td>\n",
       "      <td>0.002801</td>\n",
       "    </tr>\n",
       "    <tr>\n",
       "      <th>min</th>\n",
       "      <td>-0.232400</td>\n",
       "      <td>-0.172900</td>\n",
       "      <td>-0.14020</td>\n",
       "      <td>0.000000</td>\n",
       "    </tr>\n",
       "    <tr>\n",
       "      <th>25%</th>\n",
       "      <td>-0.020200</td>\n",
       "      <td>-0.017400</td>\n",
       "      <td>-0.01435</td>\n",
       "      <td>0.001300</td>\n",
       "    </tr>\n",
       "    <tr>\n",
       "      <th>50%</th>\n",
       "      <td>0.010250</td>\n",
       "      <td>0.001150</td>\n",
       "      <td>0.00215</td>\n",
       "      <td>0.003900</td>\n",
       "    </tr>\n",
       "    <tr>\n",
       "      <th>75%</th>\n",
       "      <td>0.035775</td>\n",
       "      <td>0.018950</td>\n",
       "      <td>0.01735</td>\n",
       "      <td>0.005300</td>\n",
       "    </tr>\n",
       "    <tr>\n",
       "      <th>max</th>\n",
       "      <td>0.161000</td>\n",
       "      <td>0.214800</td>\n",
       "      <td>0.12480</td>\n",
       "      <td>0.013500</td>\n",
       "    </tr>\n",
       "  </tbody>\n",
       "</table>\n",
       "</div>"
      ],
      "text/plain": [
       "              MKT         SMB        HML          RF\n",
       "count  612.000000  612.000000  612.00000  612.000000\n",
       "mean     0.005926    0.001404    0.00253    0.003723\n",
       "std      0.045952    0.030765    0.02963    0.002801\n",
       "min     -0.232400   -0.172900   -0.14020    0.000000\n",
       "25%     -0.020200   -0.017400   -0.01435    0.001300\n",
       "50%      0.010250    0.001150    0.00215    0.003900\n",
       "75%      0.035775    0.018950    0.01735    0.005300\n",
       "max      0.161000    0.214800    0.12480    0.013500"
      ]
     },
     "execution_count": 12,
     "metadata": {},
     "output_type": "execute_result"
    }
   ],
   "source": [
    "ff3.describe()"
   ]
  },
  {
   "cell_type": "markdown",
   "id": "93ace77b",
   "metadata": {},
   "source": [
    "The ``percentiles`` parameter allows you to specify which percentiles you want ``.describe()`` to calculate (default is 25th, 50th and 75th percentiles). For example, below, we only ask for the 50th percentile (the median):"
   ]
  },
  {
   "cell_type": "code",
   "execution_count": 13,
   "id": "fdbceb2a",
   "metadata": {},
   "outputs": [
    {
     "data": {
      "text/html": [
       "<div>\n",
       "<style scoped>\n",
       "    .dataframe tbody tr th:only-of-type {\n",
       "        vertical-align: middle;\n",
       "    }\n",
       "\n",
       "    .dataframe tbody tr th {\n",
       "        vertical-align: top;\n",
       "    }\n",
       "\n",
       "    .dataframe thead th {\n",
       "        text-align: right;\n",
       "    }\n",
       "</style>\n",
       "<table border=\"1\" class=\"dataframe\">\n",
       "  <thead>\n",
       "    <tr style=\"text-align: right;\">\n",
       "      <th></th>\n",
       "      <th>SMB</th>\n",
       "      <th>HML</th>\n",
       "    </tr>\n",
       "  </thead>\n",
       "  <tbody>\n",
       "    <tr>\n",
       "      <th>count</th>\n",
       "      <td>612.000000</td>\n",
       "      <td>612.00000</td>\n",
       "    </tr>\n",
       "    <tr>\n",
       "      <th>mean</th>\n",
       "      <td>0.001404</td>\n",
       "      <td>0.00253</td>\n",
       "    </tr>\n",
       "    <tr>\n",
       "      <th>std</th>\n",
       "      <td>0.030765</td>\n",
       "      <td>0.02963</td>\n",
       "    </tr>\n",
       "    <tr>\n",
       "      <th>min</th>\n",
       "      <td>-0.172900</td>\n",
       "      <td>-0.14020</td>\n",
       "    </tr>\n",
       "    <tr>\n",
       "      <th>50%</th>\n",
       "      <td>0.001150</td>\n",
       "      <td>0.00215</td>\n",
       "    </tr>\n",
       "    <tr>\n",
       "      <th>max</th>\n",
       "      <td>0.214800</td>\n",
       "      <td>0.12480</td>\n",
       "    </tr>\n",
       "  </tbody>\n",
       "</table>\n",
       "</div>"
      ],
      "text/plain": [
       "              SMB        HML\n",
       "count  612.000000  612.00000\n",
       "mean     0.001404    0.00253\n",
       "std      0.030765    0.02963\n",
       "min     -0.172900   -0.14020\n",
       "50%      0.001150    0.00215\n",
       "max      0.214800    0.12480"
      ]
     },
     "execution_count": 13,
     "metadata": {},
     "output_type": "execute_result"
    }
   ],
   "source": [
    "ff3[['SMB','HML']].describe(percentiles = [0.5])"
   ]
  },
  {
   "cell_type": "markdown",
   "id": "75f210e2",
   "metadata": {},
   "source": [
    "## Calculating individual statistics\n",
    "\n",
    "Each individual statistic produced by ``.describe()`` has its own function that can be applied either to the entire dataframe or to subsets of it. Below I only show examples for mean, variance, standard deviation and median (but you can also use ``.count()``, ``.min()``, ``.max()``, ``.sum()`` and many others)."
   ]
  },
  {
   "cell_type": "markdown",
   "id": "64b310a3",
   "metadata": {},
   "source": [
    "### ``.mean()``"
   ]
  },
  {
   "cell_type": "code",
   "execution_count": 14,
   "id": "83124abc",
   "metadata": {},
   "outputs": [
    {
     "name": "stdout",
     "output_type": "stream",
     "text": [
      "Means:\n"
     ]
    },
    {
     "data": {
      "text/plain": [
       "MKT    0.005926\n",
       "SMB    0.001404\n",
       "HML    0.002530\n",
       "RF     0.003723\n",
       "dtype: float64"
      ]
     },
     "execution_count": 14,
     "metadata": {},
     "output_type": "execute_result"
    }
   ],
   "source": [
    "print('Means:') \n",
    "ff3.mean()"
   ]
  },
  {
   "cell_type": "markdown",
   "id": "486200ea",
   "metadata": {},
   "source": [
    "### ``.var()``"
   ]
  },
  {
   "cell_type": "code",
   "execution_count": 15,
   "id": "6e007671",
   "metadata": {},
   "outputs": [
    {
     "name": "stdout",
     "output_type": "stream",
     "text": [
      "Variances:\n"
     ]
    },
    {
     "data": {
      "text/plain": [
       "MKT    0.002112\n",
       "SMB    0.000946\n",
       "HML    0.000878\n",
       "RF     0.000008\n",
       "dtype: float64"
      ]
     },
     "execution_count": 15,
     "metadata": {},
     "output_type": "execute_result"
    }
   ],
   "source": [
    "print('Variances:')\n",
    "ff3.var()"
   ]
  },
  {
   "cell_type": "markdown",
   "id": "3db8fb1a",
   "metadata": {},
   "source": [
    "### ``.std()``"
   ]
  },
  {
   "cell_type": "code",
   "execution_count": 16,
   "id": "6a24df27",
   "metadata": {},
   "outputs": [
    {
     "name": "stdout",
     "output_type": "stream",
     "text": [
      "Standard deviations\n"
     ]
    },
    {
     "data": {
      "text/plain": [
       "MKT    0.045952\n",
       "SMB    0.030765\n",
       "HML    0.029630\n",
       "RF     0.002801\n",
       "dtype: float64"
      ]
     },
     "execution_count": 16,
     "metadata": {},
     "output_type": "execute_result"
    }
   ],
   "source": [
    "print('Standard deviations')\n",
    "ff3.std()"
   ]
  },
  {
   "cell_type": "markdown",
   "id": "1c6af8df",
   "metadata": {},
   "source": [
    "### ``.median()``"
   ]
  },
  {
   "cell_type": "code",
   "execution_count": 17,
   "id": "440290cd",
   "metadata": {},
   "outputs": [
    {
     "name": "stdout",
     "output_type": "stream",
     "text": [
      "Medians:\n"
     ]
    },
    {
     "data": {
      "text/plain": [
       "MKT    0.01025\n",
       "SMB    0.00115\n",
       "HML    0.00215\n",
       "RF     0.00390\n",
       "dtype: float64"
      ]
     },
     "execution_count": 17,
     "metadata": {},
     "output_type": "execute_result"
    }
   ],
   "source": [
    "print('Medians:')\n",
    "ff3.median()"
   ]
  },
  {
   "cell_type": "markdown",
   "id": "f63b61e6",
   "metadata": {},
   "source": [
    "**Challenge:**\n",
    "\n",
    "Note that the output of ``.describe()`` is also a dataframe. So we can use ``.loc[]`` to access specific numbers in that output table.\n",
    "\n",
    "Use the space below to calculate and print the interquartile range (IQR = percentile 75 minus percentile 25) for the 'MKT' variable:"
   ]
  },
  {
   "cell_type": "code",
   "execution_count": 18,
   "id": "717b9b14",
   "metadata": {},
   "outputs": [
    {
     "data": {
      "text/html": [
       "<div>\n",
       "<style scoped>\n",
       "    .dataframe tbody tr th:only-of-type {\n",
       "        vertical-align: middle;\n",
       "    }\n",
       "\n",
       "    .dataframe tbody tr th {\n",
       "        vertical-align: top;\n",
       "    }\n",
       "\n",
       "    .dataframe thead th {\n",
       "        text-align: right;\n",
       "    }\n",
       "</style>\n",
       "<table border=\"1\" class=\"dataframe\">\n",
       "  <thead>\n",
       "    <tr style=\"text-align: right;\">\n",
       "      <th></th>\n",
       "      <th>MKT</th>\n",
       "      <th>SMB</th>\n",
       "      <th>HML</th>\n",
       "      <th>RF</th>\n",
       "    </tr>\n",
       "  </thead>\n",
       "  <tbody>\n",
       "    <tr>\n",
       "      <th>count</th>\n",
       "      <td>612.000000</td>\n",
       "      <td>612.000000</td>\n",
       "      <td>612.00000</td>\n",
       "      <td>612.000000</td>\n",
       "    </tr>\n",
       "    <tr>\n",
       "      <th>mean</th>\n",
       "      <td>0.005926</td>\n",
       "      <td>0.001404</td>\n",
       "      <td>0.00253</td>\n",
       "      <td>0.003723</td>\n",
       "    </tr>\n",
       "    <tr>\n",
       "      <th>std</th>\n",
       "      <td>0.045952</td>\n",
       "      <td>0.030765</td>\n",
       "      <td>0.02963</td>\n",
       "      <td>0.002801</td>\n",
       "    </tr>\n",
       "    <tr>\n",
       "      <th>min</th>\n",
       "      <td>-0.232400</td>\n",
       "      <td>-0.172900</td>\n",
       "      <td>-0.14020</td>\n",
       "      <td>0.000000</td>\n",
       "    </tr>\n",
       "    <tr>\n",
       "      <th>25%</th>\n",
       "      <td>-0.020200</td>\n",
       "      <td>-0.017400</td>\n",
       "      <td>-0.01435</td>\n",
       "      <td>0.001300</td>\n",
       "    </tr>\n",
       "    <tr>\n",
       "      <th>50%</th>\n",
       "      <td>0.010250</td>\n",
       "      <td>0.001150</td>\n",
       "      <td>0.00215</td>\n",
       "      <td>0.003900</td>\n",
       "    </tr>\n",
       "    <tr>\n",
       "      <th>75%</th>\n",
       "      <td>0.035775</td>\n",
       "      <td>0.018950</td>\n",
       "      <td>0.01735</td>\n",
       "      <td>0.005300</td>\n",
       "    </tr>\n",
       "    <tr>\n",
       "      <th>max</th>\n",
       "      <td>0.161000</td>\n",
       "      <td>0.214800</td>\n",
       "      <td>0.12480</td>\n",
       "      <td>0.013500</td>\n",
       "    </tr>\n",
       "  </tbody>\n",
       "</table>\n",
       "</div>"
      ],
      "text/plain": [
       "              MKT         SMB        HML          RF\n",
       "count  612.000000  612.000000  612.00000  612.000000\n",
       "mean     0.005926    0.001404    0.00253    0.003723\n",
       "std      0.045952    0.030765    0.02963    0.002801\n",
       "min     -0.232400   -0.172900   -0.14020    0.000000\n",
       "25%     -0.020200   -0.017400   -0.01435    0.001300\n",
       "50%      0.010250    0.001150    0.00215    0.003900\n",
       "75%      0.035775    0.018950    0.01735    0.005300\n",
       "max      0.161000    0.214800    0.12480    0.013500"
      ]
     },
     "execution_count": 18,
     "metadata": {},
     "output_type": "execute_result"
    }
   ],
   "source": [
    "a = ff3.describe()\n",
    "a"
   ]
  },
  {
   "cell_type": "code",
   "execution_count": 19,
   "id": "b0d2dba9",
   "metadata": {},
   "outputs": [
    {
     "data": {
      "text/plain": [
       "Index(['count', 'mean', 'std', 'min', '25%', '50%', '75%', 'max'], dtype='object')"
      ]
     },
     "execution_count": 19,
     "metadata": {},
     "output_type": "execute_result"
    }
   ],
   "source": [
    "a.index"
   ]
  },
  {
   "cell_type": "code",
   "execution_count": 20,
   "id": "4c72651c",
   "metadata": {},
   "outputs": [
    {
     "name": "stdout",
     "output_type": "stream",
     "text": [
      "0.055975\n"
     ]
    }
   ],
   "source": [
    "print(a.loc['75%','MKT'] - a.loc['25%','MKT'])"
   ]
  },
  {
   "cell_type": "markdown",
   "id": "91f74997",
   "metadata": {},
   "source": [
    "## Calculating row-level statistics\n",
    "\n",
    "All statistical functions in Pandas (e.g. ``.mean()``, ``.median()``, etc) have an ``axis`` argument that allows you to specify if you want that statistic to be calculated column-wise (axis=0, the default) or row-wise (axis=1). "
   ]
  },
  {
   "cell_type": "markdown",
   "id": "52982655",
   "metadata": {},
   "source": [
    "For example, if we want to know, each month, which of the columns in ``ff3`` had the highest return, we would use:"
   ]
  },
  {
   "cell_type": "code",
   "execution_count": 21,
   "id": "46b76f07",
   "metadata": {},
   "outputs": [
    {
     "data": {
      "text/plain": [
       "Date\n",
       "1970-01    0.0312\n",
       "1970-02    0.0513\n",
       "1970-03    0.0399\n",
       "1970-04    0.0617\n",
       "1970-05    0.0332\n",
       "            ...  \n",
       "2020-08    0.0763\n",
       "2020-09    0.0001\n",
       "2020-10    0.0439\n",
       "2020-11    0.1247\n",
       "2020-12    0.0483\n",
       "Freq: M, Length: 612, dtype: float64"
      ]
     },
     "execution_count": 21,
     "metadata": {},
     "output_type": "execute_result"
    }
   ],
   "source": [
    "ff3.max(axis = 1)"
   ]
  },
  {
   "cell_type": "code",
   "execution_count": 22,
   "id": "948b386d",
   "metadata": {},
   "outputs": [
    {
     "data": {
      "text/html": [
       "<div>\n",
       "<style scoped>\n",
       "    .dataframe tbody tr th:only-of-type {\n",
       "        vertical-align: middle;\n",
       "    }\n",
       "\n",
       "    .dataframe tbody tr th {\n",
       "        vertical-align: top;\n",
       "    }\n",
       "\n",
       "    .dataframe thead th {\n",
       "        text-align: right;\n",
       "    }\n",
       "</style>\n",
       "<table border=\"1\" class=\"dataframe\">\n",
       "  <thead>\n",
       "    <tr style=\"text-align: right;\">\n",
       "      <th></th>\n",
       "      <th>MKT</th>\n",
       "      <th>SMB</th>\n",
       "      <th>HML</th>\n",
       "      <th>RF</th>\n",
       "    </tr>\n",
       "    <tr>\n",
       "      <th>Date</th>\n",
       "      <th></th>\n",
       "      <th></th>\n",
       "      <th></th>\n",
       "      <th></th>\n",
       "    </tr>\n",
       "  </thead>\n",
       "  <tbody>\n",
       "    <tr>\n",
       "      <th>1970-01</th>\n",
       "      <td>-0.0810</td>\n",
       "      <td>0.0295</td>\n",
       "      <td>0.0312</td>\n",
       "      <td>0.0060</td>\n",
       "    </tr>\n",
       "    <tr>\n",
       "      <th>1970-02</th>\n",
       "      <td>0.0513</td>\n",
       "      <td>-0.0256</td>\n",
       "      <td>0.0393</td>\n",
       "      <td>0.0062</td>\n",
       "    </tr>\n",
       "  </tbody>\n",
       "</table>\n",
       "</div>"
      ],
      "text/plain": [
       "            MKT     SMB     HML      RF\n",
       "Date                                   \n",
       "1970-01 -0.0810  0.0295  0.0312  0.0060\n",
       "1970-02  0.0513 -0.0256  0.0393  0.0062"
      ]
     },
     "execution_count": 22,
     "metadata": {},
     "output_type": "execute_result"
    }
   ],
   "source": [
    "ff3.head(2) #quick check if the above worked"
   ]
  },
  {
   "cell_type": "markdown",
   "id": "cf709e8a",
   "metadata": {},
   "source": [
    "As usual, we can also calculate row-wise statistics using only a subset of the columns:"
   ]
  },
  {
   "cell_type": "code",
   "execution_count": 23,
   "id": "99b7716d",
   "metadata": {},
   "outputs": [
    {
     "data": {
      "text/plain": [
       "Date\n",
       "1970-01    0.0312\n",
       "1970-02    0.0393\n",
       "1970-03    0.0399\n",
       "1970-04    0.0617\n",
       "1970-05    0.0332\n",
       "            ...  \n",
       "2020-08   -0.0022\n",
       "2020-09   -0.0004\n",
       "2020-10    0.0439\n",
       "2020-11    0.0574\n",
       "2020-12    0.0483\n",
       "Freq: M, Length: 612, dtype: float64"
      ]
     },
     "execution_count": 23,
     "metadata": {},
     "output_type": "execute_result"
    }
   ],
   "source": [
    "ff3[['SMB','HML']].max(axis=1)"
   ]
  },
  {
   "cell_type": "markdown",
   "id": "20aeffa7",
   "metadata": {},
   "source": [
    "## Creating your own list of summary statistics with the ``.agg()`` function\n",
    "\n",
    "If we want a different selection of summary statistics than the one offered by the ``.describe()`` function, we can use the ``.agg()`` function to specify exactly which statistics we want:\n",
    "\n",
    "Syntax:\n",
    "```python\n",
    "DataFrame.agg(func=None, axis=0, *args, **kwargs)\n",
    "```"
   ]
  },
  {
   "cell_type": "markdown",
   "id": "51fff53c",
   "metadata": {},
   "source": [
    "If you want the same stats for all variables, just provide a list of the names of the functions you want to be used (e.g. use 'mean' for the ``.mean()`` function, 'std' for the ``.std()`` function etc.)."
   ]
  },
  {
   "cell_type": "code",
   "execution_count": 24,
   "id": "28397a81",
   "metadata": {},
   "outputs": [
    {
     "data": {
      "text/html": [
       "<div>\n",
       "<style scoped>\n",
       "    .dataframe tbody tr th:only-of-type {\n",
       "        vertical-align: middle;\n",
       "    }\n",
       "\n",
       "    .dataframe tbody tr th {\n",
       "        vertical-align: top;\n",
       "    }\n",
       "\n",
       "    .dataframe thead th {\n",
       "        text-align: right;\n",
       "    }\n",
       "</style>\n",
       "<table border=\"1\" class=\"dataframe\">\n",
       "  <thead>\n",
       "    <tr style=\"text-align: right;\">\n",
       "      <th></th>\n",
       "      <th>MKT</th>\n",
       "      <th>SMB</th>\n",
       "      <th>HML</th>\n",
       "      <th>RF</th>\n",
       "    </tr>\n",
       "  </thead>\n",
       "  <tbody>\n",
       "    <tr>\n",
       "      <th>mean</th>\n",
       "      <td>0.005926</td>\n",
       "      <td>0.001404</td>\n",
       "      <td>0.00253</td>\n",
       "      <td>0.003723</td>\n",
       "    </tr>\n",
       "    <tr>\n",
       "      <th>std</th>\n",
       "      <td>0.045952</td>\n",
       "      <td>0.030765</td>\n",
       "      <td>0.02963</td>\n",
       "      <td>0.002801</td>\n",
       "    </tr>\n",
       "    <tr>\n",
       "      <th>median</th>\n",
       "      <td>0.010250</td>\n",
       "      <td>0.001150</td>\n",
       "      <td>0.00215</td>\n",
       "      <td>0.003900</td>\n",
       "    </tr>\n",
       "    <tr>\n",
       "      <th>sum</th>\n",
       "      <td>3.626600</td>\n",
       "      <td>0.859400</td>\n",
       "      <td>1.54860</td>\n",
       "      <td>2.278300</td>\n",
       "    </tr>\n",
       "  </tbody>\n",
       "</table>\n",
       "</div>"
      ],
      "text/plain": [
       "             MKT       SMB      HML        RF\n",
       "mean    0.005926  0.001404  0.00253  0.003723\n",
       "std     0.045952  0.030765  0.02963  0.002801\n",
       "median  0.010250  0.001150  0.00215  0.003900\n",
       "sum     3.626600  0.859400  1.54860  2.278300"
      ]
     },
     "execution_count": 24,
     "metadata": {},
     "output_type": "execute_result"
    }
   ],
   "source": [
    "ff3.agg(func = ['mean','std','median','sum'])"
   ]
  },
  {
   "cell_type": "markdown",
   "id": "cc915a75",
   "metadata": {},
   "source": [
    "You can also specify different functions (stats) for each variable:"
   ]
  },
  {
   "cell_type": "code",
   "execution_count": 25,
   "id": "7af21ae4",
   "metadata": {},
   "outputs": [
    {
     "data": {
      "text/html": [
       "<div>\n",
       "<style scoped>\n",
       "    .dataframe tbody tr th:only-of-type {\n",
       "        vertical-align: middle;\n",
       "    }\n",
       "\n",
       "    .dataframe tbody tr th {\n",
       "        vertical-align: top;\n",
       "    }\n",
       "\n",
       "    .dataframe thead th {\n",
       "        text-align: right;\n",
       "    }\n",
       "</style>\n",
       "<table border=\"1\" class=\"dataframe\">\n",
       "  <thead>\n",
       "    <tr style=\"text-align: right;\">\n",
       "      <th></th>\n",
       "      <th>MKT</th>\n",
       "      <th>SMB</th>\n",
       "    </tr>\n",
       "  </thead>\n",
       "  <tbody>\n",
       "    <tr>\n",
       "      <th>mean</th>\n",
       "      <td>0.005926</td>\n",
       "      <td>0.001404</td>\n",
       "    </tr>\n",
       "    <tr>\n",
       "      <th>median</th>\n",
       "      <td>0.010250</td>\n",
       "      <td>NaN</td>\n",
       "    </tr>\n",
       "    <tr>\n",
       "      <th>std</th>\n",
       "      <td>NaN</td>\n",
       "      <td>0.030765</td>\n",
       "    </tr>\n",
       "  </tbody>\n",
       "</table>\n",
       "</div>"
      ],
      "text/plain": [
       "             MKT       SMB\n",
       "mean    0.005926  0.001404\n",
       "median  0.010250       NaN\n",
       "std          NaN  0.030765"
      ]
     },
     "execution_count": 25,
     "metadata": {},
     "output_type": "execute_result"
    }
   ],
   "source": [
    "ff3.agg(func = {'MKT':['mean','median'], 'SMB':['mean','std']})"
   ]
  },
  {
   "cell_type": "markdown",
   "id": "aff1be98",
   "metadata": {},
   "source": [
    "**Challenge:**\n",
    "\n",
    "Create a table that shows just the mean and standard deviation for the SMB and HML variables"
   ]
  },
  {
   "cell_type": "code",
   "execution_count": 26,
   "id": "b3ed227d",
   "metadata": {},
   "outputs": [
    {
     "data": {
      "text/html": [
       "<div>\n",
       "<style scoped>\n",
       "    .dataframe tbody tr th:only-of-type {\n",
       "        vertical-align: middle;\n",
       "    }\n",
       "\n",
       "    .dataframe tbody tr th {\n",
       "        vertical-align: top;\n",
       "    }\n",
       "\n",
       "    .dataframe thead th {\n",
       "        text-align: right;\n",
       "    }\n",
       "</style>\n",
       "<table border=\"1\" class=\"dataframe\">\n",
       "  <thead>\n",
       "    <tr style=\"text-align: right;\">\n",
       "      <th></th>\n",
       "      <th>SMB</th>\n",
       "      <th>HML</th>\n",
       "    </tr>\n",
       "  </thead>\n",
       "  <tbody>\n",
       "    <tr>\n",
       "      <th>mean</th>\n",
       "      <td>0.001404</td>\n",
       "      <td>0.00253</td>\n",
       "    </tr>\n",
       "    <tr>\n",
       "      <th>std</th>\n",
       "      <td>0.030765</td>\n",
       "      <td>0.02963</td>\n",
       "    </tr>\n",
       "  </tbody>\n",
       "</table>\n",
       "</div>"
      ],
      "text/plain": [
       "           SMB      HML\n",
       "mean  0.001404  0.00253\n",
       "std   0.030765  0.02963"
      ]
     },
     "execution_count": 26,
     "metadata": {},
     "output_type": "execute_result"
    }
   ],
   "source": [
    "ff3[['SMB','HML']].agg(['mean','std'])"
   ]
  },
  {
   "cell_type": "markdown",
   "id": "fed71f8e",
   "metadata": {},
   "source": [
    "# Two-variable statistics\n",
    "\n",
    "These are statistics that describe the relation between two variables. The most commonly used ones are the **covariance* and the **correlation**. Both of these try to quantify the strength of the **linear** relation between the two variables. The main difference between them is that the correlation coefficient is bounded between -1 and 1 and so it is easier to interpret. \n",
    "\n",
    "*If two variables are tightly related to each other, but not in a linear fashion (e.g. $Y = X^4$), the covariance and correlation will **underestimate** the strength of that relation.*"
   ]
  },
  {
   "cell_type": "markdown",
   "id": "f59596a8",
   "metadata": {},
   "source": [
    "## Covariance: ``.cov()``\n",
    "\n",
    "The ``cov()`` function produces a covariance matrix for the variables (columns) in the dataframe. The numbers on the diagonal are actually variances. Each number on the off-diagonal is the covariance between the two variables specified in the column/row headers."
   ]
  },
  {
   "cell_type": "code",
   "execution_count": 27,
   "id": "6e541489",
   "metadata": {},
   "outputs": [
    {
     "data": {
      "text/html": [
       "<div>\n",
       "<style scoped>\n",
       "    .dataframe tbody tr th:only-of-type {\n",
       "        vertical-align: middle;\n",
       "    }\n",
       "\n",
       "    .dataframe tbody tr th {\n",
       "        vertical-align: top;\n",
       "    }\n",
       "\n",
       "    .dataframe thead th {\n",
       "        text-align: right;\n",
       "    }\n",
       "</style>\n",
       "<table border=\"1\" class=\"dataframe\">\n",
       "  <thead>\n",
       "    <tr style=\"text-align: right;\">\n",
       "      <th></th>\n",
       "      <th>MKT</th>\n",
       "      <th>SMB</th>\n",
       "      <th>HML</th>\n",
       "      <th>RF</th>\n",
       "    </tr>\n",
       "  </thead>\n",
       "  <tbody>\n",
       "    <tr>\n",
       "      <th>MKT</th>\n",
       "      <td>0.002112</td>\n",
       "      <td>0.000405</td>\n",
       "      <td>-0.000308</td>\n",
       "      <td>-0.000011</td>\n",
       "    </tr>\n",
       "    <tr>\n",
       "      <th>SMB</th>\n",
       "      <td>0.000405</td>\n",
       "      <td>0.000946</td>\n",
       "      <td>-0.000163</td>\n",
       "      <td>-0.000004</td>\n",
       "    </tr>\n",
       "    <tr>\n",
       "      <th>HML</th>\n",
       "      <td>-0.000308</td>\n",
       "      <td>-0.000163</td>\n",
       "      <td>0.000878</td>\n",
       "      <td>0.000009</td>\n",
       "    </tr>\n",
       "    <tr>\n",
       "      <th>RF</th>\n",
       "      <td>-0.000011</td>\n",
       "      <td>-0.000004</td>\n",
       "      <td>0.000009</td>\n",
       "      <td>0.000008</td>\n",
       "    </tr>\n",
       "  </tbody>\n",
       "</table>\n",
       "</div>"
      ],
      "text/plain": [
       "          MKT       SMB       HML        RF\n",
       "MKT  0.002112  0.000405 -0.000308 -0.000011\n",
       "SMB  0.000405  0.000946 -0.000163 -0.000004\n",
       "HML -0.000308 -0.000163  0.000878  0.000009\n",
       "RF  -0.000011 -0.000004  0.000009  0.000008"
      ]
     },
     "execution_count": 27,
     "metadata": {},
     "output_type": "execute_result"
    }
   ],
   "source": [
    "ff3.cov()"
   ]
  },
  {
   "cell_type": "markdown",
   "id": "4d7d370d",
   "metadata": {},
   "source": [
    "The output table above is a dataframe, so we can access individual numbers in it using the ``.loc[]`` operator. \n",
    "\n",
    "For example, below, we extract the covariance between the 'MKT' and 'SMB' variables:"
   ]
  },
  {
   "cell_type": "code",
   "execution_count": 28,
   "id": "49cc3959",
   "metadata": {},
   "outputs": [
    {
     "data": {
      "text/plain": [
       "0.0004047944073253961"
      ]
     },
     "execution_count": 28,
     "metadata": {},
     "output_type": "execute_result"
    }
   ],
   "source": [
    "ff3.cov().loc['MKT', 'SMB']"
   ]
  },
  {
   "cell_type": "markdown",
   "id": "617a947a",
   "metadata": {},
   "source": [
    "Remember, if you want to use these estimates later on, you need to store them as new variables:"
   ]
  },
  {
   "cell_type": "code",
   "execution_count": 29,
   "id": "82c1bcee",
   "metadata": {},
   "outputs": [
    {
     "data": {
      "text/html": [
       "<div>\n",
       "<style scoped>\n",
       "    .dataframe tbody tr th:only-of-type {\n",
       "        vertical-align: middle;\n",
       "    }\n",
       "\n",
       "    .dataframe tbody tr th {\n",
       "        vertical-align: top;\n",
       "    }\n",
       "\n",
       "    .dataframe thead th {\n",
       "        text-align: right;\n",
       "    }\n",
       "</style>\n",
       "<table border=\"1\" class=\"dataframe\">\n",
       "  <thead>\n",
       "    <tr style=\"text-align: right;\">\n",
       "      <th></th>\n",
       "      <th>MKT</th>\n",
       "      <th>SMB</th>\n",
       "      <th>HML</th>\n",
       "      <th>RF</th>\n",
       "    </tr>\n",
       "  </thead>\n",
       "  <tbody>\n",
       "    <tr>\n",
       "      <th>MKT</th>\n",
       "      <td>0.002112</td>\n",
       "      <td>0.000405</td>\n",
       "      <td>-0.000308</td>\n",
       "      <td>-0.000011</td>\n",
       "    </tr>\n",
       "    <tr>\n",
       "      <th>SMB</th>\n",
       "      <td>0.000405</td>\n",
       "      <td>0.000946</td>\n",
       "      <td>-0.000163</td>\n",
       "      <td>-0.000004</td>\n",
       "    </tr>\n",
       "    <tr>\n",
       "      <th>HML</th>\n",
       "      <td>-0.000308</td>\n",
       "      <td>-0.000163</td>\n",
       "      <td>0.000878</td>\n",
       "      <td>0.000009</td>\n",
       "    </tr>\n",
       "    <tr>\n",
       "      <th>RF</th>\n",
       "      <td>-0.000011</td>\n",
       "      <td>-0.000004</td>\n",
       "      <td>0.000009</td>\n",
       "      <td>0.000008</td>\n",
       "    </tr>\n",
       "  </tbody>\n",
       "</table>\n",
       "</div>"
      ],
      "text/plain": [
       "          MKT       SMB       HML        RF\n",
       "MKT  0.002112  0.000405 -0.000308 -0.000011\n",
       "SMB  0.000405  0.000946 -0.000163 -0.000004\n",
       "HML -0.000308 -0.000163  0.000878  0.000009\n",
       "RF  -0.000011 -0.000004  0.000009  0.000008"
      ]
     },
     "execution_count": 29,
     "metadata": {},
     "output_type": "execute_result"
    }
   ],
   "source": [
    "covmat = ff3.cov()\n",
    "covmat"
   ]
  },
  {
   "cell_type": "code",
   "execution_count": 30,
   "id": "d17a634d",
   "metadata": {},
   "outputs": [
    {
     "data": {
      "text/plain": [
       "0.0004047944073253961"
      ]
     },
     "execution_count": 30,
     "metadata": {},
     "output_type": "execute_result"
    }
   ],
   "source": [
    "cov_mkt_smb = covmat.loc['MKT', 'SMB']\n",
    "cov_mkt_smb"
   ]
  },
  {
   "cell_type": "markdown",
   "id": "7cbbd1f6",
   "metadata": {},
   "source": [
    "## Correlation: ``.corr()``\n",
    "\n",
    "Just like with covariance, we can calculate a correlation matrix for the entire dataset:"
   ]
  },
  {
   "cell_type": "code",
   "execution_count": 31,
   "id": "9820a42d",
   "metadata": {},
   "outputs": [
    {
     "data": {
      "text/html": [
       "<div>\n",
       "<style scoped>\n",
       "    .dataframe tbody tr th:only-of-type {\n",
       "        vertical-align: middle;\n",
       "    }\n",
       "\n",
       "    .dataframe tbody tr th {\n",
       "        vertical-align: top;\n",
       "    }\n",
       "\n",
       "    .dataframe thead th {\n",
       "        text-align: right;\n",
       "    }\n",
       "</style>\n",
       "<table border=\"1\" class=\"dataframe\">\n",
       "  <thead>\n",
       "    <tr style=\"text-align: right;\">\n",
       "      <th></th>\n",
       "      <th>MKT</th>\n",
       "      <th>SMB</th>\n",
       "      <th>HML</th>\n",
       "      <th>RF</th>\n",
       "    </tr>\n",
       "  </thead>\n",
       "  <tbody>\n",
       "    <tr>\n",
       "      <th>MKT</th>\n",
       "      <td>1.000000</td>\n",
       "      <td>0.286331</td>\n",
       "      <td>-0.225911</td>\n",
       "      <td>-0.089092</td>\n",
       "    </tr>\n",
       "    <tr>\n",
       "      <th>SMB</th>\n",
       "      <td>0.286331</td>\n",
       "      <td>1.000000</td>\n",
       "      <td>-0.178917</td>\n",
       "      <td>-0.044725</td>\n",
       "    </tr>\n",
       "    <tr>\n",
       "      <th>HML</th>\n",
       "      <td>-0.225911</td>\n",
       "      <td>-0.178917</td>\n",
       "      <td>1.000000</td>\n",
       "      <td>0.108959</td>\n",
       "    </tr>\n",
       "    <tr>\n",
       "      <th>RF</th>\n",
       "      <td>-0.089092</td>\n",
       "      <td>-0.044725</td>\n",
       "      <td>0.108959</td>\n",
       "      <td>1.000000</td>\n",
       "    </tr>\n",
       "  </tbody>\n",
       "</table>\n",
       "</div>"
      ],
      "text/plain": [
       "          MKT       SMB       HML        RF\n",
       "MKT  1.000000  0.286331 -0.225911 -0.089092\n",
       "SMB  0.286331  1.000000 -0.178917 -0.044725\n",
       "HML -0.225911 -0.178917  1.000000  0.108959\n",
       "RF  -0.089092 -0.044725  0.108959  1.000000"
      ]
     },
     "execution_count": 31,
     "metadata": {},
     "output_type": "execute_result"
    }
   ],
   "source": [
    "ff3.corr()"
   ]
  },
  {
   "cell_type": "markdown",
   "id": "de78eb40",
   "metadata": {},
   "source": [
    "Or we can extract the correlation of a particular pair of variables in your dataset:"
   ]
  },
  {
   "cell_type": "code",
   "execution_count": 32,
   "id": "1bce7610",
   "metadata": {},
   "outputs": [
    {
     "data": {
      "text/plain": [
       "0.2863310434640219"
      ]
     },
     "execution_count": 32,
     "metadata": {},
     "output_type": "execute_result"
    }
   ],
   "source": [
    "ff3.corr().loc['MKT', 'SMB']"
   ]
  },
  {
   "cell_type": "markdown",
   "id": "81b6aec9",
   "metadata": {},
   "source": [
    "**Challenge:**\n",
    "\n",
    "Calculate the correlation between 'MKT' returns in the current month and the SMB return from 12 months ago."
   ]
  },
  {
   "cell_type": "code",
   "execution_count": 33,
   "id": "1c391f68",
   "metadata": {},
   "outputs": [
    {
     "data": {
      "text/html": [
       "<div>\n",
       "<style scoped>\n",
       "    .dataframe tbody tr th:only-of-type {\n",
       "        vertical-align: middle;\n",
       "    }\n",
       "\n",
       "    .dataframe tbody tr th {\n",
       "        vertical-align: top;\n",
       "    }\n",
       "\n",
       "    .dataframe thead th {\n",
       "        text-align: right;\n",
       "    }\n",
       "</style>\n",
       "<table border=\"1\" class=\"dataframe\">\n",
       "  <thead>\n",
       "    <tr style=\"text-align: right;\">\n",
       "      <th></th>\n",
       "      <th>SMB</th>\n",
       "      <th>smb_lag12</th>\n",
       "    </tr>\n",
       "  </thead>\n",
       "  <tbody>\n",
       "    <tr>\n",
       "      <th>SMB</th>\n",
       "      <td>1.000000</td>\n",
       "      <td>0.094283</td>\n",
       "    </tr>\n",
       "    <tr>\n",
       "      <th>smb_lag12</th>\n",
       "      <td>0.094283</td>\n",
       "      <td>1.000000</td>\n",
       "    </tr>\n",
       "  </tbody>\n",
       "</table>\n",
       "</div>"
      ],
      "text/plain": [
       "                SMB  smb_lag12\n",
       "SMB        1.000000   0.094283\n",
       "smb_lag12  0.094283   1.000000"
      ]
     },
     "execution_count": 33,
     "metadata": {},
     "output_type": "execute_result"
    }
   ],
   "source": [
    "smb = ff3['SMB'].to_frame()\n",
    "smb['smb_lag12'] = smb['SMB'].shift(12)\n",
    "smb.corr()"
   ]
  },
  {
   "cell_type": "markdown",
   "id": "5b80a770",
   "metadata": {},
   "source": [
    "## Autocorrelation: ``.autocorr()``\n",
    "\n",
    "The autocorrelation of a variable is the correlation between its current value and a value from the past. So there is not one single autocorrelation for any given variable, there is one autocorrelation for every \"lag\" between the current value and the value from the past. For example, below, we calculate the \"1-month autocorrelation\" and \"12-month autocorrelation\" for the market portfolio returns:"
   ]
  },
  {
   "cell_type": "code",
   "execution_count": 34,
   "id": "6f487da0",
   "metadata": {},
   "outputs": [
    {
     "name": "stdout",
     "output_type": "stream",
     "text": [
      "1-month autocorrelation of market returns: 0.06457337999767149\n"
     ]
    }
   ],
   "source": [
    "mkt_acor1 = ff3['MKT'].autocorr(lag = 1) \n",
    "print(\"1-month autocorrelation of market returns:\", mkt_acor1)"
   ]
  },
  {
   "cell_type": "code",
   "execution_count": 35,
   "id": "225c2033",
   "metadata": {},
   "outputs": [
    {
     "name": "stdout",
     "output_type": "stream",
     "text": [
      "12-month autocorrelation of market returns: 0.02828759092532415\n"
     ]
    }
   ],
   "source": [
    "mkt_acor12 = ff3['MKT'].autocorr(lag = 12) \n",
    "print(\"12-month autocorrelation of market returns:\", mkt_acor12)"
   ]
  },
  {
   "cell_type": "markdown",
   "id": "af11ed0f",
   "metadata": {},
   "source": [
    "And below we verify that the autocorrelation is nothing but the correlation between the current value and a lagged value:"
   ]
  },
  {
   "cell_type": "code",
   "execution_count": 36,
   "id": "dd1cb848",
   "metadata": {
    "scrolled": true
   },
   "outputs": [
    {
     "data": {
      "text/html": [
       "<div>\n",
       "<style scoped>\n",
       "    .dataframe tbody tr th:only-of-type {\n",
       "        vertical-align: middle;\n",
       "    }\n",
       "\n",
       "    .dataframe tbody tr th {\n",
       "        vertical-align: top;\n",
       "    }\n",
       "\n",
       "    .dataframe thead th {\n",
       "        text-align: right;\n",
       "    }\n",
       "</style>\n",
       "<table border=\"1\" class=\"dataframe\">\n",
       "  <thead>\n",
       "    <tr style=\"text-align: right;\">\n",
       "      <th></th>\n",
       "      <th>MKT</th>\n",
       "      <th>SMB</th>\n",
       "      <th>HML</th>\n",
       "      <th>RF</th>\n",
       "      <th>mkt_lag1</th>\n",
       "    </tr>\n",
       "    <tr>\n",
       "      <th>Date</th>\n",
       "      <th></th>\n",
       "      <th></th>\n",
       "      <th></th>\n",
       "      <th></th>\n",
       "      <th></th>\n",
       "    </tr>\n",
       "  </thead>\n",
       "  <tbody>\n",
       "    <tr>\n",
       "      <th>1970-01</th>\n",
       "      <td>-0.0810</td>\n",
       "      <td>0.0295</td>\n",
       "      <td>0.0312</td>\n",
       "      <td>0.0060</td>\n",
       "      <td>NaN</td>\n",
       "    </tr>\n",
       "    <tr>\n",
       "      <th>1970-02</th>\n",
       "      <td>0.0513</td>\n",
       "      <td>-0.0256</td>\n",
       "      <td>0.0393</td>\n",
       "      <td>0.0062</td>\n",
       "      <td>-0.0810</td>\n",
       "    </tr>\n",
       "    <tr>\n",
       "      <th>1970-03</th>\n",
       "      <td>-0.0106</td>\n",
       "      <td>-0.0230</td>\n",
       "      <td>0.0399</td>\n",
       "      <td>0.0057</td>\n",
       "      <td>0.0513</td>\n",
       "    </tr>\n",
       "    <tr>\n",
       "      <th>1970-04</th>\n",
       "      <td>-0.1100</td>\n",
       "      <td>-0.0612</td>\n",
       "      <td>0.0617</td>\n",
       "      <td>0.0050</td>\n",
       "      <td>-0.0106</td>\n",
       "    </tr>\n",
       "    <tr>\n",
       "      <th>1970-05</th>\n",
       "      <td>-0.0692</td>\n",
       "      <td>-0.0456</td>\n",
       "      <td>0.0332</td>\n",
       "      <td>0.0053</td>\n",
       "      <td>-0.1100</td>\n",
       "    </tr>\n",
       "  </tbody>\n",
       "</table>\n",
       "</div>"
      ],
      "text/plain": [
       "            MKT     SMB     HML      RF  mkt_lag1\n",
       "Date                                             \n",
       "1970-01 -0.0810  0.0295  0.0312  0.0060       NaN\n",
       "1970-02  0.0513 -0.0256  0.0393  0.0062   -0.0810\n",
       "1970-03 -0.0106 -0.0230  0.0399  0.0057    0.0513\n",
       "1970-04 -0.1100 -0.0612  0.0617  0.0050   -0.0106\n",
       "1970-05 -0.0692 -0.0456  0.0332  0.0053   -0.1100"
      ]
     },
     "execution_count": 36,
     "metadata": {},
     "output_type": "execute_result"
    }
   ],
   "source": [
    "ff3['mkt_lag1'] = ff3['MKT'].shift(1)\n",
    "ff3.head()"
   ]
  },
  {
   "cell_type": "code",
   "execution_count": 37,
   "id": "d774561d",
   "metadata": {
    "scrolled": true
   },
   "outputs": [
    {
     "data": {
      "text/html": [
       "<div>\n",
       "<style scoped>\n",
       "    .dataframe tbody tr th:only-of-type {\n",
       "        vertical-align: middle;\n",
       "    }\n",
       "\n",
       "    .dataframe tbody tr th {\n",
       "        vertical-align: top;\n",
       "    }\n",
       "\n",
       "    .dataframe thead th {\n",
       "        text-align: right;\n",
       "    }\n",
       "</style>\n",
       "<table border=\"1\" class=\"dataframe\">\n",
       "  <thead>\n",
       "    <tr style=\"text-align: right;\">\n",
       "      <th></th>\n",
       "      <th>MKT</th>\n",
       "      <th>mkt_lag1</th>\n",
       "    </tr>\n",
       "  </thead>\n",
       "  <tbody>\n",
       "    <tr>\n",
       "      <th>MKT</th>\n",
       "      <td>1.000000</td>\n",
       "      <td>0.064573</td>\n",
       "    </tr>\n",
       "    <tr>\n",
       "      <th>mkt_lag1</th>\n",
       "      <td>0.064573</td>\n",
       "      <td>1.000000</td>\n",
       "    </tr>\n",
       "  </tbody>\n",
       "</table>\n",
       "</div>"
      ],
      "text/plain": [
       "               MKT  mkt_lag1\n",
       "MKT       1.000000  0.064573\n",
       "mkt_lag1  0.064573  1.000000"
      ]
     },
     "execution_count": 37,
     "metadata": {},
     "output_type": "execute_result"
    }
   ],
   "source": [
    "ff3[['MKT','mkt_lag1']].corr()"
   ]
  },
  {
   "cell_type": "markdown",
   "id": "42f5d3a4",
   "metadata": {},
   "source": [
    "# Rolling statistics\n",
    "\n",
    "These are statistics that are re-calculated at each point in time, using either \n",
    "- a fixed number of data points from the past \n",
    "    - these are called \"fixed window\" rolling statistics\n",
    "    - can be calculated with the \"rolling\" Pandas function\n",
    "- all the data from the past (expanding window) \n",
    "    - these are called \"expanding window\" rolling statistics\n",
    "    - can be calculated with the \"expanding\" Pandas function\n",
    "\n",
    "Both the \"expanding\" and the \"rolling\" functions should be followed by the name of the statistic that you want to calculate."
   ]
  },
  {
   "cell_type": "markdown",
   "id": "0a5646f6",
   "metadata": {},
   "source": [
    "## Fixed-window rolling statistics \n",
    "\n",
    "We use the ``.rolling()`` function to calculate summary statistics at each point in time \"t\" using only the observations from \"t - w\" to \"t\", where \"w\" is referred to as the \"window\" length.\n",
    "\n",
    "Syntax:\n",
    "```python\n",
    "DataFrame.rolling(window, min_periods=None, center=False, win_type=None, on=None, axis=0, closed=None, method='single')\n",
    "```"
   ]
  },
  {
   "cell_type": "markdown",
   "id": "21a038a1",
   "metadata": {},
   "source": [
    "As an example, below, we calculate 60-month rolling means (i.e. \"w\" is 60) for all the variables in ``ff3``:"
   ]
  },
  {
   "cell_type": "code",
   "execution_count": 38,
   "id": "19bcf67f",
   "metadata": {},
   "outputs": [
    {
     "data": {
      "text/html": [
       "<div>\n",
       "<style scoped>\n",
       "    .dataframe tbody tr th:only-of-type {\n",
       "        vertical-align: middle;\n",
       "    }\n",
       "\n",
       "    .dataframe tbody tr th {\n",
       "        vertical-align: top;\n",
       "    }\n",
       "\n",
       "    .dataframe thead th {\n",
       "        text-align: right;\n",
       "    }\n",
       "</style>\n",
       "<table border=\"1\" class=\"dataframe\">\n",
       "  <thead>\n",
       "    <tr style=\"text-align: right;\">\n",
       "      <th></th>\n",
       "      <th>MKT</th>\n",
       "      <th>SMB</th>\n",
       "      <th>HML</th>\n",
       "      <th>RF</th>\n",
       "      <th>mkt_lag1</th>\n",
       "    </tr>\n",
       "    <tr>\n",
       "      <th>Date</th>\n",
       "      <th></th>\n",
       "      <th></th>\n",
       "      <th></th>\n",
       "      <th></th>\n",
       "      <th></th>\n",
       "    </tr>\n",
       "  </thead>\n",
       "  <tbody>\n",
       "    <tr>\n",
       "      <th>1970-01</th>\n",
       "      <td>NaN</td>\n",
       "      <td>NaN</td>\n",
       "      <td>NaN</td>\n",
       "      <td>NaN</td>\n",
       "      <td>NaN</td>\n",
       "    </tr>\n",
       "    <tr>\n",
       "      <th>1970-02</th>\n",
       "      <td>NaN</td>\n",
       "      <td>NaN</td>\n",
       "      <td>NaN</td>\n",
       "      <td>NaN</td>\n",
       "      <td>NaN</td>\n",
       "    </tr>\n",
       "    <tr>\n",
       "      <th>1970-03</th>\n",
       "      <td>NaN</td>\n",
       "      <td>NaN</td>\n",
       "      <td>NaN</td>\n",
       "      <td>NaN</td>\n",
       "      <td>NaN</td>\n",
       "    </tr>\n",
       "    <tr>\n",
       "      <th>1970-04</th>\n",
       "      <td>NaN</td>\n",
       "      <td>NaN</td>\n",
       "      <td>NaN</td>\n",
       "      <td>NaN</td>\n",
       "      <td>NaN</td>\n",
       "    </tr>\n",
       "    <tr>\n",
       "      <th>1970-05</th>\n",
       "      <td>NaN</td>\n",
       "      <td>NaN</td>\n",
       "      <td>NaN</td>\n",
       "      <td>NaN</td>\n",
       "      <td>NaN</td>\n",
       "    </tr>\n",
       "    <tr>\n",
       "      <th>...</th>\n",
       "      <td>...</td>\n",
       "      <td>...</td>\n",
       "      <td>...</td>\n",
       "      <td>...</td>\n",
       "      <td>...</td>\n",
       "    </tr>\n",
       "    <tr>\n",
       "      <th>2020-08</th>\n",
       "      <td>0.011497</td>\n",
       "      <td>-0.001702</td>\n",
       "      <td>-0.008360</td>\n",
       "      <td>0.000888</td>\n",
       "      <td>0.009218</td>\n",
       "    </tr>\n",
       "    <tr>\n",
       "      <th>2020-09</th>\n",
       "      <td>0.011403</td>\n",
       "      <td>-0.001270</td>\n",
       "      <td>-0.008900</td>\n",
       "      <td>0.000890</td>\n",
       "      <td>0.011497</td>\n",
       "    </tr>\n",
       "    <tr>\n",
       "      <th>2020-10</th>\n",
       "      <td>0.009762</td>\n",
       "      <td>-0.000227</td>\n",
       "      <td>-0.008127</td>\n",
       "      <td>0.000892</td>\n",
       "      <td>0.011403</td>\n",
       "    </tr>\n",
       "    <tr>\n",
       "      <th>2020-11</th>\n",
       "      <td>0.011747</td>\n",
       "      <td>0.000130</td>\n",
       "      <td>-0.007732</td>\n",
       "      <td>0.000893</td>\n",
       "      <td>0.009762</td>\n",
       "    </tr>\n",
       "    <tr>\n",
       "      <th>2020-12</th>\n",
       "      <td>0.012880</td>\n",
       "      <td>0.001403</td>\n",
       "      <td>-0.007560</td>\n",
       "      <td>0.000893</td>\n",
       "      <td>0.011747</td>\n",
       "    </tr>\n",
       "  </tbody>\n",
       "</table>\n",
       "<p>612 rows × 5 columns</p>\n",
       "</div>"
      ],
      "text/plain": [
       "              MKT       SMB       HML        RF  mkt_lag1\n",
       "Date                                                     \n",
       "1970-01       NaN       NaN       NaN       NaN       NaN\n",
       "1970-02       NaN       NaN       NaN       NaN       NaN\n",
       "1970-03       NaN       NaN       NaN       NaN       NaN\n",
       "1970-04       NaN       NaN       NaN       NaN       NaN\n",
       "1970-05       NaN       NaN       NaN       NaN       NaN\n",
       "...           ...       ...       ...       ...       ...\n",
       "2020-08  0.011497 -0.001702 -0.008360  0.000888  0.009218\n",
       "2020-09  0.011403 -0.001270 -0.008900  0.000890  0.011497\n",
       "2020-10  0.009762 -0.000227 -0.008127  0.000892  0.011403\n",
       "2020-11  0.011747  0.000130 -0.007732  0.000893  0.009762\n",
       "2020-12  0.012880  0.001403 -0.007560  0.000893  0.011747\n",
       "\n",
       "[612 rows x 5 columns]"
      ]
     },
     "execution_count": 38,
     "metadata": {},
     "output_type": "execute_result"
    }
   ],
   "source": [
    "rolling_means = ff3.rolling(60).mean()\n",
    "rolling_means"
   ]
  },
  {
   "cell_type": "code",
   "execution_count": 39,
   "id": "0a349733",
   "metadata": {},
   "outputs": [
    {
     "data": {
      "image/png": "[encoded data removed]",
      "text/plain": [
       "<Figure size 432x288 with 1 Axes>"
      ]
     },
     "metadata": {
      "needs_background": "light"
     },
     "output_type": "display_data"
    }
   ],
   "source": [
    "rolling_means['MKT'].plot();"
   ]
  },
  {
   "cell_type": "markdown",
   "id": "0253b5ca",
   "metadata": {},
   "source": [
    "We can calculate rolling versions for all summary statistics that the pandas package knows how to calculate. For example, below, we calculate the rolling, 36-month standard deviations of market returns, and we plot these over time:"
   ]
  },
  {
   "cell_type": "code",
   "execution_count": 40,
   "id": "9166d4bd",
   "metadata": {},
   "outputs": [
    {
     "data": {
      "image/png": "[encoded data removed]",
      "text/plain": [
       "<Figure size 432x288 with 1 Axes>"
      ]
     },
     "metadata": {
      "needs_background": "light"
     },
     "output_type": "display_data"
    }
   ],
   "source": [
    "ff3['MKT'].rolling(36).std().plot();"
   ]
  },
  {
   "cell_type": "markdown",
   "id": "3c14b66d",
   "metadata": {},
   "source": [
    "We can even calculate rolling versions of two-variable summary statistics (like correlation and covariance). However, we have to remember that ``.corr()`` and ``.cov()`` produce matrices not single numbers. So if we want rolling correlations between, say, market returns and the risk-free rate, the cell below will produce a correlation matrix at each point in time:"
   ]
  },
  {
   "cell_type": "code",
   "execution_count": 41,
   "id": "0c8804b3",
   "metadata": {},
   "outputs": [
    {
     "data": {
      "text/html": [
       "<div>\n",
       "<style scoped>\n",
       "    .dataframe tbody tr th:only-of-type {\n",
       "        vertical-align: middle;\n",
       "    }\n",
       "\n",
       "    .dataframe tbody tr th {\n",
       "        vertical-align: top;\n",
       "    }\n",
       "\n",
       "    .dataframe thead th {\n",
       "        text-align: right;\n",
       "    }\n",
       "</style>\n",
       "<table border=\"1\" class=\"dataframe\">\n",
       "  <thead>\n",
       "    <tr style=\"text-align: right;\">\n",
       "      <th></th>\n",
       "      <th></th>\n",
       "      <th>MKT</th>\n",
       "      <th>RF</th>\n",
       "    </tr>\n",
       "    <tr>\n",
       "      <th>Date</th>\n",
       "      <th></th>\n",
       "      <th></th>\n",
       "      <th></th>\n",
       "    </tr>\n",
       "  </thead>\n",
       "  <tbody>\n",
       "    <tr>\n",
       "      <th rowspan=\"2\" valign=\"top\">1970-01</th>\n",
       "      <th>MKT</th>\n",
       "      <td>NaN</td>\n",
       "      <td>NaN</td>\n",
       "    </tr>\n",
       "    <tr>\n",
       "      <th>RF</th>\n",
       "      <td>NaN</td>\n",
       "      <td>NaN</td>\n",
       "    </tr>\n",
       "    <tr>\n",
       "      <th rowspan=\"2\" valign=\"top\">1970-02</th>\n",
       "      <th>MKT</th>\n",
       "      <td>NaN</td>\n",
       "      <td>NaN</td>\n",
       "    </tr>\n",
       "    <tr>\n",
       "      <th>RF</th>\n",
       "      <td>NaN</td>\n",
       "      <td>NaN</td>\n",
       "    </tr>\n",
       "    <tr>\n",
       "      <th>1970-03</th>\n",
       "      <th>MKT</th>\n",
       "      <td>NaN</td>\n",
       "      <td>NaN</td>\n",
       "    </tr>\n",
       "    <tr>\n",
       "      <th>...</th>\n",
       "      <th>...</th>\n",
       "      <td>...</td>\n",
       "      <td>...</td>\n",
       "    </tr>\n",
       "    <tr>\n",
       "      <th>2020-10</th>\n",
       "      <th>RF</th>\n",
       "      <td>-0.171608</td>\n",
       "      <td>1.000000</td>\n",
       "    </tr>\n",
       "    <tr>\n",
       "      <th rowspan=\"2\" valign=\"top\">2020-11</th>\n",
       "      <th>MKT</th>\n",
       "      <td>1.000000</td>\n",
       "      <td>-0.212314</td>\n",
       "    </tr>\n",
       "    <tr>\n",
       "      <th>RF</th>\n",
       "      <td>-0.212314</td>\n",
       "      <td>1.000000</td>\n",
       "    </tr>\n",
       "    <tr>\n",
       "      <th rowspan=\"2\" valign=\"top\">2020-12</th>\n",
       "      <th>MKT</th>\n",
       "      <td>1.000000</td>\n",
       "      <td>-0.240182</td>\n",
       "    </tr>\n",
       "    <tr>\n",
       "      <th>RF</th>\n",
       "      <td>-0.240182</td>\n",
       "      <td>1.000000</td>\n",
       "    </tr>\n",
       "  </tbody>\n",
       "</table>\n",
       "<p>1224 rows × 2 columns</p>\n",
       "</div>"
      ],
      "text/plain": [
       "                  MKT        RF\n",
       "Date                           \n",
       "1970-01 MKT       NaN       NaN\n",
       "        RF        NaN       NaN\n",
       "1970-02 MKT       NaN       NaN\n",
       "        RF        NaN       NaN\n",
       "1970-03 MKT       NaN       NaN\n",
       "...               ...       ...\n",
       "2020-10 RF  -0.171608  1.000000\n",
       "2020-11 MKT  1.000000 -0.212314\n",
       "        RF  -0.212314  1.000000\n",
       "2020-12 MKT  1.000000 -0.240182\n",
       "        RF  -0.240182  1.000000\n",
       "\n",
       "[1224 rows x 2 columns]"
      ]
     },
     "execution_count": 41,
     "metadata": {},
     "output_type": "execute_result"
    }
   ],
   "source": [
    "not_like_this = ff3[['MKT','RF']].rolling(60).corr()\n",
    "not_like_this"
   ]
  },
  {
   "cell_type": "markdown",
   "id": "d241638f",
   "metadata": {},
   "source": [
    "Instead, we need to supply one of the variables as a parameter to the ``.corr()`` function:"
   ]
  },
  {
   "cell_type": "code",
   "execution_count": 42,
   "id": "2da57779",
   "metadata": {},
   "outputs": [
    {
     "data": {
      "text/plain": [
       "Date\n",
       "1970-01         NaN\n",
       "1970-02         NaN\n",
       "1970-03         NaN\n",
       "1970-04         NaN\n",
       "1970-05         NaN\n",
       "             ...   \n",
       "2020-08   -0.213687\n",
       "2020-09   -0.213742\n",
       "2020-10   -0.171608\n",
       "2020-11   -0.212314\n",
       "2020-12   -0.240182\n",
       "Freq: M, Length: 612, dtype: float64"
      ]
     },
     "execution_count": 42,
     "metadata": {},
     "output_type": "execute_result"
    }
   ],
   "source": [
    "just_the_coeff = ff3['MKT'].rolling(60).corr(ff3['RF'])\n",
    "just_the_coeff"
   ]
  },
  {
   "cell_type": "code",
   "execution_count": 43,
   "id": "50a012cc",
   "metadata": {},
   "outputs": [
    {
     "data": {
      "image/png": "[encoded data removed]",
      "text/plain": [
       "<Figure size 432x288 with 1 Axes>"
      ]
     },
     "metadata": {
      "needs_background": "light"
     },
     "output_type": "display_data"
    }
   ],
   "source": [
    "just_the_coeff.plot();"
   ]
  },
  {
   "cell_type": "markdown",
   "id": "e586912e",
   "metadata": {},
   "source": [
    "## Expanding-window rolling statistics\n",
    "\n",
    "With expanding-window summary statistics, at each point in time, we use all the available data up to that point to calculate the statistic. We use the ``.expanding()`` function for this purpose, which also gives us the option to specify that we want to calculate the statistic only if we have a minimum number of observations available at that point (see the ``min_period`` parameter below): \n",
    "\n",
    "Syntax:\n",
    "```python\n",
    "DataFrame.expanding(min_periods=1, center=None, axis=0, method='single')\n",
    "```"
   ]
  },
  {
   "cell_type": "markdown",
   "id": "e4ca45f7",
   "metadata": {},
   "source": [
    "Note that, if we don't supply a large enough ``min_periods``, in the beginning of the sample, the statistics will be calculated using a very low number of observations (starting with 1), so they will be quite volatile:"
   ]
  },
  {
   "cell_type": "code",
   "execution_count": 44,
   "id": "e3e7bedc",
   "metadata": {},
   "outputs": [
    {
     "data": {
      "image/png": "[encoded data removed]",
      "text/plain": [
       "<Figure size 432x288 with 1 Axes>"
      ]
     },
     "metadata": {
      "needs_background": "light"
     },
     "output_type": "display_data"
    }
   ],
   "source": [
    "ff3['MKT'].expanding().mean().plot();"
   ]
  },
  {
   "cell_type": "markdown",
   "id": "6dc40137",
   "metadata": {},
   "source": [
    "This looks a lot more stable if we make sure each statistic is calculated using at least 36 observations:"
   ]
  },
  {
   "cell_type": "code",
   "execution_count": 45,
   "id": "83d4d09f",
   "metadata": {},
   "outputs": [
    {
     "data": {
      "image/png": "[encoded data removed]",
      "text/plain": [
       "<Figure size 432x288 with 1 Axes>"
      ]
     },
     "metadata": {
      "needs_background": "light"
     },
     "output_type": "display_data"
    }
   ],
   "source": [
    "ff3['MKT'].expanding(min_periods = 36).mean().plot();"
   ]
  },
  {
   "cell_type": "markdown",
   "id": "2ab1c31f",
   "metadata": {},
   "source": [
    "As another example, let's look at the behavior of market volatility over time:"
   ]
  },
  {
   "cell_type": "code",
   "execution_count": 46,
   "id": "9f99baa4",
   "metadata": {},
   "outputs": [
    {
     "data": {
      "image/png": "[encoded data removed]",
      "text/plain": [
       "<Figure size 432x288 with 1 Axes>"
      ]
     },
     "metadata": {
      "needs_background": "light"
     },
     "output_type": "display_data"
    }
   ],
   "source": [
    "ff3['MKT'].expanding(min_periods = 60).std().plot();"
   ]
  },
  {
   "cell_type": "markdown",
   "id": "e736d089",
   "metadata": {},
   "source": [
    "Finally, below, we see that the correlation between market returns and tbill yields, while changing over time, is negative throughout (when we do not restrict ourselves to just the prior 60 observations):"
   ]
  },
  {
   "cell_type": "code",
   "execution_count": 47,
   "id": "d9849117",
   "metadata": {},
   "outputs": [
    {
     "data": {
      "image/png": "[encoded data removed]",
      "text/plain": [
       "<Figure size 432x288 with 1 Axes>"
      ]
     },
     "metadata": {
      "needs_background": "light"
     },
     "output_type": "display_data"
    }
   ],
   "source": [
    "ff3['MKT'].expanding(min_periods = 60).corr(ff3['RF']).plot();"
   ]
  }
 ],
 "metadata": {
  "kernelspec": {
   "display_name": "Python 3 (ipykernel)",
   "language": "python",
   "name": "python3"
  },
  "language_info": {
   "codemirror_mode": {
    "name": "ipython",
    "version": 3
   },
   "file_extension": ".py",
   "mimetype": "text/x-python",
   "name": "python",
   "nbconvert_exporter": "python",
   "pygments_lexer": "ipython3",
   "version": "3.8.5"
  },
  "toc": {
   "base_numbering": 1,
   "nav_menu": {},
   "number_sections": true,
   "sideBar": true,
   "skip_h1_title": false,
   "title_cell": "Table of Contents",
   "title_sidebar": "Contents",
   "toc_cell": true,
   "toc_position": {},
   "toc_section_display": true,
   "toc_window_display": false
  }
 },
 "nbformat": 4,
 "nbformat_minor": 5
}
