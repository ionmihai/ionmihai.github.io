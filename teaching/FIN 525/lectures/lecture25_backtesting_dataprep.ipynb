{
 "cells": [
  {
   "cell_type": "markdown",
   "metadata": {
    "toc": true
   },
   "source": [
    "<h1>Table of Contents<span class=\"tocSkip\"></span></h1>\n",
    "<div class=\"toc\"><ul class=\"toc-item\"><li><span><a href=\"#Lecture-Overview\" data-toc-modified-id=\"Lecture-Overview-1\"><span class=\"toc-item-num\">1&nbsp;&nbsp;</span>Lecture Overview</a></span></li><li><span><a href=\"#Data\" data-toc-modified-id=\"Data-2\"><span class=\"toc-item-num\">2&nbsp;&nbsp;</span>Data</a></span><ul class=\"toc-item\"><li><span><a href=\"#Accounting-data-(Compustat)\" data-toc-modified-id=\"Accounting-data-(Compustat)-2.1\"><span class=\"toc-item-num\">2.1&nbsp;&nbsp;</span>Accounting data (Compustat)</a></span><ul class=\"toc-item\"><li><span><a href=\"#Data-cleaning\" data-toc-modified-id=\"Data-cleaning-2.1.1\"><span class=\"toc-item-num\">2.1.1&nbsp;&nbsp;</span>Data cleaning</a></span></li><li><span><a href=\"#New-variables\" data-toc-modified-id=\"New-variables-2.1.2\"><span class=\"toc-item-num\">2.1.2&nbsp;&nbsp;</span>New variables</a></span></li></ul></li><li><span><a href=\"#Market-data-(CRSP)\" data-toc-modified-id=\"Market-data-(CRSP)-2.2\"><span class=\"toc-item-num\">2.2&nbsp;&nbsp;</span>Market data (CRSP)</a></span><ul class=\"toc-item\"><li><span><a href=\"#Data-Cleaning\" data-toc-modified-id=\"Data-Cleaning-2.2.1\"><span class=\"toc-item-num\">2.2.1&nbsp;&nbsp;</span>Data Cleaning</a></span></li><li><span><a href=\"#Calculate-CRSP-variables-for-Table-1\" data-toc-modified-id=\"Calculate-CRSP-variables-for-Table-1-2.2.2\"><span class=\"toc-item-num\">2.2.2&nbsp;&nbsp;</span>Calculate CRSP variables for Table 1</a></span></li></ul></li></ul></li></ul></div>"
   ]
  },
  {
   "cell_type": "code",
   "execution_count": 1,
   "metadata": {},
   "outputs": [],
   "source": [
    "# Import packages\n",
    "import pandas as pd\n",
    "pd.options.display.max_rows = 20"
   ]
  },
  {
   "cell_type": "markdown",
   "metadata": {},
   "source": [
    "# Lecture Overview\n",
    "\n",
    "We will spend the following four lectures working through backtesting the asset-growth anomaly. Here are the overall steps:\n",
    "\n",
    "- Data\n",
    "    - Load \"comp_clean\" put filters on and create (some of the) variables in Table 1\n",
    "    - Do the same for \"crsp_clean\"\n",
    "    - Merge the two datasets above\n",
    "\n",
    "- Table 1\n",
    "    - Create AG deciles\n",
    "    - Summarize selected firm characteristics at the AG-decile level\n",
    "\n",
    "- Create portfolios\n",
    "    - Merge AG deciles with monthly returns data\n",
    "    - Create variable that tells us which stock is in which portfolio at all times\n",
    "     \n",
    "- Table 2\n",
    "    - EW portfolio returns\n",
    "    - VW portfolio returns\n",
    "    - Risk-adjusted EW portoflio returns\n",
    "    - Risk-adjusted VW portfolio returns"
   ]
  },
  {
   "cell_type": "markdown",
   "metadata": {},
   "source": [
    "# Data"
   ]
  },
  {
   "cell_type": "markdown",
   "metadata": {},
   "source": [
    "## Accounting data (Compustat)"
   ]
  },
  {
   "cell_type": "markdown",
   "metadata": {},
   "source": [
    "### Data cleaning"
   ]
  },
  {
   "cell_type": "code",
   "execution_count": 2,
   "metadata": {},
   "outputs": [
    {
     "data": {
      "text/plain": [
       "(278226, 23)"
      ]
     },
     "execution_count": 2,
     "metadata": {},
     "output_type": "execute_result"
    }
   ],
   "source": [
    "# Load cleaned Compustat data\n",
    "raw = pd.read_pickle('../data/compa.zip')\n",
    "raw.shape"
   ]
  },
  {
   "cell_type": "code",
   "execution_count": 3,
   "metadata": {},
   "outputs": [
    {
     "data": {
      "text/plain": [
       "permno      float64\n",
       "datadate     object\n",
       "at          float64\n",
       "revt        float64\n",
       "cogs        float64\n",
       "dltt        float64\n",
       "dlc         float64\n",
       "ib          float64\n",
       "dtype: object"
      ]
     },
     "execution_count": 3,
     "metadata": {},
     "output_type": "execute_result"
    }
   ],
   "source": [
    "# Keep only what we need\n",
    "comp = raw[['permno','datadate','at','revt','cogs','dltt','dlc','ib']].copy()\n",
    "comp.dtypes"
   ]
  },
  {
   "cell_type": "code",
   "execution_count": 4,
   "metadata": {},
   "outputs": [
    {
     "data": {
      "text/plain": [
       "permno               int64\n",
       "datadate            object\n",
       "at                 float64\n",
       "revt               float64\n",
       "cogs               float64\n",
       "dltt               float64\n",
       "dlc                float64\n",
       "ib                 float64\n",
       "dtdate      datetime64[ns]\n",
       "year                 int64\n",
       "dtype: object"
      ]
     },
     "execution_count": 4,
     "metadata": {},
     "output_type": "execute_result"
    }
   ],
   "source": [
    "# Clean firmid and dates\n",
    "comp['dtdate'] = pd.to_datetime(comp['datadate'])\n",
    "comp['year'] = comp['dtdate'].dt.year\n",
    "comp['permno'] = comp['permno'].astype('int64')\n",
    "comp.dtypes"
   ]
  },
  {
   "cell_type": "code",
   "execution_count": 5,
   "metadata": {},
   "outputs": [
    {
     "data": {
      "text/html": [
       "<div>\n",
       "<style scoped>\n",
       "    .dataframe tbody tr th:only-of-type {\n",
       "        vertical-align: middle;\n",
       "    }\n",
       "\n",
       "    .dataframe tbody tr th {\n",
       "        vertical-align: top;\n",
       "    }\n",
       "\n",
       "    .dataframe thead th {\n",
       "        text-align: right;\n",
       "    }\n",
       "</style>\n",
       "<table border=\"1\" class=\"dataframe\">\n",
       "  <thead>\n",
       "    <tr style=\"text-align: right;\">\n",
       "      <th></th>\n",
       "      <th>permno</th>\n",
       "      <th>datadate</th>\n",
       "      <th>at</th>\n",
       "      <th>revt</th>\n",
       "      <th>cogs</th>\n",
       "      <th>dltt</th>\n",
       "      <th>dlc</th>\n",
       "      <th>ib</th>\n",
       "      <th>dtdate</th>\n",
       "      <th>year</th>\n",
       "    </tr>\n",
       "  </thead>\n",
       "  <tbody>\n",
       "    <tr>\n",
       "      <th>0</th>\n",
       "      <td>10000</td>\n",
       "      <td>1986-10-31</td>\n",
       "      <td>2.115</td>\n",
       "      <td>1.026</td>\n",
       "      <td>0.511</td>\n",
       "      <td>0.058</td>\n",
       "      <td>0.968</td>\n",
       "      <td>-0.730</td>\n",
       "      <td>1986-10-31</td>\n",
       "      <td>1986</td>\n",
       "    </tr>\n",
       "    <tr>\n",
       "      <th>1</th>\n",
       "      <td>10001</td>\n",
       "      <td>1986-06-30</td>\n",
       "      <td>12.242</td>\n",
       "      <td>21.460</td>\n",
       "      <td>19.565</td>\n",
       "      <td>2.946</td>\n",
       "      <td>0.343</td>\n",
       "      <td>0.669</td>\n",
       "      <td>1986-06-30</td>\n",
       "      <td>1986</td>\n",
       "    </tr>\n",
       "    <tr>\n",
       "      <th>2</th>\n",
       "      <td>10001</td>\n",
       "      <td>1987-06-30</td>\n",
       "      <td>11.771</td>\n",
       "      <td>16.621</td>\n",
       "      <td>15.538</td>\n",
       "      <td>2.750</td>\n",
       "      <td>0.377</td>\n",
       "      <td>0.312</td>\n",
       "      <td>1987-06-30</td>\n",
       "      <td>1987</td>\n",
       "    </tr>\n",
       "    <tr>\n",
       "      <th>3</th>\n",
       "      <td>10001</td>\n",
       "      <td>1988-06-30</td>\n",
       "      <td>11.735</td>\n",
       "      <td>16.978</td>\n",
       "      <td>15.556</td>\n",
       "      <td>2.555</td>\n",
       "      <td>0.325</td>\n",
       "      <td>0.542</td>\n",
       "      <td>1988-06-30</td>\n",
       "      <td>1988</td>\n",
       "    </tr>\n",
       "    <tr>\n",
       "      <th>4</th>\n",
       "      <td>10001</td>\n",
       "      <td>1989-06-30</td>\n",
       "      <td>18.565</td>\n",
       "      <td>22.910</td>\n",
       "      <td>19.856</td>\n",
       "      <td>7.370</td>\n",
       "      <td>0.185</td>\n",
       "      <td>1.208</td>\n",
       "      <td>1989-06-30</td>\n",
       "      <td>1989</td>\n",
       "    </tr>\n",
       "  </tbody>\n",
       "</table>\n",
       "</div>"
      ],
      "text/plain": [
       "   permno    datadate      at    revt    cogs   dltt    dlc     ib     dtdate  \\\n",
       "0   10000  1986-10-31   2.115   1.026   0.511  0.058  0.968 -0.730 1986-10-31   \n",
       "1   10001  1986-06-30  12.242  21.460  19.565  2.946  0.343  0.669 1986-06-30   \n",
       "2   10001  1987-06-30  11.771  16.621  15.538  2.750  0.377  0.312 1987-06-30   \n",
       "3   10001  1988-06-30  11.735  16.978  15.556  2.555  0.325  0.542 1988-06-30   \n",
       "4   10001  1989-06-30  18.565  22.910  19.856  7.370  0.185  1.208 1989-06-30   \n",
       "\n",
       "   year  \n",
       "0  1986  \n",
       "1  1986  \n",
       "2  1987  \n",
       "3  1988  \n",
       "4  1989  "
      ]
     },
     "execution_count": 5,
     "metadata": {},
     "output_type": "execute_result"
    }
   ],
   "source": [
    "# Keep postive total assets, sort and drop duplicates\n",
    "comp = comp[comp['at']>0].copy()\n",
    "comp = comp.sort_values(['permno','year'])\n",
    "comp = comp.drop_duplicates(['permno','year'], keep='last', ignore_index=True)\n",
    "comp.head()"
   ]
  },
  {
   "cell_type": "code",
   "execution_count": 6,
   "metadata": {},
   "outputs": [
    {
     "data": {
      "text/plain": [
       "(236316, 10)"
      ]
     },
     "execution_count": 6,
     "metadata": {},
     "output_type": "execute_result"
    }
   ],
   "source": [
    "comp.shape"
   ]
  },
  {
   "cell_type": "markdown",
   "metadata": {},
   "source": [
    "### New variables"
   ]
  },
  {
   "cell_type": "code",
   "execution_count": 7,
   "metadata": {},
   "outputs": [],
   "source": [
    "# Calculate some of the variables in Table 1\n",
    "comp['at_lag1'] = comp.groupby('permno')['at'].shift(1)\n",
    "comp['AG'] = comp['at'] / comp['at_lag1'] - 1\n",
    "comp['L2AG'] = comp.groupby('permno')['AG'].shift(1)\n",
    "\n",
    "comp['Leverage'] = (comp['dltt'] + comp['dlc']) / comp['at_lag1'] \n",
    "comp['ROA'] = comp['ib'] / comp['at']"
   ]
  },
  {
   "cell_type": "code",
   "execution_count": 8,
   "metadata": {},
   "outputs": [
    {
     "data": {
      "text/html": [
       "<div>\n",
       "<style scoped>\n",
       "    .dataframe tbody tr th:only-of-type {\n",
       "        vertical-align: middle;\n",
       "    }\n",
       "\n",
       "    .dataframe tbody tr th {\n",
       "        vertical-align: top;\n",
       "    }\n",
       "\n",
       "    .dataframe thead th {\n",
       "        text-align: right;\n",
       "    }\n",
       "</style>\n",
       "<table border=\"1\" class=\"dataframe\">\n",
       "  <thead>\n",
       "    <tr style=\"text-align: right;\">\n",
       "      <th></th>\n",
       "      <th>permno</th>\n",
       "      <th>year</th>\n",
       "      <th>dtdate</th>\n",
       "      <th>AG</th>\n",
       "      <th>L2AG</th>\n",
       "      <th>at</th>\n",
       "      <th>Leverage</th>\n",
       "      <th>ROA</th>\n",
       "    </tr>\n",
       "  </thead>\n",
       "  <tbody>\n",
       "    <tr>\n",
       "      <th>2</th>\n",
       "      <td>10001</td>\n",
       "      <td>1987</td>\n",
       "      <td>1987-06-30</td>\n",
       "      <td>-0.038474</td>\n",
       "      <td>NaN</td>\n",
       "      <td>11.771</td>\n",
       "      <td>0.255432</td>\n",
       "      <td>0.026506</td>\n",
       "    </tr>\n",
       "    <tr>\n",
       "      <th>3</th>\n",
       "      <td>10001</td>\n",
       "      <td>1988</td>\n",
       "      <td>1988-06-30</td>\n",
       "      <td>-0.003058</td>\n",
       "      <td>-0.038474</td>\n",
       "      <td>11.735</td>\n",
       "      <td>0.244669</td>\n",
       "      <td>0.046187</td>\n",
       "    </tr>\n",
       "    <tr>\n",
       "      <th>4</th>\n",
       "      <td>10001</td>\n",
       "      <td>1989</td>\n",
       "      <td>1989-06-30</td>\n",
       "      <td>0.582020</td>\n",
       "      <td>-0.003058</td>\n",
       "      <td>18.565</td>\n",
       "      <td>0.643801</td>\n",
       "      <td>0.065069</td>\n",
       "    </tr>\n",
       "    <tr>\n",
       "      <th>5</th>\n",
       "      <td>10001</td>\n",
       "      <td>1990</td>\n",
       "      <td>1990-06-30</td>\n",
       "      <td>0.017021</td>\n",
       "      <td>0.582020</td>\n",
       "      <td>18.881</td>\n",
       "      <td>0.396984</td>\n",
       "      <td>0.059901</td>\n",
       "    </tr>\n",
       "    <tr>\n",
       "      <th>6</th>\n",
       "      <td>10001</td>\n",
       "      <td>1991</td>\n",
       "      <td>1991-06-30</td>\n",
       "      <td>0.038028</td>\n",
       "      <td>0.017021</td>\n",
       "      <td>19.599</td>\n",
       "      <td>0.380012</td>\n",
       "      <td>0.054748</td>\n",
       "    </tr>\n",
       "  </tbody>\n",
       "</table>\n",
       "</div>"
      ],
      "text/plain": [
       "   permno  year     dtdate        AG      L2AG      at  Leverage       ROA\n",
       "2   10001  1987 1987-06-30 -0.038474       NaN  11.771  0.255432  0.026506\n",
       "3   10001  1988 1988-06-30 -0.003058 -0.038474  11.735  0.244669  0.046187\n",
       "4   10001  1989 1989-06-30  0.582020 -0.003058  18.565  0.643801  0.065069\n",
       "5   10001  1990 1990-06-30  0.017021  0.582020  18.881  0.396984  0.059901\n",
       "6   10001  1991 1991-06-30  0.038028  0.017021  19.599  0.380012  0.054748"
      ]
     },
     "execution_count": 8,
     "metadata": {},
     "output_type": "execute_result"
    }
   ],
   "source": [
    "# Keep only the variables we need, and observations with non-missing AG\n",
    "comp = comp.loc[comp['AG'].notnull() ,:].copy()\n",
    "comp_cgs = comp[['permno','year','dtdate','AG','L2AG', 'at','Leverage', 'ROA']].copy()\n",
    "comp_cgs.head()"
   ]
  },
  {
   "cell_type": "code",
   "execution_count": 9,
   "metadata": {},
   "outputs": [
    {
     "data": {
      "text/plain": [
       "(212504, 8)"
      ]
     },
     "execution_count": 9,
     "metadata": {},
     "output_type": "execute_result"
    }
   ],
   "source": [
    "comp_cgs.shape"
   ]
  },
  {
   "cell_type": "code",
   "execution_count": 10,
   "metadata": {},
   "outputs": [],
   "source": [
    "# Save this for later use\n",
    "comp_cgs.to_pickle('../data/comp_cgs.zip')"
   ]
  },
  {
   "cell_type": "markdown",
   "metadata": {},
   "source": [
    "## Market data (CRSP)"
   ]
  },
  {
   "cell_type": "markdown",
   "metadata": {},
   "source": [
    "### Data Cleaning"
   ]
  },
  {
   "cell_type": "code",
   "execution_count": 11,
   "metadata": {},
   "outputs": [
    {
     "data": {
      "text/plain": [
       "(2553287, 10)"
      ]
     },
     "execution_count": 11,
     "metadata": {},
     "output_type": "execute_result"
    }
   ],
   "source": [
    "# Load CRSP data\n",
    "crsp = pd.read_pickle('../data/crspm.zip')\n",
    "crsp.shape"
   ]
  },
  {
   "cell_type": "code",
   "execution_count": 12,
   "metadata": {},
   "outputs": [
    {
     "data": {
      "text/plain": [
       "permno    float64\n",
       "permco    float64\n",
       "date       object\n",
       "prc       float64\n",
       "ret       float64\n",
       "shrout    float64\n",
       "shrcd     float64\n",
       "exchcd    float64\n",
       "siccd     float64\n",
       "ticker     object\n",
       "dtype: object"
      ]
     },
     "execution_count": 12,
     "metadata": {},
     "output_type": "execute_result"
    }
   ],
   "source": [
    "crsp.dtypes"
   ]
  },
  {
   "cell_type": "code",
   "execution_count": 13,
   "metadata": {},
   "outputs": [
    {
     "data": {
      "text/plain": [
       "(2530665, 6)"
      ]
     },
     "execution_count": 13,
     "metadata": {},
     "output_type": "execute_result"
    }
   ],
   "source": [
    "# Keep only what we need\n",
    "crsp = crsp[['permno','date','ret','prc','shrout','siccd']].copy().dropna()\n",
    "crsp.shape"
   ]
  },
  {
   "cell_type": "code",
   "execution_count": 14,
   "metadata": {},
   "outputs": [
    {
     "data": {
      "text/plain": [
       "(2048105, 6)"
      ]
     },
     "execution_count": 14,
     "metadata": {},
     "output_type": "execute_result"
    }
   ],
   "source": [
    "# Get rid of financials (first digit of siccd = 6)\n",
    "crsp = crsp.loc[crsp['siccd'].astype('string').str[0] != '6', :].copy()\n",
    "crsp.shape"
   ]
  },
  {
   "cell_type": "code",
   "execution_count": 15,
   "metadata": {},
   "outputs": [
    {
     "data": {
      "text/plain": [
       "(2048105, 8)"
      ]
     },
     "execution_count": 15,
     "metadata": {},
     "output_type": "execute_result"
    }
   ],
   "source": [
    "# Clean up firmid and dates\n",
    "crsp['dtdate'] = pd.to_datetime(crsp['date'])\n",
    "crsp['mdate'] = crsp['dtdate'].dt.to_period('M')\n",
    "crsp['permno'] = crsp['permno'].astype('int64')\n",
    "\n",
    "# Drop duplicates and sort\n",
    "crsp = crsp.sort_values(['permno','mdate'])\n",
    "crsp = crsp.drop_duplicates(['permno','mdate'], keep='last',ignore_index=True)\n",
    "crsp.shape"
   ]
  },
  {
   "cell_type": "code",
   "execution_count": 16,
   "metadata": {},
   "outputs": [],
   "source": [
    "# Calculate market capitalization (in millions)\n",
    "crsp['MV'] = crsp['prc'].abs() * crsp['shrout'] / 1000"
   ]
  },
  {
   "cell_type": "code",
   "execution_count": 17,
   "metadata": {},
   "outputs": [],
   "source": [
    "# Calculate lagged market cap\n",
    "crsp.sort_values(['permno','mdate'], inplace=True)\n",
    "crsp['mktcap_lag1'] = crsp.groupby('permno')['MV'].shift(1)    "
   ]
  },
  {
   "cell_type": "code",
   "execution_count": 18,
   "metadata": {},
   "outputs": [
    {
     "data": {
      "text/html": [
       "<div>\n",
       "<style scoped>\n",
       "    .dataframe tbody tr th:only-of-type {\n",
       "        vertical-align: middle;\n",
       "    }\n",
       "\n",
       "    .dataframe tbody tr th {\n",
       "        vertical-align: top;\n",
       "    }\n",
       "\n",
       "    .dataframe thead th {\n",
       "        text-align: right;\n",
       "    }\n",
       "</style>\n",
       "<table border=\"1\" class=\"dataframe\">\n",
       "  <thead>\n",
       "    <tr style=\"text-align: right;\">\n",
       "      <th></th>\n",
       "      <th>permno</th>\n",
       "      <th>mdate</th>\n",
       "      <th>dtdate</th>\n",
       "      <th>ret</th>\n",
       "      <th>MV</th>\n",
       "      <th>mktcap_lag1</th>\n",
       "    </tr>\n",
       "  </thead>\n",
       "  <tbody>\n",
       "    <tr>\n",
       "      <th>0</th>\n",
       "      <td>10000</td>\n",
       "      <td>1986-02</td>\n",
       "      <td>1986-02-28</td>\n",
       "      <td>-0.257143</td>\n",
       "      <td>11.96</td>\n",
       "      <td>NaN</td>\n",
       "    </tr>\n",
       "    <tr>\n",
       "      <th>1</th>\n",
       "      <td>10000</td>\n",
       "      <td>1986-03</td>\n",
       "      <td>1986-03-31</td>\n",
       "      <td>0.365385</td>\n",
       "      <td>16.33</td>\n",
       "      <td>11.96</td>\n",
       "    </tr>\n",
       "  </tbody>\n",
       "</table>\n",
       "</div>"
      ],
      "text/plain": [
       "   permno    mdate     dtdate       ret     MV  mktcap_lag1\n",
       "0   10000  1986-02 1986-02-28 -0.257143  11.96          NaN\n",
       "1   10000  1986-03 1986-03-31  0.365385  16.33        11.96"
      ]
     },
     "execution_count": 18,
     "metadata": {},
     "output_type": "execute_result"
    }
   ],
   "source": [
    "# Keep only the variables we need\n",
    "crsp_cgs = crsp[['permno','mdate','dtdate','ret','MV','mktcap_lag1']].copy()\n",
    "crsp_cgs.head(2)"
   ]
  },
  {
   "cell_type": "code",
   "execution_count": 19,
   "metadata": {},
   "outputs": [],
   "source": [
    "# Save for later use\n",
    "crsp_cgs.to_pickle('../data/crsp_cgs.zip')"
   ]
  },
  {
   "cell_type": "markdown",
   "metadata": {},
   "source": [
    "### Calculate CRSP variables for Table 1"
   ]
  },
  {
   "cell_type": "code",
   "execution_count": 20,
   "metadata": {},
   "outputs": [
    {
     "data": {
      "text/plain": [
       "count    1.957695e+06\n",
       "mean     6.840459e-02\n",
       "std      5.437771e-01\n",
       "min     -9.999818e-01\n",
       "25%     -1.941748e-01\n",
       "50%      1.254532e-02\n",
       "75%      2.265447e-01\n",
       "max      6.691429e+01\n",
       "Name: BHRET6, dtype: float64"
      ]
     },
     "execution_count": 20,
     "metadata": {},
     "output_type": "execute_result"
    }
   ],
   "source": [
    "# Calculate cummulative returns over the past 6 months (BHRET6)\n",
    "crsp['BHRET6'] = 1 \n",
    "for i in range(0,6):\n",
    "    crsp['BHRET6'] = crsp['BHRET6'] * (1 + crsp.groupby('permno')['ret'].shift(i))  \n",
    "    \n",
    "crsp['BHRET6'] = crsp['BHRET6'] - 1         \n",
    "crsp['BHRET6'].describe()"
   ]
  },
  {
   "cell_type": "markdown",
   "metadata": {},
   "source": [
    "**Challenge**:\n",
    "\n",
    "Write a function called ``compound`` that calculates cumulative returns over a sequence of months and adds them as another column in the ``crsp`` dataframe (i.e. exactly what we did above, with ``BHRET6`` but for arbitrary number of lags, not just 6)."
   ]
  },
  {
   "cell_type": "code",
   "execution_count": 21,
   "metadata": {},
   "outputs": [],
   "source": [
    "def compound(dset=None, outvar=None, \n",
    "             firmid='permno', datevar='mdate', retvar='ret',\n",
    "             startlag=None, endlag=None):\n",
    "    \n",
    "    dset.sort_values([firmid,datevar], inplace=True) #side effect\n",
    "    \n",
    "    dset[outvar] = 1\n",
    "    for i in range(startlag,endlag+1):    \n",
    "        dset[outvar] = dset[outvar] * (1 + dset.groupby(firmid)[retvar].shift(i))\n",
    "        \n",
    "    dset[outvar] = dset[outvar] - 1\n",
    "    return"
   ]
  },
  {
   "cell_type": "code",
   "execution_count": 22,
   "metadata": {},
   "outputs": [
    {
     "data": {
      "text/html": [
       "<div>\n",
       "<style scoped>\n",
       "    .dataframe tbody tr th:only-of-type {\n",
       "        vertical-align: middle;\n",
       "    }\n",
       "\n",
       "    .dataframe tbody tr th {\n",
       "        vertical-align: top;\n",
       "    }\n",
       "\n",
       "    .dataframe thead th {\n",
       "        text-align: right;\n",
       "    }\n",
       "</style>\n",
       "<table border=\"1\" class=\"dataframe\">\n",
       "  <thead>\n",
       "    <tr style=\"text-align: right;\">\n",
       "      <th></th>\n",
       "      <th>permno</th>\n",
       "      <th>date</th>\n",
       "      <th>ret</th>\n",
       "      <th>prc</th>\n",
       "      <th>shrout</th>\n",
       "      <th>siccd</th>\n",
       "      <th>dtdate</th>\n",
       "      <th>mdate</th>\n",
       "      <th>MV</th>\n",
       "      <th>mktcap_lag1</th>\n",
       "      <th>BHRET6</th>\n",
       "      <th>mybhret6</th>\n",
       "    </tr>\n",
       "  </thead>\n",
       "  <tbody>\n",
       "    <tr>\n",
       "      <th>0</th>\n",
       "      <td>10000</td>\n",
       "      <td>1986-02-28</td>\n",
       "      <td>-0.257143</td>\n",
       "      <td>-3.2500</td>\n",
       "      <td>3680.0</td>\n",
       "      <td>3990.0</td>\n",
       "      <td>1986-02-28</td>\n",
       "      <td>1986-02</td>\n",
       "      <td>11.96</td>\n",
       "      <td>NaN</td>\n",
       "      <td>NaN</td>\n",
       "      <td>NaN</td>\n",
       "    </tr>\n",
       "    <tr>\n",
       "      <th>1</th>\n",
       "      <td>10000</td>\n",
       "      <td>1986-03-31</td>\n",
       "      <td>0.365385</td>\n",
       "      <td>-4.4375</td>\n",
       "      <td>3680.0</td>\n",
       "      <td>3990.0</td>\n",
       "      <td>1986-03-31</td>\n",
       "      <td>1986-03</td>\n",
       "      <td>16.33</td>\n",
       "      <td>11.96</td>\n",
       "      <td>NaN</td>\n",
       "      <td>NaN</td>\n",
       "    </tr>\n",
       "  </tbody>\n",
       "</table>\n",
       "</div>"
      ],
      "text/plain": [
       "   permno        date       ret     prc  shrout   siccd     dtdate    mdate  \\\n",
       "0   10000  1986-02-28 -0.257143 -3.2500  3680.0  3990.0 1986-02-28  1986-02   \n",
       "1   10000  1986-03-31  0.365385 -4.4375  3680.0  3990.0 1986-03-31  1986-03   \n",
       "\n",
       "      MV  mktcap_lag1  BHRET6  mybhret6  \n",
       "0  11.96          NaN     NaN       NaN  \n",
       "1  16.33        11.96     NaN       NaN  "
      ]
     },
     "execution_count": 22,
     "metadata": {},
     "output_type": "execute_result"
    }
   ],
   "source": [
    "compound(crsp,'mybhret6',startlag=0, endlag=5)\n",
    "crsp.head(2)"
   ]
  },
  {
   "cell_type": "code",
   "execution_count": 23,
   "metadata": {},
   "outputs": [
    {
     "data": {
      "text/html": [
       "<div>\n",
       "<style scoped>\n",
       "    .dataframe tbody tr th:only-of-type {\n",
       "        vertical-align: middle;\n",
       "    }\n",
       "\n",
       "    .dataframe tbody tr th {\n",
       "        vertical-align: top;\n",
       "    }\n",
       "\n",
       "    .dataframe thead th {\n",
       "        text-align: right;\n",
       "    }\n",
       "</style>\n",
       "<table border=\"1\" class=\"dataframe\">\n",
       "  <thead>\n",
       "    <tr style=\"text-align: right;\">\n",
       "      <th></th>\n",
       "      <th>permno</th>\n",
       "      <th>date</th>\n",
       "      <th>ret</th>\n",
       "      <th>prc</th>\n",
       "      <th>shrout</th>\n",
       "      <th>siccd</th>\n",
       "      <th>dtdate</th>\n",
       "      <th>mdate</th>\n",
       "      <th>MV</th>\n",
       "      <th>mktcap_lag1</th>\n",
       "      <th>BHRET6</th>\n",
       "      <th>mybhret6</th>\n",
       "      <th>BHRET36</th>\n",
       "    </tr>\n",
       "  </thead>\n",
       "  <tbody>\n",
       "    <tr>\n",
       "      <th>0</th>\n",
       "      <td>10000</td>\n",
       "      <td>1986-02-28</td>\n",
       "      <td>-0.257143</td>\n",
       "      <td>-3.2500</td>\n",
       "      <td>3680.0</td>\n",
       "      <td>3990.0</td>\n",
       "      <td>1986-02-28</td>\n",
       "      <td>1986-02</td>\n",
       "      <td>11.96</td>\n",
       "      <td>NaN</td>\n",
       "      <td>NaN</td>\n",
       "      <td>NaN</td>\n",
       "      <td>NaN</td>\n",
       "    </tr>\n",
       "    <tr>\n",
       "      <th>1</th>\n",
       "      <td>10000</td>\n",
       "      <td>1986-03-31</td>\n",
       "      <td>0.365385</td>\n",
       "      <td>-4.4375</td>\n",
       "      <td>3680.0</td>\n",
       "      <td>3990.0</td>\n",
       "      <td>1986-03-31</td>\n",
       "      <td>1986-03</td>\n",
       "      <td>16.33</td>\n",
       "      <td>11.96</td>\n",
       "      <td>NaN</td>\n",
       "      <td>NaN</td>\n",
       "      <td>NaN</td>\n",
       "    </tr>\n",
       "  </tbody>\n",
       "</table>\n",
       "</div>"
      ],
      "text/plain": [
       "   permno        date       ret     prc  shrout   siccd     dtdate    mdate  \\\n",
       "0   10000  1986-02-28 -0.257143 -3.2500  3680.0  3990.0 1986-02-28  1986-02   \n",
       "1   10000  1986-03-31  0.365385 -4.4375  3680.0  3990.0 1986-03-31  1986-03   \n",
       "\n",
       "      MV  mktcap_lag1  BHRET6  mybhret6  BHRET36  \n",
       "0  11.96          NaN     NaN       NaN      NaN  \n",
       "1  16.33        11.96     NaN       NaN      NaN  "
      ]
     },
     "execution_count": 23,
     "metadata": {},
     "output_type": "execute_result"
    }
   ],
   "source": [
    "compound(crsp,'BHRET36',startlag=0, endlag=35)\n",
    "crsp.head(2)"
   ]
  },
  {
   "cell_type": "markdown",
   "metadata": {},
   "source": [
    "**Challenge**:\n",
    "\n",
    "Create a new variable called ``FBHRET12`` which equals the (net) cumulative returns in the 12 months FOLLOWING the current month (t+1 to t+12 inclusive)."
   ]
  },
  {
   "cell_type": "code",
   "execution_count": 24,
   "metadata": {},
   "outputs": [
    {
     "data": {
      "text/html": [
       "<div>\n",
       "<style scoped>\n",
       "    .dataframe tbody tr th:only-of-type {\n",
       "        vertical-align: middle;\n",
       "    }\n",
       "\n",
       "    .dataframe tbody tr th {\n",
       "        vertical-align: top;\n",
       "    }\n",
       "\n",
       "    .dataframe thead th {\n",
       "        text-align: right;\n",
       "    }\n",
       "</style>\n",
       "<table border=\"1\" class=\"dataframe\">\n",
       "  <thead>\n",
       "    <tr style=\"text-align: right;\">\n",
       "      <th></th>\n",
       "      <th>permno</th>\n",
       "      <th>date</th>\n",
       "      <th>ret</th>\n",
       "      <th>prc</th>\n",
       "      <th>shrout</th>\n",
       "      <th>siccd</th>\n",
       "      <th>dtdate</th>\n",
       "      <th>mdate</th>\n",
       "      <th>MV</th>\n",
       "      <th>mktcap_lag1</th>\n",
       "      <th>BHRET6</th>\n",
       "      <th>mybhret6</th>\n",
       "      <th>BHRET36</th>\n",
       "      <th>FBHRET12</th>\n",
       "    </tr>\n",
       "  </thead>\n",
       "  <tbody>\n",
       "    <tr>\n",
       "      <th>0</th>\n",
       "      <td>10000</td>\n",
       "      <td>1986-02-28</td>\n",
       "      <td>-0.257143</td>\n",
       "      <td>-3.2500</td>\n",
       "      <td>3680.0</td>\n",
       "      <td>3990.0</td>\n",
       "      <td>1986-02-28</td>\n",
       "      <td>1986-02</td>\n",
       "      <td>11.96</td>\n",
       "      <td>NaN</td>\n",
       "      <td>NaN</td>\n",
       "      <td>NaN</td>\n",
       "      <td>NaN</td>\n",
       "      <td>-0.875000</td>\n",
       "    </tr>\n",
       "    <tr>\n",
       "      <th>1</th>\n",
       "      <td>10000</td>\n",
       "      <td>1986-03-31</td>\n",
       "      <td>0.365385</td>\n",
       "      <td>-4.4375</td>\n",
       "      <td>3680.0</td>\n",
       "      <td>3990.0</td>\n",
       "      <td>1986-03-31</td>\n",
       "      <td>1986-03</td>\n",
       "      <td>16.33</td>\n",
       "      <td>11.96</td>\n",
       "      <td>NaN</td>\n",
       "      <td>NaN</td>\n",
       "      <td>NaN</td>\n",
       "      <td>-0.943662</td>\n",
       "    </tr>\n",
       "  </tbody>\n",
       "</table>\n",
       "</div>"
      ],
      "text/plain": [
       "   permno        date       ret     prc  shrout   siccd     dtdate    mdate  \\\n",
       "0   10000  1986-02-28 -0.257143 -3.2500  3680.0  3990.0 1986-02-28  1986-02   \n",
       "1   10000  1986-03-31  0.365385 -4.4375  3680.0  3990.0 1986-03-31  1986-03   \n",
       "\n",
       "      MV  mktcap_lag1  BHRET6  mybhret6  BHRET36  FBHRET12  \n",
       "0  11.96          NaN     NaN       NaN      NaN -0.875000  \n",
       "1  16.33        11.96     NaN       NaN      NaN -0.943662  "
      ]
     },
     "execution_count": 24,
     "metadata": {},
     "output_type": "execute_result"
    }
   ],
   "source": [
    "compound(crsp,'FBHRET12',startlag = -12, endlag = -1)\n",
    "crsp.head(2)"
   ]
  },
  {
   "cell_type": "code",
   "execution_count": 25,
   "metadata": {},
   "outputs": [
    {
     "data": {
      "text/html": [
       "<div>\n",
       "<style scoped>\n",
       "    .dataframe tbody tr th:only-of-type {\n",
       "        vertical-align: middle;\n",
       "    }\n",
       "\n",
       "    .dataframe tbody tr th {\n",
       "        vertical-align: top;\n",
       "    }\n",
       "\n",
       "    .dataframe thead th {\n",
       "        text-align: right;\n",
       "    }\n",
       "</style>\n",
       "<table border=\"1\" class=\"dataframe\">\n",
       "  <thead>\n",
       "    <tr style=\"text-align: right;\">\n",
       "      <th></th>\n",
       "      <th>permno</th>\n",
       "      <th>mdate</th>\n",
       "      <th>MV</th>\n",
       "      <th>BHRET6</th>\n",
       "      <th>BHRET36</th>\n",
       "      <th>FBHRET12</th>\n",
       "    </tr>\n",
       "  </thead>\n",
       "  <tbody>\n",
       "    <tr>\n",
       "      <th>0</th>\n",
       "      <td>10000</td>\n",
       "      <td>1986-02</td>\n",
       "      <td>11.960000</td>\n",
       "      <td>NaN</td>\n",
       "      <td>NaN</td>\n",
       "      <td>-0.875000</td>\n",
       "    </tr>\n",
       "    <tr>\n",
       "      <th>1</th>\n",
       "      <td>10000</td>\n",
       "      <td>1986-03</td>\n",
       "      <td>16.330000</td>\n",
       "      <td>NaN</td>\n",
       "      <td>NaN</td>\n",
       "      <td>-0.943662</td>\n",
       "    </tr>\n",
       "    <tr>\n",
       "      <th>2</th>\n",
       "      <td>10000</td>\n",
       "      <td>1986-04</td>\n",
       "      <td>15.172000</td>\n",
       "      <td>NaN</td>\n",
       "      <td>NaN</td>\n",
       "      <td>-0.941406</td>\n",
       "    </tr>\n",
       "    <tr>\n",
       "      <th>3</th>\n",
       "      <td>10000</td>\n",
       "      <td>1986-05</td>\n",
       "      <td>11.793859</td>\n",
       "      <td>NaN</td>\n",
       "      <td>NaN</td>\n",
       "      <td>-0.929648</td>\n",
       "    </tr>\n",
       "    <tr>\n",
       "      <th>4</th>\n",
       "      <td>10000</td>\n",
       "      <td>1986-06</td>\n",
       "      <td>11.734594</td>\n",
       "      <td>NaN</td>\n",
       "      <td>NaN</td>\n",
       "      <td>NaN</td>\n",
       "    </tr>\n",
       "    <tr>\n",
       "      <th>5</th>\n",
       "      <td>10000</td>\n",
       "      <td>1986-07</td>\n",
       "      <td>10.786344</td>\n",
       "      <td>-0.350000</td>\n",
       "      <td>NaN</td>\n",
       "      <td>NaN</td>\n",
       "    </tr>\n",
       "    <tr>\n",
       "      <th>6</th>\n",
       "      <td>10000</td>\n",
       "      <td>1986-08</td>\n",
       "      <td>4.148594</td>\n",
       "      <td>-0.663462</td>\n",
       "      <td>NaN</td>\n",
       "      <td>NaN</td>\n",
       "    </tr>\n",
       "  </tbody>\n",
       "</table>\n",
       "</div>"
      ],
      "text/plain": [
       "   permno    mdate         MV    BHRET6  BHRET36  FBHRET12\n",
       "0   10000  1986-02  11.960000       NaN      NaN -0.875000\n",
       "1   10000  1986-03  16.330000       NaN      NaN -0.943662\n",
       "2   10000  1986-04  15.172000       NaN      NaN -0.941406\n",
       "3   10000  1986-05  11.793859       NaN      NaN -0.929648\n",
       "4   10000  1986-06  11.734594       NaN      NaN       NaN\n",
       "5   10000  1986-07  10.786344 -0.350000      NaN       NaN\n",
       "6   10000  1986-08   4.148594 -0.663462      NaN       NaN"
      ]
     },
     "execution_count": 25,
     "metadata": {},
     "output_type": "execute_result"
    }
   ],
   "source": [
    "# Keep only the variables we need we need for Table 1\n",
    "crsp_table1 = crsp[['permno','mdate','MV','BHRET6','BHRET36','FBHRET12']].copy()\n",
    "crsp_table1.head(7)"
   ]
  },
  {
   "cell_type": "code",
   "execution_count": 26,
   "metadata": {},
   "outputs": [],
   "source": [
    "# Save for later use\n",
    "crsp_table1.to_pickle('../data/crsp_cgs_table1.zip')"
   ]
  }
 ],
 "metadata": {
  "interpreter": {
   "hash": "5c65ce2fea2f0c67157032582cff07b1c9d083b283061c8d8524588d6f489174"
  },
  "kernelspec": {
   "display_name": "Python 3.9.7 ('base')",
   "language": "python",
   "name": "python3"
  },
  "language_info": {
   "codemirror_mode": {
    "name": "ipython",
    "version": 3
   },
   "file_extension": ".py",
   "mimetype": "text/x-python",
   "name": "python",
   "nbconvert_exporter": "python",
   "pygments_lexer": "ipython3",
   "version": "3.9.7"
  },
  "toc": {
   "base_numbering": 1,
   "nav_menu": {},
   "number_sections": true,
   "sideBar": true,
   "skip_h1_title": false,
   "title_cell": "Table of Contents",
   "title_sidebar": "Contents",
   "toc_cell": true,
   "toc_position": {
    "height": "calc(100% - 180px)",
    "left": "10px",
    "top": "150px",
    "width": "307.2px"
   },
   "toc_section_display": true,
   "toc_window_display": false
  }
 },
 "nbformat": 4,
 "nbformat_minor": 4
}
