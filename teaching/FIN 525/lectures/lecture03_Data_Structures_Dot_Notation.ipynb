{
 "cells": [
  {
   "cell_type": "raw",
   "id": "43760f2b",
   "metadata": {},
   "source": [
    "---\n",
    "title: \"L03: Data structures\"\n",
    "---"
   ]
  },
  {
   "cell_type": "markdown",
   "id": "9dc00c19",
   "metadata": {},
   "source": [
    "# Lecture overview\n",
    "\n",
    "We begin this lecture with a discussion of data structures. These are just collections of several pieces of data. Python provides a few different types of data structures, each with different properties (and hence, different use cases). We will talk about only the most commonly used ones in this course: lists, tuples, and dictionaries. Strings are also data structures (they are sequences of single characters) but we already covered them in the previous class. \n",
    "\n",
    "In Python, different data structures (or basic data types like int or float) come with different \"attributes\" (pieces of code that compute something using the data in that data structure). These attributes and methods can be accessed using the \"dot\" notation (object, followed by a . followed by the attribute name or method name). We will cover these concepts in the second part of the lecture."
   ]
  },
  {
   "cell_type": "markdown",
   "id": "451f3d47",
   "metadata": {},
   "source": [
    "# Lists\n",
    "\n",
    "Lists are sequences of several pieces of data that are mutable (can be changed) and ordered.\n",
    "\n",
    "Lists are created using square brackets, separating its elements (members) with commas:"
   ]
  },
  {
   "cell_type": "code",
   "execution_count": 1,
   "id": "051098a8",
   "metadata": {},
   "outputs": [
    {
     "name": "stdout",
     "output_type": "stream",
     "text": [
      "[1, 2]\n"
     ]
    }
   ],
   "source": [
    "list1 = [1, 2]\n",
    "print(list1)"
   ]
  },
  {
   "cell_type": "code",
   "execution_count": 2,
   "id": "4a1143e4",
   "metadata": {},
   "outputs": [
    {
     "name": "stdout",
     "output_type": "stream",
     "text": [
      "<class 'list'>\n"
     ]
    }
   ],
   "source": [
    "print(type(list1))"
   ]
  },
  {
   "cell_type": "markdown",
   "id": "91476b81",
   "metadata": {},
   "source": [
    "Lists can contain elements of different types:"
   ]
  },
  {
   "cell_type": "code",
   "execution_count": 3,
   "id": "33e129a6",
   "metadata": {},
   "outputs": [
    {
     "name": "stdout",
     "output_type": "stream",
     "text": [
      "[10, 10.5, 'abc', False, [1, 2]]\n"
     ]
    }
   ],
   "source": [
    "list2 = [10, 10.5, 'abc', False, list1] #an int, a float, a str, a bool, and a list\n",
    "print(list2)"
   ]
  },
  {
   "cell_type": "markdown",
   "id": "bae5a527",
   "metadata": {},
   "source": [
    "Elements (members) of a list can be accessed using the same slicing techniques we used for strings:"
   ]
  },
  {
   "cell_type": "code",
   "execution_count": 4,
   "id": "ff108e02",
   "metadata": {},
   "outputs": [
    {
     "name": "stdout",
     "output_type": "stream",
     "text": [
      "abc\n"
     ]
    }
   ],
   "source": [
    "print(list2[2]) "
   ]
  },
  {
   "cell_type": "code",
   "execution_count": 5,
   "id": "9f6eaedc",
   "metadata": {},
   "outputs": [
    {
     "name": "stdout",
     "output_type": "stream",
     "text": [
      "False\n"
     ]
    }
   ],
   "source": [
    "print(list2[-2]) #second from the end"
   ]
  },
  {
   "cell_type": "code",
   "execution_count": 6,
   "id": "31b0633b",
   "metadata": {},
   "outputs": [
    {
     "name": "stdout",
     "output_type": "stream",
     "text": [
      "[10.5, 'abc']\n"
     ]
    }
   ],
   "source": [
    "print(list2[1:3])"
   ]
  },
  {
   "cell_type": "markdown",
   "id": "6e9977df",
   "metadata": {},
   "source": [
    "Because Pyhton starts counting from 0, the above notation usually causes some confusion: \"How come 1:3 gives me the second and third elements? One way to remember this is to think of 1 and 3 as endpoints \"between\" the elements of the list: 1 is an endpoint between the first and second elements, and 3 is between the third and fourth elements. 1:3 asks python for all the elements of the list between those end points (which means the second and third elements). "
   ]
  },
  {
   "cell_type": "markdown",
   "id": "b0aaf160",
   "metadata": {},
   "source": [
    "Note that you can omit one of the endpoints in a slice:"
   ]
  },
  {
   "cell_type": "code",
   "execution_count": 7,
   "id": "e8717053",
   "metadata": {},
   "outputs": [
    {
     "name": "stdout",
     "output_type": "stream",
     "text": [
      "[10, 20]\n"
     ]
    }
   ],
   "source": [
    "print([10,20,30][:2]) #this is short for print([10,20,30][0:2])"
   ]
  },
  {
   "cell_type": "code",
   "execution_count": 8,
   "id": "be94511e",
   "metadata": {},
   "outputs": [
    {
     "name": "stdout",
     "output_type": "stream",
     "text": [
      "[30]\n"
     ]
    }
   ],
   "source": [
    "print([10,20,30][2:]) #this is short for print([10,20,30][2:None])"
   ]
  },
  {
   "cell_type": "markdown",
   "id": "dc931b3d",
   "metadata": {},
   "source": [
    "And remember that negative positions mean \"starting from the end\":"
   ]
  },
  {
   "cell_type": "code",
   "execution_count": 9,
   "id": "14f4b468",
   "metadata": {},
   "outputs": [
    {
     "name": "stdout",
     "output_type": "stream",
     "text": [
      "['b']\n"
     ]
    }
   ],
   "source": [
    "print(['a','b','c'][1:-1])"
   ]
  },
  {
   "cell_type": "code",
   "execution_count": 10,
   "id": "f747a392",
   "metadata": {},
   "outputs": [
    {
     "name": "stdout",
     "output_type": "stream",
     "text": [
      "['a', 'b']\n"
     ]
    }
   ],
   "source": [
    "print(['a','b','c'][-3:-1]) #note, when starting from the back, -1 represents the first element (not -0)"
   ]
  },
  {
   "cell_type": "markdown",
   "id": "66daec17",
   "metadata": {},
   "source": [
    "Remember, lists are ordered. This means that two lists with the same elements but in different order, are not the same:"
   ]
  },
  {
   "cell_type": "code",
   "execution_count": 11,
   "id": "8e32185a",
   "metadata": {},
   "outputs": [
    {
     "name": "stdout",
     "output_type": "stream",
     "text": [
      "False\n"
     ]
    }
   ],
   "source": [
    "a = [1,2]\n",
    "b = [2,1]\n",
    "print(a==b)"
   ]
  },
  {
   "cell_type": "markdown",
   "id": "8996d66b",
   "metadata": {},
   "source": [
    "List are mutable. That means you can change the value of their elements:"
   ]
  },
  {
   "cell_type": "code",
   "execution_count": 12,
   "id": "06081f2d",
   "metadata": {},
   "outputs": [
    {
     "name": "stdout",
     "output_type": "stream",
     "text": [
      "[1, 'a']\n"
     ]
    }
   ],
   "source": [
    "a = [1,2]\n",
    "a[1] = 'a'\n",
    "print(a)"
   ]
  },
  {
   "cell_type": "markdown",
   "id": "1bd3e88b",
   "metadata": {},
   "source": [
    "Common operators for lists (+, *, in) work as they do for strings:"
   ]
  },
  {
   "cell_type": "code",
   "execution_count": 13,
   "id": "1e1f471f",
   "metadata": {},
   "outputs": [
    {
     "name": "stdout",
     "output_type": "stream",
     "text": [
      "[1, 2, 'a', 'b']\n"
     ]
    }
   ],
   "source": [
    "print([1,2] + ['a','b'])"
   ]
  },
  {
   "cell_type": "code",
   "execution_count": 14,
   "id": "3d92a1c2",
   "metadata": {},
   "outputs": [
    {
     "name": "stdout",
     "output_type": "stream",
     "text": [
      "[1, 2, 1, 2, 1, 2]\n"
     ]
    }
   ],
   "source": [
    "print([1,2] * 3)"
   ]
  },
  {
   "cell_type": "code",
   "execution_count": 15,
   "id": "c1414465",
   "metadata": {},
   "outputs": [
    {
     "name": "stdout",
     "output_type": "stream",
     "text": [
      "True\n"
     ]
    }
   ],
   "source": [
    "print(2 in [1,2])"
   ]
  },
  {
   "cell_type": "code",
   "execution_count": 16,
   "id": "a1cb96fa",
   "metadata": {},
   "outputs": [
    {
     "name": "stdout",
     "output_type": "stream",
     "text": [
      "False\n"
     ]
    }
   ],
   "source": [
    "print([2] in [1,2])"
   ]
  },
  {
   "cell_type": "code",
   "execution_count": 17,
   "id": "e4ed1c9e",
   "metadata": {},
   "outputs": [
    {
     "name": "stdout",
     "output_type": "stream",
     "text": [
      "True\n"
     ]
    }
   ],
   "source": [
    "print([2] in [1, [2]])"
   ]
  },
  {
   "cell_type": "markdown",
   "id": "e1e97424",
   "metadata": {},
   "source": [
    "# Tuples\n",
    "\n",
    "Tuples are also sequences of several pieces of data. Tuples are also ordered, but they are NOT mutable (i.e. they are immutable: their elements can not be changed). \n",
    "\n",
    "We create tuples using parentheses, with elements separated by commas:"
   ]
  },
  {
   "cell_type": "code",
   "execution_count": 18,
   "id": "0f6b7c61",
   "metadata": {},
   "outputs": [
    {
     "name": "stdout",
     "output_type": "stream",
     "text": [
      "(1, 'a', True, [5, 6], (7, 8))\n"
     ]
    }
   ],
   "source": [
    "t = (1, 'a', True, [5,6], (7,8))\n",
    "print(t)"
   ]
  },
  {
   "cell_type": "markdown",
   "id": "7b7e16a1",
   "metadata": {},
   "source": [
    "Everything we learned for lists can be performed for tuples, except for changing the value of any of its elements:"
   ]
  },
  {
   "cell_type": "code",
   "execution_count": 19,
   "id": "1f0c272c",
   "metadata": {},
   "outputs": [
    {
     "name": "stdout",
     "output_type": "stream",
     "text": [
      "(True, [5, 6])\n"
     ]
    }
   ],
   "source": [
    "print(t[2:4])"
   ]
  },
  {
   "cell_type": "code",
   "execution_count": 20,
   "id": "67e4e2d6",
   "metadata": {},
   "outputs": [
    {
     "name": "stdout",
     "output_type": "stream",
     "text": [
      "(1, 'a', True, [5, 6], (7, 8), 'c', 'd')\n"
     ]
    }
   ],
   "source": [
    "print(t + ('c','d')) #note: this does NOT change t"
   ]
  },
  {
   "cell_type": "code",
   "execution_count": 21,
   "id": "394d9bae",
   "metadata": {},
   "outputs": [
    {
     "name": "stdout",
     "output_type": "stream",
     "text": [
      "(1, 'a', True, [5, 6], (7, 8), 1, 'a', True, [5, 6], (7, 8))\n"
     ]
    }
   ],
   "source": [
    "print(t * 2)"
   ]
  },
  {
   "cell_type": "code",
   "execution_count": 22,
   "id": "d2e34a82",
   "metadata": {},
   "outputs": [
    {
     "name": "stdout",
     "output_type": "stream",
     "text": [
      "False\n"
     ]
    }
   ],
   "source": [
    "print('c' in t)"
   ]
  },
  {
   "cell_type": "code",
   "execution_count": 23,
   "id": "04df9121",
   "metadata": {},
   "outputs": [
    {
     "ename": "TypeError",
     "evalue": "'tuple' object does not support item assignment",
     "output_type": "error",
     "traceback": [
      "\u001b[1;31m---------------------------------------------------------------------------\u001b[0m",
      "\u001b[1;31mTypeError\u001b[0m                                 Traceback (most recent call last)",
      "\u001b[1;32m~\\AppData\\Local\\Temp/ipykernel_16492/1904815476.py\u001b[0m in \u001b[0;36m<module>\u001b[1;34m\u001b[0m\n\u001b[0;32m      1\u001b[0m \u001b[1;31m#This will not work\u001b[0m\u001b[1;33m\u001b[0m\u001b[1;33m\u001b[0m\u001b[1;33m\u001b[0m\u001b[0m\n\u001b[1;32m----> 2\u001b[1;33m \u001b[0mt\u001b[0m\u001b[1;33m[\u001b[0m\u001b[1;36m0\u001b[0m\u001b[1;33m]\u001b[0m \u001b[1;33m=\u001b[0m \u001b[1;36m5\u001b[0m\u001b[1;33m\u001b[0m\u001b[1;33m\u001b[0m\u001b[0m\n\u001b[0m",
      "\u001b[1;31mTypeError\u001b[0m: 'tuple' object does not support item assignment"
     ]
    }
   ],
   "source": [
    "#This will not work\n",
    "t[0] = 5"
   ]
  },
  {
   "cell_type": "code",
   "execution_count": 24,
   "id": "9635942c",
   "metadata": {},
   "outputs": [
    {
     "name": "stdout",
     "output_type": "stream",
     "text": [
      "(1, 'a', True, [5, 6], (7, 8), 'c', 'd')\n"
     ]
    }
   ],
   "source": [
    "# But this does not give us an error\n",
    "t = t + ('c','d') #you are not trying to change any of the existing elements of t\n",
    "print(t)"
   ]
  },
  {
   "cell_type": "markdown",
   "id": "d67da032",
   "metadata": {},
   "source": [
    "# Dictionaries (dict)\n",
    "\n",
    "Python dictionaries are data structures that allow us to collect key-value pairs. This is similar to how a real dictionary is structured: words are \"keys\" and their definitions are \"values\"\n",
    "\n",
    "We construct dictionaries using curly brackets, with key-value pairs separated by commas, and each key separated by its value with a colon (:)"
   ]
  },
  {
   "cell_type": "code",
   "execution_count": 25,
   "id": "d5a2a218",
   "metadata": {},
   "outputs": [
    {
     "name": "stdout",
     "output_type": "stream",
     "text": [
      "{'k1': 1, 'k2': 'abc', 5: [6, 7]}\n"
     ]
    }
   ],
   "source": [
    "d = {'k1': 1, 'k2': 'abc', 5: [6,7]}\n",
    "print(d)"
   ]
  },
  {
   "cell_type": "markdown",
   "id": "83009415",
   "metadata": {},
   "source": [
    "In the example above, the \"keys\" of the dictionary are 'k1', 'k2', and 5 (note that they do not have to be of the same type).\n",
    "The \"values\" of the dictionary are 1, 'abc', and [6,7] (values also do not have to have the same type."
   ]
  },
  {
   "cell_type": "markdown",
   "id": "1c8df621",
   "metadata": {},
   "source": [
    "The main difference between dictionaries and lists is in the way we access their elements. For lists, we use the position of that element in the list. For dictionaries, we use the key of the value we want to retrieve:"
   ]
  },
  {
   "cell_type": "code",
   "execution_count": 26,
   "id": "0af88c24",
   "metadata": {},
   "outputs": [
    {
     "name": "stdout",
     "output_type": "stream",
     "text": [
      "1\n"
     ]
    }
   ],
   "source": [
    "print(d['k1'])"
   ]
  },
  {
   "cell_type": "code",
   "execution_count": 27,
   "id": "0de10d4e",
   "metadata": {},
   "outputs": [
    {
     "ename": "KeyError",
     "evalue": "0",
     "output_type": "error",
     "traceback": [
      "\u001b[1;31m---------------------------------------------------------------------------\u001b[0m",
      "\u001b[1;31mKeyError\u001b[0m                                  Traceback (most recent call last)",
      "\u001b[1;32m~\\AppData\\Local\\Temp/ipykernel_16492/3222721695.py\u001b[0m in \u001b[0;36m<module>\u001b[1;34m\u001b[0m\n\u001b[0;32m      1\u001b[0m \u001b[1;31m#This will not work\u001b[0m\u001b[1;33m\u001b[0m\u001b[1;33m\u001b[0m\u001b[1;33m\u001b[0m\u001b[0m\n\u001b[1;32m----> 2\u001b[1;33m \u001b[0mprint\u001b[0m\u001b[1;33m(\u001b[0m\u001b[0md\u001b[0m\u001b[1;33m[\u001b[0m\u001b[1;36m0\u001b[0m\u001b[1;33m]\u001b[0m\u001b[1;33m)\u001b[0m\u001b[1;33m\u001b[0m\u001b[1;33m\u001b[0m\u001b[0m\n\u001b[0m",
      "\u001b[1;31mKeyError\u001b[0m: 0"
     ]
    }
   ],
   "source": [
    "#This will not work\n",
    "print(d[0])"
   ]
  },
  {
   "cell_type": "code",
   "execution_count": 28,
   "id": "f8603358",
   "metadata": {},
   "outputs": [
    {
     "name": "stdout",
     "output_type": "stream",
     "text": [
      "[6, 7]\n"
     ]
    }
   ],
   "source": [
    "#But why does this not give me an error?\n",
    "print(d[5]) #note: this is NOT the fifth entry in the dictionary. it's the value corresponding to the key named 5"
   ]
  },
  {
   "cell_type": "markdown",
   "id": "26131a1f",
   "metadata": {},
   "source": [
    "There are no restrictions on what the values in a dictionaries can be, but keys must be unique. If not, the last entry will be the only one recorded:"
   ]
  },
  {
   "cell_type": "code",
   "execution_count": 29,
   "id": "e7c6e95e",
   "metadata": {},
   "outputs": [
    {
     "name": "stdout",
     "output_type": "stream",
     "text": [
      "{'a': 30, 'b': 20}\n"
     ]
    }
   ],
   "source": [
    "mk = {'a': 10, 'b': 20, 'a':30}\n",
    "print(mk)"
   ]
  },
  {
   "cell_type": "markdown",
   "id": "e74af02d",
   "metadata": {},
   "source": [
    "Adding and entry to a dictionary:"
   ]
  },
  {
   "cell_type": "code",
   "execution_count": 30,
   "id": "8c816571",
   "metadata": {},
   "outputs": [
    {
     "name": "stdout",
     "output_type": "stream",
     "text": [
      "{'a': 30, 'b': 20, 'c': 40}\n"
     ]
    }
   ],
   "source": [
    "mk['c'] = 40\n",
    "print(mk)"
   ]
  },
  {
   "cell_type": "markdown",
   "id": "58349a66",
   "metadata": {},
   "source": [
    "Changing an entry:"
   ]
  },
  {
   "cell_type": "code",
   "execution_count": 31,
   "id": "10f4b474",
   "metadata": {},
   "outputs": [
    {
     "name": "stdout",
     "output_type": "stream",
     "text": [
      "{'a': 50, 'b': 20, 'c': 40}\n"
     ]
    }
   ],
   "source": [
    "mk['a'] = 50\n",
    "print(mk)"
   ]
  },
  {
   "cell_type": "markdown",
   "id": "b771ae9e",
   "metadata": {},
   "source": [
    "Removing an entry:"
   ]
  },
  {
   "cell_type": "code",
   "execution_count": 32,
   "id": "e732f50c",
   "metadata": {},
   "outputs": [
    {
     "name": "stdout",
     "output_type": "stream",
     "text": [
      "{'a': 50, 'c': 40}\n"
     ]
    }
   ],
   "source": [
    "del mk['b']\n",
    "print(mk)"
   ]
  },
  {
   "cell_type": "markdown",
   "id": "a1014eb6",
   "metadata": {},
   "source": [
    "Note that if you try to run the cell above TWICE, the second time, it will give you an error, because it tries to delete the entry for key 'b' but it can't find it, since you already deleted it the first time you ran the code."
   ]
  },
  {
   "cell_type": "markdown",
   "id": "8fd8ac93",
   "metadata": {},
   "source": [
    "# Attributes, and the dot notation\n",
    "\n",
    "Objects of different types (either basic data types like int and float or data structures like lists or dicts) have a number of predefined **attributes**, which allow you to compute something about that object. You may also see these attributes referred to as **methods** (for the most part, the two terms are interchangeable).\n",
    "\n",
    "We can list out all the attributes of a particular object using the dir command:"
   ]
  },
  {
   "cell_type": "code",
   "execution_count": 33,
   "id": "3a924f86",
   "metadata": {},
   "outputs": [
    {
     "name": "stdout",
     "output_type": "stream",
     "text": [
      "['__add__', '__class__', '__contains__', '__delattr__', '__delitem__', '__dir__', '__doc__', '__eq__', '__format__', '__ge__', '__getattribute__', '__getitem__', '__gt__', '__hash__', '__iadd__', '__imul__', '__init__', '__init_subclass__', '__iter__', '__le__', '__len__', '__lt__', '__mul__', '__ne__', '__new__', '__reduce__', '__reduce_ex__', '__repr__', '__reversed__', '__rmul__', '__setattr__', '__setitem__', '__sizeof__', '__str__', '__subclasshook__', 'append', 'clear', 'copy', 'count', 'extend', 'index', 'insert', 'pop', 'remove', 'reverse', 'sort']\n"
     ]
    }
   ],
   "source": [
    "mylist = ['a','b','c']\n",
    "print(dir(mylist))"
   ]
  },
  {
   "cell_type": "markdown",
   "id": "f72c5757",
   "metadata": {},
   "source": [
    "Note that we would get the same answer for any other list (i.e. available attributes are the same for all objects of a give type):"
   ]
  },
  {
   "cell_type": "code",
   "execution_count": 34,
   "id": "7fdb975f",
   "metadata": {},
   "outputs": [
    {
     "name": "stdout",
     "output_type": "stream",
     "text": [
      "['__add__', '__class__', '__contains__', '__delattr__', '__delitem__', '__dir__', '__doc__', '__eq__', '__format__', '__ge__', '__getattribute__', '__getitem__', '__gt__', '__hash__', '__iadd__', '__imul__', '__init__', '__init_subclass__', '__iter__', '__le__', '__len__', '__lt__', '__mul__', '__ne__', '__new__', '__reduce__', '__reduce_ex__', '__repr__', '__reversed__', '__rmul__', '__setattr__', '__setitem__', '__sizeof__', '__str__', '__subclasshook__', 'append', 'clear', 'copy', 'count', 'extend', 'index', 'insert', 'pop', 'remove', 'reverse', 'sort']\n"
     ]
    }
   ],
   "source": [
    "anotherlist = [1,2]\n",
    "print(dir(anotherlist))"
   ]
  },
  {
   "cell_type": "markdown",
   "id": "55e16246",
   "metadata": {},
   "source": [
    "And the result is different for different kinds of data types:"
   ]
  },
  {
   "cell_type": "code",
   "execution_count": 35,
   "id": "ab6593a9",
   "metadata": {},
   "outputs": [
    {
     "name": "stdout",
     "output_type": "stream",
     "text": [
      "['__add__', '__class__', '__contains__', '__delattr__', '__dir__', '__doc__', '__eq__', '__format__', '__ge__', '__getattribute__', '__getitem__', '__getnewargs__', '__gt__', '__hash__', '__init__', '__init_subclass__', '__iter__', '__le__', '__len__', '__lt__', '__mod__', '__mul__', '__ne__', '__new__', '__reduce__', '__reduce_ex__', '__repr__', '__rmod__', '__rmul__', '__setattr__', '__sizeof__', '__str__', '__subclasshook__', 'capitalize', 'casefold', 'center', 'count', 'encode', 'endswith', 'expandtabs', 'find', 'format', 'format_map', 'index', 'isalnum', 'isalpha', 'isascii', 'isdecimal', 'isdigit', 'isidentifier', 'islower', 'isnumeric', 'isprintable', 'isspace', 'istitle', 'isupper', 'join', 'ljust', 'lower', 'lstrip', 'maketrans', 'partition', 'replace', 'rfind', 'rindex', 'rjust', 'rpartition', 'rsplit', 'rstrip', 'split', 'splitlines', 'startswith', 'strip', 'swapcase', 'title', 'translate', 'upper', 'zfill']\n"
     ]
    }
   ],
   "source": [
    "#Attributes of strings\n",
    "print(dir(\"abc\"))"
   ]
  },
  {
   "cell_type": "code",
   "execution_count": 36,
   "id": "70c38f83",
   "metadata": {},
   "outputs": [
    {
     "name": "stdout",
     "output_type": "stream",
     "text": [
      "['__class__', '__contains__', '__delattr__', '__delitem__', '__dir__', '__doc__', '__eq__', '__format__', '__ge__', '__getattribute__', '__getitem__', '__gt__', '__hash__', '__init__', '__init_subclass__', '__iter__', '__le__', '__len__', '__lt__', '__ne__', '__new__', '__reduce__', '__reduce_ex__', '__repr__', '__reversed__', '__setattr__', '__setitem__', '__sizeof__', '__str__', '__subclasshook__', 'clear', 'copy', 'fromkeys', 'get', 'items', 'keys', 'pop', 'popitem', 'setdefault', 'update', 'values']\n"
     ]
    }
   ],
   "source": [
    "#Attributes of dictionaries\n",
    "print(dir({'a':1}))"
   ]
  },
  {
   "cell_type": "markdown",
   "id": "350da217",
   "metadata": {},
   "source": [
    "Each of these attributes does something else. For example, in the list of dictionary attributes above, 'keys' gives us a list of all the keys of that dictionary. To use the 'keys' attribute, we write the name of that attribute after the name of the dictionary we want to apply it to, separated by a dot:"
   ]
  },
  {
   "cell_type": "code",
   "execution_count": 37,
   "id": "e8884663",
   "metadata": {},
   "outputs": [
    {
     "name": "stdout",
     "output_type": "stream",
     "text": [
      "dict_keys(['a', 'b'])\n"
     ]
    }
   ],
   "source": [
    "mydict = {'a': 1, \n",
    "          'b': 2}\n",
    "\n",
    "k = mydict.keys() \n",
    "print(k)"
   ]
  },
  {
   "cell_type": "markdown",
   "id": "ab09a777",
   "metadata": {},
   "source": [
    "There are different rules that you need to follow for each attribute, in terms of what you need to write AFTER the name of the attribute (e.g. putting parentheses after keys in the example above, is mandatory, otherwise you will get an error message). These rules are referred to as the **syntax** of that attribute. \n",
    "\n",
    "There is a very lager number of attributes in python and **you are not expected to remember any of the rules associated with those attributes**. There will be some that we will use so often that you will just remember how to use them naturally, but you will not be required to. This is the reason why programmers always have a Google tab open: you will constantly have to search how you're supposed to use a particular attribute.\n",
    "\n",
    "We will introduce more attributes as we need them throughout the rest of the semester. This section was just meant to introduce you to the concept and make you familiar with the dot notation. This notation is also used to access subpackages of Python packages. We will talk more about this when we cover packages in more detail later on."
   ]
  },
  {
   "cell_type": "markdown",
   "id": "6ffb9d13",
   "metadata": {},
   "source": [
    "# Python built-in functions\n",
    "\n",
    "Python has a set of built-in functions that are not specific to any given data type (like the attributes we mentioned above). We have already used several such functions: \"print\", \"type\", \"dir\". A full list of built-in functions, as well as the syntax for all of them can be found here: https://docs.python.org/3/library/functions.html\n"
   ]
  },
  {
   "cell_type": "markdown",
   "id": "460ff2c3",
   "metadata": {},
   "source": [
    "Note that, to use these built-in functions, we do not use the dot notation mentioned above. Instead, we pass the data on which we want to operate as a \"parameter\" to the function (i.e. inside parentheses, after the function name).\n",
    "\n",
    "For example, we write:"
   ]
  },
  {
   "cell_type": "code",
   "execution_count": 38,
   "id": "43225615",
   "metadata": {},
   "outputs": [
    {
     "name": "stdout",
     "output_type": "stream",
     "text": [
      "abc\n"
     ]
    }
   ],
   "source": [
    "print(\"abc\")"
   ]
  },
  {
   "cell_type": "markdown",
   "id": "f503b8f3",
   "metadata": {},
   "source": [
    "Not:"
   ]
  },
  {
   "cell_type": "code",
   "execution_count": 39,
   "id": "0a9d271f",
   "metadata": {},
   "outputs": [
    {
     "ename": "AttributeError",
     "evalue": "'str' object has no attribute 'print'",
     "output_type": "error",
     "traceback": [
      "\u001b[1;31m---------------------------------------------------------------------------\u001b[0m",
      "\u001b[1;31mAttributeError\u001b[0m                            Traceback (most recent call last)",
      "\u001b[1;32m~\\AppData\\Local\\Temp/ipykernel_16492/1965457977.py\u001b[0m in \u001b[0;36m<module>\u001b[1;34m\u001b[0m\n\u001b[1;32m----> 1\u001b[1;33m \u001b[1;34m\"abc\"\u001b[0m\u001b[1;33m.\u001b[0m\u001b[0mprint\u001b[0m\u001b[1;33m(\u001b[0m\u001b[1;33m)\u001b[0m\u001b[1;33m\u001b[0m\u001b[1;33m\u001b[0m\u001b[0m\n\u001b[0m",
      "\u001b[1;31mAttributeError\u001b[0m: 'str' object has no attribute 'print'"
     ]
    }
   ],
   "source": [
    "\"abc\".print()"
   ]
  },
  {
   "cell_type": "markdown",
   "id": "4a623308",
   "metadata": {},
   "source": [
    "We will talk more about specific built-in functions as we need them later on in the course. If you want to take a look ahead of time, some of the most commonly used ones are: range(), abs(), list(), dict(), len(), round(), sum(), str(), zip()."
   ]
  }
 ],
 "metadata": {
  "interpreter": {
   "hash": "5c65ce2fea2f0c67157032582cff07b1c9d083b283061c8d8524588d6f489174"
  },
  "kernelspec": {
   "display_name": "Python 3.9.12 ('base')",
   "language": "python",
   "name": "python3"
  },
  "language_info": {
   "codemirror_mode": {
    "name": "ipython",
    "version": 3
   },
   "file_extension": ".py",
   "mimetype": "text/x-python",
   "name": "python",
   "nbconvert_exporter": "python",
   "pygments_lexer": "ipython3",
   "version": "3.9.12"
  },
  "toc": {
   "base_numbering": 1,
   "nav_menu": {},
   "number_sections": true,
   "sideBar": true,
   "skip_h1_title": false,
   "title_cell": "Table of Contents",
   "title_sidebar": "Contents",
   "toc_cell": true,
   "toc_position": {},
   "toc_section_display": true,
   "toc_window_display": false
  }
 },
 "nbformat": 4,
 "nbformat_minor": 5
}
