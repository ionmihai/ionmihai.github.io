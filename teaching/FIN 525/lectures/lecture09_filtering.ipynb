{
 "cells": [
  {
   "cell_type": "markdown",
   "id": "35521a92",
   "metadata": {
    "toc": true
   },
   "source": [
    "<h1>Table of Contents<span class=\"tocSkip\"></span></h1>\n",
    "<div class=\"toc\"><ul class=\"toc-item\"><li><span><a href=\"#Preliminaries\" data-toc-modified-id=\"Preliminaries-1\"><span class=\"toc-item-num\">1&nbsp;&nbsp;</span>Preliminaries</a></span></li><li><span><a href=\"#Filtering-(subsetting)-pandas-DataFrames\" data-toc-modified-id=\"Filtering-(subsetting)-pandas-DataFrames-2\"><span class=\"toc-item-num\">2&nbsp;&nbsp;</span>Filtering (subsetting) pandas DataFrames</a></span><ul class=\"toc-item\"><li><span><a href=\"#The-&quot;.loc&quot;-attribute\" data-toc-modified-id=\"The-&quot;.loc&quot;-attribute-2.1\"><span class=\"toc-item-num\">2.1&nbsp;&nbsp;</span>The \".loc\" attribute</a></span><ul class=\"toc-item\"><li><span><a href=\"#Subsetting-with-explicit-labels\" data-toc-modified-id=\"Subsetting-with-explicit-labels-2.1.1\"><span class=\"toc-item-num\">2.1.1&nbsp;&nbsp;</span>Subsetting with explicit labels</a></span></li><li><span><a href=\"#Subsetting-with-slices-on-labels\" data-toc-modified-id=\"Subsetting-with-slices-on-labels-2.1.2\"><span class=\"toc-item-num\">2.1.2&nbsp;&nbsp;</span>Subsetting with slices on labels</a></span></li><li><span><a href=\"#Subsetting-with-boolean-arrays\" data-toc-modified-id=\"Subsetting-with-boolean-arrays-2.1.3\"><span class=\"toc-item-num\">2.1.3&nbsp;&nbsp;</span>Subsetting with boolean arrays</a></span></li></ul></li><li><span><a href=\"#The-&quot;.iloc&quot;-attribute\" data-toc-modified-id=\"The-&quot;.iloc&quot;-attribute-2.2\"><span class=\"toc-item-num\">2.2&nbsp;&nbsp;</span>The \".iloc\" attribute</a></span></li><li><span><a href=\"#The-&quot;.filter()&quot;-attribute\" data-toc-modified-id=\"The-&quot;.filter()&quot;-attribute-2.3\"><span class=\"toc-item-num\">2.3&nbsp;&nbsp;</span>The \".filter()\" attribute</a></span></li><li><span><a href=\"#Copies-vs-&quot;views&quot;\" data-toc-modified-id=\"Copies-vs-&quot;views&quot;-2.4\"><span class=\"toc-item-num\">2.4&nbsp;&nbsp;</span>Copies vs \"views\"</a></span></li></ul></li><li><span><a href=\"#Filtering-on-a-MultiIndex\" data-toc-modified-id=\"Filtering-on-a-MultiIndex-3\"><span class=\"toc-item-num\">3&nbsp;&nbsp;</span>Filtering on a MultiIndex</a></span></li></ul></div>"
   ]
  },
  {
   "cell_type": "markdown",
   "id": "1d1c16f1",
   "metadata": {},
   "source": [
    "# Preliminaries"
   ]
  },
  {
   "cell_type": "code",
   "execution_count": 1,
   "id": "5bab75b7",
   "metadata": {},
   "outputs": [],
   "source": [
    "import pandas as pd\n",
    "import numpy as np"
   ]
  },
  {
   "cell_type": "code",
   "execution_count": 2,
   "id": "3fd99891",
   "metadata": {},
   "outputs": [
    {
     "data": {
      "text/html": [
       "<div>\n",
       "<style scoped>\n",
       "    .dataframe tbody tr th:only-of-type {\n",
       "        vertical-align: middle;\n",
       "    }\n",
       "\n",
       "    .dataframe tbody tr th {\n",
       "        vertical-align: top;\n",
       "    }\n",
       "\n",
       "    .dataframe thead th {\n",
       "        text-align: right;\n",
       "    }\n",
       "</style>\n",
       "<table border=\"1\" class=\"dataframe\">\n",
       "  <thead>\n",
       "    <tr style=\"text-align: right;\">\n",
       "      <th></th>\n",
       "      <th>ticker</th>\n",
       "      <th>price</th>\n",
       "      <th>return</th>\n",
       "    </tr>\n",
       "  </thead>\n",
       "  <tbody>\n",
       "    <tr>\n",
       "      <th>Tesla</th>\n",
       "      <td>TSLA</td>\n",
       "      <td>1000</td>\n",
       "      <td>0.10</td>\n",
       "    </tr>\n",
       "    <tr>\n",
       "      <th>Apple</th>\n",
       "      <td>AAPL</td>\n",
       "      <td>2000</td>\n",
       "      <td>0.05</td>\n",
       "    </tr>\n",
       "    <tr>\n",
       "      <th>Microsoft</th>\n",
       "      <td>MSFT</td>\n",
       "      <td>100</td>\n",
       "      <td>0.07</td>\n",
       "    </tr>\n",
       "  </tbody>\n",
       "</table>\n",
       "</div>"
      ],
      "text/plain": [
       "          ticker  price  return\n",
       "Tesla       TSLA   1000    0.10\n",
       "Apple       AAPL   2000    0.05\n",
       "Microsoft   MSFT    100    0.07"
      ]
     },
     "execution_count": 2,
     "metadata": {},
     "output_type": "execute_result"
    }
   ],
   "source": [
    "df = pd.DataFrame(data=[['TSLA',1000, 0.1],['AAPL',2000, 0.05], ['MSFT', 100, 0.07]], \n",
    "                  index = ['Tesla','Apple', 'Microsoft'], \n",
    "                  columns = ['ticker','price', 'return'])\n",
    "df"
   ]
  },
  {
   "cell_type": "markdown",
   "id": "fac17cc9",
   "metadata": {},
   "source": [
    "# Filtering (subsetting) pandas DataFrames "
   ]
  },
  {
   "cell_type": "markdown",
   "id": "ae65514d",
   "metadata": {},
   "source": [
    "## The \".loc\" attribute\n",
    "\n",
    "The most common way to access a subset of the data in a dataframe is through the \".loc\" attribute. This attribute uses square brackets instead of parentheses and contains two arguments: the first one tells Python which rows you want, and the second one tells it which columns you want, which generally looks like this:\n",
    "\n",
    "```python\n",
    "DataFrame.loc[<which_rows>, <which_columns>]\n",
    "```\n",
    "where, instead of ``DataFrame`` you wouls use the name of the full dataframe you want to subset. Pandas allows for a lot of flexibility as to what you can use instead of ``<which_rows>`` and ``<which_column>`` above. See the examples in the official documentation to get a more complete picture of what is possible with ``.loc[]``: https://pandas.pydata.org/docs/reference/api/pandas.DataFrame.loc.html\n",
    "\n",
    "Below, I cover the most common ways to specify which rows and columns you want:\n",
    "\n",
    "1. By explicitly specifying the names (labels) of the index and/or column(s)\n",
    "2. Using slices (ranges) on the index labels or common labels\n",
    "2. Anything that returns a boolean sequence (True will be interpreted as \"I want this row/column\")"
   ]
  },
  {
   "cell_type": "markdown",
   "id": "f2a8fc44",
   "metadata": {},
   "source": [
    "### Subsetting with explicit labels"
   ]
  },
  {
   "cell_type": "code",
   "execution_count": 3,
   "id": "805e8744",
   "metadata": {},
   "outputs": [
    {
     "data": {
      "text/html": [
       "<div>\n",
       "<style scoped>\n",
       "    .dataframe tbody tr th:only-of-type {\n",
       "        vertical-align: middle;\n",
       "    }\n",
       "\n",
       "    .dataframe tbody tr th {\n",
       "        vertical-align: top;\n",
       "    }\n",
       "\n",
       "    .dataframe thead th {\n",
       "        text-align: right;\n",
       "    }\n",
       "</style>\n",
       "<table border=\"1\" class=\"dataframe\">\n",
       "  <thead>\n",
       "    <tr style=\"text-align: right;\">\n",
       "      <th></th>\n",
       "      <th>ticker</th>\n",
       "      <th>price</th>\n",
       "      <th>return</th>\n",
       "    </tr>\n",
       "  </thead>\n",
       "  <tbody>\n",
       "    <tr>\n",
       "      <th>Tesla</th>\n",
       "      <td>TSLA</td>\n",
       "      <td>1000</td>\n",
       "      <td>0.10</td>\n",
       "    </tr>\n",
       "    <tr>\n",
       "      <th>Apple</th>\n",
       "      <td>AAPL</td>\n",
       "      <td>2000</td>\n",
       "      <td>0.05</td>\n",
       "    </tr>\n",
       "    <tr>\n",
       "      <th>Microsoft</th>\n",
       "      <td>MSFT</td>\n",
       "      <td>100</td>\n",
       "      <td>0.07</td>\n",
       "    </tr>\n",
       "  </tbody>\n",
       "</table>\n",
       "</div>"
      ],
      "text/plain": [
       "          ticker  price  return\n",
       "Tesla       TSLA   1000    0.10\n",
       "Apple       AAPL   2000    0.05\n",
       "Microsoft   MSFT    100    0.07"
      ]
     },
     "execution_count": 3,
     "metadata": {},
     "output_type": "execute_result"
    }
   ],
   "source": [
    "df"
   ]
  },
  {
   "cell_type": "code",
   "execution_count": 4,
   "id": "63aec17c",
   "metadata": {},
   "outputs": [
    {
     "data": {
      "text/plain": [
       "1000"
      ]
     },
     "execution_count": 4,
     "metadata": {},
     "output_type": "execute_result"
    }
   ],
   "source": [
    "df.loc['Tesla', 'price']"
   ]
  },
  {
   "cell_type": "code",
   "execution_count": 5,
   "id": "5037757b",
   "metadata": {},
   "outputs": [
    {
     "data": {
      "text/html": [
       "<div>\n",
       "<style scoped>\n",
       "    .dataframe tbody tr th:only-of-type {\n",
       "        vertical-align: middle;\n",
       "    }\n",
       "\n",
       "    .dataframe tbody tr th {\n",
       "        vertical-align: top;\n",
       "    }\n",
       "\n",
       "    .dataframe thead th {\n",
       "        text-align: right;\n",
       "    }\n",
       "</style>\n",
       "<table border=\"1\" class=\"dataframe\">\n",
       "  <thead>\n",
       "    <tr style=\"text-align: right;\">\n",
       "      <th></th>\n",
       "      <th>ticker</th>\n",
       "      <th>return</th>\n",
       "    </tr>\n",
       "  </thead>\n",
       "  <tbody>\n",
       "    <tr>\n",
       "      <th>Tesla</th>\n",
       "      <td>TSLA</td>\n",
       "      <td>0.10</td>\n",
       "    </tr>\n",
       "    <tr>\n",
       "      <th>Microsoft</th>\n",
       "      <td>MSFT</td>\n",
       "      <td>0.07</td>\n",
       "    </tr>\n",
       "  </tbody>\n",
       "</table>\n",
       "</div>"
      ],
      "text/plain": [
       "          ticker  return\n",
       "Tesla       TSLA    0.10\n",
       "Microsoft   MSFT    0.07"
      ]
     },
     "execution_count": 5,
     "metadata": {},
     "output_type": "execute_result"
    }
   ],
   "source": [
    "df.loc[['Tesla', 'Microsoft'], ['ticker','return']]"
   ]
  },
  {
   "cell_type": "code",
   "execution_count": 6,
   "id": "abf34016",
   "metadata": {},
   "outputs": [
    {
     "data": {
      "text/html": [
       "<div>\n",
       "<style scoped>\n",
       "    .dataframe tbody tr th:only-of-type {\n",
       "        vertical-align: middle;\n",
       "    }\n",
       "\n",
       "    .dataframe tbody tr th {\n",
       "        vertical-align: top;\n",
       "    }\n",
       "\n",
       "    .dataframe thead th {\n",
       "        text-align: right;\n",
       "    }\n",
       "</style>\n",
       "<table border=\"1\" class=\"dataframe\">\n",
       "  <thead>\n",
       "    <tr style=\"text-align: right;\">\n",
       "      <th></th>\n",
       "      <th>ticker</th>\n",
       "    </tr>\n",
       "  </thead>\n",
       "  <tbody>\n",
       "    <tr>\n",
       "      <th>Tesla</th>\n",
       "      <td>TSLA</td>\n",
       "    </tr>\n",
       "    <tr>\n",
       "      <th>Apple</th>\n",
       "      <td>AAPL</td>\n",
       "    </tr>\n",
       "    <tr>\n",
       "      <th>Microsoft</th>\n",
       "      <td>MSFT</td>\n",
       "    </tr>\n",
       "  </tbody>\n",
       "</table>\n",
       "</div>"
      ],
      "text/plain": [
       "          ticker\n",
       "Tesla       TSLA\n",
       "Apple       AAPL\n",
       "Microsoft   MSFT"
      ]
     },
     "execution_count": 6,
     "metadata": {},
     "output_type": "execute_result"
    }
   ],
   "source": [
    "df.loc[:,['ticker']] #this returns a Pandas DataFrame"
   ]
  },
  {
   "cell_type": "code",
   "execution_count": 7,
   "id": "2b028fc6",
   "metadata": {},
   "outputs": [
    {
     "data": {
      "text/plain": [
       "Tesla        TSLA\n",
       "Apple        AAPL\n",
       "Microsoft    MSFT\n",
       "Name: ticker, dtype: object"
      ]
     },
     "execution_count": 7,
     "metadata": {},
     "output_type": "execute_result"
    }
   ],
   "source": [
    "df.loc[:,'ticker'] #this returns a Pandas Series"
   ]
  },
  {
   "cell_type": "code",
   "execution_count": 8,
   "id": "b64d8afc",
   "metadata": {},
   "outputs": [
    {
     "data": {
      "text/html": [
       "<div>\n",
       "<style scoped>\n",
       "    .dataframe tbody tr th:only-of-type {\n",
       "        vertical-align: middle;\n",
       "    }\n",
       "\n",
       "    .dataframe tbody tr th {\n",
       "        vertical-align: top;\n",
       "    }\n",
       "\n",
       "    .dataframe thead th {\n",
       "        text-align: right;\n",
       "    }\n",
       "</style>\n",
       "<table border=\"1\" class=\"dataframe\">\n",
       "  <thead>\n",
       "    <tr style=\"text-align: right;\">\n",
       "      <th></th>\n",
       "      <th>ticker</th>\n",
       "      <th>price</th>\n",
       "      <th>return</th>\n",
       "    </tr>\n",
       "  </thead>\n",
       "  <tbody>\n",
       "    <tr>\n",
       "      <th>Apple</th>\n",
       "      <td>AAPL</td>\n",
       "      <td>2000</td>\n",
       "      <td>0.05</td>\n",
       "    </tr>\n",
       "  </tbody>\n",
       "</table>\n",
       "</div>"
      ],
      "text/plain": [
       "      ticker  price  return\n",
       "Apple   AAPL   2000    0.05"
      ]
     },
     "execution_count": 8,
     "metadata": {},
     "output_type": "execute_result"
    }
   ],
   "source": [
    "df.loc[['Apple'],:]"
   ]
  },
  {
   "cell_type": "code",
   "execution_count": 9,
   "id": "1c7060a8",
   "metadata": {},
   "outputs": [
    {
     "data": {
      "text/plain": [
       "ticker    AAPL\n",
       "price     2000\n",
       "return    0.05\n",
       "Name: Apple, dtype: object"
      ]
     },
     "execution_count": 9,
     "metadata": {},
     "output_type": "execute_result"
    }
   ],
   "source": [
    "df.loc['Apple']"
   ]
  },
  {
   "cell_type": "markdown",
   "id": "b386374e",
   "metadata": {},
   "source": [
    "### Subsetting with slices on labels"
   ]
  },
  {
   "cell_type": "code",
   "execution_count": 10,
   "id": "4153c6b5",
   "metadata": {},
   "outputs": [
    {
     "data": {
      "text/html": [
       "<div>\n",
       "<style scoped>\n",
       "    .dataframe tbody tr th:only-of-type {\n",
       "        vertical-align: middle;\n",
       "    }\n",
       "\n",
       "    .dataframe tbody tr th {\n",
       "        vertical-align: top;\n",
       "    }\n",
       "\n",
       "    .dataframe thead th {\n",
       "        text-align: right;\n",
       "    }\n",
       "</style>\n",
       "<table border=\"1\" class=\"dataframe\">\n",
       "  <thead>\n",
       "    <tr style=\"text-align: right;\">\n",
       "      <th></th>\n",
       "      <th>ticker</th>\n",
       "      <th>price</th>\n",
       "      <th>return</th>\n",
       "    </tr>\n",
       "  </thead>\n",
       "  <tbody>\n",
       "    <tr>\n",
       "      <th>Tesla</th>\n",
       "      <td>TSLA</td>\n",
       "      <td>1000</td>\n",
       "      <td>0.10</td>\n",
       "    </tr>\n",
       "    <tr>\n",
       "      <th>Apple</th>\n",
       "      <td>AAPL</td>\n",
       "      <td>2000</td>\n",
       "      <td>0.05</td>\n",
       "    </tr>\n",
       "    <tr>\n",
       "      <th>Microsoft</th>\n",
       "      <td>MSFT</td>\n",
       "      <td>100</td>\n",
       "      <td>0.07</td>\n",
       "    </tr>\n",
       "  </tbody>\n",
       "</table>\n",
       "</div>"
      ],
      "text/plain": [
       "          ticker  price  return\n",
       "Tesla       TSLA   1000    0.10\n",
       "Apple       AAPL   2000    0.05\n",
       "Microsoft   MSFT    100    0.07"
      ]
     },
     "execution_count": 10,
     "metadata": {},
     "output_type": "execute_result"
    }
   ],
   "source": [
    "df"
   ]
  },
  {
   "cell_type": "code",
   "execution_count": 11,
   "id": "4782e390",
   "metadata": {},
   "outputs": [
    {
     "data": {
      "text/html": [
       "<div>\n",
       "<style scoped>\n",
       "    .dataframe tbody tr th:only-of-type {\n",
       "        vertical-align: middle;\n",
       "    }\n",
       "\n",
       "    .dataframe tbody tr th {\n",
       "        vertical-align: top;\n",
       "    }\n",
       "\n",
       "    .dataframe thead th {\n",
       "        text-align: right;\n",
       "    }\n",
       "</style>\n",
       "<table border=\"1\" class=\"dataframe\">\n",
       "  <thead>\n",
       "    <tr style=\"text-align: right;\">\n",
       "      <th></th>\n",
       "      <th>price</th>\n",
       "      <th>return</th>\n",
       "    </tr>\n",
       "  </thead>\n",
       "  <tbody>\n",
       "    <tr>\n",
       "      <th>Apple</th>\n",
       "      <td>2000</td>\n",
       "      <td>0.05</td>\n",
       "    </tr>\n",
       "    <tr>\n",
       "      <th>Microsoft</th>\n",
       "      <td>100</td>\n",
       "      <td>0.07</td>\n",
       "    </tr>\n",
       "  </tbody>\n",
       "</table>\n",
       "</div>"
      ],
      "text/plain": [
       "           price  return\n",
       "Apple       2000    0.05\n",
       "Microsoft    100    0.07"
      ]
     },
     "execution_count": 11,
     "metadata": {},
     "output_type": "execute_result"
    }
   ],
   "source": [
    "df.loc['Apple':'Microsoft', 'price':'return'] #note that endpoints of the range are included"
   ]
  },
  {
   "cell_type": "code",
   "execution_count": 12,
   "id": "249dbee1",
   "metadata": {},
   "outputs": [
    {
     "data": {
      "text/html": [
       "<div>\n",
       "<style scoped>\n",
       "    .dataframe tbody tr th:only-of-type {\n",
       "        vertical-align: middle;\n",
       "    }\n",
       "\n",
       "    .dataframe tbody tr th {\n",
       "        vertical-align: top;\n",
       "    }\n",
       "\n",
       "    .dataframe thead th {\n",
       "        text-align: right;\n",
       "    }\n",
       "</style>\n",
       "<table border=\"1\" class=\"dataframe\">\n",
       "  <thead>\n",
       "    <tr style=\"text-align: right;\">\n",
       "      <th></th>\n",
       "      <th>ticker</th>\n",
       "      <th>price</th>\n",
       "      <th>return</th>\n",
       "    </tr>\n",
       "  </thead>\n",
       "  <tbody>\n",
       "    <tr>\n",
       "      <th>Tesla</th>\n",
       "      <td>TSLA</td>\n",
       "      <td>1000</td>\n",
       "      <td>0.10</td>\n",
       "    </tr>\n",
       "    <tr>\n",
       "      <th>Apple</th>\n",
       "      <td>AAPL</td>\n",
       "      <td>2000</td>\n",
       "      <td>0.05</td>\n",
       "    </tr>\n",
       "  </tbody>\n",
       "</table>\n",
       "</div>"
      ],
      "text/plain": [
       "      ticker  price  return\n",
       "Tesla   TSLA   1000    0.10\n",
       "Apple   AAPL   2000    0.05"
      ]
     },
     "execution_count": 12,
     "metadata": {},
     "output_type": "execute_result"
    }
   ],
   "source": [
    "df.loc['Tesla':'Apple']"
   ]
  },
  {
   "cell_type": "code",
   "execution_count": 13,
   "id": "2c1a5f58",
   "metadata": {},
   "outputs": [
    {
     "data": {
      "text/html": [
       "<div>\n",
       "<style scoped>\n",
       "    .dataframe tbody tr th:only-of-type {\n",
       "        vertical-align: middle;\n",
       "    }\n",
       "\n",
       "    .dataframe tbody tr th {\n",
       "        vertical-align: top;\n",
       "    }\n",
       "\n",
       "    .dataframe thead th {\n",
       "        text-align: right;\n",
       "    }\n",
       "</style>\n",
       "<table border=\"1\" class=\"dataframe\">\n",
       "  <thead>\n",
       "    <tr style=\"text-align: right;\">\n",
       "      <th></th>\n",
       "      <th>ticker</th>\n",
       "      <th>price</th>\n",
       "    </tr>\n",
       "  </thead>\n",
       "  <tbody>\n",
       "    <tr>\n",
       "      <th>Tesla</th>\n",
       "      <td>TSLA</td>\n",
       "      <td>1000</td>\n",
       "    </tr>\n",
       "    <tr>\n",
       "      <th>Apple</th>\n",
       "      <td>AAPL</td>\n",
       "      <td>2000</td>\n",
       "    </tr>\n",
       "    <tr>\n",
       "      <th>Microsoft</th>\n",
       "      <td>MSFT</td>\n",
       "      <td>100</td>\n",
       "    </tr>\n",
       "  </tbody>\n",
       "</table>\n",
       "</div>"
      ],
      "text/plain": [
       "          ticker  price\n",
       "Tesla       TSLA   1000\n",
       "Apple       AAPL   2000\n",
       "Microsoft   MSFT    100"
      ]
     },
     "execution_count": 13,
     "metadata": {},
     "output_type": "execute_result"
    }
   ],
   "source": [
    "df.loc[:,'ticker':'price']"
   ]
  },
  {
   "cell_type": "markdown",
   "id": "d7fb8d94",
   "metadata": {},
   "source": [
    "### Subsetting with boolean arrays"
   ]
  },
  {
   "cell_type": "code",
   "execution_count": 14,
   "id": "7431e1e3",
   "metadata": {},
   "outputs": [
    {
     "data": {
      "text/html": [
       "<div>\n",
       "<style scoped>\n",
       "    .dataframe tbody tr th:only-of-type {\n",
       "        vertical-align: middle;\n",
       "    }\n",
       "\n",
       "    .dataframe tbody tr th {\n",
       "        vertical-align: top;\n",
       "    }\n",
       "\n",
       "    .dataframe thead th {\n",
       "        text-align: right;\n",
       "    }\n",
       "</style>\n",
       "<table border=\"1\" class=\"dataframe\">\n",
       "  <thead>\n",
       "    <tr style=\"text-align: right;\">\n",
       "      <th></th>\n",
       "      <th>ticker</th>\n",
       "      <th>price</th>\n",
       "      <th>return</th>\n",
       "    </tr>\n",
       "  </thead>\n",
       "  <tbody>\n",
       "    <tr>\n",
       "      <th>Tesla</th>\n",
       "      <td>TSLA</td>\n",
       "      <td>1000</td>\n",
       "      <td>0.10</td>\n",
       "    </tr>\n",
       "    <tr>\n",
       "      <th>Apple</th>\n",
       "      <td>AAPL</td>\n",
       "      <td>2000</td>\n",
       "      <td>0.05</td>\n",
       "    </tr>\n",
       "    <tr>\n",
       "      <th>Microsoft</th>\n",
       "      <td>MSFT</td>\n",
       "      <td>100</td>\n",
       "      <td>0.07</td>\n",
       "    </tr>\n",
       "  </tbody>\n",
       "</table>\n",
       "</div>"
      ],
      "text/plain": [
       "          ticker  price  return\n",
       "Tesla       TSLA   1000    0.10\n",
       "Apple       AAPL   2000    0.05\n",
       "Microsoft   MSFT    100    0.07"
      ]
     },
     "execution_count": 14,
     "metadata": {},
     "output_type": "execute_result"
    }
   ],
   "source": [
    "df"
   ]
  },
  {
   "cell_type": "code",
   "execution_count": 15,
   "id": "6927601a",
   "metadata": {},
   "outputs": [
    {
     "data": {
      "text/html": [
       "<div>\n",
       "<style scoped>\n",
       "    .dataframe tbody tr th:only-of-type {\n",
       "        vertical-align: middle;\n",
       "    }\n",
       "\n",
       "    .dataframe tbody tr th {\n",
       "        vertical-align: top;\n",
       "    }\n",
       "\n",
       "    .dataframe thead th {\n",
       "        text-align: right;\n",
       "    }\n",
       "</style>\n",
       "<table border=\"1\" class=\"dataframe\">\n",
       "  <thead>\n",
       "    <tr style=\"text-align: right;\">\n",
       "      <th></th>\n",
       "      <th>ticker</th>\n",
       "      <th>return</th>\n",
       "    </tr>\n",
       "  </thead>\n",
       "  <tbody>\n",
       "    <tr>\n",
       "      <th>Tesla</th>\n",
       "      <td>TSLA</td>\n",
       "      <td>0.10</td>\n",
       "    </tr>\n",
       "    <tr>\n",
       "      <th>Apple</th>\n",
       "      <td>AAPL</td>\n",
       "      <td>0.05</td>\n",
       "    </tr>\n",
       "  </tbody>\n",
       "</table>\n",
       "</div>"
      ],
      "text/plain": [
       "      ticker  return\n",
       "Tesla   TSLA    0.10\n",
       "Apple   AAPL    0.05"
      ]
     },
     "execution_count": 15,
     "metadata": {},
     "output_type": "execute_result"
    }
   ],
   "source": [
    "df.loc[[True,True,False],\n",
    "      [True, False, True]]"
   ]
  },
  {
   "cell_type": "code",
   "execution_count": 16,
   "id": "5ac6b721",
   "metadata": {},
   "outputs": [
    {
     "data": {
      "text/html": [
       "<div>\n",
       "<style scoped>\n",
       "    .dataframe tbody tr th:only-of-type {\n",
       "        vertical-align: middle;\n",
       "    }\n",
       "\n",
       "    .dataframe tbody tr th {\n",
       "        vertical-align: top;\n",
       "    }\n",
       "\n",
       "    .dataframe thead th {\n",
       "        text-align: right;\n",
       "    }\n",
       "</style>\n",
       "<table border=\"1\" class=\"dataframe\">\n",
       "  <thead>\n",
       "    <tr style=\"text-align: right;\">\n",
       "      <th></th>\n",
       "      <th>ticker</th>\n",
       "      <th>price</th>\n",
       "      <th>return</th>\n",
       "    </tr>\n",
       "  </thead>\n",
       "  <tbody>\n",
       "    <tr>\n",
       "      <th>Tesla</th>\n",
       "      <td>TSLA</td>\n",
       "      <td>1000</td>\n",
       "      <td>0.10</td>\n",
       "    </tr>\n",
       "    <tr>\n",
       "      <th>Microsoft</th>\n",
       "      <td>MSFT</td>\n",
       "      <td>100</td>\n",
       "      <td>0.07</td>\n",
       "    </tr>\n",
       "  </tbody>\n",
       "</table>\n",
       "</div>"
      ],
      "text/plain": [
       "          ticker  price  return\n",
       "Tesla       TSLA   1000    0.10\n",
       "Microsoft   MSFT    100    0.07"
      ]
     },
     "execution_count": 16,
     "metadata": {},
     "output_type": "execute_result"
    }
   ],
   "source": [
    "df.loc[df['return'] > 0.05, :]"
   ]
  },
  {
   "cell_type": "code",
   "execution_count": 17,
   "id": "c62a09dc",
   "metadata": {},
   "outputs": [
    {
     "data": {
      "text/html": [
       "<div>\n",
       "<style scoped>\n",
       "    .dataframe tbody tr th:only-of-type {\n",
       "        vertical-align: middle;\n",
       "    }\n",
       "\n",
       "    .dataframe tbody tr th {\n",
       "        vertical-align: top;\n",
       "    }\n",
       "\n",
       "    .dataframe thead th {\n",
       "        text-align: right;\n",
       "    }\n",
       "</style>\n",
       "<table border=\"1\" class=\"dataframe\">\n",
       "  <thead>\n",
       "    <tr style=\"text-align: right;\">\n",
       "      <th></th>\n",
       "      <th>ticker</th>\n",
       "    </tr>\n",
       "  </thead>\n",
       "  <tbody>\n",
       "    <tr>\n",
       "      <th>Tesla</th>\n",
       "      <td>TSLA</td>\n",
       "    </tr>\n",
       "    <tr>\n",
       "      <th>Apple</th>\n",
       "      <td>AAPL</td>\n",
       "    </tr>\n",
       "    <tr>\n",
       "      <th>Microsoft</th>\n",
       "      <td>MSFT</td>\n",
       "    </tr>\n",
       "  </tbody>\n",
       "</table>\n",
       "</div>"
      ],
      "text/plain": [
       "          ticker\n",
       "Tesla       TSLA\n",
       "Apple       AAPL\n",
       "Microsoft   MSFT"
      ]
     },
     "execution_count": 17,
     "metadata": {},
     "output_type": "execute_result"
    }
   ],
   "source": [
    "df.loc[:, df.columns.str.contains(\"tic\")] #we'll talk more about \".str\" next class"
   ]
  },
  {
   "cell_type": "code",
   "execution_count": 18,
   "id": "8e3da6c0",
   "metadata": {},
   "outputs": [
    {
     "data": {
      "text/html": [
       "<div>\n",
       "<style scoped>\n",
       "    .dataframe tbody tr th:only-of-type {\n",
       "        vertical-align: middle;\n",
       "    }\n",
       "\n",
       "    .dataframe tbody tr th {\n",
       "        vertical-align: top;\n",
       "    }\n",
       "\n",
       "    .dataframe thead th {\n",
       "        text-align: right;\n",
       "    }\n",
       "</style>\n",
       "<table border=\"1\" class=\"dataframe\">\n",
       "  <thead>\n",
       "    <tr style=\"text-align: right;\">\n",
       "      <th></th>\n",
       "      <th>ticker</th>\n",
       "    </tr>\n",
       "  </thead>\n",
       "  <tbody>\n",
       "    <tr>\n",
       "      <th>Tesla</th>\n",
       "      <td>TSLA</td>\n",
       "    </tr>\n",
       "  </tbody>\n",
       "</table>\n",
       "</div>"
      ],
      "text/plain": [
       "      ticker\n",
       "Tesla   TSLA"
      ]
     },
     "execution_count": 18,
     "metadata": {},
     "output_type": "execute_result"
    }
   ],
   "source": [
    "df.loc[df['return'] > 0.07,\n",
    "       df.columns.str.contains(\"tic\")]"
   ]
  },
  {
   "cell_type": "markdown",
   "id": "a4f22ee9",
   "metadata": {},
   "source": [
    "## The \".iloc\" attribute\n",
    "\n",
    "Works almost identically to ``.loc()`` with one crucial exception: ``.iloc()`` uses index/column **integer positions** (as opposed to labels like ``.loc()``)."
   ]
  },
  {
   "cell_type": "code",
   "execution_count": 19,
   "id": "5baea0a8",
   "metadata": {},
   "outputs": [
    {
     "data": {
      "text/html": [
       "<div>\n",
       "<style scoped>\n",
       "    .dataframe tbody tr th:only-of-type {\n",
       "        vertical-align: middle;\n",
       "    }\n",
       "\n",
       "    .dataframe tbody tr th {\n",
       "        vertical-align: top;\n",
       "    }\n",
       "\n",
       "    .dataframe thead th {\n",
       "        text-align: right;\n",
       "    }\n",
       "</style>\n",
       "<table border=\"1\" class=\"dataframe\">\n",
       "  <thead>\n",
       "    <tr style=\"text-align: right;\">\n",
       "      <th></th>\n",
       "      <th>ticker</th>\n",
       "      <th>price</th>\n",
       "      <th>return</th>\n",
       "    </tr>\n",
       "  </thead>\n",
       "  <tbody>\n",
       "    <tr>\n",
       "      <th>Tesla</th>\n",
       "      <td>TSLA</td>\n",
       "      <td>1000</td>\n",
       "      <td>0.10</td>\n",
       "    </tr>\n",
       "    <tr>\n",
       "      <th>Apple</th>\n",
       "      <td>AAPL</td>\n",
       "      <td>2000</td>\n",
       "      <td>0.05</td>\n",
       "    </tr>\n",
       "    <tr>\n",
       "      <th>Microsoft</th>\n",
       "      <td>MSFT</td>\n",
       "      <td>100</td>\n",
       "      <td>0.07</td>\n",
       "    </tr>\n",
       "  </tbody>\n",
       "</table>\n",
       "</div>"
      ],
      "text/plain": [
       "          ticker  price  return\n",
       "Tesla       TSLA   1000    0.10\n",
       "Apple       AAPL   2000    0.05\n",
       "Microsoft   MSFT    100    0.07"
      ]
     },
     "execution_count": 19,
     "metadata": {},
     "output_type": "execute_result"
    }
   ],
   "source": [
    "df"
   ]
  },
  {
   "cell_type": "code",
   "execution_count": 20,
   "id": "56467ceb",
   "metadata": {},
   "outputs": [
    {
     "data": {
      "text/html": [
       "<div>\n",
       "<style scoped>\n",
       "    .dataframe tbody tr th:only-of-type {\n",
       "        vertical-align: middle;\n",
       "    }\n",
       "\n",
       "    .dataframe tbody tr th {\n",
       "        vertical-align: top;\n",
       "    }\n",
       "\n",
       "    .dataframe thead th {\n",
       "        text-align: right;\n",
       "    }\n",
       "</style>\n",
       "<table border=\"1\" class=\"dataframe\">\n",
       "  <thead>\n",
       "    <tr style=\"text-align: right;\">\n",
       "      <th></th>\n",
       "      <th>ticker</th>\n",
       "      <th>return</th>\n",
       "    </tr>\n",
       "  </thead>\n",
       "  <tbody>\n",
       "    <tr>\n",
       "      <th>Tesla</th>\n",
       "      <td>TSLA</td>\n",
       "      <td>0.10</td>\n",
       "    </tr>\n",
       "    <tr>\n",
       "      <th>Microsoft</th>\n",
       "      <td>MSFT</td>\n",
       "      <td>0.07</td>\n",
       "    </tr>\n",
       "  </tbody>\n",
       "</table>\n",
       "</div>"
      ],
      "text/plain": [
       "          ticker  return\n",
       "Tesla       TSLA    0.10\n",
       "Microsoft   MSFT    0.07"
      ]
     },
     "execution_count": 20,
     "metadata": {},
     "output_type": "execute_result"
    }
   ],
   "source": [
    "df.iloc[[0,2], [0,2]]"
   ]
  },
  {
   "cell_type": "code",
   "execution_count": 21,
   "id": "43e66da4",
   "metadata": {},
   "outputs": [
    {
     "data": {
      "text/html": [
       "<div>\n",
       "<style scoped>\n",
       "    .dataframe tbody tr th:only-of-type {\n",
       "        vertical-align: middle;\n",
       "    }\n",
       "\n",
       "    .dataframe tbody tr th {\n",
       "        vertical-align: top;\n",
       "    }\n",
       "\n",
       "    .dataframe thead th {\n",
       "        text-align: right;\n",
       "    }\n",
       "</style>\n",
       "<table border=\"1\" class=\"dataframe\">\n",
       "  <thead>\n",
       "    <tr style=\"text-align: right;\">\n",
       "      <th></th>\n",
       "      <th>ticker</th>\n",
       "      <th>return</th>\n",
       "    </tr>\n",
       "  </thead>\n",
       "  <tbody>\n",
       "    <tr>\n",
       "      <th>Tesla</th>\n",
       "      <td>TSLA</td>\n",
       "      <td>0.10</td>\n",
       "    </tr>\n",
       "    <tr>\n",
       "      <th>Microsoft</th>\n",
       "      <td>MSFT</td>\n",
       "      <td>0.07</td>\n",
       "    </tr>\n",
       "  </tbody>\n",
       "</table>\n",
       "</div>"
      ],
      "text/plain": [
       "          ticker  return\n",
       "Tesla       TSLA    0.10\n",
       "Microsoft   MSFT    0.07"
      ]
     },
     "execution_count": 21,
     "metadata": {},
     "output_type": "execute_result"
    }
   ],
   "source": [
    "df.loc[['Tesla', 'Microsoft'], ['ticker','return']]"
   ]
  },
  {
   "cell_type": "markdown",
   "id": "911151a3",
   "metadata": {},
   "source": [
    "Slicing also works, but this time we have to use index/column numbers, and the right-most end of the range is **not** included:"
   ]
  },
  {
   "cell_type": "code",
   "execution_count": 22,
   "id": "a3ecb369",
   "metadata": {},
   "outputs": [
    {
     "data": {
      "text/html": [
       "<div>\n",
       "<style scoped>\n",
       "    .dataframe tbody tr th:only-of-type {\n",
       "        vertical-align: middle;\n",
       "    }\n",
       "\n",
       "    .dataframe tbody tr th {\n",
       "        vertical-align: top;\n",
       "    }\n",
       "\n",
       "    .dataframe thead th {\n",
       "        text-align: right;\n",
       "    }\n",
       "</style>\n",
       "<table border=\"1\" class=\"dataframe\">\n",
       "  <thead>\n",
       "    <tr style=\"text-align: right;\">\n",
       "      <th></th>\n",
       "      <th>ticker</th>\n",
       "      <th>price</th>\n",
       "    </tr>\n",
       "  </thead>\n",
       "  <tbody>\n",
       "    <tr>\n",
       "      <th>Apple</th>\n",
       "      <td>AAPL</td>\n",
       "      <td>2000</td>\n",
       "    </tr>\n",
       "  </tbody>\n",
       "</table>\n",
       "</div>"
      ],
      "text/plain": [
       "      ticker  price\n",
       "Apple   AAPL   2000"
      ]
     },
     "execution_count": 22,
     "metadata": {},
     "output_type": "execute_result"
    }
   ],
   "source": [
    "df.iloc[1:2, 0:2]"
   ]
  },
  {
   "cell_type": "markdown",
   "id": "99107e67",
   "metadata": {},
   "source": [
    "We rarely use boolean arrays with ``.iloc()`` so we will not cover it here."
   ]
  },
  {
   "cell_type": "markdown",
   "id": "b1ea1d6b",
   "metadata": {},
   "source": [
    "## The \".filter()\" attribute\n",
    "\n",
    "The ``.filter()`` attribute comes in handy if we want to subset based on index or column names (labels). In particular, its ``like`` parameter allows us to specify that we want all rows/columns that contain a particular piece of text in their label.\n",
    "\n",
    "Syntax:\n",
    "```python\n",
    "DataFrame.filter(items=None, like=None, regex=None, axis=None)\n",
    "```\n",
    "\n",
    "For example:"
   ]
  },
  {
   "cell_type": "code",
   "execution_count": 23,
   "id": "a283d925",
   "metadata": {},
   "outputs": [
    {
     "data": {
      "text/html": [
       "<div>\n",
       "<style scoped>\n",
       "    .dataframe tbody tr th:only-of-type {\n",
       "        vertical-align: middle;\n",
       "    }\n",
       "\n",
       "    .dataframe tbody tr th {\n",
       "        vertical-align: top;\n",
       "    }\n",
       "\n",
       "    .dataframe thead th {\n",
       "        text-align: right;\n",
       "    }\n",
       "</style>\n",
       "<table border=\"1\" class=\"dataframe\">\n",
       "  <thead>\n",
       "    <tr style=\"text-align: right;\">\n",
       "      <th></th>\n",
       "      <th>ticker</th>\n",
       "      <th>price</th>\n",
       "      <th>return</th>\n",
       "    </tr>\n",
       "  </thead>\n",
       "  <tbody>\n",
       "    <tr>\n",
       "      <th>Tesla</th>\n",
       "      <td>TSLA</td>\n",
       "      <td>1000</td>\n",
       "      <td>0.10</td>\n",
       "    </tr>\n",
       "    <tr>\n",
       "      <th>Apple</th>\n",
       "      <td>AAPL</td>\n",
       "      <td>2000</td>\n",
       "      <td>0.05</td>\n",
       "    </tr>\n",
       "    <tr>\n",
       "      <th>Microsoft</th>\n",
       "      <td>MSFT</td>\n",
       "      <td>100</td>\n",
       "      <td>0.07</td>\n",
       "    </tr>\n",
       "  </tbody>\n",
       "</table>\n",
       "</div>"
      ],
      "text/plain": [
       "          ticker  price  return\n",
       "Tesla       TSLA   1000    0.10\n",
       "Apple       AAPL   2000    0.05\n",
       "Microsoft   MSFT    100    0.07"
      ]
     },
     "execution_count": 23,
     "metadata": {},
     "output_type": "execute_result"
    }
   ],
   "source": [
    "df"
   ]
  },
  {
   "cell_type": "code",
   "execution_count": 24,
   "id": "b8da7559",
   "metadata": {},
   "outputs": [
    {
     "data": {
      "text/html": [
       "<div>\n",
       "<style scoped>\n",
       "    .dataframe tbody tr th:only-of-type {\n",
       "        vertical-align: middle;\n",
       "    }\n",
       "\n",
       "    .dataframe tbody tr th {\n",
       "        vertical-align: top;\n",
       "    }\n",
       "\n",
       "    .dataframe thead th {\n",
       "        text-align: right;\n",
       "    }\n",
       "</style>\n",
       "<table border=\"1\" class=\"dataframe\">\n",
       "  <thead>\n",
       "    <tr style=\"text-align: right;\">\n",
       "      <th></th>\n",
       "      <th>ticker</th>\n",
       "      <th>price</th>\n",
       "      <th>return</th>\n",
       "    </tr>\n",
       "  </thead>\n",
       "  <tbody>\n",
       "    <tr>\n",
       "      <th>Tesla</th>\n",
       "      <td>TSLA</td>\n",
       "      <td>1000</td>\n",
       "      <td>0.1</td>\n",
       "    </tr>\n",
       "  </tbody>\n",
       "</table>\n",
       "</div>"
      ],
      "text/plain": [
       "      ticker  price  return\n",
       "Tesla   TSLA   1000     0.1"
      ]
     },
     "execution_count": 24,
     "metadata": {},
     "output_type": "execute_result"
    }
   ],
   "source": [
    "df.filter(like=\"esla\", axis=0)"
   ]
  },
  {
   "cell_type": "code",
   "execution_count": 25,
   "id": "8a140c47",
   "metadata": {},
   "outputs": [
    {
     "data": {
      "text/html": [
       "<div>\n",
       "<style scoped>\n",
       "    .dataframe tbody tr th:only-of-type {\n",
       "        vertical-align: middle;\n",
       "    }\n",
       "\n",
       "    .dataframe tbody tr th {\n",
       "        vertical-align: top;\n",
       "    }\n",
       "\n",
       "    .dataframe thead th {\n",
       "        text-align: right;\n",
       "    }\n",
       "</style>\n",
       "<table border=\"1\" class=\"dataframe\">\n",
       "  <thead>\n",
       "    <tr style=\"text-align: right;\">\n",
       "      <th></th>\n",
       "      <th>return</th>\n",
       "    </tr>\n",
       "  </thead>\n",
       "  <tbody>\n",
       "    <tr>\n",
       "      <th>Tesla</th>\n",
       "      <td>0.10</td>\n",
       "    </tr>\n",
       "    <tr>\n",
       "      <th>Apple</th>\n",
       "      <td>0.05</td>\n",
       "    </tr>\n",
       "    <tr>\n",
       "      <th>Microsoft</th>\n",
       "      <td>0.07</td>\n",
       "    </tr>\n",
       "  </tbody>\n",
       "</table>\n",
       "</div>"
      ],
      "text/plain": [
       "           return\n",
       "Tesla        0.10\n",
       "Apple        0.05\n",
       "Microsoft    0.07"
      ]
     },
     "execution_count": 25,
     "metadata": {},
     "output_type": "execute_result"
    }
   ],
   "source": [
    "df.filter(like='ret', axis=1)"
   ]
  },
  {
   "cell_type": "markdown",
   "id": "d459c4dd",
   "metadata": {},
   "source": [
    "## Copies vs \"views\""
   ]
  },
  {
   "cell_type": "markdown",
   "id": "4d98cfea",
   "metadata": {},
   "source": [
    "Let's make a copy of df that we can safely change for this section:"
   ]
  },
  {
   "cell_type": "code",
   "execution_count": 26,
   "id": "3e3d8dff",
   "metadata": {},
   "outputs": [
    {
     "data": {
      "text/html": [
       "<div>\n",
       "<style scoped>\n",
       "    .dataframe tbody tr th:only-of-type {\n",
       "        vertical-align: middle;\n",
       "    }\n",
       "\n",
       "    .dataframe tbody tr th {\n",
       "        vertical-align: top;\n",
       "    }\n",
       "\n",
       "    .dataframe thead th {\n",
       "        text-align: right;\n",
       "    }\n",
       "</style>\n",
       "<table border=\"1\" class=\"dataframe\">\n",
       "  <thead>\n",
       "    <tr style=\"text-align: right;\">\n",
       "      <th></th>\n",
       "      <th>ticker</th>\n",
       "      <th>price</th>\n",
       "      <th>return</th>\n",
       "    </tr>\n",
       "  </thead>\n",
       "  <tbody>\n",
       "    <tr>\n",
       "      <th>Tesla</th>\n",
       "      <td>TSLA</td>\n",
       "      <td>1000</td>\n",
       "      <td>0.10</td>\n",
       "    </tr>\n",
       "    <tr>\n",
       "      <th>Apple</th>\n",
       "      <td>AAPL</td>\n",
       "      <td>2000</td>\n",
       "      <td>0.05</td>\n",
       "    </tr>\n",
       "    <tr>\n",
       "      <th>Microsoft</th>\n",
       "      <td>MSFT</td>\n",
       "      <td>100</td>\n",
       "      <td>0.07</td>\n",
       "    </tr>\n",
       "  </tbody>\n",
       "</table>\n",
       "</div>"
      ],
      "text/plain": [
       "          ticker  price  return\n",
       "Tesla       TSLA   1000    0.10\n",
       "Apple       AAPL   2000    0.05\n",
       "Microsoft   MSFT    100    0.07"
      ]
     },
     "execution_count": 26,
     "metadata": {},
     "output_type": "execute_result"
    }
   ],
   "source": [
    "newdf = df\n",
    "newdf"
   ]
  },
  {
   "cell_type": "markdown",
   "id": "10b4ba9c",
   "metadata": {},
   "source": [
    "Many times, we want to store a subset of a dataframe inside a new dataframe. For example:"
   ]
  },
  {
   "cell_type": "code",
   "execution_count": 27,
   "id": "33c9bfa7",
   "metadata": {},
   "outputs": [
    {
     "data": {
      "text/plain": [
       "Tesla        1000\n",
       "Apple        2000\n",
       "Microsoft     100\n",
       "Name: price, dtype: int64"
      ]
     },
     "execution_count": 27,
     "metadata": {},
     "output_type": "execute_result"
    }
   ],
   "source": [
    "sub = newdf.loc[:,'price']\n",
    "sub"
   ]
  },
  {
   "cell_type": "markdown",
   "id": "c572b84b",
   "metadata": {},
   "source": [
    "Now suppose we have to make a change to the larger dataframe ``newdf``. For example:"
   ]
  },
  {
   "cell_type": "code",
   "execution_count": 28,
   "id": "c6b17b80",
   "metadata": {},
   "outputs": [
    {
     "data": {
      "text/html": [
       "<div>\n",
       "<style scoped>\n",
       "    .dataframe tbody tr th:only-of-type {\n",
       "        vertical-align: middle;\n",
       "    }\n",
       "\n",
       "    .dataframe tbody tr th {\n",
       "        vertical-align: top;\n",
       "    }\n",
       "\n",
       "    .dataframe thead th {\n",
       "        text-align: right;\n",
       "    }\n",
       "</style>\n",
       "<table border=\"1\" class=\"dataframe\">\n",
       "  <thead>\n",
       "    <tr style=\"text-align: right;\">\n",
       "      <th></th>\n",
       "      <th>ticker</th>\n",
       "      <th>price</th>\n",
       "      <th>return</th>\n",
       "    </tr>\n",
       "  </thead>\n",
       "  <tbody>\n",
       "    <tr>\n",
       "      <th>Tesla</th>\n",
       "      <td>TSLA</td>\n",
       "      <td>0</td>\n",
       "      <td>0.10</td>\n",
       "    </tr>\n",
       "    <tr>\n",
       "      <th>Apple</th>\n",
       "      <td>AAPL</td>\n",
       "      <td>2000</td>\n",
       "      <td>0.05</td>\n",
       "    </tr>\n",
       "    <tr>\n",
       "      <th>Microsoft</th>\n",
       "      <td>MSFT</td>\n",
       "      <td>100</td>\n",
       "      <td>0.07</td>\n",
       "    </tr>\n",
       "  </tbody>\n",
       "</table>\n",
       "</div>"
      ],
      "text/plain": [
       "          ticker  price  return\n",
       "Tesla       TSLA      0    0.10\n",
       "Apple       AAPL   2000    0.05\n",
       "Microsoft   MSFT    100    0.07"
      ]
     },
     "execution_count": 28,
     "metadata": {},
     "output_type": "execute_result"
    }
   ],
   "source": [
    "newdf.loc['Tesla','price'] = 0\n",
    "newdf"
   ]
  },
  {
   "cell_type": "markdown",
   "id": "994206ea",
   "metadata": {},
   "source": [
    "This change will be passed to ``sub``, even tough we never created this change explicitly ourselves:"
   ]
  },
  {
   "cell_type": "code",
   "execution_count": 29,
   "id": "64b7b5a3",
   "metadata": {},
   "outputs": [
    {
     "data": {
      "text/plain": [
       "Tesla           0\n",
       "Apple        2000\n",
       "Microsoft     100\n",
       "Name: price, dtype: int64"
      ]
     },
     "execution_count": 29,
     "metadata": {},
     "output_type": "execute_result"
    }
   ],
   "source": [
    "sub"
   ]
  },
  {
   "cell_type": "markdown",
   "id": "9011b60c",
   "metadata": {},
   "source": [
    "This happened because, when we created ``sub`` with the command ``sub = newdf.loc[:,'price']``, Pyhton did not actually create an entirely new dataframe. Instead, it just returned something like an address of where in ``newdf`` the ``price`` data can be found. This is called a **view** of the data. \n",
    "\n",
    "This is done to preserve memory and speed up the code, but, like we saw above, it can cause some of our dataframes change when we edit other dataframes. \n",
    "\n",
    "To avoid this possible problem, I recommend always telling Python to create a copy of the subset of data you want, using the ``.copy()`` attribute. In our example above, ``sub`` should have been created like this: "
   ]
  },
  {
   "cell_type": "code",
   "execution_count": 30,
   "id": "70bfcf30",
   "metadata": {},
   "outputs": [
    {
     "data": {
      "text/plain": [
       "Tesla           0\n",
       "Apple        2000\n",
       "Microsoft     100\n",
       "Name: price, dtype: int64"
      ]
     },
     "execution_count": 30,
     "metadata": {},
     "output_type": "execute_result"
    }
   ],
   "source": [
    "sub = newdf.loc[:,'price'].copy()\n",
    "sub"
   ]
  },
  {
   "cell_type": "markdown",
   "id": "19f5d76e",
   "metadata": {},
   "source": [
    "Now, changes to newdf, like this:"
   ]
  },
  {
   "cell_type": "code",
   "execution_count": 31,
   "id": "7146cd92",
   "metadata": {},
   "outputs": [
    {
     "data": {
      "text/html": [
       "<div>\n",
       "<style scoped>\n",
       "    .dataframe tbody tr th:only-of-type {\n",
       "        vertical-align: middle;\n",
       "    }\n",
       "\n",
       "    .dataframe tbody tr th {\n",
       "        vertical-align: top;\n",
       "    }\n",
       "\n",
       "    .dataframe thead th {\n",
       "        text-align: right;\n",
       "    }\n",
       "</style>\n",
       "<table border=\"1\" class=\"dataframe\">\n",
       "  <thead>\n",
       "    <tr style=\"text-align: right;\">\n",
       "      <th></th>\n",
       "      <th>ticker</th>\n",
       "      <th>price</th>\n",
       "      <th>return</th>\n",
       "    </tr>\n",
       "  </thead>\n",
       "  <tbody>\n",
       "    <tr>\n",
       "      <th>Tesla</th>\n",
       "      <td>TSLA</td>\n",
       "      <td>0</td>\n",
       "      <td>0.10</td>\n",
       "    </tr>\n",
       "    <tr>\n",
       "      <th>Apple</th>\n",
       "      <td>AAPL</td>\n",
       "      <td>123</td>\n",
       "      <td>0.05</td>\n",
       "    </tr>\n",
       "    <tr>\n",
       "      <th>Microsoft</th>\n",
       "      <td>MSFT</td>\n",
       "      <td>100</td>\n",
       "      <td>0.07</td>\n",
       "    </tr>\n",
       "  </tbody>\n",
       "</table>\n",
       "</div>"
      ],
      "text/plain": [
       "          ticker  price  return\n",
       "Tesla       TSLA      0    0.10\n",
       "Apple       AAPL    123    0.05\n",
       "Microsoft   MSFT    100    0.07"
      ]
     },
     "execution_count": 31,
     "metadata": {},
     "output_type": "execute_result"
    }
   ],
   "source": [
    "newdf.loc['Apple','price'] = 123\n",
    "newdf"
   ]
  },
  {
   "cell_type": "markdown",
   "id": "8a9a6744",
   "metadata": {},
   "source": [
    "Will not cause sub to change:"
   ]
  },
  {
   "cell_type": "code",
   "execution_count": 32,
   "id": "e2fed89a",
   "metadata": {},
   "outputs": [
    {
     "data": {
      "text/plain": [
       "Tesla           0\n",
       "Apple        2000\n",
       "Microsoft     100\n",
       "Name: price, dtype: int64"
      ]
     },
     "execution_count": 32,
     "metadata": {},
     "output_type": "execute_result"
    }
   ],
   "source": [
    "sub"
   ]
  },
  {
   "cell_type": "markdown",
   "id": "02587959",
   "metadata": {},
   "source": [
    "# Filtering on a MultiIndex"
   ]
  },
  {
   "cell_type": "markdown",
   "id": "f07b31e4",
   "metadata": {},
   "source": [
    "So far, the all the dataframes we've seen have had a one-dimensional index (a signle column). Dataframes can have a higher-dimensional index, and when they do, Pandas calls that index a MultiIndex (for a more thorough tutorial on MultiIndex, see https://pandas.pydata.org/pandas-docs/stable/user_guide/advanced.html)\n",
    "\n",
    "Let's create an example dataframe with a MultiIndex. Below, we create the MultiIndex using the ``pd.MultiIndex.from_product()`` function, but there are several other ways of creating one (see the link above)."
   ]
  },
  {
   "cell_type": "code",
   "execution_count": 33,
   "id": "3003e84f",
   "metadata": {},
   "outputs": [
    {
     "data": {
      "text/html": [
       "<div>\n",
       "<style scoped>\n",
       "    .dataframe tbody tr th:only-of-type {\n",
       "        vertical-align: middle;\n",
       "    }\n",
       "\n",
       "    .dataframe tbody tr th {\n",
       "        vertical-align: top;\n",
       "    }\n",
       "\n",
       "    .dataframe thead th {\n",
       "        text-align: right;\n",
       "    }\n",
       "</style>\n",
       "<table border=\"1\" class=\"dataframe\">\n",
       "  <thead>\n",
       "    <tr style=\"text-align: right;\">\n",
       "      <th></th>\n",
       "      <th></th>\n",
       "      <th>A</th>\n",
       "      <th>B</th>\n",
       "      <th>C</th>\n",
       "    </tr>\n",
       "    <tr>\n",
       "      <th>ticker</th>\n",
       "      <th>year</th>\n",
       "      <th></th>\n",
       "      <th></th>\n",
       "      <th></th>\n",
       "    </tr>\n",
       "  </thead>\n",
       "  <tbody>\n",
       "    <tr>\n",
       "      <th rowspan=\"3\" valign=\"top\">AAPL</th>\n",
       "      <th>2007</th>\n",
       "      <td>0.116294</td>\n",
       "      <td>0.686215</td>\n",
       "      <td>0.323383</td>\n",
       "    </tr>\n",
       "    <tr>\n",
       "      <th>2008</th>\n",
       "      <td>0.343762</td>\n",
       "      <td>0.697231</td>\n",
       "      <td>0.670671</td>\n",
       "    </tr>\n",
       "    <tr>\n",
       "      <th>2009</th>\n",
       "      <td>0.419409</td>\n",
       "      <td>0.657433</td>\n",
       "      <td>0.987052</td>\n",
       "    </tr>\n",
       "    <tr>\n",
       "      <th rowspan=\"3\" valign=\"top\">TSLA</th>\n",
       "      <th>2007</th>\n",
       "      <td>0.994865</td>\n",
       "      <td>0.463342</td>\n",
       "      <td>0.093536</td>\n",
       "    </tr>\n",
       "    <tr>\n",
       "      <th>2008</th>\n",
       "      <td>0.762471</td>\n",
       "      <td>0.623193</td>\n",
       "      <td>0.221052</td>\n",
       "    </tr>\n",
       "    <tr>\n",
       "      <th>2009</th>\n",
       "      <td>0.439225</td>\n",
       "      <td>0.659502</td>\n",
       "      <td>0.111453</td>\n",
       "    </tr>\n",
       "    <tr>\n",
       "      <th rowspan=\"3\" valign=\"top\">MSFT</th>\n",
       "      <th>2007</th>\n",
       "      <td>0.006004</td>\n",
       "      <td>0.500773</td>\n",
       "      <td>0.291589</td>\n",
       "    </tr>\n",
       "    <tr>\n",
       "      <th>2008</th>\n",
       "      <td>0.861580</td>\n",
       "      <td>0.300969</td>\n",
       "      <td>0.346424</td>\n",
       "    </tr>\n",
       "    <tr>\n",
       "      <th>2009</th>\n",
       "      <td>0.693928</td>\n",
       "      <td>0.514345</td>\n",
       "      <td>0.973823</td>\n",
       "    </tr>\n",
       "  </tbody>\n",
       "</table>\n",
       "</div>"
      ],
      "text/plain": [
       "                    A         B         C\n",
       "ticker year                              \n",
       "AAPL   2007  0.116294  0.686215  0.323383\n",
       "       2008  0.343762  0.697231  0.670671\n",
       "       2009  0.419409  0.657433  0.987052\n",
       "TSLA   2007  0.994865  0.463342  0.093536\n",
       "       2008  0.762471  0.623193  0.221052\n",
       "       2009  0.439225  0.659502  0.111453\n",
       "MSFT   2007  0.006004  0.500773  0.291589\n",
       "       2008  0.861580  0.300969  0.346424\n",
       "       2009  0.693928  0.514345  0.973823"
      ]
     },
     "execution_count": 33,
     "metadata": {},
     "output_type": "execute_result"
    }
   ],
   "source": [
    "m = pd.DataFrame(data = np.random.rand(9,3), \n",
    "                 columns = list('ABC'),\n",
    "                 index = pd.MultiIndex.from_product([['AAPL','TSLA','MSFT'], [2007,2008,2009]],\n",
    "                                                    names = ['ticker','year']\n",
    "                                                   )\n",
    "                )\n",
    "m"
   ]
  },
  {
   "cell_type": "markdown",
   "id": "8ad24458",
   "metadata": {},
   "source": [
    "Now, the index has two columns instead of one:"
   ]
  },
  {
   "cell_type": "code",
   "execution_count": 34,
   "id": "bdbd8c78",
   "metadata": {},
   "outputs": [
    {
     "data": {
      "text/plain": [
       "MultiIndex([('AAPL', 2007),\n",
       "            ('AAPL', 2008),\n",
       "            ('AAPL', 2009),\n",
       "            ('TSLA', 2007),\n",
       "            ('TSLA', 2008),\n",
       "            ('TSLA', 2009),\n",
       "            ('MSFT', 2007),\n",
       "            ('MSFT', 2008),\n",
       "            ('MSFT', 2009)],\n",
       "           names=['ticker', 'year'])"
      ]
     },
     "execution_count": 34,
     "metadata": {},
     "output_type": "execute_result"
    }
   ],
   "source": [
    "m.index"
   ]
  },
  {
   "cell_type": "markdown",
   "id": "2a46859c",
   "metadata": {},
   "source": [
    "Each entry (row) in the index is a tuple (note the parentheses):"
   ]
  },
  {
   "cell_type": "code",
   "execution_count": 35,
   "id": "caa46711",
   "metadata": {},
   "outputs": [
    {
     "data": {
      "text/plain": [
       "('AAPL', 2007)"
      ]
     },
     "execution_count": 35,
     "metadata": {},
     "output_type": "execute_result"
    }
   ],
   "source": [
    "m.index[0]"
   ]
  },
  {
   "cell_type": "markdown",
   "id": "825d7bba",
   "metadata": {},
   "source": [
    "This means that if we want to use index labels with ``.loc`` to extract some subset of a dataframe, we need to use a tuple when we specify those index labels: "
   ]
  },
  {
   "cell_type": "code",
   "execution_count": 36,
   "id": "a79e924e",
   "metadata": {},
   "outputs": [
    {
     "data": {
      "text/plain": [
       "A    0.116294\n",
       "B    0.686215\n",
       "C    0.323383\n",
       "Name: (AAPL, 2007), dtype: float64"
      ]
     },
     "execution_count": 36,
     "metadata": {},
     "output_type": "execute_result"
    }
   ],
   "source": [
    "m.loc[('AAPL',2007), :]"
   ]
  },
  {
   "cell_type": "markdown",
   "id": "c1beeca5",
   "metadata": {},
   "source": [
    "We can use slices on each dimension of the index, though you should make sure that you sorted your data by the values in the index first (using the ``sort_index()`` function:"
   ]
  },
  {
   "cell_type": "code",
   "execution_count": 37,
   "id": "764beea6",
   "metadata": {},
   "outputs": [
    {
     "data": {
      "text/html": [
       "<div>\n",
       "<style scoped>\n",
       "    .dataframe tbody tr th:only-of-type {\n",
       "        vertical-align: middle;\n",
       "    }\n",
       "\n",
       "    .dataframe tbody tr th {\n",
       "        vertical-align: top;\n",
       "    }\n",
       "\n",
       "    .dataframe thead th {\n",
       "        text-align: right;\n",
       "    }\n",
       "</style>\n",
       "<table border=\"1\" class=\"dataframe\">\n",
       "  <thead>\n",
       "    <tr style=\"text-align: right;\">\n",
       "      <th></th>\n",
       "      <th></th>\n",
       "      <th>A</th>\n",
       "      <th>B</th>\n",
       "      <th>C</th>\n",
       "    </tr>\n",
       "    <tr>\n",
       "      <th>ticker</th>\n",
       "      <th>year</th>\n",
       "      <th></th>\n",
       "      <th></th>\n",
       "      <th></th>\n",
       "    </tr>\n",
       "  </thead>\n",
       "  <tbody>\n",
       "    <tr>\n",
       "      <th rowspan=\"3\" valign=\"top\">AAPL</th>\n",
       "      <th>2007</th>\n",
       "      <td>0.116294</td>\n",
       "      <td>0.686215</td>\n",
       "      <td>0.323383</td>\n",
       "    </tr>\n",
       "    <tr>\n",
       "      <th>2008</th>\n",
       "      <td>0.343762</td>\n",
       "      <td>0.697231</td>\n",
       "      <td>0.670671</td>\n",
       "    </tr>\n",
       "    <tr>\n",
       "      <th>2009</th>\n",
       "      <td>0.419409</td>\n",
       "      <td>0.657433</td>\n",
       "      <td>0.987052</td>\n",
       "    </tr>\n",
       "    <tr>\n",
       "      <th rowspan=\"3\" valign=\"top\">MSFT</th>\n",
       "      <th>2007</th>\n",
       "      <td>0.006004</td>\n",
       "      <td>0.500773</td>\n",
       "      <td>0.291589</td>\n",
       "    </tr>\n",
       "    <tr>\n",
       "      <th>2008</th>\n",
       "      <td>0.861580</td>\n",
       "      <td>0.300969</td>\n",
       "      <td>0.346424</td>\n",
       "    </tr>\n",
       "    <tr>\n",
       "      <th>2009</th>\n",
       "      <td>0.693928</td>\n",
       "      <td>0.514345</td>\n",
       "      <td>0.973823</td>\n",
       "    </tr>\n",
       "    <tr>\n",
       "      <th rowspan=\"3\" valign=\"top\">TSLA</th>\n",
       "      <th>2007</th>\n",
       "      <td>0.994865</td>\n",
       "      <td>0.463342</td>\n",
       "      <td>0.093536</td>\n",
       "    </tr>\n",
       "    <tr>\n",
       "      <th>2008</th>\n",
       "      <td>0.762471</td>\n",
       "      <td>0.623193</td>\n",
       "      <td>0.221052</td>\n",
       "    </tr>\n",
       "    <tr>\n",
       "      <th>2009</th>\n",
       "      <td>0.439225</td>\n",
       "      <td>0.659502</td>\n",
       "      <td>0.111453</td>\n",
       "    </tr>\n",
       "  </tbody>\n",
       "</table>\n",
       "</div>"
      ],
      "text/plain": [
       "                    A         B         C\n",
       "ticker year                              \n",
       "AAPL   2007  0.116294  0.686215  0.323383\n",
       "       2008  0.343762  0.697231  0.670671\n",
       "       2009  0.419409  0.657433  0.987052\n",
       "MSFT   2007  0.006004  0.500773  0.291589\n",
       "       2008  0.861580  0.300969  0.346424\n",
       "       2009  0.693928  0.514345  0.973823\n",
       "TSLA   2007  0.994865  0.463342  0.093536\n",
       "       2008  0.762471  0.623193  0.221052\n",
       "       2009  0.439225  0.659502  0.111453"
      ]
     },
     "execution_count": 37,
     "metadata": {},
     "output_type": "execute_result"
    }
   ],
   "source": [
    "m = m.sort_index()\n",
    "m"
   ]
  },
  {
   "cell_type": "markdown",
   "id": "dc8dfe73",
   "metadata": {},
   "source": [
    "I recommend using the ``slice()`` to slide on each dimension of the index. Below, ``slice(None)`` means no condition should be imposed on that dimension of the index:"
   ]
  },
  {
   "cell_type": "code",
   "execution_count": 38,
   "id": "8cd2e7fd",
   "metadata": {},
   "outputs": [
    {
     "data": {
      "text/html": [
       "<div>\n",
       "<style scoped>\n",
       "    .dataframe tbody tr th:only-of-type {\n",
       "        vertical-align: middle;\n",
       "    }\n",
       "\n",
       "    .dataframe tbody tr th {\n",
       "        vertical-align: top;\n",
       "    }\n",
       "\n",
       "    .dataframe thead th {\n",
       "        text-align: right;\n",
       "    }\n",
       "</style>\n",
       "<table border=\"1\" class=\"dataframe\">\n",
       "  <thead>\n",
       "    <tr style=\"text-align: right;\">\n",
       "      <th></th>\n",
       "      <th></th>\n",
       "      <th>A</th>\n",
       "      <th>B</th>\n",
       "      <th>C</th>\n",
       "    </tr>\n",
       "    <tr>\n",
       "      <th>ticker</th>\n",
       "      <th>year</th>\n",
       "      <th></th>\n",
       "      <th></th>\n",
       "      <th></th>\n",
       "    </tr>\n",
       "  </thead>\n",
       "  <tbody>\n",
       "    <tr>\n",
       "      <th rowspan=\"3\" valign=\"top\">AAPL</th>\n",
       "      <th>2007</th>\n",
       "      <td>0.116294</td>\n",
       "      <td>0.686215</td>\n",
       "      <td>0.323383</td>\n",
       "    </tr>\n",
       "    <tr>\n",
       "      <th>2008</th>\n",
       "      <td>0.343762</td>\n",
       "      <td>0.697231</td>\n",
       "      <td>0.670671</td>\n",
       "    </tr>\n",
       "    <tr>\n",
       "      <th>2009</th>\n",
       "      <td>0.419409</td>\n",
       "      <td>0.657433</td>\n",
       "      <td>0.987052</td>\n",
       "    </tr>\n",
       "    <tr>\n",
       "      <th rowspan=\"3\" valign=\"top\">MSFT</th>\n",
       "      <th>2007</th>\n",
       "      <td>0.006004</td>\n",
       "      <td>0.500773</td>\n",
       "      <td>0.291589</td>\n",
       "    </tr>\n",
       "    <tr>\n",
       "      <th>2008</th>\n",
       "      <td>0.861580</td>\n",
       "      <td>0.300969</td>\n",
       "      <td>0.346424</td>\n",
       "    </tr>\n",
       "    <tr>\n",
       "      <th>2009</th>\n",
       "      <td>0.693928</td>\n",
       "      <td>0.514345</td>\n",
       "      <td>0.973823</td>\n",
       "    </tr>\n",
       "  </tbody>\n",
       "</table>\n",
       "</div>"
      ],
      "text/plain": [
       "                    A         B         C\n",
       "ticker year                              \n",
       "AAPL   2007  0.116294  0.686215  0.323383\n",
       "       2008  0.343762  0.697231  0.670671\n",
       "       2009  0.419409  0.657433  0.987052\n",
       "MSFT   2007  0.006004  0.500773  0.291589\n",
       "       2008  0.861580  0.300969  0.346424\n",
       "       2009  0.693928  0.514345  0.973823"
      ]
     },
     "execution_count": 38,
     "metadata": {},
     "output_type": "execute_result"
    }
   ],
   "source": [
    "m.loc[(slice('AAPL','MSFT'), slice(None)), :]"
   ]
  },
  {
   "cell_type": "code",
   "execution_count": 39,
   "id": "fb63f671",
   "metadata": {},
   "outputs": [
    {
     "data": {
      "text/html": [
       "<div>\n",
       "<style scoped>\n",
       "    .dataframe tbody tr th:only-of-type {\n",
       "        vertical-align: middle;\n",
       "    }\n",
       "\n",
       "    .dataframe tbody tr th {\n",
       "        vertical-align: top;\n",
       "    }\n",
       "\n",
       "    .dataframe thead th {\n",
       "        text-align: right;\n",
       "    }\n",
       "</style>\n",
       "<table border=\"1\" class=\"dataframe\">\n",
       "  <thead>\n",
       "    <tr style=\"text-align: right;\">\n",
       "      <th></th>\n",
       "      <th></th>\n",
       "      <th>A</th>\n",
       "      <th>B</th>\n",
       "      <th>C</th>\n",
       "    </tr>\n",
       "    <tr>\n",
       "      <th>ticker</th>\n",
       "      <th>year</th>\n",
       "      <th></th>\n",
       "      <th></th>\n",
       "      <th></th>\n",
       "    </tr>\n",
       "  </thead>\n",
       "  <tbody>\n",
       "    <tr>\n",
       "      <th rowspan=\"2\" valign=\"top\">AAPL</th>\n",
       "      <th>2008</th>\n",
       "      <td>0.343762</td>\n",
       "      <td>0.697231</td>\n",
       "      <td>0.670671</td>\n",
       "    </tr>\n",
       "    <tr>\n",
       "      <th>2009</th>\n",
       "      <td>0.419409</td>\n",
       "      <td>0.657433</td>\n",
       "      <td>0.987052</td>\n",
       "    </tr>\n",
       "    <tr>\n",
       "      <th rowspan=\"2\" valign=\"top\">MSFT</th>\n",
       "      <th>2008</th>\n",
       "      <td>0.861580</td>\n",
       "      <td>0.300969</td>\n",
       "      <td>0.346424</td>\n",
       "    </tr>\n",
       "    <tr>\n",
       "      <th>2009</th>\n",
       "      <td>0.693928</td>\n",
       "      <td>0.514345</td>\n",
       "      <td>0.973823</td>\n",
       "    </tr>\n",
       "    <tr>\n",
       "      <th rowspan=\"2\" valign=\"top\">TSLA</th>\n",
       "      <th>2008</th>\n",
       "      <td>0.762471</td>\n",
       "      <td>0.623193</td>\n",
       "      <td>0.221052</td>\n",
       "    </tr>\n",
       "    <tr>\n",
       "      <th>2009</th>\n",
       "      <td>0.439225</td>\n",
       "      <td>0.659502</td>\n",
       "      <td>0.111453</td>\n",
       "    </tr>\n",
       "  </tbody>\n",
       "</table>\n",
       "</div>"
      ],
      "text/plain": [
       "                    A         B         C\n",
       "ticker year                              \n",
       "AAPL   2008  0.343762  0.697231  0.670671\n",
       "       2009  0.419409  0.657433  0.987052\n",
       "MSFT   2008  0.861580  0.300969  0.346424\n",
       "       2009  0.693928  0.514345  0.973823\n",
       "TSLA   2008  0.762471  0.623193  0.221052\n",
       "       2009  0.439225  0.659502  0.111453"
      ]
     },
     "execution_count": 39,
     "metadata": {},
     "output_type": "execute_result"
    }
   ],
   "source": [
    "m.loc[(slice(None), slice(2008,2010)), :]"
   ]
  },
  {
   "cell_type": "code",
   "execution_count": 40,
   "id": "26f388ef",
   "metadata": {},
   "outputs": [
    {
     "data": {
      "text/html": [
       "<div>\n",
       "<style scoped>\n",
       "    .dataframe tbody tr th:only-of-type {\n",
       "        vertical-align: middle;\n",
       "    }\n",
       "\n",
       "    .dataframe tbody tr th {\n",
       "        vertical-align: top;\n",
       "    }\n",
       "\n",
       "    .dataframe thead th {\n",
       "        text-align: right;\n",
       "    }\n",
       "</style>\n",
       "<table border=\"1\" class=\"dataframe\">\n",
       "  <thead>\n",
       "    <tr style=\"text-align: right;\">\n",
       "      <th></th>\n",
       "      <th></th>\n",
       "      <th>A</th>\n",
       "      <th>B</th>\n",
       "      <th>C</th>\n",
       "    </tr>\n",
       "    <tr>\n",
       "      <th>ticker</th>\n",
       "      <th>year</th>\n",
       "      <th></th>\n",
       "      <th></th>\n",
       "      <th></th>\n",
       "    </tr>\n",
       "  </thead>\n",
       "  <tbody>\n",
       "    <tr>\n",
       "      <th rowspan=\"2\" valign=\"top\">AAPL</th>\n",
       "      <th>2008</th>\n",
       "      <td>0.343762</td>\n",
       "      <td>0.697231</td>\n",
       "      <td>0.670671</td>\n",
       "    </tr>\n",
       "    <tr>\n",
       "      <th>2009</th>\n",
       "      <td>0.419409</td>\n",
       "      <td>0.657433</td>\n",
       "      <td>0.987052</td>\n",
       "    </tr>\n",
       "    <tr>\n",
       "      <th rowspan=\"2\" valign=\"top\">MSFT</th>\n",
       "      <th>2008</th>\n",
       "      <td>0.861580</td>\n",
       "      <td>0.300969</td>\n",
       "      <td>0.346424</td>\n",
       "    </tr>\n",
       "    <tr>\n",
       "      <th>2009</th>\n",
       "      <td>0.693928</td>\n",
       "      <td>0.514345</td>\n",
       "      <td>0.973823</td>\n",
       "    </tr>\n",
       "  </tbody>\n",
       "</table>\n",
       "</div>"
      ],
      "text/plain": [
       "                    A         B         C\n",
       "ticker year                              \n",
       "AAPL   2008  0.343762  0.697231  0.670671\n",
       "       2009  0.419409  0.657433  0.987052\n",
       "MSFT   2008  0.861580  0.300969  0.346424\n",
       "       2009  0.693928  0.514345  0.973823"
      ]
     },
     "execution_count": 40,
     "metadata": {},
     "output_type": "execute_result"
    }
   ],
   "source": [
    "m.loc[(slice('AAPL','MSFT'), slice(2008,2010)), :]"
   ]
  },
  {
   "cell_type": "markdown",
   "id": "074f7247",
   "metadata": {},
   "source": [
    "Though indexing on the first dimension of the index is a lot easier:"
   ]
  },
  {
   "cell_type": "code",
   "execution_count": 41,
   "id": "fddfc475",
   "metadata": {},
   "outputs": [
    {
     "data": {
      "text/html": [
       "<div>\n",
       "<style scoped>\n",
       "    .dataframe tbody tr th:only-of-type {\n",
       "        vertical-align: middle;\n",
       "    }\n",
       "\n",
       "    .dataframe tbody tr th {\n",
       "        vertical-align: top;\n",
       "    }\n",
       "\n",
       "    .dataframe thead th {\n",
       "        text-align: right;\n",
       "    }\n",
       "</style>\n",
       "<table border=\"1\" class=\"dataframe\">\n",
       "  <thead>\n",
       "    <tr style=\"text-align: right;\">\n",
       "      <th></th>\n",
       "      <th></th>\n",
       "      <th>A</th>\n",
       "      <th>B</th>\n",
       "      <th>C</th>\n",
       "    </tr>\n",
       "    <tr>\n",
       "      <th>ticker</th>\n",
       "      <th>year</th>\n",
       "      <th></th>\n",
       "      <th></th>\n",
       "      <th></th>\n",
       "    </tr>\n",
       "  </thead>\n",
       "  <tbody>\n",
       "    <tr>\n",
       "      <th rowspan=\"3\" valign=\"top\">AAPL</th>\n",
       "      <th>2007</th>\n",
       "      <td>0.116294</td>\n",
       "      <td>0.686215</td>\n",
       "      <td>0.323383</td>\n",
       "    </tr>\n",
       "    <tr>\n",
       "      <th>2008</th>\n",
       "      <td>0.343762</td>\n",
       "      <td>0.697231</td>\n",
       "      <td>0.670671</td>\n",
       "    </tr>\n",
       "    <tr>\n",
       "      <th>2009</th>\n",
       "      <td>0.419409</td>\n",
       "      <td>0.657433</td>\n",
       "      <td>0.987052</td>\n",
       "    </tr>\n",
       "    <tr>\n",
       "      <th rowspan=\"3\" valign=\"top\">MSFT</th>\n",
       "      <th>2007</th>\n",
       "      <td>0.006004</td>\n",
       "      <td>0.500773</td>\n",
       "      <td>0.291589</td>\n",
       "    </tr>\n",
       "    <tr>\n",
       "      <th>2008</th>\n",
       "      <td>0.861580</td>\n",
       "      <td>0.300969</td>\n",
       "      <td>0.346424</td>\n",
       "    </tr>\n",
       "    <tr>\n",
       "      <th>2009</th>\n",
       "      <td>0.693928</td>\n",
       "      <td>0.514345</td>\n",
       "      <td>0.973823</td>\n",
       "    </tr>\n",
       "  </tbody>\n",
       "</table>\n",
       "</div>"
      ],
      "text/plain": [
       "                    A         B         C\n",
       "ticker year                              \n",
       "AAPL   2007  0.116294  0.686215  0.323383\n",
       "       2008  0.343762  0.697231  0.670671\n",
       "       2009  0.419409  0.657433  0.987052\n",
       "MSFT   2007  0.006004  0.500773  0.291589\n",
       "       2008  0.861580  0.300969  0.346424\n",
       "       2009  0.693928  0.514345  0.973823"
      ]
     },
     "execution_count": 41,
     "metadata": {},
     "output_type": "execute_result"
    }
   ],
   "source": [
    "m.loc['AAPL':'MSFT']"
   ]
  },
  {
   "cell_type": "markdown",
   "id": "5c64206d",
   "metadata": {},
   "source": [
    "However, the convenient syntax above does not work for the other dimensions of the index (e.g. ``m.loc[2008:2010]`` will not work)."
   ]
  }
 ],
 "metadata": {
  "kernelspec": {
   "display_name": "Python 3",
   "language": "python",
   "name": "python3"
  },
  "language_info": {
   "codemirror_mode": {
    "name": "ipython",
    "version": 3
   },
   "file_extension": ".py",
   "mimetype": "text/x-python",
   "name": "python",
   "nbconvert_exporter": "python",
   "pygments_lexer": "ipython3",
   "version": "3.9.7"
  },
  "toc": {
   "base_numbering": 1,
   "nav_menu": {},
   "number_sections": true,
   "sideBar": true,
   "skip_h1_title": false,
   "title_cell": "Table of Contents",
   "title_sidebar": "Contents",
   "toc_cell": true,
   "toc_position": {},
   "toc_section_display": true,
   "toc_window_display": false
  }
 },
 "nbformat": 4,
 "nbformat_minor": 5
}
