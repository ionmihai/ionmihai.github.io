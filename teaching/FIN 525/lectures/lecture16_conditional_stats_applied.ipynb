{
 "cells": [
  {
   "cell_type": "markdown",
   "metadata": {
    "toc": true
   },
   "source": [
    "<h1>Table of Contents<span class=\"tocSkip\"></span></h1>\n",
    "<div class=\"toc\"><ul class=\"toc-item\"><li><span><a href=\"#Lecture-overview\" data-toc-modified-id=\"Lecture-overview-1\"><span class=\"toc-item-num\">1&nbsp;&nbsp;</span>Lecture overview</a></span></li><li><span><a href=\"#Preliminaries\" data-toc-modified-id=\"Preliminaries-2\"><span class=\"toc-item-num\">2&nbsp;&nbsp;</span>Preliminaries</a></span></li><li><span><a href=\"#Subperiod-analysis\" data-toc-modified-id=\"Subperiod-analysis-3\"><span class=\"toc-item-num\">3&nbsp;&nbsp;</span>Subperiod analysis</a></span></li><li><span><a href=\"#Conditioning-on-cross-sectional-information\" data-toc-modified-id=\"Conditioning-on-cross-sectional-information-4\"><span class=\"toc-item-num\">4&nbsp;&nbsp;</span>Conditioning on cross-sectional information</a></span></li><li><span><a href=\"#Conditioning-on-both-time-and-the-cross-section\" data-toc-modified-id=\"Conditioning-on-both-time-and-the-cross-section-5\"><span class=\"toc-item-num\">5&nbsp;&nbsp;</span>Conditioning on both time and the cross-section</a></span></li><li><span><a href=\"#Advanced-&quot;binning&quot;-example\" data-toc-modified-id=\"Advanced-&quot;binning&quot;-example-6\"><span class=\"toc-item-num\">6&nbsp;&nbsp;</span>Advanced \"binning\" example</a></span><ul class=\"toc-item\"><li><span><a href=\"#Multi-dimensional-bins\" data-toc-modified-id=\"Multi-dimensional-bins-6.1\"><span class=\"toc-item-num\">6.1&nbsp;&nbsp;</span>Multi-dimensional bins</a></span></li></ul></li></ul></div>"
   ]
  },
  {
   "cell_type": "markdown",
   "metadata": {},
   "source": [
    "# Lecture overview\n",
    "\n",
    "Loosely speaking, \"conditional descriptive statistics\" are statistics calculated for subsamples (subsets) of your data. The information you use to create these subsamples is referred to as the \"conditioning information\". In this lecture, we showcase these types of descriptive statistics using the tools learned in the previous lecture, and a panel dataset: the \"compa\" file, which contains accounting information for multiple firms over multiple years. \n",
    "\n",
    "In the previous lecture we calculated conditional statistics in situations where the variable which dictated what observations are in what subsample already exists in the dataset. For example, we calculated average returns for each industry separately. In that example, the returns of each individual industry constitute a separate subsample of our data. The \"conditioning information\" which allowed us to specify which observation was in what sample was the \"Industry\" variable (which already existed in the dataset).\n",
    "\n",
    "In this lecture, we will focus on examples where we have to create ourselves the variable which specifies which observation is in what sample. "
   ]
  },
  {
   "cell_type": "markdown",
   "metadata": {},
   "source": [
    "# Preliminaries"
   ]
  },
  {
   "cell_type": "code",
   "execution_count": 1,
   "metadata": {},
   "outputs": [],
   "source": [
    "import pandas as pd\n",
    "import numpy as np"
   ]
  },
  {
   "cell_type": "markdown",
   "metadata": {},
   "source": [
    "Get raw data:"
   ]
  },
  {
   "cell_type": "code",
   "execution_count": 2,
   "metadata": {},
   "outputs": [
    {
     "data": {
      "text/plain": [
       "permno      float64\n",
       "datadate     object\n",
       "gvkey        object\n",
       "tic          object\n",
       "conm         object\n",
       "at          float64\n",
       "capx        float64\n",
       "che         float64\n",
       "cogs        float64\n",
       "csho        float64\n",
       "dlc         float64\n",
       "dltt        float64\n",
       "dp          float64\n",
       "dvc         float64\n",
       "ib          float64\n",
       "oancf       float64\n",
       "ppegt       float64\n",
       "ppent       float64\n",
       "revt        float64\n",
       "sale        float64\n",
       "fic          object\n",
       "prcc_f      float64\n",
       "sich        float64\n",
       "dtype: object"
      ]
     },
     "execution_count": 2,
     "metadata": {},
     "output_type": "execute_result"
    }
   ],
   "source": [
    "comp_raw = pd.read_pickle('../data/compa.zip')\n",
    "comp_raw.dtypes"
   ]
  },
  {
   "cell_type": "markdown",
   "metadata": {},
   "source": [
    "Clean it up a bit:"
   ]
  },
  {
   "cell_type": "code",
   "execution_count": 3,
   "metadata": {},
   "outputs": [
    {
     "data": {
      "text/html": [
       "<div>\n",
       "<style scoped>\n",
       "    .dataframe tbody tr th:only-of-type {\n",
       "        vertical-align: middle;\n",
       "    }\n",
       "\n",
       "    .dataframe tbody tr th {\n",
       "        vertical-align: top;\n",
       "    }\n",
       "\n",
       "    .dataframe thead th {\n",
       "        text-align: right;\n",
       "    }\n",
       "</style>\n",
       "<table border=\"1\" class=\"dataframe\">\n",
       "  <thead>\n",
       "    <tr style=\"text-align: right;\">\n",
       "      <th></th>\n",
       "      <th>permno</th>\n",
       "      <th>datadate</th>\n",
       "      <th>gvkey</th>\n",
       "      <th>tic</th>\n",
       "      <th>conm</th>\n",
       "      <th>at</th>\n",
       "      <th>capx</th>\n",
       "      <th>che</th>\n",
       "      <th>cogs</th>\n",
       "      <th>csho</th>\n",
       "      <th>...</th>\n",
       "      <th>ib</th>\n",
       "      <th>oancf</th>\n",
       "      <th>ppegt</th>\n",
       "      <th>ppent</th>\n",
       "      <th>revt</th>\n",
       "      <th>sale</th>\n",
       "      <th>fic</th>\n",
       "      <th>prcc_f</th>\n",
       "      <th>sich</th>\n",
       "      <th>year</th>\n",
       "    </tr>\n",
       "  </thead>\n",
       "  <tbody>\n",
       "    <tr>\n",
       "      <th>188730</th>\n",
       "      <td>10000.0</td>\n",
       "      <td>1986-10-31</td>\n",
       "      <td>013007</td>\n",
       "      <td>OMFGA</td>\n",
       "      <td>OPTIMUM MANUFACTURING  -CL A</td>\n",
       "      <td>2.115</td>\n",
       "      <td>0.240</td>\n",
       "      <td>0.348</td>\n",
       "      <td>0.511</td>\n",
       "      <td>3.843</td>\n",
       "      <td>...</td>\n",
       "      <td>-0.730</td>\n",
       "      <td>NaN</td>\n",
       "      <td>0.328</td>\n",
       "      <td>0.189</td>\n",
       "      <td>1.026</td>\n",
       "      <td>1.026</td>\n",
       "      <td>USA</td>\n",
       "      <td>0.75</td>\n",
       "      <td>NaN</td>\n",
       "      <td>1986</td>\n",
       "    </tr>\n",
       "    <tr>\n",
       "      <th>188550</th>\n",
       "      <td>10001.0</td>\n",
       "      <td>1986-06-30</td>\n",
       "      <td>012994</td>\n",
       "      <td>EGAS</td>\n",
       "      <td>GAS NATURAL INC</td>\n",
       "      <td>12.242</td>\n",
       "      <td>0.551</td>\n",
       "      <td>0.746</td>\n",
       "      <td>19.565</td>\n",
       "      <td>0.985</td>\n",
       "      <td>...</td>\n",
       "      <td>0.669</td>\n",
       "      <td>NaN</td>\n",
       "      <td>13.021</td>\n",
       "      <td>8.216</td>\n",
       "      <td>21.460</td>\n",
       "      <td>21.460</td>\n",
       "      <td>USA</td>\n",
       "      <td>6.00</td>\n",
       "      <td>NaN</td>\n",
       "      <td>1986</td>\n",
       "    </tr>\n",
       "  </tbody>\n",
       "</table>\n",
       "<p>2 rows × 24 columns</p>\n",
       "</div>"
      ],
      "text/plain": [
       "         permno    datadate   gvkey    tic                          conm  \\\n",
       "188730  10000.0  1986-10-31  013007  OMFGA  OPTIMUM MANUFACTURING  -CL A   \n",
       "188550  10001.0  1986-06-30  012994   EGAS               GAS NATURAL INC   \n",
       "\n",
       "            at   capx    che    cogs   csho  ...     ib  oancf   ppegt  ppent  \\\n",
       "188730   2.115  0.240  0.348   0.511  3.843  ... -0.730    NaN   0.328  0.189   \n",
       "188550  12.242  0.551  0.746  19.565  0.985  ...  0.669    NaN  13.021  8.216   \n",
       "\n",
       "          revt    sale  fic  prcc_f  sich  year  \n",
       "188730   1.026   1.026  USA    0.75   NaN  1986  \n",
       "188550  21.460  21.460  USA    6.00   NaN  1986  \n",
       "\n",
       "[2 rows x 24 columns]"
      ]
     },
     "execution_count": 3,
     "metadata": {},
     "output_type": "execute_result"
    }
   ],
   "source": [
    "# Sort by firm identifier and date\n",
    "comp_raw.sort_values(['permno','datadate'], inplace = True)\n",
    "# Extract year from the date\n",
    "comp_raw['year'] = pd.to_datetime(comp_raw['datadate']).dt.year\n",
    "comp_raw.head(2)"
   ]
  },
  {
   "cell_type": "markdown",
   "metadata": {},
   "source": [
    "Create a new dataframe with firm and year identifiers for firms with positive total assets:"
   ]
  },
  {
   "cell_type": "code",
   "execution_count": 4,
   "metadata": {},
   "outputs": [],
   "source": [
    "comp = comp_raw.loc[comp_raw['at']>0, ['permno','year', 'sich']].copy()"
   ]
  },
  {
   "cell_type": "markdown",
   "metadata": {},
   "source": [
    "And calculate some key variables:"
   ]
  },
  {
   "cell_type": "code",
   "execution_count": 5,
   "metadata": {},
   "outputs": [],
   "source": [
    "comp['inv'] = comp_raw['capx'] / comp_raw['at']\n",
    "comp['roa'] = comp_raw['ib'] / comp_raw['at']\n",
    "comp['lev'] = (comp_raw['dlc'] + comp_raw['dltt']) / comp_raw['at']\n",
    "comp['cash'] = comp_raw['che'] / comp_raw['at']"
   ]
  },
  {
   "cell_type": "code",
   "execution_count": 6,
   "metadata": {},
   "outputs": [
    {
     "data": {
      "text/html": [
       "<div>\n",
       "<style scoped>\n",
       "    .dataframe tbody tr th:only-of-type {\n",
       "        vertical-align: middle;\n",
       "    }\n",
       "\n",
       "    .dataframe tbody tr th {\n",
       "        vertical-align: top;\n",
       "    }\n",
       "\n",
       "    .dataframe thead th {\n",
       "        text-align: right;\n",
       "    }\n",
       "</style>\n",
       "<table border=\"1\" class=\"dataframe\">\n",
       "  <thead>\n",
       "    <tr style=\"text-align: right;\">\n",
       "      <th></th>\n",
       "      <th>permno</th>\n",
       "      <th>year</th>\n",
       "      <th>sich</th>\n",
       "      <th>inv</th>\n",
       "      <th>roa</th>\n",
       "      <th>lev</th>\n",
       "      <th>cash</th>\n",
       "    </tr>\n",
       "  </thead>\n",
       "  <tbody>\n",
       "    <tr>\n",
       "      <th>count</th>\n",
       "      <td>237017.000000</td>\n",
       "      <td>237017.000000</td>\n",
       "      <td>192174.000000</td>\n",
       "      <td>221486.000000</td>\n",
       "      <td>236472.000000</td>\n",
       "      <td>235458.000000</td>\n",
       "      <td>236417.000000</td>\n",
       "    </tr>\n",
       "    <tr>\n",
       "      <th>mean</th>\n",
       "      <td>59908.145365</td>\n",
       "      <td>1999.543877</td>\n",
       "      <td>4734.864368</td>\n",
       "      <td>0.060206</td>\n",
       "      <td>-0.056431</td>\n",
       "      <td>0.243002</td>\n",
       "      <td>0.174782</td>\n",
       "    </tr>\n",
       "    <tr>\n",
       "      <th>std</th>\n",
       "      <td>28075.843586</td>\n",
       "      <td>11.096752</td>\n",
       "      <td>1986.202863</td>\n",
       "      <td>0.111862</td>\n",
       "      <td>1.494764</td>\n",
       "      <td>0.313886</td>\n",
       "      <td>0.219955</td>\n",
       "    </tr>\n",
       "    <tr>\n",
       "      <th>min</th>\n",
       "      <td>10000.000000</td>\n",
       "      <td>1980.000000</td>\n",
       "      <td>100.000000</td>\n",
       "      <td>-2.093398</td>\n",
       "      <td>-218.000000</td>\n",
       "      <td>-0.050045</td>\n",
       "      <td>-0.069190</td>\n",
       "    </tr>\n",
       "    <tr>\n",
       "      <th>25%</th>\n",
       "      <td>33420.000000</td>\n",
       "      <td>1991.000000</td>\n",
       "      <td>3320.000000</td>\n",
       "      <td>0.011996</td>\n",
       "      <td>-0.032695</td>\n",
       "      <td>0.042258</td>\n",
       "      <td>0.025310</td>\n",
       "    </tr>\n",
       "    <tr>\n",
       "      <th>50%</th>\n",
       "      <td>75049.000000</td>\n",
       "      <td>1999.000000</td>\n",
       "      <td>4581.000000</td>\n",
       "      <td>0.035232</td>\n",
       "      <td>0.018931</td>\n",
       "      <td>0.191382</td>\n",
       "      <td>0.080652</td>\n",
       "    </tr>\n",
       "    <tr>\n",
       "      <th>75%</th>\n",
       "      <td>83492.000000</td>\n",
       "      <td>2008.000000</td>\n",
       "      <td>6321.000000</td>\n",
       "      <td>0.075212</td>\n",
       "      <td>0.061761</td>\n",
       "      <td>0.369135</td>\n",
       "      <td>0.234988</td>\n",
       "    </tr>\n",
       "    <tr>\n",
       "      <th>max</th>\n",
       "      <td>93436.000000</td>\n",
       "      <td>2020.000000</td>\n",
       "      <td>9998.000000</td>\n",
       "      <td>31.000000</td>\n",
       "      <td>226.310379</td>\n",
       "      <td>39.592899</td>\n",
       "      <td>1.000000</td>\n",
       "    </tr>\n",
       "  </tbody>\n",
       "</table>\n",
       "</div>"
      ],
      "text/plain": [
       "              permno           year           sich            inv  \\\n",
       "count  237017.000000  237017.000000  192174.000000  221486.000000   \n",
       "mean    59908.145365    1999.543877    4734.864368       0.060206   \n",
       "std     28075.843586      11.096752    1986.202863       0.111862   \n",
       "min     10000.000000    1980.000000     100.000000      -2.093398   \n",
       "25%     33420.000000    1991.000000    3320.000000       0.011996   \n",
       "50%     75049.000000    1999.000000    4581.000000       0.035232   \n",
       "75%     83492.000000    2008.000000    6321.000000       0.075212   \n",
       "max     93436.000000    2020.000000    9998.000000      31.000000   \n",
       "\n",
       "                 roa            lev           cash  \n",
       "count  236472.000000  235458.000000  236417.000000  \n",
       "mean       -0.056431       0.243002       0.174782  \n",
       "std         1.494764       0.313886       0.219955  \n",
       "min      -218.000000      -0.050045      -0.069190  \n",
       "25%        -0.032695       0.042258       0.025310  \n",
       "50%         0.018931       0.191382       0.080652  \n",
       "75%         0.061761       0.369135       0.234988  \n",
       "max       226.310379      39.592899       1.000000  "
      ]
     },
     "execution_count": 6,
     "metadata": {},
     "output_type": "execute_result"
    }
   ],
   "source": [
    "comp.describe()"
   ]
  },
  {
   "cell_type": "markdown",
   "metadata": {},
   "source": [
    "**Challenge**\n",
    "\n",
    "Winsorize the 'inv','roa','lev','cash' variables at the 1 and 99th percentiles and get full-sample summary statistics for them."
   ]
  },
  {
   "cell_type": "code",
   "execution_count": 7,
   "metadata": {},
   "outputs": [],
   "source": [
    "for var in ['inv','roa','lev','cash']:\n",
    "    comp[f'w_{var}'] = comp[var].clip(lower=comp[var].quantile(0.01), \n",
    "                                    upper=comp[var].quantile(0.99))"
   ]
  },
  {
   "cell_type": "code",
   "execution_count": 8,
   "metadata": {},
   "outputs": [
    {
     "data": {
      "text/html": [
       "<div>\n",
       "<style scoped>\n",
       "    .dataframe tbody tr th:only-of-type {\n",
       "        vertical-align: middle;\n",
       "    }\n",
       "\n",
       "    .dataframe tbody tr th {\n",
       "        vertical-align: top;\n",
       "    }\n",
       "\n",
       "    .dataframe thead th {\n",
       "        text-align: right;\n",
       "    }\n",
       "</style>\n",
       "<table border=\"1\" class=\"dataframe\">\n",
       "  <thead>\n",
       "    <tr style=\"text-align: right;\">\n",
       "      <th></th>\n",
       "      <th>w_inv</th>\n",
       "      <th>w_roa</th>\n",
       "      <th>w_lev</th>\n",
       "      <th>w_cash</th>\n",
       "    </tr>\n",
       "  </thead>\n",
       "  <tbody>\n",
       "    <tr>\n",
       "      <th>mean</th>\n",
       "      <td>0.058342</td>\n",
       "      <td>-0.046949</td>\n",
       "      <td>0.236951</td>\n",
       "      <td>0.174446</td>\n",
       "    </tr>\n",
       "    <tr>\n",
       "      <th>std</th>\n",
       "      <td>0.072156</td>\n",
       "      <td>0.257251</td>\n",
       "      <td>0.221142</td>\n",
       "      <td>0.218750</td>\n",
       "    </tr>\n",
       "  </tbody>\n",
       "</table>\n",
       "</div>"
      ],
      "text/plain": [
       "         w_inv     w_roa     w_lev    w_cash\n",
       "mean  0.058342 -0.046949  0.236951  0.174446\n",
       "std   0.072156  0.257251  0.221142  0.218750"
      ]
     },
     "execution_count": 8,
     "metadata": {},
     "output_type": "execute_result"
    }
   ],
   "source": [
    "comp.filter(like='w_').agg(['mean','std'])"
   ]
  },
  {
   "cell_type": "markdown",
   "metadata": {},
   "source": [
    "Compare the standard deviations of the winsorized variables above, to the standard deviation of the un-wisnorized variables: "
   ]
  },
  {
   "cell_type": "code",
   "execution_count": 9,
   "metadata": {},
   "outputs": [
    {
     "data": {
      "text/html": [
       "<div>\n",
       "<style scoped>\n",
       "    .dataframe tbody tr th:only-of-type {\n",
       "        vertical-align: middle;\n",
       "    }\n",
       "\n",
       "    .dataframe tbody tr th {\n",
       "        vertical-align: top;\n",
       "    }\n",
       "\n",
       "    .dataframe thead th {\n",
       "        text-align: right;\n",
       "    }\n",
       "</style>\n",
       "<table border=\"1\" class=\"dataframe\">\n",
       "  <thead>\n",
       "    <tr style=\"text-align: right;\">\n",
       "      <th></th>\n",
       "      <th>inv</th>\n",
       "      <th>roa</th>\n",
       "      <th>lev</th>\n",
       "      <th>cash</th>\n",
       "    </tr>\n",
       "  </thead>\n",
       "  <tbody>\n",
       "    <tr>\n",
       "      <th>mean</th>\n",
       "      <td>0.060206</td>\n",
       "      <td>-0.056431</td>\n",
       "      <td>0.243002</td>\n",
       "      <td>0.174782</td>\n",
       "    </tr>\n",
       "    <tr>\n",
       "      <th>std</th>\n",
       "      <td>0.111862</td>\n",
       "      <td>1.494764</td>\n",
       "      <td>0.313886</td>\n",
       "      <td>0.219955</td>\n",
       "    </tr>\n",
       "  </tbody>\n",
       "</table>\n",
       "</div>"
      ],
      "text/plain": [
       "           inv       roa       lev      cash\n",
       "mean  0.060206 -0.056431  0.243002  0.174782\n",
       "std   0.111862  1.494764  0.313886  0.219955"
      ]
     },
     "execution_count": 9,
     "metadata": {},
     "output_type": "execute_result"
    }
   ],
   "source": [
    "comp[['inv','roa','lev','cash']].agg(['mean','std'])"
   ]
  },
  {
   "cell_type": "markdown",
   "metadata": {},
   "source": [
    "Save the names of the main variables we want to analyze into a list, so we don't have to type them up every time we use them:"
   ]
  },
  {
   "cell_type": "code",
   "execution_count": 10,
   "metadata": {},
   "outputs": [],
   "source": [
    "main_vars = [ 'w_inv','w_roa','w_lev','w_cash']"
   ]
  },
  {
   "cell_type": "markdown",
   "metadata": {},
   "source": [
    "# Subperiod analysis\n",
    "\n",
    "It is often a good idea to test how the results of your analysis change depending on the time period included in the data. This type of testing is generally referred to as \"subperiod analysis\". We'll cover two such examples below."
   ]
  },
  {
   "cell_type": "markdown",
   "metadata": {},
   "source": [
    "In the following example, we calculate means of our key variables **each year** and plot these means to see how they have changed over time."
   ]
  },
  {
   "cell_type": "code",
   "execution_count": 11,
   "metadata": {},
   "outputs": [
    {
     "data": {
      "image/png": "[encoded data removed]",
      "text/plain": [
       "<Figure size 432x432 with 1 Axes>"
      ]
     },
     "metadata": {
      "needs_background": "light"
     },
     "output_type": "display_data"
    }
   ],
   "source": [
    "annual_means = comp.groupby('year')[main_vars].mean()\n",
    "annual_means.plot(figsize = (6,6));"
   ]
  },
  {
   "cell_type": "markdown",
   "metadata": {},
   "source": [
    "As another example, we now calculate our means separately for the period prior to the year 2000, and the period after. \n",
    "\n",
    "To do this, we need to create a new variable in our dataframe that takes one value prior to 2000 and a different value after 2000. *What* these values are, does not matter at all, they just have to be two different values in the pre-2000 and post-2000 eras. An easy way to do this is with the ``where`` function in the ``numpy`` package. This function works exactly like ``if`` in Excel:\n",
    "\n",
    "Syntax:\n",
    "```python\n",
    "numpy.where(condition, x, y)\n",
    "```\n",
    "When the condition is true, this returns the value x, and when it is false, it returns the value y."
   ]
  },
  {
   "cell_type": "code",
   "execution_count": 12,
   "metadata": {},
   "outputs": [
    {
     "data": {
      "text/html": [
       "<div>\n",
       "<style scoped>\n",
       "    .dataframe tbody tr th:only-of-type {\n",
       "        vertical-align: middle;\n",
       "    }\n",
       "\n",
       "    .dataframe tbody tr th {\n",
       "        vertical-align: top;\n",
       "    }\n",
       "\n",
       "    .dataframe thead th {\n",
       "        text-align: right;\n",
       "    }\n",
       "</style>\n",
       "<table border=\"1\" class=\"dataframe\">\n",
       "  <thead>\n",
       "    <tr style=\"text-align: right;\">\n",
       "      <th></th>\n",
       "      <th>year</th>\n",
       "      <th>pre_post_2000</th>\n",
       "    </tr>\n",
       "  </thead>\n",
       "  <tbody>\n",
       "    <tr>\n",
       "      <th>188730</th>\n",
       "      <td>1986</td>\n",
       "      <td>pre_2000</td>\n",
       "    </tr>\n",
       "    <tr>\n",
       "      <th>188550</th>\n",
       "      <td>1986</td>\n",
       "      <td>pre_2000</td>\n",
       "    </tr>\n",
       "    <tr>\n",
       "      <th>188566</th>\n",
       "      <td>1987</td>\n",
       "      <td>pre_2000</td>\n",
       "    </tr>\n",
       "    <tr>\n",
       "      <th>188567</th>\n",
       "      <td>1988</td>\n",
       "      <td>pre_2000</td>\n",
       "    </tr>\n",
       "    <tr>\n",
       "      <th>188568</th>\n",
       "      <td>1989</td>\n",
       "      <td>pre_2000</td>\n",
       "    </tr>\n",
       "    <tr>\n",
       "      <th>...</th>\n",
       "      <td>...</td>\n",
       "      <td>...</td>\n",
       "    </tr>\n",
       "    <tr>\n",
       "      <th>493016</th>\n",
       "      <td>2016</td>\n",
       "      <td>post_2000</td>\n",
       "    </tr>\n",
       "    <tr>\n",
       "      <th>493017</th>\n",
       "      <td>2017</td>\n",
       "      <td>post_2000</td>\n",
       "    </tr>\n",
       "    <tr>\n",
       "      <th>493020</th>\n",
       "      <td>2018</td>\n",
       "      <td>post_2000</td>\n",
       "    </tr>\n",
       "    <tr>\n",
       "      <th>493021</th>\n",
       "      <td>2019</td>\n",
       "      <td>post_2000</td>\n",
       "    </tr>\n",
       "    <tr>\n",
       "      <th>493024</th>\n",
       "      <td>2020</td>\n",
       "      <td>post_2000</td>\n",
       "    </tr>\n",
       "  </tbody>\n",
       "</table>\n",
       "<p>237017 rows × 2 columns</p>\n",
       "</div>"
      ],
      "text/plain": [
       "        year pre_post_2000\n",
       "188730  1986      pre_2000\n",
       "188550  1986      pre_2000\n",
       "188566  1987      pre_2000\n",
       "188567  1988      pre_2000\n",
       "188568  1989      pre_2000\n",
       "...      ...           ...\n",
       "493016  2016     post_2000\n",
       "493017  2017     post_2000\n",
       "493020  2018     post_2000\n",
       "493021  2019     post_2000\n",
       "493024  2020     post_2000\n",
       "\n",
       "[237017 rows x 2 columns]"
      ]
     },
     "execution_count": 12,
     "metadata": {},
     "output_type": "execute_result"
    }
   ],
   "source": [
    "# The long way:\n",
    "#comp['pre_post_2000'] = 'pre_2000'\n",
    "#comp.loc[comp['year'] >= 2000, 'pre_post_2000'] = 'post_2000'\n",
    "\n",
    "# With \"np.where\"\n",
    "comp['pre_post_2000'] = np.where(comp['year']<2000, 'pre_2000', 'post_2000')\n",
    "\n",
    "comp[['year','pre_post_2000']]"
   ]
  },
  {
   "cell_type": "markdown",
   "metadata": {},
   "source": [
    "We can now use the \"pre_post_2000\" variable with ``.groupby()`` to calculate means separately in the two subperiods:"
   ]
  },
  {
   "cell_type": "code",
   "execution_count": 13,
   "metadata": {},
   "outputs": [
    {
     "data": {
      "text/html": [
       "<div>\n",
       "<style scoped>\n",
       "    .dataframe tbody tr th:only-of-type {\n",
       "        vertical-align: middle;\n",
       "    }\n",
       "\n",
       "    .dataframe tbody tr th {\n",
       "        vertical-align: top;\n",
       "    }\n",
       "\n",
       "    .dataframe thead th {\n",
       "        text-align: right;\n",
       "    }\n",
       "</style>\n",
       "<table border=\"1\" class=\"dataframe\">\n",
       "  <thead>\n",
       "    <tr style=\"text-align: right;\">\n",
       "      <th></th>\n",
       "      <th>w_inv</th>\n",
       "      <th>w_roa</th>\n",
       "      <th>w_lev</th>\n",
       "      <th>w_cash</th>\n",
       "    </tr>\n",
       "    <tr>\n",
       "      <th>pre_post_2000</th>\n",
       "      <th></th>\n",
       "      <th></th>\n",
       "      <th></th>\n",
       "      <th></th>\n",
       "    </tr>\n",
       "  </thead>\n",
       "  <tbody>\n",
       "    <tr>\n",
       "      <th>post_2000</th>\n",
       "      <td>0.042663</td>\n",
       "      <td>-0.059010</td>\n",
       "      <td>0.227570</td>\n",
       "      <td>0.201954</td>\n",
       "    </tr>\n",
       "    <tr>\n",
       "      <th>pre_2000</th>\n",
       "      <td>0.073641</td>\n",
       "      <td>-0.035868</td>\n",
       "      <td>0.245604</td>\n",
       "      <td>0.149072</td>\n",
       "    </tr>\n",
       "  </tbody>\n",
       "</table>\n",
       "</div>"
      ],
      "text/plain": [
       "                  w_inv     w_roa     w_lev    w_cash\n",
       "pre_post_2000                                        \n",
       "post_2000      0.042663 -0.059010  0.227570  0.201954\n",
       "pre_2000       0.073641 -0.035868  0.245604  0.149072"
      ]
     },
     "execution_count": 13,
     "metadata": {},
     "output_type": "execute_result"
    }
   ],
   "source": [
    "comp.groupby('pre_post_2000')[main_vars].mean()"
   ]
  },
  {
   "cell_type": "markdown",
   "metadata": {},
   "source": [
    "# Conditioning on cross-sectional information\n",
    "\n",
    "Our panel dataset has information for many different firms, each year. We refer to the totality of the firms in our sample as the \"cross-sectional\" dimension of the data (as opposed to the \"time\" dimension).\n",
    "\n",
    "In the examples below, we calculate means of our key variables for each sector in the economy. For each sector, we use all the data available for that sector (i.e. all years for all firms in that sector). This means we will have a single mean per sector.\n",
    "\n",
    "In our example, separate \"sectors\" are identified by the first digit of the SIC (industry) code of the firm (the \"sich\" variable in the \"comp\" dataframe). So this is another example in which we have to create a new variable that specifies which observation is in which subsample (sector)."
   ]
  },
  {
   "cell_type": "markdown",
   "metadata": {},
   "source": [
    "We do this by first turning \"sich\" into a string variable (with ``.astype('string')``) and then selecting the first character in that string (with ``.str[0]``):"
   ]
  },
  {
   "cell_type": "code",
   "execution_count": 14,
   "metadata": {},
   "outputs": [
    {
     "data": {
      "text/html": [
       "<div>\n",
       "<style scoped>\n",
       "    .dataframe tbody tr th:only-of-type {\n",
       "        vertical-align: middle;\n",
       "    }\n",
       "\n",
       "    .dataframe tbody tr th {\n",
       "        vertical-align: top;\n",
       "    }\n",
       "\n",
       "    .dataframe thead th {\n",
       "        text-align: right;\n",
       "    }\n",
       "</style>\n",
       "<table border=\"1\" class=\"dataframe\">\n",
       "  <thead>\n",
       "    <tr style=\"text-align: right;\">\n",
       "      <th></th>\n",
       "      <th>sich</th>\n",
       "      <th>sic1d</th>\n",
       "    </tr>\n",
       "  </thead>\n",
       "  <tbody>\n",
       "    <tr>\n",
       "      <th>188730</th>\n",
       "      <td>NaN</td>\n",
       "      <td>&lt;NA&gt;</td>\n",
       "    </tr>\n",
       "    <tr>\n",
       "      <th>188550</th>\n",
       "      <td>NaN</td>\n",
       "      <td>&lt;NA&gt;</td>\n",
       "    </tr>\n",
       "    <tr>\n",
       "      <th>188566</th>\n",
       "      <td>4924.0</td>\n",
       "      <td>4</td>\n",
       "    </tr>\n",
       "    <tr>\n",
       "      <th>188567</th>\n",
       "      <td>4924.0</td>\n",
       "      <td>4</td>\n",
       "    </tr>\n",
       "    <tr>\n",
       "      <th>188568</th>\n",
       "      <td>4924.0</td>\n",
       "      <td>4</td>\n",
       "    </tr>\n",
       "    <tr>\n",
       "      <th>...</th>\n",
       "      <td>...</td>\n",
       "      <td>...</td>\n",
       "    </tr>\n",
       "    <tr>\n",
       "      <th>493016</th>\n",
       "      <td>3711.0</td>\n",
       "      <td>3</td>\n",
       "    </tr>\n",
       "    <tr>\n",
       "      <th>493017</th>\n",
       "      <td>3711.0</td>\n",
       "      <td>3</td>\n",
       "    </tr>\n",
       "    <tr>\n",
       "      <th>493020</th>\n",
       "      <td>3711.0</td>\n",
       "      <td>3</td>\n",
       "    </tr>\n",
       "    <tr>\n",
       "      <th>493021</th>\n",
       "      <td>3711.0</td>\n",
       "      <td>3</td>\n",
       "    </tr>\n",
       "    <tr>\n",
       "      <th>493024</th>\n",
       "      <td>3711.0</td>\n",
       "      <td>3</td>\n",
       "    </tr>\n",
       "  </tbody>\n",
       "</table>\n",
       "<p>237017 rows × 2 columns</p>\n",
       "</div>"
      ],
      "text/plain": [
       "          sich sic1d\n",
       "188730     NaN  <NA>\n",
       "188550     NaN  <NA>\n",
       "188566  4924.0     4\n",
       "188567  4924.0     4\n",
       "188568  4924.0     4\n",
       "...        ...   ...\n",
       "493016  3711.0     3\n",
       "493017  3711.0     3\n",
       "493020  3711.0     3\n",
       "493021  3711.0     3\n",
       "493024  3711.0     3\n",
       "\n",
       "[237017 rows x 2 columns]"
      ]
     },
     "execution_count": 14,
     "metadata": {},
     "output_type": "execute_result"
    }
   ],
   "source": [
    "comp['sic1d'] = np.floor(comp['sich']/1000).astype('string').str[0] \n",
    "comp[['sich','sic1d']]"
   ]
  },
  {
   "cell_type": "markdown",
   "metadata": {},
   "source": [
    "Let's see how many observations we have for each sector:"
   ]
  },
  {
   "cell_type": "code",
   "execution_count": 15,
   "metadata": {},
   "outputs": [
    {
     "data": {
      "text/plain": [
       "3    48362\n",
       "6    33072\n",
       "2    30046\n",
       "7    23427\n",
       "5    17683\n",
       "4    17545\n",
       "1    12737\n",
       "8     7715\n",
       "9      923\n",
       "0      664\n",
       "Name: sic1d, dtype: Int64"
      ]
     },
     "execution_count": 15,
     "metadata": {},
     "output_type": "execute_result"
    }
   ],
   "source": [
    "comp['sic1d'].value_counts()"
   ]
  },
  {
   "cell_type": "markdown",
   "metadata": {},
   "source": [
    "If you look up the SIC codes:\n",
    "\n",
    "https://siccode.com/sic-code-lookup-directory\n",
    "\n",
    "you'll see that, roughly speaking, 3 stands for manufacturing firms (though 2 does as well), and 6 stands for financial firms. So the two largest sectors represented in our sample are manufacturing and finance."
   ]
  },
  {
   "cell_type": "markdown",
   "metadata": {},
   "source": [
    "Finally, we calculate sector-level means for each of the main variables, using \"sic1d\" with the ``groupby`` function. Note how much these statistics differ across sectors:"
   ]
  },
  {
   "cell_type": "code",
   "execution_count": 16,
   "metadata": {},
   "outputs": [
    {
     "data": {
      "text/html": [
       "<div>\n",
       "<style scoped>\n",
       "    .dataframe tbody tr th:only-of-type {\n",
       "        vertical-align: middle;\n",
       "    }\n",
       "\n",
       "    .dataframe tbody tr th {\n",
       "        vertical-align: top;\n",
       "    }\n",
       "\n",
       "    .dataframe thead th {\n",
       "        text-align: right;\n",
       "    }\n",
       "</style>\n",
       "<table border=\"1\" class=\"dataframe\">\n",
       "  <thead>\n",
       "    <tr style=\"text-align: right;\">\n",
       "      <th></th>\n",
       "      <th>w_inv</th>\n",
       "      <th>w_roa</th>\n",
       "      <th>w_lev</th>\n",
       "      <th>w_cash</th>\n",
       "    </tr>\n",
       "    <tr>\n",
       "      <th>sic1d</th>\n",
       "      <th></th>\n",
       "      <th></th>\n",
       "      <th></th>\n",
       "      <th></th>\n",
       "    </tr>\n",
       "  </thead>\n",
       "  <tbody>\n",
       "    <tr>\n",
       "      <th>0</th>\n",
       "      <td>0.059727</td>\n",
       "      <td>-0.020970</td>\n",
       "      <td>0.277227</td>\n",
       "      <td>0.115660</td>\n",
       "    </tr>\n",
       "    <tr>\n",
       "      <th>1</th>\n",
       "      <td>0.126561</td>\n",
       "      <td>-0.056219</td>\n",
       "      <td>0.263007</td>\n",
       "      <td>0.116430</td>\n",
       "    </tr>\n",
       "    <tr>\n",
       "      <th>2</th>\n",
       "      <td>0.046453</td>\n",
       "      <td>-0.146969</td>\n",
       "      <td>0.229444</td>\n",
       "      <td>0.290379</td>\n",
       "    </tr>\n",
       "    <tr>\n",
       "      <th>3</th>\n",
       "      <td>0.047486</td>\n",
       "      <td>-0.055418</td>\n",
       "      <td>0.197940</td>\n",
       "      <td>0.203723</td>\n",
       "    </tr>\n",
       "    <tr>\n",
       "      <th>4</th>\n",
       "      <td>0.083914</td>\n",
       "      <td>-0.010957</td>\n",
       "      <td>0.371167</td>\n",
       "      <td>0.091903</td>\n",
       "    </tr>\n",
       "    <tr>\n",
       "      <th>5</th>\n",
       "      <td>0.065671</td>\n",
       "      <td>-0.003676</td>\n",
       "      <td>0.259566</td>\n",
       "      <td>0.105802</td>\n",
       "    </tr>\n",
       "    <tr>\n",
       "      <th>6</th>\n",
       "      <td>0.010060</td>\n",
       "      <td>0.010051</td>\n",
       "      <td>0.242219</td>\n",
       "      <td>0.117255</td>\n",
       "    </tr>\n",
       "    <tr>\n",
       "      <th>7</th>\n",
       "      <td>0.053990</td>\n",
       "      <td>-0.093262</td>\n",
       "      <td>0.194325</td>\n",
       "      <td>0.272838</td>\n",
       "    </tr>\n",
       "    <tr>\n",
       "      <th>8</th>\n",
       "      <td>0.052362</td>\n",
       "      <td>-0.066628</td>\n",
       "      <td>0.233897</td>\n",
       "      <td>0.211465</td>\n",
       "    </tr>\n",
       "    <tr>\n",
       "      <th>9</th>\n",
       "      <td>0.012501</td>\n",
       "      <td>-0.062985</td>\n",
       "      <td>0.094941</td>\n",
       "      <td>0.237630</td>\n",
       "    </tr>\n",
       "  </tbody>\n",
       "</table>\n",
       "</div>"
      ],
      "text/plain": [
       "          w_inv     w_roa     w_lev    w_cash\n",
       "sic1d                                        \n",
       "0      0.059727 -0.020970  0.277227  0.115660\n",
       "1      0.126561 -0.056219  0.263007  0.116430\n",
       "2      0.046453 -0.146969  0.229444  0.290379\n",
       "3      0.047486 -0.055418  0.197940  0.203723\n",
       "4      0.083914 -0.010957  0.371167  0.091903\n",
       "5      0.065671 -0.003676  0.259566  0.105802\n",
       "6      0.010060  0.010051  0.242219  0.117255\n",
       "7      0.053990 -0.093262  0.194325  0.272838\n",
       "8      0.052362 -0.066628  0.233897  0.211465\n",
       "9      0.012501 -0.062985  0.094941  0.237630"
      ]
     },
     "execution_count": 16,
     "metadata": {},
     "output_type": "execute_result"
    }
   ],
   "source": [
    "ind_means = comp.groupby('sic1d')[main_vars].mean()\n",
    "ind_means"
   ]
  },
  {
   "cell_type": "markdown",
   "metadata": {},
   "source": [
    "# Conditioning on both time and the cross-section\n",
    "\n",
    "Finally, we showcase an example where we examine how summary statistics vary across groups of firms **and** over time. \n",
    "\n",
    "In the example below, we calculate means of our key variables for each sector in the economy, for each year separately. For each sector, we take an average over all the firms in that sector, separately for each year that the sector exists in our dataset. This means we will have a time-series of means for each sector."
   ]
  },
  {
   "cell_type": "code",
   "execution_count": 17,
   "metadata": {
    "scrolled": false
   },
   "outputs": [
    {
     "data": {
      "text/html": [
       "<div>\n",
       "<style scoped>\n",
       "    .dataframe tbody tr th:only-of-type {\n",
       "        vertical-align: middle;\n",
       "    }\n",
       "\n",
       "    .dataframe tbody tr th {\n",
       "        vertical-align: top;\n",
       "    }\n",
       "\n",
       "    .dataframe thead th {\n",
       "        text-align: right;\n",
       "    }\n",
       "</style>\n",
       "<table border=\"1\" class=\"dataframe\">\n",
       "  <thead>\n",
       "    <tr style=\"text-align: right;\">\n",
       "      <th></th>\n",
       "      <th></th>\n",
       "      <th>w_inv</th>\n",
       "      <th>w_roa</th>\n",
       "      <th>w_lev</th>\n",
       "      <th>w_cash</th>\n",
       "    </tr>\n",
       "    <tr>\n",
       "      <th>year</th>\n",
       "      <th>sic1d</th>\n",
       "      <th></th>\n",
       "      <th></th>\n",
       "      <th></th>\n",
       "      <th></th>\n",
       "    </tr>\n",
       "  </thead>\n",
       "  <tbody>\n",
       "    <tr>\n",
       "      <th rowspan=\"2\" valign=\"top\">1982</th>\n",
       "      <th>1</th>\n",
       "      <td>0.000000</td>\n",
       "      <td>-0.021536</td>\n",
       "      <td>0.222899</td>\n",
       "      <td>0.027818</td>\n",
       "    </tr>\n",
       "    <tr>\n",
       "      <th>6</th>\n",
       "      <td>0.020324</td>\n",
       "      <td>0.022094</td>\n",
       "      <td>0.226803</td>\n",
       "      <td>0.107758</td>\n",
       "    </tr>\n",
       "    <tr>\n",
       "      <th rowspan=\"2\" valign=\"top\">1983</th>\n",
       "      <th>1</th>\n",
       "      <td>0.002262</td>\n",
       "      <td>0.018584</td>\n",
       "      <td>0.145025</td>\n",
       "      <td>0.118914</td>\n",
       "    </tr>\n",
       "    <tr>\n",
       "      <th>6</th>\n",
       "      <td>0.015431</td>\n",
       "      <td>0.022255</td>\n",
       "      <td>0.210558</td>\n",
       "      <td>0.107978</td>\n",
       "    </tr>\n",
       "    <tr>\n",
       "      <th>1984</th>\n",
       "      <th>1</th>\n",
       "      <td>0.003433</td>\n",
       "      <td>0.028340</td>\n",
       "      <td>0.170928</td>\n",
       "      <td>0.071714</td>\n",
       "    </tr>\n",
       "    <tr>\n",
       "      <th>...</th>\n",
       "      <th>...</th>\n",
       "      <td>...</td>\n",
       "      <td>...</td>\n",
       "      <td>...</td>\n",
       "      <td>...</td>\n",
       "    </tr>\n",
       "    <tr>\n",
       "      <th rowspan=\"5\" valign=\"top\">2020</th>\n",
       "      <th>5</th>\n",
       "      <td>0.031845</td>\n",
       "      <td>-0.017026</td>\n",
       "      <td>0.412766</td>\n",
       "      <td>0.143202</td>\n",
       "    </tr>\n",
       "    <tr>\n",
       "      <th>6</th>\n",
       "      <td>0.004374</td>\n",
       "      <td>0.003683</td>\n",
       "      <td>0.249704</td>\n",
       "      <td>0.127982</td>\n",
       "    </tr>\n",
       "    <tr>\n",
       "      <th>7</th>\n",
       "      <td>0.023156</td>\n",
       "      <td>-0.086181</td>\n",
       "      <td>0.296805</td>\n",
       "      <td>0.302491</td>\n",
       "    </tr>\n",
       "    <tr>\n",
       "      <th>8</th>\n",
       "      <td>0.020325</td>\n",
       "      <td>-0.053079</td>\n",
       "      <td>0.295074</td>\n",
       "      <td>0.240811</td>\n",
       "    </tr>\n",
       "    <tr>\n",
       "      <th>9</th>\n",
       "      <td>0.001519</td>\n",
       "      <td>-0.055441</td>\n",
       "      <td>0.032119</td>\n",
       "      <td>0.013138</td>\n",
       "    </tr>\n",
       "  </tbody>\n",
       "</table>\n",
       "<p>358 rows × 4 columns</p>\n",
       "</div>"
      ],
      "text/plain": [
       "               w_inv     w_roa     w_lev    w_cash\n",
       "year sic1d                                        \n",
       "1982 1      0.000000 -0.021536  0.222899  0.027818\n",
       "     6      0.020324  0.022094  0.226803  0.107758\n",
       "1983 1      0.002262  0.018584  0.145025  0.118914\n",
       "     6      0.015431  0.022255  0.210558  0.107978\n",
       "1984 1      0.003433  0.028340  0.170928  0.071714\n",
       "...              ...       ...       ...       ...\n",
       "2020 5      0.031845 -0.017026  0.412766  0.143202\n",
       "     6      0.004374  0.003683  0.249704  0.127982\n",
       "     7      0.023156 -0.086181  0.296805  0.302491\n",
       "     8      0.020325 -0.053079  0.295074  0.240811\n",
       "     9      0.001519 -0.055441  0.032119  0.013138\n",
       "\n",
       "[358 rows x 4 columns]"
      ]
     },
     "execution_count": 17,
     "metadata": {},
     "output_type": "execute_result"
    }
   ],
   "source": [
    "ind_anmeans = comp.groupby(['year','sic1d'])[main_vars].mean()\n",
    "ind_anmeans"
   ]
  },
  {
   "cell_type": "markdown",
   "metadata": {},
   "source": [
    "We now plot some of these sector-specific means to see how they have changed over time. To create these plots, we use the **unstack** function to unstack the industries so their data show up side by side (instead of on top of each other)."
   ]
  },
  {
   "cell_type": "code",
   "execution_count": 18,
   "metadata": {},
   "outputs": [
    {
     "data": {
      "text/html": [
       "<div>\n",
       "<style scoped>\n",
       "    .dataframe tbody tr th:only-of-type {\n",
       "        vertical-align: middle;\n",
       "    }\n",
       "\n",
       "    .dataframe tbody tr th {\n",
       "        vertical-align: top;\n",
       "    }\n",
       "\n",
       "    .dataframe thead tr th {\n",
       "        text-align: left;\n",
       "    }\n",
       "\n",
       "    .dataframe thead tr:last-of-type th {\n",
       "        text-align: right;\n",
       "    }\n",
       "</style>\n",
       "<table border=\"1\" class=\"dataframe\">\n",
       "  <thead>\n",
       "    <tr>\n",
       "      <th></th>\n",
       "      <th colspan=\"10\" halign=\"left\">w_inv</th>\n",
       "      <th>...</th>\n",
       "      <th colspan=\"10\" halign=\"left\">w_cash</th>\n",
       "    </tr>\n",
       "    <tr>\n",
       "      <th>sic1d</th>\n",
       "      <th>0</th>\n",
       "      <th>1</th>\n",
       "      <th>2</th>\n",
       "      <th>3</th>\n",
       "      <th>4</th>\n",
       "      <th>5</th>\n",
       "      <th>6</th>\n",
       "      <th>7</th>\n",
       "      <th>8</th>\n",
       "      <th>9</th>\n",
       "      <th>...</th>\n",
       "      <th>0</th>\n",
       "      <th>1</th>\n",
       "      <th>2</th>\n",
       "      <th>3</th>\n",
       "      <th>4</th>\n",
       "      <th>5</th>\n",
       "      <th>6</th>\n",
       "      <th>7</th>\n",
       "      <th>8</th>\n",
       "      <th>9</th>\n",
       "    </tr>\n",
       "    <tr>\n",
       "      <th>year</th>\n",
       "      <th></th>\n",
       "      <th></th>\n",
       "      <th></th>\n",
       "      <th></th>\n",
       "      <th></th>\n",
       "      <th></th>\n",
       "      <th></th>\n",
       "      <th></th>\n",
       "      <th></th>\n",
       "      <th></th>\n",
       "      <th></th>\n",
       "      <th></th>\n",
       "      <th></th>\n",
       "      <th></th>\n",
       "      <th></th>\n",
       "      <th></th>\n",
       "      <th></th>\n",
       "      <th></th>\n",
       "      <th></th>\n",
       "      <th></th>\n",
       "      <th></th>\n",
       "    </tr>\n",
       "  </thead>\n",
       "  <tbody>\n",
       "    <tr>\n",
       "      <th>1982</th>\n",
       "      <td>NaN</td>\n",
       "      <td>0.000000</td>\n",
       "      <td>NaN</td>\n",
       "      <td>NaN</td>\n",
       "      <td>NaN</td>\n",
       "      <td>NaN</td>\n",
       "      <td>0.020324</td>\n",
       "      <td>NaN</td>\n",
       "      <td>NaN</td>\n",
       "      <td>NaN</td>\n",
       "      <td>...</td>\n",
       "      <td>NaN</td>\n",
       "      <td>0.027818</td>\n",
       "      <td>NaN</td>\n",
       "      <td>NaN</td>\n",
       "      <td>NaN</td>\n",
       "      <td>NaN</td>\n",
       "      <td>0.107758</td>\n",
       "      <td>NaN</td>\n",
       "      <td>NaN</td>\n",
       "      <td>NaN</td>\n",
       "    </tr>\n",
       "    <tr>\n",
       "      <th>1983</th>\n",
       "      <td>NaN</td>\n",
       "      <td>0.002262</td>\n",
       "      <td>NaN</td>\n",
       "      <td>NaN</td>\n",
       "      <td>NaN</td>\n",
       "      <td>NaN</td>\n",
       "      <td>0.015431</td>\n",
       "      <td>NaN</td>\n",
       "      <td>NaN</td>\n",
       "      <td>NaN</td>\n",
       "      <td>...</td>\n",
       "      <td>NaN</td>\n",
       "      <td>0.118914</td>\n",
       "      <td>NaN</td>\n",
       "      <td>NaN</td>\n",
       "      <td>NaN</td>\n",
       "      <td>NaN</td>\n",
       "      <td>0.107978</td>\n",
       "      <td>NaN</td>\n",
       "      <td>NaN</td>\n",
       "      <td>NaN</td>\n",
       "    </tr>\n",
       "    <tr>\n",
       "      <th>1984</th>\n",
       "      <td>NaN</td>\n",
       "      <td>0.003433</td>\n",
       "      <td>0.112669</td>\n",
       "      <td>0.050054</td>\n",
       "      <td>NaN</td>\n",
       "      <td>NaN</td>\n",
       "      <td>0.013060</td>\n",
       "      <td>0.107678</td>\n",
       "      <td>NaN</td>\n",
       "      <td>NaN</td>\n",
       "      <td>...</td>\n",
       "      <td>NaN</td>\n",
       "      <td>0.071714</td>\n",
       "      <td>0.001780</td>\n",
       "      <td>0.011730</td>\n",
       "      <td>NaN</td>\n",
       "      <td>NaN</td>\n",
       "      <td>0.107901</td>\n",
       "      <td>0.327153</td>\n",
       "      <td>NaN</td>\n",
       "      <td>NaN</td>\n",
       "    </tr>\n",
       "    <tr>\n",
       "      <th>1985</th>\n",
       "      <td>NaN</td>\n",
       "      <td>NaN</td>\n",
       "      <td>0.086889</td>\n",
       "      <td>0.043671</td>\n",
       "      <td>NaN</td>\n",
       "      <td>NaN</td>\n",
       "      <td>0.015411</td>\n",
       "      <td>0.140073</td>\n",
       "      <td>NaN</td>\n",
       "      <td>NaN</td>\n",
       "      <td>...</td>\n",
       "      <td>NaN</td>\n",
       "      <td>NaN</td>\n",
       "      <td>0.018878</td>\n",
       "      <td>0.040591</td>\n",
       "      <td>NaN</td>\n",
       "      <td>NaN</td>\n",
       "      <td>0.108129</td>\n",
       "      <td>0.189906</td>\n",
       "      <td>NaN</td>\n",
       "      <td>NaN</td>\n",
       "    </tr>\n",
       "    <tr>\n",
       "      <th>1986</th>\n",
       "      <td>NaN</td>\n",
       "      <td>NaN</td>\n",
       "      <td>0.025808</td>\n",
       "      <td>0.035173</td>\n",
       "      <td>0.022611</td>\n",
       "      <td>NaN</td>\n",
       "      <td>0.010504</td>\n",
       "      <td>0.115635</td>\n",
       "      <td>NaN</td>\n",
       "      <td>NaN</td>\n",
       "      <td>...</td>\n",
       "      <td>NaN</td>\n",
       "      <td>NaN</td>\n",
       "      <td>0.002797</td>\n",
       "      <td>0.213266</td>\n",
       "      <td>0.041357</td>\n",
       "      <td>NaN</td>\n",
       "      <td>0.104898</td>\n",
       "      <td>0.428892</td>\n",
       "      <td>NaN</td>\n",
       "      <td>NaN</td>\n",
       "    </tr>\n",
       "  </tbody>\n",
       "</table>\n",
       "<p>5 rows × 40 columns</p>\n",
       "</div>"
      ],
      "text/plain": [
       "      w_inv                                                                  \\\n",
       "sic1d     0         1         2         3         4   5         6         7   \n",
       "year                                                                          \n",
       "1982    NaN  0.000000       NaN       NaN       NaN NaN  0.020324       NaN   \n",
       "1983    NaN  0.002262       NaN       NaN       NaN NaN  0.015431       NaN   \n",
       "1984    NaN  0.003433  0.112669  0.050054       NaN NaN  0.013060  0.107678   \n",
       "1985    NaN       NaN  0.086889  0.043671       NaN NaN  0.015411  0.140073   \n",
       "1986    NaN       NaN  0.025808  0.035173  0.022611 NaN  0.010504  0.115635   \n",
       "\n",
       "               ... w_cash                                              \\\n",
       "sic1d   8   9  ...      0         1         2         3         4   5   \n",
       "year           ...                                                      \n",
       "1982  NaN NaN  ...    NaN  0.027818       NaN       NaN       NaN NaN   \n",
       "1983  NaN NaN  ...    NaN  0.118914       NaN       NaN       NaN NaN   \n",
       "1984  NaN NaN  ...    NaN  0.071714  0.001780  0.011730       NaN NaN   \n",
       "1985  NaN NaN  ...    NaN       NaN  0.018878  0.040591       NaN NaN   \n",
       "1986  NaN NaN  ...    NaN       NaN  0.002797  0.213266  0.041357 NaN   \n",
       "\n",
       "                                   \n",
       "sic1d         6         7   8   9  \n",
       "year                               \n",
       "1982   0.107758       NaN NaN NaN  \n",
       "1983   0.107978       NaN NaN NaN  \n",
       "1984   0.107901  0.327153 NaN NaN  \n",
       "1985   0.108129  0.189906 NaN NaN  \n",
       "1986   0.104898  0.428892 NaN NaN  \n",
       "\n",
       "[5 rows x 40 columns]"
      ]
     },
     "execution_count": 18,
     "metadata": {},
     "output_type": "execute_result"
    }
   ],
   "source": [
    "ind_means_unstacked = ind_anmeans.unstack('sic1d')\n",
    "ind_means_unstacked.head()"
   ]
  },
  {
   "cell_type": "markdown",
   "metadata": {},
   "source": [
    "Note that the column labels have two components: one component that tells us which variable is being summarized, and one component that tells us which sector is being summarized:"
   ]
  },
  {
   "cell_type": "code",
   "execution_count": 19,
   "metadata": {},
   "outputs": [
    {
     "data": {
      "text/plain": [
       "MultiIndex([( 'w_inv', '0'),\n",
       "            ( 'w_inv', '1'),\n",
       "            ( 'w_inv', '2'),\n",
       "            ( 'w_inv', '3'),\n",
       "            ( 'w_inv', '4'),\n",
       "            ( 'w_inv', '5'),\n",
       "            ( 'w_inv', '6'),\n",
       "            ( 'w_inv', '7'),\n",
       "            ( 'w_inv', '8'),\n",
       "            ( 'w_inv', '9'),\n",
       "            ( 'w_roa', '0'),\n",
       "            ( 'w_roa', '1'),\n",
       "            ( 'w_roa', '2'),\n",
       "            ( 'w_roa', '3'),\n",
       "            ( 'w_roa', '4'),\n",
       "            ( 'w_roa', '5'),\n",
       "            ( 'w_roa', '6'),\n",
       "            ( 'w_roa', '7'),\n",
       "            ( 'w_roa', '8'),\n",
       "            ( 'w_roa', '9'),\n",
       "            ( 'w_lev', '0'),\n",
       "            ( 'w_lev', '1'),\n",
       "            ( 'w_lev', '2'),\n",
       "            ( 'w_lev', '3'),\n",
       "            ( 'w_lev', '4'),\n",
       "            ( 'w_lev', '5'),\n",
       "            ( 'w_lev', '6'),\n",
       "            ( 'w_lev', '7'),\n",
       "            ( 'w_lev', '8'),\n",
       "            ( 'w_lev', '9'),\n",
       "            ('w_cash', '0'),\n",
       "            ('w_cash', '1'),\n",
       "            ('w_cash', '2'),\n",
       "            ('w_cash', '3'),\n",
       "            ('w_cash', '4'),\n",
       "            ('w_cash', '5'),\n",
       "            ('w_cash', '6'),\n",
       "            ('w_cash', '7'),\n",
       "            ('w_cash', '8'),\n",
       "            ('w_cash', '9')],\n",
       "           names=[None, 'sic1d'])"
      ]
     },
     "execution_count": 19,
     "metadata": {},
     "output_type": "execute_result"
    }
   ],
   "source": [
    "ind_means_unstacked.columns"
   ]
  },
  {
   "cell_type": "markdown",
   "metadata": {},
   "source": [
    "Let's look at the evolution of investment in particular:"
   ]
  },
  {
   "cell_type": "code",
   "execution_count": 20,
   "metadata": {},
   "outputs": [
    {
     "data": {
      "text/html": [
       "<div>\n",
       "<style scoped>\n",
       "    .dataframe tbody tr th:only-of-type {\n",
       "        vertical-align: middle;\n",
       "    }\n",
       "\n",
       "    .dataframe tbody tr th {\n",
       "        vertical-align: top;\n",
       "    }\n",
       "\n",
       "    .dataframe thead th {\n",
       "        text-align: right;\n",
       "    }\n",
       "</style>\n",
       "<table border=\"1\" class=\"dataframe\">\n",
       "  <thead>\n",
       "    <tr style=\"text-align: right;\">\n",
       "      <th>sic1d</th>\n",
       "      <th>0</th>\n",
       "      <th>1</th>\n",
       "      <th>2</th>\n",
       "      <th>3</th>\n",
       "      <th>4</th>\n",
       "      <th>5</th>\n",
       "      <th>6</th>\n",
       "      <th>7</th>\n",
       "      <th>8</th>\n",
       "      <th>9</th>\n",
       "    </tr>\n",
       "    <tr>\n",
       "      <th>year</th>\n",
       "      <th></th>\n",
       "      <th></th>\n",
       "      <th></th>\n",
       "      <th></th>\n",
       "      <th></th>\n",
       "      <th></th>\n",
       "      <th></th>\n",
       "      <th></th>\n",
       "      <th></th>\n",
       "      <th></th>\n",
       "    </tr>\n",
       "  </thead>\n",
       "  <tbody>\n",
       "    <tr>\n",
       "      <th>1982</th>\n",
       "      <td>NaN</td>\n",
       "      <td>0.000000</td>\n",
       "      <td>NaN</td>\n",
       "      <td>NaN</td>\n",
       "      <td>NaN</td>\n",
       "      <td>NaN</td>\n",
       "      <td>0.020324</td>\n",
       "      <td>NaN</td>\n",
       "      <td>NaN</td>\n",
       "      <td>NaN</td>\n",
       "    </tr>\n",
       "    <tr>\n",
       "      <th>1983</th>\n",
       "      <td>NaN</td>\n",
       "      <td>0.002262</td>\n",
       "      <td>NaN</td>\n",
       "      <td>NaN</td>\n",
       "      <td>NaN</td>\n",
       "      <td>NaN</td>\n",
       "      <td>0.015431</td>\n",
       "      <td>NaN</td>\n",
       "      <td>NaN</td>\n",
       "      <td>NaN</td>\n",
       "    </tr>\n",
       "    <tr>\n",
       "      <th>1984</th>\n",
       "      <td>NaN</td>\n",
       "      <td>0.003433</td>\n",
       "      <td>0.112669</td>\n",
       "      <td>0.050054</td>\n",
       "      <td>NaN</td>\n",
       "      <td>NaN</td>\n",
       "      <td>0.013060</td>\n",
       "      <td>0.107678</td>\n",
       "      <td>NaN</td>\n",
       "      <td>NaN</td>\n",
       "    </tr>\n",
       "    <tr>\n",
       "      <th>1985</th>\n",
       "      <td>NaN</td>\n",
       "      <td>NaN</td>\n",
       "      <td>0.086889</td>\n",
       "      <td>0.043671</td>\n",
       "      <td>NaN</td>\n",
       "      <td>NaN</td>\n",
       "      <td>0.015411</td>\n",
       "      <td>0.140073</td>\n",
       "      <td>NaN</td>\n",
       "      <td>NaN</td>\n",
       "    </tr>\n",
       "    <tr>\n",
       "      <th>1986</th>\n",
       "      <td>NaN</td>\n",
       "      <td>NaN</td>\n",
       "      <td>0.025808</td>\n",
       "      <td>0.035173</td>\n",
       "      <td>0.022611</td>\n",
       "      <td>NaN</td>\n",
       "      <td>0.010504</td>\n",
       "      <td>0.115635</td>\n",
       "      <td>NaN</td>\n",
       "      <td>NaN</td>\n",
       "    </tr>\n",
       "  </tbody>\n",
       "</table>\n",
       "</div>"
      ],
      "text/plain": [
       "sic1d   0         1         2         3         4   5         6         7   8  \\\n",
       "year                                                                            \n",
       "1982  NaN  0.000000       NaN       NaN       NaN NaN  0.020324       NaN NaN   \n",
       "1983  NaN  0.002262       NaN       NaN       NaN NaN  0.015431       NaN NaN   \n",
       "1984  NaN  0.003433  0.112669  0.050054       NaN NaN  0.013060  0.107678 NaN   \n",
       "1985  NaN       NaN  0.086889  0.043671       NaN NaN  0.015411  0.140073 NaN   \n",
       "1986  NaN       NaN  0.025808  0.035173  0.022611 NaN  0.010504  0.115635 NaN   \n",
       "\n",
       "sic1d   9  \n",
       "year       \n",
       "1982  NaN  \n",
       "1983  NaN  \n",
       "1984  NaN  \n",
       "1985  NaN  \n",
       "1986  NaN  "
      ]
     },
     "execution_count": 20,
     "metadata": {},
     "output_type": "execute_result"
    }
   ],
   "source": [
    "ind_means_unstacked['w_inv'].head()"
   ]
  },
  {
   "cell_type": "markdown",
   "metadata": {},
   "source": [
    "Note that the column names are actually strings, not integers:"
   ]
  },
  {
   "cell_type": "code",
   "execution_count": 21,
   "metadata": {},
   "outputs": [
    {
     "data": {
      "text/plain": [
       "Index(['0', '1', '2', '3', '4', '5', '6', '7', '8', '9'], dtype='string', name='sic1d')"
      ]
     },
     "execution_count": 21,
     "metadata": {},
     "output_type": "execute_result"
    }
   ],
   "source": [
    "ind_means_unstacked['w_inv'].columns"
   ]
  },
  {
   "cell_type": "markdown",
   "metadata": {},
   "source": [
    "Note also that in the first few years, we have lots of missing data for the 'sich' variable, which is why we have so many \"NaN\" values in the table above. We use ``.dropna()`` to eliminate all the years in which we have \"NaN\" values:"
   ]
  },
  {
   "cell_type": "code",
   "execution_count": 22,
   "metadata": {},
   "outputs": [
    {
     "data": {
      "image/png": "[encoded data removed]",
      "text/plain": [
       "<Figure size 432x288 with 1 Axes>"
      ]
     },
     "metadata": {
      "needs_background": "light"
     },
     "output_type": "display_data"
    }
   ],
   "source": [
    "ind_means_unstacked['w_inv'].dropna().plot();"
   ]
  },
  {
   "cell_type": "markdown",
   "metadata": {},
   "source": [
    "Sector 1 is \"Mining and Construction\" and Sector 6 is \"Financials\" so it makes sense that they have drastically different levels of physical investment. To plot just those two sectors, we have to use ``.loc[]`` to extract them from the overall dataframe before we use ``.plot()``: "
   ]
  },
  {
   "cell_type": "code",
   "execution_count": 23,
   "metadata": {},
   "outputs": [
    {
     "data": {
      "image/png": "[encoded data removed]",
      "text/plain": [
       "<Figure size 432x288 with 1 Axes>"
      ]
     },
     "metadata": {
      "needs_background": "light"
     },
     "output_type": "display_data"
    }
   ],
   "source": [
    "ind_means_unstacked['w_inv'].loc[:,['1','6']].dropna().plot();"
   ]
  },
  {
   "cell_type": "markdown",
   "metadata": {},
   "source": [
    "To test yourself, see if you can tell why the line below produces the same result:"
   ]
  },
  {
   "cell_type": "code",
   "execution_count": 24,
   "metadata": {},
   "outputs": [
    {
     "data": {
      "image/png": "[encoded data removed]",
      "text/plain": [
       "<Figure size 432x288 with 1 Axes>"
      ]
     },
     "metadata": {
      "needs_background": "light"
     },
     "output_type": "display_data"
    }
   ],
   "source": [
    "ind_means_unstacked.loc[:, [('w_inv','1'), ('w_inv','6')]].dropna().plot();"
   ]
  },
  {
   "cell_type": "markdown",
   "metadata": {},
   "source": [
    "**Challange**:\n",
    "\n",
    "Create a similar plot to the one above, but this time for profitability (roa). Also, this time, place each sector (1 and 6) in a separate subplot. "
   ]
  },
  {
   "cell_type": "code",
   "execution_count": 25,
   "metadata": {},
   "outputs": [
    {
     "data": {
      "image/png": "[encoded data removed]",
      "text/plain": [
       "<Figure size 432x288 with 2 Axes>"
      ]
     },
     "metadata": {
      "needs_background": "light"
     },
     "output_type": "display_data"
    }
   ],
   "source": [
    "ind_means_unstacked['w_roa'].loc[:,['1','6']].dropna().plot(subplots=True);"
   ]
  },
  {
   "cell_type": "markdown",
   "metadata": {},
   "source": [
    "# Advanced \"binning\" example \n",
    "\n",
    "In many cases, our analysis requires us to split our sample in bins (groups) based on how firms rank in terms of one specific variable. Then some analysis is performed separately for each bin. \n",
    "\n",
    "To showcase this type of subsample analysis, in the examples below, we analyze if the evolution of cash holdings over time looks different for firms with different levels of profitability.\n",
    "\n",
    "To do this, we need to define what we mean by \"different levels of profitability\". One approach could be to use specific values of profitability: e.g. put all firms with ROA larger than 20\\% in a \"high profitability\" bin, etc. However, these levels would be a bit arbitrary (why 20\\% and not 25\\%). \n",
    "\n",
    "Instead, a more common approach is to simply split firms into a number of equaly sized bins (same number of firms in each bin). For example, below, we split firms into 5 equaly-sized \"bins\" based on how their profitability ranks among the rest of profitability data (5 equaly-size groups are often called \"quintiles\", 4 = \"quartiles\", 3 = \"terciles, 10 = \"deciles\")"
   ]
  },
  {
   "cell_type": "markdown",
   "metadata": {},
   "source": [
    "First, let's look again at how average cash-holdings evolve over time, when we use the full cross-section:"
   ]
  },
  {
   "cell_type": "code",
   "execution_count": 26,
   "metadata": {},
   "outputs": [
    {
     "data": {
      "image/png": "[encoded data removed]",
      "text/plain": [
       "<Figure size 432x288 with 1 Axes>"
      ]
     },
     "metadata": {
      "needs_background": "light"
     },
     "output_type": "display_data"
    }
   ],
   "source": [
    "comp.groupby('year')['w_cash'].mean().plot();"
   ]
  },
  {
   "cell_type": "markdown",
   "metadata": {},
   "source": [
    "Now we can use the ``.qcut()`` function to create the 5 profitability bins.\n",
    "\n",
    "Syntax:\n",
    "```python\n",
    "pandas.qcut(x, q, labels=None, retbins=False, precision=3, duplicates='raise')\n",
    "```"
   ]
  },
  {
   "cell_type": "code",
   "execution_count": 27,
   "metadata": {},
   "outputs": [
    {
     "data": {
      "text/html": [
       "<div>\n",
       "<style scoped>\n",
       "    .dataframe tbody tr th:only-of-type {\n",
       "        vertical-align: middle;\n",
       "    }\n",
       "\n",
       "    .dataframe tbody tr th {\n",
       "        vertical-align: top;\n",
       "    }\n",
       "\n",
       "    .dataframe thead th {\n",
       "        text-align: right;\n",
       "    }\n",
       "</style>\n",
       "<table border=\"1\" class=\"dataframe\">\n",
       "  <thead>\n",
       "    <tr style=\"text-align: right;\">\n",
       "      <th></th>\n",
       "      <th>roa</th>\n",
       "      <th>roa_quintile</th>\n",
       "    </tr>\n",
       "  </thead>\n",
       "  <tbody>\n",
       "    <tr>\n",
       "      <th>188730</th>\n",
       "      <td>-0.345154</td>\n",
       "      <td>1</td>\n",
       "    </tr>\n",
       "    <tr>\n",
       "      <th>188550</th>\n",
       "      <td>0.054648</td>\n",
       "      <td>4</td>\n",
       "    </tr>\n",
       "    <tr>\n",
       "      <th>188566</th>\n",
       "      <td>0.026506</td>\n",
       "      <td>3</td>\n",
       "    </tr>\n",
       "    <tr>\n",
       "      <th>188567</th>\n",
       "      <td>0.046187</td>\n",
       "      <td>4</td>\n",
       "    </tr>\n",
       "    <tr>\n",
       "      <th>188568</th>\n",
       "      <td>0.065069</td>\n",
       "      <td>4</td>\n",
       "    </tr>\n",
       "    <tr>\n",
       "      <th>...</th>\n",
       "      <td>...</td>\n",
       "      <td>...</td>\n",
       "    </tr>\n",
       "    <tr>\n",
       "      <th>493016</th>\n",
       "      <td>-0.029779</td>\n",
       "      <td>2</td>\n",
       "    </tr>\n",
       "    <tr>\n",
       "      <th>493017</th>\n",
       "      <td>-0.068448</td>\n",
       "      <td>2</td>\n",
       "    </tr>\n",
       "    <tr>\n",
       "      <th>493020</th>\n",
       "      <td>-0.032821</td>\n",
       "      <td>2</td>\n",
       "    </tr>\n",
       "    <tr>\n",
       "      <th>493021</th>\n",
       "      <td>-0.025125</td>\n",
       "      <td>2</td>\n",
       "    </tr>\n",
       "    <tr>\n",
       "      <th>493024</th>\n",
       "      <td>0.013826</td>\n",
       "      <td>3</td>\n",
       "    </tr>\n",
       "  </tbody>\n",
       "</table>\n",
       "<p>237017 rows × 2 columns</p>\n",
       "</div>"
      ],
      "text/plain": [
       "             roa roa_quintile\n",
       "188730 -0.345154            1\n",
       "188550  0.054648            4\n",
       "188566  0.026506            3\n",
       "188567  0.046187            4\n",
       "188568  0.065069            4\n",
       "...          ...          ...\n",
       "493016 -0.029779            2\n",
       "493017 -0.068448            2\n",
       "493020 -0.032821            2\n",
       "493021 -0.025125            2\n",
       "493024  0.013826            3\n",
       "\n",
       "[237017 rows x 2 columns]"
      ]
     },
     "execution_count": 27,
     "metadata": {},
     "output_type": "execute_result"
    }
   ],
   "source": [
    "comp['roa_quintile'] = pd.qcut(comp['roa'], q = 5, labels = range(1,6))\n",
    "comp[['roa', 'roa_quintile']]"
   ]
  },
  {
   "cell_type": "markdown",
   "metadata": {},
   "source": [
    "And check that these are \"equally-sized bins\":"
   ]
  },
  {
   "cell_type": "code",
   "execution_count": 28,
   "metadata": {},
   "outputs": [
    {
     "data": {
      "text/plain": [
       "1    47295\n",
       "5    47295\n",
       "2    47294\n",
       "3    47294\n",
       "4    47294\n",
       "Name: roa_quintile, dtype: int64"
      ]
     },
     "execution_count": 28,
     "metadata": {},
     "output_type": "execute_result"
    }
   ],
   "source": [
    "comp['roa_quintile'].value_counts()"
   ]
  },
  {
   "cell_type": "markdown",
   "metadata": {},
   "source": [
    "Now take a look at the trends in cash holdings, separately, for firm in different ROA bins:"
   ]
  },
  {
   "cell_type": "code",
   "execution_count": 29,
   "metadata": {},
   "outputs": [
    {
     "data": {
      "text/plain": [
       "year  roa_quintile\n",
       "1980  1               0.141184\n",
       "      2               0.123049\n",
       "      3               0.076496\n",
       "      4               0.073829\n",
       "      5               0.123347\n",
       "                        ...   \n",
       "2020  1               0.476157\n",
       "      2               0.158032\n",
       "      3               0.115881\n",
       "      4               0.156380\n",
       "      5               0.248309\n",
       "Name: w_cash, Length: 205, dtype: float64"
      ]
     },
     "execution_count": 29,
     "metadata": {},
     "output_type": "execute_result"
    }
   ],
   "source": [
    "qmeans = comp.groupby(['year','roa_quintile'])['w_cash'].mean()\n",
    "qmeans"
   ]
  },
  {
   "cell_type": "code",
   "execution_count": 30,
   "metadata": {},
   "outputs": [
    {
     "data": {
      "image/png": "[encoded data removed]",
      "text/plain": [
       "<Figure size 432x288 with 1 Axes>"
      ]
     },
     "metadata": {
      "needs_background": "light"
     },
     "output_type": "display_data"
    }
   ],
   "source": [
    "qmeans.unstack('roa_quintile').plot();"
   ]
  },
  {
   "cell_type": "markdown",
   "metadata": {},
   "source": [
    "It looks like the strong positive trend in cash holdings is only there for firms with the lowest profitability."
   ]
  },
  {
   "cell_type": "markdown",
   "metadata": {},
   "source": [
    "## Multi-dimensional bins"
   ]
  },
  {
   "cell_type": "markdown",
   "metadata": {},
   "source": [
    "In the example below, we redo this analysis, but this time, to judge which firm goes into which ROA bin, we compare profitability levels only amongst firms in a given year (and we do this for all years).\n",
    "\n",
    "To do this, we need to use the ``.transform()`` function we introduced in the last lecture. We supply ``pd.qcut`` as a parameter to ``.transform()``.  "
   ]
  },
  {
   "cell_type": "code",
   "execution_count": 35,
   "metadata": {},
   "outputs": [],
   "source": [
    "def myq(x, myq=5, mylabels=range(1,6)):\n",
    "    return pd.qcut(x,q=myq,labels=mylabels)"
   ]
  },
  {
   "cell_type": "code",
   "execution_count": 36,
   "metadata": {},
   "outputs": [],
   "source": [
    "comp['roa_q2'] = comp.groupby('year')['roa'].transform(myq)"
   ]
  },
  {
   "cell_type": "code",
   "execution_count": 31,
   "metadata": {},
   "outputs": [],
   "source": [
    "comp['roa_q'] = comp.groupby('year')['roa'].transform(lambda x: pd.qcut(x, q=5, labels = range(1,6)))"
   ]
  },
  {
   "cell_type": "markdown",
   "metadata": {},
   "source": [
    "Note that the ``lambda x`` tells Python that, what follows after it (i.e. pd.qcut) should be seen as a function of x. So the line of code above splits the \"roa\" data in years, then, it takes the roa data each year, calls it \"x\" and then supplies it as an input to the ``pd.qcut()`` function. That function uses that roa information to split firms into quintiles (q=5) based on how their roa ranks amongst all other firms that year. These quintiles are given names 1 through 5 (labels = range(1,6)), and stored in a new column called \"roa_q\" inside the \"comp\" dataframe.  "
   ]
  },
  {
   "cell_type": "markdown",
   "metadata": {},
   "source": [
    "Let's take a look at these quintile, as well as the ones we created in the prior section, and the roa levels themselves: "
   ]
  },
  {
   "cell_type": "code",
   "execution_count": 37,
   "metadata": {},
   "outputs": [
    {
     "data": {
      "text/html": [
       "<div>\n",
       "<style scoped>\n",
       "    .dataframe tbody tr th:only-of-type {\n",
       "        vertical-align: middle;\n",
       "    }\n",
       "\n",
       "    .dataframe tbody tr th {\n",
       "        vertical-align: top;\n",
       "    }\n",
       "\n",
       "    .dataframe thead th {\n",
       "        text-align: right;\n",
       "    }\n",
       "</style>\n",
       "<table border=\"1\" class=\"dataframe\">\n",
       "  <thead>\n",
       "    <tr style=\"text-align: right;\">\n",
       "      <th></th>\n",
       "      <th>roa</th>\n",
       "      <th>roa_quintile</th>\n",
       "      <th>roa_q</th>\n",
       "      <th>roa_q2</th>\n",
       "    </tr>\n",
       "  </thead>\n",
       "  <tbody>\n",
       "    <tr>\n",
       "      <th>188730</th>\n",
       "      <td>-0.345154</td>\n",
       "      <td>1</td>\n",
       "      <td>1</td>\n",
       "      <td>1</td>\n",
       "    </tr>\n",
       "    <tr>\n",
       "      <th>188550</th>\n",
       "      <td>0.054648</td>\n",
       "      <td>4</td>\n",
       "      <td>4</td>\n",
       "      <td>4</td>\n",
       "    </tr>\n",
       "    <tr>\n",
       "      <th>188566</th>\n",
       "      <td>0.026506</td>\n",
       "      <td>3</td>\n",
       "      <td>3</td>\n",
       "      <td>3</td>\n",
       "    </tr>\n",
       "    <tr>\n",
       "      <th>188567</th>\n",
       "      <td>0.046187</td>\n",
       "      <td>4</td>\n",
       "      <td>4</td>\n",
       "      <td>4</td>\n",
       "    </tr>\n",
       "    <tr>\n",
       "      <th>188568</th>\n",
       "      <td>0.065069</td>\n",
       "      <td>4</td>\n",
       "      <td>4</td>\n",
       "      <td>4</td>\n",
       "    </tr>\n",
       "    <tr>\n",
       "      <th>...</th>\n",
       "      <td>...</td>\n",
       "      <td>...</td>\n",
       "      <td>...</td>\n",
       "      <td>...</td>\n",
       "    </tr>\n",
       "    <tr>\n",
       "      <th>493016</th>\n",
       "      <td>-0.029779</td>\n",
       "      <td>2</td>\n",
       "      <td>2</td>\n",
       "      <td>2</td>\n",
       "    </tr>\n",
       "    <tr>\n",
       "      <th>493017</th>\n",
       "      <td>-0.068448</td>\n",
       "      <td>2</td>\n",
       "      <td>2</td>\n",
       "      <td>2</td>\n",
       "    </tr>\n",
       "    <tr>\n",
       "      <th>493020</th>\n",
       "      <td>-0.032821</td>\n",
       "      <td>2</td>\n",
       "      <td>2</td>\n",
       "      <td>2</td>\n",
       "    </tr>\n",
       "    <tr>\n",
       "      <th>493021</th>\n",
       "      <td>-0.025125</td>\n",
       "      <td>2</td>\n",
       "      <td>2</td>\n",
       "      <td>2</td>\n",
       "    </tr>\n",
       "    <tr>\n",
       "      <th>493024</th>\n",
       "      <td>0.013826</td>\n",
       "      <td>3</td>\n",
       "      <td>4</td>\n",
       "      <td>4</td>\n",
       "    </tr>\n",
       "  </tbody>\n",
       "</table>\n",
       "<p>237017 rows × 4 columns</p>\n",
       "</div>"
      ],
      "text/plain": [
       "             roa roa_quintile roa_q roa_q2\n",
       "188730 -0.345154            1     1      1\n",
       "188550  0.054648            4     4      4\n",
       "188566  0.026506            3     3      3\n",
       "188567  0.046187            4     4      4\n",
       "188568  0.065069            4     4      4\n",
       "...          ...          ...   ...    ...\n",
       "493016 -0.029779            2     2      2\n",
       "493017 -0.068448            2     2      2\n",
       "493020 -0.032821            2     2      2\n",
       "493021 -0.025125            2     2      2\n",
       "493024  0.013826            3     4      4\n",
       "\n",
       "[237017 rows x 4 columns]"
      ]
     },
     "execution_count": 37,
     "metadata": {},
     "output_type": "execute_result"
    }
   ],
   "source": [
    "comp[['roa','roa_quintile','roa_q','roa_q2']]"
   ]
  },
  {
   "cell_type": "code",
   "execution_count": 38,
   "metadata": {},
   "outputs": [
    {
     "data": {
      "text/plain": [
       "1    47310\n",
       "5    47301\n",
       "2    47289\n",
       "4    47289\n",
       "3    47283\n",
       "Name: roa_q, dtype: int64"
      ]
     },
     "execution_count": 38,
     "metadata": {},
     "output_type": "execute_result"
    }
   ],
   "source": [
    "comp['roa_q'].value_counts()"
   ]
  },
  {
   "cell_type": "markdown",
   "metadata": {},
   "source": [
    "Now we recalculate cash holding trends separately for each ROA bin, using these new bins:"
   ]
  },
  {
   "cell_type": "code",
   "execution_count": 34,
   "metadata": {
    "scrolled": true
   },
   "outputs": [
    {
     "data": {
      "image/png": "[encoded data removed]",
      "text/plain": [
       "<Figure size 432x288 with 1 Axes>"
      ]
     },
     "metadata": {
      "needs_background": "light"
     },
     "output_type": "display_data"
    }
   ],
   "source": [
    "comp.groupby(['year','roa_q'])['w_cash'].mean().unstack('roa_q').plot();"
   ]
  },
  {
   "cell_type": "markdown",
   "metadata": {},
   "source": [
    "This looks very similar to what we found in the prior section: the result that \"firms seem to be holding a lot more cash now\" holds only for firms with the lowest profitability. What do you think could account for these findings? "
   ]
  }
 ],
 "metadata": {
  "kernelspec": {
   "display_name": "Python 3 (ipykernel)",
   "language": "python",
   "name": "python3"
  },
  "language_info": {
   "codemirror_mode": {
    "name": "ipython",
    "version": 3
   },
   "file_extension": ".py",
   "mimetype": "text/x-python",
   "name": "python",
   "nbconvert_exporter": "python",
   "pygments_lexer": "ipython3",
   "version": "3.9.12"
  },
  "toc": {
   "base_numbering": 1,
   "nav_menu": {},
   "number_sections": true,
   "sideBar": true,
   "skip_h1_title": false,
   "title_cell": "Table of Contents",
   "title_sidebar": "Contents",
   "toc_cell": true,
   "toc_position": {},
   "toc_section_display": true,
   "toc_window_display": false
  }
 },
 "nbformat": 4,
 "nbformat_minor": 4
}
